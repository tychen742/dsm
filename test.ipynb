{
 "cells": [
  {
   "cell_type": "code",
   "execution_count": 1,
   "id": "607565fd-ca95-4d58-8340-688cfc89e966",
   "metadata": {},
   "outputs": [
    {
     "name": "stdout",
     "output_type": "stream",
     "text": [
      "Collecting nbclassic\n",
      "  Downloading nbclassic-1.3.1-py3-none-any.whl.metadata (5.5 kB)\n",
      "Requirement already satisfied: ipykernel in ./.venv/lib/python3.12/site-packages (from nbclassic) (6.29.5)\n",
      "Collecting ipython-genutils (from nbclassic)\n",
      "  Downloading ipython_genutils-0.2.0-py2.py3-none-any.whl.metadata (755 bytes)\n",
      "Requirement already satisfied: nest-asyncio>=1.5 in ./.venv/lib/python3.12/site-packages (from nbclassic) (1.6.0)\n",
      "Requirement already satisfied: notebook-shim>=0.2.3 in ./.venv/lib/python3.12/site-packages (from nbclassic) (0.2.4)\n",
      "Requirement already satisfied: jupyter-server<3,>=1.8 in ./.venv/lib/python3.12/site-packages (from notebook-shim>=0.2.3->nbclassic) (2.15.0)\n",
      "Requirement already satisfied: appnope in ./.venv/lib/python3.12/site-packages (from ipykernel->nbclassic) (0.1.4)\n",
      "Requirement already satisfied: comm>=0.1.1 in ./.venv/lib/python3.12/site-packages (from ipykernel->nbclassic) (0.2.2)\n",
      "Requirement already satisfied: debugpy>=1.6.5 in ./.venv/lib/python3.12/site-packages (from ipykernel->nbclassic) (1.8.12)\n",
      "Requirement already satisfied: ipython>=7.23.1 in ./.venv/lib/python3.12/site-packages (from ipykernel->nbclassic) (8.32.0)\n",
      "Requirement already satisfied: jupyter-client>=6.1.12 in ./.venv/lib/python3.12/site-packages (from ipykernel->nbclassic) (8.6.3)\n",
      "Requirement already satisfied: jupyter-core!=5.0.*,>=4.12 in ./.venv/lib/python3.12/site-packages (from ipykernel->nbclassic) (5.7.2)\n",
      "Requirement already satisfied: matplotlib-inline>=0.1 in ./.venv/lib/python3.12/site-packages (from ipykernel->nbclassic) (0.1.7)\n",
      "Requirement already satisfied: packaging in ./.venv/lib/python3.12/site-packages (from ipykernel->nbclassic) (24.2)\n",
      "Requirement already satisfied: psutil in ./.venv/lib/python3.12/site-packages (from ipykernel->nbclassic) (6.1.1)\n",
      "Requirement already satisfied: pyzmq>=24 in ./.venv/lib/python3.12/site-packages (from ipykernel->nbclassic) (26.2.1)\n",
      "Requirement already satisfied: tornado>=6.1 in ./.venv/lib/python3.12/site-packages (from ipykernel->nbclassic) (6.4.2)\n",
      "Requirement already satisfied: traitlets>=5.4.0 in ./.venv/lib/python3.12/site-packages (from ipykernel->nbclassic) (5.14.3)\n",
      "Requirement already satisfied: decorator in ./.venv/lib/python3.12/site-packages (from ipython>=7.23.1->ipykernel->nbclassic) (5.1.1)\n",
      "Requirement already satisfied: jedi>=0.16 in ./.venv/lib/python3.12/site-packages (from ipython>=7.23.1->ipykernel->nbclassic) (0.19.2)\n",
      "Requirement already satisfied: pexpect>4.3 in ./.venv/lib/python3.12/site-packages (from ipython>=7.23.1->ipykernel->nbclassic) (4.9.0)\n",
      "Requirement already satisfied: prompt_toolkit<3.1.0,>=3.0.41 in ./.venv/lib/python3.12/site-packages (from ipython>=7.23.1->ipykernel->nbclassic) (3.0.50)\n",
      "Requirement already satisfied: pygments>=2.4.0 in ./.venv/lib/python3.12/site-packages (from ipython>=7.23.1->ipykernel->nbclassic) (2.19.1)\n",
      "Requirement already satisfied: stack_data in ./.venv/lib/python3.12/site-packages (from ipython>=7.23.1->ipykernel->nbclassic) (0.6.3)\n",
      "Requirement already satisfied: python-dateutil>=2.8.2 in ./.venv/lib/python3.12/site-packages (from jupyter-client>=6.1.12->ipykernel->nbclassic) (2.9.0.post0)\n",
      "Requirement already satisfied: platformdirs>=2.5 in ./.venv/lib/python3.12/site-packages (from jupyter-core!=5.0.*,>=4.12->ipykernel->nbclassic) (4.3.6)\n",
      "Requirement already satisfied: anyio>=3.1.0 in ./.venv/lib/python3.12/site-packages (from jupyter-server<3,>=1.8->notebook-shim>=0.2.3->nbclassic) (4.8.0)\n",
      "Requirement already satisfied: argon2-cffi>=21.1 in ./.venv/lib/python3.12/site-packages (from jupyter-server<3,>=1.8->notebook-shim>=0.2.3->nbclassic) (23.1.0)\n",
      "Requirement already satisfied: jinja2>=3.0.3 in ./.venv/lib/python3.12/site-packages (from jupyter-server<3,>=1.8->notebook-shim>=0.2.3->nbclassic) (3.1.5)\n",
      "Requirement already satisfied: jupyter-events>=0.11.0 in ./.venv/lib/python3.12/site-packages (from jupyter-server<3,>=1.8->notebook-shim>=0.2.3->nbclassic) (0.11.0)\n",
      "Requirement already satisfied: jupyter-server-terminals>=0.4.4 in ./.venv/lib/python3.12/site-packages (from jupyter-server<3,>=1.8->notebook-shim>=0.2.3->nbclassic) (0.5.3)\n",
      "Requirement already satisfied: nbconvert>=6.4.4 in ./.venv/lib/python3.12/site-packages (from jupyter-server<3,>=1.8->notebook-shim>=0.2.3->nbclassic) (7.16.6)\n",
      "Requirement already satisfied: nbformat>=5.3.0 in ./.venv/lib/python3.12/site-packages (from jupyter-server<3,>=1.8->notebook-shim>=0.2.3->nbclassic) (5.10.4)\n",
      "Requirement already satisfied: overrides>=5.0 in ./.venv/lib/python3.12/site-packages (from jupyter-server<3,>=1.8->notebook-shim>=0.2.3->nbclassic) (7.7.0)\n",
      "Requirement already satisfied: prometheus-client>=0.9 in ./.venv/lib/python3.12/site-packages (from jupyter-server<3,>=1.8->notebook-shim>=0.2.3->nbclassic) (0.21.1)\n",
      "Requirement already satisfied: send2trash>=1.8.2 in ./.venv/lib/python3.12/site-packages (from jupyter-server<3,>=1.8->notebook-shim>=0.2.3->nbclassic) (1.8.3)\n",
      "Requirement already satisfied: terminado>=0.8.3 in ./.venv/lib/python3.12/site-packages (from jupyter-server<3,>=1.8->notebook-shim>=0.2.3->nbclassic) (0.18.1)\n",
      "Requirement already satisfied: websocket-client>=1.7 in ./.venv/lib/python3.12/site-packages (from jupyter-server<3,>=1.8->notebook-shim>=0.2.3->nbclassic) (1.8.0)\n",
      "Requirement already satisfied: idna>=2.8 in ./.venv/lib/python3.12/site-packages (from anyio>=3.1.0->jupyter-server<3,>=1.8->notebook-shim>=0.2.3->nbclassic) (3.10)\n",
      "Requirement already satisfied: sniffio>=1.1 in ./.venv/lib/python3.12/site-packages (from anyio>=3.1.0->jupyter-server<3,>=1.8->notebook-shim>=0.2.3->nbclassic) (1.3.1)\n",
      "Requirement already satisfied: typing_extensions>=4.5 in ./.venv/lib/python3.12/site-packages (from anyio>=3.1.0->jupyter-server<3,>=1.8->notebook-shim>=0.2.3->nbclassic) (4.12.2)\n",
      "Requirement already satisfied: argon2-cffi-bindings in ./.venv/lib/python3.12/site-packages (from argon2-cffi>=21.1->jupyter-server<3,>=1.8->notebook-shim>=0.2.3->nbclassic) (21.2.0)\n",
      "Requirement already satisfied: parso<0.9.0,>=0.8.4 in ./.venv/lib/python3.12/site-packages (from jedi>=0.16->ipython>=7.23.1->ipykernel->nbclassic) (0.8.4)\n",
      "Requirement already satisfied: MarkupSafe>=2.0 in ./.venv/lib/python3.12/site-packages (from jinja2>=3.0.3->jupyter-server<3,>=1.8->notebook-shim>=0.2.3->nbclassic) (3.0.2)\n",
      "Requirement already satisfied: jsonschema>=4.18.0 in ./.venv/lib/python3.12/site-packages (from jsonschema[format-nongpl]>=4.18.0->jupyter-events>=0.11.0->jupyter-server<3,>=1.8->notebook-shim>=0.2.3->nbclassic) (4.23.0)\n",
      "Requirement already satisfied: python-json-logger>=2.0.4 in ./.venv/lib/python3.12/site-packages (from jupyter-events>=0.11.0->jupyter-server<3,>=1.8->notebook-shim>=0.2.3->nbclassic) (3.2.1)\n",
      "Requirement already satisfied: pyyaml>=5.3 in ./.venv/lib/python3.12/site-packages (from jupyter-events>=0.11.0->jupyter-server<3,>=1.8->notebook-shim>=0.2.3->nbclassic) (6.0.2)\n",
      "Requirement already satisfied: referencing in ./.venv/lib/python3.12/site-packages (from jupyter-events>=0.11.0->jupyter-server<3,>=1.8->notebook-shim>=0.2.3->nbclassic) (0.36.2)\n",
      "Requirement already satisfied: rfc3339-validator in ./.venv/lib/python3.12/site-packages (from jupyter-events>=0.11.0->jupyter-server<3,>=1.8->notebook-shim>=0.2.3->nbclassic) (0.1.4)\n",
      "Requirement already satisfied: rfc3986-validator>=0.1.1 in ./.venv/lib/python3.12/site-packages (from jupyter-events>=0.11.0->jupyter-server<3,>=1.8->notebook-shim>=0.2.3->nbclassic) (0.1.1)\n",
      "Requirement already satisfied: beautifulsoup4 in ./.venv/lib/python3.12/site-packages (from nbconvert>=6.4.4->jupyter-server<3,>=1.8->notebook-shim>=0.2.3->nbclassic) (4.12.3)\n",
      "Requirement already satisfied: bleach!=5.0.0 in ./.venv/lib/python3.12/site-packages (from bleach[css]!=5.0.0->nbconvert>=6.4.4->jupyter-server<3,>=1.8->notebook-shim>=0.2.3->nbclassic) (6.2.0)\n",
      "Requirement already satisfied: defusedxml in ./.venv/lib/python3.12/site-packages (from nbconvert>=6.4.4->jupyter-server<3,>=1.8->notebook-shim>=0.2.3->nbclassic) (0.7.1)\n",
      "Requirement already satisfied: jupyterlab-pygments in ./.venv/lib/python3.12/site-packages (from nbconvert>=6.4.4->jupyter-server<3,>=1.8->notebook-shim>=0.2.3->nbclassic) (0.3.0)\n",
      "Requirement already satisfied: mistune<4,>=2.0.3 in ./.venv/lib/python3.12/site-packages (from nbconvert>=6.4.4->jupyter-server<3,>=1.8->notebook-shim>=0.2.3->nbclassic) (3.1.1)\n",
      "Requirement already satisfied: nbclient>=0.5.0 in ./.venv/lib/python3.12/site-packages (from nbconvert>=6.4.4->jupyter-server<3,>=1.8->notebook-shim>=0.2.3->nbclassic) (0.10.2)\n",
      "Requirement already satisfied: pandocfilters>=1.4.1 in ./.venv/lib/python3.12/site-packages (from nbconvert>=6.4.4->jupyter-server<3,>=1.8->notebook-shim>=0.2.3->nbclassic) (1.5.1)\n",
      "Requirement already satisfied: fastjsonschema>=2.15 in ./.venv/lib/python3.12/site-packages (from nbformat>=5.3.0->jupyter-server<3,>=1.8->notebook-shim>=0.2.3->nbclassic) (2.21.1)\n",
      "Requirement already satisfied: ptyprocess>=0.5 in ./.venv/lib/python3.12/site-packages (from pexpect>4.3->ipython>=7.23.1->ipykernel->nbclassic) (0.7.0)\n",
      "Requirement already satisfied: wcwidth in ./.venv/lib/python3.12/site-packages (from prompt_toolkit<3.1.0,>=3.0.41->ipython>=7.23.1->ipykernel->nbclassic) (0.2.13)\n",
      "Requirement already satisfied: six>=1.5 in ./.venv/lib/python3.12/site-packages (from python-dateutil>=2.8.2->jupyter-client>=6.1.12->ipykernel->nbclassic) (1.17.0)\n",
      "Requirement already satisfied: executing>=1.2.0 in ./.venv/lib/python3.12/site-packages (from stack_data->ipython>=7.23.1->ipykernel->nbclassic) (2.2.0)\n",
      "Requirement already satisfied: asttokens>=2.1.0 in ./.venv/lib/python3.12/site-packages (from stack_data->ipython>=7.23.1->ipykernel->nbclassic) (3.0.0)\n",
      "Requirement already satisfied: pure-eval in ./.venv/lib/python3.12/site-packages (from stack_data->ipython>=7.23.1->ipykernel->nbclassic) (0.2.3)\n",
      "Requirement already satisfied: webencodings in ./.venv/lib/python3.12/site-packages (from bleach!=5.0.0->bleach[css]!=5.0.0->nbconvert>=6.4.4->jupyter-server<3,>=1.8->notebook-shim>=0.2.3->nbclassic) (0.5.1)\n",
      "Requirement already satisfied: tinycss2<1.5,>=1.1.0 in ./.venv/lib/python3.12/site-packages (from bleach[css]!=5.0.0->nbconvert>=6.4.4->jupyter-server<3,>=1.8->notebook-shim>=0.2.3->nbclassic) (1.4.0)\n",
      "Requirement already satisfied: attrs>=22.2.0 in ./.venv/lib/python3.12/site-packages (from jsonschema>=4.18.0->jsonschema[format-nongpl]>=4.18.0->jupyter-events>=0.11.0->jupyter-server<3,>=1.8->notebook-shim>=0.2.3->nbclassic) (25.1.0)\n",
      "Requirement already satisfied: jsonschema-specifications>=2023.03.6 in ./.venv/lib/python3.12/site-packages (from jsonschema>=4.18.0->jsonschema[format-nongpl]>=4.18.0->jupyter-events>=0.11.0->jupyter-server<3,>=1.8->notebook-shim>=0.2.3->nbclassic) (2024.10.1)\n",
      "Requirement already satisfied: rpds-py>=0.7.1 in ./.venv/lib/python3.12/site-packages (from jsonschema>=4.18.0->jsonschema[format-nongpl]>=4.18.0->jupyter-events>=0.11.0->jupyter-server<3,>=1.8->notebook-shim>=0.2.3->nbclassic) (0.22.3)\n",
      "Requirement already satisfied: fqdn in ./.venv/lib/python3.12/site-packages (from jsonschema[format-nongpl]>=4.18.0->jupyter-events>=0.11.0->jupyter-server<3,>=1.8->notebook-shim>=0.2.3->nbclassic) (1.5.1)\n",
      "Requirement already satisfied: isoduration in ./.venv/lib/python3.12/site-packages (from jsonschema[format-nongpl]>=4.18.0->jupyter-events>=0.11.0->jupyter-server<3,>=1.8->notebook-shim>=0.2.3->nbclassic) (20.11.0)\n",
      "Requirement already satisfied: jsonpointer>1.13 in ./.venv/lib/python3.12/site-packages (from jsonschema[format-nongpl]>=4.18.0->jupyter-events>=0.11.0->jupyter-server<3,>=1.8->notebook-shim>=0.2.3->nbclassic) (3.0.0)\n",
      "Requirement already satisfied: uri-template in ./.venv/lib/python3.12/site-packages (from jsonschema[format-nongpl]>=4.18.0->jupyter-events>=0.11.0->jupyter-server<3,>=1.8->notebook-shim>=0.2.3->nbclassic) (1.3.0)\n",
      "Requirement already satisfied: webcolors>=24.6.0 in ./.venv/lib/python3.12/site-packages (from jsonschema[format-nongpl]>=4.18.0->jupyter-events>=0.11.0->jupyter-server<3,>=1.8->notebook-shim>=0.2.3->nbclassic) (24.11.1)\n",
      "Requirement already satisfied: cffi>=1.0.1 in ./.venv/lib/python3.12/site-packages (from argon2-cffi-bindings->argon2-cffi>=21.1->jupyter-server<3,>=1.8->notebook-shim>=0.2.3->nbclassic) (1.17.1)\n",
      "Requirement already satisfied: soupsieve>1.2 in ./.venv/lib/python3.12/site-packages (from beautifulsoup4->nbconvert>=6.4.4->jupyter-server<3,>=1.8->notebook-shim>=0.2.3->nbclassic) (2.6)\n",
      "Requirement already satisfied: pycparser in ./.venv/lib/python3.12/site-packages (from cffi>=1.0.1->argon2-cffi-bindings->argon2-cffi>=21.1->jupyter-server<3,>=1.8->notebook-shim>=0.2.3->nbclassic) (2.22)\n",
      "Requirement already satisfied: arrow>=0.15.0 in ./.venv/lib/python3.12/site-packages (from isoduration->jsonschema[format-nongpl]>=4.18.0->jupyter-events>=0.11.0->jupyter-server<3,>=1.8->notebook-shim>=0.2.3->nbclassic) (1.3.0)\n",
      "Requirement already satisfied: types-python-dateutil>=2.8.10 in ./.venv/lib/python3.12/site-packages (from arrow>=0.15.0->isoduration->jsonschema[format-nongpl]>=4.18.0->jupyter-events>=0.11.0->jupyter-server<3,>=1.8->notebook-shim>=0.2.3->nbclassic) (2.9.0.20241206)\n",
      "Downloading nbclassic-1.3.1-py3-none-any.whl (26.2 MB)\n",
      "\u001b[2K   \u001b[90m━━━━━━━━━━━━━━━━━━━━━━━━━━━━━━━━━━━━━━━━\u001b[0m \u001b[32m26.2/26.2 MB\u001b[0m \u001b[31m1.4 MB/s\u001b[0m eta \u001b[36m0:00:00\u001b[0m00:01\u001b[0m00:01\u001b[0mm\n",
      "Using cached ipython_genutils-0.2.0-py2.py3-none-any.whl (26 kB)\n",
      "Installing collected packages: ipython-genutils, nbclassic\n",
      "Successfully installed ipython-genutils-0.2.0 nbclassic-1.3.1\n",
      "\n",
      "\u001b[1m[\u001b[0m\u001b[34;49mnotice\u001b[0m\u001b[1;39;49m]\u001b[0m\u001b[39;49m A new release of pip is available: \u001b[0m\u001b[31;49m24.3.1\u001b[0m\u001b[39;49m -> \u001b[0m\u001b[32;49m25.1.1\u001b[0m\n",
      "\u001b[1m[\u001b[0m\u001b[34;49mnotice\u001b[0m\u001b[1;39;49m]\u001b[0m\u001b[39;49m To update, run: \u001b[0m\u001b[32;49mpip install --upgrade pip\u001b[0m\n",
      "Note: you may need to restart the kernel to use updated packages.\n"
     ]
    }
   ],
   "source": [
    "%pip install nbclassic"
   ]
  },
  {
   "cell_type": "code",
   "execution_count": null,
   "id": "8400a1bc-aa05-4121-9b8e-c9280835b290",
   "metadata": {},
   "outputs": [],
   "source": [
    "path_data='./data'\n",
    "import os\n",
    "os.listdir(path_data)"
   ]
  },
  {
   "cell_type": "code",
   "execution_count": null,
   "id": "6d0cd345-f6d3-4bfa-b112-6884d9c37e44",
   "metadata": {},
   "outputs": [],
   "source": [
    "import numpy as np"
   ]
  },
  {
   "cell_type": "code",
   "execution_count": null,
   "id": "7422f04f-1788-4c95-bb27-44f26e884d0b",
   "metadata": {},
   "outputs": [],
   "source": [
    "# lst = [True, False, False]\n",
    "# sum(lst)"
   ]
  },
  {
   "cell_type": "code",
   "execution_count": null,
   "id": "478133f8-338b-4098-9fd1-45c4c0f11fbd",
   "metadata": {},
   "outputs": [],
   "source": [
    "np.arange(1, 5)"
   ]
  },
  {
   "cell_type": "code",
   "execution_count": null,
   "id": "3ceac188-0824-48e3-b2d6-a4cb16af23e4",
   "metadata": {},
   "outputs": [],
   "source": [
    "np.arange(1, 10, 2)"
   ]
  },
  {
   "cell_type": "code",
   "execution_count": null,
   "id": "f11a1e5b-2086-430c-9fda-8f31e3224fc8",
   "metadata": {},
   "outputs": [],
   "source": [
    "np.arange(5)"
   ]
  },
  {
   "cell_type": "code",
   "execution_count": null,
   "id": "b819c5a6-6c93-4296-9857-1cf57c81c596",
   "metadata": {},
   "outputs": [],
   "source": [
    "pow(2, 3)"
   ]
  },
  {
   "cell_type": "code",
   "execution_count": null,
   "id": "393f1d42-ee33-4c93-9cbf-3de22543b3f9",
   "metadata": {},
   "outputs": [],
   "source": [
    "# in Python, without numpy, you use math.pow()\n",
    "import math\n",
    "math.pow(2, 3)"
   ]
  },
  {
   "cell_type": "code",
   "execution_count": null,
   "id": "6d9cc6e4-52c7-4710-9b36-878348d02f51",
   "metadata": {},
   "outputs": [],
   "source": [
    "from datascience import *"
   ]
  },
  {
   "cell_type": "code",
   "execution_count": null,
   "id": "f0d9b37a-268d-4ea7-a97b-5905b8c66e82",
   "metadata": {},
   "outputs": [],
   "source": [
    "# Table.read_table(\"data.csv\").show(5)\n",
    "flights = Table.read_table('./data.csv')\n",
    "flights.show(3)"
   ]
  },
  {
   "cell_type": "code",
   "execution_count": null,
   "id": "af92c9ea-8798-41b0-a1a8-888c442384e5",
   "metadata": {},
   "outputs": [],
   "source": [
    "dates = flights.column('Date')\n",
    "dates"
   ]
  },
  {
   "cell_type": "code",
   "execution_count": null,
   "id": "93a0e3b9-b13b-4f6f-96d4-8af7e506c47d",
   "metadata": {},
   "outputs": [],
   "source": [
    "dates.item(0)"
   ]
  },
  {
   "cell_type": "code",
   "execution_count": null,
   "id": "11f51bd8-f40b-468d-b565-aabb061395c4",
   "metadata": {},
   "outputs": [],
   "source": [
    "destination = flights.column(2)\n",
    "destination"
   ]
  },
  {
   "cell_type": "code",
   "execution_count": null,
   "id": "2ca7a878-9868-4cb1-b214-65961e13be7e",
   "metadata": {},
   "outputs": [],
   "source": [
    "destination.item(0)"
   ]
  },
  {
   "cell_type": "code",
   "execution_count": null,
   "id": "af54e3c1-092f-41fd-94c4-50f97f4136c4",
   "metadata": {},
   "outputs": [],
   "source": [
    "destination[0]"
   ]
  },
  {
   "cell_type": "code",
   "execution_count": null,
   "id": "cfdfdd30-c7ba-438c-b45b-12bf2d514e30",
   "metadata": {},
   "outputs": [],
   "source": [
    "import numpy as np\n",
    "np.mean(flights.column('Delay'))"
   ]
  },
  {
   "cell_type": "code",
   "execution_count": null,
   "id": "e5a4e2bb-c1e8-4847-9426-dad5dab774e8",
   "metadata": {},
   "outputs": [],
   "source": [
    "np.max(flights.column('Delay'))"
   ]
  },
  {
   "cell_type": "code",
   "execution_count": null,
   "id": "22cbe22a-5377-4eeb-a92d-51ab7c23fdc6",
   "metadata": {},
   "outputs": [],
   "source": [
    "delay = flights.column('Delay')\n",
    "delay.max()"
   ]
  },
  {
   "cell_type": "code",
   "execution_count": null,
   "id": "733517fc-be18-4334-81bb-3056f756d7b3",
   "metadata": {},
   "outputs": [],
   "source": [
    "np.max(delay)"
   ]
  },
  {
   "cell_type": "code",
   "execution_count": null,
   "id": "b22d494b-3dbd-4d66-9698-3477dc058480",
   "metadata": {},
   "outputs": [],
   "source": [
    "test = flights.drop('Delay')[0]"
   ]
  },
  {
   "cell_type": "code",
   "execution_count": null,
   "id": "ef704916-9e2a-4364-b55a-cc5a42d98326",
   "metadata": {},
   "outputs": [],
   "source": [
    "test\n"
   ]
  },
  {
   "cell_type": "code",
   "execution_count": null,
   "id": "4b83a309-9e72-4f31-ac6a-894e9d345aea",
   "metadata": {},
   "outputs": [],
   "source": [
    "data='./data'"
   ]
  },
  {
   "cell_type": "code",
   "execution_count": null,
   "id": "4102902c-7903-49d3-a7c8-15738e5fb140",
   "metadata": {},
   "outputs": [],
   "source": [
    "Table.read_table('./data/nba_salaries.csv')\n"
   ]
  },
  {
   "cell_type": "code",
   "execution_count": null,
   "id": "cf0f657c-abad-48ce-abeb-27410a7064c7",
   "metadata": {},
   "outputs": [],
   "source": [
    "nba = Table.read_table('./data/nba_salaries.csv')\n",
    "nba.where('POSITION', 'PG')"
   ]
  },
  {
   "cell_type": "code",
   "execution_count": null,
   "id": "ea70eb75-f25e-4c89-8d1a-89c0853f6967",
   "metadata": {},
   "outputs": [],
   "source": [
    "import numpy as np"
   ]
  },
  {
   "cell_type": "code",
   "execution_count": null,
   "id": "caa557ec-e923-4be3-9655-ec0af0e74003",
   "metadata": {},
   "outputs": [],
   "source": [
    "from datascience import *\n",
    "make_array(1, 2, 3 ,4 ,5)"
   ]
  },
  {
   "cell_type": "code",
   "execution_count": null,
   "id": "c0966bb4-f589-40cd-9f16-4fd6f6e4e2fd",
   "metadata": {},
   "outputs": [],
   "source": [
    "arr = make_array(1,2,3,4,5)\n",
    "type(arr)"
   ]
  },
  {
   "cell_type": "code",
   "execution_count": null,
   "id": "0e4aedac-c8a2-4e84-8f2c-8b1b27c6228f",
   "metadata": {},
   "outputs": [],
   "source": [
    "nba = './data/nba_salaries.csv'"
   ]
  },
  {
   "cell_type": "code",
   "execution_count": null,
   "id": "362bbaf3-7ba4-46ae-b9af-c70d4cbd7ddf",
   "metadata": {},
   "outputs": [],
   "source": [
    "nba = Table.read_table(nba)"
   ]
  },
  {
   "cell_type": "code",
   "execution_count": null,
   "id": "c2c2e160-d7df-4944-9fa1-8361f9e26031",
   "metadata": {},
   "outputs": [],
   "source": [
    "nba"
   ]
  },
  {
   "cell_type": "code",
   "execution_count": null,
   "id": "be707943-9109-451c-a2a0-f9e245da4e9d",
   "metadata": {},
   "outputs": [],
   "source": [
    "\n",
    "nba.where(\"'15-'16 SALARY\", are.equal_to(8))"
   ]
  },
  {
   "cell_type": "code",
   "execution_count": null,
   "id": "ea2e31af-7b0d-4e7b-8027-45ea2c0d7c3a",
   "metadata": {},
   "outputs": [],
   "source": [
    "from datascience import *\n"
   ]
  },
  {
   "cell_type": "code",
   "execution_count": null,
   "id": "7ae86c0d-e536-408a-a785-3fecd2cc4822",
   "metadata": {},
   "outputs": [],
   "source": [
    "odd_array = make_array(1, 3, 5, 7.00010001)\n",
    "# odd_array"
   ]
  },
  {
   "cell_type": "code",
   "execution_count": null,
   "id": "6ab1514f-c27e-4aff-8784-38a50fe7b64b",
   "metadata": {},
   "outputs": [],
   "source": [
    "import numpy as np\n",
    "even_array = np.arange(2, 10, 2)\n",
    "even_array"
   ]
  },
  {
   "cell_type": "code",
   "execution_count": null,
   "id": "d8a6e300-2f28-4b1d-8411-6afeaa2c1d5a",
   "metadata": {},
   "outputs": [],
   "source": [
    "odd_array + even_array"
   ]
  },
  {
   "cell_type": "code",
   "execution_count": null,
   "id": "835f8a13-f362-46f7-ae73-be367c197d04",
   "metadata": {},
   "outputs": [],
   "source": [
    "odd_array[0]"
   ]
  },
  {
   "cell_type": "code",
   "execution_count": null,
   "id": "98258c14-d848-4f46-ab85-aa7d7b72b78b",
   "metadata": {},
   "outputs": [],
   "source": [
    "odd_array[3]"
   ]
  },
  {
   "cell_type": "code",
   "execution_count": null,
   "id": "58a872ef-3eda-459e-8ee6-10a5b958570f",
   "metadata": {},
   "outputs": [],
   "source": [
    "odd_array.item(3)"
   ]
  },
  {
   "cell_type": "code",
   "execution_count": null,
   "id": "bff88fc2-8c2c-4d69-98d5-34720eae5729",
   "metadata": {},
   "outputs": [],
   "source": [
    "lst = [1, 3, 5]"
   ]
  },
  {
   "cell_type": "code",
   "execution_count": null,
   "id": "a11085bb-4533-449d-ba60-fe215e3cb9a3",
   "metadata": {},
   "outputs": [],
   "source": [
    "type(lst)"
   ]
  },
  {
   "cell_type": "code",
   "execution_count": null,
   "id": "909db65f-a62c-4ba6-97a8-858a94dc7025",
   "metadata": {},
   "outputs": [],
   "source": [
    "type(np.arange(10))"
   ]
  },
  {
   "cell_type": "code",
   "execution_count": null,
   "id": "c891458c-e70f-4fe3-aa3e-ae20b07d1f54",
   "metadata": {},
   "outputs": [],
   "source": []
  },
  {
   "cell_type": "code",
   "execution_count": null,
   "id": "0ef1b3ee-cd9a-44cc-a290-451dc3506928",
   "metadata": {},
   "outputs": [],
   "source": [
    "teams = Table().with_columns(\n",
    "    'name', make_array('Celtics', 'Lakers', 'Nets', 'Pistons', 'Rockets') ,\n",
    "    'division', ['Atlantic', 'Pacific', 'Atlantic', 'Central', 'Southwest'],\n",
    "    'conference', ('Eastern', 'Western', 'Eastern' ,'Eastern', 'Western'),\n",
    "    'arena', np.array([18642, 18997, 17732, 20491, 18055])\n",
    ")\n",
    "teams"
   ]
  },
  {
   "cell_type": "code",
   "execution_count": null,
   "id": "b0e87628-4aa5-45de-9175-55ccb16442dc",
   "metadata": {},
   "outputs": [],
   "source": [
    "players = Table().with_columns(\n",
    " \"name\", [\"Stephen Curry\", \"Dwight Howard\", \"Zion Williamson\", 'TY Chen', 'TY Chen', 'TY Chen'],\n",
    "    \"2019\", [37457154, 5337000, 0, 200, 300, 400],\n",
    "    \"2020\", [40231758, 1620564, 9757440, 111, 222, 1],\n",
    "    \"19team\", [\"Warriors\", \"Wizards\", \"No Team\", 'Nets', 'Nets', 'Lakers'],\n",
    "    \"20team\", [\"Warriors\", \"Lakers\", \"Pelicans\", 'Nets', 'Nets', 'Lakers']\n",
    ")\n",
    "players"
   ]
  },
  {
   "cell_type": "code",
   "execution_count": null,
   "id": "0162eb57-4399-40e5-8c0f-913b1029f830",
   "metadata": {},
   "outputs": [],
   "source": [
    "import random\n",
    "# random.sample(players.column('name'), 5)\n",
    "random.sample(list(players.column('2019')), 3)"
   ]
  },
  {
   "cell_type": "code",
   "execution_count": null,
   "id": "b2268e9d-58f5-4f57-a289-708a41ad565a",
   "metadata": {},
   "outputs": [],
   "source": [
    "players.where('2019', 200)"
   ]
  },
  {
   "cell_type": "code",
   "execution_count": null,
   "id": "75736357-897c-4c29-9a1c-f44726b92d80",
   "metadata": {},
   "outputs": [],
   "source": [
    "teams.sort('arena', descending=False).column('name').item(0)"
   ]
  },
  {
   "cell_type": "code",
   "execution_count": null,
   "id": "d4abf61b-2b33-4bd1-8216-a42c8fa35517",
   "metadata": {},
   "outputs": [],
   "source": [
    "teams.where('conference', are.equal_to('Eastern')).group('division')"
   ]
  },
  {
   "cell_type": "code",
   "execution_count": null,
   "id": "673dd932-c577-450c-a202-8dbb04322c75",
   "metadata": {},
   "outputs": [],
   "source": [
    "# teams.join('name', players, '20team').select('division', '2020').group('division', sum)"
   ]
  },
  {
   "cell_type": "code",
   "execution_count": null,
   "id": "151ca8e3-2d56-462b-92df-decbe3a8bc77",
   "metadata": {},
   "outputs": [],
   "source": [
    "# %magic"
   ]
  },
  {
   "cell_type": "code",
   "execution_count": null,
   "id": "088daf5f-e440-4a93-83c4-2ac6701fc475",
   "metadata": {},
   "outputs": [],
   "source": [
    "# %hist"
   ]
  },
  {
   "cell_type": "code",
   "execution_count": null,
   "id": "3e679211-4d6d-4a55-b662-fc1376527457",
   "metadata": {},
   "outputs": [],
   "source": [
    "# %edit"
   ]
  },
  {
   "cell_type": "code",
   "execution_count": null,
   "id": "fc955059-a07d-41d2-a58b-89c67f08a1a3",
   "metadata": {},
   "outputs": [],
   "source": [
    "# %env"
   ]
  },
  {
   "cell_type": "code",
   "execution_count": null,
   "id": "c5c0c955-d48e-4f27-96cc-f9aac8fface1",
   "metadata": {},
   "outputs": [],
   "source": [
    "# %clear"
   ]
  },
  {
   "cell_type": "code",
   "execution_count": null,
   "id": "fce2abcc-c499-4cab-a891-c4b5bcf1a6d9",
   "metadata": {},
   "outputs": [],
   "source": [
    "# %dirs"
   ]
  },
  {
   "cell_type": "code",
   "execution_count": null,
   "id": "69d764a6-eb96-4fec-a832-be9b315d829c",
   "metadata": {},
   "outputs": [],
   "source": [
    "np.array( ( 1, 2, 3 ) )"
   ]
  },
  {
   "cell_type": "code",
   "execution_count": null,
   "id": "2d0b9d0b-a6df-4eba-a434-957379417f83",
   "metadata": {},
   "outputs": [],
   "source": [
    "make_array(1, 2, 3 ) "
   ]
  },
  {
   "cell_type": "code",
   "execution_count": null,
   "id": "c2d2642c-adc9-415b-aaaf-c6c87cf713b1",
   "metadata": {},
   "outputs": [],
   "source": [
    "# '5' + 5"
   ]
  },
  {
   "cell_type": "code",
   "execution_count": null,
   "id": "b3b5cc56-6903-44e7-a4e8-92c8eba2f57f",
   "metadata": {},
   "outputs": [],
   "source": [
    "marbles = Table.read_table('marbles.csv')"
   ]
  },
  {
   "cell_type": "code",
   "execution_count": null,
   "id": "aa8f47d7-d6c9-48eb-8df3-164a933231d1",
   "metadata": {},
   "outputs": [],
   "source": [
    "marbles.show(3)"
   ]
  },
  {
   "cell_type": "code",
   "execution_count": null,
   "id": "0da7a13b-9b75-4bcb-8928-3d79d3373d56",
   "metadata": {},
   "outputs": [],
   "source": [
    "marbles.where(\"size\", 'large')"
   ]
  },
  {
   "cell_type": "code",
   "execution_count": null,
   "id": "e02dd398-1f28-4157-869f-88f2df3caeff",
   "metadata": {},
   "outputs": [],
   "source": [
    "marbles"
   ]
  },
  {
   "cell_type": "code",
   "execution_count": null,
   "id": "e410bfdf-4d8f-4e11-803a-c07c2479724e",
   "metadata": {},
   "outputs": [],
   "source": [
    "# 4 + 'a'"
   ]
  },
  {
   "cell_type": "code",
   "execution_count": null,
   "id": "d90e541e-1aa3-428c-b350-e5b37b16022c",
   "metadata": {},
   "outputs": [],
   "source": [
    "teams"
   ]
  },
  {
   "cell_type": "code",
   "execution_count": null,
   "id": "73cecb1b-cf50-4f5c-9631-e3e45bff1348",
   "metadata": {},
   "outputs": [],
   "source": [
    "teams.rows"
   ]
  },
  {
   "cell_type": "code",
   "execution_count": null,
   "id": "a5ca611c-8ed0-42c9-a347-7f610c9439a6",
   "metadata": {},
   "outputs": [],
   "source": [
    "teams.columns"
   ]
  },
  {
   "cell_type": "code",
   "execution_count": null,
   "id": "49abecf6-3f65-4edd-866e-0878e64d9232",
   "metadata": {},
   "outputs": [],
   "source": [
    "teams.labels"
   ]
  },
  {
   "cell_type": "code",
   "execution_count": null,
   "id": "161cd9b1-080b-4f64-a8e3-fca4dff6d041",
   "metadata": {},
   "outputs": [],
   "source": [
    "# abc"
   ]
  },
  {
   "cell_type": "code",
   "execution_count": null,
   "id": "0019f4f6-17bc-452a-bc5b-9b836bcbd059",
   "metadata": {},
   "outputs": [],
   "source": [
    "type(make_array(1, 2, 3))"
   ]
  },
  {
   "cell_type": "code",
   "execution_count": null,
   "id": "549878a6-a0eb-43ac-abdb-bcfc57da06ef",
   "metadata": {},
   "outputs": [],
   "source": [
    "type(np.array([1, 2, 3]))"
   ]
  },
  {
   "cell_type": "code",
   "execution_count": null,
   "id": "4cfc9bfb-3090-4555-90e5-323cca3a7b8a",
   "metadata": {},
   "outputs": [],
   "source": [
    "die = Table().with_column(\n",
    "    'Face', np.arange(1, 7, 1)\n",
    "                    )\n",
    "die"
   ]
  },
  {
   "cell_type": "code",
   "execution_count": null,
   "id": "80679156-755c-44c5-bebb-eccdf3caa723",
   "metadata": {},
   "outputs": [],
   "source": [
    "actors = Table.read_table('data/actors.csv')\n",
    "actors"
   ]
  },
  {
   "cell_type": "code",
   "execution_count": null,
   "id": "447594fb-c617-426d-9ed6-ca60c67c246a",
   "metadata": {},
   "outputs": [],
   "source": [
    "actors.sample(5, with_replacement=False).column('Actor')"
   ]
  },
  {
   "cell_type": "code",
   "execution_count": null,
   "id": "9d1651ca-576d-48a6-993c-549c84e1b214",
   "metadata": {},
   "outputs": [],
   "source": [
    "import random\n",
    "np.random.choice(actors.column('Actor'), 5, replace=False)"
   ]
  },
  {
   "cell_type": "code",
   "execution_count": null,
   "id": "b0143415-ce76-4608-862c-d26390a0e92c",
   "metadata": {},
   "outputs": [],
   "source": [
    "actors.select('Actor').sample(5)"
   ]
  },
  {
   "cell_type": "code",
   "execution_count": null,
   "id": "d73ee67e-72ec-4209-a2f0-f84b167ef384",
   "metadata": {},
   "outputs": [],
   "source": [
    "actors.where('Number of Movies', 45)"
   ]
  },
  {
   "cell_type": "code",
   "execution_count": null,
   "id": "9df403c0-fffa-45f4-9294-ae5d3d4c0ae0",
   "metadata": {},
   "outputs": [],
   "source": [
    "# '5' + 5"
   ]
  },
  {
   "cell_type": "code",
   "execution_count": null,
   "id": "070b5ec6-60f1-4cfb-bde5-5b4aa7363669",
   "metadata": {},
   "outputs": [],
   "source": [
    "# 4 + 'a'"
   ]
  },
  {
   "cell_type": "code",
   "execution_count": null,
   "id": "565e1199-abba-4c21-b5cc-5f2ba8de67be",
   "metadata": {},
   "outputs": [],
   "source": [
    "# import os\n",
    "# os.listdir('data')"
   ]
  },
  {
   "cell_type": "code",
   "execution_count": null,
   "id": "5841c017-3484-4c5e-ac59-6dc57dc4d7cc",
   "metadata": {},
   "outputs": [],
   "source": [
    "flowers = Table().with_columns(\n",
    "    'Number of petals', [8, 34, 5],\n",
    "    'Name', ['lotus', 'sunflower', 'rose'],\n",
    "    'Weight', [10, 5, 6]\n",
    ")\n",
    "\n",
    "flowers"
   ]
  },
  {
   "cell_type": "code",
   "execution_count": null,
   "id": "016b007d-619f-432c-997f-62262c1da79e",
   "metadata": {},
   "outputs": [],
   "source": [
    "flowers.column('Weight')[1]"
   ]
  },
  {
   "cell_type": "code",
   "execution_count": null,
   "id": "7a4e0348-23b0-43ed-9c68-4d260f43f17b",
   "metadata": {},
   "outputs": [],
   "source": [
    "##### function not available in the book ###\n",
    "##### we will learn about functions later\n",
    "\n",
    "import ssl\n",
    "\n",
    "context = ssl._create_unverified_context()\n",
    "\n",
    "def read_url(url):\n",
    "    from urllib.request import urlopen\n",
    "    import re\n",
    "    return re.sub('\\\\s+', ' ', urlopen(url, context = context).read().decode())\n",
    "    \n",
    "# from urllib.request import urlopen \n",
    "# import re\n",
    "# def read_url(url):            ##### not working\n",
    "#     return re.sub('\\\\s+', ' ', urlopen(url).read().decode())\n"
   ]
  },
  {
   "cell_type": "code",
   "execution_count": null,
   "id": "6a5b3b46-d737-4ffe-a2b7-5dacf12885f0",
   "metadata": {},
   "outputs": [],
   "source": [
    "###### Read two books, fast! (CH1.3)\n",
    "\n",
    "huck_finn_url = 'https://www.introdsm.org/data/huck_finn.txt'\n",
    "huck_finn_text = read_url(huck_finn_url)\n",
    "huck_finn_chapters = huck_finn_text.split('CHAPTER ')[44:]\n",
    "\n",
    "little_women_url = 'https://www.introdsm.org/data/little_women.txt'\n",
    "little_women_text = read_url(little_women_url)\n",
    "little_women_chapters = little_women_text.split('CHAPTER ')[1:]"
   ]
  },
  {
   "cell_type": "code",
   "execution_count": null,
   "id": "9067e05a-5533-4810-8b8e-fc2d7141ae5a",
   "metadata": {},
   "outputs": [],
   "source": [
    "# In each chapter, count the number of all characters;\n",
    "# call this the \"length\" of the chapter.\n",
    "# Also count the number of periods.\n",
    "\n",
    "chars_periods_huck_finn = Table().with_columns([\n",
    "        'Huck Finn Chapter Length', [len(s) for s in huck_finn_chapters],\n",
    "        'Number of Periods', np.char.count(huck_finn_chapters, '.')\n",
    "    ])\n",
    "chars_periods_little_women = Table().with_columns([\n",
    "        'Little Women Chapter Length', [len(s) for s in little_women_chapters],\n",
    "        'Number of Periods', np.char.count(little_women_chapters, '.')\n",
    "    ])"
   ]
  },
  {
   "cell_type": "code",
   "execution_count": null,
   "id": "e95462ee-2b1a-4746-9cb3-5bbe83d39b19",
   "metadata": {},
   "outputs": [],
   "source": [
    "chars_periods_huck_finn"
   ]
  },
  {
   "cell_type": "code",
   "execution_count": null,
   "id": "c7e891d9-f47c-4135-a638-513794fa7ca1",
   "metadata": {},
   "outputs": [],
   "source": [
    "chars_periods_little_women"
   ]
  },
  {
   "cell_type": "code",
   "execution_count": null,
   "id": "f2c6dfd2-51d1-4fb5-98cb-80e78a0774b1",
   "metadata": {},
   "outputs": [],
   "source": [
    "chars_periods_huck_finn.join('Number of Periods', chars_periods_little_women, 'Number of Periods')\n",
    "chars_periods_huck_finn.join('Number of Periods', chars_periods_little_women)\n",
    "# chars_periods_huck_finn.join('Huck Finn Chapter Length', chars_periods_little_women, 'Little Women Chapter Length')"
   ]
  },
  {
   "cell_type": "code",
   "execution_count": null,
   "id": "bd4e81f3-7121-4288-9663-71f941d016d5",
   "metadata": {},
   "outputs": [],
   "source": [
    "for i in range(1, 10, 3):\n",
    "    print(i)\n",
    "    print(type(i))"
   ]
  },
  {
   "cell_type": "code",
   "execution_count": null,
   "id": "9a1a032a-9fa4-4473-8075-a47358557dfe",
   "metadata": {},
   "outputs": [],
   "source": [
    "for i in np.arange(1, 10, 3):\n",
    "    print(i)\n",
    "    print(type(i))"
   ]
  },
  {
   "cell_type": "code",
   "execution_count": null,
   "id": "afd7e9d7-de72-4ccd-99ff-245c9da84254",
   "metadata": {},
   "outputs": [],
   "source": [
    "num_repetition = 10\n",
    "heads = make_array()\n",
    "\n",
    "for i in np.arange(num_repetition):     ### with np.arange\n",
    "    heads = np.append(heads, i)\n",
    "    print(i, end=\" \")"
   ]
  },
  {
   "cell_type": "code",
   "execution_count": null,
   "id": "31688513-8479-4237-b39b-837f44b1d1a3",
   "metadata": {},
   "outputs": [],
   "source": [
    "num_repetition = 10\n",
    "heads = make_array()\n",
    "\n",
    "for i in range(num_repetition):\n",
    "    heads = np.append(heads, i)\n",
    "    print(i, end=\" \")"
   ]
  },
  {
   "cell_type": "code",
   "execution_count": null,
   "id": "e539598a-679e-41c6-823b-47dac545d0cb",
   "metadata": {},
   "outputs": [],
   "source": [
    "die = make_array(1, 2, 3, 4, 5, 6)\n",
    "# die = make_array(np.arange(1, 7))\n",
    "def roll():\n",
    "    return np.random.choice(die)\n",
    "print(roll())\n",
    "# die\n",
    "\n",
    "# np.random.choice(die, 1)"
   ]
  },
  {
   "cell_type": "code",
   "execution_count": null,
   "id": "7b96ed4a-8c7f-4431-a471-7dd63d6a0883",
   "metadata": {},
   "outputs": [],
   "source": [
    "from datascience import * \n",
    "\n",
    "arr = [1, 2, 3, 4, 5]"
   ]
  },
  {
   "cell_type": "code",
   "execution_count": null,
   "id": "e74889a4-cbce-451d-9eef-e6cd532d2fb7",
   "metadata": {},
   "outputs": [],
   "source": [
    "percentile(25, arr)"
   ]
  },
  {
   "cell_type": "code",
   "execution_count": null,
   "id": "676d968d-dced-4d65-a917-4f8ad34ccdc0",
   "metadata": {},
   "outputs": [],
   "source": [
    "import numpy as np\n",
    "s = [1, 5, 7, 3, 9]\n",
    "s = np.sort(s)\n",
    "s"
   ]
  },
  {
   "cell_type": "code",
   "execution_count": null,
   "id": "2bcbe672-a8ef-46f5-9b63-3430b74ec0ef",
   "metadata": {},
   "outputs": [],
   "source": [
    "percentile(10, s)"
   ]
  },
  {
   "cell_type": "code",
   "execution_count": null,
   "id": "c85722f6-a47c-431e-abd0-32ade95efb53",
   "metadata": {},
   "outputs": [],
   "source": [
    "percentile(39, s)"
   ]
  },
  {
   "cell_type": "code",
   "execution_count": null,
   "id": "f04df2b9-3ec0-4f0d-9159-7bb3285bb9d1",
   "metadata": {},
   "outputs": [],
   "source": [
    "percentile(40, s)"
   ]
  },
  {
   "cell_type": "code",
   "execution_count": null,
   "id": "a1efc5fd-869b-43d7-8db7-c36beca0fdfc",
   "metadata": {},
   "outputs": [],
   "source": [
    "percentile(50, s)"
   ]
  },
  {
   "cell_type": "markdown",
   "id": "779ee3a5-7683-4dc2-978e-f0fce2d23689",
   "metadata": {},
   "source": [
    "In practical terms, suppose there are $n$ elements in the collection. To find the $p$th percentile:\n",
    "- Sort the collection in increasing order.\n",
    "- Find p% of n: $(p/100) \\times n$. Call that $k$.\n",
    "- If $k$ is an integer, take the $k$th element of the sorted collection.\n",
    "- If $k$ is not an integer, round it up to the next integer, and take that element of the sorted collection."
   ]
  },
  {
   "cell_type": "code",
   "execution_count": null,
   "id": "94b41024-f066-4b97-b1db-4cd041296733",
   "metadata": {},
   "outputs": [],
   "source": [
    "import numpy as np\n",
    "from datascience import *\n",
    "nums = [1, 2, 3, 4, 5, 6, 7 ]\n",
    "print(np.average(nums))\n",
    "# max(s)"
   ]
  },
  {
   "cell_type": "code",
   "execution_count": null,
   "id": "d9c210b9-3822-4c3b-b788-9f57fd0eff3c",
   "metadata": {},
   "outputs": [],
   "source": [
    "percentile(50, nums)"
   ]
  },
  {
   "cell_type": "code",
   "execution_count": null,
   "id": "8e4adde1-44ed-4db1-98d8-5abd3dadae1c",
   "metadata": {},
   "outputs": [],
   "source": [
    "nums[int(np.floor(50/100 * len(nums))) ]"
   ]
  },
  {
   "cell_type": "code",
   "execution_count": null,
   "id": "bc90fce2-8771-4826-b229-a7e685f288c9",
   "metadata": {},
   "outputs": [],
   "source": [
    "# from scipy import stats\n",
    "from datascience import *\n",
    "import pandas as pd\n",
    "path_data = './data/'\n",
    "nba13 = Table.read_table('./data/nba2013.csv')\n",
    "nba_df = nba13.to_df()\n",
    "nba_df.describe()       ##### works"
   ]
  },
  {
   "cell_type": "code",
   "execution_count": null,
   "id": "b23bfec4-a6ac-4194-b44e-70c34263a59e",
   "metadata": {},
   "outputs": [],
   "source": [
    "data = pd.read_csv('./data/nba2013.csv')"
   ]
  },
  {
   "cell_type": "code",
   "execution_count": null,
   "id": "772bb316-1926-4fe5-84f1-e8315354ac18",
   "metadata": {},
   "outputs": [],
   "source": [
    "data.describe()"
   ]
  },
  {
   "cell_type": "code",
   "execution_count": null,
   "id": "0a29c5df-a54b-4fed-a5ad-d28d0cfec68b",
   "metadata": {},
   "outputs": [],
   "source": [
    "type(data)"
   ]
  },
  {
   "cell_type": "code",
   "execution_count": null,
   "id": "709fee0e-5503-4e16-b1ae-6a5bd75b4193",
   "metadata": {},
   "outputs": [],
   "source": [
    "data"
   ]
  },
  {
   "cell_type": "code",
   "execution_count": null,
   "id": "eba0a83d-49b7-45c4-a8ba-471c5823fc70",
   "metadata": {},
   "outputs": [],
   "source": [
    "# sample(data, 5)\n",
    "data.sample(5)"
   ]
  },
  {
   "cell_type": "code",
   "execution_count": null,
   "id": "0094d783-8345-43dd-b303-cc1b4e40120b",
   "metadata": {},
   "outputs": [],
   "source": [
    "from datascience import *\n",
    "die_arr = make_array(1, 2, 3, 4, 5, 6)\n",
    "die_tbl = Table().with_column('num', die_arr)"
   ]
  },
  {
   "cell_type": "code",
   "execution_count": null,
   "id": "261a9712-6370-4814-b16b-88fadf85bea7",
   "metadata": {},
   "outputs": [],
   "source": [
    "die_arr"
   ]
  },
  {
   "cell_type": "code",
   "execution_count": null,
   "id": "dee95e0d-0c36-4ffc-b77a-79290d3422fc",
   "metadata": {},
   "outputs": [],
   "source": [
    "die_tbl"
   ]
  },
  {
   "cell_type": "code",
   "execution_count": null,
   "id": "4601b7e0-a947-4ef4-8bbc-04084bc400ba",
   "metadata": {},
   "outputs": [],
   "source": [
    "die_tbl.sample()"
   ]
  },
  {
   "cell_type": "code",
   "execution_count": null,
   "id": "667317d2-10a3-4518-b91f-2125cec87324",
   "metadata": {},
   "outputs": [],
   "source": [
    "die_tbl.sample(1)"
   ]
  },
  {
   "cell_type": "code",
   "execution_count": null,
   "id": "53f02e33-a87a-4f31-9fb9-845a15de792f",
   "metadata": {},
   "outputs": [],
   "source": [
    "die_tbl.sample(1)[0]"
   ]
  },
  {
   "cell_type": "code",
   "execution_count": null,
   "id": "ee29ca62-2eba-4a7f-be48-f4c3da87595c",
   "metadata": {},
   "outputs": [],
   "source": [
    "die_tbl.sample(1)[0][0]"
   ]
  },
  {
   "cell_type": "code",
   "execution_count": null,
   "id": "66a61a3a-2810-410d-a608-8bf3e0595598",
   "metadata": {},
   "outputs": [],
   "source": [
    "import numpy as np\n",
    "import matplotlib.pyplot as plt\n",
    "%matplotlib inline\n",
    "\n",
    "rolls = make_array()\n",
    "for i in range(10000):\n",
    "    rolls = np.append(rolls, die_tbl.sample(1)[0][0])\n",
    "\n",
    "tbl = Table().with_column('roll', rolls)\n",
    "# tbl.hist()\n",
    "# tbl.hist(bins=np.arange(1, 8, 1))\n",
    "tbl.hist(bins=np.arange(0.5, 7, 1))"
   ]
  },
  {
   "cell_type": "code",
   "execution_count": null,
   "id": "76488d51-e997-451b-90d4-25457ef8d6e7",
   "metadata": {},
   "outputs": [],
   "source": [
    "print(len(rolls))\n",
    "plt.hist(rolls, bins=np.arange(0.5, 6.5, 1))"
   ]
  },
  {
   "cell_type": "code",
   "execution_count": null,
   "id": "4c5a48aa-ec1c-4884-a5a2-63af674be5a8",
   "metadata": {},
   "outputs": [],
   "source": [
    "rolls_avg = make_array()\n",
    "rolls = make_array()\n",
    "for i in range(1000):\n",
    "    for j in range(100):\n",
    "        rolls_avg = np.mean(np.append(rolls_avg, die_tbl.sample(1)[0][0]))\n",
    "    \n",
    "    rolls = np.append(rolls, rolls_avg)\n",
    "\n",
    "# rolls.hist()    ### Tble.hist() requires a table\n",
    "tbl = Table().with_column('roll', rolls)\n",
    "tbl\n",
    "# tbl.hist()\n",
    "# tbl.hist(bins=np.arange(1, 7, 1))\n",
    "tbl.hist(bins=np.arange(0, 8, .01))\n",
    "# plt.hist(rolls)"
   ]
  },
  {
   "cell_type": "code",
   "execution_count": null,
   "id": "5c3fbd1a-5138-429d-b872-3246256b516c",
   "metadata": {},
   "outputs": [],
   "source": [
    "# len(rolls)\n",
    "rolls_avg"
   ]
  },
  {
   "cell_type": "code",
   "execution_count": null,
   "id": "be1c4482-0229-4ef6-a134-d56f9bdf7fd8",
   "metadata": {},
   "outputs": [],
   "source": [
    "tbl.to_df().describe()"
   ]
  },
  {
   "cell_type": "code",
   "execution_count": null,
   "id": "472593cd-a819-4575-b2f6-6d70d0ab3abf",
   "metadata": {},
   "outputs": [],
   "source": [
    "tbl"
   ]
  },
  {
   "cell_type": "code",
   "execution_count": null,
   "id": "fc4ca970-861f-48a4-992f-b0a9c78c499b",
   "metadata": {},
   "outputs": [],
   "source": [
    "np.mean(tbl[0])"
   ]
  },
  {
   "cell_type": "code",
   "execution_count": null,
   "id": "e72813ad-189d-4300-8238-568c1d8857d5",
   "metadata": {},
   "outputs": [],
   "source": [
    "np.mean([1, 2, 3, 4, 5, 6])"
   ]
  },
  {
   "cell_type": "code",
   "execution_count": null,
   "id": "a4c88c0e-a982-405b-bfce-fd99abac3934",
   "metadata": {},
   "outputs": [],
   "source": [
    "dice.sample(1)[0]"
   ]
  },
  {
   "cell_type": "code",
   "execution_count": null,
   "id": "7bbd9eac-6ce9-40d4-8ee5-e9916b41343e",
   "metadata": {},
   "outputs": [],
   "source": [
    "dice.sample(1)[0][0]"
   ]
  },
  {
   "cell_type": "code",
   "execution_count": null,
   "id": "6dcd7bb8-1d54-481d-a2df-98b06ac3e0e7",
   "metadata": {},
   "outputs": [],
   "source": [
    "dice.sample(1)[0][0]"
   ]
  },
  {
   "cell_type": "code",
   "execution_count": null,
   "id": "0e03e427-8afc-4186-9d2f-65e2f970fb0e",
   "metadata": {},
   "outputs": [],
   "source": [
    "\n",
    "import random\n",
    "\n",
    "die_py = [1, 2, 3, 4, 5, 6]\n",
    "print(random.sample(die_py, k=1))\n",
    "print(type(random.sample(die_py, k=1)))\n",
    "print(random.sample(die_py, k=1)[0])\n",
    "\n",
    "die_py_lst = []\n",
    "for i in range(10000):\n",
    "    random.sample(die_py, k=1)\n"
   ]
  },
  {
   "cell_type": "code",
   "execution_count": null,
   "id": "882de10f-1f30-43d0-b5ba-d5ddd97bea72",
   "metadata": {},
   "outputs": [],
   "source": [
    "import numpy as np\n",
    "samplesize = [2, 3]\n",
    "np.random.normal(0, 1, samplesize)"
   ]
  },
  {
   "cell_type": "code",
   "execution_count": null,
   "id": "862bc4f3-27b4-45e1-a1db-5f481e9fbcd8",
   "metadata": {},
   "outputs": [],
   "source": [
    "from datascience import *\n",
    "import numpy as np\n",
    "%matplotlib inline\n",
    "\n",
    "coin = make_array('Heads', 'Tails')                 ### create the coin array \n",
    "def one_simulated_value():                          ### create the function\n",
    "    outcomes = np.random.choice(coin, 100)          ### one simulation is heads count of 100 tosses\n",
    "    return np.count_nonzero(outcomes == 'Heads')    ### only return the number of heads\n",
    "\n",
    "one_simulated_value()                               ### test if the simulation works\n",
    "\n",
    "num_repetitions = 20000                             ### number of repetitions\n",
    "heads = make_array()                                ### empty array\n",
    "\n",
    "for i in np.arange(num_repetitions):                ### loop through repetitions\n",
    "    new_value = one_simulated_value() \n",
    "    heads = np.append(heads, new_value)             ### np.append(ARR, VAL)\n",
    "\n",
    "len(heads)                                          ### check the length of the heads array\n",
    "\n",
    "simulation_results = Table().with_columns(          ### create a table of the results\n",
    "    'Repetiion', np.arange(1, num_repetitions + 1), ### this is the count\n",
    "    'Number of Heads', heads                        ### \n",
    ")\n",
    "\n",
    "min_sim = min(simulation_results['Number of Heads']) - .5\n",
    "max_sim = max(simulation_results['Number of Heads']) + 1\n",
    "\n",
    "simulation_results.hist('Number of Heads', bins = np.arange(min_sim , max_sim, 1))  \n",
    "min_sim, max_sim"
   ]
  },
  {
   "cell_type": "code",
   "execution_count": null,
   "id": "ab2bc411-1d55-4091-8406-9e64d5bc673b",
   "metadata": {},
   "outputs": [],
   "source": [
    "tbl = Table().with_columns(\n",
    "    'a', [1, 2, 3, 4, 5],\n",
    "    'b', [6, 7, 8, 9, 10]\n",
    ")"
   ]
  },
  {
   "cell_type": "code",
   "execution_count": null,
   "id": "316c372c-51a0-4e87-888d-4d5d157ac6f0",
   "metadata": {},
   "outputs": [],
   "source": [
    "tbl"
   ]
  },
  {
   "cell_type": "code",
   "execution_count": null,
   "id": "90889a33-9a3e-4e93-b2d8-715aca422e7a",
   "metadata": {},
   "outputs": [],
   "source": [
    "tbl.sample(5)"
   ]
  },
  {
   "cell_type": "code",
   "execution_count": null,
   "id": "8670866a-2522-40cb-9f43-246fbb8c027f",
   "metadata": {},
   "outputs": [],
   "source": [
    "names = ['Kaden Browne',\n",
    "'Tsangyao Chen',\n",
    "'Colin Craig',\n",
    "'Tony Dicampo',\n",
    "'Joshua England',\n",
    "'Haley Garrison',\n",
    "'Henry Gnann',\n",
    "'Brandon Green',\n",
    "'Terrell Heredia',\n",
    "'Christopher Holland',\n",
    "'Nicholas Huellinghoff',\n",
    "'Quinn Johnson',\n",
    "'Christopher Kenny',\n",
    "'Justin Kincaid',\n",
    "'Maxwell Klein',\n",
    "'Jamila Latimore',\n",
    "'Nina Martinez-Alvarez',\n",
    "'Jacob Meyers',\n",
    "'Anshuman Mishra',\n",
    "'Avery Mitchell',\n",
    "'Hawa Mohammadi',\n",
    "'Clair Parsons',\n",
    "'Manav Raja Vinotha',\n",
    "'Connor Shorts',\n",
    "'Harry Signaigo',\n",
    "'Mohammad Fuzail Ahamed Syed',\n",
    "'Devin Tyler',\n",
    "'Ryan Veatch']"
   ]
  },
  {
   "cell_type": "code",
   "execution_count": null,
   "id": "a5be30f0-63e6-4f46-b1cc-b574c1d9775a",
   "metadata": {},
   "outputs": [],
   "source": [
    "import numpy as np\n",
    "print(np.random.choice(names, 3))"
   ]
  },
  {
   "cell_type": "code",
   "execution_count": null,
   "id": "f4075ed9-3b2f-470b-8aac-08f2f1821748",
   "metadata": {},
   "outputs": [],
   "source": []
  },
  {
   "cell_type": "code",
   "execution_count": null,
   "id": "ac51501e-4dff-4b3d-a77e-f71bfbf702dd",
   "metadata": {},
   "outputs": [],
   "source": []
  }
 ],
 "metadata": {
  "kernelspec": {
   "display_name": "Python 3 (ipykernel)",
   "language": "python",
   "name": "python3"
  },
  "language_info": {
   "codemirror_mode": {
    "name": "ipython",
    "version": 3
   },
   "file_extension": ".py",
   "mimetype": "text/x-python",
   "name": "python",
   "nbconvert_exporter": "python",
   "pygments_lexer": "ipython3",
   "version": "3.12.8"
  }
 },
 "nbformat": 4,
 "nbformat_minor": 5
}
