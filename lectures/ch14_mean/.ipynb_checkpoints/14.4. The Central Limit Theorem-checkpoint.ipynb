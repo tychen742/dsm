{
 "cells": [
  {
   "cell_type": "markdown",
   "id": "aa903da1-e356-4dcd-87ee-f534c3fa3729",
   "metadata": {},
   "source": [
    "# 14.4. The Central Limit Theorem\n",
    "\n",
    "Very few of the data histograms that we have seen in this course have been bell shaped. When we have come across a bell shaped distribution, it has almost invariably been an empirical histogram of a statistic based on a random sample.\n",
    "\n",
    "The examples below show two very different situations in which an approximate bell shape appears in such histograms."
   ]
  },
  {
   "cell_type": "markdown",
   "id": "558426dc-c5bb-499e-ba2e-f37a2220490d",
   "metadata": {},
   "source": [
    "## 14.4.1. Net Gain in Roulette\n",
    "\n",
    "In an earlier section, the bell appeared as the rough shape of the total amount of money we would make if we placed the same bet repeatedly on different spins of a roulette wheel."
   ]
  },
  {
   "cell_type": "code",
   "execution_count": 83,
   "id": "6500cff5-0e5a-4231-b167-d3a06ba5ec06",
   "metadata": {},
   "outputs": [],
   "source": [
    "path_data = '../../data/'\n",
    "from datascience import *\n",
    "import numpy as np\n",
    "import matplotlib.pyplot as plt\n",
    "%matplotlib inline"
   ]
  },
  {
   "cell_type": "code",
   "execution_count": 16,
   "id": "2f0eaf1d-d3f7-4a32-8450-254ac4cd92c6",
   "metadata": {},
   "outputs": [
    {
     "data": {
      "text/html": [
       "<table border=\"1\" class=\"dataframe\">\n",
       "    <thead>\n",
       "        <tr>\n",
       "            <th>Pocket</th> <th>Color</th>\n",
       "        </tr>\n",
       "    </thead>\n",
       "    <tbody>\n",
       "        <tr>\n",
       "            <td>0     </td> <td>green</td>\n",
       "        </tr>\n",
       "        <tr>\n",
       "            <td>0     </td> <td>green</td>\n",
       "        </tr>\n",
       "        <tr>\n",
       "            <td>1     </td> <td>red  </td>\n",
       "        </tr>\n",
       "        <tr>\n",
       "            <td>2     </td> <td>black</td>\n",
       "        </tr>\n",
       "        <tr>\n",
       "            <td>3     </td> <td>red  </td>\n",
       "        </tr>\n",
       "        <tr>\n",
       "            <td>4     </td> <td>black</td>\n",
       "        </tr>\n",
       "        <tr>\n",
       "            <td>5     </td> <td>red  </td>\n",
       "        </tr>\n",
       "        <tr>\n",
       "            <td>6     </td> <td>black</td>\n",
       "        </tr>\n",
       "        <tr>\n",
       "            <td>7     </td> <td>red  </td>\n",
       "        </tr>\n",
       "        <tr>\n",
       "            <td>8     </td> <td>black</td>\n",
       "        </tr>\n",
       "        <tr>\n",
       "            <td>9     </td> <td>red  </td>\n",
       "        </tr>\n",
       "        <tr>\n",
       "            <td>10    </td> <td>black</td>\n",
       "        </tr>\n",
       "        <tr>\n",
       "            <td>11    </td> <td>black</td>\n",
       "        </tr>\n",
       "        <tr>\n",
       "            <td>12    </td> <td>red  </td>\n",
       "        </tr>\n",
       "        <tr>\n",
       "            <td>13    </td> <td>black</td>\n",
       "        </tr>\n",
       "        <tr>\n",
       "            <td>14    </td> <td>red  </td>\n",
       "        </tr>\n",
       "        <tr>\n",
       "            <td>15    </td> <td>black</td>\n",
       "        </tr>\n",
       "        <tr>\n",
       "            <td>16    </td> <td>red  </td>\n",
       "        </tr>\n",
       "        <tr>\n",
       "            <td>17    </td> <td>black</td>\n",
       "        </tr>\n",
       "        <tr>\n",
       "            <td>18    </td> <td>red  </td>\n",
       "        </tr>\n",
       "        <tr>\n",
       "            <td>19    </td> <td>red  </td>\n",
       "        </tr>\n",
       "        <tr>\n",
       "            <td>20    </td> <td>black</td>\n",
       "        </tr>\n",
       "        <tr>\n",
       "            <td>21    </td> <td>red  </td>\n",
       "        </tr>\n",
       "        <tr>\n",
       "            <td>22    </td> <td>black</td>\n",
       "        </tr>\n",
       "        <tr>\n",
       "            <td>23    </td> <td>red  </td>\n",
       "        </tr>\n",
       "        <tr>\n",
       "            <td>24    </td> <td>black</td>\n",
       "        </tr>\n",
       "        <tr>\n",
       "            <td>25    </td> <td>red  </td>\n",
       "        </tr>\n",
       "        <tr>\n",
       "            <td>26    </td> <td>black</td>\n",
       "        </tr>\n",
       "        <tr>\n",
       "            <td>27    </td> <td>red  </td>\n",
       "        </tr>\n",
       "        <tr>\n",
       "            <td>28    </td> <td>black</td>\n",
       "        </tr>\n",
       "        <tr>\n",
       "            <td>29    </td> <td>black</td>\n",
       "        </tr>\n",
       "        <tr>\n",
       "            <td>30    </td> <td>red  </td>\n",
       "        </tr>\n",
       "        <tr>\n",
       "            <td>31    </td> <td>black</td>\n",
       "        </tr>\n",
       "        <tr>\n",
       "            <td>32    </td> <td>red  </td>\n",
       "        </tr>\n",
       "        <tr>\n",
       "            <td>33    </td> <td>black</td>\n",
       "        </tr>\n",
       "        <tr>\n",
       "            <td>34    </td> <td>red  </td>\n",
       "        </tr>\n",
       "        <tr>\n",
       "            <td>35    </td> <td>black</td>\n",
       "        </tr>\n",
       "        <tr>\n",
       "            <td>36    </td> <td>red  </td>\n",
       "        </tr>\n",
       "    </tbody>\n",
       "</table>"
      ],
      "text/plain": [
       "<IPython.core.display.HTML object>"
      ]
     },
     "metadata": {},
     "output_type": "display_data"
    }
   ],
   "source": [
    "wheel = Table.read_table(path_data + \n",
    "        'roulette_wheel.csv')   ### hw06\n",
    "# wheel.show(5)\n",
    "wheel.show()"
   ]
  },
  {
   "cell_type": "code",
   "execution_count": 18,
   "id": "72e5c1c8-cf72-499b-bc9e-5835be586a35",
   "metadata": {},
   "outputs": [],
   "source": [
    "def red_winnings(color):\n",
    "    if color == 'red':\n",
    "        return 1\n",
    "    else:\n",
    "        return -1"
   ]
  },
  {
   "cell_type": "markdown",
   "id": "d58782e0-686f-4513-9297-0c29007c7a02",
   "metadata": {},
   "source": [
    "The table red shows each pocket’s winnings on red.\n",
    "\n"
   ]
  },
  {
   "cell_type": "code",
   "execution_count": 21,
   "id": "42adcd2c-d42f-4038-8802-0fec0a744cd9",
   "metadata": {},
   "outputs": [
    {
     "data": {
      "text/html": [
       "<table border=\"1\" class=\"dataframe\">\n",
       "    <thead>\n",
       "        <tr>\n",
       "            <th>Pocket</th> <th>Color</th> <th>Winnings: Red</th>\n",
       "        </tr>\n",
       "    </thead>\n",
       "    <tbody>\n",
       "        <tr>\n",
       "            <td>0     </td> <td>green</td> <td>-1           </td>\n",
       "        </tr>\n",
       "        <tr>\n",
       "            <td>0     </td> <td>green</td> <td>-1           </td>\n",
       "        </tr>\n",
       "        <tr>\n",
       "            <td>1     </td> <td>red  </td> <td>1            </td>\n",
       "        </tr>\n",
       "        <tr>\n",
       "            <td>2     </td> <td>black</td> <td>-1           </td>\n",
       "        </tr>\n",
       "        <tr>\n",
       "            <td>3     </td> <td>red  </td> <td>1            </td>\n",
       "        </tr>\n",
       "    </tbody>\n",
       "</table>\n",
       "<p>... (33 rows omitted)</p>"
      ],
      "text/plain": [
       "<IPython.core.display.HTML object>"
      ]
     },
     "metadata": {},
     "output_type": "display_data"
    }
   ],
   "source": [
    "### tbl.apply(function, column)\n",
    "red = wheel.with_column('Winnings: Red', \n",
    "    wheel.apply(red_winnings, 'Color'))   \n",
    "\n",
    "red.show(5)"
   ]
  },
  {
   "cell_type": "code",
   "execution_count": 22,
   "id": "be1ba6a1-3660-481e-a0be-ecdb42387a1f",
   "metadata": {},
   "outputs": [
    {
     "data": {
      "text/html": [
       "<table border=\"1\" class=\"dataframe\">\n",
       "    <thead>\n",
       "        <tr>\n",
       "            <th>Color</th> <th>count</th>\n",
       "        </tr>\n",
       "    </thead>\n",
       "    <tbody>\n",
       "        <tr>\n",
       "            <td>black</td> <td>18   </td>\n",
       "        </tr>\n",
       "        <tr>\n",
       "            <td>green</td> <td>2    </td>\n",
       "        </tr>\n",
       "        <tr>\n",
       "            <td>red  </td> <td>18   </td>\n",
       "        </tr>\n",
       "    </tbody>\n",
       "</table>"
      ],
      "text/plain": [
       "Color | count\n",
       "black | 18\n",
       "green | 2\n",
       "red   | 18"
      ]
     },
     "execution_count": 22,
     "metadata": {},
     "output_type": "execute_result"
    }
   ],
   "source": [
    "### chance of winning\n",
    "red.group('Color')"
   ]
  },
  {
   "cell_type": "code",
   "execution_count": 23,
   "id": "280fce9b-d3ea-4924-a6a0-11bc5a22b757",
   "metadata": {},
   "outputs": [
    {
     "data": {
      "text/plain": [
       "18"
      ]
     },
     "execution_count": 23,
     "metadata": {},
     "output_type": "execute_result"
    }
   ],
   "source": [
    "# red_win = red.where('Winnings: Red', are.equal_to(1))\n",
    "# red_win.show(3)\n",
    "# red_win.num_rows\n",
    "\n",
    "red.where('Winnings: Red', are.equal_to(1)).num_rows\n",
    "\n",
    "##### 18/38 chance of winning 1 and 20/38 chance of losing 1"
   ]
  },
  {
   "cell_type": "code",
   "execution_count": 24,
   "id": "7d2d8eb2-0aba-415a-81a1-3f31457afc25",
   "metadata": {},
   "outputs": [
    {
     "data": {
      "image/png": "[encoded data removed]",
      "text/plain": [
       "<Figure size 600x400 with 1 Axes>"
      ]
     },
     "metadata": {},
     "output_type": "display_data"
    }
   ],
   "source": [
    "##### visutalize probability distribution\n",
    "# red.select('Color').hist()   ### tbl.hist(column)\n",
    "red.hist('Winnings: Red', bins = np.arange(-1.5, 2, 1))"
   ]
  },
  {
   "cell_type": "code",
   "execution_count": 34,
   "id": "cbcdbaab-8d2e-41e7-8600-db2866c496d5",
   "metadata": {},
   "outputs": [
    {
     "data": {
      "text/html": [
       "<table border=\"1\" class=\"dataframe\">\n",
       "    <thead>\n",
       "        <tr>\n",
       "            <th>Pocket</th> <th>Color</th> <th>Winnings: Red</th>\n",
       "        </tr>\n",
       "    </thead>\n",
       "    <tbody>\n",
       "        <tr>\n",
       "            <td>24    </td> <td>black</td> <td>-1           </td>\n",
       "        </tr>\n",
       "    </tbody>\n",
       "</table>"
      ],
      "text/plain": [
       "Pocket | Color | Winnings: Red\n",
       "24     | black | -1"
      ]
     },
     "execution_count": 34,
     "metadata": {},
     "output_type": "execute_result"
    }
   ],
   "source": [
    "# bet_on_red = red.sample(1, 'Winnings: Red')\n",
    "red.sample(1, 'Winnings: Red')"
   ]
  },
  {
   "cell_type": "code",
   "execution_count": 58,
   "id": "7c2d84d1-f97f-4d19-a9ed-374ca8d5b7b2",
   "metadata": {},
   "outputs": [
    {
     "data": {
      "text/plain": [
       "-1"
      ]
     },
     "execution_count": 58,
     "metadata": {},
     "output_type": "execute_result"
    }
   ],
   "source": [
    "# bet_on_red = red.sample(1, 'Winnings: Red')\n",
    "# bet_on_red = red.sample(1, 'Winnings: Red')[2][0]\n",
    "# bet_on_red\n",
    "\n",
    "red.sample(1, 'Winnings: Red')[2][0]"
   ]
  },
  {
   "cell_type": "code",
   "execution_count": 59,
   "id": "c527a4d8-de4b-4ee7-a5c5-50c402c35809",
   "metadata": {},
   "outputs": [],
   "source": [
    "### turn one bet into function\n",
    "\n",
    "def bet_on_red():\n",
    "    return (red.sample(1, 'Winnings: Red')[2][0])"
   ]
  },
  {
   "cell_type": "code",
   "execution_count": 60,
   "id": "77045d72-2d78-4fee-ab63-af79799f877a",
   "metadata": {},
   "outputs": [
    {
     "data": {
      "text/plain": [
       "1"
      ]
     },
     "execution_count": 60,
     "metadata": {},
     "output_type": "execute_result"
    }
   ],
   "source": [
    "bet_on_red()"
   ]
  },
  {
   "cell_type": "code",
   "execution_count": 37,
   "id": "4617b1bd-2abd-48dd-94d5-e22e2198a050",
   "metadata": {},
   "outputs": [
    {
     "data": {
      "text/html": [
       "<table border=\"1\" class=\"dataframe\">\n",
       "    <thead>\n",
       "        <tr>\n",
       "            <th>Net Gain on Red</th>\n",
       "        </tr>\n",
       "    </thead>\n",
       "    <tbody>\n",
       "        <tr>\n",
       "            <td>-12            </td>\n",
       "        </tr>\n",
       "        <tr>\n",
       "            <td>2              </td>\n",
       "        </tr>\n",
       "        <tr>\n",
       "            <td>12             </td>\n",
       "        </tr>\n",
       "        <tr>\n",
       "            <td>0              </td>\n",
       "        </tr>\n",
       "        <tr>\n",
       "            <td>-18            </td>\n",
       "        </tr>\n",
       "        <tr>\n",
       "            <td>-26            </td>\n",
       "        </tr>\n",
       "        <tr>\n",
       "            <td>-18            </td>\n",
       "        </tr>\n",
       "        <tr>\n",
       "            <td>-20            </td>\n",
       "        </tr>\n",
       "        <tr>\n",
       "            <td>-22            </td>\n",
       "        </tr>\n",
       "        <tr>\n",
       "            <td>-20            </td>\n",
       "        </tr>\n",
       "    </tbody>\n",
       "</table>\n",
       "<p>... (990 rows omitted)</p>"
      ],
      "text/plain": [
       "Net Gain on Red\n",
       "-12\n",
       "2\n",
       "12\n",
       "0\n",
       "-18\n",
       "-26\n",
       "-18\n",
       "-20\n",
       "-22\n",
       "-20\n",
       "... (990 rows omitted)"
      ]
     },
     "execution_count": 37,
     "metadata": {},
     "output_type": "execute_result"
    }
   ],
   "source": [
    "##### net gain of 400 spins betting on red for $1\n",
    "\n",
    "num_bets = 400\n",
    "repetitions = 1000\n",
    "bets_array = make_array()\n",
    "\n",
    "for i in np.arange(repetitions):\n",
    "    spins = red.sample(num_bets)\n",
    "    net_gain_400 = spins.column('Winnings: Red').sum()\n",
    "    bets_array = np.append(bets_array, net_gain_400)\n",
    "    # net_gain = bets_array.sum()\n",
    "\n",
    "# bets_array\n",
    "results = Table().with_column(\"Net Gain on Red\", bets_array)\n",
    "results"
   ]
  },
  {
   "cell_type": "code",
   "execution_count": 38,
   "id": "f34bdd06-3079-4b5c-bab8-6208d69ec2a3",
   "metadata": {},
   "outputs": [],
   "source": [
    "from scipy import stats\n",
    "import pandas as pd"
   ]
  },
  {
   "cell_type": "code",
   "execution_count": 39,
   "id": "3ad9c31b-4d00-47b3-8ab2-29ed41ccc3b7",
   "metadata": {},
   "outputs": [
    {
     "data": {
      "text/html": [
       "<div>\n",
       "<style scoped>\n",
       "    .dataframe tbody tr th:only-of-type {\n",
       "        vertical-align: middle;\n",
       "    }\n",
       "\n",
       "    .dataframe tbody tr th {\n",
       "        vertical-align: top;\n",
       "    }\n",
       "\n",
       "    .dataframe thead th {\n",
       "        text-align: right;\n",
       "    }\n",
       "</style>\n",
       "<table border=\"1\" class=\"dataframe\">\n",
       "  <thead>\n",
       "    <tr style=\"text-align: right;\">\n",
       "      <th></th>\n",
       "      <th>Red Net</th>\n",
       "    </tr>\n",
       "  </thead>\n",
       "  <tbody>\n",
       "    <tr>\n",
       "      <th>count</th>\n",
       "      <td>1000.000000</td>\n",
       "    </tr>\n",
       "    <tr>\n",
       "      <th>mean</th>\n",
       "      <td>-21.092000</td>\n",
       "    </tr>\n",
       "    <tr>\n",
       "      <th>std</th>\n",
       "      <td>20.201972</td>\n",
       "    </tr>\n",
       "    <tr>\n",
       "      <th>min</th>\n",
       "      <td>-98.000000</td>\n",
       "    </tr>\n",
       "    <tr>\n",
       "      <th>25%</th>\n",
       "      <td>-34.000000</td>\n",
       "    </tr>\n",
       "    <tr>\n",
       "      <th>50%</th>\n",
       "      <td>-22.000000</td>\n",
       "    </tr>\n",
       "    <tr>\n",
       "      <th>75%</th>\n",
       "      <td>-8.000000</td>\n",
       "    </tr>\n",
       "    <tr>\n",
       "      <th>max</th>\n",
       "      <td>34.000000</td>\n",
       "    </tr>\n",
       "  </tbody>\n",
       "</table>\n",
       "</div>"
      ],
      "text/plain": [
       "           Red Net\n",
       "count  1000.000000\n",
       "mean    -21.092000\n",
       "std      20.201972\n",
       "min     -98.000000\n",
       "25%     -34.000000\n",
       "50%     -22.000000\n",
       "75%      -8.000000\n",
       "max      34.000000"
      ]
     },
     "execution_count": 39,
     "metadata": {},
     "output_type": "execute_result"
    }
   ],
   "source": [
    "tbl = Table().with_column('Red Net', bets_array).to_df().describe()\n",
    "tbl = Table().with_column('Red Net', bets_array)\n",
    "\n",
    "tbl.to_df().describe()"
   ]
  },
  {
   "cell_type": "code",
   "execution_count": 50,
   "id": "0c532c58-d0a9-4c96-a192-25a2cbb9c996",
   "metadata": {},
   "outputs": [
    {
     "data": {
      "image/png": "[encoded data removed]",
      "text/plain": [
       "<Figure size 600x400 with 1 Axes>"
      ]
     },
     "metadata": {},
     "output_type": "display_data"
    }
   ],
   "source": [
    "Table().with_column('Red Net', bets_array).hist(bins = np.arange(-80, 40, 1))\n",
    "# Table().with_column('Red Net', bets_array).hist(bins = np.arange(-80, 50, 6))"
   ]
  },
  {
   "cell_type": "markdown",
   "id": "4bc24cbc-57b8-48a6-a28f-21c837638f53",
   "metadata": {},
   "source": [
    "Center. The distribution is centered near -20 dollars, roughly. To see why, note that your winnings will be 1 on about 18/38 of the bets, and -$1 on the remaining 20/38. So your average winnings per dollar bet will be roughly -5.26 cents:"
   ]
  },
  {
   "cell_type": "code",
   "execution_count": 51,
   "id": "83065f49-ffb6-4a3e-83ea-7bb6dc023743",
   "metadata": {},
   "outputs": [
    {
     "data": {
      "text/plain": [
       "-0.05263157894736842"
      ]
     },
     "execution_count": 51,
     "metadata": {},
     "output_type": "execute_result"
    }
   ],
   "source": [
    "average_per_bet = 1*(18/38) + (-1)*(20/38)\n",
    "average_per_bet"
   ]
  },
  {
   "cell_type": "code",
   "execution_count": 52,
   "id": "1680d6b5-680c-4f8f-8ba6-7018716ec76b",
   "metadata": {},
   "outputs": [
    {
     "data": {
      "text/plain": [
       "-21.052631578947366"
      ]
     },
     "execution_count": 52,
     "metadata": {},
     "output_type": "execute_result"
    }
   ],
   "source": [
    "##### in 400 bets you expect that your net gain will be about -$21:\n",
    "400 * average_per_bet"
   ]
  },
  {
   "cell_type": "code",
   "execution_count": 53,
   "id": "6a0be6ea-e82f-42d8-859f-2a9fe857eafb",
   "metadata": {},
   "outputs": [
    {
     "data": {
      "text/plain": [
       "-21.091999999999999"
      ]
     },
     "execution_count": 53,
     "metadata": {},
     "output_type": "execute_result"
    }
   ],
   "source": [
    "##### mean of the 10,000 simulated net gains:\n",
    "np.mean(tbl.column(0))"
   ]
  },
  {
   "cell_type": "markdown",
   "id": "8f2eb4a1-54ad-4edb-837a-8aa14401f77b",
   "metadata": {},
   "source": [
    "Spread. Run your eye along the curve starting at the center and notice that the point of inflection is near 0. On a bell shaped curve, the SD is the distance from the center to a point of inflection. The center is roughly -20, which means that the SD of the distribution is around $20.\n",
    "\n",
    "In the next section we will see where the $20 comes from. For now, let’s confirm our observation by simply calculating the SD of the 10,000 simulated net gains:"
   ]
  },
  {
   "cell_type": "code",
   "execution_count": 73,
   "id": "01b78c29-b316-4f5a-93fe-ab7ea992c0d6",
   "metadata": {},
   "outputs": [
    {
     "data": {
      "text/plain": [
       "20.121668320494699"
      ]
     },
     "execution_count": 73,
     "metadata": {},
     "output_type": "execute_result"
    }
   ],
   "source": [
    "\n",
    "np.std(tbl.column(0))"
   ]
  },
  {
   "cell_type": "markdown",
   "id": "84d02204-fa7d-479c-9e7b-db95c93d46db",
   "metadata": {},
   "source": [
    "Summary. The net gain in 400 bets is the sum of the 400 amounts won on each individual bet. The probability distribution of that sum is approximately normal, with an average and an SD that we can approximate."
   ]
  },
  {
   "cell_type": "markdown",
   "id": "1007a569-1509-4ef7-b1c8-e3410f9c8d39",
   "metadata": {},
   "source": [
    "## 14.4.2. Average Flight Delay"
   ]
  },
  {
   "cell_type": "code",
   "execution_count": 65,
   "id": "e4d634bc-8c4a-40ac-bb3d-f3657a45454e",
   "metadata": {},
   "outputs": [
    {
     "data": {
      "text/html": [
       "<table border=\"1\" class=\"dataframe\">\n",
       "    <thead>\n",
       "        <tr>\n",
       "            <th>Date</th> <th>Flight Number</th> <th>Destination</th> <th>Delay</th>\n",
       "        </tr>\n",
       "    </thead>\n",
       "    <tbody>\n",
       "        <tr>\n",
       "            <td>6/1/15</td> <td>73           </td> <td>HNL        </td> <td>257  </td>\n",
       "        </tr>\n",
       "        <tr>\n",
       "            <td>6/1/15</td> <td>217          </td> <td>EWR        </td> <td>28   </td>\n",
       "        </tr>\n",
       "        <tr>\n",
       "            <td>6/1/15</td> <td>237          </td> <td>STL        </td> <td>-3   </td>\n",
       "        </tr>\n",
       "        <tr>\n",
       "            <td>6/1/15</td> <td>250          </td> <td>SAN        </td> <td>0    </td>\n",
       "        </tr>\n",
       "        <tr>\n",
       "            <td>6/1/15</td> <td>267          </td> <td>PHL        </td> <td>64   </td>\n",
       "        </tr>\n",
       "        <tr>\n",
       "            <td>6/1/15</td> <td>273          </td> <td>SEA        </td> <td>-6   </td>\n",
       "        </tr>\n",
       "        <tr>\n",
       "            <td>6/1/15</td> <td>278          </td> <td>SEA        </td> <td>-8   </td>\n",
       "        </tr>\n",
       "        <tr>\n",
       "            <td>6/1/15</td> <td>292          </td> <td>EWR        </td> <td>12   </td>\n",
       "        </tr>\n",
       "        <tr>\n",
       "            <td>6/1/15</td> <td>300          </td> <td>HNL        </td> <td>20   </td>\n",
       "        </tr>\n",
       "        <tr>\n",
       "            <td>6/1/15</td> <td>317          </td> <td>IND        </td> <td>-10  </td>\n",
       "        </tr>\n",
       "    </tbody>\n",
       "</table>\n",
       "<p>... (13815 rows omitted)</p>"
      ],
      "text/plain": [
       "Date   | Flight Number | Destination | Delay\n",
       "6/1/15 | 73            | HNL         | 257\n",
       "6/1/15 | 217           | EWR         | 28\n",
       "6/1/15 | 237           | STL         | -3\n",
       "6/1/15 | 250           | SAN         | 0\n",
       "6/1/15 | 267           | PHL         | 64\n",
       "6/1/15 | 273           | SEA         | -6\n",
       "6/1/15 | 278           | SEA         | -8\n",
       "6/1/15 | 292           | EWR         | 12\n",
       "6/1/15 | 300           | HNL         | 20\n",
       "6/1/15 | 317           | IND         | -10\n",
       "... (13815 rows omitted)"
      ]
     },
     "execution_count": 65,
     "metadata": {},
     "output_type": "execute_result"
    }
   ],
   "source": [
    "united = Table.read_table(path_data + \n",
    "        'united_summer2015.csv')\n",
    "united"
   ]
  },
  {
   "cell_type": "code",
   "execution_count": 64,
   "id": "1ff1bf14-0df5-40b5-8dab-b8231e925d85",
   "metadata": {},
   "outputs": [
    {
     "data": {
      "image/png": "[encoded data removed]",
      "text/plain": [
       "<Figure size 600x400 with 1 Axes>"
      ]
     },
     "metadata": {},
     "output_type": "display_data"
    }
   ],
   "source": [
    "united.select('Delay').hist(bins=np.arange(-20, 300, 10))"
   ]
  },
  {
   "cell_type": "code",
   "execution_count": 66,
   "id": "7928ccf1-cd27-4369-a534-09cf2b58e048",
   "metadata": {},
   "outputs": [
    {
     "data": {
      "text/html": [
       "<div>\n",
       "<style scoped>\n",
       "    .dataframe tbody tr th:only-of-type {\n",
       "        vertical-align: middle;\n",
       "    }\n",
       "\n",
       "    .dataframe tbody tr th {\n",
       "        vertical-align: top;\n",
       "    }\n",
       "\n",
       "    .dataframe thead th {\n",
       "        text-align: right;\n",
       "    }\n",
       "</style>\n",
       "<table border=\"1\" class=\"dataframe\">\n",
       "  <thead>\n",
       "    <tr style=\"text-align: right;\">\n",
       "      <th></th>\n",
       "      <th>Flight Number</th>\n",
       "      <th>Delay</th>\n",
       "    </tr>\n",
       "  </thead>\n",
       "  <tbody>\n",
       "    <tr>\n",
       "      <th>count</th>\n",
       "      <td>13825.000000</td>\n",
       "      <td>13825.000000</td>\n",
       "    </tr>\n",
       "    <tr>\n",
       "      <th>mean</th>\n",
       "      <td>1133.415045</td>\n",
       "      <td>16.658156</td>\n",
       "    </tr>\n",
       "    <tr>\n",
       "      <th>std</th>\n",
       "      <td>571.858597</td>\n",
       "      <td>39.481628</td>\n",
       "    </tr>\n",
       "    <tr>\n",
       "      <th>min</th>\n",
       "      <td>3.000000</td>\n",
       "      <td>-16.000000</td>\n",
       "    </tr>\n",
       "    <tr>\n",
       "      <th>25%</th>\n",
       "      <td>591.000000</td>\n",
       "      <td>-2.000000</td>\n",
       "    </tr>\n",
       "    <tr>\n",
       "      <th>50%</th>\n",
       "      <td>1178.000000</td>\n",
       "      <td>2.000000</td>\n",
       "    </tr>\n",
       "    <tr>\n",
       "      <th>75%</th>\n",
       "      <td>1670.000000</td>\n",
       "      <td>18.000000</td>\n",
       "    </tr>\n",
       "    <tr>\n",
       "      <th>max</th>\n",
       "      <td>2117.000000</td>\n",
       "      <td>580.000000</td>\n",
       "    </tr>\n",
       "  </tbody>\n",
       "</table>\n",
       "</div>"
      ],
      "text/plain": [
       "       Flight Number         Delay\n",
       "count   13825.000000  13825.000000\n",
       "mean     1133.415045     16.658156\n",
       "std       571.858597     39.481628\n",
       "min         3.000000    -16.000000\n",
       "25%       591.000000     -2.000000\n",
       "50%      1178.000000      2.000000\n",
       "75%      1670.000000     18.000000\n",
       "max      2117.000000    580.000000"
      ]
     },
     "execution_count": 66,
     "metadata": {},
     "output_type": "execute_result"
    }
   ],
   "source": [
    "united.to_df().describe()"
   ]
  },
  {
   "cell_type": "markdown",
   "id": "a380d5e8-0a89-4ebb-a805-0df9fdeae966",
   "metadata": {},
   "source": [
    "The mean delay was about 16.6 minutes and the SD was about 39.5 minutes. Notice how large the SD is, compared to the mean. Those large deviations on the right have an effect, even though they are a very small proportion of the data."
   ]
  },
  {
   "cell_type": "code",
   "execution_count": 68,
   "id": "0f401735-6640-41f4-81cf-e1be0d35120f",
   "metadata": {},
   "outputs": [
    {
     "data": {
      "text/plain": [
       "(16.658155515370705, 39.480199851609314)"
      ]
     },
     "execution_count": 68,
     "metadata": {},
     "output_type": "execute_result"
    }
   ],
   "source": [
    "mean_delay = np.mean(united.column('Delay'))\n",
    "sd_delay = np.std(united.column('Delay'))\n",
    "mean_delay, sd_delay"
   ]
  },
  {
   "cell_type": "markdown",
   "id": "2464883f-7dc8-4a51-aa84-7a3ab36817fc",
   "metadata": {},
   "source": [
    "Now suppose we sampled 400 delays at random with replacement. You could sample without replacement if you like, but the results would be very similar to with-replacement sampling. If you sample a few hundred out of 13,825 without replacement, you hardly change the population each time you pull out a value.\n",
    "\n",
    "In the sample, what could the average delay be? We expect it to be around 16 or 17, because that’s the population average; but it is likely to be somewhat off. Let’s see what we get by sampling. We’ll work with the table delay that only contains the column of delays."
   ]
  },
  {
   "cell_type": "code",
   "execution_count": 69,
   "id": "db879454-fbc0-4f4d-92aa-c3e8d893de87",
   "metadata": {},
   "outputs": [
    {
     "data": {
      "text/html": [
       "<table border=\"1\" class=\"dataframe\">\n",
       "    <thead>\n",
       "        <tr>\n",
       "            <th>Delay</th>\n",
       "        </tr>\n",
       "    </thead>\n",
       "    <tbody>\n",
       "        <tr>\n",
       "            <td>257  </td>\n",
       "        </tr>\n",
       "        <tr>\n",
       "            <td>28   </td>\n",
       "        </tr>\n",
       "        <tr>\n",
       "            <td>-3   </td>\n",
       "        </tr>\n",
       "        <tr>\n",
       "            <td>0    </td>\n",
       "        </tr>\n",
       "        <tr>\n",
       "            <td>64   </td>\n",
       "        </tr>\n",
       "        <tr>\n",
       "            <td>-6   </td>\n",
       "        </tr>\n",
       "        <tr>\n",
       "            <td>-8   </td>\n",
       "        </tr>\n",
       "        <tr>\n",
       "            <td>12   </td>\n",
       "        </tr>\n",
       "        <tr>\n",
       "            <td>20   </td>\n",
       "        </tr>\n",
       "        <tr>\n",
       "            <td>-10  </td>\n",
       "        </tr>\n",
       "    </tbody>\n",
       "</table>\n",
       "<p>... (13815 rows omitted)</p>"
      ],
      "text/plain": [
       "Delay\n",
       "257\n",
       "28\n",
       "-3\n",
       "0\n",
       "64\n",
       "-6\n",
       "-8\n",
       "12\n",
       "20\n",
       "-10\n",
       "... (13815 rows omitted)"
      ]
     },
     "execution_count": 69,
     "metadata": {},
     "output_type": "execute_result"
    }
   ],
   "source": [
    "delay = united.select('Delay')\n",
    "delay"
   ]
  },
  {
   "cell_type": "code",
   "execution_count": 80,
   "id": "dbea21e3-38bc-4c28-9cc2-b3944fb962e9",
   "metadata": {},
   "outputs": [
    {
     "data": {
      "text/plain": [
       "22.995000000000001"
      ]
     },
     "execution_count": 80,
     "metadata": {},
     "output_type": "execute_result"
    }
   ],
   "source": [
    "delay = united.select('Delay')\n",
    "np.mean(delay.sample(400).column('Delay'))"
   ]
  },
  {
   "cell_type": "markdown",
   "id": "fd6eca4f-3cf6-45aa-8c67-4a7dfdd9d0fa",
   "metadata": {},
   "source": [
    "The sample average varies according to how the sample comes out, so we will simulate the sampling process repeatedly and draw the empirical histogram of the sample average. That will be an approximation to the probability histogram of the sample average.\n",
    "\n"
   ]
  },
  {
   "cell_type": "code",
   "execution_count": 82,
   "id": "bfa2ed29-e983-4c91-8ec3-44162f6e293a",
   "metadata": {},
   "outputs": [
    {
     "data": {
      "image/png": "[encoded data removed]",
      "text/plain": [
       "<Figure size 600x400 with 1 Axes>"
      ]
     },
     "metadata": {},
     "output_type": "display_data"
    }
   ],
   "source": [
    "sample_size = 400\n",
    "repetitions = 10000\n",
    "means = make_array()\n",
    "for i in np.arange(repetitions):\n",
    "    sample = delay.sample(sample_size)\n",
    "    new_mean = np.mean(sample.column('Delay'))\n",
    "    means = np.append(means, new_mean)\n",
    "results = Table().with_column(\n",
    "    'Sample Mean', means)\n",
    "results.hist(bins=np.arange(10, 25, 0.5))"
   ]
  },
  {
   "cell_type": "code",
   "execution_count": 80,
   "id": "c7cf9016-c7ec-4e9c-8994-734907eb1bed",
   "metadata": {},
   "outputs": [
    {
     "data": {
      "image/png": "[encoded data removed]",
      "text/plain": [
       "<Figure size 600x400 with 1 Axes>"
      ]
     },
     "metadata": {},
     "output_type": "display_data"
    }
   ],
   "source": []
  },
  {
   "cell_type": "markdown",
   "id": "79ec545c-9325-43aa-aafb-123e42e67e04",
   "metadata": {},
   "source": [
    "Once again, we see a rough bell shape, even though we are drawing from a very skewed distribution. The bell is centered somewhere between 16 ad 17, as we expect."
   ]
  },
  {
   "cell_type": "markdown",
   "id": "11c57066-3155-498b-9be5-352b4dc2f750",
   "metadata": {},
   "source": [
    "## 14.4.3. Central Limit Theorem\n"
   ]
  },
  {
   "cell_type": "code",
   "execution_count": null,
   "id": "11dc2274-7785-4f4a-bd30-860e38ca8a53",
   "metadata": {},
   "outputs": [],
   "source": [
    "Table().with_column('Red Net', bets_array).hist(bins = np.arange(-80, 50, 6))"
   ]
  },
  {
   "cell_type": "markdown",
   "id": "af508b9c-abcb-4de9-a73a-84651675a183",
   "metadata": {},
   "source": [
    "That’s a roughly bell shaped histogram, even though the distribution we are drawing from is nowhere near bell shaped.\n",
    "\n",
    "**Center**. The distribution is centered near -20 dollars, roughly. To see why, note that your winnings will be 1 on about 18/38 of the bets, and -$1 on the remaining 20/38. So your average winnings per dollar bet will be roughly -5.26 cents:"
   ]
  },
  {
   "cell_type": "code",
   "execution_count": null,
   "id": "a12207fd",
   "metadata": {},
   "outputs": [],
   "source": [
    "average_per_bet = 1*(18/38) + (-1)*(20/38)\n",
    "average_per_bet"
   ]
  },
  {
   "cell_type": "code",
   "execution_count": null,
   "id": "3a4f8a2e-5985-4404-9011-cfb9e59a6e2f",
   "metadata": {},
   "outputs": [],
   "source": [
    "400 * average_per_bet"
   ]
  },
  {
   "cell_type": "code",
   "execution_count": null,
   "id": "1d12561b-d96a-491a-b693-017adca03e81",
   "metadata": {},
   "outputs": [],
   "source": [
    "import numpy as np\n",
    "\n",
    "np.mean(results.column(0))\n",
    "\n",
    "### mean from simulation"
   ]
  },
  {
   "cell_type": "markdown",
   "id": "5d320342-0867-43a9-9fdb-1e53f291ba83",
   "metadata": {},
   "source": [
    "\n",
    "**Spread**. Run your eye along the curve starting at the center and notice that the point of inflection is near 0. On a bell shaped curve, the SD is the distance from the center to a point of inflection. The center is roughly -20, which means that the SD of the distribution is around $20.\n",
    "\n",
    "In the next section we will see where the $20 comes from. For now, let’s confirm our observation by simply calculating the SD of the 10,000 simulated net gains:"
   ]
  },
  {
   "cell_type": "code",
   "execution_count": null,
   "id": "2a0aeede-d344-4009-9a5f-ebc3ced443f3",
   "metadata": {},
   "outputs": [],
   "source": [
    "np.std(results.column(0))"
   ]
  },
  {
   "cell_type": "markdown",
   "id": "4f869c0a-db31-4b91-89b6-597f01da6ab1",
   "metadata": {},
   "source": [
    "## 14.4.2. Average Flight Delay\n",
    "\n",
    "The table united contains data on departure delays of 13,825 United Airlines domestic flights out of San Francisco airport in the summer of 2015. As we have seen before, the distribution of delays has a long right-hand tail."
   ]
  },
  {
   "cell_type": "code",
   "execution_count": null,
   "id": "c4cc200d-3377-4308-8c9e-73cea0048ca6",
   "metadata": {},
   "outputs": [],
   "source": [
    "united = Table.read_table(path_data + 'united_summer2015.csv')"
   ]
  },
  {
   "cell_type": "code",
   "execution_count": null,
   "id": "a62be5e9-814c-40ab-a108-67f32764c8e0",
   "metadata": {},
   "outputs": [],
   "source": [
    "united.select('Delay').hist()"
   ]
  },
  {
   "cell_type": "code",
   "execution_count": null,
   "id": "b1411a6a-a81b-4412-8533-2e2806bf9e3f",
   "metadata": {},
   "outputs": [],
   "source": [
    "united.select('Delay').to_df().describe()"
   ]
  },
  {
   "cell_type": "code",
   "execution_count": null,
   "id": "41d845f0-3d01-4062-b784-652b077db746",
   "metadata": {},
   "outputs": [],
   "source": [
    "united.select('Delay').hist(bins=np.arange(-20, 585, 1))"
   ]
  },
  {
   "cell_type": "code",
   "execution_count": null,
   "id": "5be7c77b-483f-4484-8970-87c71914da67",
   "metadata": {},
   "outputs": [],
   "source": [
    "#### use the textbook version\n",
    "\n",
    "united.select('Delay').hist(bins=np.arange(-20, 300, 10))"
   ]
  },
  {
   "cell_type": "code",
   "execution_count": null,
   "id": "4ae73300-c6c8-495e-b551-504ac1001765",
   "metadata": {},
   "outputs": [],
   "source": [
    "### mean delay and sd ==> or see describe() above\n",
    "\n",
    "mean_delay = np.mean(united.column('Delay'))\n",
    "sd_delay = np.std(united.column('Delay'))\n",
    "\n",
    "mean_delay, sd_delay"
   ]
  },
  {
   "cell_type": "code",
   "execution_count": null,
   "id": "a04babe1-5999-47aa-8f90-3a5479b3e562",
   "metadata": {},
   "outputs": [],
   "source": [
    "united"
   ]
  },
  {
   "cell_type": "markdown",
   "id": "07c0c30d-055e-43d1-b80b-05b643e4e120",
   "metadata": {},
   "source": [
    "### simulation: sample 400 delays at random with replacement.\n",
    "- You could sample without replacement if you like, but the results would be very similar to with-replacement sampling.\n",
    "- If you sample a few hundred out of 13,825 without replacement, you hardly change the population each time you pull out a value."
   ]
  },
  {
   "cell_type": "code",
   "execution_count": null,
   "id": "b8ab6a1c-3ead-48d7-9f2f-4b17fa2cf6e5",
   "metadata": {},
   "outputs": [],
   "source": [
    "# step 1. get table\n",
    "delay = united.select('Delay')\n",
    "delay.show(5)"
   ]
  },
  {
   "cell_type": "code",
   "execution_count": null,
   "id": "12fe5062-c07a-4fc3-8d9f-adf67d456153",
   "metadata": {},
   "outputs": [],
   "source": [
    "###### sample 400 samples and take mean\n",
    "\n",
    "np.mean(delay.sample(400).column('Delay'))   ### sample() returns a new table"
   ]
  },
  {
   "cell_type": "code",
   "execution_count": null,
   "id": "a6375346-ffa5-4576-8013-d42710c76932",
   "metadata": {},
   "outputs": [],
   "source": [
    "sample_size = 400\n",
    "repetitions = 10000\n",
    "\n",
    "means = make_array()\n",
    "\n",
    "for i in np.arange(repetitions):\n",
    "    sample = delay.sample(sample_size)\n",
    "    new_mean = np.mean(sample.column('Delay'))\n",
    "    means = np.append(means, new_mean)\n",
    "\n",
    "results = Table().with_column(\n",
    "    'Sample Mean', means\n",
    ")"
   ]
  },
  {
   "cell_type": "code",
   "execution_count": null,
   "id": "be2fa0db-b47a-4927-b965-d492b3b2bc77",
   "metadata": {},
   "outputs": [],
   "source": [
    "results.to_df().describe()"
   ]
  },
  {
   "cell_type": "code",
   "execution_count": null,
   "id": "31623cb3-ea3b-4da8-ab31-a244e0069337",
   "metadata": {},
   "outputs": [],
   "source": [
    "results.hist(bins = np.arange(10, 25, 0.5))"
   ]
  },
  {
   "cell_type": "markdown",
   "id": "2a94f9a3-5e84-4699-ac63-cd2d54440ed5",
   "metadata": {},
   "source": [
    "Once again, we see a rough bell shape, even though we are drawing from a very skewed distribution. The bell is centered somewhere between 16 ad 17, as we expect"
   ]
  },
  {
   "cell_type": "markdown",
   "id": "0d8f71e3-adc2-4ce8-a0e2-94f354a933dd",
   "metadata": {},
   "source": [
    "## 14.4.3. Central Limit Theorem\n",
    "\n",
    "- The reason why the bell shape appears in such settings is a remarkable result of probability theory called the **Central Limit Theorem**.\n",
    "\n",
    "- **The Central Limit Theorem says that the probability distribution of the sum or average of a large random sample drawn with replacement will be roughly normal, regardless of the distribution of the population from which the sample is drawn.**\n",
    "\n",
    "- As we noted when we were studying Chebychev’s bounds, results that can be applied to random samples regardless of the distribution of the population are very powerful, because in data science we rarely know the distribution of the population.\n",
    "\n",
    "- The Central Limit Theorem makes it possible to **make inferences** with very little knowledge about the population, provided we have a large random sample. That is why it is central to the field of statistical inference."
   ]
  },
  {
   "cell_type": "markdown",
   "id": "6c1ccacf-ea43-4dc7-b739-940eeb32b35d",
   "metadata": {},
   "source": [
    "## 14.4.4. Proportion of Purple Flowers\n",
    "\n",
    "- Recall Mendel’s probability model for the colors of the flowers of a species of pea plant. The model says that the flower colors of the plants are like draws made at random with replacement from {Purple, Purple, Purple, White}.\n",
    "\n",
    "- In a large sample of plants, about what proportion will have purple flowers? We would expect the answer to be about 0.75, the proportion purple in the model. And, because proportions are means, the Central Limit Theorem says that the distribution of the sample proportion of purple plants is roughly normal.\n",
    "\n",
    "- We can confirm this by simulation. Let’s simulate the proportion of purple-flowered plants in a sample of 200 plants."
   ]
  },
  {
   "cell_type": "code",
   "execution_count": null,
   "id": "e34b8747-887c-49de-9196-b66cd392b744",
   "metadata": {},
   "outputs": [],
   "source": [
    "colors = make_array('Purple', 'Purple', 'Purple', 'White')\n",
    "\n",
    "model = Table().with_column('Color', colors)\n",
    "\n",
    "model"
   ]
  },
  {
   "cell_type": "code",
   "execution_count": null,
   "id": "9a2bea31-6034-4445-9f04-3310d3f45f9b",
   "metadata": {},
   "outputs": [],
   "source": [
    "props = make_array()\n",
    "\n",
    "num_plants = 200\n",
    "repetitions = 10000\n",
    "\n",
    "for i in np.arange(repetitions):\n",
    "    sample = model.sample(num_plants)   ### table of 200 \n",
    "    new_prop = np.count_nonzero(sample.column('Color') == 'Purple')/num_plants   ### proportion\n",
    "    props = np.append(props, new_prop)   ### array\n",
    "    \n",
    "results = Table().with_column('Sample Proportion: 200', props)   ### turn array to table\n",
    "results.hist(bins=np.arange(0.65, 0.85, 0.01))"
   ]
  },
  {
   "cell_type": "markdown",
   "id": "0352493f-6bf4-4a79-a3be-8eb82ca0f169",
   "metadata": {},
   "source": [
    "There’s that normal curve again, as predicted by the Central Limit Theorem, centered at around 0.75 just as you would expect.\n",
    "\n",
    "How would this distribution change if we increased the sample size? Let’s run the code again with a sample size of 800, and collect the results of simulations in the same table in which we collected simulations based on a sample size of 200. We will keep the number of repetitions the same as before so that the two columns have the same length."
   ]
  },
  {
   "cell_type": "code",
   "execution_count": 48,
   "id": "32ea1384-f4c1-4ce1-addf-4b6dd85b8c3f",
   "metadata": {},
   "outputs": [
    {
     "ename": "NameError",
     "evalue": "name 'model' is not defined",
     "output_type": "error",
     "traceback": [
      "\u001b[0;31m---------------------------------------------------------------------------\u001b[0m",
      "\u001b[0;31mNameError\u001b[0m                                 Traceback (most recent call last)",
      "Cell \u001b[0;32mIn[48], line 6\u001b[0m\n\u001b[1;32m      3\u001b[0m num_plants \u001b[38;5;241m=\u001b[39m \u001b[38;5;241m800\u001b[39m\n\u001b[1;32m      5\u001b[0m \u001b[38;5;28;01mfor\u001b[39;00m i \u001b[38;5;129;01min\u001b[39;00m np\u001b[38;5;241m.\u001b[39marange(repetitions):\n\u001b[0;32m----> 6\u001b[0m     sample \u001b[38;5;241m=\u001b[39m \u001b[43mmodel\u001b[49m\u001b[38;5;241m.\u001b[39msample(num_plants)\n\u001b[1;32m      7\u001b[0m     new_prop \u001b[38;5;241m=\u001b[39m np\u001b[38;5;241m.\u001b[39mcount_nonzero(sample\u001b[38;5;241m.\u001b[39mcolumn(\u001b[38;5;124m'\u001b[39m\u001b[38;5;124mColor\u001b[39m\u001b[38;5;124m'\u001b[39m) \u001b[38;5;241m==\u001b[39m \u001b[38;5;124m'\u001b[39m\u001b[38;5;124mPurple\u001b[39m\u001b[38;5;124m'\u001b[39m)\u001b[38;5;241m/\u001b[39mnum_plants\n\u001b[1;32m      8\u001b[0m     props2 \u001b[38;5;241m=\u001b[39m np\u001b[38;5;241m.\u001b[39mappend(props2, new_prop)\n",
      "\u001b[0;31mNameError\u001b[0m: name 'model' is not defined"
     ]
    }
   ],
   "source": [
    "props2 = make_array()\n",
    "\n",
    "num_plants = 800\n",
    "\n",
    "for i in np.arange(repetitions):\n",
    "    sample = model.sample(num_plants)\n",
    "    new_prop = np.count_nonzero(sample.column('Color') == 'Purple')/num_plants\n",
    "    props2 = np.append(props2, new_prop)\n",
    "    \n",
    "results = results.with_column('Sample Proportion: 800', props2)"
   ]
  },
  {
   "cell_type": "code",
   "execution_count": null,
   "id": "c1319ee7-2028-4574-96eb-d7ee228db0e9",
   "metadata": {},
   "outputs": [],
   "source": [
    "results.hist(bins=np.arange(0.65, 0.85, 0.01))"
   ]
  },
  {
   "cell_type": "markdown",
   "id": "4c535307-80cc-4e77-b16c-c293555b2e04",
   "metadata": {},
   "source": [
    "- Both distributions are approximately **normal** but one is narrower than the other. The proportions based on a sample size of 800 are more tightly clustered around 0.75 than those from a sample size of 200. **Increasing the sample size has decreased the variability in the sample proportion**.\n",
    "\n",
    "This should not be surprising. We have leaned many times on the intuition that a **larger sample size generally reduces the variability of a statistic**. However, in the case of a sample average, we can quantify the relationship between sample size and variability.\n",
    "\n",
    "Exactly how does the sample size affect the variability of a sample average or proportion? That is the question we will examine in the next section."
   ]
  },
  {
   "cell_type": "code",
   "execution_count": null,
   "id": "5fb0a038-7631-46ef-8602-5a6e8def6635",
   "metadata": {},
   "outputs": [],
   "source": []
  },
  {
   "cell_type": "code",
   "execution_count": 82,
   "id": "fe48ea23-d6d2-4a29-a863-236e7ddd85c9",
   "metadata": {},
   "outputs": [
    {
     "data": {
      "text/plain": [
       "array([ 1.24555026,  0.94374673,  0.62783503, -0.27983133,  0.72819162,\n",
       "       -0.51583954,  0.48193118, -0.5072995 ,  0.24124512, -0.8076328 ])"
      ]
     },
     "execution_count": 82,
     "metadata": {},
     "output_type": "execute_result"
    }
   ],
   "source": [
    "np.random.normal(0, 1, 10)"
   ]
  },
  {
   "cell_type": "code",
   "execution_count": null,
   "id": "94ce227f-ee2b-40ee-b9aa-b50e74aa9e60",
   "metadata": {},
   "outputs": [],
   "source": []
  }
 ],
 "metadata": {
  "kernelspec": {
   "display_name": "Python 3 (ipykernel)",
   "language": "python",
   "name": "python3"
  },
  "language_info": {
   "codemirror_mode": {
    "name": "ipython",
    "version": 3
   },
   "file_extension": ".py",
   "mimetype": "text/x-python",
   "name": "python",
   "nbconvert_exporter": "python",
   "pygments_lexer": "ipython3",
   "version": "3.12.8"
  }
 },
 "nbformat": 4,
 "nbformat_minor": 5
}
