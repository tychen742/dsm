{
 "cells": [
  {
   "cell_type": "markdown",
   "id": "aa903da1-e356-4dcd-87ee-f534c3fa3729",
   "metadata": {},
   "source": [
    "# The Central Limit Theorem\n",
    "\n",
    "Very few of the data histograms that we have seen in this course have been bell shaped. When we have come across a bell shaped distribution, it has almost invariably been an empirical histogram of a statistic based on a random sample.\n",
    "\n",
    "The examples below show two very different situations in which an approximate bell shape appears in such histograms."
   ]
  },
  {
   "cell_type": "markdown",
   "id": "558426dc-c5bb-499e-ba2e-f37a2220490d",
   "metadata": {},
   "source": [
    "## Net Gain in Roulette\n",
    "\n",
    "In an earlier section, the bell appeared as the rough shape of the total amount of money we would make if we placed the same bet repeatedly on different spins of a roulette wheel."
   ]
  },
  {
   "cell_type": "code",
   "execution_count": null,
   "id": "6500cff5-0e5a-4231-b167-d3a06ba5ec06",
   "metadata": {},
   "outputs": [],
   "source": [
    "# path_data = '../../data/'\n",
    "# from datascience import *\n",
    "# import numpy as np\n",
    "# import matplotlib.pyplot as plt\n",
    "# %matplotlib inline"
   ]
  },
  {
   "cell_type": "code",
   "execution_count": null,
   "id": "2f0eaf1d-d3f7-4a32-8450-254ac4cd92c6",
   "metadata": {},
   "outputs": [],
   "source": [
    "##### make the table wheel by reading from roulette_wheel.csv"
   ]
  },
  {
   "cell_type": "code",
   "execution_count": null,
   "id": "934b79fd-249d-405b-a794-48d0d8f8a4e2",
   "metadata": {},
   "outputs": [],
   "source": [
    "##### show first 5 records of the table\n",
    "wheel.show(5)"
   ]
  },
  {
   "cell_type": "code",
   "execution_count": null,
   "id": "72e5c1c8-cf72-499b-bc9e-5835be586a35",
   "metadata": {},
   "outputs": [],
   "source": [
    "##### define a red_winning function: if red, win 1, otherwise, lose 1\n",
    "def red_winnings(color):\n",
    "    # if color == 'red':\n",
    "    #     return 1\n",
    "    # else:\n",
    "    #     return -1"
   ]
  },
  {
   "cell_type": "markdown",
   "id": "d58782e0-686f-4513-9297-0c29007c7a02",
   "metadata": {},
   "source": [
    "The table red shows each pocket’s winnings on red.\n",
    "\n"
   ]
  },
  {
   "cell_type": "code",
   "execution_count": null,
   "id": "42adcd2c-d42f-4038-8802-0fec0a744cd9",
   "metadata": {},
   "outputs": [],
   "source": [
    "##### apply the function to wheel to make a new column \"Winnings: Red\"   ### tbl.apply(function, column)\n",
    "##### call the new table red\n",
    "\n",
    "red.show(5)"
   ]
  },
  {
   "cell_type": "code",
   "execution_count": null,
   "id": "be1ba6a1-3660-481e-a0be-ecdb42387a1f",
   "metadata": {},
   "outputs": [],
   "source": [
    "##### chance of winning\n",
    "\n",
    "red.group('Color')"
   ]
  },
  {
   "cell_type": "code",
   "execution_count": null,
   "id": "280fce9b-d3ea-4924-a6a0-11bc5a22b757",
   "metadata": {},
   "outputs": [],
   "source": [
    "##### or count the 1's: \n",
    "\n",
    "red.where('Winnings: Red', are.equal_to(1)).num_rows\n",
    "\n",
    "##### 18/38 chance of winning 1 and 20/38 chance of losing 1"
   ]
  },
  {
   "cell_type": "code",
   "execution_count": null,
   "id": "7d2d8eb2-0aba-415a-81a1-3f31457afc25",
   "metadata": {},
   "outputs": [],
   "source": [
    "##### visutalize probability distribution\n",
    "\n",
    "red.hist('Winnings: Red', bins = np.arange(-1.5, 2, 1))\n"
   ]
  },
  {
   "cell_type": "code",
   "execution_count": null,
   "id": "cbcdbaab-8d2e-41e7-8600-db2866c496d5",
   "metadata": {},
   "outputs": [],
   "source": [
    "##### bet_on_red = red.sample(1, 'Winnings: Red')\n",
    "red.sample(1, 'Winnings: Red')"
   ]
  },
  {
   "cell_type": "code",
   "execution_count": null,
   "id": "7c2d84d1-f97f-4d19-a9ed-374ca8d5b7b2",
   "metadata": {},
   "outputs": [],
   "source": [
    "# bet_on_red = red.sample(1, 'Winnings: Red')\n",
    "# bet_on_red = red.sample(1, 'Winnings: Red')[2][0]\n",
    "# bet_on_red\n",
    "\n",
    "##### bet on red\n",
    "\n",
    "red.sample(1, 'Winnings: Red')[2][0]"
   ]
  },
  {
   "cell_type": "code",
   "execution_count": null,
   "id": "c527a4d8-de4b-4ee7-a5c5-50c402c35809",
   "metadata": {},
   "outputs": [],
   "source": [
    "##### turn one bet into function\n",
    "\n",
    "def bet_on_red():\n",
    "    ###"
   ]
  },
  {
   "cell_type": "code",
   "execution_count": null,
   "id": "77045d72-2d78-4fee-ab63-af79799f877a",
   "metadata": {},
   "outputs": [],
   "source": [
    "bet_on_red()"
   ]
  },
  {
   "cell_type": "code",
   "execution_count": null,
   "id": "4617b1bd-2abd-48dd-94d5-e22e2198a050",
   "metadata": {},
   "outputs": [],
   "source": [
    "##### net gain of 400 spins betting on red for $1\n",
    "\n",
    "num_bets = 400\n",
    "repetitions = 1000\n",
    "bets_array = make_array()\n",
    "\n",
    "for i in np.arange(repetitions):\n",
    "    # spins = red.sample(num_bets)\n",
    "    # net_gain_400 = spins.column('Winnings: Red').sum()\n",
    "    # bets_array = np.append(bets_array, net_gain_400)\n",
    "\n",
    "# results = Table().with_column(\"Net Gain on Red\", bets_array)\n",
    "results"
   ]
  },
  {
   "cell_type": "code",
   "execution_count": null,
   "id": "3ad9c31b-4d00-47b3-8ab2-29ed41ccc3b7",
   "metadata": {},
   "outputs": [],
   "source": [
    "Table().with_column('Red Net', bets_array).to_df().describe()"
   ]
  },
  {
   "cell_type": "code",
   "execution_count": null,
   "id": "0c532c58-d0a9-4c96-a192-25a2cbb9c996",
   "metadata": {},
   "outputs": [],
   "source": [
    "Table().with_column('Red Net', bets_array).hist()"
   ]
  },
  {
   "cell_type": "code",
   "execution_count": null,
   "id": "11dc2274-7785-4f4a-bd30-860e38ca8a53",
   "metadata": {},
   "outputs": [],
   "source": [
    "Table().with_column('Red Net', bets_array).hist(bins = np.arange(-80, 50, 6))"
   ]
  },
  {
   "cell_type": "markdown",
   "id": "af508b9c-abcb-4de9-a73a-84651675a183",
   "metadata": {},
   "source": [
    "That’s a roughly bell shaped histogram, even though the distribution we are drawing from is nowhere near bell shaped.\n",
    "\n",
    "**Center**. The distribution is centered near -20 dollars, roughly. To see why, note that your winnings will be 1 on about 18/38 of the bets, and -$1 on the remaining 20/38. So your average winnings per dollar bet will be roughly -5.26 cents:"
   ]
  },
  {
   "cell_type": "code",
   "execution_count": null,
   "id": "83065f49-ffb6-4a3e-83ea-7bb6dc023743",
   "metadata": {},
   "outputs": [],
   "source": [
    "average_per_bet = 1*(18/38) + (-1)*(20/38)\n",
    "average_per_bet"
   ]
  },
  {
   "cell_type": "code",
   "execution_count": null,
   "id": "3a4f8a2e-5985-4404-9011-cfb9e59a6e2f",
   "metadata": {},
   "outputs": [],
   "source": [
    "### So in 400 bets you expect that your net gain will be about -$21:\n",
    "\n",
    "400 * average_per_bet"
   ]
  },
  {
   "cell_type": "code",
   "execution_count": null,
   "id": "1d12561b-d96a-491a-b693-017adca03e81",
   "metadata": {},
   "outputs": [],
   "source": [
    "import numpy as np\n",
    "\n",
    "##### For confirmation, we can compute the mean of the 10,000 simulated net gains:\n",
    "\n",
    "# np.mean(results.column(0))\n",
    "\n",
    "### mean from simulation should be close to calculated mean"
   ]
  },
  {
   "cell_type": "markdown",
   "id": "5d320342-0867-43a9-9fdb-1e53f291ba83",
   "metadata": {},
   "source": [
    "\n",
    "**Spread**. Run your eye along the curve starting at the center and notice that the point of inflection is near 0. On a bell shaped curve, the SD is the distance from the center to a point of inflection. The center is roughly -20, which means that the SD of the distribution is around $20.\n",
    "\n",
    "In the next section we will see where the $20 comes from. For now, let’s confirm our observation by simply calculating the SD of the 10,000 simulated net gains:"
   ]
  },
  {
   "cell_type": "code",
   "execution_count": null,
   "id": "2a0aeede-d344-4009-9a5f-ebc3ced443f3",
   "metadata": {},
   "outputs": [],
   "source": [
    "##### \n",
    "\n",
    "# np.std(results.column(0))"
   ]
  },
  {
   "cell_type": "markdown",
   "id": "eaa99b22-c821-4c43-b8ae-aa84fea272c8",
   "metadata": {},
   "source": [
    "**Summary**. The net gain in 400 bets is the sum of the 400 amounts won on each individual bet. The probability distribution of that sum is approximately normal, with an average and an SD that we can approximate.\n",
    "\n"
   ]
  },
  {
   "cell_type": "markdown",
   "id": "4f869c0a-db31-4b91-89b6-597f01da6ab1",
   "metadata": {},
   "source": [
    "## Average Flight Delay\n",
    "\n",
    "The table united contains data on departure delays of 13,825 United Airlines domestic flights out of San Francisco airport in the summer of 2015. As we have seen before, the distribution of delays has a long right-hand tail."
   ]
  },
  {
   "cell_type": "code",
   "execution_count": null,
   "id": "c4cc200d-3377-4308-8c9e-73cea0048ca6",
   "metadata": {},
   "outputs": [],
   "source": [
    "united = Table.read_table(path_data + 'united_summer2015.csv')"
   ]
  },
  {
   "cell_type": "code",
   "execution_count": null,
   "id": "a62be5e9-814c-40ab-a108-67f32764c8e0",
   "metadata": {},
   "outputs": [],
   "source": [
    "# united.select('Delay').hist()"
   ]
  },
  {
   "cell_type": "code",
   "execution_count": null,
   "id": "b1411a6a-a81b-4412-8533-2e2806bf9e3f",
   "metadata": {},
   "outputs": [],
   "source": [
    "# united.select('Delay').to_df().describe()"
   ]
  },
  {
   "cell_type": "code",
   "execution_count": null,
   "id": "41d845f0-3d01-4062-b784-652b077db746",
   "metadata": {},
   "outputs": [],
   "source": [
    "# united.select('Delay').hist(bins=np.arange(-20, 585, 1))"
   ]
  },
  {
   "cell_type": "code",
   "execution_count": null,
   "id": "5be7c77b-483f-4484-8970-87c71914da67",
   "metadata": {},
   "outputs": [],
   "source": [
    "#### use the textbook version\n",
    "\n",
    "united.select('Delay').hist(bins=np.arange(-20, 300, 10))"
   ]
  },
  {
   "cell_type": "code",
   "execution_count": null,
   "id": "4ae73300-c6c8-495e-b551-504ac1001765",
   "metadata": {},
   "outputs": [],
   "source": [
    "### mean delay and sd ==> or see describe() above\n",
    "\n",
    "mean_delay = \n",
    "sd_delay = \n",
    "\n",
    "mean_delay, sd_delay"
   ]
  },
  {
   "cell_type": "markdown",
   "id": "07c0c30d-055e-43d1-b80b-05b643e4e120",
   "metadata": {},
   "source": [
    "### simulation: sample 400 delays at random with replacement.\n",
    "- You could sample without replacement if you like, but the results would be very similar to with-replacement sampling.\n",
    "- If you sample a few hundred out of 13,825 without replacement, you hardly change the population each time you pull out a value."
   ]
  },
  {
   "cell_type": "code",
   "execution_count": null,
   "id": "b8ab6a1c-3ead-48d7-9f2f-4b17fa2cf6e5",
   "metadata": {},
   "outputs": [],
   "source": [
    "# step 1. get delay table\n",
    "# delay = united.select('')\n",
    "# delay.show(5)"
   ]
  },
  {
   "cell_type": "code",
   "execution_count": null,
   "id": "12fe5062-c07a-4fc3-8d9f-adf67d456153",
   "metadata": {},
   "outputs": [],
   "source": [
    "###### sample 400 samples and take mean\n",
    "\n",
    "# np.mean(delay.sample().column(''))   ### sample() returns a new table, so get a column array"
   ]
  },
  {
   "cell_type": "code",
   "execution_count": null,
   "id": "a6375346-ffa5-4576-8013-d42710c76932",
   "metadata": {},
   "outputs": [],
   "source": [
    "sample_size = 400\n",
    "repetitions = 10000\n",
    "\n",
    "# means = make_XXXXX()\n",
    "\n",
    "for i in np.arange(repetitions):\n",
    "    # sample = delay.sample(XXXXXXX)\n",
    "    # new_mean = np.mean(sample.XXXXX('Delay'))\n",
    "    # means = np.append(means, XXXXXX)\n",
    "\n",
    "results = Table().with_column(\n",
    "    'Sample Mean', means\n",
    ")"
   ]
  },
  {
   "cell_type": "code",
   "execution_count": null,
   "id": "be2fa0db-b47a-4927-b965-d492b3b2bc77",
   "metadata": {},
   "outputs": [],
   "source": [
    "results.to_df().describe()"
   ]
  },
  {
   "cell_type": "code",
   "execution_count": null,
   "id": "31623cb3-ea3b-4da8-ab31-a244e0069337",
   "metadata": {},
   "outputs": [],
   "source": [
    "##### average of delay is very skewed\n",
    "##### BUT its sample is normal distribution\n",
    "\n",
    "results.hist(bins = np.arange(10, 25, 0.5))"
   ]
  },
  {
   "cell_type": "markdown",
   "id": "2a94f9a3-5e84-4699-ac63-cd2d54440ed5",
   "metadata": {},
   "source": [
    "Once again, we see a rough bell shape, even though we are drawing from a very skewed distribution. The bell is centered somewhere between 16 ad 17, as we expect"
   ]
  },
  {
   "cell_type": "markdown",
   "id": "0d8f71e3-adc2-4ce8-a0e2-94f354a933dd",
   "metadata": {},
   "source": [
    "## Central Limit Theorem\n",
    "\n",
    "- The reason why the bell shape appears in such settings is a remarkable result of probability theory called the **Central Limit Theorem**.\n",
    "\n",
    "- **The Central Limit Theorem says that the probability distribution of the sum or average of a large random sample drawn with replacement will be roughly normal, regardless of the distribution of the population from which the sample is drawn.**\n",
    "\n",
    "- As we noted when we were studying Chebychev’s bounds, results that can be applied to random samples regardless of the distribution of the population are very powerful, because in data science we rarely know the distribution of the population.\n",
    "\n",
    "- The Central Limit Theorem makes it possible to **make inferences** with very little knowledge about the population, provided we have a large random sample. That is why it is central to the field of statistical inference."
   ]
  },
  {
   "cell_type": "markdown",
   "id": "6c1ccacf-ea43-4dc7-b739-940eeb32b35d",
   "metadata": {},
   "source": [
    "## Proportion of Purple Flowers\n",
    "\n",
    "- Recall Mendel’s probability model for the colors of the flowers of a species of pea plant. The model says that the flower colors of the plants are like draws made at random with replacement from {Purple, Purple, Purple, White}.\n",
    "\n",
    "- In a large sample of plants, about what proportion will have purple flowers? We would expect the answer to be about 0.75, the proportion purple in the model. And, because proportions are means, the Central Limit Theorem says that the distribution of the sample proportion of purple plants is roughly normal.\n",
    "\n",
    "- We can confirm this by simulation. Let’s simulate the proportion of purple-flowered plants in a sample of 200 plants."
   ]
  },
  {
   "cell_type": "code",
   "execution_count": null,
   "id": "e34b8747-887c-49de-9196-b66cd392b744",
   "metadata": {},
   "outputs": [],
   "source": [
    "colors = make_array('Purple', 'Purple', 'Purple', 'White')\n",
    "\n",
    "model = Table().XXXXX('Color', colors)\n",
    "\n",
    "model"
   ]
  },
  {
   "cell_type": "code",
   "execution_count": null,
   "id": "9a2bea31-6034-4445-9f04-3310d3f45f9b",
   "metadata": {},
   "outputs": [],
   "source": [
    "props = make_array()\n",
    "\n",
    "num_plants = 200\n",
    "repetitions = 10000\n",
    "\n",
    "for i in np.arange(repetitions):\n",
    "    sample = model.sample(num_plants)   ### table of 200 \n",
    "    new_prop = np.count_nonzero(sample.column('Color') == 'Purple')/num_plants   ### proportion\n",
    "    props = np.append(props, new_prop)   ### array\n",
    "    \n",
    "results = Table().with_column('Sample Proportion: 200', props)   ### turn array to table\n",
    "results.hist(bins=np.arange(0.65, 0.85, 0.01))"
   ]
  },
  {
   "cell_type": "markdown",
   "id": "0352493f-6bf4-4a79-a3be-8eb82ca0f169",
   "metadata": {},
   "source": [
    "There’s that normal curve again, as predicted by the Central Limit Theorem, centered at around 0.75 just as you would expect.\n",
    "\n",
    "How would this distribution change if we increased the sample size? Let’s run the code again with a sample size of 800, and collect the results of simulations in the same table in which we collected simulations based on a sample size of 200. We will keep the number of repetitions the same as before so that the two columns have the same length."
   ]
  },
  {
   "cell_type": "code",
   "execution_count": null,
   "id": "32ea1384-f4c1-4ce1-addf-4b6dd85b8c3f",
   "metadata": {},
   "outputs": [],
   "source": [
    "# props2 = make_array()\n",
    "\n",
    "# num_plants = 800\n",
    "\n",
    "for i in np.arange(repetitions):\n",
    "    sample = model.sample(XXXXX)\n",
    "    new_prop = np.count_nonzero(sample.column('XXXXX') == 'XXXXX')/num_plants\n",
    "    props2 = np.append(props2, new_prop)\n",
    "    \n",
    "results = results.with_column('Sample Proportion: 800', props2)"
   ]
  },
  {
   "cell_type": "code",
   "execution_count": null,
   "id": "c1319ee7-2028-4574-96eb-d7ee228db0e9",
   "metadata": {},
   "outputs": [],
   "source": [
    "##### another learning point: look at the two results\n",
    "\n",
    "results.hist(bins=np.arange(0.65, 0.85, 0.01))\n",
    "\n"
   ]
  },
  {
   "cell_type": "markdown",
   "id": "4c535307-80cc-4e77-b16c-c293555b2e04",
   "metadata": {},
   "source": [
    "- Both distributions are approximately **normal** but one is narrower than the other. The proportions based on a sample size of 800 are more tightly clustered around 0.75 than those from a sample size of 200. **Increasing the sample size has decreased the variability in the sample proportion**.\n",
    "\n",
    "This should not be surprising. We have leaned many times on the intuition that a **larger sample size generally reduces the variability of a statistic**. However, in the case of a sample average, we can quantify the relationship between sample size and variability.\n",
    "\n",
    "Exactly how does the sample size affect the variability of a sample average or proportion? That is the question we will examine in the next section."
   ]
  },
  {
   "cell_type": "code",
   "execution_count": null,
   "id": "5fb0a038-7631-46ef-8602-5a6e8def6635",
   "metadata": {},
   "outputs": [],
   "source": []
  }
 ],
 "metadata": {
  "kernelspec": {
   "display_name": "Python 3 (ipykernel)",
   "language": "python",
   "name": "python3"
  },
  "language_info": {
   "codemirror_mode": {
    "name": "ipython",
    "version": 3
   },
   "file_extension": ".py",
   "mimetype": "text/x-python",
   "name": "python",
   "nbconvert_exporter": "python",
   "pygments_lexer": "ipython3",
   "version": "3.12.0"
  }
 },
 "nbformat": 4,
 "nbformat_minor": 5
}
