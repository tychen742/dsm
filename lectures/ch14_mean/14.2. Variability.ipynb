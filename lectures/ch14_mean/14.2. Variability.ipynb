{
 "cells": [
  {
   "cell_type": "markdown",
   "id": "3341bddc-768b-436e-abc5-c27212e8e3c5",
   "metadata": {},
   "source": [
    "# 14.2. Variability\n",
    "\n",
    "The **mean tells us where a histogram balances**. But in almost every histogram we have seen, the values spread out on both sides of the mean. **How far from the mean can they be?** To answer this question, we will develop a measure of **variability** about the mean.\n",
    "\n",
    "We will start by describing how to calculate the measure. Then we will see why it is a good measure to calculate.\n"
   ]
  },
  {
   "cell_type": "markdown",
   "id": "2a7ab5df-4495-4746-9a07-eff38538265f",
   "metadata": {},
   "source": [
    "## 14.2.1. The Rough Size of Deviations from Average\n",
    "\n",
    "For simplicity, we will begin our calculations in the context of a simple array any_numbers consisting of just four values. As you will see, our method will extend easily to any other array of values."
   ]
  },
  {
   "cell_type": "code",
   "execution_count": 4,
   "id": "082a957e-983d-4914-baa7-d9e7406c64b2",
   "metadata": {},
   "outputs": [],
   "source": [
    "from datascience import *\n",
    "import numpy as np\n",
    "\n",
    "any_numbers = make_array(1, 2, 2, 10)"
   ]
  },
  {
   "cell_type": "markdown",
   "id": "81c225b4-3cde-41ab-a7ab-9904f69078da",
   "metadata": {},
   "source": [
    "The goal is to measure roughly how far off the numbers are from their average. To do this, we first need the average:"
   ]
  },
  {
   "cell_type": "code",
   "execution_count": 5,
   "id": "500f0fd9-e919-45d1-aedc-7173a27bb3b3",
   "metadata": {},
   "outputs": [
    {
     "data": {
      "text/plain": [
       "3.75"
      ]
     },
     "execution_count": 5,
     "metadata": {},
     "output_type": "execute_result"
    }
   ],
   "source": [
    "# Step 1. The average.\n",
    "mean = np.mean(any_numbers)\n",
    "mean"
   ]
  },
  {
   "cell_type": "markdown",
   "id": "a5f9548e-e059-491c-b3a2-25eb6b7a9da9",
   "metadata": {},
   "source": [
    "Next, let’s find out how far each value is from the mean. These are called the deviations from the average. A “deviation from average” is just a value minus the average. The table calculation_steps displays the results."
   ]
  },
  {
   "cell_type": "code",
   "execution_count": 6,
   "id": "0cc70abf-5223-4764-9e61-ca1d44624723",
   "metadata": {},
   "outputs": [
    {
     "data": {
      "text/html": [
       "<table border=\"1\" class=\"dataframe\">\n",
       "    <thead>\n",
       "        <tr>\n",
       "            <th>Value</th> <th>Deviation from Average</th>\n",
       "        </tr>\n",
       "    </thead>\n",
       "    <tbody>\n",
       "        <tr>\n",
       "            <td>1    </td> <td>-2.75                 </td>\n",
       "        </tr>\n",
       "        <tr>\n",
       "            <td>2    </td> <td>-1.75                 </td>\n",
       "        </tr>\n",
       "        <tr>\n",
       "            <td>2    </td> <td>-1.75                 </td>\n",
       "        </tr>\n",
       "        <tr>\n",
       "            <td>10   </td> <td>6.25                  </td>\n",
       "        </tr>\n",
       "    </tbody>\n",
       "</table>"
      ],
      "text/plain": [
       "Value | Deviation from Average\n",
       "1     | -2.75\n",
       "2     | -1.75\n",
       "2     | -1.75\n",
       "10    | 6.25"
      ]
     },
     "execution_count": 6,
     "metadata": {},
     "output_type": "execute_result"
    }
   ],
   "source": [
    "# Step 2. The deviations from average. (distance)\n",
    "deviations = any_numbers - mean\n",
    "calculation_steps = Table().with_columns(\n",
    "        'Value', any_numbers,\n",
    "        'Deviation from Average', deviations )\n",
    "calculation_steps"
   ]
  },
  {
   "cell_type": "markdown",
   "id": "3f1c8213-88ea-4261-b7ff-92cbf16a9f83",
   "metadata": {},
   "source": [
    "Some of the **deviations** are negative; those correspond to values that are below average. Positive deviations correspond to above-average values.\n",
    "\n",
    "To calculate roughly how big the deviations are, it is natural to compute the mean of the deviations. But something interesting happens when all the deviations are added together:"
   ]
  },
  {
   "cell_type": "code",
   "execution_count": 7,
   "id": "d73a88fa-f4a0-4f00-ba64-c1169171d06d",
   "metadata": {},
   "outputs": [
    {
     "data": {
      "text/plain": [
       "0.0"
      ]
     },
     "execution_count": 7,
     "metadata": {},
     "output_type": "execute_result"
    }
   ],
   "source": [
    "sum(deviations)"
   ]
  },
  {
   "cell_type": "markdown",
   "id": "b58ce3e8-1113-4d47-a95b-69001e715102",
   "metadata": {},
   "source": [
    "The positive deviations exactly cancel out the negative ones. This is true of all lists of numbers, no matter what the histogram of the list looks like: **the sum of the deviations from average is zero**.\n",
    "\n"
   ]
  },
  {
   "cell_type": "markdown",
   "id": "406735b3-e951-4400-9464-1305c44b3c4b",
   "metadata": {},
   "source": [
    "Since the sum of the deviations is 0, the mean of the deviations will be 0 as well:"
   ]
  },
  {
   "cell_type": "code",
   "execution_count": 8,
   "id": "185193de-0aba-4e59-8b13-1d0adf586cd7",
   "metadata": {},
   "outputs": [
    {
     "data": {
      "text/plain": [
       "0.0"
      ]
     },
     "execution_count": 8,
     "metadata": {},
     "output_type": "execute_result"
    }
   ],
   "source": [
    "np.mean(deviations)"
   ]
  },
  {
   "cell_type": "markdown",
   "id": "2ee7745e-7169-41b8-ab8d-da5611d487f6",
   "metadata": {},
   "source": [
    "Because of this, **the mean of the deviations** is not a useful measure of the size of the deviations. What we really want to know is roughly how big the deviations are, regardless of whether they are positive or negative. So we need a way to eliminate the signs of the deviations.\n",
    "\n",
    "There are two time-honored ways of losing signs: the **absolute value**, and the **square**. It turns out that taking the square constructs a measure with extremely powerful properties, some of which we will study in this course.\n",
    "\n",
    "So let’s eliminate the signs by squaring all the deviations. Then we will take the mean of the squares:"
   ]
  },
  {
   "cell_type": "code",
   "execution_count": 9,
   "id": "bb8348c7-d845-4c73-a3d1-71d882fb7b07",
   "metadata": {},
   "outputs": [
    {
     "data": {
      "text/html": [
       "<table border=\"1\" class=\"dataframe\">\n",
       "    <thead>\n",
       "        <tr>\n",
       "            <th>Value</th> <th>Deviation from Average</th> <th>Squared Deviations from Average</th>\n",
       "        </tr>\n",
       "    </thead>\n",
       "    <tbody>\n",
       "        <tr>\n",
       "            <td>1    </td> <td>-2.75                 </td> <td>7.5625                         </td>\n",
       "        </tr>\n",
       "        <tr>\n",
       "            <td>2    </td> <td>-1.75                 </td> <td>3.0625                         </td>\n",
       "        </tr>\n",
       "        <tr>\n",
       "            <td>2    </td> <td>-1.75                 </td> <td>3.0625                         </td>\n",
       "        </tr>\n",
       "        <tr>\n",
       "            <td>10   </td> <td>6.25                  </td> <td>39.0625                        </td>\n",
       "        </tr>\n",
       "    </tbody>\n",
       "</table>"
      ],
      "text/plain": [
       "Value | Deviation from Average | Squared Deviations from Average\n",
       "1     | -2.75                  | 7.5625\n",
       "2     | -1.75                  | 3.0625\n",
       "2     | -1.75                  | 3.0625\n",
       "10    | 6.25                   | 39.0625"
      ]
     },
     "execution_count": 9,
     "metadata": {},
     "output_type": "execute_result"
    }
   ],
   "source": [
    "# Step 3. The squared deviations from average\n",
    "\n",
    "squared_deviations = deviations ** 2     ##### python is king!\n",
    "calculation_steps = calculation_steps.with_column(\n",
    "   'Squared Deviations from Average', squared_deviations )\n",
    "calculation_steps"
   ]
  },
  {
   "cell_type": "markdown",
   "id": "47eb6ba6-db7f-4773-8d3e-434125753d80",
   "metadata": {},
   "source": [
    "### Variance = the mean squared deviation from average"
   ]
  },
  {
   "cell_type": "code",
   "execution_count": 10,
   "id": "76555c4f-a4af-43a4-8524-212fe6e79411",
   "metadata": {},
   "outputs": [
    {
     "data": {
      "text/plain": [
       "13.1875"
      ]
     },
     "execution_count": 10,
     "metadata": {},
     "output_type": "execute_result"
    }
   ],
   "source": [
    "# Step 4. Variance = the mean squared deviation from average\n",
    "\n",
    "variance = np.mean(squared_deviations)\n",
    "variance"
   ]
  },
  {
   "cell_type": "markdown",
   "id": "ec3b1c33-0b28-4317-ae53-236dc8bd18aa",
   "metadata": {},
   "source": [
    "**Variance**: The mean squared deviation calculated above is called the variance of the values.\n",
    "\n",
    "While the variance does give us an idea of spread, it is not on the same scale as the original variable as its units are the square of the original. This makes interpretation very difficult.\n",
    "\n",
    "So we return to the original scale by taking the positive square root of the variance:"
   ]
  },
  {
   "cell_type": "code",
   "execution_count": 11,
   "id": "d407e37a-d620-414d-9ae2-291fd2c46c24",
   "metadata": {},
   "outputs": [
    {
     "data": {
      "text/plain": [
       "3.6314597615834874"
      ]
     },
     "execution_count": 11,
     "metadata": {},
     "output_type": "execute_result"
    }
   ],
   "source": [
    "# Step 5.\n",
    "# Standard Deviation:    root mean squared deviation from average\n",
    "# Steps of calculation:   5    4      3       2             1\n",
    "\n",
    "sd = variance ** 0.5\n",
    "sd"
   ]
  },
  {
   "cell_type": "markdown",
   "id": "774190e4-ec05-4cd7-999a-04f8eececd6a",
   "metadata": {},
   "source": [
    "## 14.2.2. Standard Deviation"
   ]
  },
  {
   "cell_type": "markdown",
   "id": "7eee2f18-8d3c-4983-87f4-188f8026eb93",
   "metadata": {},
   "source": [
    "The quantity that we have just computed is called the standard deviation of the list, and is abbreviated as SD. It measures roughly how far the numbers on the list are from their average.\n",
    "\n",
    "**Definition**. The SD of a list is defined as the **root mean square of deviations from average**. That’s a mouthful. But read it from right to left and you have the sequence of steps in the calculation.\n",
    "\n",
    "**Computation**. The five steps described above result in the SD. You can also use the function np.std to compute the SD of values in an array:"
   ]
  },
  {
   "cell_type": "code",
   "execution_count": 12,
   "id": "9c2b5b9b-ca4e-47f7-8a1a-1873f9a30044",
   "metadata": {},
   "outputs": [
    {
     "data": {
      "text/plain": [
       "3.6314597615834874"
      ]
     },
     "execution_count": 12,
     "metadata": {},
     "output_type": "execute_result"
    }
   ],
   "source": [
    "np.std(any_numbers)"
   ]
  },
  {
   "cell_type": "markdown",
   "id": "8e357a1b-9e1a-472c-99ef-530fecb7648b",
   "metadata": {},
   "source": [
    "What we have observed for the heights and ages is true in great generality. For all lists, the bulk of the entries are no more than 2 or 3 SDs away from the average."
   ]
  },
  {
   "cell_type": "markdown",
   "id": "8e76ae03-f15d-43aa-99c4-91b3b74a877e",
   "metadata": {},
   "source": [
    "## 14.2.3. Working with the SD\n",
    "\n",
    "- What can we learn from SD? ::\n",
    "- The table nba13 contains data on the players in the National Basketball Association (NBA) in 2013. For each player, the table records the position at which the player usually played, his height in inches, his weight in pounds, and his age in years."
   ]
  },
  {
   "cell_type": "code",
   "execution_count": 13,
   "id": "ab84c5c5-b8f8-47e7-8327-eaa6f74e99a9",
   "metadata": {},
   "outputs": [
    {
     "data": {
      "text/html": [
       "<table border=\"1\" class=\"dataframe\">\n",
       "    <thead>\n",
       "        <tr>\n",
       "            <th>Name</th> <th>Position</th> <th>Height</th> <th>Weight</th> <th>Age in 2013</th>\n",
       "        </tr>\n",
       "    </thead>\n",
       "    <tbody>\n",
       "        <tr>\n",
       "            <td>DeQuan Jones  </td> <td>Guard   </td> <td>80    </td> <td>221   </td> <td>23         </td>\n",
       "        </tr>\n",
       "        <tr>\n",
       "            <td>Darius Miller </td> <td>Guard   </td> <td>80    </td> <td>235   </td> <td>23         </td>\n",
       "        </tr>\n",
       "        <tr>\n",
       "            <td>Trevor Ariza  </td> <td>Guard   </td> <td>80    </td> <td>210   </td> <td>28         </td>\n",
       "        </tr>\n",
       "        <tr>\n",
       "            <td>James Jones   </td> <td>Guard   </td> <td>80    </td> <td>215   </td> <td>32         </td>\n",
       "        </tr>\n",
       "        <tr>\n",
       "            <td>Wesley Johnson</td> <td>Guard   </td> <td>79    </td> <td>215   </td> <td>26         </td>\n",
       "        </tr>\n",
       "    </tbody>\n",
       "</table>\n",
       "<p>... (500 rows omitted)</p>"
      ],
      "text/plain": [
       "<IPython.core.display.HTML object>"
      ]
     },
     "metadata": {},
     "output_type": "display_data"
    }
   ],
   "source": [
    "path_data = '../../data/'\n",
    "nba13 = Table.read_table(path_data + 'nba2013.csv')\n",
    "nba13.show(5)"
   ]
  },
  {
   "cell_type": "code",
   "execution_count": 14,
   "id": "70217a67-7381-4ff5-8f23-4f8cd4862d42",
   "metadata": {},
   "outputs": [
    {
     "data": {
      "image/png": "[encoded data removed]",
      "text/plain": [
       "<Figure size 600x400 with 1 Axes>"
      ]
     },
     "metadata": {},
     "output_type": "display_data"
    }
   ],
   "source": [
    "### histogram of heights\n",
    "import matplotlib.pyplot as plt\n",
    "%matplotlib inline\n",
    "plt.style.use('fivethirtyeight')\n",
    "\n",
    "##### use blue hist\n",
    "# nba13.select('Height').hist(bins = np.arange(68, 88, 1))\n",
    "nba13.hist('Height', bins=np.arange(68, 88, 1))"
   ]
  },
  {
   "cell_type": "code",
   "execution_count": 15,
   "id": "7cc67386-3f88-4dda-9c9e-6bf99e4f7128",
   "metadata": {},
   "outputs": [
    {
     "data": {
      "image/png": "[encoded data removed]",
      "text/plain": [
       "<Figure size 600x400 with 1 Axes>"
      ]
     },
     "metadata": {},
     "output_type": "display_data"
    }
   ],
   "source": [
    "##### use the datascience hist() ... same thing\n",
    "nba13.select('Height').hist(bins = np.arange(68, 88, 1))"
   ]
  },
  {
   "cell_type": "code",
   "execution_count": 16,
   "id": "19d48070-c8ce-4f80-b123-e0d955ad3347",
   "metadata": {},
   "outputs": [
    {
     "data": {
      "image/png": "[encoded data removed]",
      "text/plain": [
       "<Figure size 600x400 with 1 Axes>"
      ]
     },
     "metadata": {},
     "output_type": "display_data"
    }
   ],
   "source": [
    "nba13.column('Height')  ### returns an array\n",
    "\n",
    "##### get bins numbers\n",
    "nba13.column('Height').max()  ### get max: 87\n",
    "nba13.column('Height').min()  ### get max: 69\n",
    "\n",
    "##### average height\n",
    "nba13.column('Height').mean()   ### 79.065346534653472\n",
    "# nba13.column('Height').average()   ### AttributeError: 'numpy.ndarray' object has no attribute 'average'\n",
    "\n",
    "##### heuristics\n",
    "\n",
    "nba13.hist('Height')"
   ]
  },
  {
   "cell_type": "code",
   "execution_count": 17,
   "id": "de6a8151-5ad3-41db-9353-f1b8ddf7debb",
   "metadata": {},
   "outputs": [
    {
     "data": {
      "text/html": [
       "<table border=\"1\" class=\"dataframe\">\n",
       "    <thead>\n",
       "        <tr>\n",
       "            <th>Name</th> <th>Position</th> <th>Height</th> <th>Weight</th> <th>Age in 2013</th>\n",
       "        </tr>\n",
       "    </thead>\n",
       "    <tbody>\n",
       "        <tr>\n",
       "            <td>Hasheem Thabeet</td> <td>Center  </td> <td>87    </td> <td>263   </td> <td>26         </td>\n",
       "        </tr>\n",
       "        <tr>\n",
       "            <td>Roy Hibbert    </td> <td>Center  </td> <td>86    </td> <td>278   </td> <td>26         </td>\n",
       "        </tr>\n",
       "        <tr>\n",
       "            <td>Alex Len       </td> <td>Center  </td> <td>85    </td> <td>255   </td> <td>20         </td>\n",
       "        </tr>\n",
       "    </tbody>\n",
       "</table>\n",
       "<p>... (502 rows omitted)</p>"
      ],
      "text/plain": [
       "<IPython.core.display.HTML object>"
      ]
     },
     "metadata": {},
     "output_type": "display_data"
    }
   ],
   "source": [
    "### who is the tallest?\n",
    "nba13.sort('Height', descending = True).show(3)   ### 87\n",
    "# nba13.column('Height').max()  ### get max: 87 ### but sometimes we need the whole row"
   ]
  },
  {
   "cell_type": "code",
   "execution_count": 18,
   "id": "24a8d07e-b8a9-424a-93cc-0b6cee75e514",
   "metadata": {},
   "outputs": [
    {
     "data": {
      "text/plain": [
       "79.065346534653472"
      ]
     },
     "execution_count": 18,
     "metadata": {},
     "output_type": "execute_result"
    }
   ],
   "source": [
    "### mean height:\n",
    "# nba13.column('Height').mean()   ### 79\n",
    "mean_height = nba13.column('Height').mean()\n",
    "mean_height"
   ]
  },
  {
   "cell_type": "code",
   "execution_count": 19,
   "id": "353189b3-844c-43f2-98f2-5e90cb4bea8d",
   "metadata": {},
   "outputs": [
    {
     "data": {
      "text/plain": [
       "3.4505971830275546"
      ]
     },
     "execution_count": 19,
     "metadata": {},
     "output_type": "execute_result"
    }
   ],
   "source": [
    "### SD\n",
    "sd_height = np.std(nba13.column('Height'))\n",
    "sd_height     ### 3.4505971830275546"
   ]
  },
  {
   "cell_type": "code",
   "execution_count": 20,
   "id": "ef353f11-24d0-41f1-a52c-23fbb1dc5d68",
   "metadata": {},
   "outputs": [
    {
     "data": {
      "text/plain": [
       "2.2995015194397923"
      ]
     },
     "execution_count": 20,
     "metadata": {},
     "output_type": "execute_result"
    }
   ],
   "source": [
    "### how may SD is the tallest player's deviation from SD?\n",
    "\n",
    "(nba13.column('Height').max() - nba13.column('Height').mean()) / sd_height"
   ]
  },
  {
   "cell_type": "code",
   "execution_count": 21,
   "id": "af62c7ed-f3dc-4af3-8c88-744386fc1e94",
   "metadata": {},
   "outputs": [
    {
     "data": {
      "text/html": [
       "<table border=\"1\" class=\"dataframe\">\n",
       "    <thead>\n",
       "        <tr>\n",
       "            <th>Name</th> <th>Position</th> <th>Height</th> <th>Weight</th> <th>Age in 2013</th>\n",
       "        </tr>\n",
       "    </thead>\n",
       "    <tbody>\n",
       "        <tr>\n",
       "            <td>Hasheem Thabeet</td> <td>Center  </td> <td>87    </td> <td>263   </td> <td>26         </td>\n",
       "        </tr>\n",
       "        <tr>\n",
       "            <td>Roy Hibbert    </td> <td>Center  </td> <td>86    </td> <td>278   </td> <td>26         </td>\n",
       "        </tr>\n",
       "        <tr>\n",
       "            <td>Alex Len       </td> <td>Center  </td> <td>85    </td> <td>255   </td> <td>20         </td>\n",
       "        </tr>\n",
       "    </tbody>\n",
       "</table>\n",
       "<p>... (502 rows omitted)</p>"
      ],
      "text/plain": [
       "<IPython.core.display.HTML object>"
      ]
     },
     "metadata": {},
     "output_type": "display_data"
    }
   ],
   "source": [
    "nba13.sort('Height', descending=True).show(3)"
   ]
  },
  {
   "cell_type": "code",
   "execution_count": 22,
   "id": "16611c74-4c5e-475f-bc5e-cfc121864148",
   "metadata": {},
   "outputs": [
    {
     "data": {
      "text/plain": [
       "2.2995015194397923"
      ]
     },
     "execution_count": 22,
     "metadata": {},
     "output_type": "execute_result"
    }
   ],
   "source": [
    "(87 - mean_height)/sd_height"
   ]
  },
  {
   "cell_type": "code",
   "execution_count": 23,
   "id": "73ff22a2-7b3a-49c3-afc9-77a4ca0a8a9d",
   "metadata": {},
   "outputs": [
    {
     "data": {
      "text/plain": [
       "-2.9169868288775844"
      ]
     },
     "execution_count": 23,
     "metadata": {},
     "output_type": "execute_result"
    }
   ],
   "source": [
    "### shortest player number deviation from SD\n",
    "\n",
    "(nba13.column('Height').min() - mean_height) / sd_height\n",
    "\n",
    "### this is an example of why the SD is a useful measure of spread. No matter \n",
    "### what the shape of the histogram, the average and the SD together tell you \n",
    "### a lot about where the histogram is situated on the number line."
   ]
  },
  {
   "cell_type": "code",
   "execution_count": 24,
   "id": "82471b9f-ee44-4f56-9609-66afe7e56359",
   "metadata": {},
   "outputs": [
    {
     "data": {
      "text/html": [
       "<table border=\"1\" class=\"dataframe\">\n",
       "    <thead>\n",
       "        <tr>\n",
       "            <th>Name</th> <th>Position</th> <th>Height</th> <th>Weight</th> <th>Age in 2013</th>\n",
       "        </tr>\n",
       "    </thead>\n",
       "    <tbody>\n",
       "        <tr>\n",
       "            <td>Isaiah Thomas </td> <td>Guard   </td> <td>69    </td> <td>185   </td> <td>24         </td>\n",
       "        </tr>\n",
       "        <tr>\n",
       "            <td>Nate Robinson </td> <td>Guard   </td> <td>69    </td> <td>180   </td> <td>29         </td>\n",
       "        </tr>\n",
       "        <tr>\n",
       "            <td>John Lucas III</td> <td>Guard   </td> <td>71    </td> <td>157   </td> <td>30         </td>\n",
       "        </tr>\n",
       "    </tbody>\n",
       "</table>\n",
       "<p>... (502 rows omitted)</p>"
      ],
      "text/plain": [
       "<IPython.core.display.HTML object>"
      ]
     },
     "metadata": {},
     "output_type": "display_data"
    }
   ],
   "source": [
    "nba13.sort('Height', descending=False).show(3)"
   ]
  },
  {
   "cell_type": "code",
   "execution_count": 25,
   "id": "1d62391c-b4b9-411d-893a-37a45f940c71",
   "metadata": {},
   "outputs": [
    {
     "data": {
      "text/plain": [
       "-2.9169868288775844"
      ]
     },
     "execution_count": 25,
     "metadata": {},
     "output_type": "execute_result"
    }
   ],
   "source": [
    "(69 - mean_height) / sd_height"
   ]
  },
  {
   "cell_type": "markdown",
   "id": "671653bd-e80a-4d1a-9fb9-1123ce090d10",
   "metadata": {},
   "source": [
    "## 14.2.4. First main reason for measuring spread by the SD\n",
    "\n",
    "- Informal statement. **In all numerical data sets, the bulk of the entries are within the range “average +- a few SDs”**.\n",
    "- We have already seen that all of the heights of the NBA players were in the range “average \n",
    " 3 SDs”.\n",
    "- What about the ages? Here is a histogram of the distribution, along with the mean and SD of the ages."
   ]
  },
  {
   "cell_type": "code",
   "execution_count": 26,
   "id": "6baa3978-6dd3-4f6d-8494-ccf3984ccbf4",
   "metadata": {},
   "outputs": [
    {
     "data": {
      "image/png": "[encoded data removed]",
      "text/plain": [
       "<Figure size 600x400 with 1 Axes>"
      ]
     },
     "metadata": {},
     "output_type": "display_data"
    }
   ],
   "source": [
    "nba13.hist('Age in 2013')"
   ]
  },
  {
   "cell_type": "code",
   "execution_count": 27,
   "id": "5d37df29-f6eb-4ff2-adda-cd18a7991203",
   "metadata": {},
   "outputs": [
    {
     "data": {
      "image/png": "[encoded data removed]",
      "text/plain": [
       "<Figure size 600x400 with 1 Axes>"
      ]
     },
     "metadata": {},
     "output_type": "display_data"
    }
   ],
   "source": [
    "nba13.hist('Age in 2013', bins=np.arange(15, 45, 1))"
   ]
  },
  {
   "cell_type": "markdown",
   "id": "6d4bcc85-fbc4-483c-9821-26f0eaa5496d",
   "metadata": {},
   "source": [
    "### let's take a look at scipy describe()"
   ]
  },
  {
   "cell_type": "code",
   "execution_count": 28,
   "id": "1b9f3994-4894-4d33-b00b-acb869f74b97",
   "metadata": {},
   "outputs": [
    {
     "data": {
      "text/html": [
       "<div>\n",
       "<style scoped>\n",
       "    .dataframe tbody tr th:only-of-type {\n",
       "        vertical-align: middle;\n",
       "    }\n",
       "\n",
       "    .dataframe tbody tr th {\n",
       "        vertical-align: top;\n",
       "    }\n",
       "\n",
       "    .dataframe thead th {\n",
       "        text-align: right;\n",
       "    }\n",
       "</style>\n",
       "<table border=\"1\" class=\"dataframe\">\n",
       "  <thead>\n",
       "    <tr style=\"text-align: right;\">\n",
       "      <th></th>\n",
       "      <th>Name</th>\n",
       "      <th>Position</th>\n",
       "      <th>Height</th>\n",
       "      <th>Weight</th>\n",
       "      <th>Age in 2013</th>\n",
       "    </tr>\n",
       "  </thead>\n",
       "  <tbody>\n",
       "    <tr>\n",
       "      <th>0</th>\n",
       "      <td>DeQuan Jones</td>\n",
       "      <td>Guard</td>\n",
       "      <td>80</td>\n",
       "      <td>221</td>\n",
       "      <td>23</td>\n",
       "    </tr>\n",
       "    <tr>\n",
       "      <th>1</th>\n",
       "      <td>Darius Miller</td>\n",
       "      <td>Guard</td>\n",
       "      <td>80</td>\n",
       "      <td>235</td>\n",
       "      <td>23</td>\n",
       "    </tr>\n",
       "    <tr>\n",
       "      <th>2</th>\n",
       "      <td>Trevor Ariza</td>\n",
       "      <td>Guard</td>\n",
       "      <td>80</td>\n",
       "      <td>210</td>\n",
       "      <td>28</td>\n",
       "    </tr>\n",
       "    <tr>\n",
       "      <th>3</th>\n",
       "      <td>James Jones</td>\n",
       "      <td>Guard</td>\n",
       "      <td>80</td>\n",
       "      <td>215</td>\n",
       "      <td>32</td>\n",
       "    </tr>\n",
       "    <tr>\n",
       "      <th>4</th>\n",
       "      <td>Wesley Johnson</td>\n",
       "      <td>Guard</td>\n",
       "      <td>79</td>\n",
       "      <td>215</td>\n",
       "      <td>26</td>\n",
       "    </tr>\n",
       "    <tr>\n",
       "      <th>...</th>\n",
       "      <td>...</td>\n",
       "      <td>...</td>\n",
       "      <td>...</td>\n",
       "      <td>...</td>\n",
       "      <td>...</td>\n",
       "    </tr>\n",
       "    <tr>\n",
       "      <th>500</th>\n",
       "      <td>Joel Anthony</td>\n",
       "      <td>Center</td>\n",
       "      <td>81</td>\n",
       "      <td>245</td>\n",
       "      <td>31</td>\n",
       "    </tr>\n",
       "    <tr>\n",
       "      <th>501</th>\n",
       "      <td>Bismack Biyombo</td>\n",
       "      <td>Center</td>\n",
       "      <td>81</td>\n",
       "      <td>229</td>\n",
       "      <td>21</td>\n",
       "    </tr>\n",
       "    <tr>\n",
       "      <th>502</th>\n",
       "      <td>Luis Scola</td>\n",
       "      <td>Center</td>\n",
       "      <td>81</td>\n",
       "      <td>245</td>\n",
       "      <td>33</td>\n",
       "    </tr>\n",
       "    <tr>\n",
       "      <th>503</th>\n",
       "      <td>Lavoy Allen</td>\n",
       "      <td>Center</td>\n",
       "      <td>81</td>\n",
       "      <td>225</td>\n",
       "      <td>24</td>\n",
       "    </tr>\n",
       "    <tr>\n",
       "      <th>504</th>\n",
       "      <td>Boris Diaw</td>\n",
       "      <td>Center</td>\n",
       "      <td>80</td>\n",
       "      <td>235</td>\n",
       "      <td>31</td>\n",
       "    </tr>\n",
       "  </tbody>\n",
       "</table>\n",
       "<p>505 rows × 5 columns</p>\n",
       "</div>"
      ],
      "text/plain": [
       "                Name Position  Height  Weight  Age in 2013\n",
       "0       DeQuan Jones    Guard      80     221           23\n",
       "1      Darius Miller    Guard      80     235           23\n",
       "2       Trevor Ariza    Guard      80     210           28\n",
       "3        James Jones    Guard      80     215           32\n",
       "4     Wesley Johnson    Guard      79     215           26\n",
       "..               ...      ...     ...     ...          ...\n",
       "500     Joel Anthony   Center      81     245           31\n",
       "501  Bismack Biyombo   Center      81     229           21\n",
       "502       Luis Scola   Center      81     245           33\n",
       "503      Lavoy Allen   Center      81     225           24\n",
       "504       Boris Diaw   Center      80     235           31\n",
       "\n",
       "[505 rows x 5 columns]"
      ]
     },
     "execution_count": 28,
     "metadata": {},
     "output_type": "execute_result"
    }
   ],
   "source": [
    "### scipy\n",
    "from scipy import stats\n",
    "\n",
    "### import numpy\n",
    "import numpy as np\n",
    "import pandas as pd\n",
    "\n",
    "# stats.describe(pd.DataFrame(nba13))\n",
    "# pd.DataFrame(nba13)   ### doesn't work\n",
    "nba_df = nba13.to_df()\n",
    "nba_df"
   ]
  },
  {
   "cell_type": "code",
   "execution_count": 29,
   "id": "39336bc2-8afc-4098-a26d-26eb183b2305",
   "metadata": {},
   "outputs": [
    {
     "data": {
      "text/plain": [
       "pandas.core.frame.DataFrame"
      ]
     },
     "execution_count": 29,
     "metadata": {},
     "output_type": "execute_result"
    }
   ],
   "source": [
    "type(nba_df)"
   ]
  },
  {
   "cell_type": "code",
   "execution_count": 30,
   "id": "4d225e17-90db-4e9b-be56-0c2b83b12e47",
   "metadata": {},
   "outputs": [
    {
     "data": {
      "text/html": [
       "<div>\n",
       "<style scoped>\n",
       "    .dataframe tbody tr th:only-of-type {\n",
       "        vertical-align: middle;\n",
       "    }\n",
       "\n",
       "    .dataframe tbody tr th {\n",
       "        vertical-align: top;\n",
       "    }\n",
       "\n",
       "    .dataframe thead th {\n",
       "        text-align: right;\n",
       "    }\n",
       "</style>\n",
       "<table border=\"1\" class=\"dataframe\">\n",
       "  <thead>\n",
       "    <tr style=\"text-align: right;\">\n",
       "      <th></th>\n",
       "      <th>Height</th>\n",
       "      <th>Weight</th>\n",
       "      <th>Age in 2013</th>\n",
       "    </tr>\n",
       "  </thead>\n",
       "  <tbody>\n",
       "    <tr>\n",
       "      <th>count</th>\n",
       "      <td>505.000000</td>\n",
       "      <td>505.000000</td>\n",
       "      <td>505.000000</td>\n",
       "    </tr>\n",
       "    <tr>\n",
       "      <th>mean</th>\n",
       "      <td>79.065347</td>\n",
       "      <td>220.673267</td>\n",
       "      <td>26.190099</td>\n",
       "    </tr>\n",
       "    <tr>\n",
       "      <th>std</th>\n",
       "      <td>3.454019</td>\n",
       "      <td>26.643110</td>\n",
       "      <td>4.325485</td>\n",
       "    </tr>\n",
       "    <tr>\n",
       "      <th>min</th>\n",
       "      <td>69.000000</td>\n",
       "      <td>157.000000</td>\n",
       "      <td>15.000000</td>\n",
       "    </tr>\n",
       "    <tr>\n",
       "      <th>25%</th>\n",
       "      <td>76.000000</td>\n",
       "      <td>200.000000</td>\n",
       "      <td>23.000000</td>\n",
       "    </tr>\n",
       "    <tr>\n",
       "      <th>50%</th>\n",
       "      <td>80.000000</td>\n",
       "      <td>220.000000</td>\n",
       "      <td>25.000000</td>\n",
       "    </tr>\n",
       "    <tr>\n",
       "      <th>75%</th>\n",
       "      <td>82.000000</td>\n",
       "      <td>240.000000</td>\n",
       "      <td>29.000000</td>\n",
       "    </tr>\n",
       "    <tr>\n",
       "      <th>max</th>\n",
       "      <td>87.000000</td>\n",
       "      <td>290.000000</td>\n",
       "      <td>40.000000</td>\n",
       "    </tr>\n",
       "  </tbody>\n",
       "</table>\n",
       "</div>"
      ],
      "text/plain": [
       "           Height      Weight  Age in 2013\n",
       "count  505.000000  505.000000   505.000000\n",
       "mean    79.065347  220.673267    26.190099\n",
       "std      3.454019   26.643110     4.325485\n",
       "min     69.000000  157.000000    15.000000\n",
       "25%     76.000000  200.000000    23.000000\n",
       "50%     80.000000  220.000000    25.000000\n",
       "75%     82.000000  240.000000    29.000000\n",
       "max     87.000000  290.000000    40.000000"
      ]
     },
     "execution_count": 30,
     "metadata": {},
     "output_type": "execute_result"
    }
   ],
   "source": [
    "from scipy import stats\n",
    "nba_df.describe()       ##### works\n",
    "# pd.describe(nba_df)     ### doesn't work\n",
    "# stats.describe(nba_df)    ### doesn't work\n",
    "\n",
    "#####\n",
    "##### descriptive stats should give us the bins\n",
    "#####"
   ]
  },
  {
   "cell_type": "code",
   "execution_count": 31,
   "id": "ddc6fd43-bd0c-4911-84f6-61452260dd94",
   "metadata": {},
   "outputs": [
    {
     "data": {
      "image/png": "[encoded data removed]",
      "text/plain": [
       "<Figure size 600x400 with 1 Axes>"
      ]
     },
     "metadata": {},
     "output_type": "display_data"
    }
   ],
   "source": [
    "# nba13.hist('Age in 2013', bins = np.arange(14, 41, 1))\n",
    "nba13.hist('Age in 2013', bins = np.arange(15, 45, 1))"
   ]
  },
  {
   "cell_type": "code",
   "execution_count": 32,
   "id": "b6bf3664-82ba-44b7-9d79-de6b9e4f1a94",
   "metadata": {},
   "outputs": [
    {
     "data": {
      "text/plain": [
       "(26.19009900990099, 4.3212004417203067)"
      ]
     },
     "execution_count": 32,
     "metadata": {},
     "output_type": "execute_result"
    }
   ],
   "source": [
    "##### mean age and SD age\n",
    "\n",
    "\n",
    "# mean_age = ages.mean()\n",
    "# np.std(mean_age)\n",
    "\n",
    "ages = nba13.column('Age in 2013')\n",
    "mean_age = np.mean(ages)   ### mean\n",
    "sd_age = np.std(ages)      ### SD\n",
    "ages.mean(), np.std(ages)"
   ]
  },
  {
   "cell_type": "code",
   "execution_count": 33,
   "id": "99f18517-ad67-40f2-b733-0926f5575747",
   "metadata": {},
   "outputs": [
    {
     "data": {
      "text/html": [
       "<table border=\"1\" class=\"dataframe\">\n",
       "    <thead>\n",
       "        <tr>\n",
       "            <th>Name</th> <th>Position</th> <th>Height</th> <th>Weight</th> <th>Age in 2013</th>\n",
       "        </tr>\n",
       "    </thead>\n",
       "    <tbody>\n",
       "        <tr>\n",
       "            <td>Juwan Howard</td> <td>Forward </td> <td>81    </td> <td>250   </td> <td>40         </td>\n",
       "        </tr>\n",
       "    </tbody>\n",
       "</table>"
      ],
      "text/plain": [
       "Name         | Position | Height | Weight | Age in 2013\n",
       "Juwan Howard | Forward  | 81     | 250    | 40"
      ]
     },
     "execution_count": 33,
     "metadata": {},
     "output_type": "execute_result"
    }
   ],
   "source": [
    "### observe one case: Juwan Howard's age\n",
    "\n",
    "nba13.where('Name', are.containing('Juwan Howard'))"
   ]
  },
  {
   "cell_type": "code",
   "execution_count": 34,
   "id": "250fff73-b02f-4bd2-a14e-e39fe6b633ae",
   "metadata": {},
   "outputs": [
    {
     "data": {
      "text/html": [
       "<table border=\"1\" class=\"dataframe\">\n",
       "    <thead>\n",
       "        <tr>\n",
       "            <th>Name</th> <th>Position</th> <th>Height</th> <th>Weight</th> <th>Age in 2013</th>\n",
       "        </tr>\n",
       "    </thead>\n",
       "    <tbody>\n",
       "        <tr>\n",
       "            <td>Juwan Howard</td> <td>Forward </td> <td>81    </td> <td>250   </td> <td>40         </td>\n",
       "        </tr>\n",
       "        <tr>\n",
       "            <td>Steve Nash  </td> <td>Guard   </td> <td>75    </td> <td>178   </td> <td>39         </td>\n",
       "        </tr>\n",
       "    </tbody>\n",
       "</table>\n",
       "<p>... (503 rows omitted)</p>"
      ],
      "text/plain": [
       "<IPython.core.display.HTML object>"
      ]
     },
     "metadata": {},
     "output_type": "display_data"
    }
   ],
   "source": [
    "nba13.sort('Age in 2013', descending=True).show(2)"
   ]
  },
  {
   "cell_type": "code",
   "execution_count": 35,
   "id": "646d1649-9aa6-46ab-a8ec-a6d184ed4fab",
   "metadata": {},
   "outputs": [
    {
     "data": {
      "text/plain": [
       "40"
      ]
     },
     "execution_count": 35,
     "metadata": {},
     "output_type": "execute_result"
    }
   ],
   "source": [
    "# nba13.where('Name', are.containing('Juwan Howard'))[4][0] \n",
    "oldest = nba13.where('Name', are.containing('Juwan Howard'))[4][0] \n",
    "oldest"
   ]
  },
  {
   "cell_type": "code",
   "execution_count": 74,
   "id": "df43a319-c32b-4c58-a163-3bdc06ac4d49",
   "metadata": {},
   "outputs": [
    {
     "data": {
      "text/plain": [
       "3.1958482778922357"
      ]
     },
     "execution_count": 74,
     "metadata": {},
     "output_type": "execute_result"
    }
   ],
   "source": [
    "# (nba13.where('Name', are.containing('Juwan Howard'))[4] - mean_age) / sd_age  ### array\n",
    "# type((nba13.where('Name', are.containing('Juwan Howard'))[4][0] - mean_age) / sd_age) ### float\n",
    "(nba13.where('Name', are.containing('Juwan Howard'))[4][0] - mean_age) / sd_age"
   ]
  },
  {
   "cell_type": "code",
   "execution_count": 37,
   "id": "bfd0c8b4-91b4-4141-bd50-718b0b1259e0",
   "metadata": {},
   "outputs": [
    {
     "data": {
      "text/html": [
       "<table border=\"1\" class=\"dataframe\">\n",
       "    <thead>\n",
       "        <tr>\n",
       "            <th>Name</th> <th>Position</th> <th>Height</th> <th>Weight</th> <th>Age in 2013</th> <th>SD Age</th>\n",
       "        </tr>\n",
       "    </thead>\n",
       "    <tbody>\n",
       "        <tr>\n",
       "            <td>Jarvis Varnado          </td> <td>Forward </td> <td>81    </td> <td>230   </td> <td>15         </td> <td>-2.58958</td>\n",
       "        </tr>\n",
       "        <tr>\n",
       "            <td>Giannis Antetokounmpo   </td> <td>Forward </td> <td>81    </td> <td>205   </td> <td>18         </td> <td>-1.89533</td>\n",
       "        </tr>\n",
       "        <tr>\n",
       "            <td>Sergey Karasev          </td> <td>Guard   </td> <td>79    </td> <td>197   </td> <td>19         </td> <td>-1.66391</td>\n",
       "        </tr>\n",
       "        <tr>\n",
       "            <td>Archie Goodwin          </td> <td>Guard   </td> <td>77    </td> <td>189   </td> <td>19         </td> <td>-1.66391</td>\n",
       "        </tr>\n",
       "        <tr>\n",
       "            <td>Livio Jean-Charles      </td> <td>Forward </td> <td>81    </td> <td>217   </td> <td>19         </td> <td>-1.66391</td>\n",
       "        </tr>\n",
       "        <tr>\n",
       "            <td>Michael Kidd-Gilchrist  </td> <td>Forward </td> <td>79    </td> <td>232   </td> <td>19         </td> <td>-1.66391</td>\n",
       "        </tr>\n",
       "        <tr>\n",
       "            <td>Nerlens Noel            </td> <td>Center  </td> <td>82    </td> <td>228   </td> <td>19         </td> <td>-1.66391</td>\n",
       "        </tr>\n",
       "        <tr>\n",
       "            <td>Evan Fournier           </td> <td>Guard   </td> <td>79    </td> <td>206   </td> <td>20         </td> <td>-1.4325 </td>\n",
       "        </tr>\n",
       "        <tr>\n",
       "            <td>Shabazz Muhammad        </td> <td>Guard   </td> <td>78    </td> <td>225   </td> <td>20         </td> <td>-1.4325 </td>\n",
       "        </tr>\n",
       "        <tr>\n",
       "            <td>Kentavious Caldwell-Pope</td> <td>Guard   </td> <td>78    </td> <td>205   </td> <td>20         </td> <td>-1.4325 </td>\n",
       "        </tr>\n",
       "    </tbody>\n",
       "</table>\n",
       "<p>... (495 rows omitted)</p>"
      ],
      "text/plain": [
       "Name                     | Position | Height | Weight | Age in 2013 | SD Age\n",
       "Jarvis Varnado           | Forward  | 81     | 230    | 15          | -2.58958\n",
       "Giannis Antetokounmpo    | Forward  | 81     | 205    | 18          | -1.89533\n",
       "Sergey Karasev           | Guard    | 79     | 197    | 19          | -1.66391\n",
       "Archie Goodwin           | Guard    | 77     | 189    | 19          | -1.66391\n",
       "Livio Jean-Charles       | Forward  | 81     | 217    | 19          | -1.66391\n",
       "Michael Kidd-Gilchrist   | Forward  | 79     | 232    | 19          | -1.66391\n",
       "Nerlens Noel             | Center   | 82     | 228    | 19          | -1.66391\n",
       "Evan Fournier            | Guard    | 79     | 206    | 20          | -1.4325\n",
       "Shabazz Muhammad         | Guard    | 78     | 225    | 20          | -1.4325\n",
       "Kentavious Caldwell-Pope | Guard    | 78     | 205    | 20          | -1.4325\n",
       "... (495 rows omitted)"
      ]
     },
     "execution_count": 37,
     "metadata": {},
     "output_type": "execute_result"
    }
   ],
   "source": [
    "##### now let's add a column to the table: SD to mean\n",
    "\n",
    "nba13.with_column('SD Age', ((nba13.column(('Age in 2013'))) - mean_age) / sd_age).sort('Age in 2013')\n"
   ]
  },
  {
   "cell_type": "code",
   "execution_count": 38,
   "id": "7db540d6-7df6-4bb1-b2fe-627ba38a456e",
   "metadata": {},
   "outputs": [],
   "source": [
    "nba_sd_age= nba13.with_column('SD Age', ((nba13.column(('Age in 2013'))) - mean_age) / sd_age).sort('Age in 2013')"
   ]
  },
  {
   "cell_type": "code",
   "execution_count": 39,
   "id": "40ba9b6d-5887-4a23-867d-a6ff508bcc5a",
   "metadata": {},
   "outputs": [
    {
     "data": {
      "image/png": "[encoded data removed]",
      "text/plain": [
       "<Figure size 600x400 with 1 Axes>"
      ]
     },
     "metadata": {},
     "output_type": "display_data"
    }
   ],
   "source": [
    "##### there is a distribution in standard units\n",
    "nba_sd_age.select('SD Age').hist()"
   ]
  },
  {
   "cell_type": "code",
   "execution_count": 40,
   "id": "a93ea853-0773-432d-bdb8-c0f6838ca280",
   "metadata": {},
   "outputs": [
    {
     "data": {
      "text/plain": [
       "24"
      ]
     },
     "execution_count": 40,
     "metadata": {},
     "output_type": "execute_result"
    }
   ],
   "source": [
    "##### count +- 2SD / all\n",
    "np.count_nonzero(nba_sd_age.column('SD Age') > 2)"
   ]
  },
  {
   "cell_type": "code",
   "execution_count": 41,
   "id": "b9be31b4-d56a-4dfd-be82-930b37370780",
   "metadata": {},
   "outputs": [
    {
     "data": {
      "text/plain": [
       "1"
      ]
     },
     "execution_count": 41,
     "metadata": {},
     "output_type": "execute_result"
    }
   ],
   "source": [
    "##### count +- 2SD / all\n",
    "np.count_nonzero(nba_sd_age.column('SD Age') < -2)"
   ]
  },
  {
   "cell_type": "code",
   "execution_count": 42,
   "id": "42122c75-5c73-42d8-8ecb-e422524c0d82",
   "metadata": {},
   "outputs": [
    {
     "data": {
      "text/plain": [
       "4.166666666666667"
      ]
     },
     "execution_count": 42,
     "metadata": {},
     "output_type": "execute_result"
    }
   ],
   "source": [
    "##### SD > 2 && SD < -2 / all\n",
    "(np.count_nonzero(nba_sd_age.column('SD Age') > 2) + \n",
    "    np.count_nonzero(nba_sd_age.column('SD Age') < -2)) / np.count_nonzero(nba_sd_age)"
   ]
  },
  {
   "cell_type": "markdown",
   "id": "3e710de1-9d39-47d1-8428-5ce6a630f23f",
   "metadata": {},
   "source": [
    "#### but what does 4.1666 mean?"
   ]
  },
  {
   "cell_type": "markdown",
   "id": "9ed124c3-f227-4db4-81ed-d97f9f8d4807",
   "metadata": {},
   "source": [
    "## 14.2.5. Chebychev’s Bounds\n",
    "\n",
    "The Russian mathematician Pafnuty Chebychev (1821-1894) proved a result that makes our rough statements precise.\n",
    "\n",
    "For all lists, and all numbers z, the proportion of entries that are in the range “**average \n",
    " +-z SDs” is at least 1 - 1/(z)^2**.\n",
    "\n",
    "It is important to note that the result gives a bound, not an exact value or an approximation.\n",
    "\n",
    "What makes the result powerful is that it is true for all lists – all distributions, no matter how irregular.\n",
    "\n",
    "Specifically, it says that for every list:\n",
    "\n",
    "- the proportion in the range “average **+- 2 SDs**” is at least **1 - 1/4 = 0.75**\n",
    "- the proportion in the range “average **+- 3 SDs**” is at least **1 - 1/9 =~ 0.89**\n",
    "- the proportion in the range “average **+- 4.5 SDs**” is at least **1 - 1/(4/5)^2 =~ 0.95**\n",
    "\n",
    "- As we noted above, Chebychev’s result gives a **lower bound**, not an exact answer or an approximation. For example, the percent of entries in the range “average +- 2 SDs” might be quite a bit larger than 75%. But it cannot be smaller.\n",
    "\n",
    "- According to [Wikipeida](https://en.wikipedia.org/wiki/Chebyshev%27s_inequality): Chebyshev's ineuality provides an *upper bound* on the probability of deviation of a random variable (with finite variance) from its mean. More specifically, the probability that a random variable deviates from its mean by more than kσ is at most 1/k**2, where k is any positive constant and σ is the standard deviation (the square root of the variance).\n",
    "- Its practical usage is similar to the 68–95–99.7 rule, which applies only to normal distributions. Chebyshev's inequality is more general, stating that a minimum of just 75% of values must lie within two standard deviations of the mean and 88.89% within three standard deviations for a broad range of different probability distributions\n"
   ]
  },
  {
   "cell_type": "code",
   "execution_count": null,
   "id": "9a083b9d-c659-4397-96d2-ee40f8d34e78",
   "metadata": {},
   "outputs": [],
   "source": []
  },
  {
   "cell_type": "code",
   "execution_count": 43,
   "id": "db2a05d6-3932-4985-a67c-56606c20cf30",
   "metadata": {},
   "outputs": [],
   "source": [
    "import numpy as np\n",
    "import matplotlib.pyplot as plt\n",
    "from scipy.stats import norm"
   ]
  },
  {
   "cell_type": "code",
   "execution_count": 44,
   "id": "7ffd546c-6311-43f5-83d5-095be40df544",
   "metadata": {},
   "outputs": [],
   "source": [
    "##### define a function for Chebychev's bounds\n",
    "\n",
    "def chebyshev_inequality(k):\n",
    "    return 1 - (1/k**2)"
   ]
  },
  {
   "cell_type": "code",
   "execution_count": 45,
   "id": "d32225e3-ce52-4284-ba0e-9ebdedfa26ad",
   "metadata": {},
   "outputs": [
    {
     "data": {
      "text/plain": [
       "0.8888888888888888"
      ]
     },
     "execution_count": 45,
     "metadata": {},
     "output_type": "execute_result"
    }
   ],
   "source": [
    "chebyshev_inequality(3)"
   ]
  },
  {
   "cell_type": "code",
   "execution_count": 46,
   "id": "8ede8720-ad6c-445e-8695-e8dfa63b829b",
   "metadata": {},
   "outputs": [
    {
     "data": {
      "text/plain": [
       "0.8888888888888888"
      ]
     },
     "execution_count": 46,
     "metadata": {},
     "output_type": "execute_result"
    }
   ],
   "source": [
    "chebyshev_inequality(3)"
   ]
  },
  {
   "cell_type": "code",
   "execution_count": 47,
   "id": "7db1f7ee-03f9-402c-8305-4a8bd780acc6",
   "metadata": {},
   "outputs": [
    {
     "data": {
      "text/plain": [
       "0.9375"
      ]
     },
     "execution_count": 47,
     "metadata": {},
     "output_type": "execute_result"
    }
   ],
   "source": [
    "chebyshev_inequality(4)"
   ]
  },
  {
   "cell_type": "code",
   "execution_count": 48,
   "id": "7fd0c061-d7bb-4e24-b360-250bafc3b996",
   "metadata": {},
   "outputs": [
    {
     "data": {
      "text/plain": [
       "0.96"
      ]
     },
     "execution_count": 48,
     "metadata": {},
     "output_type": "execute_result"
    }
   ],
   "source": [
    "chebyshev_inequality(5)"
   ]
  },
  {
   "cell_type": "code",
   "execution_count": 49,
   "id": "b35a22c0-fccd-4702-a1b2-78a9d1436a79",
   "metadata": {},
   "outputs": [
    {
     "data": {
      "text/plain": [
       "0.9722222222222222"
      ]
     },
     "execution_count": 49,
     "metadata": {},
     "output_type": "execute_result"
    }
   ],
   "source": [
    "chebyshev_inequality(6)"
   ]
  },
  {
   "cell_type": "code",
   "execution_count": 50,
   "id": "c57acedd-e8b6-4772-be9c-c8c8d8305523",
   "metadata": {},
   "outputs": [
    {
     "data": {
      "text/plain": [
       "0.9795918367346939"
      ]
     },
     "execution_count": 50,
     "metadata": {},
     "output_type": "execute_result"
    }
   ],
   "source": [
    "chebyshev_inequality(7)"
   ]
  },
  {
   "cell_type": "code",
   "execution_count": 51,
   "id": "ea350dfa-557a-46b1-9fa3-d6adb24292bd",
   "metadata": {},
   "outputs": [
    {
     "data": {
      "text/plain": [
       "array([ 0.,  0.,  0.,  0.,  0.,  0.,  0.,  0.,  0.,  0.,  0.,  0.,  0.,\n",
       "        0.,  0.,  0.,  0.,  0.,  0.,  0.,  0.,  0.,  0.,  0.,  0.,  0.,\n",
       "        0.,  0.,  0.,  0.,  0.,  0.,  0.,  0.,  0.,  0.,  0.,  0.,  0.,\n",
       "        0.,  0.,  0.,  0.,  0.,  0.,  0.,  0.,  0.,  0.,  0.,  0.,  0.,\n",
       "        0.,  0.,  0.,  0.,  0.,  0.,  0.,  0.,  0.,  0.,  0.,  0.,  0.,\n",
       "        0.,  0.,  0.,  0.,  0.,  0.,  0.,  0.,  0.,  0.,  0.,  0.,  0.,\n",
       "        0.,  0.,  0.,  0.,  0.,  0.,  0.,  0.,  0.,  0.,  0.,  0.,  0.,\n",
       "        0.,  0.,  0.,  0.,  0.,  0.,  0.,  0.,  0.,  0.,  0.,  0.,  0.,\n",
       "        0.,  0.,  0.,  0.,  0.,  0.,  0.,  0.,  0.,  0.,  0.,  0.,  0.,\n",
       "        0.,  0.,  0.,  0.,  0.,  0.,  0.,  0.,  0.,  0.,  0.,  0.,  0.,\n",
       "        0.,  0.,  0.,  0.,  0.,  0.,  0.,  0.,  0.,  0.,  0.,  0.,  0.,\n",
       "        0.,  0.,  0.,  0.,  0.,  0.,  0.,  0.,  0.,  0.,  0.,  0.,  0.,\n",
       "        0.,  0.,  0.,  0.,  0.,  0.,  0.,  0.,  0.,  0.,  0.,  0.,  0.,\n",
       "        0.,  0.,  0.,  0.,  0.,  0.,  0.,  0.,  0.,  0.,  0.,  0.,  0.,\n",
       "        0.,  0.,  0.,  0.,  0.,  0.,  0.,  0.,  0.,  0.,  0.,  0.,  0.,\n",
       "        0.,  0.,  0.,  0.,  0.,  0.,  0.,  0.,  0.,  0.,  0.,  0.,  0.,\n",
       "        0.,  0.,  0.,  0.,  0.,  0.,  0.,  0.,  0.,  0.,  0.,  0.,  0.,\n",
       "        0.,  0.,  0.,  0.,  0.,  0.,  0.,  0.,  0.,  0.,  0.,  0.,  0.,\n",
       "        0.,  0.,  0.,  0.,  0.,  0.,  0.,  0.,  0.,  0.,  0.,  0.,  0.,\n",
       "        0.,  0.,  0.,  0.,  0.,  0.,  0.,  0.,  0.,  0.,  0.,  0.,  0.,\n",
       "        0.,  0.,  0.,  0.,  0.,  0.,  0.,  0.,  0.,  0.,  0.,  0.,  0.,\n",
       "        0.,  0.,  0.,  0.,  0.,  0.,  0.,  0.,  0.,  0.,  0.,  0.,  0.,\n",
       "        0.,  0.,  0.,  0.,  0.,  0.,  0.,  0.,  0.,  0.,  0.,  0.,  0.,\n",
       "        0.,  0.,  0.,  0.,  0.,  0.,  0.,  0.,  0.,  0.,  0.,  0.,  0.,\n",
       "        0.,  0.,  0.,  0.,  0.,  0.,  0.,  0.,  0.,  0.,  0.,  0.,  0.,\n",
       "        0.,  0.,  0.,  0.,  0.,  0.,  0.,  0.,  0.,  0.,  0.,  0.,  0.,\n",
       "        0.,  0.,  0.,  0.,  0.,  0.,  0.,  0.,  0.,  0.,  0.,  0.,  0.,\n",
       "        0.,  0.,  0.,  0.,  0.,  0.,  0.,  0.,  0.,  0.,  0.,  0.,  0.,\n",
       "        0.,  0.,  0.,  0.,  0.,  0.,  0.,  0.,  0.,  0.,  0.,  0.,  0.,\n",
       "        0.,  0.,  0.,  0.,  0.,  0.,  0.,  0.,  0.,  0.,  0.,  0.,  0.,\n",
       "        0.,  0.,  0.,  0.,  0.,  0.,  0.,  0.,  0.,  0.,  0.,  0.,  0.,\n",
       "        0.,  0.,  0.,  0.,  0.,  0.,  0.,  0.,  0.,  0.,  0.,  0.,  0.,\n",
       "        0.,  0.,  0.,  0.,  0.,  0.,  0.,  0.,  0.,  0.,  0.,  0.,  0.,\n",
       "        0.,  0.,  0.,  0.,  0.,  0.,  0.,  0.,  0.,  0.,  0.,  0.,  0.,\n",
       "        0.,  0.,  0.,  0.,  0.,  0.,  0.,  0.,  0.,  0.,  0.,  0.,  0.,\n",
       "        0.,  0.,  0.,  0.,  0.,  0.,  0.,  0.,  0.,  0.,  0.,  0.,  0.,\n",
       "        0.,  0.,  0.,  0.,  0.,  0.,  0.,  0.,  0.,  0.,  0.,  0.,  0.,\n",
       "        0.,  0.,  0.,  0.,  0.,  0.,  0.,  0.,  0.,  0.,  0.,  0.,  0.,\n",
       "        0.,  0.,  0.,  0.,  0.,  0.,  0.,  0.,  0.,  0.,  0.])"
      ]
     },
     "execution_count": 51,
     "metadata": {},
     "output_type": "execute_result"
    }
   ],
   "source": [
    "##### normal distribution\n",
    "k = nba13.column('Age in 2013')\n",
    "p_norm = np.zeros(len(k))\n",
    "for i in range(len(k)):\n",
    "    p_norm[i] = (1 - norm.cdf(k[i])) * 2\n",
    "\n",
    "p_norm"
   ]
  },
  {
   "cell_type": "code",
   "execution_count": 52,
   "id": "e1e7ac18-04e5-4802-8452-9a9c0bf403e4",
   "metadata": {},
   "outputs": [
    {
     "data": {
      "text/plain": [
       "(15.36, 4.239999999999999)"
      ]
     },
     "execution_count": 52,
     "metadata": {},
     "output_type": "execute_result"
    }
   ],
   "source": [
    " 9.75 + 1.87 * 3 , 9.85 - 1.87 * 3"
   ]
  },
  {
   "cell_type": "markdown",
   "id": "f504fca8-a1cb-4a08-82b1-d96fd853b70b",
   "metadata": {},
   "source": [
    "## 14.2.6. Standard units\n",
    "\n",
    "- *z* score is the *standard unit*: The number of standard devations above average.\n",
    "- no matter what the distribution of the list looks like, Chebychev’s bounds imply that standard units will typically be in the (-5, 5) range.\n",
    "- **original score to standard units: z = ( value - average ) / SD**"
   ]
  },
  {
   "cell_type": "code",
   "execution_count": 53,
   "id": "a3d7212d-bf6c-4a33-8fd8-063147830e16",
   "metadata": {},
   "outputs": [],
   "source": [
    "### converting to SD\n",
    "\n",
    "def standard_units(numbers_array):\n",
    "    \"\"\" Convert any array of numbers to standard units. \"\"\"\n",
    "    return (numbers_array - np.mean(numbers_array)) / np.std(numbers_array) ### an z-score array "
   ]
  },
  {
   "cell_type": "markdown",
   "id": "a5414c77-7dbc-4fa7-9700-b4ec19433f48",
   "metadata": {},
   "source": [
    "## 14.2.7. Example"
   ]
  },
  {
   "cell_type": "code",
   "execution_count": 54,
   "id": "b84deae2-84a5-4399-a020-90b4ada48982",
   "metadata": {},
   "outputs": [
    {
     "data": {
      "text/html": [
       "<table border=\"1\" class=\"dataframe\">\n",
       "    <thead>\n",
       "        <tr>\n",
       "            <th>Date</th> <th>Flight Number</th> <th>Destination</th> <th>Delay</th>\n",
       "        </tr>\n",
       "    </thead>\n",
       "    <tbody>\n",
       "        <tr>\n",
       "            <td>6/1/15</td> <td>73           </td> <td>HNL        </td> <td>257  </td>\n",
       "        </tr>\n",
       "        <tr>\n",
       "            <td>6/1/15</td> <td>217          </td> <td>EWR        </td> <td>28   </td>\n",
       "        </tr>\n",
       "        <tr>\n",
       "            <td>6/1/15</td> <td>237          </td> <td>STL        </td> <td>-3   </td>\n",
       "        </tr>\n",
       "        <tr>\n",
       "            <td>6/1/15</td> <td>250          </td> <td>SAN        </td> <td>0    </td>\n",
       "        </tr>\n",
       "        <tr>\n",
       "            <td>6/1/15</td> <td>267          </td> <td>PHL        </td> <td>64   </td>\n",
       "        </tr>\n",
       "    </tbody>\n",
       "</table>\n",
       "<p>... (13820 rows omitted)</p>"
      ],
      "text/plain": [
       "<IPython.core.display.HTML object>"
      ]
     },
     "metadata": {},
     "output_type": "display_data"
    }
   ],
   "source": [
    "united = Table.read_table(path_data + 'united_summer2015.csv')   ### flight delays\n",
    "united.show(5)"
   ]
  },
  {
   "cell_type": "code",
   "execution_count": 55,
   "id": "ce2b7ae0-6ded-46c9-ac26-6dca9e4e1033",
   "metadata": {},
   "outputs": [],
   "source": [
    "# united.sort('Delay', descending=True).show(3)\n",
    "\n",
    "# united.show(3)\n",
    "# united.where('Delay', are.max("
   ]
  },
  {
   "cell_type": "code",
   "execution_count": 56,
   "id": "2b0d37cc-068f-45b2-8b91-433651db63d3",
   "metadata": {},
   "outputs": [
    {
     "data": {
      "text/html": [
       "<table border=\"1\" class=\"dataframe\">\n",
       "    <thead>\n",
       "        <tr>\n",
       "            <th>Date</th> <th>Flight Number</th> <th>Destination</th> <th>Delay</th> <th>Delay (Standard Units)</th>\n",
       "        </tr>\n",
       "    </thead>\n",
       "    <tbody>\n",
       "        <tr>\n",
       "            <td>6/21/15</td> <td>1964         </td> <td>SEA        </td> <td>580  </td> <td>14.269                </td>\n",
       "        </tr>\n",
       "        <tr>\n",
       "            <td>6/22/15</td> <td>300          </td> <td>HNL        </td> <td>537  </td> <td>13.1798               </td>\n",
       "        </tr>\n",
       "        <tr>\n",
       "            <td>6/21/15</td> <td>1149         </td> <td>IAD        </td> <td>508  </td> <td>12.4453               </td>\n",
       "        </tr>\n",
       "        <tr>\n",
       "            <td>6/20/15</td> <td>353          </td> <td>ORD        </td> <td>505  </td> <td>12.3693               </td>\n",
       "        </tr>\n",
       "        <tr>\n",
       "            <td>8/23/15</td> <td>1589         </td> <td>ORD        </td> <td>458  </td> <td>11.1788               </td>\n",
       "        </tr>\n",
       "    </tbody>\n",
       "</table>\n",
       "<p>... (13820 rows omitted)</p>"
      ],
      "text/plain": [
       "<IPython.core.display.HTML object>"
      ]
     },
     "metadata": {},
     "output_type": "display_data"
    }
   ],
   "source": [
    "united = united.with_column(\n",
    "    'Delay (Standard Units)', \n",
    "    standard_units(united.column('Delay'))\n",
    ")\n",
    "united.sort('Delay', descending=True).show(5)"
   ]
  },
  {
   "cell_type": "code",
   "execution_count": 57,
   "id": "3cfa83fb-0de3-4cb3-8814-c64461223a33",
   "metadata": {},
   "outputs": [
    {
     "data": {
      "text/html": [
       "<table border=\"1\" class=\"dataframe\">\n",
       "    <thead>\n",
       "        <tr>\n",
       "            <th>Date</th> <th>Flight Number</th> <th>Destination</th> <th>Delay</th> <th>Delay (Standard Units)</th>\n",
       "        </tr>\n",
       "    </thead>\n",
       "    <tbody>\n",
       "        <tr>\n",
       "            <td>6/21/15</td> <td>1964         </td> <td>SEA        </td> <td>580  </td> <td>14.269                </td>\n",
       "        </tr>\n",
       "        <tr>\n",
       "            <td>6/22/15</td> <td>300          </td> <td>HNL        </td> <td>537  </td> <td>13.1798               </td>\n",
       "        </tr>\n",
       "        <tr>\n",
       "            <td>6/21/15</td> <td>1149         </td> <td>IAD        </td> <td>508  </td> <td>12.4453               </td>\n",
       "        </tr>\n",
       "        <tr>\n",
       "            <td>6/20/15</td> <td>353          </td> <td>ORD        </td> <td>505  </td> <td>12.3693               </td>\n",
       "        </tr>\n",
       "        <tr>\n",
       "            <td>8/23/15</td> <td>1589         </td> <td>ORD        </td> <td>458  </td> <td>11.1788               </td>\n",
       "        </tr>\n",
       "        <tr>\n",
       "            <td>7/23/15</td> <td>1960         </td> <td>LAX        </td> <td>438  </td> <td>10.6722               </td>\n",
       "        </tr>\n",
       "        <tr>\n",
       "            <td>6/23/15</td> <td>1606         </td> <td>ORD        </td> <td>430  </td> <td>10.4696               </td>\n",
       "        </tr>\n",
       "        <tr>\n",
       "            <td>6/4/15 </td> <td>1743         </td> <td>LAX        </td> <td>408  </td> <td>9.91236               </td>\n",
       "        </tr>\n",
       "        <tr>\n",
       "            <td>6/17/15</td> <td>1122         </td> <td>HNL        </td> <td>405  </td> <td>9.83637               </td>\n",
       "        </tr>\n",
       "        <tr>\n",
       "            <td>7/27/15</td> <td>572          </td> <td>ORD        </td> <td>385  </td> <td>9.32979               </td>\n",
       "        </tr>\n",
       "    </tbody>\n",
       "</table>\n",
       "<p>... (13815 rows omitted)</p>"
      ],
      "text/plain": [
       "<IPython.core.display.HTML object>"
      ]
     },
     "metadata": {},
     "output_type": "display_data"
    }
   ],
   "source": [
    "united.sort('Delay', descending=True).show(10)   ##### sort\n",
    "\n",
    "### very extreme values do exist!!!!!!! albeit Chebychev/s bounds"
   ]
  },
  {
   "cell_type": "code",
   "execution_count": 58,
   "id": "e7bfba6d-7db2-4d7f-a33b-220f7521e23e",
   "metadata": {},
   "outputs": [
    {
     "data": {
      "text/plain": [
       "0.9790235081374322"
      ]
     },
     "execution_count": 58,
     "metadata": {},
     "output_type": "execute_result"
    }
   ],
   "source": [
    "##### Chebychev's inequality\n",
    "### Chebychev: +-3 SD =~ 89%\n",
    "\n",
    "within_3_sd = united.where('Delay (Standard Units)', are.between(-3, 3))\n",
    "within_3_sd.num_rows / united.num_rows"
   ]
  },
  {
   "cell_type": "code",
   "execution_count": 59,
   "id": "a701ee16-4341-4f32-99fb-1e21c6e901cb",
   "metadata": {},
   "outputs": [
    {
     "data": {
      "text/plain": [
       "2.097649186256778"
      ]
     },
     "execution_count": 59,
     "metadata": {},
     "output_type": "execute_result"
    }
   ],
   "source": [
    "#### meaning this many percent of flights are delayed more than 3SD or less than -3SD\n",
    "\n",
    "(1 - within_3_sd.num_rows / united.num_rows) * 100"
   ]
  },
  {
   "cell_type": "code",
   "execution_count": 60,
   "id": "5b6b2ab6-f8f2-4ade-aa27-867373d49781",
   "metadata": {},
   "outputs": [
    {
     "data": {
      "text/html": [
       "<div>\n",
       "<style scoped>\n",
       "    .dataframe tbody tr th:only-of-type {\n",
       "        vertical-align: middle;\n",
       "    }\n",
       "\n",
       "    .dataframe tbody tr th {\n",
       "        vertical-align: top;\n",
       "    }\n",
       "\n",
       "    .dataframe thead th {\n",
       "        text-align: right;\n",
       "    }\n",
       "</style>\n",
       "<table border=\"1\" class=\"dataframe\">\n",
       "  <thead>\n",
       "    <tr style=\"text-align: right;\">\n",
       "      <th></th>\n",
       "      <th>Flight Number</th>\n",
       "      <th>Delay</th>\n",
       "      <th>Delay (Standard Units)</th>\n",
       "    </tr>\n",
       "  </thead>\n",
       "  <tbody>\n",
       "    <tr>\n",
       "      <th>count</th>\n",
       "      <td>13825.000000</td>\n",
       "      <td>13825.000000</td>\n",
       "      <td>13825.000000</td>\n",
       "    </tr>\n",
       "    <tr>\n",
       "      <th>mean</th>\n",
       "      <td>1133.415045</td>\n",
       "      <td>16.658156</td>\n",
       "      <td>0.000000</td>\n",
       "    </tr>\n",
       "    <tr>\n",
       "      <th>std</th>\n",
       "      <td>571.858597</td>\n",
       "      <td>39.481628</td>\n",
       "      <td>1.000036</td>\n",
       "    </tr>\n",
       "    <tr>\n",
       "      <th>min</th>\n",
       "      <td>3.000000</td>\n",
       "      <td>-16.000000</td>\n",
       "      <td>-0.827203</td>\n",
       "    </tr>\n",
       "    <tr>\n",
       "      <th>25%</th>\n",
       "      <td>591.000000</td>\n",
       "      <td>-2.000000</td>\n",
       "      <td>-0.472595</td>\n",
       "    </tr>\n",
       "    <tr>\n",
       "      <th>50%</th>\n",
       "      <td>1178.000000</td>\n",
       "      <td>2.000000</td>\n",
       "      <td>-0.371279</td>\n",
       "    </tr>\n",
       "    <tr>\n",
       "      <th>75%</th>\n",
       "      <td>1670.000000</td>\n",
       "      <td>18.000000</td>\n",
       "      <td>0.033988</td>\n",
       "    </tr>\n",
       "    <tr>\n",
       "      <th>max</th>\n",
       "      <td>2117.000000</td>\n",
       "      <td>580.000000</td>\n",
       "      <td>14.268971</td>\n",
       "    </tr>\n",
       "  </tbody>\n",
       "</table>\n",
       "</div>"
      ],
      "text/plain": [
       "       Flight Number         Delay  Delay (Standard Units)\n",
       "count   13825.000000  13825.000000            13825.000000\n",
       "mean     1133.415045     16.658156                0.000000\n",
       "std       571.858597     39.481628                1.000036\n",
       "min         3.000000    -16.000000               -0.827203\n",
       "25%       591.000000     -2.000000               -0.472595\n",
       "50%      1178.000000      2.000000               -0.371279\n",
       "75%      1670.000000     18.000000                0.033988\n",
       "max      2117.000000    580.000000               14.268971"
      ]
     },
     "execution_count": 60,
     "metadata": {},
     "output_type": "execute_result"
    }
   ],
   "source": [
    "# united_df = united.to_df()\n",
    "# united_df.describe()\n",
    "united.to_df().describe()"
   ]
  },
  {
   "cell_type": "code",
   "execution_count": 61,
   "id": "ee712ce2-60f5-4bab-bd49-227f74bc47c5",
   "metadata": {},
   "outputs": [
    {
     "data": {
      "text/plain": [
       "14.268971449030445"
      ]
     },
     "execution_count": 61,
     "metadata": {},
     "output_type": "execute_result"
    }
   ],
   "source": [
    "### max z-score\n",
    "(united.column('Delay').max() - united.column('Delay').mean()) / united.column('Delay').std()"
   ]
  },
  {
   "cell_type": "code",
   "execution_count": 62,
   "id": "6912bed7-6adb-4584-824d-834412763fc8",
   "metadata": {},
   "outputs": [
    {
     "data": {
      "image/png": "[encoded data removed]",
      "text/plain": [
       "<Figure size 600x400 with 1 Axes>"
      ]
     },
     "metadata": {},
     "output_type": "display_data"
    }
   ],
   "source": [
    "### hwo about the distribution of z-scores?\n",
    "##### they don't vary much even there are extreme values like 14+\n",
    "\n",
    "united.select('Delay (Standard Units)').hist(bins = np.arange(-5, 15, 0.5))\n",
    "plt.xticks(np.arange(-6, 17, 3));"
   ]
  },
  {
   "cell_type": "code",
   "execution_count": null,
   "id": "9911d059-5d68-426b-8ca0-482568198e72",
   "metadata": {},
   "outputs": [],
   "source": []
  }
 ],
 "metadata": {
  "kernelspec": {
   "display_name": "Python 3 (ipykernel)",
   "language": "python",
   "name": "python3"
  },
  "language_info": {
   "codemirror_mode": {
    "name": "ipython",
    "version": 3
   },
   "file_extension": ".py",
   "mimetype": "text/x-python",
   "name": "python",
   "nbconvert_exporter": "python",
   "pygments_lexer": "ipython3",
   "version": "3.12.2"
  }
 },
 "nbformat": 4,
 "nbformat_minor": 5
}
