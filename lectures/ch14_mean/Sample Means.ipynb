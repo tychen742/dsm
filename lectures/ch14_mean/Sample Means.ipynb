{
 "cells": [
  {
   "cell_type": "markdown",
   "id": "a87e5cc3-432c-4d46-84fc-7c353017ec09",
   "metadata": {},
   "source": [
    "# Sample Mean Variability\n",
    "\n",
    "- By the Central Limit Theorem, the **probability distribution of the mean of a large random sample is roughly normal**. The **bell curve is centered at the population mean**. Some of the sample means are higher, and some lower, but the **deviations from the population mean are roughly symmetric** on either side, as we have seen repeatedly. **Formally, probability theory shows that the sample mean is an unbiased estimate of the population mean**.\n",
    "\n",
    "In our simulations, we also noticed that the **means of larger samples tend to be more tightly clustered around the population mean than means of smaller samples**. In this section, we will quantify the variability of the sample mean and develop a relation between the variability and the sample size.\n",
    "\n",
    "Let’s start with our table of flight delays. The mean delay is about 16.7 minutes, and the distribution of delays is skewed to the right."
   ]
  },
  {
   "cell_type": "code",
   "execution_count": null,
   "id": "5543b95e-4fef-4143-b183-dc122a94b4da",
   "metadata": {},
   "outputs": [],
   "source": [
    "path_data = '../../data/'\n",
    "\n",
    "from datascience import *\n",
    "import numpy as np\n",
    "import matplotlib.pyplot as plots\n",
    "%matplotlib XXXXXXXXXX\n",
    "\n",
    "united = Table.read_table(path_data + 'united_summer2015.csv')\n",
    "delay = united.select('Delay')\n",
    "# delay"
   ]
  },
  {
   "cell_type": "code",
   "execution_count": null,
   "id": "cf61bc7b-77b5-421e-9b49-41a9643e6ea8",
   "metadata": {},
   "outputs": [],
   "source": [
    "pop_mean = np.mean(delay.column('Delay'))\n",
    "pop_mean"
   ]
  },
  {
   "cell_type": "code",
   "execution_count": null,
   "id": "c281a437-b3b1-48fe-9939-58fe664ad149",
   "metadata": {},
   "outputs": [],
   "source": [
    "delay.hist(bins=np.arange(-20, 300, 10))\n",
    "plots.scatter(pop_mean, -0.0008, marker='^', color='darkblue', s=60)\n",
    "plots.ylim(-0.004, 0.04);"
   ]
  },
  {
   "cell_type": "markdown",
   "id": "a37b8dfc-6033-45e7-ac80-fcf9967cd0d2",
   "metadata": {},
   "source": [
    "Now let’s take random samples and look at the probability distribution of the sample mean. As usual, we will use simulation to get an empirical approximation to this distribution.\n",
    "\n",
    "We will define a function simulate_sample_mean to do this, because we are going to vary the sample size later. The arguments are the name of the table, the label of the column containing the variable, the sample size, and the number of simulations."
   ]
  },
  {
   "cell_type": "code",
   "execution_count": null,
   "id": "b3d66ce8-3946-4d5a-a960-136ea425c1d3",
   "metadata": {},
   "outputs": [],
   "source": [
    "\"\"\"Empirical distribution of random sample means\"\"\"\n",
    "\n",
    "def simulate_sample_mean(table, label, sample_size, repetitions):\n",
    "    \n",
    "    means = make_array()\n",
    "\n",
    "    for i in range(repetitions):\n",
    "        new_sample = table.sample(sample_size)\n",
    "        new_sample_mean = np.mean(new_sample.column(label))\n",
    "        means = np.append(means, XXXXXXXXXX)   ########## here\n",
    "\n",
    "    sample_means = Table().with_column('Sample Means', XXXXXXXXXX)   ##### here\n",
    "    \n",
    "    # Display empirical histogram and print all relevant quantities\n",
    "    sample_means.hist(bins=20)\n",
    "    plots.xlabel('Sample Means')\n",
    "    plots.title('Sample Size ' + str(sample_size))\n",
    "    print(\"Sample size: \", sample_size)\n",
    "    print(\"Population mean:\", np.mean(table.column(label)))\n",
    "    print(\"Average of sample means: \", np.mean(means))\n",
    "    print(\"Population SD:\", np.std(table.column(label)))\n",
    "    print(\"SD of sample means:\", np.std(means))"
   ]
  },
  {
   "cell_type": "markdown",
   "id": "6e17f520-45b2-4ae3-af2f-116323aba3d4",
   "metadata": {},
   "source": [
    "Let us simulate the mean of a random sample of 100 delays, then of 400 delays, and finally of 625 delays. We will perform 10,000 repetitions of each of these process. The xlim and ylim lines set the axes consistently in all the plots for ease of comparison. You can just ignore those two lines of code in each cell."
   ]
  },
  {
   "cell_type": "code",
   "execution_count": null,
   "id": "bbb394dc-a456-4ae7-aeb6-f94bfe5a3428",
   "metadata": {},
   "outputs": [],
   "source": [
    "\n",
    "##### use the function sample size: 100; repeat 10000 times, use 'Delay' and delay table\n",
    "simulate_sample_mean(XXXXXXXXXX)     ##### here\n",
    "\n",
    "plots.xlim(5, 35)\n",
    "plots.ylim(0, 0.25);"
   ]
  },
  {
   "cell_type": "code",
   "execution_count": null,
   "id": "ac952725-1473-4172-8785-8cde20d28d08",
   "metadata": {},
   "outputs": [],
   "source": [
    "\n",
    "##### use the function sample size: 400; repeat 10000 times, use 'Delay' and delay table\n",
    "simulate_sample_mean(XXXXXXXXXX)   ##### here\n",
    "plots.xlim(5, 35)\n",
    "plots.ylim(0, 0.25);"
   ]
  },
  {
   "cell_type": "code",
   "execution_count": null,
   "id": "8019ed41-19c9-4c20-9fe0-b5ddaf6faa49",
   "metadata": {},
   "outputs": [],
   "source": [
    "\n",
    "##### use the function sample size: 625; repeat 10000 times, use 'Delay' and delay table\n",
    "simulate_sample_mean(XXXXXXXXXX)   ##### here\n",
    "\n",
    "plots.xlim(5, 35)\n",
    "plots.ylim(0, 0.25);"
   ]
  },
  {
   "cell_type": "markdown",
   "id": "b82b6150-f44b-4f87-ba29-871c33260e7a",
   "metadata": {},
   "source": [
    "## What does these three distribution tell us?? ########\n",
    "\n",
    "## answer below: \n",
    "\n",
    "\n",
    "\n",
    "\n"
   ]
  },
  {
   "cell_type": "code",
   "execution_count": null,
   "id": "e07f7645-c51a-412d-a246-be3f1a4ce7e1",
   "metadata": {},
   "outputs": [],
   "source": [
    "#####: Answer:                               ##### here"
   ]
  },
  {
   "cell_type": "markdown",
   "id": "54434e55-9e95-4a23-9c22-375975268d4e",
   "metadata": {},
   "source": [
    "## 14.5.1. The SD of All the Sample Means\n",
    "\n",
    "You can also see that the histograms get narrower, and hence taller, as the sample size increases. We have seen that before, but now we will pay closer attention to the measure of spread.\n",
    "\n",
    "The SD of the population of all delays is about 40 minutes."
   ]
  },
  {
   "cell_type": "code",
   "execution_count": null,
   "id": "9da9a61f-c1b7-43d5-934e-64dd7fd1c2d0",
   "metadata": {},
   "outputs": [],
   "source": [
    "##### get the SD of all delays\n",
    "pop_sd = np.XXXXXXXXXX     ###### here\n",
    "pop_sd\n"
   ]
  },
  {
   "cell_type": "markdown",
   "id": "ff325454-4402-48f4-9858-098c3cec7676",
   "metadata": {},
   "source": [
    "Take a look at the SDs in the sample mean histograms above. In all three of them, the SD of the population of delays is about 40 minutes, because all the samples were taken from the same population.\n",
    "\n",
    "Now look at the SD of all 10,000 sample means, when the sample size is 100. That SD is about one-tenth of the population SD. When the sample size is 400, the SD of all the sample means is about one-twentieth of the population SD. When the sample size is 625, the SD of the sample means is about one-twentyfifth of the population SD.\n",
    "\n",
    "It seems like a good idea to compare the SD of the empirical distribution of the sample means to the quantity “population SD divided by the square root of the sample size.”\n",
    "\n",
    "Here are the numerical values. For each sample size in the first column, 10,000 random samples of that size were drawn, and the 10,000 sample means were calculated. The second column contains the SD of those 10,000 sample means. The third column contains the result of the calculation “population SD divided by the square root of the sample size.”\n",
    "\n",
    "The cell takes a while to run, as it’s a large simulation. But you’ll soon see that it’s worth the wait."
   ]
  },
  {
   "cell_type": "code",
   "execution_count": null,
   "id": "d405dc9c-d235-4a2d-b015-c614a2cdeb8b",
   "metadata": {},
   "outputs": [],
   "source": [
    "repetitions = 10000\n",
    "sample_sizes = np.arange(25, 626, 25)\n",
    "\n",
    "sd_means = make_array()\n",
    "\n",
    "for n in sample_sizes:\n",
    "    means = make_array()\n",
    "    for i in np.arange(repetitions):\n",
    "        means = np.append(means, np.mean(delay.sample(n).column('Delay')))\n",
    "    sd_means = np.append(sd_means, np.std(XXXXXXXXXX))    ##### HERE\n",
    "\n",
    "sd_comparison = Table().with_columns(\n",
    "    'Sample Size n', sample_sizes,\n",
    "    'SD of 10,000 Sample Means', sd_means,\n",
    "    'pop_sd/sqrt(n)', pop_sd/np.sqrt(sample_sizes)\n",
    ")"
   ]
  },
  {
   "cell_type": "code",
   "execution_count": null,
   "id": "7cb5bd7e-873f-4384-9a82-ff02e4f545b3",
   "metadata": {},
   "outputs": [],
   "source": [
    "sd_comparison"
   ]
  },
  {
   "cell_type": "markdown",
   "id": "8c0bfc92-22e7-4b2e-b5f1-97d7cc4cc532",
   "metadata": {},
   "source": [
    "The values in the second and third columns are very close. If we plot each of those columns with the sample size on the horizontal axis, the two graphs are essentially indistinguishable."
   ]
  },
  {
   "cell_type": "code",
   "execution_count": null,
   "id": "3835d22d-d495-472b-9348-7f0647ae7625",
   "metadata": {},
   "outputs": [],
   "source": [
    "sd_comparison.plot('Sample Size n')"
   ]
  },
  {
   "cell_type": "markdown",
   "id": "238a5998-c12c-4e50-b4ac-40457f9954d9",
   "metadata": {},
   "source": [
    "There really are two curves there. But they are so close to each other that it looks as though there is just one.\n",
    "\n",
    "What we are seeing is an instance of a general result. Remember that the graph above is based on 10,000 replications for each sample size. But there are many more than 10,000 samples of each size. The probability distribution of the sample mean is based on the means of all possible samples of a fixed size."
   ]
  },
  {
   "cell_type": "markdown",
   "id": "f5dc801a-7686-4e9c-a550-501773e4b4fa",
   "metadata": {},
   "source": [
    "Fix a sample size. If the samples are drawn at random with replacement from the population, then\n",
    "\n",
    "$$\n",
    "{\\mbox{SD of all possible sample means}} ~=~\n",
    "\\frac{\\mbox{Population SD}}{\\sqrt{\\mbox{sample size}}}\n",
    "$$\n",
    "\n",
    "This is the standard deviation of the averages of all the possible samples that could be drawn. **It measures roughly how far off the sample means are from the population mean**."
   ]
  },
  {
   "cell_type": "markdown",
   "id": "6b00f0b8-41a0-42bf-803f-7c86ad026a5e",
   "metadata": {},
   "source": [
    "## 14.5.3. The Accuracy of the Sample Mean"
   ]
  },
  {
   "cell_type": "markdown",
   "id": "8b3d0a14-cbb7-413c-8275-4bc75ccffafd",
   "metadata": {},
   "source": [
    "The SD of all possible sample means measures how variable the sample mean can be. As such, it is taken as a measure of the accuracy of the sample mean as an estimate of the population mean. The smaller the SD, the more accurate the estimate.\n",
    "\n",
    "The formula shows that:\n",
    "\n",
    "- **The population size doesn’t affect the accuracy of the sample mean**. The population size doesn’t appear anywhere in the formula.\n",
    "\n",
    "- **The population SD is a constant**; it’s the same for every sample drawn from the population. The sample size can be varied. Because the sample size appears in the denominator, **the variability of the sample mean decreases as the sample size increases, and hence the accuracy increases**."
   ]
  },
  {
   "cell_type": "markdown",
   "id": "441e9539-4471-4d7d-9284-c60769aebe36",
   "metadata": {},
   "source": [
    "## 14.5.4. The Square Root Law"
   ]
  },
  {
   "cell_type": "markdown",
   "id": "d54e8436-bd6c-4bae-aa64-3e73703dce0d",
   "metadata": {},
   "source": [
    "## The Square Root Law\n",
    "From the table of SD comparisons, you can see that the SD of the means of random samples of 25 flight delays is about 8 minutes. If you multiply the sample size by 4, you'll get samples of size 100. The SD of the means of all of those samples is about 4 minutes. That's smaller than 8 minutes, but it's not 4 times as small; it's only 2 times as small. That's because the sample size in the denominator has a square root over it. The sample size increased by a factor of 4, but the SD went down by a factor of $2 = \\sqrt{4}$. In other words, the accuracy went up by a factor of $2 = \\sqrt{4}$.\n",
    "\n",
    "In general, when you multiply the sample size by a factor, the accuracy of the sample mean goes up by the square root of that factor.\n",
    "\n",
    "So to increase accuracy by a factor of 10, you have to multiply sample size by a factor of 100. Accuracy doesn't come cheap!"
   ]
  },
  {
   "cell_type": "code",
   "execution_count": null,
   "id": "24b174d6-b5b2-4735-a147-5e607b435085",
   "metadata": {},
   "outputs": [],
   "source": []
  }
 ],
 "metadata": {
  "kernelspec": {
   "display_name": "Python 3 (ipykernel)",
   "language": "python",
   "name": "python3"
  },
  "language_info": {
   "codemirror_mode": {
    "name": "ipython",
    "version": 3
   },
   "file_extension": ".py",
   "mimetype": "text/x-python",
   "name": "python",
   "nbconvert_exporter": "python",
   "pygments_lexer": "ipython3",
   "version": "3.12.0"
  }
 },
 "nbformat": 4,
 "nbformat_minor": 5
}
