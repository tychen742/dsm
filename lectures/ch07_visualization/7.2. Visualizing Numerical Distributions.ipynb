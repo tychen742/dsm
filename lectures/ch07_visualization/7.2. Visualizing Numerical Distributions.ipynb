{
 "cells": [
  {
   "cell_type": "markdown",
   "id": "4e752bed-3a4a-4a02-bad9-83c5849b0ba7",
   "metadata": {},
   "source": [
    "# 7.2. Visualizing Numerical Distributions\n",
    "\n",
    "- data: quantitative/numerical\n",
    "- Vis: histogram\n",
    "- A bar graph is used to compare discrete or categorical variables in a graphical format whereas a histogram depicts the frequency distribution of variables in a dataset."
   ]
  },
  {
   "cell_type": "code",
   "execution_count": 1,
   "id": "aba997d3-a04a-4402-a07e-a98c90f85546",
   "metadata": {},
   "outputs": [],
   "source": [
    "##### headers\n",
    "from datascience import *     ### works but discouraged\n",
    "import numpy as np\n",
    "path_data = '../data/'"
   ]
  },
  {
   "cell_type": "code",
   "execution_count": 2,
   "id": "e16778ac-e4b1-42ae-97f5-3600caeb9ec5",
   "metadata": {
    "scrolled": true
   },
   "outputs": [
    {
     "data": {
      "text/html": [
       "<table border=\"1\" class=\"dataframe\">\n",
       "    <thead>\n",
       "        <tr>\n",
       "            <th>Title</th> <th>Studio</th> <th>Gross</th> <th>Gross (Adjusted)</th> <th>Year</th>\n",
       "        </tr>\n",
       "    </thead>\n",
       "    <tbody>\n",
       "        <tr>\n",
       "            <td>Gone with the Wind              </td> <td>MGM            </td> <td>198,676,459</td> <td>1,796,176,700   </td> <td>1939</td>\n",
       "        </tr>\n",
       "        <tr>\n",
       "            <td>Star Wars                       </td> <td>Fox            </td> <td>460,998,007</td> <td>1,583,483,200   </td> <td>1977</td>\n",
       "        </tr>\n",
       "        <tr>\n",
       "            <td>The Sound of Music              </td> <td>Fox            </td> <td>158,671,368</td> <td>1,266,072,700   </td> <td>1965</td>\n",
       "        </tr>\n",
       "        <tr>\n",
       "            <td>E.T.: The Extra-Terrestrial     </td> <td>Universal      </td> <td>435,110,554</td> <td>1,261,085,000   </td> <td>1982</td>\n",
       "        </tr>\n",
       "        <tr>\n",
       "            <td>Titanic                         </td> <td>Paramount      </td> <td>658,672,302</td> <td>1,204,368,000   </td> <td>1997</td>\n",
       "        </tr>\n",
       "        <tr>\n",
       "            <td>The Ten Commandments            </td> <td>Paramount      </td> <td>65,500,000 </td> <td>1,164,590,000   </td> <td>1956</td>\n",
       "        </tr>\n",
       "        <tr>\n",
       "            <td>Jaws                            </td> <td>Universal      </td> <td>260,000,000</td> <td>1,138,620,700   </td> <td>1975</td>\n",
       "        </tr>\n",
       "        <tr>\n",
       "            <td>Doctor Zhivago                  </td> <td>MGM            </td> <td>111,721,910</td> <td>1,103,564,200   </td> <td>1965</td>\n",
       "        </tr>\n",
       "        <tr>\n",
       "            <td>The Exorcist                    </td> <td>Warner Brothers</td> <td>232,906,145</td> <td>983,226,600     </td> <td>1973</td>\n",
       "        </tr>\n",
       "        <tr>\n",
       "            <td>Snow White and the Seven Dwarves</td> <td>Disney         </td> <td>184,925,486</td> <td>969,010,000     </td> <td>1937</td>\n",
       "        </tr>\n",
       "    </tbody>\n",
       "</table>\n",
       "<p>... (190 rows omitted)</p>"
      ],
      "text/plain": [
       "Title                            | Studio          | Gross       | Gross (Adjusted) | Year\n",
       "Gone with the Wind               | MGM             | 198,676,459 | 1,796,176,700    | 1939\n",
       "Star Wars                        | Fox             | 460,998,007 | 1,583,483,200    | 1977\n",
       "The Sound of Music               | Fox             | 158,671,368 | 1,266,072,700    | 1965\n",
       "E.T.: The Extra-Terrestrial      | Universal       | 435,110,554 | 1,261,085,000    | 1982\n",
       "Titanic                          | Paramount       | 658,672,302 | 1,204,368,000    | 1997\n",
       "The Ten Commandments             | Paramount       | 65,500,000  | 1,164,590,000    | 1956\n",
       "Jaws                             | Universal       | 260,000,000 | 1,138,620,700    | 1975\n",
       "Doctor Zhivago                   | MGM             | 111,721,910 | 1,103,564,200    | 1965\n",
       "The Exorcist                     | Warner Brothers | 232,906,145 | 983,226,600      | 1973\n",
       "Snow White and the Seven Dwarves | Disney          | 184,925,486 | 969,010,000      | 1937\n",
       "... (190 rows omitted)"
      ]
     },
     "execution_count": 2,
     "metadata": {},
     "output_type": "execute_result"
    }
   ],
   "source": [
    "##### the dataset: top movies 2017\n",
    "top = Table.read_table(path_data + 'top_movies_2017.csv')\n",
    "# Make the numbers in the Gross and Gross (Adjusted) columns look nicer:\n",
    "top.set_format([2, 3], NumberFormatter)\n",
    "# top\n",
    "######### set_format #####"
   ]
  },
  {
   "cell_type": "code",
   "execution_count": 3,
   "id": "5aacc1f8-54d3-4da6-a8d0-17926c1a6b56",
   "metadata": {},
   "outputs": [
    {
     "data": {
      "text/html": [
       "<table border=\"1\" class=\"dataframe\">\n",
       "    <thead>\n",
       "        <tr>\n",
       "            <th>Title</th> <th>Adjusted Gross</th>\n",
       "        </tr>\n",
       "    </thead>\n",
       "    <tbody>\n",
       "        <tr>\n",
       "            <td>Gone with the Wind              </td> <td>1796.18       </td>\n",
       "        </tr>\n",
       "        <tr>\n",
       "            <td>Star Wars                       </td> <td>1583.48       </td>\n",
       "        </tr>\n",
       "        <tr>\n",
       "            <td>The Sound of Music              </td> <td>1266.07       </td>\n",
       "        </tr>\n",
       "        <tr>\n",
       "            <td>E.T.: The Extra-Terrestrial     </td> <td>1261.08       </td>\n",
       "        </tr>\n",
       "        <tr>\n",
       "            <td>Titanic                         </td> <td>1204.37       </td>\n",
       "        </tr>\n",
       "        <tr>\n",
       "            <td>The Ten Commandments            </td> <td>1164.59       </td>\n",
       "        </tr>\n",
       "        <tr>\n",
       "            <td>Jaws                            </td> <td>1138.62       </td>\n",
       "        </tr>\n",
       "        <tr>\n",
       "            <td>Doctor Zhivago                  </td> <td>1103.56       </td>\n",
       "        </tr>\n",
       "        <tr>\n",
       "            <td>The Exorcist                    </td> <td>983.23        </td>\n",
       "        </tr>\n",
       "        <tr>\n",
       "            <td>Snow White and the Seven Dwarves</td> <td>969.01        </td>\n",
       "        </tr>\n",
       "    </tbody>\n",
       "</table>\n",
       "<p>... (190 rows omitted)</p>"
      ],
      "text/plain": [
       "Title                            | Adjusted Gross\n",
       "Gone with the Wind               | 1796.18\n",
       "Star Wars                        | 1583.48\n",
       "The Sound of Music               | 1266.07\n",
       "E.T.: The Extra-Terrestrial      | 1261.08\n",
       "Titanic                          | 1204.37\n",
       "The Ten Commandments             | 1164.59\n",
       "Jaws                             | 1138.62\n",
       "Doctor Zhivago                   | 1103.56\n",
       "The Exorcist                     | 983.23\n",
       "Snow White and the Seven Dwarves | 969.01\n",
       "... (190 rows omitted)"
      ]
     },
     "execution_count": 3,
     "metadata": {},
     "output_type": "execute_result"
    }
   ],
   "source": [
    "##### visualizing numerical variables\n",
    "##### tbl.with_columns(labels_values, formatter): Return a table with additional or replaced columns\n",
    "##### https://www.data8.org/datascience/_autosummary/datascience.tables.Table.with_columns.html#datascience.tables.Table.with_columns\n",
    "##### 1e6 = 1,000,000 == 1 mil\n",
    "millions = top.select(0).with_columns('Adjusted Gross', \n",
    "                                      np.round(top.column(3)/1e6, 2))\n",
    "millions"
   ]
  },
  {
   "cell_type": "markdown",
   "id": "8c6c1bdc-386f-4da6-88c3-7c9548ebfc1f",
   "metadata": {},
   "source": [
    "## 7.2.1. Binning the Data\n",
    "- bin: group the values into intervals; the bin() method"
   ]
  },
  {
   "cell_type": "code",
   "execution_count": 4,
   "id": "9262a16e-cd75-4572-8bfc-be9e5b8f552e",
   "metadata": {},
   "outputs": [
    {
     "data": {
      "text/plain": [
       "(338.41000000000003, 1796.1800000000001)"
      ]
     },
     "execution_count": 4,
     "metadata": {},
     "output_type": "execute_result"
    }
   ],
   "source": [
    "adj_gross = millions.column('Adjusted Gross')\n",
    "min(adj_gross), max(adj_gross)\n",
    "# round(min(adj_gross)), round(max(adj_gross))\n"
   ]
  },
  {
   "cell_type": "code",
   "execution_count": 5,
   "id": "92c115ff-23c3-4569-b92f-f22f4741371b",
   "metadata": {},
   "outputs": [
    {
     "data": {
      "text/html": [
       "<table border=\"1\" class=\"dataframe\">\n",
       "    <thead>\n",
       "        <tr>\n",
       "            <th>bin</th> <th>Adjusted Gross count</th>\n",
       "        </tr>\n",
       "    </thead>\n",
       "    <tbody>\n",
       "        <tr>\n",
       "            <td>300 </td> <td>68                  </td>\n",
       "        </tr>\n",
       "        <tr>\n",
       "            <td>400 </td> <td>60                  </td>\n",
       "        </tr>\n",
       "        <tr>\n",
       "            <td>500 </td> <td>32                  </td>\n",
       "        </tr>\n",
       "        <tr>\n",
       "            <td>600 </td> <td>15                  </td>\n",
       "        </tr>\n",
       "        <tr>\n",
       "            <td>700 </td> <td>7                   </td>\n",
       "        </tr>\n",
       "        <tr>\n",
       "            <td>800 </td> <td>7                   </td>\n",
       "        </tr>\n",
       "        <tr>\n",
       "            <td>900 </td> <td>3                   </td>\n",
       "        </tr>\n",
       "        <tr>\n",
       "            <td>1000</td> <td>0                   </td>\n",
       "        </tr>\n",
       "        <tr>\n",
       "            <td>1100</td> <td>3                   </td>\n",
       "        </tr>\n",
       "        <tr>\n",
       "            <td>1200</td> <td>3                   </td>\n",
       "        </tr>\n",
       "        <tr>\n",
       "            <td>1300</td> <td>0                   </td>\n",
       "        </tr>\n",
       "        <tr>\n",
       "            <td>1400</td> <td>0                   </td>\n",
       "        </tr>\n",
       "        <tr>\n",
       "            <td>1500</td> <td>1                   </td>\n",
       "        </tr>\n",
       "        <tr>\n",
       "            <td>1600</td> <td>0                   </td>\n",
       "        </tr>\n",
       "        <tr>\n",
       "            <td>1700</td> <td>1                   </td>\n",
       "        </tr>\n",
       "        <tr>\n",
       "            <td>1800</td> <td>0                   </td>\n",
       "        </tr>\n",
       "        <tr>\n",
       "            <td>1900</td> <td>0                   </td>\n",
       "        </tr>\n",
       "        <tr>\n",
       "            <td>2000</td> <td>0                   </td>\n",
       "        </tr>\n",
       "    </tbody>\n",
       "</table>"
      ],
      "text/plain": [
       "<IPython.core.display.HTML object>"
      ]
     },
     "metadata": {},
     "output_type": "display_data"
    }
   ],
   "source": [
    "##### bins of width 100, starting at 300 and going to 2000\n",
    "bin_counts = millions.bin('Adjusted Gross', bins=np.arange(300,2001,100))\n",
    "bin_counts.show()"
   ]
  },
  {
   "cell_type": "code",
   "execution_count": 6,
   "id": "4e008749-f1f5-4baa-bd64-5af8deffd762",
   "metadata": {},
   "outputs": [
    {
     "data": {
      "text/html": [
       "<table border=\"1\" class=\"dataframe\">\n",
       "    <thead>\n",
       "        <tr>\n",
       "            <th>bin</th> <th>Adjusted Gross count</th>\n",
       "        </tr>\n",
       "    </thead>\n",
       "    <tbody>\n",
       "        <tr>\n",
       "            <td>338.41 </td> <td>115                 </td>\n",
       "        </tr>\n",
       "        <tr>\n",
       "            <td>484.187</td> <td>50                  </td>\n",
       "        </tr>\n",
       "        <tr>\n",
       "            <td>629.964</td> <td>14                  </td>\n",
       "        </tr>\n",
       "        <tr>\n",
       "            <td>775.741</td> <td>10                  </td>\n",
       "        </tr>\n",
       "        <tr>\n",
       "            <td>921.518</td> <td>3                   </td>\n",
       "        </tr>\n",
       "        <tr>\n",
       "            <td>1067.3 </td> <td>4                   </td>\n",
       "        </tr>\n",
       "        <tr>\n",
       "            <td>1213.07</td> <td>2                   </td>\n",
       "        </tr>\n",
       "        <tr>\n",
       "            <td>1358.85</td> <td>0                   </td>\n",
       "        </tr>\n",
       "        <tr>\n",
       "            <td>1504.63</td> <td>1                   </td>\n",
       "        </tr>\n",
       "        <tr>\n",
       "            <td>1650.4 </td> <td>1                   </td>\n",
       "        </tr>\n",
       "        <tr>\n",
       "            <td>1796.18</td> <td>0                   </td>\n",
       "        </tr>\n",
       "    </tbody>\n",
       "</table>"
      ],
      "text/plain": [
       "<IPython.core.display.HTML object>"
      ]
     },
     "metadata": {},
     "output_type": "display_data"
    }
   ],
   "source": [
    "##### default is to produce 10 \n",
    "millions.bin('Adjusted Gross').show()"
   ]
  },
  {
   "cell_type": "code",
   "execution_count": 7,
   "id": "6c37ea9b-e299-4256-bd83-201e720141d9",
   "metadata": {},
   "outputs": [
    {
     "data": {
      "text/html": [
       "<table border=\"1\" class=\"dataframe\">\n",
       "    <thead>\n",
       "        <tr>\n",
       "            <th>bin</th> <th>Adjusted Gross count</th>\n",
       "        </tr>\n",
       "    </thead>\n",
       "    <tbody>\n",
       "        <tr>\n",
       "            <td>338.41 </td> <td>177                 </td>\n",
       "        </tr>\n",
       "        <tr>\n",
       "            <td>702.852</td> <td>15                  </td>\n",
       "        </tr>\n",
       "        <tr>\n",
       "            <td>1067.3 </td> <td>6                   </td>\n",
       "        </tr>\n",
       "        <tr>\n",
       "            <td>1431.74</td> <td>2                   </td>\n",
       "        </tr>\n",
       "        <tr>\n",
       "            <td>1796.18</td> <td>0                   </td>\n",
       "        </tr>\n",
       "    </tbody>\n",
       "</table>"
      ],
      "text/plain": [
       "bin     | Adjusted Gross count\n",
       "338.41  | 177\n",
       "702.852 | 15\n",
       "1067.3  | 6\n",
       "1431.74 | 2\n",
       "1796.18 | 0"
      ]
     },
     "execution_count": 7,
     "metadata": {},
     "output_type": "execute_result"
    }
   ],
   "source": [
    "#### 4 bins\n",
    "\n",
    "millions.bin('Adjusted Gross', bins=4)"
   ]
  },
  {
   "cell_type": "markdown",
   "id": "6fac543c-5856-47ec-9549-3224e6f75e30",
   "metadata": {},
   "source": [
    "## 7.2.2. Histogram"
   ]
  },
  {
   "cell_type": "code",
   "execution_count": 8,
   "id": "c3cb3dd7-e0a0-43ff-a1ec-2b7c6a070341",
   "metadata": {},
   "outputs": [
    {
     "data": {
      "image/png": "[encoded data removed]",
      "text/plain": [
       "<Figure size 600x400 with 1 Axes>"
      ]
     },
     "metadata": {},
     "output_type": "display_data"
    }
   ],
   "source": [
    "### display plots inline:\n",
    "%matplotlib inline    \n",
    "millions.hist('Adjusted Gross', unit=\"Million Dollars\")\n",
    "\n",
    "##### two numerical axes\n",
    "#####  the vertical axis does not represent percents"
   ]
  },
  {
   "cell_type": "code",
   "execution_count": 9,
   "id": "64467020-8b50-4779-9644-222b11483a5d",
   "metadata": {},
   "outputs": [
    {
     "data": {
      "image/png": "[encoded data removed]",
      "text/plain": [
       "<Figure size 600x400 with 1 Axes>"
      ]
     },
     "metadata": {},
     "output_type": "display_data"
    }
   ],
   "source": [
    "##### np.arange: https://numpy.org/doc/stable/reference/generated/numpy.arange.html\n",
    "##### Return evenly spaced values within a given interval\n",
    "##### np.arange(START, STOP, STEP)\n",
    "\n",
    "millions.hist('Adjusted Gross', bins=np.arange(300,2001,100), unit=\"Million Dollars\")\n",
    "\n",
    "##### skewed to the right"
   ]
  },
  {
   "cell_type": "markdown",
   "id": "10d04a4a-309a-4cf9-b39a-483a207a3b68",
   "metadata": {},
   "source": [
    "## 7.2.3. The Horizontal Axis\n",
    "\n",
    "- hist() uses the same endpoint convention as the bin method.\n",
    "- Bins include the data at their left endpoint, but not the data at their right endpoint, except for the rightmost bin which includes both endpoints"
   ]
  },
  {
   "cell_type": "code",
   "execution_count": 14,
   "id": "07850bb5-c7b0-4fae-bb38-072ad54db4b2",
   "metadata": {},
   "outputs": [
    {
     "data": {
      "image/png": "[encoded data removed]",
      "text/plain": [
       "<Figure size 600x400 with 1 Axes>"
      ]
     },
     "metadata": {},
     "output_type": "display_data"
    }
   ],
   "source": [
    "##### set bins: bins=np.arange(START, STOP, STEP)\n",
    "millions.hist('Adjusted Gross', bins=np.arange(300, 3001, 100), unit=\"Million Dollars\")\n",
    "\n",
    "### skewed; long right hand tail"
   ]
  },
  {
   "cell_type": "markdown",
   "id": "9fbb3b35-4b29-4da1-bd22-349a9fb3fdcd",
   "metadata": {},
   "source": [
    "## 7.2.4. The Area Principle\n",
    "\n",
    "- axes of a histogram are numerical, so you can do arithmetic on them\n",
    "- The area principle of visualization says that when we represent a magnitude by a figure that has two dimensions, such as a rectangle, then the area of the figure should represent the magnitude."
   ]
  },
  {
   "cell_type": "markdown",
   "id": "9c5ee269-0c9e-46d3-a250-5598e2fb7420",
   "metadata": {},
   "source": [
    "## 7.2.5. The Histogram: General Principles and Calculation\n",
    "\n",
    "Histograms follow the area principle and have two defining properties:\n",
    "- The bins are drawn to scale and are contiguous (though some might be empty), because the values on the horizontal axis are numerical and therefore have fixed positions on the number line.\n",
    "- The area of each bar is proportional to the number of entries in the bin.\n",
    "- The vertical axis is said to be on the density scale."
   ]
  },
  {
   "cell_type": "markdown",
   "id": "c316cbc4-b341-4e40-bf17-90cd6a38de0f",
   "metadata": {},
   "source": [
    "## 7.2.6. The Vertical Axis: Density Scale"
   ]
  },
  {
   "cell_type": "code",
   "execution_count": 42,
   "id": "c143fa4f-85fc-4936-84a5-4df118d8b483",
   "metadata": {},
   "outputs": [
    {
     "data": {
      "image/png": "[encoded data removed]",
      "text/plain": [
       "<Figure size 600x400 with 1 Axes>"
      ]
     },
     "metadata": {},
     "output_type": "display_data"
    }
   ],
   "source": [
    "millions.hist('Adjusted Gross', bins=np.arange(300, 2001, 100))\n",
    "    \n",
    "### numpy.arange([start, ]stop, [step, ]dtype=None, *, device=None, like=None)\n",
    "### https://numpy.org/doc/stable/reference/generated/numpy.arange.html"
   ]
  },
  {
   "cell_type": "code",
   "execution_count": 27,
   "id": "6809da04-7360-4e9d-adc1-44a8430aa339",
   "metadata": {},
   "outputs": [
    {
     "data": {
      "text/html": [
       "<table border=\"1\" class=\"dataframe\">\n",
       "    <thead>\n",
       "        <tr>\n",
       "            <th>bin</th> <th>Adjusted Gross count</th>\n",
       "        </tr>\n",
       "    </thead>\n",
       "    <tbody>\n",
       "        <tr>\n",
       "            <td>300 </td> <td>68                  </td>\n",
       "        </tr>\n",
       "        <tr>\n",
       "            <td>400 </td> <td>60                  </td>\n",
       "        </tr>\n",
       "        <tr>\n",
       "            <td>500 </td> <td>32                  </td>\n",
       "        </tr>\n",
       "    </tbody>\n",
       "</table>\n",
       "<p>... (15 rows omitted)</p>"
      ],
      "text/plain": [
       "<IPython.core.display.HTML object>"
      ]
     },
     "metadata": {},
     "output_type": "display_data"
    }
   ],
   "source": [
    "# bin_counts\n",
    "# bin_counts.show(max_rows=3)     ### same as show()\n",
    "bin_counts.show(3)\n",
    "\n",
    "### Table.show(max_rows=0)[source]\n",
    "### Display the table."
   ]
  },
  {
   "cell_type": "markdown",
   "id": "b097a203-f91f-4bb1-b135-ac4ae8593687",
   "metadata": {},
   "source": [
    "## 7.2.7. Why Not Simply Plot the Counts?\n"
   ]
  },
  {
   "cell_type": "markdown",
   "id": "fd9a85b0-823a-44c0-800f-2f8753fff7c7",
   "metadata": {},
   "source": [
    "## 7.2.8. Flat Tops and the Level of Detail\n",
    "\n",
    "- some detail is lost by grouping values into bins"
   ]
  },
  {
   "cell_type": "code",
   "execution_count": 40,
   "id": "90b71703-2528-4182-8ca8-e5b6bb16e49a",
   "metadata": {},
   "outputs": [
    {
     "ename": "NameError",
     "evalue": "name 'uneven' is not defined",
     "output_type": "error",
     "traceback": [
      "\u001b[0;31m---------------------------------------------------------------------------\u001b[0m",
      "\u001b[0;31mNameError\u001b[0m                                 Traceback (most recent call last)",
      "Cell \u001b[0;32mIn[40], line 2\u001b[0m\n\u001b[1;32m      1\u001b[0m \u001b[38;5;66;03m# from datascience.predicates import *\u001b[39;00m\n\u001b[0;32m----> 2\u001b[0m millions\u001b[38;5;241m.\u001b[39mhist(\u001b[38;5;124m'\u001b[39m\u001b[38;5;124mAdjusted Gross\u001b[39m\u001b[38;5;124m'\u001b[39m, bins\u001b[38;5;241m=\u001b[39m\u001b[43muneven\u001b[49m, unit\u001b[38;5;241m=\u001b[39m\u001b[38;5;124m\"\u001b[39m\u001b[38;5;124mMillion Dollars\u001b[39m\u001b[38;5;124m\"\u001b[39m)\n",
      "\u001b[0;31mNameError\u001b[0m: name 'uneven' is not defined"
     ]
    }
   ],
   "source": [
    "# from datascience.predicates import *\n",
    "millions.hist('Adjusted Gross', bins=uneven, unit=\"Million Dollars\")"
   ]
  },
  {
   "cell_type": "code",
   "execution_count": 41,
   "id": "4fff3336-c541-43fa-b2c4-5b4be1d54e09",
   "metadata": {},
   "outputs": [
    {
     "ename": "NameError",
     "evalue": "name 'uneven' is not defined",
     "output_type": "error",
     "traceback": [
      "\u001b[0;31m---------------------------------------------------------------------------\u001b[0m",
      "\u001b[0;31mNameError\u001b[0m                                 Traceback (most recent call last)",
      "Cell \u001b[0;32mIn[41], line 1\u001b[0m\n\u001b[0;32m----> 1\u001b[0m histogram_elements \u001b[38;5;241m=\u001b[39m millions\u001b[38;5;241m.\u001b[39mbin(\u001b[38;5;124m'\u001b[39m\u001b[38;5;124mAdjusted Gross\u001b[39m\u001b[38;5;124m'\u001b[39m, bins\u001b[38;5;241m=\u001b[39m\u001b[43muneven\u001b[49m)\u001b[38;5;241m.\u001b[39mrelabled(\u001b[38;5;241m1\u001b[39m, \u001b[38;5;124m'\u001b[39m\u001b[38;5;124mcount\u001b[39m\u001b[38;5;124m'\u001b[39m)\n\u001b[1;32m      2\u001b[0m histogram_elements\n",
      "\u001b[0;31mNameError\u001b[0m: name 'uneven' is not defined"
     ]
    }
   ],
   "source": [
    "histogram_elements = millions.bin('Adjusted Gross', bins=uneven).relabled(1, 'count')\n",
    "histogram_elements"
   ]
  },
  {
   "cell_type": "markdown",
   "id": "7d4199dc-41d5-41b8-b3e3-178eb129d921",
   "metadata": {},
   "source": [
    "## 7.2.9. Computing All Heights"
   ]
  },
  {
   "cell_type": "markdown",
   "id": "b9b953f6-df02-4fa1-9f69-fb7ae9f98200",
   "metadata": {},
   "source": [
    "## 7.2.10. Differences Between Bar Charts and Histograms\n",
    "\n",
    "- Bar charts display one numerical quantity per category. They are often used to display the distributions of categorical variables. Histograms display the distributions of quantitative variables.\n",
    "- All the bars in a bar chart have the same width, and there is an equal amount of space between consecutive bars. The bars can be in any order because the distribution is categorical. The bars of a histogram are contiguous; the bins are drawn to scale on the number line.\n",
    "- The lengths (or heights, if the bars are drawn vertically) of the bars in a bar chart are proportional to the count in each category. The heights of bars in a histogram measure densities; the areas of bars in a histogram are proportional to the counts in the bins.\n"
   ]
  },
  {
   "cell_type": "code",
   "execution_count": null,
   "id": "42050e47-5caf-4009-b5c7-46bcee390605",
   "metadata": {},
   "outputs": [],
   "source": []
  }
 ],
 "metadata": {
  "kernelspec": {
   "display_name": "Python 3 (ipykernel)",
   "language": "python",
   "name": "python3"
  },
  "language_info": {
   "codemirror_mode": {
    "name": "ipython",
    "version": 3
   },
   "file_extension": ".py",
   "mimetype": "text/x-python",
   "name": "python",
   "nbconvert_exporter": "python",
   "pygments_lexer": "ipython3",
   "version": "3.12.2"
  }
 },
 "nbformat": 4,
 "nbformat_minor": 5
}
