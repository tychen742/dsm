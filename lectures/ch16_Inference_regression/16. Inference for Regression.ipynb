{
 "cells": [
  {
   "cell_type": "markdown",
   "id": "66be0894-6791-4689-acf7-63f04f05df4a",
   "metadata": {},
   "source": [
    "# 16. Inference for Regression\n",
    "\n",
    "Thus far, our analysis of the relation between variables has been purely descriptive. We know how to find the best straight line to draw through a scatter plot. The line is the best in the sense that it has the smallest mean squared error of estimation among all straight lines.\n",
    "\n",
    "But what if our data were only a sample from a larger population? If in the sample we found a linear relation between the two variables, would the same be true for the population? Would it be exactly the same linear relation? Could we predict the response of a new individual who is not in our sample?\n",
    "\n",
    "Such questions of inference and prediction arise if we believe that a scatter plot reflects the underlying relation between the two variables being plotted but does not specify the relation completely. For example, a scatter plot of birth weight versus gestational days shows us the precise relation between the two variables in our sample; but we might wonder **whether that relation holds true, or almost true, for all babies in the <font color='red'>population</font>** from which the sample was drawn, or indeed among babies in general.\n",
    "\n",
    "As always, inferential thinking begins with a careful examination of the assumptions about the data. Sets of assumptions are known as models. Sets of assumptions about randomness in roughly linear scatter plots are called regression models."
   ]
  },
  {
   "cell_type": "code",
   "execution_count": null,
   "id": "9f1d8e41-7843-4266-96fd-dbac434c483a",
   "metadata": {},
   "outputs": [],
   "source": []
  },
  {
   "cell_type": "code",
   "execution_count": null,
   "id": "d672cd36-d779-4982-a730-a49977c30cb5",
   "metadata": {},
   "outputs": [],
   "source": []
  }
 ],
 "metadata": {
  "kernelspec": {
   "display_name": "Python 3 (ipykernel)",
   "language": "python",
   "name": "python3"
  },
  "language_info": {
   "codemirror_mode": {
    "name": "ipython",
    "version": 3
   },
   "file_extension": ".py",
   "mimetype": "text/x-python",
   "name": "python",
   "nbconvert_exporter": "python",
   "pygments_lexer": "ipython3",
   "version": "3.12.0"
  }
 },
 "nbformat": 4,
 "nbformat_minor": 5
}
