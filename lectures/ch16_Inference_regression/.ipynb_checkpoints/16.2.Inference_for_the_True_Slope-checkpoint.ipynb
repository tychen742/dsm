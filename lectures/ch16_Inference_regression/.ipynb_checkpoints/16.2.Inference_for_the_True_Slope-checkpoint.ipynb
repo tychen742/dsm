{
 "cells": [
  {
   "cell_type": "code",
   "execution_count": null,
   "id": "88589c36-c4ca-4a3d-a242-a1fe3f8e791a",
   "metadata": {},
   "outputs": [],
   "source": [
    "from datascience import *\n",
    "path_data = '../../data/'\n",
    "import numpy as np\n",
    "import matplotlib\n",
    "matplotlib.use('Agg')\n",
    "%matplotlib inline\n",
    "import matplotlib.pyplot as plots\n",
    "plots.style.use('fivethirtyeight')\n",
    "np.set_printoptions(legacy='1.13')"
   ]
  },
  {
   "cell_type": "markdown",
   "id": "6ba70ca9-6bfb-43fb-ab69-f33b9fa9a702",
   "metadata": {},
   "source": [
    "# 16.2. Inference for the True Slope"
   ]
  },
  {
   "cell_type": "markdown",
   "id": "6b3e2cec-afc4-4534-adab-7352c5d638cf",
   "metadata": {},
   "source": [
    "Our simulations show that if **the regression model holds** and the **sample size is large**, then the regression line is likely to be close to the true line. This allows us to estimate the slope of the true line.\n",
    "\n",
    "We will use our familiar sample of mothers and their newborn babies to develop a method of estimating the slope of the true line. First, let’s see if we believe that the regression model is an appropriate set of assumptions for describing the relation between birth weight and the number of gestational days."
   ]
  },
  {
   "cell_type": "code",
   "execution_count": null,
   "id": "9f32d221",
   "metadata": {},
   "outputs": [],
   "source": [
    "from datascience import *\n",
    "path_data = '../../data/'\n",
    "import numpy as np\n",
    "import matplotlib\n",
    "matplotlib.use('Agg')\n",
    "%matplotlib inline\n",
    "import matplotlib.pyplot as plots\n",
    "plots.style.use('fivethirtyeight')\n",
    "np.set_printoptions(legacy='1.13')"
   ]
  },
  {
   "cell_type": "code",
   "execution_count": null,
   "id": "9d48c6aa-3cf5-4edc-8353-0b85163871ff",
   "metadata": {},
   "outputs": [],
   "source": [
    "def standard_units(any_numbers):\n",
    "    \"Convert any array of numbers to standard units.\"\n",
    "    return (any_numbers - np.mean(any_numbers))/np.std(any_numbers)  \n",
    "\n",
    "def correlation(t, x, y):\n",
    "    return np.mean(standard_units(t.column(x))*standard_units(t.column(y)))\n",
    "\n",
    "def slope(table, x, y):\n",
    "    r = correlation(table, x, y)\n",
    "    return r * np.std(table.column(y))/np.std(table.column(x))\n",
    "\n",
    "def intercept(table, x, y):\n",
    "    a = slope(table, x, y)\n",
    "    return np.mean(table.column(y)) - a * np.mean(table.column(x))\n",
    "\n",
    "def fit(table, x, y):\n",
    "    a = slope(table, x, y)\n",
    "    b = intercept(table, x, y)\n",
    "    return a * table.column(x) + b\n",
    "\n",
    "def residual(table, x, y):\n",
    "    return table.column(y) - fit(table, x, y)\n",
    "\n",
    "def scatter_fit(table, x, y):\n",
    "    plots.scatter(table.column(x), table.column(y), s=20)\n",
    "    plots.plot(table.column(x), fit(table, x, y), lw=2, color='gold')\n",
    "    plots.xlabel(x)\n",
    "    plots.ylabel(y)"
   ]
  },
  {
   "cell_type": "code",
   "execution_count": null,
   "id": "9ee7c542-6715-4cdc-a6b7-343c149ff13b",
   "metadata": {},
   "outputs": [],
   "source": [
    "# lst = [1, 2, 3, 4 ,5, 6, 7 , 8, 9, 10]\n",
    "# standard_units(lst)"
   ]
  },
  {
   "cell_type": "code",
   "execution_count": null,
   "id": "622d779c-2d2a-470a-ab9f-a56fa80934da",
   "metadata": {},
   "outputs": [],
   "source": [
    "def draw_and_compare(true_slope, true_int, sample_size):\n",
    "    x = np.random.normal(50, 5, sample_size)\n",
    "    xlims = np.array([np.min(x), np.max(x)])\n",
    "    eps = np.random.normal(0, 6, sample_size)\n",
    "    y = (true_slope*x + true_int) + eps\n",
    "    tyche = Table().with_columns(\n",
    "        'x', x,\n",
    "        'y', y\n",
    "    )\n",
    "\n",
    "    plots.figure(figsize=(6, 16))\n",
    "    plots.subplot(4, 1, 1)\n",
    "    plots.scatter(tyche['x'], tyche['y'], s=20)\n",
    "    plots.plot(xlims, true_slope*xlims + true_int, lw=2, color='green')\n",
    "    plots.title('True Line, and Points Created')\n",
    "\n",
    "    plots.subplot(4, 1, 2)\n",
    "    plots.scatter(tyche['x'],tyche['y'], s=20)\n",
    "    plots.title('What We Get to See')\n",
    "    \n",
    "    plots.subplot(4, 1, 3)\n",
    "    scatter_fit(tyche, 'x', 'y')\n",
    "    plots.xlabel(\"\")\n",
    "    plots.ylabel(\"\")\n",
    "    plots.title('Regression Line: Estimate of True Line')\n",
    "          \n",
    "    plots.subplot(4, 1, 4)\n",
    "    scatter_fit(tyche, 'x', 'y')\n",
    "    plots.ylabel(\"\")\n",
    "    xlims = np.array([np.min(tyche['x']), np.max(tyche['x'])])\n",
    "    plots.plot(xlims, true_slope*xlims + true_int, lw=2, color='green')\n",
    "    plots.title(\"Regression Line and True Line\")"
   ]
  },
  {
   "cell_type": "code",
   "execution_count": null,
   "id": "7b55bde2-e89a-4aaa-b3ea-db34e8cc540c",
   "metadata": {},
   "outputs": [],
   "source": [
    "baby = Table().read_table(path_data + 'baby.csv')\n",
    "baby.show(5)"
   ]
  },
  {
   "cell_type": "code",
   "execution_count": null,
   "id": "2d5c86f3-c9d1-40b6-b69e-2509f5b65b78",
   "metadata": {},
   "outputs": [],
   "source": [
    "##### what does the slope mean here?\n",
    "\n",
    "scatter_fit(baby, 'Gestational Days', 'Birth Weight')"
   ]
  },
  {
   "cell_type": "code",
   "execution_count": null,
   "id": "f6513f2d-a029-4b40-8709-3e107e271a3e",
   "metadata": {},
   "outputs": [],
   "source": [
    "correlation(baby, 'Gestational Days', 'Birth Weight')   \n",
    "### .4 is not high"
   ]
  },
  {
   "cell_type": "markdown",
   "id": "70e34268-2d32-4584-939a-c214918b6528",
   "metadata": {},
   "source": [
    "By and large, the scatter looks fairly evenly distributed around the line, though there are some points that are scattered on the outskirts of the main cloud. The correlation is 0.4 and the regression line has a positive slope.\n",
    "\n",
    "Does this reflect the fact that the true line has a positive slope? To answer this question, let us see if we can estimate the true slope. We certainly have one estimate of it: the slope of our regression line. That’s about 0.47 ounces per day."
   ]
  },
  {
   "cell_type": "code",
   "execution_count": null,
   "id": "a13e0d74-4a27-46ba-9035-21c02a7eb50e",
   "metadata": {},
   "outputs": [],
   "source": [
    "slope(baby, 'Gestational Days', 'Birth Weight')"
   ]
  },
  {
   "cell_type": "markdown",
   "id": "bffdd302-b0cc-437e-ae27-ee39686e4ad2",
   "metadata": {},
   "source": [
    "But had the scatter plot come out differently, the **regression line** would have been different and might have had a different slope. How do we figure out how different the slope might have been?\n",
    "\n",
    "We need another sample of points, so that we can draw the regression line through the new scatter plot and find its slope. But from where will get another sample?\n",
    "\n",
    "You have guessed it – we will **bootstrap** our *original sample*. That will give us a bootstrapped scatter plot, through which we can draw a regression line."
   ]
  },
  {
   "cell_type": "markdown",
   "id": "92221ed5-60fe-4a2f-9306-2763ba36c7a1",
   "metadata": {},
   "source": [
    "## 16.2.1. Bootstrapping the Scatter Plot\n"
   ]
  },
  {
   "cell_type": "markdown",
   "id": "18312ca5-e65b-484d-a9eb-46ed8f7c08d3",
   "metadata": {},
   "source": [
    "We can simulate new samples by random sampling **with replacement** from the original sample, as many times as the original sample size. Each of these new samples will give us a scatter plot. We will call that a **bootstrapped scatter plot**, and for short, we will call the entire process **bootstrapping the scatter plot**.\n",
    "\n",
    "Here is the original scatter diagram from the sample, and four replications of the bootstrap resampling procedure. Notice how the resampled scatter plots are in general a little more **sparse** than the original. That is because some of the original points do not get selected in the samples."
   ]
  },
  {
   "cell_type": "code",
   "execution_count": null,
   "id": "f9133bfc-d6ad-4a17-a329-bfa30ceaf3ee",
   "metadata": {},
   "outputs": [],
   "source": [
    "### to get xlim\n",
    "baby.to_df().describe()"
   ]
  },
  {
   "cell_type": "code",
   "execution_count": null,
   "id": "e2c42fe4-9759-4d20-95b1-91fe6d0e6678",
   "metadata": {},
   "outputs": [],
   "source": [
    "plots.figure(figsize=(8, 18))\n",
    "plots.subplot(5, 1, 1)                  ### scale x to y is 5 to 1\n",
    "plots.scatter(baby[1], baby[0], s=10)   ### x == days; y == weight\n",
    "plots.xlim([150, 400])                  ### obtained from above\n",
    "plots.title('Original sample')\n",
    "\n",
    "for i in np.arange(1, 5, 1):            ### i = 1, 2, 3, 4\n",
    "    plots.subplot(5,1,i+1)              ### i + 1\n",
    "\n",
    "    rep = baby.sample(with_replacement=True)\n",
    "    # rep = baby.sample()\n",
    "    plots.scatter(rep[1], rep[0], s=10) \n",
    "    plots.xlim([150, 400])\n",
    "    plots.title('Bootstrap sample '+str(i))\n"
   ]
  },
  {
   "cell_type": "markdown",
   "id": "2d2c9952-c085-4ba4-8cba-a135e32466b7",
   "metadata": {},
   "source": [
    "##### The above 4 plots look fine... are we saying they have the same slope as the original? Or are we convinced that they have different slopes?"
   ]
  },
  {
   "cell_type": "markdown",
   "id": "1ec8695a-3dc0-4203-827c-c703fedc3fbc",
   "metadata": {},
   "source": [
    "## 16.2.2. Estimating the True Slope"
   ]
  },
  {
   "cell_type": "markdown",
   "id": "11e75eb3-474d-4d1d-89fe-ff96eda293c6",
   "metadata": {},
   "source": [
    "We can bootstrap the scatter plot a large number of times, and draw a regression line through each bootstrapped plot. Each of those lines has a slope. We can simply collect all the slopes and draw their **empirical histogram**. Recall that by default, the sample method draws at random with replacement, the same number of times as the number of rows in the table. That is, **sample() generates a bootstrap sample by default**.\n",
    "\n"
   ]
  },
  {
   "cell_type": "code",
   "execution_count": null,
   "id": "b8022a83-a88e-494f-88b7-1386182686f9",
   "metadata": {},
   "outputs": [],
   "source": [
    "slopes = make_array()\n",
    "for i in np.arange(5000):\n",
    "    bootstrap_sample = baby.sample()\n",
    "    bootstrap_slope = slope(bootstrap_sample, 'Gestational Days', 'Birth Weight')\n",
    "    slopes = np.append(slopes, bootstrap_slope)\n",
    "Table().with_column('Bootstrap Slopes', slopes).hist(bins=20)"
   ]
  },
  {
   "cell_type": "markdown",
   "id": "614f8777-b494-4106-bd9e-5632725cc1d7",
   "metadata": {},
   "source": [
    "We can then construct an approximate **95% confidence interval** for the slope of the true line, using the bootstrap percentile method. The confidence interval extends from the 2.5th percentile to the 97.5th percentile of the 5000 bootstrapped slopes.\n",
    "\n"
   ]
  },
  {
   "cell_type": "code",
   "execution_count": null,
   "id": "53b3243f-89f5-485f-898c-37d241d35984",
   "metadata": {},
   "outputs": [],
   "source": [
    "left = percentile(2.5, slopes)\n",
    "right = percentile(97.5, slopes)\n",
    "left, right"
   ]
  },
  {
   "cell_type": "markdown",
   "id": "fa12187e-5b98-40f2-9e90-4cc1ca67d299",
   "metadata": {},
   "source": [
    "An **approximate 95% confidence interval \n",
    "for the true slope extends from about \n",
    "0.38 ounces per day to about 0.56 ounces per day**.\n",
    "\n"
   ]
  },
  {
   "cell_type": "markdown",
   "id": "0a90bf58-f0d5-4476-aa92-bfb6eb6261ef",
   "metadata": {},
   "source": [
    "## 16.2.3. A Function to Bootstrap the Slope\n"
   ]
  },
  {
   "cell_type": "markdown",
   "id": "5e659957-14e1-4d48-84ed-acff5d24afc9",
   "metadata": {},
   "source": [
    "Let us collect all the steps of our method of **estimating the slope** and define a function bootstrap_slope that carries them out. Its arguments are the name of the table and the labels of the predictor and response variables, and the desired number of bootstrap replications. In each replication, the function bootstraps the original scatter plot and calculates the slope of the resulting regression line. It then draws the histogram of all the generated slopes and prints the interval consisting of the “middle 95%” of the slopes.\n",
    "\n"
   ]
  },
  {
   "cell_type": "code",
   "execution_count": null,
   "id": "8d29c124-70cb-4a6b-ba3f-e37252968e70",
   "metadata": {},
   "outputs": [],
   "source": [
    "### a lot of slopes\n",
    "\n",
    "def bootstrap_slope(table, x, y, repetitions):   ### x column/var, y column/var\n",
    "    \n",
    "    # For each repetition:\n",
    "    # Bootstrap the scatter, get the slope of the regression line,\n",
    "    # augment the list of generated slopes\n",
    "    slopes = make_array()\n",
    "    for i in np.arange(repetitions):\n",
    "        bootstrap_sample = table.sample()\n",
    "        bootstrap_slope = slope(bootstrap_sample, x, y)\n",
    "        slopes = np.append(slopes, bootstrap_slope)\n",
    "    \n",
    "    # Find the endpoints of the 95% confidence interval for the true slope\n",
    "    left = percentile(2.5, slopes)\n",
    "    right = percentile(97.5, slopes)\n",
    "    \n",
    "    # Slope of the regression line from the original sample\n",
    "    observed_slope = slope(table, x, y)\n",
    "    \n",
    "    # Display results\n",
    "    Table().with_column('Bootstrap Slopes', slopes).hist(bins=20)\n",
    "    plots.plot(make_array(left, right), make_array(0, 0), color='gold', lw=8);\n",
    "    print('Slope of regression line:', observed_slope)\n",
    "    print('Approximate 95%-confidence interval for the true slope:')\n",
    "    print(left, right)"
   ]
  },
  {
   "cell_type": "markdown",
   "id": "dc1ffc1f-a736-4f93-b728-7feb159a7f81",
   "metadata": {},
   "source": [
    "When we call bootstrap_slope to find a confidence interval for the true slope when the response variable is birth weight and the predictor is gestational days, we get an interval very close to the one we obtained earlier: approximately 0.38 ounces per day to 0.56 ounces per day.\n",
    "\n"
   ]
  },
  {
   "cell_type": "code",
   "execution_count": null,
   "id": "bf19b992-873a-4dda-b864-afe15c1505bc",
   "metadata": {},
   "outputs": [],
   "source": [
    "bootstrap_slope(baby, 'Gestational Days', 'Birth Weight', 5000)"
   ]
  },
  {
   "cell_type": "markdown",
   "id": "2b25d4b1-89e7-4d5a-a984-62245f2cb13d",
   "metadata": {},
   "source": [
    "Now that we have a function that automates our process of **estimating** the **slope** of the **true line** in a regression model, we can use it on other variables as well.\n",
    "\n",
    "### Baby Weight vs Mother Height\n",
    "For example, let’s examine the relation between birth weight and the mother’s height. **Do taller women tend to have heavier babies?**\n",
    "\n",
    "The regression model seems reasonable, based on the scatter plot, but the correlation is not high. It’s just about 0.2."
   ]
  },
  {
   "cell_type": "code",
   "execution_count": null,
   "id": "634acfc9-97cf-4399-9717-0ba018c32d10",
   "metadata": {},
   "outputs": [],
   "source": [
    "# baby.scatter('Birth Weight', 'Maternal Height')  ### this looks funny!!!\n",
    "baby.scatter('Maternal Height', 'Birth Weight')    ### this looks better!!!"
   ]
  },
  {
   "cell_type": "code",
   "execution_count": null,
   "id": "9a53b110-d4eb-43c1-8ed0-550b00147362",
   "metadata": {},
   "outputs": [],
   "source": [
    "\n",
    "# def scatter_fit(table, x, y):\n",
    "#     plots.scatter(table.column(x), table.column(y), s=20)\n",
    "#     plots.plot(table.column(x), fit(table, x, y), lw=2, color='gold')\n",
    "#     plots.xlabel(x)\n",
    "#     plots.ylabel(y)\n",
    "    \n",
    "scatter_fit(baby, 'Maternal Height', 'Birth Weight')   ### create a fit (regression) line"
   ]
  },
  {
   "cell_type": "code",
   "execution_count": null,
   "id": "fde2311c-2e5f-4e44-aefd-c5805fdf301f",
   "metadata": {},
   "outputs": [],
   "source": [
    "correlation(baby, 'Maternal Height', 'Birth Weight')\n",
    "##### we want 0.5-0.7 for a moderately coorelated and 0.7-0.9 for a highly correlated magnitude"
   ]
  },
  {
   "cell_type": "markdown",
   "id": "72c8b2ae-4449-4746-9cdb-01ac8849bc51",
   "metadata": {},
   "source": [
    "As before, we can use bootstrap_slope to estimate the slope of the true line in the regression model.\n",
    "\n"
   ]
  },
  {
   "cell_type": "code",
   "execution_count": null,
   "id": "4fa236fd-4cff-4cc3-8db6-cb659eb70f76",
   "metadata": {},
   "outputs": [],
   "source": [
    "bootstrap_slope(baby, 'Maternal Height', 'Birth Weight', 5000)"
   ]
  },
  {
   "cell_type": "markdown",
   "id": "12375167-c050-4f67-925f-392912ada7ad",
   "metadata": {},
   "source": [
    "A **95% confidence interval for the true slope extends from about 1 ounce per inch to about 1.9 ounces per inch**.\n",
    "\n"
   ]
  },
  {
   "cell_type": "markdown",
   "id": "22f160b9-3102-482d-a33d-34852e6edcd4",
   "metadata": {},
   "source": [
    "## 16.2.4. Could the True Slope Be 0?"
   ]
  },
  {
   "cell_type": "markdown",
   "id": "8a74ff7c-9f41-478d-bb07-94c7048d9153",
   "metadata": {},
   "source": [
    "Suppose we believe that our data follow the regression model, and we fit the regression line to estimate the true line. If the regression line isn’t perfectly flat, as is almost invariably the case, we will be observing some linear association in the scatter plot.\n",
    "\n",
    "But what if that observation is spurious? In other words, what if the true line was flat – that is, **there was no linear relation between the two variables** – and the association that we observed was just due to randomness in generating the points that form our sample?\n",
    "\n",
    "Here is a simulation that illustrates why this question arises. We will once again call the function draw_and_compare, this time requiring the true line to have slope 0. Our goal is to see whether our regression line shows a slope that is not 0.\n",
    "\n",
    "Remember that the arguments to the function draw_and_compare are the slope and the intercept of the true line, and the number of points to be generated."
   ]
  },
  {
   "cell_type": "code",
   "execution_count": null,
   "id": "ae62839a-2412-4e7a-b17e-38b8801ce06b",
   "metadata": {},
   "outputs": [],
   "source": [
    "# sample_size = 25\n",
    "# np.random.normal(0, 6, sample_size)   ### 0 == mean center, 6: SD (spread)\n",
    "# np.random.normal(50, 5, sample_size)"
   ]
  },
  {
   "cell_type": "code",
   "execution_count": null,
   "id": "98713275-4789-44dd-a802-2d8a665c2292",
   "metadata": {},
   "outputs": [],
   "source": [
    "draw_and_compare(0, 10, 25)"
   ]
  },
  {
   "cell_type": "markdown",
   "id": "374efcca-718c-4ee4-b84c-c18d4f3b25f2",
   "metadata": {},
   "source": [
    "Run the simulation a few times, keeping the slope of the true line 0 each time. You will notice that while the slope of the true line is 0, the **slope of the regression line is typically not 0**. The regression line sometimes slopes upwards, and sometimes downwards, each time giving us a false impression that the two variables are correlated.\n",
    "\n",
    "To decide whether or not the slope that we are seeing is real, we would like to test the following hypotheses:\n",
    "\n",
    "**Null Hypothesis**. The slope of the true line is 0.\n",
    "\n",
    "**Alternative Hypothesis**. The slope of the true line is not 0.\n",
    "\n",
    "We are well positioned to do this. Since we can **construct a 95% confidence interval for the true slope**, all we have to do is see whether the interval contains 0.\n",
    "\n",
    "If it doesn’t, then we can reject the null hypothesis (with the 5% cutoff for the P-value).\n",
    "\n",
    "If the confidence interval for the true slope does contain 0, then we don’t have enough evidence to reject the null hypothesis. Perhaps the slope that we are seeing is spurious.\n",
    "\n",
    "Let’s use this method in an example. Suppose we try to estimate the birth weight of the baby based on the mother’s age. Based on the sample, the slope of the regression line for estimating birth weight based on maternal age is positive, about 0.08 ounces per year."
   ]
  },
  {
   "cell_type": "code",
   "execution_count": null,
   "id": "7e4a6234-9c2f-4c64-878b-76d43d205b45",
   "metadata": {},
   "outputs": [],
   "source": [
    "slope(baby, 'Maternal Age', 'Birth Weight')"
   ]
  },
  {
   "cell_type": "markdown",
   "id": "f545d49d-f898-4628-aa70-ec5c0b6615c8",
   "metadata": {},
   "source": [
    "Though the slope is positive, it’s pretty small. The **regression line is so close to flat** that it raises the question of whether the true line is flat."
   ]
  },
  {
   "cell_type": "code",
   "execution_count": null,
   "id": "81e79d64-883e-4ffd-862f-c9bd9cc9dc14",
   "metadata": {},
   "outputs": [],
   "source": [
    "scatter_fit(baby, 'Maternal Age', 'Birth Weight')"
   ]
  },
  {
   "cell_type": "markdown",
   "id": "16085f45-b76e-4c00-87e9-bf522eb5bf09",
   "metadata": {},
   "source": [
    "We can use bootstrap_slope to estimate the slope of the true line. The calculation shows that an approximate 95% bootstrap confidence interval for the true slope has a negative left end point and a positive right end point – in other words, the interval contains 0.\n",
    "\n"
   ]
  },
  {
   "cell_type": "code",
   "execution_count": null,
   "id": "99afa79e-97e1-4000-91a8-278b2ff4ba17",
   "metadata": {},
   "outputs": [],
   "source": [
    "bootstrap_slope(baby, 'Maternal Age', 'Birth Weight', 5000)"
   ]
  },
  {
   "cell_type": "markdown",
   "id": "cdb25015-5fb9-4a00-bd36-ab91b0b6fb73",
   "metadata": {},
   "source": [
    "**Because the interval contains 0, we cannot reject the null \n",
    "hypothesis that the slope of the true linear relation between \n",
    "maternal age and baby’s birth weight is 0**. \n",
    "Based on this analysis, it would be unwise to predict birth weight \n",
    "based on the regression model with maternal age as the predictor.\n",
    "\n"
   ]
  },
  {
   "cell_type": "code",
   "execution_count": null,
   "id": "10b2c075-28d4-4ba1-9b60-473ac8b30d35",
   "metadata": {},
   "outputs": [],
   "source": []
  }
 ],
 "metadata": {
  "kernelspec": {
   "display_name": "Python 3 (ipykernel)",
   "language": "python",
   "name": "python3"
  },
  "language_info": {
   "codemirror_mode": {
    "name": "ipython",
    "version": 3
   },
   "file_extension": ".py",
   "mimetype": "text/x-python",
   "name": "python",
   "nbconvert_exporter": "python",
   "pygments_lexer": "ipython3",
   "version": "3.12.2"
  }
 },
 "nbformat": 4,
 "nbformat_minor": 5
}
