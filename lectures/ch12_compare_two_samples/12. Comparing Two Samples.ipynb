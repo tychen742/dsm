{
 "cells": [
  {
   "cell_type": "markdown",
   "id": "1bfb217b-5a2d-4751-9e23-c496cdc06df5",
   "metadata": {},
   "source": [
    "# 12. Comparing Two Samples\n",
    "\n",
    "- Did the Alameda County jury panels look like a random sample from the population of eligible jurors?\n",
    "- Did the pea plants that Mendel grew have colors that were consistent with the chances he specified in his model?\n",
    "- compare two random samples and answer questions about the similarities and differences between them."
   ]
  },
  {
   "cell_type": "code",
   "execution_count": null,
   "id": "34e9e761-881f-4545-b433-82373ab9e2ec",
   "metadata": {},
   "outputs": [],
   "source": []
  }
 ],
 "metadata": {
  "kernelspec": {
   "display_name": "Python 3 (ipykernel)",
   "language": "python",
   "name": "python3"
  },
  "language_info": {
   "codemirror_mode": {
    "name": "ipython",
    "version": 3
   },
   "file_extension": ".py",
   "mimetype": "text/x-python",
   "name": "python",
   "nbconvert_exporter": "python",
   "pygments_lexer": "ipython3",
   "version": "3.12.0"
  }
 },
 "nbformat": 4,
 "nbformat_minor": 5
}
