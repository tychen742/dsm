{
 "cells": [
  {
   "cell_type": "markdown",
   "id": "56ac51c1-4d4c-4a1d-8f52-061526636106",
   "metadata": {},
   "source": [
    "# 12.3. Deflategate\n",
    "\n",
    "- 2015 American Football Conference (AFC) championship\n",
    "- allegations: the Patriots’ footballs had not been inflated as much as the regulations required; they were softer and might be easier to catch.\n",
    "- game balls must be inflated to have pressures in the range 12.5 psi and 13.5 psi\n",
    "- Before the start of the AFC game, all the Patriots’ balls were at about 12.5 psi. Most of the Colts’ balls were at about 13.0 psi. (not recorded)\n",
    "- During the second quarter, the Colts intercepted a Patriots ball. On the sidelines, they measured the pressure of the ball and determined that it was below the 12.5 psi threshold. Promptly, they informed officials.\n",
    "- At half-time, all the game balls were collected for inspection. Two officials, Clete Blakeman and Dyrol Prioleau, measured the pressure in each of the balls.\n",
    "\n"
   ]
  },
  {
   "cell_type": "code",
   "execution_count": null,
   "id": "9f100fdc-4b5a-45b0-b065-3dc5d976664a",
   "metadata": {},
   "outputs": [],
   "source": [
    "from datascience import *\n",
    "path_data = '../../data/'  \n",
    "football = Table.read_table(path_data + 'deflategate.csv')\n",
    "\n",
    "### footballs: 11 from the Patriats and 4 from the Colts\n",
    "### measured by two officials\n",
    "football.show()"
   ]
  },
  {
   "cell_type": "code",
   "execution_count": null,
   "id": "b6c879b4-e9b1-4b35-90cf-b0dcc9214f56",
   "metadata": {},
   "outputs": [],
   "source": [
    "### combined PSI\n",
    "football = football.with_column(\n",
    "  'Combined', ( football.column(1) + football.column(2) ) / 2)\n",
    "football.show()"
   ]
  },
  {
   "cell_type": "code",
   "execution_count": null,
   "id": "4427e7ab-c726-4ca1-a777-f8b56d343603",
   "metadata": {},
   "outputs": [],
   "source": [
    "### combined only\n",
    "football = football.drop(1, 2)\n",
    "football.show()\n",
    "\n",
    "### Patriots balls are at lower pressure?"
   ]
  },
  {
   "cell_type": "code",
   "execution_count": null,
   "id": "c7550208-2441-4ba3-b9eb-a60ab0578e3b",
   "metadata": {},
   "outputs": [],
   "source": [
    "### some deflation is normal during the course of a game\n",
    "### calculating the pressure drop:\n",
    "##### setting up the starting values\n",
    "##### use the NumPy function np.ones()\n",
    "import numpy as np\n",
    "\n",
    "np.ones(11)"
   ]
  },
  {
   "cell_type": "code",
   "execution_count": null,
   "id": "2c265e24-40c0-4432-9f88-d0949904d371",
   "metadata": {},
   "outputs": [],
   "source": [
    "##### create the ideal PSI\n",
    "patriots_start = 12.5 * np.ones(11)\n",
    "colts_start = 13 * np.ones(4)\n",
    "start = np.append(patriots_start, colts_start)\n",
    "start"
   ]
  },
  {
   "cell_type": "code",
   "execution_count": null,
   "id": "94fc9cae-8e65-4016-9a82-9b6722b3d9ee",
   "metadata": {},
   "outputs": [],
   "source": [
    "### pressure drop from pre-game measures\n",
    "drop = start - football.column('Combined')\n",
    "drop"
   ]
  },
  {
   "cell_type": "code",
   "execution_count": null,
   "id": "3b2b3141-90b7-40c6-8b5d-30726b134ca9",
   "metadata": {},
   "outputs": [],
   "source": [
    "football = football.with_column('Pressure Drop', drop)\n",
    "football\n",
    "football.show()"
   ]
  },
  {
   "cell_type": "code",
   "execution_count": null,
   "id": "e78cf650-42e1-4162-bfcc-afcbbd373b77",
   "metadata": {},
   "outputs": [],
   "source": [
    "import matplotlib.pyplot as plt\n",
    "%matplotlib inline\n",
    "football.hist('Pressure Drop', group='Team')"
   ]
  },
  {
   "cell_type": "code",
   "execution_count": null,
   "id": "f4d1a0ae-25e8-45b1-915f-5fa7d7d54bd4",
   "metadata": {},
   "outputs": [],
   "source": [
    "### It looks as though the Patriots’ drops were larger than the Colts’. \n",
    "### Let’s look at the average drop in each of the two groups. \n",
    "### We no longer need the combined scores.\n",
    "\n",
    "football = football.drop('Combined')\n",
    "football.group('Team', np.average)   ### group by team, return function"
   ]
  },
  {
   "cell_type": "markdown",
   "id": "ab671c9f-7bb4-47e6-ac19-1dad6c819165",
   "metadata": {},
   "source": [
    "- why the **Patriots’ footballs** had a **larger drop** in pressure, on average, than the Colts footballs. \n",
    "- Could it be due to **chance**?"
   ]
  },
  {
   "cell_type": "markdown",
   "id": "1e86f998-56f8-4ca5-8a07-96252108b340",
   "metadata": {
    "jp-MarkdownHeadingCollapsed": true
   },
   "source": [
    "## 12.3.1. The Hypotheses\n",
    "\n",
    "- **Null hypothesis**: we can make a chance model by **hypothesizing** that the 11 Patriots’ drops look like a **random sample of 11 out of all the 15 drops**, with the Colts’ drops being the remaining four.\n",
    "- **Alternative hypothesis**: the Patriots’ drops are **too large, on average, to resemble a random sample** drawn from all the drops."
   ]
  },
  {
   "cell_type": "markdown",
   "id": "cd52423d-fe5e-42c4-9a7d-42967b2dd1ec",
   "metadata": {},
   "source": [
    "## 12.3.2. Test Statistic\n",
    "\n",
    "- A natural statistic is **the difference between the two average drops** to be calculated as the **\"average drop for Patriots - average drop for Colts\"**."
   ]
  },
  {
   "cell_type": "code",
   "execution_count": null,
   "id": "641b89b4-5aba-4c39-bcd4-d4d0cac3feaf",
   "metadata": {},
   "outputs": [],
   "source": [
    "### group gives count, we throw in an average function\n",
    "\n",
    "observed_means = football.group('Team', np.average).column(1)   \n",
    "observed_means   ##### means of the teams' drops"
   ]
  },
  {
   "cell_type": "code",
   "execution_count": null,
   "id": "510123d8-660f-4d0d-8da0-d871e70aa816",
   "metadata": {},
   "outputs": [],
   "source": [
    "##### use the item\n",
    "##### item means the element at the specified index\n",
    "\n",
    "observed_difference = observed_means.item(1) - observed_means.item(0)\n",
    "observed_difference"
   ]
  },
  {
   "cell_type": "markdown",
   "id": "ab98a62f-9cde-4eeb-9087-cc796204f9ce",
   "metadata": {},
   "source": [
    "#### mean difference"
   ]
  },
  {
   "cell_type": "code",
   "execution_count": null,
   "id": "4c2a08d8-250c-4298-a3ff-dc940688a8d3",
   "metadata": {},
   "outputs": [],
   "source": [
    "### put our thoughts together to create a function\n",
    "### function to calculate the difference between the mean drops of the two groups\n",
    "\n",
    "def difference_of_means(table, group_label):               ### label: T/F, Patriats/Colts\n",
    "    reduced = table.select('Pressure Drop', group_label)   ### reduced table: team & drops\n",
    "    means_table = reduced.group(group_label, np.average)   ### average out the drops for the teams\n",
    "    means = means_table.column(1)                          ### choose the column (arry of averages)\n",
    "    return means.item(1) - means.item(0)                   ### calc the distance"
   ]
  },
  {
   "cell_type": "code",
   "execution_count": null,
   "id": "368ed449-e102-4d45-b8dc-dbb430067608",
   "metadata": {},
   "outputs": [],
   "source": [
    "difference_of_means(football, 'Team')"
   ]
  },
  {
   "cell_type": "markdown",
   "id": "2295eeb1-204c-4599-b410-957d06f7000a",
   "metadata": {},
   "source": [
    "## 12.3.3. Predicting the Statistic Under the Null Hypothesis\n",
    "\n",
    "- If the null hypothesis were true, then it shouldn’t matter which footballs are labeled Patriots and which are labeled Colts. ==> The distributions of the two sets of drops would be the same. We can simulate this by randomly shuffling the team labels."
   ]
  },
  {
   "cell_type": "code",
   "execution_count": null,
   "id": "65e98142-e836-4e8a-a2b6-6cf5f15b4828",
   "metadata": {},
   "outputs": [],
   "source": [
    "##### permutation: shuffle the team labels\n",
    "##### one simulation\n",
    "\n",
    "shuffled_labels = football.sample(with_replacement=False).column(0)"
   ]
  },
  {
   "cell_type": "code",
   "execution_count": null,
   "id": "027f7aac-2470-4d08-8b44-b79941b4086d",
   "metadata": {},
   "outputs": [],
   "source": [
    "original_and_shuffled = football.with_column('Shuffled Label', shuffled_labels)\n",
    "original_and_shuffled   ### the table to be used"
   ]
  },
  {
   "cell_type": "code",
   "execution_count": null,
   "id": "cb700ee8-f789-4c15-9d30-2b4e890b21e9",
   "metadata": {},
   "outputs": [],
   "source": [
    "##### compare group means\n",
    "\n",
    "difference_of_means(original_and_shuffled, 'Shuffled Label')"
   ]
  },
  {
   "cell_type": "code",
   "execution_count": null,
   "id": "adc52464-3138-445c-8dc5-e05cd098760c",
   "metadata": {},
   "outputs": [],
   "source": [
    "### compare to the observed difference\n",
    "\n",
    "difference_of_means(original_and_shuffled, 'Team')"
   ]
  },
  {
   "cell_type": "markdown",
   "id": "1bf2c7e3-4492-40c1-a62d-acc0e7071ea9",
   "metadata": {},
   "source": [
    "**The two teams’ average drop values are closer when the team labels are randomly assigned** to the footballs than they were for the two groups actually used in the game."
   ]
  },
  {
   "cell_type": "markdown",
   "id": "8527f27e-23b2-485b-96ed-662aa3641c5f",
   "metadata": {},
   "source": [
    "## 12.3.4. Permutation Test\n",
    "\n",
    "- repeatedly simulate of the test statistic under the null hypothesis.\n",
    "- start by writing a function one_simulated_difference that returns one simulated value of the difference between the mean pressure drops of the groups labeled Patriots and Colts after randomly permuting the team labels of the footballs."
   ]
  },
  {
   "cell_type": "code",
   "execution_count": null,
   "id": "b5c5f53d-dd2c-4ee8-96ec-0be18ba50e16",
   "metadata": {},
   "outputs": [],
   "source": [
    "def one_simulated_difference():\n",
    "    shuffled_labels = football.sample(with_replacement=False).column('Team')   ### shuffle the labels (Team)\n",
    "    shuffled_table = football.select('Pressure Drop').with_column(\n",
    "    'Shuffled Label', shuffled_labels)                                          ### two cols ==> table\n",
    "    return difference_of_means(shuffled_table, 'Shuffled Label')"
   ]
  },
  {
   "cell_type": "code",
   "execution_count": null,
   "id": "ce6e36ea-a671-4013-8812-9ee60fc3870b",
   "metadata": {},
   "outputs": [],
   "source": [
    "differences = make_array()\n",
    "repetitions = 1000\n",
    "\n",
    "for i in np.arange(repetitions):\n",
    "    new_difference = one_simulated_difference()\n",
    "    differences = np.append(differences, new_difference)"
   ]
  },
  {
   "cell_type": "code",
   "execution_count": null,
   "id": "e9115994-7f84-45bb-a017-a3aab00aaee8",
   "metadata": {},
   "outputs": [],
   "source": [
    "differences"
   ]
  },
  {
   "cell_type": "markdown",
   "id": "0d194e58-d999-41cf-b2d2-7febea75fee8",
   "metadata": {},
   "source": [
    "## 12.3.5. Conclusion of the Test\n"
   ]
  },
  {
   "cell_type": "code",
   "execution_count": null,
   "id": "690083b1-d9c8-4ca2-95a4-089da0b2ea57",
   "metadata": {},
   "outputs": [],
   "source": [
    "import matplotlib.pyplot as plots\n",
    "%matplotlib inline\n",
    "\n",
    "Table().with_column(\n",
    "    'Difference Between Group Means', differences).hist(bins = 50)\n",
    "\n",
    "plots.ylim(-0.1, 1.4)\n",
    "plots.scatter(observed_difference, 0, color='red', s=30, zorder=3)\n",
    "plots.title('Prediction Under the Null Hypothesis')\n",
    "print('Observed Difference:', observed_difference)"
   ]
  },
  {
   "cell_type": "code",
   "execution_count": null,
   "id": "e2fc3842-6f68-42b4-ab90-fd8e91bcf46d",
   "metadata": {},
   "outputs": [],
   "source": [
    "empirical_p = np.count_nonzero(differences >= observed_difference) / 10000\n",
    "empirical_p"
   ]
  },
  {
   "cell_type": "markdown",
   "id": "d9073827-604b-4f05-be6e-0573aaed343b",
   "metadata": {},
   "source": [
    "- As in previous examples of this test, the bulk of the distribution is centered around 0. Under the null hypothesis, the Patriots’ drops are a random sample of all 15 drops, and therefore so are the Colts’. Therefore the two sets of drops should be about equal on average, and therefore their difference should be around 0.\n",
    "- But the observed value of the test statistic is quite far away from the heart of the distribution. By any reasonable cutoff for what is “small”, the empirical P-value is small. So we end up rejecting the null hypothesis of randomness, and conclude that the Patriots drops were too large to reflect chance variation alone.\n",
    "\n",
    "- The independent investigative team analyzed the data in several different ways, taking into account the laws of physics. The final report said,\n",
    "\n",
    "- “[T]he average pressure drop of the Patriots game balls exceeded the average pressure drop of the Colts balls by 0.45 to 1.02 psi, depending on various possible assumptions regarding the gauges used, and assuming an initial pressure of 12.5 psi for the Patriots balls and 13.0 for the Colts balls.” – Investigative report commissioned by the NFL regarding the AFC Championship game on January 18, 2"
   ]
  },
  {
   "cell_type": "code",
   "execution_count": null,
   "id": "5dbe325f-5934-4c5c-94db-61d873d44360",
   "metadata": {},
   "outputs": [],
   "source": []
  }
 ],
 "metadata": {
  "kernelspec": {
   "display_name": "Python 3 (ipykernel)",
   "language": "python",
   "name": "python3"
  },
  "language_info": {
   "codemirror_mode": {
    "name": "ipython",
    "version": 3
   },
   "file_extension": ".py",
   "mimetype": "text/x-python",
   "name": "python",
   "nbconvert_exporter": "python",
   "pygments_lexer": "ipython3",
   "version": "3.12.0"
  }
 },
 "nbformat": 4,
 "nbformat_minor": 5
}
