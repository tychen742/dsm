{
 "cells": [
  {
   "cell_type": "markdown",
   "id": "6a82940a-0d55-4de6-9179-2cccae20a138",
   "metadata": {},
   "source": [
    "# 12.1. A/B Testing\n",
    "\n",
    "- A/B testing: In data analytics, deciding whether two numerical samples come from the same underlying distribution is called A/B testing."
   ]
  },
  {
   "cell_type": "markdown",
   "id": "06aa9eb7-3e8d-441d-bc0c-f0e262d3964a",
   "metadata": {},
   "source": [
    "## 12.1.1. Smokers and Nonsmokers\n",
    "- births: **1,174** mother-baby pairs\n",
    "- Goal: Is mother smoking associated with baby weight?"
   ]
  },
  {
   "cell_type": "code",
   "execution_count": 1,
   "id": "05a25264-3de8-4bd8-b922-ee58895372b3",
   "metadata": {},
   "outputs": [],
   "source": [
    "##### headers\n",
    "##### the data folder; note the relative path\n",
    "path_data = \"../../data/\"\n",
    "\n",
    "from datascience import *"
   ]
  },
  {
   "cell_type": "code",
   "execution_count": 2,
   "id": "4c4d60c7-dd0a-4131-8053-3f5a414dbecb",
   "metadata": {},
   "outputs": [
    {
     "data": {
      "text/html": [
       "<table border=\"1\" class=\"dataframe\">\n",
       "    <thead>\n",
       "        <tr>\n",
       "            <th>Birth Weight</th> <th>Gestational Days</th> <th>Maternal Age</th> <th>Maternal Height</th> <th>Maternal Pregnancy Weight</th> <th>Maternal Smoker</th>\n",
       "        </tr>\n",
       "    </thead>\n",
       "    <tbody>\n",
       "        <tr>\n",
       "            <td>120         </td> <td>284             </td> <td>27          </td> <td>62             </td> <td>100                      </td> <td>False          </td>\n",
       "        </tr>\n",
       "        <tr>\n",
       "            <td>113         </td> <td>282             </td> <td>33          </td> <td>64             </td> <td>135                      </td> <td>False          </td>\n",
       "        </tr>\n",
       "        <tr>\n",
       "            <td>128         </td> <td>279             </td> <td>28          </td> <td>64             </td> <td>115                      </td> <td>True           </td>\n",
       "        </tr>\n",
       "        <tr>\n",
       "            <td>108         </td> <td>282             </td> <td>23          </td> <td>67             </td> <td>125                      </td> <td>True           </td>\n",
       "        </tr>\n",
       "        <tr>\n",
       "            <td>136         </td> <td>286             </td> <td>25          </td> <td>62             </td> <td>93                       </td> <td>False          </td>\n",
       "        </tr>\n",
       "    </tbody>\n",
       "</table>\n",
       "<p>... (1169 rows omitted)</p>"
      ],
      "text/plain": [
       "<IPython.core.display.HTML object>"
      ]
     },
     "metadata": {},
     "output_type": "display_data"
    }
   ],
   "source": [
    "##### load the data: births\n",
    "births = Table.read_table(path_data + \"baby.csv\")\n",
    "births.show(5)  ### take a look at the data"
   ]
  },
  {
   "cell_type": "code",
   "execution_count": 3,
   "id": "b706dba3-a770-4782-9319-f732fe891b1f",
   "metadata": {},
   "outputs": [
    {
     "data": {
      "text/html": [
       "<table border=\"1\" class=\"dataframe\">\n",
       "    <thead>\n",
       "        <tr>\n",
       "            <th>Maternal Smoker</th> <th>Birth Weight</th>\n",
       "        </tr>\n",
       "    </thead>\n",
       "    <tbody>\n",
       "        <tr>\n",
       "            <td>False          </td> <td>120         </td>\n",
       "        </tr>\n",
       "        <tr>\n",
       "            <td>False          </td> <td>113         </td>\n",
       "        </tr>\n",
       "        <tr>\n",
       "            <td>True           </td> <td>128         </td>\n",
       "        </tr>\n",
       "        <tr>\n",
       "            <td>True           </td> <td>108         </td>\n",
       "        </tr>\n",
       "        <tr>\n",
       "            <td>False          </td> <td>136         </td>\n",
       "        </tr>\n",
       "        <tr>\n",
       "            <td>False          </td> <td>138         </td>\n",
       "        </tr>\n",
       "        <tr>\n",
       "            <td>False          </td> <td>132         </td>\n",
       "        </tr>\n",
       "        <tr>\n",
       "            <td>False          </td> <td>120         </td>\n",
       "        </tr>\n",
       "        <tr>\n",
       "            <td>True           </td> <td>143         </td>\n",
       "        </tr>\n",
       "        <tr>\n",
       "            <td>False          </td> <td>140         </td>\n",
       "        </tr>\n",
       "    </tbody>\n",
       "</table>\n",
       "<p>... (1164 rows omitted)</p>"
      ],
      "text/plain": [
       "Maternal Smoker | Birth Weight\n",
       "False           | 120\n",
       "False           | 113\n",
       "True            | 128\n",
       "True            | 108\n",
       "False           | 136\n",
       "False           | 138\n",
       "False           | 132\n",
       "False           | 120\n",
       "True            | 143\n",
       "False           | 140\n",
       "... (1164 rows omitted)"
      ]
     },
     "execution_count": 3,
     "metadata": {},
     "output_type": "execute_result"
    }
   ],
   "source": [
    "##### tbl.select returns table => tbl.column creates arrays\n",
    "### select outputs table; column ==> array\n",
    "# # births.column('Maternal Smoker')\n",
    "\n",
    "smoking_and_birthweight = births.select(\"Maternal Smoker\", \"Birth Weight\")\n",
    "smoking_and_birthweight"
   ]
  },
  {
   "cell_type": "code",
   "execution_count": 4,
   "id": "3a9d562c-751d-4901-a73d-2cfa3f249035",
   "metadata": {},
   "outputs": [
    {
     "data": {
      "text/html": [
       "<table border=\"1\" class=\"dataframe\">\n",
       "    <thead>\n",
       "        <tr>\n",
       "            <th>Maternal Smoker</th> <th>count</th>\n",
       "        </tr>\n",
       "    </thead>\n",
       "    <tbody>\n",
       "        <tr>\n",
       "            <td>False          </td> <td>715  </td>\n",
       "        </tr>\n",
       "        <tr>\n",
       "            <td>True           </td> <td>459  </td>\n",
       "        </tr>\n",
       "    </tbody>\n",
       "</table>"
      ],
      "text/plain": [
       "Maternal Smoker | count\n",
       "False           | 715\n",
       "True            | 459"
      ]
     },
     "execution_count": 4,
     "metadata": {},
     "output_type": "execute_result"
    }
   ],
   "source": [
    "##### group to count the number of smokers/non-smokers in dataset\n",
    "\n",
    "smoking_and_birthweight.group(\"Maternal Smoker\")"
   ]
  },
  {
   "cell_type": "code",
   "execution_count": 5,
   "id": "72e958a9-11b9-47ba-a1ff-c41a87c65ac7",
   "metadata": {},
   "outputs": [
    {
     "data": {
      "image/png": "[encoded data removed]",
      "text/plain": [
       "<Figure size 600x400 with 1 Axes>"
      ]
     },
     "metadata": {},
     "output_type": "display_data"
    }
   ],
   "source": [
    "##### visualize it first\n",
    "##### # births.column('Maternal Smoker')\n",
    "##### can't find reference to this group argument anywhere\n",
    "\n",
    "import matplotlib.pyplot as plots\n",
    "\n",
    "%matplotlib inline\n",
    "# plt.show()\n",
    "\n",
    "smoking_and_birthweight.hist(\"Birth Weight\", group=\"Maternal Smoker\")\n",
    "# smoking_and_birthweight.hist('Birth Weight', group = 'Maternal Smoker', bins=(100))"
   ]
  },
  {
   "cell_type": "code",
   "execution_count": 6,
   "id": "11b0b7db-760e-4912-8db6-e639446379f6",
   "metadata": {},
   "outputs": [],
   "source": [
    "##### it looks slightly different\n",
    "##### is the difference caused by the chance variation? Or by the population?"
   ]
  },
  {
   "cell_type": "markdown",
   "id": "c34831cb-b247-4538-8965-dbdd461c82b0",
   "metadata": {},
   "source": [
    "## 12.1.2. The Hypotheses\n",
    "\n",
    "- **null hypothesis**: In this population, the **distribution** of birth weights of babies is the smae for mothers who don't smoke and as for mothers who do. The **difference** of birht weight between the samples is **due to chance**. \n",
    "- **alternative hypothesis**: In the population, the babies of the mothers who smoke have a lower birth weight, **on average**, than the babies of the non-smoking mothers. \n"
   ]
  },
  {
   "cell_type": "markdown",
   "id": "f3fad25a-64a0-4a7e-abc5-ff82c4ed6035",
   "metadata": {},
   "source": [
    "## 12.1.3. Test Statistic\n",
    "\n",
    "- The alternative hypothesis **compares the average birth weights of the two groups** and says that the average for the mothers who smoke is smaller. Therefore it is reasonable for us to use the **difference** between the two **group means** as our statistic."
   ]
  },
  {
   "cell_type": "code",
   "execution_count": 7,
   "id": "728a1390-6b4e-406a-8340-b8aeefb25a98",
   "metadata": {},
   "outputs": [
    {
     "data": {
      "text/plain": [
       "119.46"
      ]
     },
     "execution_count": 7,
     "metadata": {},
     "output_type": "execute_result"
    }
   ],
   "source": [
    "import numpy as np\n",
    "\n",
    "##### what's the average weight?\n",
    "# type(np.mean(births.column('Birth Weight')))\n",
    "num = np.mean(births.column(\"Birth Weight\"))\n",
    "# round(num, 2)\n",
    "\n",
    "### format string\n",
    "float(\"{:,.2f}\".format(num))\n",
    "### f-string\n",
    "# num = f\"{num:.2f}\"\n",
    "# num\n",
    "# float(num)"
   ]
  },
  {
   "cell_type": "code",
   "execution_count": 8,
   "id": "b8a719f8-da17-4a07-bba1-e1c25ea54729",
   "metadata": {},
   "outputs": [
    {
     "data": {
      "text/html": [
       "<table border=\"1\" class=\"dataframe\">\n",
       "    <thead>\n",
       "        <tr>\n",
       "            <th>Maternal Smoker</th> <th>Birth Weight average</th>\n",
       "        </tr>\n",
       "    </thead>\n",
       "    <tbody>\n",
       "        <tr>\n",
       "            <td>False          </td> <td>123.085             </td>\n",
       "        </tr>\n",
       "        <tr>\n",
       "            <td>True           </td> <td>113.819             </td>\n",
       "        </tr>\n",
       "    </tbody>\n",
       "</table>"
      ],
      "text/plain": [
       "Maternal Smoker | Birth Weight average\n",
       "False           | 123.085\n",
       "True            | 113.819"
      ]
     },
     "execution_count": 8,
     "metadata": {},
     "output_type": "execute_result"
    }
   ],
   "source": [
    "import numpy as np\n",
    "\n",
    "##### use the same table, which has weight info, do an average instead of count,\n",
    "##### then with group, we'll have average from both groups\n",
    "\n",
    "means_table = smoking_and_birthweight.group(\n",
    "    \"Maternal Smoker\", np.average\n",
    ")  ### use function\n",
    "means_table"
   ]
  },
  {
   "cell_type": "code",
   "execution_count": 9,
   "id": "60f54e56-167e-4ab8-9705-d71b80a5bd64",
   "metadata": {},
   "outputs": [
    {
     "data": {
      "text/plain": [
       "-9.266142572024918"
      ]
     },
     "execution_count": 9,
     "metadata": {},
     "output_type": "execute_result"
    }
   ],
   "source": [
    "##### use column and item to get the difference between the two groups\n",
    "##### this is a technique based on your understanding of table/column/cell access\n",
    "\n",
    "means = means_table.column(1)  ### this is an array\n",
    "# means\n",
    "observed_difference = means.item(1) - means.item(0)\n",
    "observed_difference\n",
    "\n",
    "##### not simulated\n",
    "##### we got this number that is the mean difference of a variable based on smoke-grouping ==> birth-weight"
   ]
  },
  {
   "cell_type": "code",
   "execution_count": 10,
   "id": "23b9def1-732a-45c4-b0d6-f1a6358bd336",
   "metadata": {},
   "outputs": [],
   "source": [
    "### funciton: Variable X and Birth-Weigth\n",
    "### why are we not comparing smoker vs all? the guess is that somker < non-smoker and the\n",
    "### difference would be larger than smoker - average\n",
    "\n",
    "\n",
    "def difference_of_means(table, group_label):\n",
    "    reduced = table.select(\"Birth Weight\", group_label)   ### select two columns and returns table\n",
    "    means_table = reduced.group(group_label, np.average)  ### column/array: average weight\n",
    "    means = means_table.column(1)  ### average weight column\n",
    "    return means.item(1) - means.item(0)  \n",
    "    ### difference between the group means (smoker vs non-smoker)\n",
    "    # return means[1] - means[0]            ### you don't have to use item()."
   ]
  },
  {
   "cell_type": "code",
   "execution_count": 11,
   "id": "99d810b6-2aab-497d-bd5c-00ce1a391128",
   "metadata": {},
   "outputs": [
    {
     "data": {
      "text/plain": [
       "-9.266142572024918"
      ]
     },
     "execution_count": 11,
     "metadata": {},
     "output_type": "execute_result"
    }
   ],
   "source": [
    "difference_of_means(births, \"Maternal Smoker\")"
   ]
  },
  {
   "cell_type": "markdown",
   "id": "ec900c52-4e7c-44df-a5d7-e2cdc5c364b7",
   "metadata": {},
   "source": [
    "## 12.1.4. Predicting the Statistic Under the Null Hypothesis\n",
    "\n",
    "- To see how the statistic should vary under the null hypothesis, we have to figure out how to simulate the statistic under that hypothesis.\n",
    "- A clever method based on random permutations does just that.\n",
    "- **Random permutation**: to shuffle all the labels randomly among the mothers. This is called random permutation.\n",
    "- Then, let's compare the **means** of the two groups."
   ]
  },
  {
   "cell_type": "code",
   "execution_count": 12,
   "id": "764e8eeb-b26f-4c7c-90e9-0b42b57783d5",
   "metadata": {},
   "outputs": [
    {
     "data": {
      "text/html": [
       "<table border=\"1\" class=\"dataframe\">\n",
       "    <thead>\n",
       "        <tr>\n",
       "            <th>Maternal Smoker</th> <th>Birth Weight</th>\n",
       "        </tr>\n",
       "    </thead>\n",
       "    <tbody>\n",
       "        <tr>\n",
       "            <td>False          </td> <td>120         </td>\n",
       "        </tr>\n",
       "        <tr>\n",
       "            <td>False          </td> <td>113         </td>\n",
       "        </tr>\n",
       "        <tr>\n",
       "            <td>True           </td> <td>128         </td>\n",
       "        </tr>\n",
       "    </tbody>\n",
       "</table>\n",
       "<p>... (1171 rows omitted)</p>"
      ],
      "text/plain": [
       "<IPython.core.display.HTML object>"
      ]
     },
     "metadata": {},
     "output_type": "display_data"
    }
   ],
   "source": [
    "smoking_and_birthweight.show(3)"
   ]
  },
  {
   "cell_type": "code",
   "execution_count": 13,
   "id": "21477a3d-9cca-4023-8440-c8f993be4866",
   "metadata": {},
   "outputs": [],
   "source": [
    "##### use sample() to shuffle\n",
    "##### sample() will take everyone\n",
    "##### place the column to the table\n",
    "\n",
    "shuffled_labels = smoking_and_birthweight.sample(with_replacement=False).column(\n",
    "    0\n",
    ")  ### a shuffled column\n",
    "original_and_shuffled = smoking_and_birthweight.with_column(\n",
    "    \"Shuffled Label\", shuffled_labels\n",
    ")"
   ]
  },
  {
   "cell_type": "code",
   "execution_count": 14,
   "id": "d63a194d-6fd2-4e7a-b9bb-753985cc5341",
   "metadata": {},
   "outputs": [
    {
     "data": {
      "text/html": [
       "<table border=\"1\" class=\"dataframe\">\n",
       "    <thead>\n",
       "        <tr>\n",
       "            <th>Maternal Smoker</th> <th>Birth Weight</th> <th>Shuffled Label</th>\n",
       "        </tr>\n",
       "    </thead>\n",
       "    <tbody>\n",
       "        <tr>\n",
       "            <td>False          </td> <td>120         </td> <td>False         </td>\n",
       "        </tr>\n",
       "        <tr>\n",
       "            <td>False          </td> <td>113         </td> <td>True          </td>\n",
       "        </tr>\n",
       "        <tr>\n",
       "            <td>True           </td> <td>128         </td> <td>True          </td>\n",
       "        </tr>\n",
       "        <tr>\n",
       "            <td>True           </td> <td>108         </td> <td>False         </td>\n",
       "        </tr>\n",
       "        <tr>\n",
       "            <td>False          </td> <td>136         </td> <td>False         </td>\n",
       "        </tr>\n",
       "    </tbody>\n",
       "</table>\n",
       "<p>... (1169 rows omitted)</p>"
      ],
      "text/plain": [
       "<IPython.core.display.HTML object>"
      ]
     },
     "metadata": {},
     "output_type": "display_data"
    }
   ],
   "source": [
    "original_and_shuffled.show(5)"
   ]
  },
  {
   "cell_type": "code",
   "execution_count": 15,
   "id": "3f399ff7-688f-4881-9ac0-724aaa1bec9d",
   "metadata": {},
   "outputs": [
    {
     "data": {
      "text/html": [
       "<table border=\"1\" class=\"dataframe\">\n",
       "    <thead>\n",
       "        <tr>\n",
       "            <th>Shuffled Label</th> <th>Birth Weight average</th>\n",
       "        </tr>\n",
       "    </thead>\n",
       "    <tbody>\n",
       "        <tr>\n",
       "            <td>False         </td> <td>120                 </td>\n",
       "        </tr>\n",
       "        <tr>\n",
       "            <td>True          </td> <td>118.625             </td>\n",
       "        </tr>\n",
       "    </tbody>\n",
       "</table>"
      ],
      "text/plain": [
       "Shuffled Label | Birth Weight average\n",
       "False          | 120\n",
       "True           | 118.625"
      ]
     },
     "execution_count": 15,
     "metadata": {},
     "output_type": "execute_result"
    }
   ],
   "source": [
    "##### check the average weights in the two groups\n",
    "shuffled_only = original_and_shuffled.select(\"Birth Weight\", \"Shuffled Label\")\n",
    "shuffled_group_means = shuffled_only.group(\n",
    "    \"Shuffled Label\", np.average\n",
    ")  ### group means!!!!!\n",
    "shuffled_group_means"
   ]
  },
  {
   "cell_type": "code",
   "execution_count": 16,
   "id": "48fc57be-fb99-4771-b669-01f33e32d947",
   "metadata": {},
   "outputs": [
    {
     "data": {
      "text/plain": [
       "-1.3747276688453098"
      ]
     },
     "execution_count": 16,
     "metadata": {},
     "output_type": "execute_result"
    }
   ],
   "source": [
    "### finding the differences of the shuffled\n",
    "difference_of_means(original_and_shuffled, \"Shuffled Label\")"
   ]
  },
  {
   "cell_type": "code",
   "execution_count": 17,
   "id": "363bf65d-d82f-452f-bad5-4d1a2ccc3db1",
   "metadata": {},
   "outputs": [
    {
     "data": {
      "text/plain": [
       "-9.266142572024918"
      ]
     },
     "execution_count": 17,
     "metadata": {},
     "output_type": "execute_result"
    }
   ],
   "source": [
    "difference_of_means(original_and_shuffled, \"Maternal Smoker\")  ### we have this"
   ]
  },
  {
   "cell_type": "code",
   "execution_count": 18,
   "id": "76073818-5059-46b4-a6cd-423096f9bed5",
   "metadata": {},
   "outputs": [],
   "source": [
    "### get the variability between the gorups means\n",
    "### let's use the original table 'births'\n",
    "\n",
    "\n",
    "def one_simulated_difference_of_means():\n",
    "    ##### array of shuffled lables\n",
    "    ##### this is the random part\n",
    "    shuffled_labels = births.sample(with_replacement=False).column(\"Maternal Smoker\")\n",
    "\n",
    "    ### table of birth weights and shuffled labels\n",
    "    ### the logic should be 1) create columns; 2_ add columns together\n",
    "    shuffled_table = births.select(\"Birth Weight\").with_column(\n",
    "        \"Shuffled Label\", shuffled_labels\n",
    "    )\n",
    "\n",
    "    ### send the args to function\n",
    "    return difference_of_means(shuffled_table, \"Shuffled Label\")"
   ]
  },
  {
   "cell_type": "code",
   "execution_count": 19,
   "id": "37788a19-d3be-4a3e-abaa-3e4bf32ac434",
   "metadata": {},
   "outputs": [
    {
     "data": {
      "text/plain": [
       "-1.7646479881774013"
      ]
     },
     "execution_count": 19,
     "metadata": {},
     "output_type": "execute_result"
    }
   ],
   "source": [
    "one_simulated_difference_of_means()"
   ]
  },
  {
   "cell_type": "markdown",
   "id": "456b28f6-322b-410f-811a-ef87f4446f1f",
   "metadata": {},
   "source": [
    "## 12.1.5. Permutation Test\n",
    "\n",
    "- https://en.wikipedia.org/wiki/Permutation_test\n",
    "- A permutation test (also called re-randomization test or shuffle test) is an exact statistical hypothesis test making use of the proof by contradiction. A permutation test involves two or more samples. The null hypothesis is that all samples come from the same distribution H0: F = G. Under the null hypothesis, the distribution of the test statistic is obtained by calculating all possible values of the test statistic under possible rearrangements of the observed data. Permutation tests are, therefore, a form of resampling."
   ]
  },
  {
   "cell_type": "code",
   "execution_count": 20,
   "id": "4de6fe4b-1910-49a4-be5a-42eaa8b1f645",
   "metadata": {},
   "outputs": [],
   "source": [
    "### simulate our test statistic – the difference between the average birth\n",
    "### weight of the two randomly formed groups\n",
    "\n",
    "differences = make_array()\n",
    "repetitions = 1000\n",
    "\n",
    "for i in np.arange(repetitions):\n",
    "    new_difference = one_simulated_difference_of_means()\n",
    "    differences = np.append(differences, new_difference)"
   ]
  },
  {
   "cell_type": "code",
   "execution_count": 21,
   "id": "30fa45ed-638e-4bd4-ac34-1438e472c0f3",
   "metadata": {},
   "outputs": [],
   "source": [
    "# differences"
   ]
  },
  {
   "cell_type": "markdown",
   "id": "24e01e3b-3e50-41e6-872d-35da813ae88d",
   "metadata": {},
   "source": [
    "## 12.1.6. Conclusion of the Test"
   ]
  },
  {
   "cell_type": "code",
   "execution_count": 22,
   "id": "f706eb8b-9fa8-4be8-8558-576d932898ff",
   "metadata": {},
   "outputs": [
    {
     "name": "stdout",
     "output_type": "stream",
     "text": [
      "Observed Difference: -9.266142572024918\n"
     ]
    },
    {
     "data": {
      "text/plain": [
       "Text(0.5, 1.0, 'Prediction Under the Null Hypothesis')"
      ]
     },
     "execution_count": 22,
     "metadata": {},
     "output_type": "execute_result"
    },
    {
     "data": {
      "image/png": "[encoded data removed]",
      "text/plain": [
       "<Figure size 600x400 with 1 Axes>"
      ]
     },
     "metadata": {},
     "output_type": "display_data"
    }
   ],
   "source": [
    "### create a table for visualization\n",
    "Table().with_column(\"Difference Between Group Means\", differences).hist()\n",
    "print(\"Observed Difference:\", observed_difference)\n",
    "plots.title(\"Prediction Under the Null Hypothesis\")"
   ]
  },
  {
   "cell_type": "code",
   "execution_count": 23,
   "id": "774f1ed3-878a-40e9-973a-a30e96a8c4cc",
   "metadata": {},
   "outputs": [
    {
     "data": {
      "text/plain": [
       "0"
      ]
     },
     "execution_count": 23,
     "metadata": {},
     "output_type": "execute_result"
    }
   ],
   "source": [
    "np.count_nonzero(differences <= observed_difference)"
   ]
  },
  {
   "cell_type": "code",
   "execution_count": 24,
   "id": "2283a62c-69a0-4748-8ecc-e930c27c0bed",
   "metadata": {},
   "outputs": [
    {
     "data": {
      "text/plain": [
       "0.0"
      ]
     },
     "execution_count": 24,
     "metadata": {},
     "output_type": "execute_result"
    }
   ],
   "source": [
    "##### Conclusion: The data favor the alternative over the null.\n",
    "##### p-value\n",
    "\n",
    "empirical_p = np.count_nonzero(differences <= observed_difference) / repetitions\n",
    "empirical_p"
   ]
  },
  {
   "cell_type": "markdown",
   "id": "805ebe69-95e2-4d19-ae4e-48595951f1a4",
   "metadata": {},
   "source": [
    "## 12.1.7. Another Permutation Test\n",
    "\n",
    "- Compare other attributes: how about smoker x age\n",
    "- Are smokers younger than non-smokers?"
   ]
  },
  {
   "cell_type": "code",
   "execution_count": 25,
   "id": "44c990ee-c78f-4b74-9825-cd3e2229312b",
   "metadata": {},
   "outputs": [
    {
     "data": {
      "image/png": "[encoded data removed]",
      "text/plain": [
       "<Figure size 600x400 with 1 Axes>"
      ]
     },
     "metadata": {},
     "output_type": "display_data"
    }
   ],
   "source": [
    "smoking_and_age = births.select(\"Maternal Smoker\", \"Maternal Age\")  ### get the new table\n",
    "# smoking_and_age.show(5)\n",
    "smoking_and_age.hist(\"Maternal Age\", group=\"Maternal Smoker\")\n",
    "##### smokers seem to be younger?"
   ]
  },
  {
   "cell_type": "code",
   "execution_count": 26,
   "id": "7a89a847-5784-46a1-b655-5ece383dd8a7",
   "metadata": {},
   "outputs": [
    {
     "data": {
      "image/png": "[encoded data removed]",
      "text/plain": [
       "<Figure size 600x400 with 1 Axes>"
      ]
     },
     "metadata": {},
     "output_type": "display_data"
    }
   ],
   "source": [
    "smoking_and_age.hist(\"Maternal Age\", group=\"Maternal Smoker\", bins=30)"
   ]
  },
  {
   "cell_type": "code",
   "execution_count": 34,
   "id": "21f65a42-c30a-4e5e-9ec5-0ee9d72115b5",
   "metadata": {},
   "outputs": [],
   "source": [
    "##### badly designed function: do not hard-code \"Maternal Age\"\n",
    "##### this function is for age...\n",
    "\n",
    "\n",
    "def difference_of_means(table, group_label):\n",
    "    \"\"\"Takes: \n",
    "    table: name of table,\n",
    "    group_label: column label that indicates the group to which the row belongs\n",
    "    Returns: Difference of mean ages of the two groups\"\"\"\n",
    "    reduced = table.select(\"Maternal Age\", group_label)  ### select the two columns (age, smoke) ==> table\n",
    "    means_table = reduced.group(group_label, np.average) ### group by label & average the age\n",
    "    means = means_table.column(1)         ### select the column/array (age averages of two groups)\n",
    "    return means.item(1) - means.item(0)  ### calculate the difference between smoke & none"
   ]
  },
  {
   "cell_type": "code",
   "execution_count": 35,
   "id": "ea3b3f87-ef2b-49aa-bd02-4934e3724836",
   "metadata": {},
   "outputs": [
    {
     "data": {
      "text/plain": [
       "-0.8076725017901509"
      ]
     },
     "execution_count": 35,
     "metadata": {},
     "output_type": "execute_result"
    }
   ],
   "source": [
    "observed_age_difference = difference_of_means(births, \"Maternal Smoker\")\n",
    "observed_age_difference\n",
    "\n",
    "### the difference is calculated as the mean age of the smokers minus the mean age of the non-smokers."
   ]
  },
  {
   "cell_type": "code",
   "execution_count": 37,
   "id": "70b765de-4668-443e-a4f5-1e1443ff56a6",
   "metadata": {},
   "outputs": [],
   "source": [
    "##### simulation: instead of usign the MS T/F labels, use shuffled labels!!!!!!!!\n",
    "\n",
    "\n",
    "def one_simulated_difference_of_means():\n",
    "    \n",
    "    # array of shuffled labels\n",
    "    shuffled_labels = births.sample(with_replacement=False).column(\"Maternal Smoker\")\n",
    "    \n",
    "    # table of ages and shuffled lables\n",
    "    shuffled_table = births.select(\"Maternal Age\").with_column(\"Shuffled Label\", shuffled_labels)\n",
    "    \n",
    "    return difference_of_means(shuffled_table, \"Shuffled Label\")\n",
    "\n",
    "\n",
    "# def one_simulated_difference_of_means():\n",
    "#     \"\"\"Returns: Difference between mean ages\n",
    "#     of smokers and non-smokers after shuffling labels\"\"\"\n",
    "\n",
    "#     # array of shuffled labels\n",
    "#     shuffled_labels = births.sample(with_replacement=False).column('Maternal Smoker')\n",
    "\n",
    "#     # table of ages and shuffled labels\n",
    "#     shuffled_table = births.select('Maternal Age').with_column(\n",
    "#         'Shuffled Label', shuffled_labels)\n",
    "\n",
    "#     return difference_of_means(shuffled_table, 'Shuffled Label')"
   ]
  },
  {
   "cell_type": "code",
   "execution_count": 38,
   "id": "44a08750-37bc-4445-8bb4-36e15d8982e7",
   "metadata": {},
   "outputs": [],
   "source": [
    "age_differences = make_array()\n",
    "\n",
    "repetitions = 5000\n",
    "for i in np.arange(repetitions):\n",
    "    new_difference = one_simulated_difference_of_means()\n",
    "    age_differences = np.append(age_differences, new_difference)\n",
    "\n",
    "# age_differences = make_array()\n",
    "\n",
    "# repetitions = 5000\n",
    "# for i in np.arange(repetitions):\n",
    "#     new_difference = one_simulated_difference_of_means()\n",
    "#     age_differences = np.append(age_differences, new_difference)"
   ]
  },
  {
   "cell_type": "code",
   "execution_count": 39,
   "id": "35c26857-2a63-4aa0-92ba-59c3dc4549a9",
   "metadata": {},
   "outputs": [
    {
     "data": {
      "text/plain": [
       "array([ 1.00599357, -0.2210034 ,  0.15460792, ..., -0.05644987,\n",
       "        0.24046193, -0.07075887])"
      ]
     },
     "execution_count": 39,
     "metadata": {},
     "output_type": "execute_result"
    }
   ],
   "source": [
    "age_differences"
   ]
  },
  {
   "cell_type": "code",
   "execution_count": 48,
   "id": "9140e7e0-1f59-4b72-9bd5-0010212352c8",
   "metadata": {},
   "outputs": [
    {
     "name": "stdout",
     "output_type": "stream",
     "text": [
      "Observed Difference: -0.8076725017901509\n"
     ]
    },
    {
     "data": {
      "image/png": "[encoded data removed]",
      "text/plain": [
       "<Figure size 600x400 with 1 Axes>"
      ]
     },
     "metadata": {},
     "output_type": "display_data"
    }
   ],
   "source": [
    "Table().with_column(\"Difference Between Group Means\", age_differences).hist(\n",
    "    right_end = observed_age_difference)\n",
    "\n",
    "plots.ylim(-0.1, 1.2)\n",
    "plots.scatter(observed_age_difference, 0, color=\"red\", s=40, zorder=3)\n",
    "plots.title(\"Prediction Under the Null Hypothesis\")\n",
    "print(\"Observed Difference:\", observed_age_difference)"
   ]
  },
  {
   "cell_type": "code",
   "execution_count": 49,
   "id": "aec12a8d-b16d-4760-bceb-ded3f106b4f5",
   "metadata": {},
   "outputs": [
    {
     "data": {
      "text/plain": [
       "0.0116"
      ]
     },
     "execution_count": 49,
     "metadata": {},
     "output_type": "execute_result"
    }
   ],
   "source": [
    "##### p-value\n",
    "empirical_p = np.count_nonzero(age_differences <= observed_age_difference) / 5000\n",
    "empirical_p"
   ]
  },
  {
   "cell_type": "markdown",
   "id": "4452d079-5688-4bf0-9b36-e153ea84db63",
   "metadata": {},
   "source": [
    "The empirical p-value is around 1% and therefore the result is statistically significant. The test supports the hypothesis that the smokers were younger on average."
   ]
  },
  {
   "cell_type": "code",
   "execution_count": null,
   "id": "00010096-b113-4848-a8e6-28b063e7b45e",
   "metadata": {},
   "outputs": [],
   "source": []
  }
 ],
 "metadata": {
  "kernelspec": {
   "display_name": "Python 3 (ipykernel)",
   "language": "python",
   "name": "python3"
  },
  "language_info": {
   "codemirror_mode": {
    "name": "ipython",
    "version": 3
   },
   "file_extension": ".py",
   "mimetype": "text/x-python",
   "name": "python",
   "nbconvert_exporter": "python",
   "pygments_lexer": "ipython3",
   "version": "3.12.2"
  }
 },
 "nbformat": 4,
 "nbformat_minor": 5
}
