{
 "cells": [
  {
   "cell_type": "markdown",
   "id": "6a82940a-0d55-4de6-9179-2cccae20a138",
   "metadata": {},
   "source": [
    "# 12.1. A/B Testing\n",
    "\n",
    "- A/B testing: In data analytics, deciding whether two numerical samples come from the same underlying distribution is called A/B testing."
   ]
  },
  {
   "cell_type": "markdown",
   "id": "06aa9eb7-3e8d-441d-bc0c-f0e262d3964a",
   "metadata": {},
   "source": [
    "## 12.1.1. Smokers and Nonsmokers\n",
    "- births: **1,174** mother-baby pairs\n",
    "- Goal: Is mother smoking associated with baby weight?"
   ]
  },
  {
   "cell_type": "code",
   "execution_count": 4,
   "id": "05a25264-3de8-4bd8-b922-ee58895372b3",
   "metadata": {},
   "outputs": [],
   "source": [
    "##### headers\n",
    "##### the data folder; note the relative path\n",
    "path_data = \"../../data/\"\n",
    "\n",
    "from datascience import *"
   ]
  },
  {
   "cell_type": "code",
   "execution_count": 5,
   "id": "4c4d60c7-dd0a-4131-8053-3f5a414dbecb",
   "metadata": {},
   "outputs": [
    {
     "data": {
      "text/html": [
       "<table border=\"1\" class=\"dataframe\">\n",
       "    <thead>\n",
       "        <tr>\n",
       "            <th>Birth Weight</th> <th>Gestational Days</th> <th>Maternal Age</th> <th>Maternal Height</th> <th>Maternal Pregnancy Weight</th> <th>Maternal Smoker</th>\n",
       "        </tr>\n",
       "    </thead>\n",
       "    <tbody>\n",
       "        <tr>\n",
       "            <td>120         </td> <td>284             </td> <td>27          </td> <td>62             </td> <td>100                      </td> <td>False          </td>\n",
       "        </tr>\n",
       "        <tr>\n",
       "            <td>113         </td> <td>282             </td> <td>33          </td> <td>64             </td> <td>135                      </td> <td>False          </td>\n",
       "        </tr>\n",
       "        <tr>\n",
       "            <td>128         </td> <td>279             </td> <td>28          </td> <td>64             </td> <td>115                      </td> <td>True           </td>\n",
       "        </tr>\n",
       "        <tr>\n",
       "            <td>108         </td> <td>282             </td> <td>23          </td> <td>67             </td> <td>125                      </td> <td>True           </td>\n",
       "        </tr>\n",
       "        <tr>\n",
       "            <td>136         </td> <td>286             </td> <td>25          </td> <td>62             </td> <td>93                       </td> <td>False          </td>\n",
       "        </tr>\n",
       "    </tbody>\n",
       "</table>\n",
       "<p>... (1169 rows omitted)</p>"
      ],
      "text/plain": [
       "<IPython.core.display.HTML object>"
      ]
     },
     "metadata": {},
     "output_type": "display_data"
    }
   ],
   "source": [
    "##### load the data: births\n",
    "births = Table.read_table(path_data + 'baby.csv')\n",
    "births.show(5)   ### take a look at the data"
   ]
  },
  {
   "cell_type": "code",
   "execution_count": 6,
   "id": "b706dba3-a770-4782-9319-f732fe891b1f",
   "metadata": {},
   "outputs": [
    {
     "data": {
      "text/html": [
       "<table border=\"1\" class=\"dataframe\">\n",
       "    <thead>\n",
       "        <tr>\n",
       "            <th>Maternal Smoker</th> <th>Birth Weight</th>\n",
       "        </tr>\n",
       "    </thead>\n",
       "    <tbody>\n",
       "        <tr>\n",
       "            <td>False          </td> <td>120         </td>\n",
       "        </tr>\n",
       "        <tr>\n",
       "            <td>False          </td> <td>113         </td>\n",
       "        </tr>\n",
       "        <tr>\n",
       "            <td>True           </td> <td>128         </td>\n",
       "        </tr>\n",
       "        <tr>\n",
       "            <td>True           </td> <td>108         </td>\n",
       "        </tr>\n",
       "        <tr>\n",
       "            <td>False          </td> <td>136         </td>\n",
       "        </tr>\n",
       "        <tr>\n",
       "            <td>False          </td> <td>138         </td>\n",
       "        </tr>\n",
       "        <tr>\n",
       "            <td>False          </td> <td>132         </td>\n",
       "        </tr>\n",
       "        <tr>\n",
       "            <td>False          </td> <td>120         </td>\n",
       "        </tr>\n",
       "        <tr>\n",
       "            <td>True           </td> <td>143         </td>\n",
       "        </tr>\n",
       "        <tr>\n",
       "            <td>False          </td> <td>140         </td>\n",
       "        </tr>\n",
       "    </tbody>\n",
       "</table>\n",
       "<p>... (1164 rows omitted)</p>"
      ],
      "text/plain": [
       "Maternal Smoker | Birth Weight\n",
       "False           | 120\n",
       "False           | 113\n",
       "True            | 128\n",
       "True            | 108\n",
       "False           | 136\n",
       "False           | 138\n",
       "False           | 132\n",
       "False           | 120\n",
       "True            | 143\n",
       "False           | 140\n",
       "... (1164 rows omitted)"
      ]
     },
     "execution_count": 6,
     "metadata": {},
     "output_type": "execute_result"
    }
   ],
   "source": [
    "##### tbl.select returns table => tbl.column creates arrays\n",
    "### select outputs table; column ==> array\n",
    "# # births.column('Maternal Smoker')\n",
    "\n",
    "smoking_and_birthweight = births.select('Maternal Smoker', 'Birth Weight')   \n",
    "smoking_and_birthweight"
   ]
  },
  {
   "cell_type": "code",
   "execution_count": 7,
   "id": "3a9d562c-751d-4901-a73d-2cfa3f249035",
   "metadata": {},
   "outputs": [
    {
     "data": {
      "text/html": [
       "<table border=\"1\" class=\"dataframe\">\n",
       "    <thead>\n",
       "        <tr>\n",
       "            <th>Maternal Smoker</th> <th>count</th>\n",
       "        </tr>\n",
       "    </thead>\n",
       "    <tbody>\n",
       "        <tr>\n",
       "            <td>False          </td> <td>715  </td>\n",
       "        </tr>\n",
       "        <tr>\n",
       "            <td>True           </td> <td>459  </td>\n",
       "        </tr>\n",
       "    </tbody>\n",
       "</table>"
      ],
      "text/plain": [
       "Maternal Smoker | count\n",
       "False           | 715\n",
       "True            | 459"
      ]
     },
     "execution_count": 7,
     "metadata": {},
     "output_type": "execute_result"
    }
   ],
   "source": [
    "##### group to count the number of smokers/non-smokers in dataset\n",
    "\n",
    "smoking_and_birthweight.group('Maternal Smoker')"
   ]
  },
  {
   "cell_type": "code",
   "execution_count": 8,
   "id": "72e958a9-11b9-47ba-a1ff-c41a87c65ac7",
   "metadata": {},
   "outputs": [
    {
     "data": {
      "image/png": "[encoded data removed]",
      "text/plain": [
       "<Figure size 600x400 with 1 Axes>"
      ]
     },
     "metadata": {},
     "output_type": "display_data"
    }
   ],
   "source": [
    "##### visualize it first\n",
    "##### # births.column('Maternal Smoker')\n",
    "##### can't find reference to this group argument anywhere\n",
    "\n",
    "import matplotlib.pyplot as plots\n",
    "%matplotlib inline\n",
    "# plt.show()\n",
    "\n",
    "smoking_and_birthweight.hist('Birth Weight', group = 'Maternal Smoker')\n",
    "# smoking_and_birthweight.hist('Birth Weight', group = 'Maternal Smoker', bins=(100))"
   ]
  },
  {
   "cell_type": "code",
   "execution_count": 9,
   "id": "11b0b7db-760e-4912-8db6-e639446379f6",
   "metadata": {},
   "outputs": [],
   "source": [
    "##### it looks slightly different\n",
    "##### is the difference caused by the chance variation? Or by the population?\n"
   ]
  },
  {
   "cell_type": "markdown",
   "id": "c34831cb-b247-4538-8965-dbdd461c82b0",
   "metadata": {},
   "source": [
    "## 12.1.2. The Hypotheses\n",
    "\n",
    "- **null hypothesis**: In this population, the **distribution** of birth weights of babies is the smae for mothers who don't smoke and as for mothers who do. The **difference** of birht weight between the samples is **due to chance**. \n",
    "- **alternative hypothesis**: In the population, the babies of the mothers who smoke have a lower birth weight, **on average**, than the babies of the non-smoking mothers. \n"
   ]
  },
  {
   "cell_type": "markdown",
   "id": "f3fad25a-64a0-4a7e-abc5-ff82c4ed6035",
   "metadata": {},
   "source": [
    "## 12.1.3. Test Statistic\n",
    "\n",
    "- The alternative hypothesis **compares the average birth weights of the two groups** and says that the average for the mothers who smoke is smaller. Therefore it is reasonable for us to use the **difference** between the two **group means** as our statistic."
   ]
  },
  {
   "cell_type": "code",
   "execution_count": 10,
   "id": "728a1390-6b4e-406a-8340-b8aeefb25a98",
   "metadata": {},
   "outputs": [
    {
     "data": {
      "text/plain": [
       "119.46"
      ]
     },
     "execution_count": 10,
     "metadata": {},
     "output_type": "execute_result"
    }
   ],
   "source": [
    "import numpy as np\n",
    "\n",
    "##### what's the average weight?\n",
    "# type(np.mean(births.column('Birth Weight')))\n",
    "num = np.mean(births.column('Birth Weight'))\n",
    "# round(num, 2)\n",
    "\n",
    "### format string \n",
    "float(\"{:,.2f}\".format(num))\n",
    "### f-string\n",
    "# num = f\"{num:.2f}\"\n",
    "# num\n",
    "# float(num)"
   ]
  },
  {
   "cell_type": "code",
   "execution_count": 11,
   "id": "b8a719f8-da17-4a07-bba1-e1c25ea54729",
   "metadata": {},
   "outputs": [
    {
     "data": {
      "text/html": [
       "<table border=\"1\" class=\"dataframe\">\n",
       "    <thead>\n",
       "        <tr>\n",
       "            <th>Maternal Smoker</th> <th>Birth Weight average</th>\n",
       "        </tr>\n",
       "    </thead>\n",
       "    <tbody>\n",
       "        <tr>\n",
       "            <td>False          </td> <td>123.085             </td>\n",
       "        </tr>\n",
       "        <tr>\n",
       "            <td>True           </td> <td>113.819             </td>\n",
       "        </tr>\n",
       "    </tbody>\n",
       "</table>"
      ],
      "text/plain": [
       "Maternal Smoker | Birth Weight average\n",
       "False           | 123.085\n",
       "True            | 113.819"
      ]
     },
     "execution_count": 11,
     "metadata": {},
     "output_type": "execute_result"
    }
   ],
   "source": [
    "import numpy as np\n",
    "\n",
    "##### use the same table, which has weight info, do an average instead of count, \n",
    "##### then with group, we'll have average from both groups\n",
    "\n",
    "means_table = smoking_and_birthweight.group('Maternal Smoker', np.average)   ### use function\n",
    "means_table"
   ]
  },
  {
   "cell_type": "code",
   "execution_count": 44,
   "id": "60f54e56-167e-4ab8-9705-d71b80a5bd64",
   "metadata": {},
   "outputs": [
    {
     "data": {
      "text/plain": [
       "-9.266142572024918"
      ]
     },
     "execution_count": 44,
     "metadata": {},
     "output_type": "execute_result"
    }
   ],
   "source": [
    "##### use column and item to get the difference between the two groups\n",
    "##### this is a technique based on your understanding of table/column/cell access\n",
    "\n",
    "means = means_table.column(1)   ### this is an array\n",
    "# means\n",
    "observed_difference = means.item(1) - means.item(0)\n",
    "observed_difference\n",
    "\n",
    "##### not simulated\n",
    "##### we got this number that is the mean difference of a variable based on smoke-grouping ==> birth-weight"
   ]
  },
  {
   "cell_type": "code",
   "execution_count": 13,
   "id": "23b9def1-732a-45c4-b0d6-f1a6358bd336",
   "metadata": {},
   "outputs": [],
   "source": [
    "### funciton: Variable X and Birth-Weigth\n",
    "### why are we not comparing smoker vs all? the guess is that somker < non-smoker and the \n",
    "### difference would be larger than smoker - average\n",
    "\n",
    "def difference_of_means(table, group_label):\n",
    "    reduced = table.select('Birth Weight', group_label)   ### select two columns and returns table\n",
    "    means_table = reduced.group(group_label, np.average)  ### column/array: average weight\n",
    "    means = means_table.column(1)           ### average weight column\n",
    "    return means.item(1) - means.item(0)    ### difference between the group means (smoker vs non-smoker)\n",
    "    # return means[1] - means[0]            ### you don't have to use item(). "
   ]
  },
  {
   "cell_type": "code",
   "execution_count": 14,
   "id": "99d810b6-2aab-497d-bd5c-00ce1a391128",
   "metadata": {},
   "outputs": [
    {
     "data": {
      "text/plain": [
       "-9.266142572024918"
      ]
     },
     "execution_count": 14,
     "metadata": {},
     "output_type": "execute_result"
    }
   ],
   "source": [
    "difference_of_means(births, 'Maternal Smoker')"
   ]
  },
  {
   "cell_type": "markdown",
   "id": "ec900c52-4e7c-44df-a5d7-e2cdc5c364b7",
   "metadata": {},
   "source": [
    "## 12.1.4. Predicting the Statistic Under the Null Hypothesis\n",
    "\n",
    "- To see how the statistic should vary under the null hypothesis, we have to figure out how to simulate the statistic under that hypothesis.\n",
    "- A clever method based on random permutations does just that.\n",
    "- **Random permutation**: to shuffle all the labels randomly among the mothers. This is called random permutation.\n",
    "- Then, let's compare the **means** of the two groups."
   ]
  },
  {
   "cell_type": "code",
   "execution_count": 15,
   "id": "764e8eeb-b26f-4c7c-90e9-0b42b57783d5",
   "metadata": {},
   "outputs": [
    {
     "data": {
      "text/html": [
       "<table border=\"1\" class=\"dataframe\">\n",
       "    <thead>\n",
       "        <tr>\n",
       "            <th>Maternal Smoker</th> <th>Birth Weight</th>\n",
       "        </tr>\n",
       "    </thead>\n",
       "    <tbody>\n",
       "        <tr>\n",
       "            <td>False          </td> <td>120         </td>\n",
       "        </tr>\n",
       "        <tr>\n",
       "            <td>False          </td> <td>113         </td>\n",
       "        </tr>\n",
       "        <tr>\n",
       "            <td>True           </td> <td>128         </td>\n",
       "        </tr>\n",
       "    </tbody>\n",
       "</table>\n",
       "<p>... (1171 rows omitted)</p>"
      ],
      "text/plain": [
       "<IPython.core.display.HTML object>"
      ]
     },
     "metadata": {},
     "output_type": "display_data"
    }
   ],
   "source": [
    "smoking_and_birthweight.show(3)"
   ]
  },
  {
   "cell_type": "code",
   "execution_count": 16,
   "id": "21477a3d-9cca-4023-8440-c8f993be4866",
   "metadata": {},
   "outputs": [],
   "source": [
    "##### use sample() to shuffle \n",
    "##### sample() will take everyone\n",
    "##### place the column to the table\n",
    "\n",
    "shuffled_labels = smoking_and_birthweight.sample(with_replacement=False).column(0)  ### a shuffled column\n",
    "original_and_shuffled = smoking_and_birthweight.with_column('Shuffled Label', shuffled_labels)"
   ]
  },
  {
   "cell_type": "code",
   "execution_count": 17,
   "id": "d63a194d-6fd2-4e7a-b9bb-753985cc5341",
   "metadata": {},
   "outputs": [
    {
     "data": {
      "text/html": [
       "<table border=\"1\" class=\"dataframe\">\n",
       "    <thead>\n",
       "        <tr>\n",
       "            <th>Maternal Smoker</th> <th>Birth Weight</th> <th>Shuffled Label</th>\n",
       "        </tr>\n",
       "    </thead>\n",
       "    <tbody>\n",
       "        <tr>\n",
       "            <td>False          </td> <td>120         </td> <td>False         </td>\n",
       "        </tr>\n",
       "        <tr>\n",
       "            <td>False          </td> <td>113         </td> <td>False         </td>\n",
       "        </tr>\n",
       "        <tr>\n",
       "            <td>True           </td> <td>128         </td> <td>True          </td>\n",
       "        </tr>\n",
       "        <tr>\n",
       "            <td>True           </td> <td>108         </td> <td>False         </td>\n",
       "        </tr>\n",
       "        <tr>\n",
       "            <td>False          </td> <td>136         </td> <td>True          </td>\n",
       "        </tr>\n",
       "    </tbody>\n",
       "</table>\n",
       "<p>... (1169 rows omitted)</p>"
      ],
      "text/plain": [
       "<IPython.core.display.HTML object>"
      ]
     },
     "metadata": {},
     "output_type": "display_data"
    }
   ],
   "source": [
    "original_and_shuffled.show(5)"
   ]
  },
  {
   "cell_type": "code",
   "execution_count": 18,
   "id": "3f399ff7-688f-4881-9ac0-724aaa1bec9d",
   "metadata": {},
   "outputs": [
    {
     "data": {
      "text/html": [
       "<table border=\"1\" class=\"dataframe\">\n",
       "    <thead>\n",
       "        <tr>\n",
       "            <th>Shuffled Label</th> <th>Birth Weight average</th>\n",
       "        </tr>\n",
       "    </thead>\n",
       "    <tbody>\n",
       "        <tr>\n",
       "            <td>False         </td> <td>119.648             </td>\n",
       "        </tr>\n",
       "        <tr>\n",
       "            <td>True          </td> <td>119.174             </td>\n",
       "        </tr>\n",
       "    </tbody>\n",
       "</table>"
      ],
      "text/plain": [
       "Shuffled Label | Birth Weight average\n",
       "False          | 119.648\n",
       "True           | 119.174"
      ]
     },
     "execution_count": 18,
     "metadata": {},
     "output_type": "execute_result"
    }
   ],
   "source": [
    "##### check the average weights in the two groups\n",
    "shuffled_only = original_and_shuffled.select('Birth Weight', 'Shuffled Label')\n",
    "shuffled_group_means = shuffled_only.group('Shuffled Label', np.average)   ### group means!!!!!\n",
    "shuffled_group_means"
   ]
  },
  {
   "cell_type": "code",
   "execution_count": 19,
   "id": "48fc57be-fb99-4771-b669-01f33e32d947",
   "metadata": {},
   "outputs": [
    {
     "data": {
      "text/plain": [
       "-0.4732605085546169"
      ]
     },
     "execution_count": 19,
     "metadata": {},
     "output_type": "execute_result"
    }
   ],
   "source": [
    "### finding the differences of the shuffled \n",
    "difference_of_means(original_and_shuffled, 'Shuffled Label')"
   ]
  },
  {
   "cell_type": "code",
   "execution_count": 20,
   "id": "363bf65d-d82f-452f-bad5-4d1a2ccc3db1",
   "metadata": {},
   "outputs": [
    {
     "data": {
      "text/plain": [
       "-9.266142572024918"
      ]
     },
     "execution_count": 20,
     "metadata": {},
     "output_type": "execute_result"
    }
   ],
   "source": [
    "difference_of_means(original_and_shuffled, 'Maternal Smoker')   ### we have this"
   ]
  },
  {
   "cell_type": "code",
   "execution_count": 21,
   "id": "76073818-5059-46b4-a6cd-423096f9bed5",
   "metadata": {},
   "outputs": [],
   "source": [
    "### get the variability between the gorups means\n",
    "### let's use the original table 'births'\n",
    "\n",
    "def one_simulated_difference_of_means():\n",
    "    ##### array of shuffled lables\n",
    "    ##### this is the random part\n",
    "    shuffled_labels = births.sample(with_replacement=False).column('Maternal Smoker')\n",
    "\n",
    "    ### table of birth weights and shuffled labels\n",
    "    ### the logic should be 1) create columns; 2_ add columns together\n",
    "    shuffled_table = births.select('Birth Weight').with_column(\n",
    "    'Shuffled Label', shuffled_labels)\n",
    "\n",
    "    ### send the args to function\n",
    "    return difference_of_means(shuffled_table, 'Shuffled Label')"
   ]
  },
  {
   "cell_type": "code",
   "execution_count": 22,
   "id": "37788a19-d3be-4a3e-abaa-3e4bf32ac434",
   "metadata": {},
   "outputs": [
    {
     "data": {
      "text/plain": [
       "-0.1656169538522505"
      ]
     },
     "execution_count": 22,
     "metadata": {},
     "output_type": "execute_result"
    }
   ],
   "source": [
    "one_simulated_difference_of_means()"
   ]
  },
  {
   "cell_type": "markdown",
   "id": "456b28f6-322b-410f-811a-ef87f4446f1f",
   "metadata": {},
   "source": [
    "## 12.1.5. Permutation Test\n",
    "\n",
    "- https://en.wikipedia.org/wiki/Permutation_test\n",
    "- A permutation test (also called re-randomization test or shuffle test) is an exact statistical hypothesis test making use of the proof by contradiction. A permutation test involves two or more samples. The null hypothesis is that all samples come from the same distribution H0: F = G. Under the null hypothesis, the distribution of the test statistic is obtained by calculating all possible values of the test statistic under possible rearrangements of the observed data. Permutation tests are, therefore, a form of resampling."
   ]
  },
  {
   "cell_type": "code",
   "execution_count": 23,
   "id": "4de6fe4b-1910-49a4-be5a-42eaa8b1f645",
   "metadata": {},
   "outputs": [],
   "source": [
    "### simulate our test statistic – the difference between the average birth \n",
    "### weight of the two randomly formed groups\n",
    "\n",
    "differences = make_array()   \n",
    "repetitions = 1000\n",
    "\n",
    "for i in np.arange(repetitions):\n",
    "    new_difference = one_simulated_difference_of_means()\n",
    "    differences = np.append(differences, new_difference)"
   ]
  },
  {
   "cell_type": "code",
   "execution_count": 24,
   "id": "30fa45ed-638e-4bd4-ac34-1438e472c0f3",
   "metadata": {},
   "outputs": [
    {
     "data": {
      "text/plain": [
       "array([ 1.04349376, -0.10122644, -1.2423694 , -0.84171732,  0.07405884,\n",
       "        1.71243963, -1.85407925, -1.2566784 , -0.36236574, -0.66285479,\n",
       "        2.60675229, -1.65017597, -1.28171915, -0.79521307, -1.62871246,\n",
       "        1.34040556, -1.13505188, -1.23521489, -1.48919969, -1.5464357 ,\n",
       "        1.39406432, -0.09764919,  0.84316773, -0.91683959, -0.83456282,\n",
       "        0.82170422, -0.55196002,  0.67503695, -0.06545394, -1.63944422,\n",
       "       -0.34447949, -1.77895699,  0.80739522,  0.01682283, -1.69668023,\n",
       "        0.61064643,  0.33877539,  1.31536481, -1.16724713,  1.32967381,\n",
       "       -0.62350504, -0.28724348,  0.78235446,  0.71080945, -0.76301781,\n",
       "        1.35471457,  1.25455155, -1.66448497, -1.15293813,  0.16706736,\n",
       "        0.02397733, -1.44984993, -1.88269726, -0.64139129,  1.2366653 ,\n",
       "       -0.48041501,  1.34398281,  1.8304889 ,  1.64089462, -1.5750537 ,\n",
       "       -1.43911818,  1.04349376, -0.48399226,  0.7215412 ,  1.77683014,\n",
       "        1.2652833 ,  0.46755641,  0.83601322,  0.35308439, -1.26741015,\n",
       "        0.92902174, -1.0098481 ,  0.59991468,  0.46040191,  0.83601322,\n",
       "       -0.1405762 , -2.65896065,  1.60869936,  2.21683197, -0.29797523,\n",
       "        1.00056675, -0.38740649, -0.48041501, -1.05992961, -1.90058351,\n",
       "        0.71796395, -0.20854396,  0.73942746,  2.359922  , -0.06187669,\n",
       "       -0.97049835, -1.44984993,  0.51763792,  0.7143867 , -0.1620397 ,\n",
       "        0.81454972, -1.40692292, -0.29797523, -0.18708046, -0.88464433,\n",
       "       -1.07066136, -0.06903119,  1.10072977,  0.94333074, -0.79879032,\n",
       "       -0.1477307 ,  0.95048524, -0.50545576,  0.74658196, -1.53570395,\n",
       "       -0.29797523,  1.49780459,  0.26365312,  0.9969895 ,  0.08836784,\n",
       "        1.2509743 , -0.39098374, -1.13505188, -0.90968509,  1.38333257,\n",
       "        0.75731371,  1.00772125, -0.85960358, -0.04399043, -1.14578363,\n",
       "        1.89845666, -1.22090589,  0.4103204 ,  1.03633926,  1.88057041,\n",
       "        0.32088913,  0.23861237, -1.06708411,  0.49259716, -0.26935722,\n",
       "        1.04349376, -1.56432195,  0.1420266 ,  1.08642077, -0.1262672 ,\n",
       "        0.20283986, -0.77017231, -0.10122644,  1.15796578, -0.46968326,\n",
       "        0.9540625 ,  0.97194875, -0.04399043, -0.27651172, -0.93114859,\n",
       "       -1.0098481 ,  0.33162088,  0.59276018,  1.59081311,  1.88414766,\n",
       "        0.89682649, -1.0026936 , -1.11358837, -1.56432195, -0.59488703,\n",
       "       -0.52691927, -2.06513704,  0.07405884, -1.17440163, -1.60724896,\n",
       "       -0.17634871, -1.79684324,  0.7215412 , -1.19586514, -0.76659506,\n",
       "       -0.26220272, -0.06545394, -2.20107257,  2.22756372, -1.07781587,\n",
       "        0.56414218,  0.63568719, -1.57863096, -0.9955391 , -2.19391806,\n",
       "       -1.27456465,  0.02040008, -0.64496854, -0.1262672 ,  1.09357527,\n",
       "        1.8519524 , -0.29797523, -0.48041501,  0.51048342, -0.1620397 ,\n",
       "       -1.5464357 , -0.06903119, -0.75586331,  1.16154303, -0.09049469,\n",
       "        1.34040556,  1.01487576, -0.10838094,  1.84122065,  0.52479242,\n",
       "       -2.6625379 ,  0.38527964, -0.91683959,  1.44772308,  0.01324558,\n",
       "        0.73942746, -0.02610418, -0.15846245,  0.1205631 , -1.12789737,\n",
       "       -0.94545759, -0.20496671,  0.03113183, -0.92041684,  0.52836967,\n",
       "       -0.98480735,  1.40479608, -0.61635053,  1.69813063,  0.02755458,\n",
       "       -0.87033533, -0.26577997, -1.49993144, -0.14415345,  1.81260265,\n",
       "        1.84122065, -0.09049469,  0.30658013, -1.40692292,  0.36381614,\n",
       "       -0.75944056, -0.7343998 ,  2.01650593,  1.30105581, -0.9669211 ,\n",
       "        2.02008318,  0.02755458,  1.20804729, -2.17960906,  0.1420266 ,\n",
       "       -0.03325868, -0.46610601, -0.7343998 , -0.50187851, -0.52334202,\n",
       "        0.33162088, -0.28724348,  1.22593354,  1.42983683,  1.23308804,\n",
       "       -1.23521489, -0.31228423,  0.17064461,  1.16869753,  1.17585203,\n",
       "       -1.30318266,  0.73585021,  0.88609473, -0.23358472,  1.2652833 ,\n",
       "       -0.1405762 , -0.1191127 ,  1.04707101, -0.53049652, -0.423179  ,\n",
       "        1.91276567,  1.22593354, -1.33895516, -0.68789555,  0.04901808,\n",
       "       -0.20854396,  0.92186724,  0.39243415, -2.19034081, -1.01342535,\n",
       "        0.05974984,  0.65357344,  0.61780094,  0.17422186,  0.54625592,\n",
       "        0.56056493, -1.33895516, -0.89537608,  2.03081494, -1.10285662,\n",
       "       -0.19423496, -0.31586148, -0.61635053, -0.04041318,  0.11698585,\n",
       "        0.44967016, -1.21017414, -0.60204153, -0.14415345,  0.1420266 ,\n",
       "       -0.1620397 ,  2.22040922,  0.21357161, -0.31943873,  0.73942746,\n",
       "       -0.23716197, -0.25504822,  1.13292503,  0.60706918, -1.04562061,\n",
       "       -0.60561878, -0.6986273 , -0.9812301 ,  0.52479242,  0.9826805 ,\n",
       "       -0.53407377,  0.04186358, -1.09570212,  0.66788244, -0.03683593,\n",
       "        0.22072611,  0.975526  , -0.7129363 ,  0.75373646, -0.78448131,\n",
       "       -1.61440346,  0.03828633,  0.56056493,  1.32251931, -0.68789555,\n",
       "        0.64999619, -0.67000929,  1.76967564, -1.51781769, -0.66643204,\n",
       "        0.11698585, -0.9955391 ,  0.67503695, -1.38545942,  0.03470908,\n",
       "       -2.56595213,  0.10267684, -2.02578728, -0.33374773,  0.27796213,\n",
       "       -2.10806405,  0.22072611, -0.9955391 ,  0.04544083,  0.72869571,\n",
       "        1.46918659, -0.77374956,  0.52121517,  0.06690434, -0.22285296,\n",
       "       -3.32432927, -0.17992596,  0.49975166, -0.06903119, -0.80236757,\n",
       "       -0.30870698,  1.07568902,  1.63016287,  0.09909959,  0.30300288,\n",
       "        0.73227296,  0.11698585, -0.79163582,  0.35666164, -1.32822341,\n",
       "        0.49617441, -0.55911452,  0.68934595, -0.49114676, -0.80236757,\n",
       "       -0.29082073, -1.32464616, -0.41244725, -1.21732864, -0.65927754,\n",
       "        1.44772308,  0.91828999,  0.4174749 ,  0.48901991,  0.52836967,\n",
       "        1.14723403,  1.19373829, -1.48919969, -0.37667474,  2.48154852,\n",
       "       -0.59130978, -0.21569846, -1.56432195, -0.55911452, -1.42123193,\n",
       "        0.83243597,  1.98073343, -1.30675991,  0.74658196, -0.70935905,\n",
       "       -0.9597666 , -0.9669211 , -0.54480552,  0.73227296, -1.70741198,\n",
       "        0.26723037,  0.03470908, -0.55553727,  0.15991285,  0.85032223,\n",
       "        0.18495361, -1.45700443,  0.83959047, -0.83098557, -1.15651538,\n",
       "       -0.17992596, -0.17634871, -1.89342901, -0.77017231, -1.07781587,\n",
       "       -0.04041318, -0.87748983, -0.81667657,  0.17779911,  0.74300471,\n",
       "        2.44935326, -0.33374773, -1.2495239 ,  1.45487758, -1.10643387,\n",
       "        1.2366653 , -1.836193  ,  0.37812514, -0.29439798,  1.02560751,\n",
       "        0.21714886,  0.35666164,  0.1348721 ,  0.80739522,  1.09357527,\n",
       "       -0.55196002,  0.7072322 ,  0.25292137,  1.81260265,  0.23861237,\n",
       "        0.05259533, -3.18839374, -0.77732681, -2.20107257,  0.63568719,\n",
       "       -1.00627085, -1.05635236,  1.23308804,  1.60869936,  0.35308439,\n",
       "        0.04544083,  0.82528147, -0.82740832,  1.17227478,  1.77683014,\n",
       "        1.55146335,  1.8233344 ,  0.87894023, -1.39261392,  2.82496458,\n",
       "       -0.25147097, -0.27651172,  0.14560385, -0.50187851,  0.85032223,\n",
       "       -0.22285296,  0.43536115,  0.62137819,  0.1348721 , -0.06545394,\n",
       "        0.71796395, -0.64139129,  0.25292137,  0.86105398, -1.32464616,\n",
       "       -0.44106525,  1.02203026,  0.31373463,  0.57487393,  1.44056858,\n",
       "        1.05422551, -1.16009263,  0.93617624, -0.97049835,  1.26170605,\n",
       "        0.06332709, -0.17277146,  0.20283986, -1.821884  , -0.9955391 ,\n",
       "       -0.20854396,  0.28153938,  0.20999436,  0.15275835, -0.43391075,\n",
       "       -1.5678992 , -0.4017155 , -1.77180249, -1.07066136, -2.01863278,\n",
       "        0.6929232 , -1.46773619,  1.29747856,  1.98073343,  0.91113549,\n",
       "        0.32088913, -1.45700443, -1.41765468, -0.437488  ,  0.58560568,\n",
       "       -1.46415893, -1.821884  ,  0.24218962, -0.57700078,  0.64641894,\n",
       "       -0.38025199, -1.12789737,  1.64804912,  0.961217  ,  0.95048524,\n",
       "        1.02560751, -0.93830309,  0.61780094, -0.31228423,  0.49259716,\n",
       "        1.53715435,  0.18853086, -1.92204702,  0.23145787, -1.31749166,\n",
       "       -0.34090224,  1.32609656, -0.35521124,  0.86105398,  1.50853634,\n",
       "       -2.6983104 ,  1.63731737,  0.86463123,  0.63210994, -1.16366988,\n",
       "        0.17064461, -0.46968326,  0.36739339, -1.75033899, -0.04756768,\n",
       "        0.28511663, -1.73602998,  1.00772125, -0.21212121,  2.72480156,\n",
       "       -0.58773253, -1.87196551, -0.4303335 , -1.60009446, -0.22285296,\n",
       "        0.04544083, -1.11716562,  1.80544815,  2.27764523,  0.20999436,\n",
       "       -0.92757134,  0.36023889, -1.61440346, -0.92399409,  1.88772491,\n",
       "       -0.04399043, -0.97765285,  0.63926444,  0.90755824,  1.10430702,\n",
       "        0.989835  , -0.10122644,  0.73227296, -0.18350321,  0.24218962,\n",
       "        0.80024072,  0.79666347, -1.04919786,  0.9683715 , -0.12984445,\n",
       "       -0.88106708,  0.80381797, -1.48204519, -0.53049652, -1.30675991,\n",
       "        0.37097064,  0.35308439,  0.66430519, -1.65733047, -1.87554276,\n",
       "       -1.23163764, -1.86481101,  0.1491811 ,  1.67308987,  0.39243415,\n",
       "       -0.05472218,  2.29910873, -0.26935722,  0.26007587,  0.07405884,\n",
       "        1.44414583, -1.49635419, -0.65927754, -0.423179  , -0.05829943,\n",
       "        0.4103204 , -2.25473133, -0.54838277,  0.79308622, -0.39456099,\n",
       "        1.36544632,  0.26007587, -3.30286576,  0.19926261,  0.4174749 ,\n",
       "       -0.99196185,  0.20641711,  0.85032223,  1.05064826,  0.10625409,\n",
       "       -0.7057818 ,  0.03470908,  1.17942929,  1.98073343, -0.60919603,\n",
       "        0.08836784,  1.28316955,  1.88057041, -2.68042415,  0.06332709,\n",
       "       -0.93114859,  0.76446821, -0.17277146, -1.5750537 , -0.85244908,\n",
       "       -2.9451407 ,  1.37260082, -0.73082255,  0.31731188, -0.48041501,\n",
       "       -0.82025382,  0.81812697,  0.65357344,  1.15796578,  0.66788244,\n",
       "        0.74300471, -1.01342535,  0.56056493, -2.22969057, -0.24431647,\n",
       "       -1.01342535, -2.18676356, -0.28366622, -1.98286028,  1.98431068,\n",
       "        0.93259899,  0.10983135,  0.07048159, -0.11195819,  0.56414218,\n",
       "       -1.04562061,  0.975526  , -0.65927754,  0.91828999,  2.07016469,\n",
       "       -0.21212121,  1.32251931, -0.47326051,  0.10267684, -1.18155613,\n",
       "       -0.28008897,  0.65357344, -1.37830492,  0.19210811,  0.46397916,\n",
       "       -0.437488  ,  1.20804729, -0.45895151, -0.7057818 , -0.28724348,\n",
       "        0.21357161,  0.02755458,  0.18137636,  0.09909959,  1.15081128,\n",
       "        1.74105764, -0.41244725,  1.39406432,  0.61422368, -1.45342718,\n",
       "       -1.23163764,  0.73942746, -0.36952024, -0.73082255, -0.1405762 ,\n",
       "       -0.84171732, -0.24789372,  0.95048524,  1.46918659, -1.22448314,\n",
       "        1.12577053,  0.66072794,  0.57845118, -0.93114859,  0.02755458,\n",
       "       -0.66285479,  0.35308439, -0.67716379, -1.05635236, -1.17797888,\n",
       "        0.38527964, -1.36399592, -3.16693024, -0.74155431,  0.59991468,\n",
       "        0.42105215, -1.61798071,  0.28153938,  0.36381614, -0.92757134,\n",
       "       -0.30870698,  1.83406615, -0.92757134,  1.97357893,  0.14560385,\n",
       "        0.18495361, -1.24594665, -1.47489069,  0.91471274, -1.35326417,\n",
       "        0.54267867,  0.35666164,  0.68219145,  0.67145969,  0.53910142,\n",
       "        1.97715618,  0.04186358, -1.03131161, -1.07423862,  1.24024255,\n",
       "       -1.34968691,  0.57129668,  0.29227113, -0.55553727,  0.07405884,\n",
       "       -1.22448314,  0.27080762,  1.25455155,  0.27080762, -1.13505188,\n",
       "        1.40479608, -1.5321267 , -0.83814007,  0.85389948, -2.07586879,\n",
       "       -0.59130978,  1.8519524 ,  0.51048342, -1.04919786, -1.42480918,\n",
       "        0.45324741,  0.85747673,  0.19926261, -0.45895151,  0.22430337,\n",
       "       -0.1334217 ,  0.9683715 , -0.60204153,  1.68024437,  0.33162088,\n",
       "        0.11698585, -0.12984445, -0.4017155 ,  0.32804363, -0.55196002,\n",
       "       -0.50903301, -1.50708594, -0.65212304,  0.58918293, -0.19781221,\n",
       "        0.28511663, -0.20138946, -1.70741198, -0.39098374, -0.7272453 ,\n",
       "       -0.70220455, -1.78968874, -0.48041501, -1.95781952,  1.62658561,\n",
       "        0.57129668,  0.21357161, -0.59846428, -1.5249722 ,  0.7143867 ,\n",
       "       -1.07066136,  0.13129485,  0.80024072,  0.54267867,  1.18658379,\n",
       "        1.11146152,  1.31894206,  0.73227296, -0.38025199, -0.75228606,\n",
       "       -0.74155431,  0.94690799, -0.7057818 , -0.51261027,  1.39406432,\n",
       "        0.42105215,  1.8304889 , -0.27293447,  0.80739522,  1.12219328,\n",
       "       -1.45700443, -1.5464357 , -2.14741381, -0.97765285, -0.54480552,\n",
       "        0.02040008,  0.18495361, -0.23358472, -0.52691927, -0.42675625,\n",
       "       -0.01537243,  0.29584838, -2.03294179, -2.40497585,  1.63374012,\n",
       "       -0.79521307, -1.50708594, -0.97049835,  0.29942563, -2.02221003,\n",
       "       -0.09049469, -1.18155613,  1.44414583, -1.38545942, -0.24789372,\n",
       "        1.95569267,  0.53910142,  0.37812514,  0.68219145, -1.06350686,\n",
       "       -0.46610601, -0.53765102, -0.58415528, -0.71651355, -0.87391258,\n",
       "        0.33877539, -0.56984628, -0.04399043, -0.38740649,  2.402849  ,\n",
       "       -0.33017048, -0.77017231, -0.56984628,  0.93259899,  0.03828633,\n",
       "       -0.84171732, -0.37667474,  0.17422186, -0.06187669,  0.07048159,\n",
       "        0.17064461, -1.821884  , -1.06350686, -2.55164313, -1.47131344,\n",
       "       -0.15130795,  0.85389948, -0.08691744,  1.21877904,  0.19210811,\n",
       "       -0.70935905, -0.18708046, -0.47683776,  1.29032406, -0.28724348,\n",
       "       -0.19423496,  0.50690617, -0.85602633,  1.12934778,  0.24934412,\n",
       "        0.66788244, -0.64854579,  0.989835  ,  1.83406615, -0.45895151,\n",
       "        0.13129485, -1.33537791,  0.77877721,  0.64284169,  1.5550406 ,\n",
       "       -0.40887   , -0.39813825,  0.72511845,  0.67145969, -1.11358837,\n",
       "        0.59276018, -0.39813825, -1.11001112, -0.21569846, -1.53570395,\n",
       "       -1.45700443, -0.6986273 , -0.87748983, -1.28887365,  1.88414766,\n",
       "       -0.04756768,  2.28479973, -0.54838277, -1.03488886,  0.83959047,\n",
       "       -1.08854762, -1.07066136, -1.850502  ,  1.33682831, -2.64107439,\n",
       "        1.04349376, -1.10643387,  1.34756007,  0.73585021,  0.1491811 ,\n",
       "       -1.38903667,  0.19926261,  1.02203026, -0.80952207,  1.06138001,\n",
       "        0.4317839 , -1.5678992 ,  0.67503695,  0.90040374,  1.87699316,\n",
       "        0.89682649, -0.29797523, -0.59846428, -0.51976477,  0.87536298,\n",
       "        2.12382345,  0.24934412,  0.1491811 , -0.54838277, -0.56984628,\n",
       "        0.57487393, -0.64139129, -0.94903484,  2.74984231, -1.46773619,\n",
       "       -0.58415528, -1.01342535, -0.35521124, -0.01537243, -1.91131526,\n",
       "        0.36023889, -0.64139129, -0.55196002,  0.80381797,  0.97194875,\n",
       "       -0.56984628, -1.57863096,  2.359922  ,  1.47634109,  1.01129851,\n",
       "       -0.45537426, -0.21212121,  1.88772491, -0.24431647, -1.23879214,\n",
       "        0.29227113, -0.75228606, -1.19586514, -0.86675808, -0.1262672 ,\n",
       "       -0.05829943,  1.02918476, -0.7200908 , -0.47683776, -0.43391075,\n",
       "        0.1563356 , -0.02252693,  0.51763792,  2.23114097, -1.03488886,\n",
       "        0.20283986,  0.1205631 , -0.64496854,  1.47276384, -0.80236757,\n",
       "       -1.33180066, -0.56626903,  0.57845118, -0.76301781, -1.66806222,\n",
       "       -0.03325868,  1.27601505,  1.11146152,  1.74463489, -0.64854579])"
      ]
     },
     "execution_count": 24,
     "metadata": {},
     "output_type": "execute_result"
    }
   ],
   "source": [
    "differences"
   ]
  },
  {
   "cell_type": "markdown",
   "id": "24e01e3b-3e50-41e6-872d-35da813ae88d",
   "metadata": {},
   "source": [
    "## 12.1.6. Conclusion of the Test"
   ]
  },
  {
   "cell_type": "code",
   "execution_count": 25,
   "id": "f706eb8b-9fa8-4be8-8558-576d932898ff",
   "metadata": {},
   "outputs": [
    {
     "name": "stdout",
     "output_type": "stream",
     "text": [
      "Observed Difference: -9.266142572024918\n"
     ]
    },
    {
     "data": {
      "text/plain": [
       "Text(0.5, 1.0, 'Prediction Under the Null Hypothesis')"
      ]
     },
     "execution_count": 25,
     "metadata": {},
     "output_type": "execute_result"
    },
    {
     "data": {
      "image/png": "[encoded data removed]",
      "text/plain": [
       "<Figure size 600x400 with 1 Axes>"
      ]
     },
     "metadata": {},
     "output_type": "display_data"
    }
   ],
   "source": [
    "### create a table for visualization\n",
    "Table().with_column('Difference Between Group Means', differences).hist()\n",
    "print('Observed Difference:', observed_difference)\n",
    "plots.title('Prediction Under the Null Hypothesis')"
   ]
  },
  {
   "cell_type": "code",
   "execution_count": 26,
   "id": "2283a62c-69a0-4748-8ecc-e930c27c0bed",
   "metadata": {},
   "outputs": [
    {
     "data": {
      "text/plain": [
       "0.0"
      ]
     },
     "execution_count": 26,
     "metadata": {},
     "output_type": "execute_result"
    }
   ],
   "source": [
    "##### Conclusion: The data favor the alternative over the null.\n",
    "##### p-value\n",
    "empirical_p = np.count_nonzero(differences <= observed_difference) / repetitions\n",
    "empirical_p"
   ]
  },
  {
   "cell_type": "markdown",
   "id": "805ebe69-95e2-4d19-ae4e-48595951f1a4",
   "metadata": {},
   "source": [
    "## 12.1.7. Another Permutation Test\n",
    "\n",
    "- Compare other attributes: how about smoker x age\n",
    "- Are smokers younger than non-smokers?"
   ]
  },
  {
   "cell_type": "code",
   "execution_count": 27,
   "id": "44c990ee-c78f-4b74-9825-cd3e2229312b",
   "metadata": {},
   "outputs": [
    {
     "data": {
      "text/html": [
       "<table border=\"1\" class=\"dataframe\">\n",
       "    <thead>\n",
       "        <tr>\n",
       "            <th>Maternal Smoker</th> <th>Maternal Age</th>\n",
       "        </tr>\n",
       "    </thead>\n",
       "    <tbody>\n",
       "        <tr>\n",
       "            <td>False          </td> <td>27          </td>\n",
       "        </tr>\n",
       "        <tr>\n",
       "            <td>False          </td> <td>33          </td>\n",
       "        </tr>\n",
       "        <tr>\n",
       "            <td>True           </td> <td>28          </td>\n",
       "        </tr>\n",
       "        <tr>\n",
       "            <td>True           </td> <td>23          </td>\n",
       "        </tr>\n",
       "        <tr>\n",
       "            <td>False          </td> <td>25          </td>\n",
       "        </tr>\n",
       "    </tbody>\n",
       "</table>\n",
       "<p>... (1169 rows omitted)</p>"
      ],
      "text/plain": [
       "<IPython.core.display.HTML object>"
      ]
     },
     "metadata": {},
     "output_type": "display_data"
    }
   ],
   "source": [
    "smoking_and_age = births.select('Maternal Smoker', 'Maternal Age')   ### get the new table\n",
    "smoking_and_age.show(5)\n",
    "\n",
    "##### smokers seem to be younger?"
   ]
  },
  {
   "cell_type": "code",
   "execution_count": 28,
   "id": "8e6f19de-8560-4970-b12b-c50bc05ed974",
   "metadata": {},
   "outputs": [
    {
     "data": {
      "image/png": "[encoded data removed]",
      "text/plain": [
       "<Figure size 600x400 with 1 Axes>"
      ]
     },
     "metadata": {},
     "output_type": "display_data"
    }
   ],
   "source": [
    "smoking_and_age.hist('Maternal Age', group = 'Maternal Smoker')"
   ]
  },
  {
   "cell_type": "code",
   "execution_count": 29,
   "id": "7a89a847-5784-46a1-b655-5ece383dd8a7",
   "metadata": {},
   "outputs": [
    {
     "data": {
      "image/png": "[encoded data removed]",
      "text/plain": [
       "<Figure size 600x400 with 1 Axes>"
      ]
     },
     "metadata": {},
     "output_type": "display_data"
    }
   ],
   "source": [
    "smoking_and_age.hist('Maternal Age', group = 'Maternal Smoker', bins=30)"
   ]
  },
  {
   "cell_type": "code",
   "execution_count": 30,
   "id": "21f65a42-c30a-4e5e-9ec5-0ee9d72115b5",
   "metadata": {},
   "outputs": [],
   "source": [
    "##### badly designed function: do not hard-code \"Maternal Age\"\n",
    "##### this function is for age...\n",
    "\n",
    "def difference_of_means(table, group_label):\n",
    "    reduced = table.select('Maternal Age', group_label)   ### select the two columns (age, smoke) ==> table\n",
    "    means_table = reduced.group(group_label, np.average)  ### group by label & average the age\n",
    "    means = means_table.column(1)                         ### select the column/array (age averages of two groups)\n",
    "    return means.item(1) - means.item(0)                  ### calculate the difference between smoke & none"
   ]
  },
  {
   "cell_type": "code",
   "execution_count": 31,
   "id": "ea3b3f87-ef2b-49aa-bd02-4934e3724836",
   "metadata": {},
   "outputs": [
    {
     "data": {
      "text/plain": [
       "-0.8076725017901509"
      ]
     },
     "execution_count": 31,
     "metadata": {},
     "output_type": "execute_result"
    }
   ],
   "source": [
    "observed_age_difference = difference_of_means(births, 'Maternal Smoker')\n",
    "observed_age_difference\n",
    "\n",
    "### the difference is calculated as the mean age of the smokers minus the mean age of the non-smokers."
   ]
  },
  {
   "cell_type": "code",
   "execution_count": 32,
   "id": "70b765de-4668-443e-a4f5-1e1443ff56a6",
   "metadata": {},
   "outputs": [],
   "source": [
    "##### simulation: instead of usign the MS T/F labels, use shuffled labels!!!!!!!!\n",
    "\n",
    "def one_simulated_difference_of_means():\n",
    "\n",
    "    # array of shuffled labels\n",
    "    shuffled_labels = births.sample(with_replacement=False).column('Maternal Smoker')\n",
    "\n",
    "    # table of ages and shuffled lables\n",
    "    shuffled_table = births.select('Maternal Age').with_column(\n",
    "    'Shuffled Label', shuffled_labels)\n",
    "\n",
    "    return difference_of_means(shuffled_table, 'Shuffled Label')\n",
    "\n",
    "# def one_simulated_difference_of_means():\n",
    "#     \"\"\"Returns: Difference between mean ages\n",
    "#     of smokers and non-smokers after shuffling labels\"\"\"\n",
    "    \n",
    "#     # array of shuffled labels\n",
    "#     shuffled_labels = births.sample(with_replacement=False).column('Maternal Smoker')\n",
    "    \n",
    "#     # table of ages and shuffled labels\n",
    "#     shuffled_table = births.select('Maternal Age').with_column(\n",
    "#         'Shuffled Label', shuffled_labels)\n",
    "    \n",
    "#     return difference_of_means(shuffled_table, 'Shuffled Label')   "
   ]
  },
  {
   "cell_type": "code",
   "execution_count": 33,
   "id": "44a08750-37bc-4445-8bb4-36e15d8982e7",
   "metadata": {},
   "outputs": [],
   "source": [
    "age_differences = make_array()\n",
    "repetitions = 5000\n",
    "\n",
    "for i in np.arange(repetitions):\n",
    "    new_difference = one_simulated_difference_of_means()\n",
    "    age_differences = np.append(age_differences, new_difference)\n",
    "\n",
    "# age_differences = make_array()\n",
    "\n",
    "# repetitions = 5000\n",
    "# for i in np.arange(repetitions):\n",
    "#     new_difference = one_simulated_difference_of_means()\n",
    "#     age_differences = np.append(age_differences, new_difference)"
   ]
  },
  {
   "cell_type": "code",
   "execution_count": 34,
   "id": "35c26857-2a63-4aa0-92ba-59c3dc4549a9",
   "metadata": {},
   "outputs": [
    {
     "data": {
      "text/plain": [
       "array([ 0.36208846, -0.03498636, -0.29254841, ...,  0.18680318,\n",
       "       -0.2567759 ,  0.25119369])"
      ]
     },
     "execution_count": 34,
     "metadata": {},
     "output_type": "execute_result"
    }
   ],
   "source": [
    "age_differences"
   ]
  },
  {
   "cell_type": "code",
   "execution_count": 35,
   "id": "9140e7e0-1f59-4b72-9bd5-0010212352c8",
   "metadata": {},
   "outputs": [
    {
     "name": "stdout",
     "output_type": "stream",
     "text": [
      "Observed Difference: -0.8076725017901509\n"
     ]
    },
    {
     "data": {
      "image/png": "[encoded data removed]",
      "text/plain": [
       "<Figure size 600x400 with 1 Axes>"
      ]
     },
     "metadata": {},
     "output_type": "display_data"
    }
   ],
   "source": [
    "Table().with_column(\n",
    "    'Difference Between Group Means', age_differences).hist(bins=100)\n",
    "plots.ylim(-0.1, 1.2)\n",
    "plots.scatter(observed_age_difference, 0, color='red', s=40, zorder=3)\n",
    "plots.title('Prediction Under the Null Hypothesis')\n",
    "print('Observed Difference:', observed_age_difference)"
   ]
  },
  {
   "cell_type": "code",
   "execution_count": 36,
   "id": "aec12a8d-b16d-4760-bceb-ded3f106b4f5",
   "metadata": {},
   "outputs": [
    {
     "data": {
      "text/plain": [
       "0.0088"
      ]
     },
     "execution_count": 36,
     "metadata": {},
     "output_type": "execute_result"
    }
   ],
   "source": [
    "##### p-value\n",
    "empirical_p = np.count_nonzero(age_differences <= observed_age_difference ) / 5000\n",
    "empirical_p"
   ]
  },
  {
   "cell_type": "markdown",
   "id": "4452d079-5688-4bf0-9b36-e153ea84db63",
   "metadata": {},
   "source": [
    "The empirical p-value is around 1% and therefore the result is statistically significant. The test supports the hypothesis that the smokers were younger on average."
   ]
  },
  {
   "cell_type": "code",
   "execution_count": null,
   "id": "00010096-b113-4848-a8e6-28b063e7b45e",
   "metadata": {},
   "outputs": [],
   "source": []
  }
 ],
 "metadata": {
  "kernelspec": {
   "display_name": "Python 3 (ipykernel)",
   "language": "python",
   "name": "python3"
  },
  "language_info": {
   "codemirror_mode": {
    "name": "ipython",
    "version": 3
   },
   "file_extension": ".py",
   "mimetype": "text/x-python",
   "name": "python",
   "nbconvert_exporter": "python",
   "pygments_lexer": "ipython3",
   "version": "3.12.8"
  }
 },
 "nbformat": 4,
 "nbformat_minor": 5
}
