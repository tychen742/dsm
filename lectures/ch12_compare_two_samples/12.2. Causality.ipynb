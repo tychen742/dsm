{
 "cells": [
  {
   "cell_type": "markdown",
   "id": "d69a7ba8-27f6-4c73-94cc-291c98547ca7",
   "metadata": {},
   "source": [
    "# 12.2. Causality"
   ]
  },
  {
   "cell_type": "markdown",
   "id": "05385ecd-82ac-4d95-8928-feb3ee315059",
   "metadata": {},
   "source": [
    "### causation\n",
    "- The key to the analysis of randomized controlled experiments is understanding exactly how chance enters the picture. This helps us set up clear null and alternative hypotheses. "
   ]
  },
  {
   "cell_type": "markdown",
   "id": "87291a75-dd2f-46f8-a200-d1e527dd3284",
   "metadata": {},
   "source": [
    "## 12.2.1. Treating Chronic Back Pain: A Randomized Controlled Trial\n",
    "\n",
    "- A randomized controlled trial (RCT) examined the effect of using Botulinum Toxin A (BTA, **Botox**) as a treatment\n",
    "- Thirty one patients with low-back pain were randomized into treatment and control groups, with **15 in the treatment/experiment group and 16 in control**.\n",
    "- The control group was given normal **saline**, and the trials were run **double-blind** so that neither doctors nor patients knew which group they were in."
   ]
  },
  {
   "cell_type": "code",
   "execution_count": 5,
   "id": "5c8f6dc1-40eb-4a03-96eb-e187cf5924a3",
   "metadata": {},
   "outputs": [
    {
     "data": {
      "text/html": [
       "<table border=\"1\" class=\"dataframe\">\n",
       "    <thead>\n",
       "        <tr>\n",
       "            <th>Group</th> <th>Result</th>\n",
       "        </tr>\n",
       "    </thead>\n",
       "    <tbody>\n",
       "        <tr>\n",
       "            <td>Control</td> <td>1     </td>\n",
       "        </tr>\n",
       "        <tr>\n",
       "            <td>Control</td> <td>1     </td>\n",
       "        </tr>\n",
       "        <tr>\n",
       "            <td>Control</td> <td>0     </td>\n",
       "        </tr>\n",
       "        <tr>\n",
       "            <td>Control</td> <td>0     </td>\n",
       "        </tr>\n",
       "        <tr>\n",
       "            <td>Control</td> <td>0     </td>\n",
       "        </tr>\n",
       "    </tbody>\n",
       "</table>\n",
       "<p>... (26 rows omitted)</p>"
      ],
      "text/plain": [
       "<IPython.core.display.HTML object>"
      ]
     },
     "metadata": {},
     "output_type": "display_data"
    }
   ],
   "source": [
    "from datascience import *\n",
    "path_data = '../../data/'\n",
    "\n",
    "\n",
    "# bta = Table().read_table(path_data + 'bta.csv')\n",
    "bta = Table.read_table(path_data + 'bta.csv')\n",
    "bta.show(5)\n",
    "\n",
    "### 1 == relief\n",
    "### The sum of 1’s in the control group is the number of control group patients who had pain relief"
   ]
  },
  {
   "cell_type": "code",
   "execution_count": 22,
   "id": "fdb5409b-db2a-40f9-b1ad-46ba576de8f7",
   "metadata": {},
   "outputs": [
    {
     "data": {
      "text/html": [
       "<table border=\"1\" class=\"dataframe\">\n",
       "    <thead>\n",
       "        <tr>\n",
       "            <th>Group</th> <th>count</th>\n",
       "        </tr>\n",
       "    </thead>\n",
       "    <tbody>\n",
       "        <tr>\n",
       "            <td>Control  </td> <td>16   </td>\n",
       "        </tr>\n",
       "        <tr>\n",
       "            <td>Treatment</td> <td>15   </td>\n",
       "        </tr>\n",
       "    </tbody>\n",
       "</table>"
      ],
      "text/plain": [
       "Group     | count\n",
       "Control   | 16\n",
       "Treatment | 15"
      ]
     },
     "execution_count": 22,
     "metadata": {},
     "output_type": "execute_result"
    }
   ],
   "source": [
    "bta.group('Group')          ### count number of values"
   ]
  },
  {
   "cell_type": "code",
   "execution_count": 7,
   "id": "06c5d31a-5861-4255-b06f-d95bf4249030",
   "metadata": {},
   "outputs": [
    {
     "data": {
      "text/html": [
       "<table border=\"1\" class=\"dataframe\">\n",
       "    <thead>\n",
       "        <tr>\n",
       "            <th>Group</th> <th>Result sum</th>\n",
       "        </tr>\n",
       "    </thead>\n",
       "    <tbody>\n",
       "        <tr>\n",
       "            <td>Control  </td> <td>2         </td>\n",
       "        </tr>\n",
       "        <tr>\n",
       "            <td>Treatment</td> <td>9         </td>\n",
       "        </tr>\n",
       "    </tbody>\n",
       "</table>"
      ],
      "text/plain": [
       "Group     | Result sum\n",
       "Control   | 2\n",
       "Treatment | 9"
      ]
     },
     "execution_count": 7,
     "metadata": {},
     "output_type": "execute_result"
    }
   ],
   "source": [
    "### pass a function to group()\n",
    "bta.group('Group', sum)     ### tbl.group(column_or_columns) groups a table by values in column_or_columns.\n",
    "                            ### tbl.group(column_or_columns, func) \n",
    "                                ### func takes in an array of values and returns a single value\n",
    "                            ### Control has two groups\n",
    "### sum: Treatment group has a lot more pain relief. "
   ]
  },
  {
   "cell_type": "code",
   "execution_count": 23,
   "id": "753d7df6-95f3-4cda-b265-c6f2ce36f1a8",
   "metadata": {},
   "outputs": [
    {
     "data": {
      "text/html": [
       "<table border=\"1\" class=\"dataframe\">\n",
       "    <thead>\n",
       "        <tr>\n",
       "            <th>Group</th> <th>Result average</th>\n",
       "        </tr>\n",
       "    </thead>\n",
       "    <tbody>\n",
       "        <tr>\n",
       "            <td>Control  </td> <td>0.125         </td>\n",
       "        </tr>\n",
       "        <tr>\n",
       "            <td>Treatment</td> <td>0.6           </td>\n",
       "        </tr>\n",
       "    </tbody>\n",
       "</table>"
      ],
      "text/plain": [
       "Group     | Result average\n",
       "Control   | 0.125\n",
       "Treatment | 0.6"
      ]
     },
     "execution_count": 23,
     "metadata": {},
     "output_type": "execute_result"
    }
   ],
   "source": [
    "### sum == counting --> proportion\n",
    "import numpy as np\n",
    "\n",
    "### 2/16 == .125; 9/15 == .6\n",
    "### In the treatment group, 60% of the patients had pain relief, \n",
    "### compared to only 12.5% in the control group. None of the patients suffered any side effects.\n",
    "### we see that toxin A is better than saline, but could this be because of chance?\n",
    "### maybe some patients are just better able to recover than others, even without treatment?\n",
    "### for those people, saline would work as good as toxin A\n",
    "bta.group('Group', np.average)   ##### instead of sum, do average"
   ]
  },
  {
   "cell_type": "markdown",
   "id": "5516a596-6bb2-4630-a996-a8f874c2af90",
   "metadata": {},
   "source": [
    "## 12.2.2. Potential Outcomes\n",
    "\n",
    "- **two potential outcomes**: the outcome that the patient would have if assigned to the treatment group, and the outcome that the same patient would have if assigned to the control group.\n",
    "- The theory is: if a patient is assigned to a different group, the result should be different.\n",
    "- There are 31 potential treatment oucomes and 31 potential control outcomes\n",
    "- tbl observed_outcomes"
   ]
  },
  {
   "cell_type": "code",
   "execution_count": 24,
   "id": "c480f0b5-db37-419d-9952-d40e7fc0129b",
   "metadata": {},
   "outputs": [
    {
     "data": {
      "text/html": [
       "<table border=\"1\" class=\"dataframe\">\n",
       "    <thead>\n",
       "        <tr>\n",
       "            <th>Group</th> <th>Outcome if assigned treatment</th> <th>Outcome if assigned control</th>\n",
       "        </tr>\n",
       "    </thead>\n",
       "    <tbody>\n",
       "        <tr>\n",
       "            <td>Control  </td> <td>Unknown                      </td> <td>1                          </td>\n",
       "        </tr>\n",
       "        <tr>\n",
       "            <td>Control  </td> <td>Unknown                      </td> <td>1                          </td>\n",
       "        </tr>\n",
       "        <tr>\n",
       "            <td>Control  </td> <td>Unknown                      </td> <td>0                          </td>\n",
       "        </tr>\n",
       "        <tr>\n",
       "            <td>Control  </td> <td>Unknown                      </td> <td>0                          </td>\n",
       "        </tr>\n",
       "        <tr>\n",
       "            <td>Control  </td> <td>Unknown                      </td> <td>0                          </td>\n",
       "        </tr>\n",
       "        <tr>\n",
       "            <td>Control  </td> <td>Unknown                      </td> <td>0                          </td>\n",
       "        </tr>\n",
       "        <tr>\n",
       "            <td>Control  </td> <td>Unknown                      </td> <td>0                          </td>\n",
       "        </tr>\n",
       "        <tr>\n",
       "            <td>Control  </td> <td>Unknown                      </td> <td>0                          </td>\n",
       "        </tr>\n",
       "        <tr>\n",
       "            <td>Control  </td> <td>Unknown                      </td> <td>0                          </td>\n",
       "        </tr>\n",
       "        <tr>\n",
       "            <td>Control  </td> <td>Unknown                      </td> <td>0                          </td>\n",
       "        </tr>\n",
       "        <tr>\n",
       "            <td>Control  </td> <td>Unknown                      </td> <td>0                          </td>\n",
       "        </tr>\n",
       "        <tr>\n",
       "            <td>Control  </td> <td>Unknown                      </td> <td>0                          </td>\n",
       "        </tr>\n",
       "        <tr>\n",
       "            <td>Control  </td> <td>Unknown                      </td> <td>0                          </td>\n",
       "        </tr>\n",
       "        <tr>\n",
       "            <td>Control  </td> <td>Unknown                      </td> <td>0                          </td>\n",
       "        </tr>\n",
       "        <tr>\n",
       "            <td>Control  </td> <td>Unknown                      </td> <td>0                          </td>\n",
       "        </tr>\n",
       "        <tr>\n",
       "            <td>Control  </td> <td>Unknown                      </td> <td>0                          </td>\n",
       "        </tr>\n",
       "        <tr>\n",
       "            <td>Treatment</td> <td>1                            </td> <td>Unknown                    </td>\n",
       "        </tr>\n",
       "        <tr>\n",
       "            <td>Treatment</td> <td>1                            </td> <td>Unknown                    </td>\n",
       "        </tr>\n",
       "        <tr>\n",
       "            <td>Treatment</td> <td>1                            </td> <td>Unknown                    </td>\n",
       "        </tr>\n",
       "        <tr>\n",
       "            <td>Treatment</td> <td>1                            </td> <td>Unknown                    </td>\n",
       "        </tr>\n",
       "        <tr>\n",
       "            <td>Treatment</td> <td>1                            </td> <td>Unknown                    </td>\n",
       "        </tr>\n",
       "        <tr>\n",
       "            <td>Treatment</td> <td>1                            </td> <td>Unknown                    </td>\n",
       "        </tr>\n",
       "        <tr>\n",
       "            <td>Treatment</td> <td>1                            </td> <td>Unknown                    </td>\n",
       "        </tr>\n",
       "        <tr>\n",
       "            <td>Treatment</td> <td>1                            </td> <td>Unknown                    </td>\n",
       "        </tr>\n",
       "        <tr>\n",
       "            <td>Treatment</td> <td>1                            </td> <td>Unknown                    </td>\n",
       "        </tr>\n",
       "        <tr>\n",
       "            <td>Treatment</td> <td>0                            </td> <td>Unknown                    </td>\n",
       "        </tr>\n",
       "        <tr>\n",
       "            <td>Treatment</td> <td>0                            </td> <td>Unknown                    </td>\n",
       "        </tr>\n",
       "        <tr>\n",
       "            <td>Treatment</td> <td>0                            </td> <td>Unknown                    </td>\n",
       "        </tr>\n",
       "        <tr>\n",
       "            <td>Treatment</td> <td>0                            </td> <td>Unknown                    </td>\n",
       "        </tr>\n",
       "        <tr>\n",
       "            <td>Treatment</td> <td>0                            </td> <td>Unknown                    </td>\n",
       "        </tr>\n",
       "        <tr>\n",
       "            <td>Treatment</td> <td>0                            </td> <td>Unknown                    </td>\n",
       "        </tr>\n",
       "    </tbody>\n",
       "</table>"
      ],
      "text/plain": [
       "<IPython.core.display.HTML object>"
      ]
     },
     "metadata": {},
     "output_type": "display_data"
    }
   ],
   "source": [
    "observed_outcomes = Table.read_table(path_data + \"observed_outcomes.csv\")\n",
    "observed_outcomes.show()\n",
    "### this is the same tbl as bta with different format but same information"
   ]
  },
  {
   "cell_type": "markdown",
   "id": "9b701fae-7f53-48c1-9b56-07b2fd6cc8e8",
   "metadata": {},
   "source": [
    "## 12.2.3. The Hypotheses\n",
    "\n",
    "- question: does the treatment does anything?\n",
    "- In terms of the table observed_outcomes, the question is whether the distribution of the 31 “treatment” values in Column 1 (including the unknown ones) is different from the distribution of the 31 “control” values in Column 2 (again including the unknown ones).\n",
    "- **Null Hypothesis**: The **distribution** of all 31 potential “treatment” outcomes is the **same** as that of all 31 potential “control” outcomes. Botulinum toxin A does nothing different from saline; the difference in the two samples is just due to chance.\n",
    "- **Alternative Hypothesis**: The **distribution** of 31 potential “treatment” outcomes is **different** from that of the 31 control outcomes. The treatment does something different from the control.\n",
    "- You may assume that the treatement is **better** than the control.\n",
    "- **If the null hypothesis were true, it wouldn’t matter which of those 31 outcomes were labeled “treatment” and which “control.”** Any random subset of 16 out of the 31 values could be called “control” and the remaining 15 “treatment”.\n",
    "- We can **simulate** this. We can **randomly permute** the 31 values, split them into two groups of 16 and 15, and see how different the distributions in the two groups are. Since the data are zeros and ones, we can just see how different the two proportions are.\n",
    "- That’s exactly what we did for A/B testing in the previous section. Sample A is now the control group and Sample B the treatment group. "
   ]
  },
  {
   "cell_type": "markdown",
   "id": "a2395a7b-d125-4a7d-b0a7-a9c593ea832a",
   "metadata": {},
   "source": [
    "## 12.2.4. The Test Statistic\n",
    "\n",
    "- If the two group proportions are very different from each other, we will lean towards the alternative hypothesis that the two underlying distributions are different. So our test statistic will be the distance between the two group proportions, that is, the absolute value of the difference between them.\n",
    "- Large values of the test statistic will favor the alternative hypothesis over the null.\n",
    "- Since the two group proportions were 0.6 and 0.125, the observed value of the test statistic is | 0.6 - 0.125 | = 0.475\n"
   ]
  },
  {
   "cell_type": "code",
   "execution_count": 10,
   "id": "52269977-5202-42fc-b835-87302ef5f772",
   "metadata": {},
   "outputs": [
    {
     "data": {
      "text/html": [
       "<table border=\"1\" class=\"dataframe\">\n",
       "    <thead>\n",
       "        <tr>\n",
       "            <th>Group</th> <th>Result average</th>\n",
       "        </tr>\n",
       "    </thead>\n",
       "    <tbody>\n",
       "        <tr>\n",
       "            <td>Control  </td> <td>0.125         </td>\n",
       "        </tr>\n",
       "        <tr>\n",
       "            <td>Treatment</td> <td>0.6           </td>\n",
       "        </tr>\n",
       "    </tbody>\n",
       "</table>"
      ],
      "text/plain": [
       "Group     | Result average\n",
       "Control   | 0.125\n",
       "Treatment | 0.6"
      ]
     },
     "execution_count": 10,
     "metadata": {},
     "output_type": "execute_result"
    }
   ],
   "source": [
    "bta.group('Group', np.average)"
   ]
  },
  {
   "cell_type": "code",
   "execution_count": 11,
   "id": "1297edf1-e0d7-4973-9679-21095c0a4cf6",
   "metadata": {},
   "outputs": [
    {
     "data": {
      "text/plain": [
       "0.475"
      ]
     },
     "execution_count": 11,
     "metadata": {},
     "output_type": "execute_result"
    }
   ],
   "source": [
    "observed_proportions = bta.group('Group', np.average).column(1)\n",
    "observed_distance = abs(observed_proportions.item(0) - observed_proportions.item(1))\n",
    "observed_distance     ##### observed data, not simulated"
   ]
  },
  {
   "cell_type": "code",
   "execution_count": 12,
   "id": "92ac4178-90c3-4698-83ce-342dc77c156e",
   "metadata": {},
   "outputs": [],
   "source": [
    "### the name of the table of data\n",
    "### the column label of the group labels\n",
    "\n",
    "def distance(table, group_label):\n",
    "    reduced = table.select('Result', group_label)\n",
    "    proportions = reduced.group(group_label, np.average).column(1)   ### average of 1's\n",
    "    return abs(proportions.item(1) - proportions.item(0))"
   ]
  },
  {
   "cell_type": "code",
   "execution_count": 13,
   "id": "c46bdda5-6151-4a36-ac13-50e7f2916ec1",
   "metadata": {},
   "outputs": [
    {
     "data": {
      "text/plain": [
       "0.475"
      ]
     },
     "execution_count": 13,
     "metadata": {},
     "output_type": "execute_result"
    }
   ],
   "source": [
    "distance(bta, 'Group')"
   ]
  },
  {
   "cell_type": "markdown",
   "id": "cf21897e-67c8-45cd-9293-a4581509e989",
   "metadata": {},
   "source": [
    "## 12.2.5. Predicting the Statistic Under the Null Hypothesis\n",
    "\n",
    "- We can simulate results under the null hypothesis, to see how our test statistic should come out if the null hypothesis is true.\n"
   ]
  },
  {
   "cell_type": "markdown",
   "id": "7e5ed3bc-f64c-4451-8118-8dd4e51da404",
   "metadata": {},
   "source": [
    "### 12.2.5.1. Generating One Value of the Statistic\n"
   ]
  },
  {
   "cell_type": "code",
   "execution_count": 14,
   "id": "22e7e40d-adb0-4302-b76b-9abb9477195d",
   "metadata": {},
   "outputs": [],
   "source": [
    "shuffled_labels = bta.sample(with_replacement=False).column(0)   ### 'Group' (control/ treatment)"
   ]
  },
  {
   "cell_type": "code",
   "execution_count": 15,
   "id": "24767b9f-7ec8-4763-8725-73a989c34a6d",
   "metadata": {},
   "outputs": [
    {
     "data": {
      "text/html": [
       "<table border=\"1\" class=\"dataframe\">\n",
       "    <thead>\n",
       "        <tr>\n",
       "            <th>Group</th> <th>Result</th> <th>Shuffled Label</th>\n",
       "        </tr>\n",
       "    </thead>\n",
       "    <tbody>\n",
       "        <tr>\n",
       "            <td>Control</td> <td>1     </td> <td>Control       </td>\n",
       "        </tr>\n",
       "        <tr>\n",
       "            <td>Control</td> <td>1     </td> <td>Treatment     </td>\n",
       "        </tr>\n",
       "        <tr>\n",
       "            <td>Control</td> <td>0     </td> <td>Treatment     </td>\n",
       "        </tr>\n",
       "        <tr>\n",
       "            <td>Control</td> <td>0     </td> <td>Treatment     </td>\n",
       "        </tr>\n",
       "        <tr>\n",
       "            <td>Control</td> <td>0     </td> <td>Control       </td>\n",
       "        </tr>\n",
       "    </tbody>\n",
       "</table>\n",
       "<p>... (26 rows omitted)</p>"
      ],
      "text/plain": [
       "<IPython.core.display.HTML object>"
      ]
     },
     "metadata": {},
     "output_type": "display_data"
    }
   ],
   "source": [
    "bta_with_shuffled_labels = bta.with_column('Shuffled Label', shuffled_labels)\n",
    "bta_with_shuffled_labels.show(5)"
   ]
  },
  {
   "cell_type": "code",
   "execution_count": 16,
   "id": "18738228-9884-41af-9daa-4376ef5039f7",
   "metadata": {},
   "outputs": [
    {
     "data": {
      "text/plain": [
       "0.041666666666666685"
      ]
     },
     "execution_count": 16,
     "metadata": {},
     "output_type": "execute_result"
    }
   ],
   "source": [
    "### the distance of this distribution\n",
    "distance(bta_with_shuffled_labels, 'Shuffled Label')"
   ]
  },
  {
   "cell_type": "markdown",
   "id": "00638d80-0bdb-4eb6-a5e8-e87ad84531ea",
   "metadata": {},
   "source": [
    "### 12.2.5.2. Permutation Test\n",
    "\n",
    "- If we shuffled the labels again, how different would the new distance be? "
   ]
  },
  {
   "cell_type": "code",
   "execution_count": 17,
   "id": "662b12c4-50f4-472e-9df9-7871383e9b61",
   "metadata": {},
   "outputs": [],
   "source": [
    "def one_simulated_distance():\n",
    "    shuffled_labels = bta.sample(with_replacement=False).column('Group')   ### new, simulated, a new group column\n",
    "    shuffled_table = bta.select('Result').with_column('Shuffled Label', shuffled_labels)\n",
    "    return distance(shuffled_table, 'Shuffled Label')"
   ]
  },
  {
   "cell_type": "code",
   "execution_count": 18,
   "id": "5f5eb4b3-c7bf-4e0a-990e-ed2da60f82c3",
   "metadata": {},
   "outputs": [],
   "source": [
    "distances = make_array()\n",
    "repetitions = 20000\n",
    "\n",
    "for i in np.arange(repetitions):\n",
    "    new_distance = one_simulated_distance()\n",
    "    distances = np.append(distances, new_distance)"
   ]
  },
  {
   "cell_type": "code",
   "execution_count": 19,
   "id": "a907740c-b8a9-4404-b7b9-216cbea58f26",
   "metadata": {},
   "outputs": [
    {
     "data": {
      "text/plain": [
       "array([ 0.04166667,  0.0875    ,  0.0875    , ...,  0.21666667,\n",
       "        0.0875    ,  0.0875    ])"
      ]
     },
     "execution_count": 19,
     "metadata": {},
     "output_type": "execute_result"
    }
   ],
   "source": [
    "distances"
   ]
  },
  {
   "cell_type": "markdown",
   "id": "2ccd27cc-c67f-461e-8caf-71659f47f08d",
   "metadata": {},
   "source": [
    "## 12.2.6. Conclusion of the Test"
   ]
  },
  {
   "cell_type": "code",
   "execution_count": 20,
   "id": "8adc2547-4463-4ecc-a9e4-363e76caa54b",
   "metadata": {},
   "outputs": [
    {
     "name": "stdout",
     "output_type": "stream",
     "text": [
      "Observed Distance 0.475\n"
     ]
    },
    {
     "data": {
      "image/png": "[encoded data removed]",
      "text/plain": [
       "<Figure size 600x400 with 1 Axes>"
      ]
     },
     "metadata": {},
     "output_type": "display_data"
    }
   ],
   "source": [
    "import matplotlib.pyplot as plots\n",
    "%matplotlib inline\n",
    "\n",
    "Table().with_column('Distance', distances).hist()\n",
    "plots.ylim(-0.1, 5.5)\n",
    "plots.scatter(observed_distance, 0, color='red', s=40, zorder=3)\n",
    "plots.title('Prediction Under the Null Hypothesis')\n",
    "print('Observed Distance', observed_distance)"
   ]
  },
  {
   "cell_type": "code",
   "execution_count": 21,
   "id": "bf4d9143-a73c-4635-b604-3180a47d7d41",
   "metadata": {},
   "outputs": [
    {
     "data": {
      "text/plain": [
       "0.00815"
      ]
     },
     "execution_count": 21,
     "metadata": {},
     "output_type": "execute_result"
    }
   ],
   "source": [
    "empirical_p = np.count_nonzero(distances >= observed_distance) / repetitions\n",
    "empirical_p"
   ]
  },
  {
   "cell_type": "markdown",
   "id": "c113e0e1-f0bb-4bcf-bd6c-57e7d31936d4",
   "metadata": {},
   "source": [
    "- This is a small p-value. The observed statistic is in the tail of the empirical histogram of the test statistic generated under the null hypothesis.\n",
    "- The result is statistically significant. The test favors the alternative hypothesis over the null. The evidence supports the hypothesis that the treatment is doing something.\n",
    "- The study reports a P-value of 0.009, or 0.9%, which is not far from our empirical value."
   ]
  },
  {
   "cell_type": "markdown",
   "id": "cb8894c9-58bb-4c57-8a30-3e02a094f0ba",
   "metadata": {},
   "source": [
    "## 12.2.7. Causality\n",
    "\n",
    "- Because the trials were randomized, the test is evidence that the treatment causes the difference. The random assignment of patients to the two groups ensures that there is no confounding variable that could affect the conclusion of causality.\n",
    "- If the treatment had not been randomly assigned, our test would still point toward an association between the treatment and back pain outcomes among our 31 patients. But beware: without randomization, this association would not imply that the treatment caused a change in back pain outcomes. For example, if the patients themselves had chosen whether to administer the treatment, perhaps the patients experiencing more pain would be more likely to choose the treatment and more likely to experience some reduction in pain even without medication. Pre-existing pain would then be a confounding factor in the analysis."
   ]
  },
  {
   "cell_type": "code",
   "execution_count": null,
   "id": "b6f08b1c-32cb-403b-b35d-452e18cd00c7",
   "metadata": {},
   "outputs": [],
   "source": []
  }
 ],
 "metadata": {
  "kernelspec": {
   "display_name": "Python 3 (ipykernel)",
   "language": "python",
   "name": "python3"
  },
  "language_info": {
   "codemirror_mode": {
    "name": "ipython",
    "version": 3
   },
   "file_extension": ".py",
   "mimetype": "text/x-python",
   "name": "python",
   "nbconvert_exporter": "python",
   "pygments_lexer": "ipython3",
   "version": "3.12.2"
  }
 },
 "nbformat": 4,
 "nbformat_minor": 5
}
