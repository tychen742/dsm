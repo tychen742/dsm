{
 "cells": [
  {
   "cell_type": "markdown",
   "id": "7c1373d5-dc72-4865-80ff-2e74281134e3",
   "metadata": {},
   "source": [
    "# 11.2. Multiple Categories\n",
    "\n",
    "- consider panelists in multiple racial and ethnic categories ==> new statistic to simulate"
   ]
  },
  {
   "cell_type": "markdown",
   "id": "a0fb191e-608d-43ff-a7e4-201d4f3744dd",
   "metadata": {},
   "source": [
    "## 11.2.1. Jury Selection in Alameda County\n",
    "\n",
    "- In 2010, the American Civil Liberties Union (ACLU) of Northern California presented a report on jury selection in Alameda County, California: **Underrepresentation** of certain racial and ethnic groups among jury panelists. \n",
    "- “All persons selected for jury service shall be selected **at random**, from a source or sources inclusive of a representative cross section of the population of the area served by the court.”"
   ]
  },
  {
   "cell_type": "markdown",
   "id": "bda3cbe5-549d-4da3-a3a0-97a8de2f33c8",
   "metadata": {},
   "source": [
    "## 11.2.2. Composition of Panels in Alameda County\n",
    "\n",
    "- racial and ethnic composition of jury panels in Alameda County.\n",
    "- data on the composition of the jury panels in 11 felony trials in Alameda County in the years 2009 and 2010: 1453 jurors"
   ]
  },
  {
   "cell_type": "code",
   "execution_count": 3,
   "id": "ad89ca1c-19dc-49c6-b458-9443c380d7ef",
   "metadata": {},
   "outputs": [
    {
     "data": {
      "text/html": [
       "<table border=\"1\" class=\"dataframe\">\n",
       "    <thead>\n",
       "        <tr>\n",
       "            <th>Ethnicity</th> <th>Eligible</th> <th>Panels</th>\n",
       "        </tr>\n",
       "    </thead>\n",
       "    <tbody>\n",
       "        <tr>\n",
       "            <td>Asian/PI </td> <td>0.15    </td> <td>0.26  </td>\n",
       "        </tr>\n",
       "        <tr>\n",
       "            <td>Black/AA </td> <td>0.18    </td> <td>0.08  </td>\n",
       "        </tr>\n",
       "        <tr>\n",
       "            <td>Caucasian</td> <td>0.54    </td> <td>0.54  </td>\n",
       "        </tr>\n",
       "        <tr>\n",
       "            <td>Hispanic </td> <td>0.12    </td> <td>0.08  </td>\n",
       "        </tr>\n",
       "        <tr>\n",
       "            <td>Other    </td> <td>0.01    </td> <td>0.04  </td>\n",
       "        </tr>\n",
       "    </tbody>\n",
       "</table>"
      ],
      "text/plain": [
       "Ethnicity | Eligible | Panels\n",
       "Asian/PI  | 0.15     | 0.26\n",
       "Black/AA  | 0.18     | 0.08\n",
       "Caucasian | 0.54     | 0.54\n",
       "Hispanic  | 0.12     | 0.08\n",
       "Other     | 0.01     | 0.04"
      ]
     },
     "execution_count": 3,
     "metadata": {},
     "output_type": "execute_result"
    }
   ],
   "source": [
    "from datascience import *\n",
    "\n",
    "jury = Table().with_columns(\n",
    "    'Ethnicity', make_array('Asian/PI', 'Black/AA', 'Caucasian', 'Hispanic', 'Other'),\n",
    "    'Eligible', make_array(0.15, 0.18, 0.54, 0.12, 0.01),\n",
    "    'Panels', make_array(0.26, 0.08, 0.54, 0.08, 0.04)\n",
    ")\n",
    "\n",
    "jury\n",
    "\n",
    "##### overrepresented and underrepresented"
   ]
  },
  {
   "cell_type": "markdown",
   "id": "8a03e134-ddbe-40ac-892e-e4b1c258a9cb",
   "metadata": {},
   "source": [
    "Some ethnicities are overrepresented and some are underrepresented on the jury panels in the study. In particular, panelists in the Black/AA and Hispanic categories are underrepresented."
   ]
  },
  {
   "cell_type": "code",
   "execution_count": 4,
   "id": "66145767-d517-41c7-b51f-b2f72782ef36",
   "metadata": {},
   "outputs": [
    {
     "data": {
      "image/png": "[encoded data removed]",
      "text/plain": [
       "<Figure size 600x400 with 1 Axes>"
      ]
     },
     "metadata": {},
     "output_type": "display_data"
    }
   ],
   "source": [
    "import matplotlib.pyplot as plt\n",
    "%matplotlib inline\n",
    "\n",
    "jury.barh('Ethnicity')"
   ]
  },
  {
   "cell_type": "markdown",
   "id": "797fc274-bf77-430e-a2c0-1366a80301e0",
   "metadata": {},
   "source": [
    "## 11.2.3. Comparison with Panels Selected at Random"
   ]
  },
  {
   "cell_type": "code",
   "execution_count": 5,
   "id": "a0771dd1-fe45-4b3e-99f6-b6a34aa8fbb8",
   "metadata": {},
   "outputs": [
    {
     "data": {
      "text/html": [
       "<table border=\"1\" class=\"dataframe\">\n",
       "    <thead>\n",
       "        <tr>\n",
       "            <th>Ethnicity</th> <th>Eligible</th> <th>Panels</th> <th>Random Sample</th>\n",
       "        </tr>\n",
       "    </thead>\n",
       "    <tbody>\n",
       "        <tr>\n",
       "            <td>Asian/PI </td> <td>0.15    </td> <td>0.26  </td> <td>0.144138     </td>\n",
       "        </tr>\n",
       "        <tr>\n",
       "            <td>Black/AA </td> <td>0.18    </td> <td>0.08  </td> <td>0.173793     </td>\n",
       "        </tr>\n",
       "        <tr>\n",
       "            <td>Caucasian</td> <td>0.54    </td> <td>0.54  </td> <td>0.558621     </td>\n",
       "        </tr>\n",
       "        <tr>\n",
       "            <td>Hispanic </td> <td>0.12    </td> <td>0.08  </td> <td>0.115862     </td>\n",
       "        </tr>\n",
       "        <tr>\n",
       "            <td>Other    </td> <td>0.01    </td> <td>0.04  </td> <td>0.00758621   </td>\n",
       "        </tr>\n",
       "    </tbody>\n",
       "</table>"
      ],
      "text/plain": [
       "Ethnicity | Eligible | Panels | Random Sample\n",
       "Asian/PI  | 0.15     | 0.26   | 0.144138\n",
       "Black/AA  | 0.18     | 0.08   | 0.173793\n",
       "Caucasian | 0.54     | 0.54   | 0.558621\n",
       "Hispanic  | 0.12     | 0.08   | 0.115862\n",
       "Other     | 0.01     | 0.04   | 0.00758621"
      ]
     },
     "execution_count": 5,
     "metadata": {},
     "output_type": "execute_result"
    }
   ],
   "source": [
    "### there's a difference here... but there's always a difference\n",
    "\n",
    "eligible_population = jury.column('Eligible')\n",
    "# eligible_population     ### an array \n",
    "sample_distribution = sample_proportions(1450, eligible_population)   ### https://www.data8.org/datascience/reference-nb/datascience-reference.html\n",
    "# sample_distribution\n",
    "panels_and_sample = jury.with_column('Random Sample', sample_distribution)\n",
    "panels_and_sample\n",
    "\n",
    "##### random sample distribution =~ eligible population"
   ]
  },
  {
   "cell_type": "code",
   "execution_count": 6,
   "id": "ef5a39ea-b323-4251-8fce-dd45651c1b63",
   "metadata": {},
   "outputs": [
    {
     "data": {
      "image/png": "[encoded data removed]",
      "text/plain": [
       "<Figure size 600x400 with 1 Axes>"
      ]
     },
     "metadata": {},
     "output_type": "display_data"
    }
   ],
   "source": [
    "panels_and_sample.barh('Ethnicity')\n",
    "\n",
    "##### !!! important !!!\n",
    "##### the random sample distribution fits the eligible distribution\n",
    "##### look at the two blues\n",
    "\n",
    "##### this is good but we need a statistic because we can't look at \n",
    "##### the charts only to come up with conclusions"
   ]
  },
  {
   "cell_type": "markdown",
   "id": "d3f8c3e2-d707-4da0-bc5b-16332042ed06",
   "metadata": {},
   "source": [
    "The bar chart shows that the distribution of the **random sample resembles the eligible population** but the distribution of the panels does not."
   ]
  },
  {
   "cell_type": "markdown",
   "id": "6743418f-4426-4432-bd44-472b9a587585",
   "metadata": {},
   "source": [
    "To assess whether this observation is particular to one random sample or more general, we can simulate multiple panels under the model of random selection and see what the simulations predict. But we won’t be able to look at thousands of bar charts like the one above. We need a statistic that will help us assess whether or not the model or random selection is supported by the data."
   ]
  },
  {
   "cell_type": "markdown",
   "id": "2f5aedd2-d830-4df3-8f06-8373954668e0",
   "metadata": {},
   "source": [
    "## 11.2.4. A New Statistic: The Distance between Two Distributions\n",
    "\n",
    "- **total variation distance**"
   ]
  },
  {
   "cell_type": "code",
   "execution_count": 7,
   "id": "bde07cc6-87a6-4066-a446-acf2fb789526",
   "metadata": {},
   "outputs": [
    {
     "data": {
      "image/png": "[encoded data removed]",
      "text/plain": [
       "<Figure size 600x400 with 1 Axes>"
      ]
     },
     "metadata": {},
     "output_type": "display_data"
    }
   ],
   "source": [
    "jury.barh('Ethnicity')\n",
    "\n",
    "### Question: How to quantify the distance between two distributions?"
   ]
  },
  {
   "cell_type": "code",
   "execution_count": 8,
   "id": "2cdbab95-d423-47d3-911b-c273d04adb9f",
   "metadata": {},
   "outputs": [
    {
     "data": {
      "text/html": [
       "<table border=\"1\" class=\"dataframe\">\n",
       "    <thead>\n",
       "        <tr>\n",
       "            <th>Ethnicity</th> <th>Eligible</th> <th>Panels</th> <th>Difference</th>\n",
       "        </tr>\n",
       "    </thead>\n",
       "    <tbody>\n",
       "        <tr>\n",
       "            <td>Asian/PI </td> <td>0.15    </td> <td>0.26  </td> <td>0.11      </td>\n",
       "        </tr>\n",
       "        <tr>\n",
       "            <td>Black/AA </td> <td>0.18    </td> <td>0.08  </td> <td>-0.1      </td>\n",
       "        </tr>\n",
       "        <tr>\n",
       "            <td>Caucasian</td> <td>0.54    </td> <td>0.54  </td> <td>0         </td>\n",
       "        </tr>\n",
       "        <tr>\n",
       "            <td>Hispanic </td> <td>0.12    </td> <td>0.08  </td> <td>-0.04     </td>\n",
       "        </tr>\n",
       "        <tr>\n",
       "            <td>Other    </td> <td>0.01    </td> <td>0.04  </td> <td>0.03      </td>\n",
       "        </tr>\n",
       "    </tbody>\n",
       "</table>"
      ],
      "text/plain": [
       "Ethnicity | Eligible | Panels | Difference\n",
       "Asian/PI  | 0.15     | 0.26   | 0.11\n",
       "Black/AA  | 0.18     | 0.08   | -0.1\n",
       "Caucasian | 0.54     | 0.54   | 0\n",
       "Hispanic  | 0.12     | 0.08   | -0.04\n",
       "Other     | 0.01     | 0.04   | 0.03"
      ]
     },
     "execution_count": 8,
     "metadata": {},
     "output_type": "execute_result"
    }
   ],
   "source": [
    "### add a column (array) of differences between proportions\n",
    "### abs( ): different two numbers are: if the numbers are x and y, \n",
    "### the distance between them is | x - y |\n",
    "\n",
    "jury_with_diffs = jury.with_column(\n",
    "    'Difference', jury.column('Panels') - jury.column('Eligible')\n",
    ")\n",
    "\n",
    "jury_with_diffs\n",
    "\n",
    "### the sum of Difference entries is 0\n",
    "### The  proportions in each of the two columns Panels and Eligible add up to 1, \n",
    "### and so the give-and-take between their entries must add up to 0"
   ]
  },
  {
   "cell_type": "code",
   "execution_count": 9,
   "id": "14f06d33-0d9c-4a50-9462-1237eb02d73e",
   "metadata": {},
   "outputs": [
    {
     "data": {
      "text/html": [
       "<table border=\"1\" class=\"dataframe\">\n",
       "    <thead>\n",
       "        <tr>\n",
       "            <th>Ethnicity</th> <th>Eligible</th> <th>Panels</th> <th>Difference</th> <th>Absolute Difference</th>\n",
       "        </tr>\n",
       "    </thead>\n",
       "    <tbody>\n",
       "        <tr>\n",
       "            <td>Asian/PI </td> <td>0.15    </td> <td>0.26  </td> <td>0.11      </td> <td>0.11               </td>\n",
       "        </tr>\n",
       "        <tr>\n",
       "            <td>Black/AA </td> <td>0.18    </td> <td>0.08  </td> <td>-0.1      </td> <td>0.1                </td>\n",
       "        </tr>\n",
       "        <tr>\n",
       "            <td>Caucasian</td> <td>0.54    </td> <td>0.54  </td> <td>0         </td> <td>0                  </td>\n",
       "        </tr>\n",
       "        <tr>\n",
       "            <td>Hispanic </td> <td>0.12    </td> <td>0.08  </td> <td>-0.04     </td> <td>0.04               </td>\n",
       "        </tr>\n",
       "        <tr>\n",
       "            <td>Other    </td> <td>0.01    </td> <td>0.04  </td> <td>0.03      </td> <td>0.03               </td>\n",
       "        </tr>\n",
       "    </tbody>\n",
       "</table>"
      ],
      "text/plain": [
       "Ethnicity | Eligible | Panels | Difference | Absolute Difference\n",
       "Asian/PI  | 0.15     | 0.26   | 0.11       | 0.11\n",
       "Black/AA  | 0.18     | 0.08   | -0.1       | 0.1\n",
       "Caucasian | 0.54     | 0.54   | 0          | 0\n",
       "Hispanic  | 0.12     | 0.08   | -0.04      | 0.04\n",
       "Other     | 0.01     | 0.04   | 0.03       | 0.03"
      ]
     },
     "execution_count": 9,
     "metadata": {},
     "output_type": "execute_result"
    }
   ],
   "source": [
    "### To avoid the cancellation, we drop the negative signs and then add all the entries. \n",
    "\n",
    "import numpy as np\n",
    "jury_with_diffs = jury_with_diffs.with_column(\n",
    "    'Absolute Difference', np.abs(jury_with_diffs.column('Difference')\n",
    "                                 )\n",
    ")\n",
    "jury_with_diffs"
   ]
  },
  {
   "cell_type": "code",
   "execution_count": 10,
   "id": "ddd5f731-815e-4aa7-aae7-5699813f79f7",
   "metadata": {},
   "outputs": [
    {
     "data": {
      "text/plain": [
       "0.14000000000000001"
      ]
     },
     "execution_count": 10,
     "metadata": {},
     "output_type": "execute_result"
    }
   ],
   "source": [
    "##### TVD is the new statistic: the variation of the distribution\n",
    "##### total variation distance (TVD) between the distribution of \n",
    "##### ethnicities in the eligible juror population and the distribution in the panels. \n",
    "\n",
    "jury_with_diffs.column('Absolute Difference').sum() / 2\n",
    "# float(jury_with_diffs.column('Absolute Difference').sum() / 2)##### total variation distance (TVD) #####\n",
    "\n",
    "# jury_with_diffs.column('Absolute Difference').sum() / 2\n",
    "# np.round(jury_with_diffs.column('Absolute Difference').sum() / 2, 5)  ### np round\n",
    "# round((jury_with_diffs.column('Absolute Difference').sum() / 2),3 )     ### python round\n",
    "\n",
    "### https://stackoverflow.com/questions/51349738/np-round-or-np-around-doesnt-work\n",
    "# float(\"{:0.2f}\".format(jury_with_diffs.column('Absolute Difference').sum() / 2))\n",
    "### https://www.reddit.com/r/learnpython/comments/1dxmqm5/round_fuction_not_working_properly/\n",
    "# print(f{(jury_with_diffs.column('Absolute Difference').sum() / 2): 0.2f})\n",
    "\n",
    "# type(jury_with_diffs.column('Absolute Difference').sum() / 2)\n",
    "\n",
    "# float(jury_with_diffs.column('Absolute Difference').sum() / 2)\n"
   ]
  },
  {
   "cell_type": "markdown",
   "id": "d603245a-ade3-459d-ba6a-aa14c85f2386",
   "metadata": {},
   "source": [
    "This quantity 0.14 is the total variation distance (TVD) between the distribution of ethnicities in the eligible juror population and the distribution in the panels.\n",
    "\n",
    "In general, the total variation distance between two distributions measures how close the distributions are. The larger the TVD, the more different the two distributions appear.\n",
    "\n"
   ]
  },
  {
   "cell_type": "markdown",
   "id": "88b6384f-b999-4265-b62e-16817a148b79",
   "metadata": {},
   "source": [
    "## 11.2.5. Simulating the Statistic Under the Model\n",
    "To see how the TVD varies across random samples, we will simulate it repeatedly under the model of random selection from the eligible population.\n",
    "\n",
    "Let’s organize our calculation. Since we are going to be computing total variation distance repeatedly, we will first write a function that computes it for two given distributions.\n",
    "\n",
    "The function total_variation_distance takes two arrays containing the distributions to compare, and returns the TVD between them.\n",
    "\n",
    "-  the model of random selection from the eligible population\n"
   ]
  },
  {
   "cell_type": "code",
   "execution_count": 11,
   "id": "ac8e4b6e-0954-4c11-a816-d4c99a5a2019",
   "metadata": {},
   "outputs": [],
   "source": [
    "##### two distributions (arrays): sum of ((one minus the other) divided by 2)\n",
    "\n",
    "def total_variation_distance(distribution_1, distribution_2):\n",
    "    return sum(np.abs(distribution_1 - distribution_2)) / 2    ### abs()"
   ]
  },
  {
   "cell_type": "code",
   "execution_count": 12,
   "id": "ad77f494-676e-4e00-b9f4-4581797c18ab",
   "metadata": {},
   "outputs": [
    {
     "data": {
      "text/plain": [
       "0.14"
      ]
     },
     "execution_count": 12,
     "metadata": {},
     "output_type": "execute_result"
    }
   ],
   "source": [
    "### test the tvd function: Panels vs. Eligible\n",
    "\n",
    "# total_variation_distance(jury.column('Panels'), jury.column('Eligible'))\n",
    "float(total_variation_distance(jury.column('Panels'), jury.column('Eligible')))"
   ]
  },
  {
   "cell_type": "code",
   "execution_count": 13,
   "id": "c68609b6-ad71-4f45-b594-45b9983212e8",
   "metadata": {},
   "outputs": [
    {
     "data": {
      "text/plain": [
       "0.0072401927047488126"
      ]
     },
     "execution_count": 13,
     "metadata": {},
     "output_type": "execute_result"
    }
   ],
   "source": [
    "### the function works; now do it 1000 times\n",
    "##### use sample_proportions to generate a random sample from the eligible population.\n",
    "\n",
    "sample_distribution = sample_proportions(1453, eligible_population)\n",
    "# sample_distribution\n",
    "\n",
    "### sample_proportions(sample_size, model_proportions) \n",
    "#####\n",
    "##### TVD between random sample distribution and the eligible population\n",
    "total_variation_distance(sample_distribution, eligible_population)\n",
    "### do it multiple times to see the variation"
   ]
  },
  {
   "cell_type": "markdown",
   "id": "240d3c61-1758-49b5-8f71-fc9a3afeda12",
   "metadata": {},
   "source": [
    "The distances are quite a bit smaller than 0.14."
   ]
  },
  {
   "cell_type": "markdown",
   "id": "50828e91-42a7-4ce4-840f-ec23953da255",
   "metadata": {},
   "source": [
    "### 11.2.5.1. Simulating One Value of the Statistic"
   ]
  },
  {
   "cell_type": "code",
   "execution_count": 14,
   "id": "d7241815-b1de-4e5f-9e51-d485d29b9462",
   "metadata": {},
   "outputs": [],
   "source": [
    "# Simulate one simulated value of \n",
    "# the total variation distance between\n",
    "# the distribution of a sample selected at random\n",
    "# and the distribution of the eligible population\n",
    "\n",
    "def one_simulated_tvd():\n",
    "    sample_distribution = sample_proportions(1453, eligible_population)\n",
    "    return total_variation_distance(sample_distribution, eligible_population)"
   ]
  },
  {
   "cell_type": "code",
   "execution_count": 15,
   "id": "928b4a12-c60b-4a2c-98dd-a97ec60497de",
   "metadata": {},
   "outputs": [
    {
     "data": {
      "text/plain": [
       "0.030633172746042665"
      ]
     },
     "execution_count": 15,
     "metadata": {},
     "output_type": "execute_result"
    }
   ],
   "source": [
    "one_simulated_tvd()"
   ]
  },
  {
   "cell_type": "markdown",
   "id": "4e77d9cf-35a3-4f3b-acb0-fea0ad250350",
   "metadata": {},
   "source": [
    "### 11.2.5.2. Simulating Multiple Values of the Statistic\n",
    "Loop to create an array of 5000 distances"
   ]
  },
  {
   "cell_type": "code",
   "execution_count": 16,
   "id": "1db25f29-f6cf-42de-959d-be4aba002588",
   "metadata": {},
   "outputs": [
    {
     "data": {
      "text/plain": [
       "array([ 0.01489332,  0.02379215,  0.01648314, ...,  0.0205437 ,\n",
       "        0.02043359,  0.02029594])"
      ]
     },
     "execution_count": 16,
     "metadata": {},
     "output_type": "execute_result"
    }
   ],
   "source": [
    "tvds = make_array()\n",
    "repetitions = 5000\n",
    "for i in np.arange(repetitions):\n",
    "    # tvds = np.append(tvds, one_simulated_tvd)\n",
    "    tvds = np.append(tvds, one_simulated_tvd())\n",
    "\n",
    "# len(tvds)  ### 5000\n",
    "tvds"
   ]
  },
  {
   "cell_type": "markdown",
   "id": "d5d476af-f846-4999-aee3-c60dfaf24dd7",
   "metadata": {},
   "source": [
    "## 11.2.6. Assessing the Model of Random Selection\n",
    "- Draw the empirical histogram of the simulated distances\n",
    "- Draw the model statistic (0.14). "
   ]
  },
  {
   "cell_type": "code",
   "execution_count": 17,
   "id": "d95107f7-9a22-47a3-ac84-02d500e5bd11",
   "metadata": {},
   "outputs": [
    {
     "data": {
      "image/png": "[encoded data removed]",
      "text/plain": [
       "<Figure size 600x400 with 1 Axes>"
      ]
     },
     "metadata": {},
     "output_type": "display_data"
    }
   ],
   "source": [
    "import matplotlib.pyplot as plots\n",
    "\n",
    "Table().with_column('TVD', tvds).hist(bins = np.arange(0, 0.2, 0.005))\n",
    "\n",
    "# Plotting parameters; you can ignore this code\n",
    "plots.title('Prediction Assuming Random Selection')\n",
    "plots.xlim(0, 0.15)\n",
    "plots.ylim(-5, 50)\n",
    "plots.scatter(0.14, 0, color='red', s=30);"
   ]
  },
  {
   "cell_type": "markdown",
   "id": "5b00ca35-5c83-4adb-b9a0-b91acfbfa686",
   "metadata": {},
   "source": [
    "The simulation shows that the composition of the panels in the ACLU study is not consistent with the model of random selection. Our analysis supports the ACLU’s conclusion that the panels were not representative of the distribution provided for the eligible jurors."
   ]
  },
  {
   "cell_type": "markdown",
   "id": "19da9432-e7af-471a-9d6f-f825cdc25a2b",
   "metadata": {},
   "source": [
    "## 11.2.7. Reasons for the Bias"
   ]
  },
  {
   "cell_type": "markdown",
   "id": "f47d26d8-3d06-4ad1-9b55-7909b04222db",
   "metadata": {},
   "source": [
    "## 11.2.8. Data Quality\n",
    "\n",
    "- Eligible Jurors\n",
    "- Panels"
   ]
  },
  {
   "cell_type": "markdown",
   "id": "80897d95-3700-4c1c-ab8a-6fc5196b4d4c",
   "metadata": {},
   "source": [
    "## 11.2.9. Conclusion\n",
    "\n",
    "- We can conclude that the distribution provided for the panelists who reported for service does not look like a random sample from the estimated distribution in the eligible population.- The simulation shows that the composition of the panels in the ACLU study is not consistent with the model of random selection.\n",
    "- The analysis supports the ACLU’s conclusion that the panels were not representative of the distribution provided for the eligible jurors.\n",
    "\n"
   ]
  },
  {
   "cell_type": "code",
   "execution_count": null,
   "id": "6ba2ec09-90b0-455a-b42c-3cb43ba2bbc7",
   "metadata": {},
   "outputs": [],
   "source": []
  }
 ],
 "metadata": {
  "kernelspec": {
   "display_name": "Python 3 (ipykernel)",
   "language": "python",
   "name": "python3"
  },
  "language_info": {
   "codemirror_mode": {
    "name": "ipython",
    "version": 3
   },
   "file_extension": ".py",
   "mimetype": "text/x-python",
   "name": "python",
   "nbconvert_exporter": "python",
   "pygments_lexer": "ipython3",
   "version": "3.12.2"
  }
 },
 "nbformat": 4,
 "nbformat_minor": 5
}
