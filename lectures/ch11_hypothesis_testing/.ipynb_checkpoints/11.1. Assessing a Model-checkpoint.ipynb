{
 "cells": [
  {
   "cell_type": "markdown",
   "id": "75f75eff-c3cb-4d76-9a70-7957ab0ee30e",
   "metadata": {},
   "source": [
    "# 11.1. Assessing a Model\n",
    "\n",
    "1. **model** is a set of assumptions about data\n",
    "2. models often include assumptions about **chance processes** used to generate data\n",
    "3. deciding whether a model is **good** "
   ]
  },
  {
   "cell_type": "markdown",
   "id": "9ccd3929-64b5-40d2-9e2d-3187cdc4cc3b",
   "metadata": {},
   "source": [
    "## 11.1.1. Jury Selection\n",
    "\n",
    "- data --> racial bias in jury selection "
   ]
  },
  {
   "cell_type": "markdown",
   "id": "c9fd2bff-1e3e-49ab-9429-e96122065299",
   "metadata": {},
   "source": [
    "## 11.1.2. A Model of Random Selection\n",
    "\n",
    "- We can simulate data based on the model. That is, we can simulate drawing at random from a population of whom 26% are Black.\n",
    "- Our simulation will show what a panel would be like if it were selected at random.\n",
    "- We can then compare the results of the simulation with the composition of an actual jury panel.\n",
    "- If the results of our **simulation** are not **consistent** with the **composition of the panel in the trial**, that will be **evidence against the model of random selection**. Therefore, it will be evidence against the fairness of the trial."
   ]
  },
  {
   "cell_type": "code",
   "execution_count": 23,
   "id": "46d4f919-92b1-4d53-b20c-508cdeeb3ada",
   "metadata": {},
   "outputs": [],
   "source": [
    "import matplotlib.pyplot as plt\n",
    "%matplotlib inline"
   ]
  },
  {
   "cell_type": "markdown",
   "id": "ec7139de-bfce-4b6e-8e82-495f55474184",
   "metadata": {},
   "source": [
    "## 11.1.3. The Statistic\n",
    "\n",
    "- The statistic has to be able to help us **decide between the model and alternative views** about the data\n",
    "  - The **model** says the panel was drawn at **random** from the eligible population.\n",
    "  - The **alternative** viewpoint is the case for Robert Swain, which is that the panel contained too few Black panelists to have been drawn at random.\n",
    "- A natural statistic, then, is the number or **count** of Black panelists in the sample. Small values of the statistic will favor Robert Swain’s viewpoint."
   ]
  },
  {
   "cell_type": "markdown",
   "id": "c7914396-cbe6-4be3-847f-68f0dd8f2749",
   "metadata": {},
   "source": [
    "### 11.1.4. Simulating the Statistic Under the Model\n",
    "\n",
    "- sample_proportions"
   ]
  },
  {
   "cell_type": "markdown",
   "id": "792a7058-0902-49a4-bb3b-542b7575c221",
   "metadata": {},
   "source": [
    "#### 11.1.4.1. Simulating One Value of the Statistic"
   ]
  },
  {
   "cell_type": "code",
   "execution_count": 24,
   "id": "4ebcc827-15f9-4fa6-8166-66a39c84918a",
   "metadata": {},
   "outputs": [
    {
     "data": {
      "text/plain": [
       "0.32"
      ]
     },
     "execution_count": 24,
     "metadata": {},
     "output_type": "execute_result"
    }
   ],
   "source": [
    "sample_size = 100\n",
    "eligible_population = [.26, .74]\n",
    "\n",
    "##### function sample_proportion is in datascience; see 10.4.3\n",
    "from datascience import *\n",
    "\n",
    "# sample_proportions(sample_size, eligible_population)   \n",
    "sample_proportions(sample_size, eligible_population).item(0)   ### item(0)\n",
    "\n",
    "\n",
    "### sample_size should be an integer, model_proportions an array of \n",
    "### probabilities that sum up to 1. It returns an array with the \n",
    "### same size as model_proportions. Each item in the array corresponds \n",
    "### to the proportion of times it was sampled out of the sample_size times."
   ]
  },
  {
   "cell_type": "code",
   "execution_count": 25,
   "id": "5c334e0c-8f4f-4d77-9753-6119bfec57b1",
   "metadata": {},
   "outputs": [],
   "source": [
    "def one_simulated_count():\n",
    "    return sample_size * sample_proportions(sample_size, eligible_population).item(0)   ### times chance"
   ]
  },
  {
   "cell_type": "code",
   "execution_count": 26,
   "id": "462796fa-c957-4d0c-af9c-79d4822f28e4",
   "metadata": {},
   "outputs": [
    {
     "data": {
      "text/plain": [
       "22.0"
      ]
     },
     "execution_count": 26,
     "metadata": {},
     "output_type": "execute_result"
    }
   ],
   "source": [
    "one_simulated_count()"
   ]
  },
  {
   "cell_type": "markdown",
   "id": "e9a77976-eea5-4331-a0ba-da9c3cb8efc7",
   "metadata": {},
   "source": [
    "#### 11.1.4.2. Simulating Multiple Values of the Statistic"
   ]
  },
  {
   "cell_type": "code",
   "execution_count": 27,
   "id": "6c374890-7593-412d-ab95-ce679efe49a0",
   "metadata": {},
   "outputs": [
    {
     "data": {
      "text/plain": [
       "(array([   13.,   104.,   923.,  1875.,  2622.,  2951.,  1057.,   404.,\n",
       "           41.,    10.]),\n",
       " array([ 10. ,  13.4,  16.8,  20.2,  23.6,  27. ,  30.4,  33.8,  37.2,\n",
       "         40.6,  44. ]),\n",
       " <BarContainer object of 10 artists>)"
      ]
     },
     "execution_count": 27,
     "metadata": {},
     "output_type": "execute_result"
    }
   ],
   "source": [
    "import numpy as np\n",
    "\n",
    "counts = make_array()\n",
    "repetitions = 10000\n",
    "for i in np.arange(repetitions):\n",
    "    # counts = np.append(counts, one_simulated_count)   ### be careful with ()\n",
    "    counts = np.append(counts, one_simulated_count())\n",
    "\n",
    "# counts\n",
    "# np.histogram(counts)\n",
    "plt.hist(counts)"
   ]
  },
  {
   "cell_type": "markdown",
   "id": "b26791f0-f31d-4f53-be23-870967869c10",
   "metadata": {},
   "source": [
    "### 11.1.5. The Prediction Under the Model of Random Selection\n",
    "\n",
    "- visualize simulated counts"
   ]
  },
  {
   "cell_type": "code",
   "execution_count": 30,
   "id": "93ecede0-e919-462c-b8ce-6f40f3e173e6",
   "metadata": {},
   "outputs": [
    {
     "data": {
      "image/png": "[encoded data removed]",
      "text/plain": [
       "<Figure size 600x400 with 1 Axes>"
      ]
     },
     "metadata": {},
     "output_type": "display_data"
    }
   ],
   "source": [
    "# Table().with_column(\n",
    "#     'Count in a Random Sample', counts\n",
    "# ).hist(bins = np.arange(5.5, 46.6, 1))\n",
    "\n",
    "\n",
    "Table().with_column(\n",
    "    'Count in a Random Sample', counts\n",
    ").hist(bins = np.arange(5.5, 46.6, 1))\n",
    "# tbl"
   ]
  },
  {
   "cell_type": "markdown",
   "id": "bde4fb60-0527-42cb-80d4-8e7f16a1c17b",
   "metadata": {},
   "source": [
    "## 11.1.6. Comparing the Prediction and the Data"
   ]
  },
  {
   "cell_type": "code",
   "execution_count": 29,
   "id": "f955e4e2-96c6-4727-b74d-fc6f422e7fce",
   "metadata": {},
   "outputs": [
    {
     "data": {
      "image/png": "[encoded data removed]",
      "text/plain": [
       "<Figure size 600x400 with 1 Axes>"
      ]
     },
     "metadata": {},
     "output_type": "display_data"
    }
   ],
   "source": [
    "Table().with_column(\n",
    "    'Count in a Random Sample', counts\n",
    ").hist(bins = np.arange(5.5, 46.6, 1))\n",
    "\n",
    "# plt.ylim(-0.002, 0.09)                  ### lift y (x) axis; overlay\n",
    "plt.ylim(-0.002, 0.09)                  ### lift y (x) axis; overlay\n",
    "plt.scatter(8, 0, color='red', s=30);"
   ]
  },
  {
   "cell_type": "markdown",
   "id": "82ccb2f7-dfa0-4873-a0b4-2ab3444642b7",
   "metadata": {},
   "source": [
    "## 11.1.7. Conclusion of the Data Analysis\n",
    "\n",
    "- bias\n",
    "- The **model of random selection of the jurors in the panel** is **not consistent with the data from the panel**.\n",
    "- The reality of the trial panel is very much at odds with the model’s assumption of random selection from the eligible population.\n",
    "- The model is just a set of assumptions. When assumptions are at odds with reality, we must question those assumptions.\n",
    "- Therefore the most reasonable conclusion is that the assumption of random selection is unjustified for this jury panel. In other words, the most reasonable conclusion is that the jury panel was not selected by random sampling from the population of eligible jurors."
   ]
  },
  {
   "cell_type": "markdown",
   "id": "f4678e8b-b597-4b5a-af41-92959b7a06e6",
   "metadata": {},
   "source": [
    "## 11.1.8. Statistical Bias\n",
    "\n",
    "- In a 6–3 decision, the Supreme Court affirmed the decision of the Alabama Supreme Court, holding that **neither the racial disparity in jury pools nor the decade-long absence of any black juror to serve at trial presented evidence sufficient to \"make out a prima facie case of invidious discrimination under the Fourteenth Amendment**.\" https://en.wikipedia.org/wiki/Swain_v._Alabama\n",
    "- quantitative evidence of unfairness in Robert Swain’s trial. The data support his position that he was denied the impartial jury to which he was entitled by the U.S. Constitution."
   ]
  },
  {
   "cell_type": "markdown",
   "id": "7c1dedc1-2c42-4bc1-8678-93ad61dfe115",
   "metadata": {},
   "source": [
    "\n",
    "## 11.1.9. Racial Bias\n",
    "\n",
    "- Talladega County jury panels were selected from a jury roll of names that the jury commissioners acquired from “\n",
    "  - city directories,\n",
    "  - registration lists,\n",
    "  - club and church lists,\n",
    "  - conversations with other persons in the community, both white and [not white], and\n",
    "  - personal and business acquaintances.” \n"
   ]
  },
  {
   "cell_type": "code",
   "execution_count": null,
   "id": "b3f08d4e-df1e-4551-87c8-277ad0c257a3",
   "metadata": {},
   "outputs": [],
   "source": []
  }
 ],
 "metadata": {
  "kernelspec": {
   "display_name": "Python 3 (ipykernel)",
   "language": "python",
   "name": "python3"
  },
  "language_info": {
   "codemirror_mode": {
    "name": "ipython",
    "version": 3
   },
   "file_extension": ".py",
   "mimetype": "text/x-python",
   "name": "python",
   "nbconvert_exporter": "python",
   "pygments_lexer": "ipython3",
   "version": "3.12.0"
  }
 },
 "nbformat": 4,
 "nbformat_minor": 5
}
