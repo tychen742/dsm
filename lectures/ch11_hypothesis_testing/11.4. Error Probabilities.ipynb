{
 "cells": [
  {
   "cell_type": "markdown",
   "id": "7b5d5d52-ce38-4506-9fb6-cc2f0cf66371",
   "metadata": {},
   "source": [
    "# 11.4. Error Probabilities\n",
    "\n",
    "- chance variation"
   ]
  },
  {
   "cell_type": "markdown",
   "id": "2d37f615-47cb-4203-b4ce-9ff7c9b21406",
   "metadata": {},
   "source": [
    "## 11.4.1. Wrong Conclusions\n"
   ]
  },
  {
   "cell_type": "markdown",
   "id": "d1548297-ffdc-459a-8733-04cbf2a62a10",
   "metadata": {},
   "source": [
    "In two out of the four cells of this table, the test result is wrong. One type of error occurs if the test favors the alternative hypothesis when in fact the null hypothesis is true. The other type of error occurs if the test favors the null hypothesis when in fact the alternative hypothesis is true.\n",
    "\n",
    "Since the null hypothesis is a completely specified chance model, the first type of error has a chance that we can estimate. The answer turns out to be essentially the cutoff that we use for the p-value. Let’s see how."
   ]
  },
  {
   "cell_type": "markdown",
   "id": "b730a902-e937-4d60-b245-d5b00f7735ce",
   "metadata": {},
   "source": [
    "## 11.4.2. The Chance of an Error"
   ]
  },
  {
   "cell_type": "markdown",
   "id": "745222ef-ea13-4cbc-a3ce-46a6d42a20ed",
   "metadata": {},
   "source": [
    "## 11.4.3. The Cutoff for the p-value is an Error Probability"
   ]
  },
  {
   "cell_type": "markdown",
   "id": "fb7a2a97-e1a0-4f00-b9d3-fb016aca9149",
   "metadata": {},
   "source": [
    "### 11.4.3.1. Controlling for the Error"
   ]
  },
  {
   "cell_type": "markdown",
   "id": "3863649d-0b2a-4fca-ab74-d4a0a790c9e0",
   "metadata": {},
   "source": [
    "## 11.4.4. Data Snooping and p-Hacking"
   ]
  },
  {
   "cell_type": "markdown",
   "id": "f1529a98-5682-4f73-b84d-ffe3b3e10b95",
   "metadata": {},
   "source": [
    "## 11.4.5. Technical Note: The Other Kind of Error"
   ]
  },
  {
   "cell_type": "code",
   "execution_count": null,
   "id": "b2d22d3e-7324-48e7-a8c2-1a43f0c82311",
   "metadata": {},
   "outputs": [],
   "source": []
  }
 ],
 "metadata": {
  "kernelspec": {
   "display_name": "Python 3 (ipykernel)",
   "language": "python",
   "name": "python3"
  },
  "language_info": {
   "codemirror_mode": {
    "name": "ipython",
    "version": 3
   },
   "file_extension": ".py",
   "mimetype": "text/x-python",
   "name": "python",
   "nbconvert_exporter": "python",
   "pygments_lexer": "ipython3",
   "version": "3.12.8"
  }
 },
 "nbformat": 4,
 "nbformat_minor": 5
}
