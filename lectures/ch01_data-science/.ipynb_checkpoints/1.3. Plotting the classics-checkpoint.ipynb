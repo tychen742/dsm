{
 "cells": [
  {
   "cell_type": "markdown",
   "id": "4b34ece3-c1b1-46ba-b8ae-22f4c8aa1f5a",
   "metadata": {},
   "source": [
    "# 1.3. Plotting the classics\n",
    "\n",
    "In this example, we will explore statistics for two classic novels: <b>The Adventures of Huckleberry Finn</b> by Mark Twain, and <b>Little Women</b> by Louisa May Alcott. The text of any book can be read by a computer at great speed. Books published before 1923 are currently in the public domain, meaning that everyone has the right to copy or use the text in any way. Project Gutenberg is a website that publishes public domain books online. Using Python, we can load the text of these books directly from the web.\n",
    "\n",
    "This example is meant to illustrate some of the broad themes of this text. Don’t worry if the details of the program don’t yet make sense. Instead, focus on interpreting the images generated below. Later sections of the text will describe most of the features of the Python programming language used below.\n",
    "\n",
    "First, we read the text of both books into lists of chapters, called <b>huck_finn_chapters</b> and <b>little_women_chapters</b>. In Python, a name cannot contain any spaces, and so we will often use an underscore _ to stand in for a space. The <b>=</b> in the lines below gives a name on the left to the result of some computation described on the right. A uniform resource locator, or URL, is an address on the Internet for some content; in this case, the text of a book. The # symbol starts a comment, which is ignored by the computer but helpful for people reading the code."
   ]
  },
  {
   "cell_type": "code",
   "execution_count": 1,
   "id": "769e8e0a-709d-4909-8030-7f68f94680c4",
   "metadata": {},
   "outputs": [],
   "source": [
    "##### import modules/packages\n",
    "import datascience\n",
    "from datascience import Table\n",
    "import numpy as np\n",
    "import ssl"
   ]
  },
  {
   "cell_type": "code",
   "execution_count": null,
   "id": "d0a3f84e-f45b-4f36-a4a8-7111ff2dbfc0",
   "metadata": {},
   "outputs": [],
   "source": [
    "##### function not available in the book ###\n",
    "##### we will learn about functions later\n",
    "\n",
    "context = ssl._create_unverified_context()\n",
    "\n",
    "def read_url(url):\n",
    "    from urllib.request import urlopen\n",
    "    import re\n",
    "    return re.sub('\\\\s+', ' ', urlopen(url, context = context).read().decode())"
   ]
  },
  {
   "cell_type": "code",
   "execution_count": null,
   "id": "69077ebb-690c-4d32-83c1-6a335657708e",
   "metadata": {},
   "outputs": [],
   "source": [
    "###### Read two books, fast! (CH1.3)\n",
    "\n",
    "huck_finn_url = 'https://www.introdsm.org/data/huck_finn.txt'\n",
    "huck_finn_text = read_url(huck_finn_url)\n",
    "huck_finn_chapters = huck_finn_text.split('CHAPTER ')[44:]\n",
    "\n",
    "little_women_url = 'https://www.introdsm.org/data/little_women.txt'\n",
    "little_women_text = read_url(little_women_url)\n",
    "little_women_chapters = little_women_text.split('CHAPTER ')[1:]"
   ]
  },
  {
   "cell_type": "code",
   "execution_count": null,
   "id": "47db1c23-d0db-4b29-9acd-42f267b082fc",
   "metadata": {},
   "outputs": [],
   "source": [
    "# Display the chapters of Huckleberry Finn in a table.\n",
    "##### we'll learn Table() function later; just use it now\n",
    "\n",
    "Table().with_column('Chapters', huck_finn_chapters)"
   ]
  },
  {
   "cell_type": "code",
   "execution_count": null,
   "id": "df43be71-fdab-4550-813c-cc6a02539112",
   "metadata": {},
   "outputs": [],
   "source": []
  },
  {
   "cell_type": "code",
   "execution_count": null,
   "id": "485fd30a-ad58-45a5-9f0b-c111befc5b88",
   "metadata": {},
   "outputs": [],
   "source": []
  }
 ],
 "metadata": {
  "kernelspec": {
   "display_name": "Python 3 (ipykernel)",
   "language": "python",
   "name": "python3"
  },
  "language_info": {
   "codemirror_mode": {
    "name": "ipython",
    "version": 3
   },
   "file_extension": ".py",
   "mimetype": "text/x-python",
   "name": "python",
   "nbconvert_exporter": "python",
   "pygments_lexer": "ipython3",
   "version": "3.12.0"
  }
 },
 "nbformat": 4,
 "nbformat_minor": 5
}
