{
 "cells": [
  {
   "cell_type": "markdown",
   "id": "9f8059c9-dd45-4932-9f84-facf40d12c79",
   "metadata": {},
   "source": [
    "# 13.2. The Bootstrap\n",
    "\n",
    "-  **Biitstrap** generates new *raondome samples* by **resampling**: the new samples are drawn **at random** from the **original sample**."
   ]
  },
  {
   "cell_type": "markdown",
   "id": "248529d4-1419-41b8-9fac-536048268205",
   "metadata": {},
   "source": [
    "## 13.2.1. Employee Compensation in the City of San Francisco"
   ]
  },
  {
   "cell_type": "code",

   "id": "aadfee91-5589-4656-9e2c-f30431e8d8ff",
   "metadata": {},
   "outputs": [],
   "source": [
    "path_data = '../../data/'\n",
    "from datascience import *     ##### * means all objects (public )\n"
   ]
  },
  {
   "cell_type": "code",

   "id": "7a45f3f2-cc11-42ce-86f7-9e5aeea6f1cb",
   "metadata": {},
   "outputs": [],
   "source": [
    "\n",
    "from datascience import *     ##### * means all objects (public )\n",
    "import datascience as ds\n",
    "\n",
    "\n",
    "# tbl = ds.Table().with_column(\"nums\", [1, 3, 5])\n",
    "# tbl\n",
    "# type(tbl)"
   ]
  },
  {
   "cell_type": "code",

   "id": "dc753e1e-bcb3-479a-b260-58f6268aefe3",
   "metadata": {},
   "outputs": [
    {
     "data": {
      "text/html": [
       "<table border=\"1\" class=\"dataframe\">\n",
       "    <thead>\n",
       "        <tr>\n",
       "            <th>Organization Group</th> <th>Department</th> <th>Job Family</th> <th>Job</th> <th>Salary</th> <th>Overtime</th> <th>Benefits</th> <th>Total Compensation</th>\n",
       "        </tr>\n",
       "    </thead>\n",
       "    <tbody>\n",
       "        <tr>\n",
       "            <td>Public Protection </td> <td>Adult Probation</td> <td>Information Systems</td> <td>IS Trainer-Journey        </td> <td>91332 </td> <td>0       </td> <td>40059   </td> <td>131391            </td>\n",
       "        </tr>\n",
       "        <tr>\n",
       "            <td>Public Protection </td> <td>Adult Probation</td> <td>Information Systems</td> <td>IS Engineer-Assistant     </td> <td>123241</td> <td>0       </td> <td>49279   </td> <td>172520            </td>\n",
       "        </tr>\n",
       "        <tr>\n",
       "            <td>Public Protection </td> <td>Adult Probation</td> <td>Information Systems</td> <td>IS Business Analyst-Senior</td> <td>115715</td> <td>0       </td> <td>46752   </td> <td>162468            </td>\n",
       "        </tr>\n",
       "    </tbody>\n",
       "</table>\n",
       "<p>... (44522 rows omitted)</p>"
      ],
      "text/plain": [
       "<IPython.core.display.HTML object>"
      ]
     },
     "metadata": {},
     "output_type": "display_data"
    }
   ],
   "source": [
    "sf2019 = Table.read_table(path_data + 'san_francisco_2019.csv' )\n",
    "sf2019.show(3)"
   ]
  },
  {
   "cell_type": "code",

   "id": "8bb8567b-80d8-46a9-9242-33ee045f6670",
   "metadata": {},
   "outputs": [
    {
     "data": {
      "text/html": [
       "<table border=\"1\" class=\"dataframe\">\n",
       "    <thead>\n",
       "        <tr>\n",
       "            <th>Organization Group</th> <th>Department</th> <th>Job Family</th> <th>Job</th> <th>Salary</th> <th>Overtime</th> <th>Benefits</th> <th>Total Compensation</th>\n",
       "        </tr>\n",
       "    </thead>\n",
       "    <tbody>\n",
       "        <tr>\n",
       "            <td>General Administration & Finance</td> <td>Mayor     </td> <td>Administrative & Mgmt (Unrep)</td> <td>Mayor</td> <td>342974</td> <td>0       </td> <td>98012   </td> <td>440987            </td>\n",
       "        </tr>\n",
       "    </tbody>\n",
       "</table>"
      ],
      "text/plain": [
       "Organization Group               | Department | Job Family                    | Job   | Salary | Overtime | Benefits | Total Compensation\n",
       "General Administration & Finance | Mayor      | Administrative & Mgmt (Unrep) | Mayor | 342974 | 0        | 98012    | 440987"
      ]
     },

     "metadata": {},
     "output_type": "execute_result"
    }
   ],
   "source": [
    "sf2019.where('Job', 'Mayor')"
   ]
  },
  {
   "cell_type": "code",

   "id": "1506e38f-ba4a-4c09-b462-de4603b4c1f9",
   "metadata": {},
   "outputs": [
    {
     "data": {
      "text/html": [
       "<table border=\"1\" class=\"dataframe\">\n",
       "    <thead>\n",
       "        <tr>\n",
       "            <th>Organization Group</th> <th>Department</th> <th>Job Family</th> <th>Job</th> <th>Salary</th> <th>Overtime</th> <th>Benefits</th> <th>Total Compensation</th>\n",
       "        </tr>\n",
       "    </thead>\n",
       "    <tbody>\n",
       "        <tr>\n",
       "            <td>Community Health                       </td> <td>Public Health                </td> <td>Information Systems</td> <td>Technology Expert II </td> <td>211601</td> <td>0       </td> <td>70787   </td> <td>282388            </td>\n",
       "        </tr>\n",
       "        <tr>\n",
       "            <td>Public Works, Transportation & Commerce</td> <td>Municipal Transportation Agcy</td> <td>Information Systems</td> <td>IS Engineer-Principal</td> <td>208273</td> <td>0       </td> <td>58523   </td> <td>266796            </td>\n",
       "        </tr>\n",
       "        <tr>\n",
       "            <td>Public Works, Transportation & Commerce</td> <td>Municipal Transportation Agcy</td> <td>Information Systems</td> <td>IS Engineer-Principal</td> <td>206353</td> <td>0       </td> <td>58528   </td> <td>264880            </td>\n",
       "        </tr>\n",
       "        <tr>\n",
       "            <td>General Administration & Finance       </td> <td>Department of Technology     </td> <td>Information Systems</td> <td>IS Engineer-Principal</td> <td>204723</td> <td>0       </td> <td>61228   </td> <td>265951            </td>\n",
       "        </tr>\n",
       "        <tr>\n",
       "            <td>Public Works, Transportation & Commerce</td> <td>Airport Commission           </td> <td>Information Systems</td> <td>IS Engineer-Principal</td> <td>204132</td> <td>0       </td> <td>60407   </td> <td>264539            </td>\n",
       "        </tr>\n",
       "        <tr>\n",
       "            <td>Public Works, Transportation & Commerce</td> <td>Municipal Transportation Agcy</td> <td>Information Systems</td> <td>IS Engineer-Principal</td> <td>203959</td> <td>0       </td> <td>58094   </td> <td>262053            </td>\n",
       "        </tr>\n",
       "        <tr>\n",
       "            <td>Public Works, Transportation & Commerce</td> <td>Airport Commission           </td> <td>Information Systems</td> <td>IS Engineer-Principal</td> <td>202914</td> <td>0       </td> <td>66564   </td> <td>269477            </td>\n",
       "        </tr>\n",
       "        <tr>\n",
       "            <td>Public Works, Transportation & Commerce</td> <td>Airport Commission           </td> <td>Information Systems</td> <td>IS Project Director  </td> <td>201754</td> <td>0       </td> <td>66292   </td> <td>268046            </td>\n",
       "        </tr>\n",
       "        <tr>\n",
       "            <td>General Administration & Finance       </td> <td>Department of Technology     </td> <td>Information Systems</td> <td>IS Engineer-Principal</td> <td>201108</td> <td>0       </td> <td>61190   </td> <td>262298            </td>\n",
       "        </tr>\n",
       "        <tr>\n",
       "            <td>Public Works, Transportation & Commerce</td> <td>Municipal Transportation Agcy</td> <td>Information Systems</td> <td>IS Engineer-Principal</td> <td>200284</td> <td>0       </td> <td>58387   </td> <td>258671            </td>\n",
       "        </tr>\n",
       "    </tbody>\n",
       "</table>\n",
       "<p>... (1162 rows omitted)</p>"
      ],
      "text/plain": [
       "Organization Group                      | Department                    | Job Family          | Job                   | Salary | Overtime | Benefits | Total Compensation\n",
       "Community Health                        | Public Health                 | Information Systems | Technology Expert II  | 211601 | 0        | 70787    | 282388\n",
       "Public Works, Transportation & Commerce | Municipal Transportation Agcy | Information Systems | IS Engineer-Principal | 208273 | 0        | 58523    | 266796\n",
       "Public Works, Transportation & Commerce | Municipal Transportation Agcy | Information Systems | IS Engineer-Principal | 206353 | 0        | 58528    | 264880\n",
       "General Administration & Finance        | Department of Technology      | Information Systems | IS Engineer-Principal | 204723 | 0        | 61228    | 265951\n",
       "Public Works, Transportation & Commerce | Airport Commission            | Information Systems | IS Engineer-Principal | 204132 | 0        | 60407    | 264539\n",
       "Public Works, Transportation & Commerce | Municipal Transportation Agcy | Information Systems | IS Engineer-Principal | 203959 | 0        | 58094    | 262053\n",
       "Public Works, Transportation & Commerce | Airport Commission            | Information Systems | IS Engineer-Principal | 202914 | 0        | 66564    | 269477\n",
       "Public Works, Transportation & Commerce | Airport Commission            | Information Systems | IS Project Director   | 201754 | 0        | 66292    | 268046\n",
       "General Administration & Finance        | Department of Technology      | Information Systems | IS Engineer-Principal | 201108 | 0        | 61190    | 262298\n",
       "Public Works, Transportation & Commerce | Municipal Transportation Agcy | Information Systems | IS Engineer-Principal | 200284 | 0        | 58387    | 258671\n",
       "... (1162 rows omitted)"
      ]
     },

     "metadata": {},
     "output_type": "execute_result"
    }
   ],
   "source": [
    "# sf2019.where('Job Family', 'Information Systems').sort('Salary', sorted)\n",
    "sf2019.where('Job Family', 'Information Systems').sort('Salary', descending = True)"
   ]
  },
  {
   "cell_type": "code",

   "id": "e5ff54c8-917b-4343-8b1f-4f6d6d5d0117",
   "metadata": {},
   "outputs": [
    {
     "data": {
      "text/html": [
       "<table border=\"1\" class=\"dataframe\">\n",
       "    <thead>\n",
       "        <tr>\n",
       "            <th>Organization Group</th> <th>Department</th> <th>Job Family</th> <th>Job</th> <th>Salary</th> <th>Overtime</th> <th>Benefits</th> <th>Total Compensation</th>\n",
       "        </tr>\n",
       "    </thead>\n",
       "    <tbody>\n",
       "        <tr>\n",
       "            <td>General Administration & Finance</td> <td>Retirement Services</td> <td>Administrative & Mgmt (Unrep)</td> <td>Chief Investment Officer</td> <td>577633</td> <td>0       </td> <td>146398  </td> <td>724031            </td>\n",
       "        </tr>\n",
       "        <tr>\n",
       "            <td>General Administration & Finance</td> <td>Retirement Services</td> <td>Unassigned                   </td> <td>Managing Director       </td> <td>483072</td> <td>0       </td> <td>134879  </td> <td>617951            </td>\n",
       "        </tr>\n",
       "        <tr>\n",
       "            <td>General Administration & Finance</td> <td>Retirement Services</td> <td>Unassigned                   </td> <td>Managing Director       </td> <td>482649</td> <td>0       </td> <td>134905  </td> <td>617554            </td>\n",
       "        </tr>\n",
       "        <tr>\n",
       "            <td>General Administration & Finance</td> <td>Retirement Services</td> <td>Unassigned                   </td> <td>Managing Director       </td> <td>451507</td> <td>0       </td> <td>120276  </td> <td>571784            </td>\n",
       "        </tr>\n",
       "        <tr>\n",
       "            <td>General Administration & Finance</td> <td>Retirement Services</td> <td>Unassigned                   </td> <td>Managing Director       </td> <td>449378</td> <td>0       </td> <td>120857  </td> <td>570235            </td>\n",
       "        </tr>\n",
       "    </tbody>\n",
       "</table>\n",
       "<p>... (44520 rows omitted)</p>"
      ],
      "text/plain": [
       "<IPython.core.display.HTML object>"
      ]
     },
     "metadata": {},
     "output_type": "display_data"
    }
   ],
   "source": [
    "sf2019.sort('Total Compensation', descending=True).show(5)"
   ]
  },
  {
   "cell_type": "code",

   "id": "1980835a-b302-4457-a134-5abc86aaac2f",
   "metadata": {},
   "outputs": [
    {
     "data": {
      "text/html": [
       "<table border=\"1\" class=\"dataframe\">\n",
       "    <thead>\n",
       "        <tr>\n",
       "            <th>Organization Group</th> <th>Department</th> <th>Job Family</th> <th>Job</th> <th>Salary</th> <th>Overtime</th> <th>Benefits</th> <th>Total Compensation</th>\n",
       "        </tr>\n",
       "    </thead>\n",
       "    <tbody>\n",
       "        <tr>\n",
       "            <td>Public Protection </td> <td>Adult Probation</td> <td>Probation & Parole           </td> <td>Deputy Probation Officer     </td> <td>0     </td> <td>0       </td> <td>0       </td> <td>0                 </td>\n",
       "        </tr>\n",
       "        <tr>\n",
       "            <td>Public Protection </td> <td>Fire Department</td> <td>Clerical, Secretarial & Steno</td> <td>Senior Clerk Typist          </td> <td>0     </td> <td>0       </td> <td>0       </td> <td>0                 </td>\n",
       "        </tr>\n",
       "        <tr>\n",
       "            <td>Public Protection </td> <td>Juvenile Court </td> <td>Correction & Detention       </td> <td>Counselor, Juvenile Hall PERS</td> <td>0     </td> <td>0       </td> <td>0       </td> <td>0                 </td>\n",
       "        </tr>\n",
       "        <tr>\n",
       "            <td>Public Protection </td> <td>Police         </td> <td>Clerical, Secretarial & Steno</td> <td>Clerk Typist                 </td> <td>0     </td> <td>0       </td> <td>0       </td> <td>0                 </td>\n",
       "        </tr>\n",
       "        <tr>\n",
       "            <td>Public Protection </td> <td>Sheriff        </td> <td>Correction & Detention       </td> <td>Deputy Sheriff               </td> <td>0     </td> <td>0       </td> <td>0       </td> <td>0                 </td>\n",
       "        </tr>\n",
       "    </tbody>\n",
       "</table>\n",
       "<p>... (44520 rows omitted)</p>"
      ],
      "text/plain": [
       "<IPython.core.display.HTML object>"
      ]
     },
     "metadata": {},
     "output_type": "display_data"
    }
   ],
   "source": [
    "sf2019.sort('Total Compensation').show(5)"
   ]
  },
  {
   "cell_type": "code",

   "id": "45e154c4-769c-4141-9093-a0dea6314d10",
   "metadata": {},
   "outputs": [],
   "source": [
    "import matplotlib.pyplot as plt\n",
    "%matplotlib inline \n",
    "\n",
    "# sf2019.column('Total Compensation').sort()"
   ]
  },
  {
   "cell_type": "code",

   "id": "6fb21cd6-76b1-4ae2-915c-d21a58cc0528",
   "metadata": {},
   "outputs": [
    {
     "data": {
      "text/plain": [
       "37103"
      ]
     },

     "metadata": {},
     "output_type": "execute_result"
    }
   ],
   "source": [
    "### only analyze half-time job or more: roughly $15/hour, 20hr/week, * 52\n",
    "# sf2019=sf2019.where('Salary', are.above(15*23*50))\n",
    "\n",
    "sf2019=sf2019.where('Salary', are.above(15000))\n",
    "sf2019.num_rows"
   ]
  },
  {
   "cell_type": "markdown",
   "id": "f5f861fe-81fc-4d07-997f-d3b0a72d3d2a",
   "metadata": {},
   "source": [
    "## 13.2.2. Population and Parameter\n",
    "\n",
    "- 37103 is now the population\n",
    "- let's do a histogram of the compensation of the population "
   ]
  },
  {
   "cell_type": "code",

   "id": "f887bc1c-56ec-46b7-a052-13e8d4f9838c",
   "metadata": {},
   "outputs": [
    {
     "data": {
      "image/png": "[encoded data removed]",
      "text/plain": [
       "<Figure size 600x400 with 1 Axes>"
      ]
     },
     "metadata": {},
     "output_type": "display_data"
    }
   ],
   "source": [
    "import numpy as np\n",
    "\n",
    "sf_bins = np.arange(0, 726000, 25000)\n",
    "\n",
    "sf2019.select('Total Compensation').hist(bins = sf_bins)\n",
    "plt.grid()"
   ]
  },
  {
   "cell_type": "code",

   "id": "cd8d2ba0-0ce6-44b1-b814-c57ad894d7b0",
   "metadata": {},
   "outputs": [
    {
     "data": {
      "text/html": [
       "<table border=\"1\" class=\"dataframe\">\n",
       "    <thead>\n",
       "        <tr>\n",
       "            <th>Organization Group</th> <th>Department</th> <th>Job Family</th> <th>Job</th> <th>Salary</th> <th>Overtime</th> <th>Benefits</th> <th>Total Compensation</th>\n",
       "        </tr>\n",
       "    </thead>\n",
       "    <tbody>\n",
       "        <tr>\n",
       "            <td>General Administration & Finance</td> <td>Retirement Services</td> <td>Administrative & Mgmt (Unrep)</td> <td>Chief Investment Officer</td> <td>577633</td> <td>0       </td> <td>146398  </td> <td>724031            </td>\n",
       "        </tr>\n",
       "        <tr>\n",
       "            <td>General Administration & Finance</td> <td>Retirement Services</td> <td>Unassigned                   </td> <td>Managing Director       </td> <td>483072</td> <td>0       </td> <td>134879  </td> <td>617951            </td>\n",
       "        </tr>\n",
       "    </tbody>\n",
       "</table>\n",
       "<p>... (37101 rows omitted)</p>"
      ],
      "text/plain": [
       "<IPython.core.display.HTML object>"
      ]
     },
     "metadata": {},
     "output_type": "display_data"
    }
   ],
   "source": [
    "sf2019.sort('Total Compensation', descending=True).show(2)"
   ]
  },
  {
   "cell_type": "markdown",
   "id": "a290557f-aa17-4667-aa04-9f3333b78e9e",
   "metadata": {},
   "source": [
    "- Suppose the **parameter** in which we are interested is the **median of the total compensations**.\n",
    "- calculating the parameter (because we have the population data... we usually don't)\n",
    "\n"
   ]
  },
  {
   "cell_type": "code",

   "id": "ed4e6022-663f-40b5-a695-26a1641d3e33",
   "metadata": {},
   "outputs": [
    {
     "data": {
      "text/plain": [
       "135747.0"
      ]
     },

     "metadata": {},
     "output_type": "execute_result"
    }
   ],
   "source": [
    "### we use percentile\n",
    "\n",
    "pop_median = percentile(50, sf2019.column('Total Compensation'))\n",
    "pop_median"
   ]
  },
  {
   "cell_type": "markdown",
   "id": "a55b7832-4317-4ddc-a9bb-51ce21b05724",
   "metadata": {},
   "source": [
    "- we have this paremeter.\n",
    "- now, pretend that we don't know the parameter (median) and we want to estimate it."
   ]
  },
  {
   "cell_type": "markdown",
   "id": "82e422bd-b4b0-4835-8549-0ce43fd21b9c",
   "metadata": {},
   "source": [
    "## 13.2.3. A Random Sample and an Estimate\n",
    "\n",
    "- draw a sample of 500 employees at random without replacement, and let\n",
    "- the **median total compensation of the sampled employees serve as our estimate of the parameter**."
   ]
  },
  {
   "cell_type": "code",

   "id": "7da1e62e-9949-4c8c-a3e4-67e569640cf7",
   "metadata": {},
   "outputs": [
    {
     "data": {
      "image/png": "[encoded data removed]",
      "text/plain": [
       "<Figure size 600x400 with 1 Axes>"
      ]
     },
     "metadata": {},
     "output_type": "display_data"
    }
   ],
   "source": [
    "our_sample = sf2019.sample(500, with_replacement=False)   ### \"sample\" --> table\n",
    "# our_sample.select('Total Compensation').hist()\n",
    "our_sample.select('Total Compensation').hist(bins=sf_bins)"
   ]
  },
  {
   "cell_type": "code",

   "id": "298ce231-56c3-4873-80c8-dbcb86044d89",
   "metadata": {},
   "outputs": [
    {
     "data": {
      "text/plain": [
       "130336.0"
      ]
     },

     "metadata": {},
     "output_type": "execute_result"
    }
   ],
   "source": [
    "est_median = percentile(50, our_sample.column('Total Compensation'))\n",
    "est_median"
   ]
  },
  {
   "cell_type": "markdown",
   "id": "4c8735dc-e2ca-4559-a0b8-c60d231f7ad1",
   "metadata": {},
   "source": [
    "- we have one estimate of the parameter, but different sample would give us different value.\n",
    "- we want to **quantify the amount by which the estimate could vary across samples**. That measure of variability will help us measure how accurately we can estimate the parameter.\n",
    "- get another random sample without sampling again from the population"
   ]
  },
  {
   "cell_type": "markdown",
   "id": "bbb98353-fcea-4398-8085-e5b5bec24530",
   "metadata": {},
   "source": [
    "## 13.2.4. The Bootstrap: Resampling from the Sample\n",
    "\n",
    "- large random sample (empirical sampling) is likely to resemble the population (theoretical sampling) from which it is drawn\n",
    "- This observation allows data scientists to lift themselves up by their own bootstraps: the sampling procedure can be replicated by sampling from the sample.\n",
    "- the bootstrap method for generating another random sample that resembles the population:\n",
    "  - **Treat the original sample as if it were the population.**\n",
    "  - **Draw from the sample, at random *with replacement*, the same number of times as the original sample size.** (he variability of an estimate depends on the size of the sample.)"
   ]
  },
  {
   "cell_type": "markdown",
   "id": "191c26b8-bc8a-404c-b6e3-e53aaa17b7ce",
   "metadata": {},
   "source": [
    "## 13.2.5. Why the Bootstrap Works\n",
    "\n",
    "### population ==> sample ==> resamples"
   ]
  },
  {
   "cell_type": "markdown",
   "id": "0c03b4c2-b98b-42e8-a856-e03adbad08bb",
   "metadata": {},
   "source": [
    "## 13.2.6. A Resampled Median\n",
    "\n",
    "- **sample()**:\n",
    "  -  draws rows from a table **with replacement** by default, and\n",
    "  -  when it is used without specifying a sample size, by default the sample size equals **the number of rows of the table**.\n",
    "  -  https://www.data8.org/datascience/_autosummary/datascience.tables.Table.sample.html#datascience.tables.Table.sample\n",
    "     - Table.sample(k=None, with_replacement=True, weights=None)"
   ]
  },
  {
   "cell_type": "code",

   "id": "76749423-1418-4ddd-8638-8e8f6117be39",
   "metadata": {},
   "outputs": [],
   "source": [
    "resample_1 = our_sample.sample()"
   ]
  },
  {
   "cell_type": "code",

   "id": "775914f5-f7f4-4300-a7f6-f06155ca12f5",
   "metadata": {},
   "outputs": [],
   "source": [
    "# resample_1"
   ]
  },
  {
   "cell_type": "code",

   "id": "9cd43735-79ed-44e6-8d9e-4989e93b89b5",
   "metadata": {},
   "outputs": [
    {
     "data": {
      "image/png": "[encoded data removed]",
      "text/plain": [
       "<Figure size 600x400 with 1 Axes>"
      ]
     },
     "metadata": {},
     "output_type": "display_data"
    }
   ],
   "source": [
    "resample_1.select('Total Compensation').hist(bins=sf_bins)   ### select to create a table "
   ]
  },
  {
   "cell_type": "code",

   "id": "30359928-2657-4a3d-9c4f-b447ba957024",
   "metadata": {},
   "outputs": [
    {
     "data": {
      "text/plain": [
       "131012.0"
      ]
     },

     "metadata": {},
     "output_type": "execute_result"
    }
   ],
   "source": [
    "resample_median_1 = percentile(50, resample_1.column('Total Compensation'))\n",
    "resample_median_1\n",
    "\n",
    "##### This value is an estimate of the population median."
   ]
  },
  {
   "cell_type": "markdown",
   "id": "b9407834-2896-479c-bb15-c302f178b0cf",
   "metadata": {},
   "source": [
    "#### By resampling again and again, we can get many such estimates, and hence an empirical distribution of the estimates.\n",
    "\n"
   ]
  },
  {
   "cell_type": "code",

   "id": "d1c071bf-8ffa-4301-ba7e-0bf79f1be9c4",
   "metadata": {},
   "outputs": [
    {
     "data": {
      "text/plain": [
       "125795.0"
      ]
     },

     "metadata": {},
     "output_type": "execute_result"
    }
   ],
   "source": [
    "##### (re)sample once\n",
    "resample_2 = our_sample.sample()   ### our sample\n",
    "resample_median_2 = percentile(50, resample_2.column('Total Compensation'))\n",
    "resample_median_2"
   ]
  },
  {
   "cell_type": "code",

   "id": "907e388d-f357-487a-93b0-82416e7204ca",
   "metadata": {},
   "outputs": [],
   "source": [
    "##### function\n",
    "def one_bootstrap_median():\n",
    "    resampled_table = our_sample.sample()\n",
    "    bootstrapped_median = percentile(50, resampled_table.column('Total Compensation'))\n",
    "    return bootstrapped_median"
   ]
  },
  {
   "cell_type": "code",

   "id": "b87a1c0e-29aa-49ac-bee9-de5d0118a3d0",
   "metadata": {},
   "outputs": [
    {
     "data": {
      "text/plain": [
       "134590.0"
      ]
     },

     "metadata": {},
     "output_type": "execute_result"
    }
   ],
   "source": [
    "one_bootstrap_median()"
   ]
  },
  {
   "cell_type": "markdown",
   "id": "7acc20aa-b705-4f58-8e09-5fcb366d2c69",
   "metadata": {},
   "source": [
    "## 13.2.7. Bootstrap Empirical Distribution of the Sample Median\n"
   ]
  },
  {
   "cell_type": "code",

   "id": "9d9e3e6c-1391-4c3e-a640-c5b00c78523c",
   "metadata": {},
   "outputs": [],
   "source": [
    "repetitions = 5000\n",
    "bstrap_medians = make_array()\n",
    "\n",
    "for i in np.arange(repetitions):\n",
    "    bstrap_medians = np.append(bstrap_medians, one_bootstrap_median())"
   ]
  },
  {
   "cell_type": "code",

   "id": "b6704f0c-a0eb-44e8-917d-bf2a88f8aadf",
   "metadata": {},
   "outputs": [],
   "source": [
    "resampled_medians = Table().with_column('Bootstrap Sample Median', bstrap_medians)\n",
    "\n",
    "##### bins values\n",
    "# resampled_medians.column(0).max()\n",
    "# resampled_medians.column(0).min()\n",
    "\n",
    "median_bins = np.arange(120000, 160000, 2000)\n",
    "resampled_medians.hist(bins=median_bins)\n",
    "\n",
    "## Plotting parameters; you can ignore this code\n",
    "parameter_green = '#32CD32'\n",
    "plt.ylim(-0.000005, 0.00014)\n",
    "plt.scatter(pop_median, 0, color=parameter_green, s=40, zorder=2);\n",
    "\n",
    "### note that this distrubtion reflects that one-time draw of 500 samples"
   ]
  },
  {
   "cell_type": "markdown",
   "id": "f7478176-32a9-4452-b535-066306b70c6e",
   "metadata": {},
   "source": [
    "## 13.2.8. Do the Estimates Capture the Parameter?\n",
    "\n",
    "-How often does the empirical histogram of the resampled medians sit firmly over the green dot, and not just brush the dot with its tails or not cover it at all? \n",
    "To answer this, we must define “sit firmly”. \n",
    "Let’s take that to mean **“the middle 95% of the resampled medians contains the green dot”**."
   ]
  },
  {
   "cell_type": "code",

   "id": "47fdc96a-63ca-4bfa-a26d-13e469861116",
   "metadata": {},
   "outputs": [],
   "source": [
    "##### Here are the two ends of the “middle 95%” interval of resampled medians:\n",
    "\n",
    "left = percentile(2.5, bstrap_medians)\n",
    "left"
   ]
  },
  {
   "cell_type": "code",

   "id": "66d1931b-7cca-4bda-b045-ded3d917e3fa",
   "metadata": {},
   "outputs": [],
   "source": [
    "right = percentile(97.5, bstrap_medians)\n",
    "right"
   ]
  },
  {
   "cell_type": "code",

   "id": "5ae94638-9ddd-4d48-ada9-a7cb655af60d",
   "metadata": {},
   "outputs": [],
   "source": [
    "##### The population median of 135,747 dollars is between these two numbers."
   ]
  },
  {
   "cell_type": "code",

   "id": "1b103fd6-a7a9-4672-b5a2-d17ae0abff5b",
   "metadata": {},
   "outputs": [],
   "source": [
    "resampled_medians.hist()\n",
    "\n",
    "### Plotting parameters; you can ignore this code\n",
    "plt.ylim(-0.000005, 0.00014)\n",
    "plt.plot([left, right], [0, 0], color='yellow', lw=3, zorder=1)\n",
    "plt.scatter(pop_median, 0, color=parameter_green, s=40, zorder=2);"
   ]
  },
  {
   "cell_type": "code",

   "id": "aed76bc6-1b5a-4471-96cd-66e5f1ae5be6",
   "metadata": {},
   "outputs": [],
   "source": []
  }
 ],
 "metadata": {
  "kernelspec": {
   "display_name": "Python 3 (ipykernel)",
   "language": "python",
   "name": "python3"
  },
  "language_info": {
   "codemirror_mode": {
    "name": "ipython",
    "version": 3
   },
   "file_extension": ".py",
   "mimetype": "text/x-python",
   "name": "python",
   "nbconvert_exporter": "python",
   "pygments_lexer": "ipython3",
   "version": "3.12.0"
  }
 },
 "nbformat": 4,
 "nbformat_minor": 5
}
