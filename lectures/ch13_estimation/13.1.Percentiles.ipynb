{
 "cells": [
  {
   "cell_type": "markdown",
   "id": "636e302f-d089-4b56-9b2d-c5f7cc51de89",
   "metadata": {},
   "source": [
    "# 13.1. Percentiles\n",
    "\n",
    "- Numerical data can be sorted in increasing or decreasing **order**. Thus the values of a numerical data set have a rank order. A **percentile is the value at a particular rank**.\n",
    "- For example, if your score on a test is on the **95th percentile**, a common interpretation is that only 5% of the scores were higher than yours.\n",
    "- The **median** is the 50th percentile; it is commonly assumed that **50%** the values in a data set are above the median.\n",
    "- Be careful about cases sudh as ties and when the index is not clear; e.g., 87th percentile of a collection of 10 values?"
   ]
  },
  {
   "cell_type": "markdown",
   "id": "98a24ffa-b657-4ddd-952f-6a9366668029",
   "metadata": {},
   "source": [
    "## 13.1.1. A Numerical Example\n",
    "- A case definition: Before giving a general definition of all percentiles, we will define the 80th percentile of a collection of values to be the smallest value in the collection that is at least as large as 80% of all of the values\n",
    "- five largest continents – Africa, Antarctica, Asia, North America, and South America – rounded to the nearest million square miles:"
   ]
  },
  {
   "cell_type": "code",
   "execution_count": 9,
   "id": "cbbba1eb-1ba8-46b4-b710-87f19a86f912",
   "metadata": {},
   "outputs": [
    {
     "data": {
      "text/plain": [
       "numpy.ndarray"
      ]
     },
     "execution_count": 9,
     "metadata": {},
     "output_type": "execute_result"
    }
   ],
   "source": [
    "from datascience import *\n",
    "\n",
    "sizes = make_array(12, 17, 6, 9, 7)\n",
    "type(sizes)"
   ]
  },
  {
   "cell_type": "markdown",
   "id": "694948ef-eacd-4031-828c-e0acd4b5e5f0",
   "metadata": {},
   "source": [
    "The 80th percentile: at least as large as 80% of the elements"
   ]
  },
  {
   "cell_type": "code",
   "execution_count": 10,
   "id": "d4a203f4-2ce9-4b20-871b-338928b09bd3",
   "metadata": {},
   "outputs": [
    {
     "data": {
      "text/plain": [
       "array([ 6,  7,  9, 12, 17])"
      ]
     },
     "execution_count": 10,
     "metadata": {},
     "output_type": "execute_result"
    }
   ],
   "source": [
    "import numpy as np\n",
    "\n",
    "np.sort(sizes)"
   ]
  },
  {
   "cell_type": "code",
   "execution_count": 11,
   "id": "d310a3d9-f595-43cb-b2b9-d8fe552c25d6",
   "metadata": {},
   "outputs": [
    {
     "data": {
      "text/plain": [
       "1.0"
      ]
     },
     "execution_count": 11,
     "metadata": {},
     "output_type": "execute_result"
    }
   ],
   "source": [
    "### 20th percentile \n",
    "### 20/100 * n\n",
    "n = len(sizes)\n",
    "20/100 * n"
   ]
  },
  {
   "cell_type": "code",
   "execution_count": 12,
   "id": "73872557-80d6-469c-b4a4-f8feec00a415",
   "metadata": {},
   "outputs": [
    {
     "data": {
      "text/plain": [
       "12"
      ]
     },
     "execution_count": 12,
     "metadata": {},
     "output_type": "execute_result"
    }
   ],
   "source": [
    "### 20/100 * n is an integer\n",
    "sizes[0]"
   ]
  },
  {
   "cell_type": "code",
   "execution_count": 13,
   "id": "b2f99601-e5de-4271-b0fe-442ca8485709",
   "metadata": {},
   "outputs": [
    {
     "data": {
      "text/plain": [
       "1.25"
      ]
     },
     "execution_count": 13,
     "metadata": {},
     "output_type": "execute_result"
    }
   ],
   "source": [
    "### 25th percentile\n",
    "### 25/100 * n\n",
    "25/100 * 5"
   ]
  },
  {
   "cell_type": "code",
   "execution_count": 14,
   "id": "70fbc8cc-d5f3-4668-a2a2-f73344d63e09",
   "metadata": {},
   "outputs": [
    {
     "data": {
      "text/plain": [
       "2.0"
      ]
     },
     "execution_count": 14,
     "metadata": {},
     "output_type": "execute_result"
    }
   ],
   "source": [
    "### 20/100 * n (1.25) is NOT an integer, \n",
    "### take (round to) the next integer\n",
    "np.ceil(25/100 * 5)"
   ]
  },
  {
   "cell_type": "code",
   "execution_count": 15,
   "id": "330d35fb-64c7-4a32-a105-21b53894c9a1",
   "metadata": {},
   "outputs": [
    {
     "data": {
      "text/plain": [
       "17"
      ]
     },
     "execution_count": 15,
     "metadata": {},
     "output_type": "execute_result"
    }
   ],
   "source": [
    "sizes[1]"
   ]
  },
  {
   "cell_type": "code",
   "execution_count": 16,
   "id": "a615dc91-ec9b-4742-8e3d-11fc5f77fb84",
   "metadata": {
    "jupyter": {
     "source_hidden": true
    }
   },
   "outputs": [
    {
     "data": {
      "text/plain": [
       "7"
      ]
     },
     "execution_count": 16,
     "metadata": {},
     "output_type": "execute_result"
    }
   ],
   "source": [
    "percentile(25, sizes)"
   ]
  },
  {
   "cell_type": "code",
   "execution_count": null,
   "id": "fc7f7684-e1f0-4437-b8f3-c72ad6b95baf",
   "metadata": {},
   "outputs": [],
   "source": []
  },
  {
   "cell_type": "markdown",
   "id": "950d8f7e-12d8-4bfa-9fb2-d22d9058ba5e",
   "metadata": {},
   "source": [
    "- This is a rank\n",
    "- The 80th percentile is a value on the list, namely 12. \n",
    "- You can see that 80% of the values are less than or equal to it, and that it is the smallest value on the list for which this is true.\n",
    "- the 70th percentile is the smallest value in the collection that is at least as large as 70% of the elements of sizes. Now 70% of 5 elements is “3.5 elements”, so the 70th percentile is the 4th element on the list. That’s 12, the same as the 80th percentile for these data."
   ]
  },
  {
   "cell_type": "markdown",
   "id": "4f816f04-32cc-4302-830f-ea6107b34280",
   "metadata": {},
   "source": [
    "## 13.1.2. The percentile function"
   ]
  },
  {
   "cell_type": "code",
   "execution_count": 17,
   "id": "cecbe37f-9efc-4fe2-b136-c2f4bed0ad9f",
   "metadata": {},
   "outputs": [
    {
     "data": {
      "text/plain": [
       "12"
      ]
     },
     "execution_count": 17,
     "metadata": {},
     "output_type": "execute_result"
    }
   ],
   "source": [
    "### The percentile function takes two arguments: a rank between 0 and 100, and a array. \n",
    "### It returns the corresponding percentile of the array.\n",
    "\n",
    "percentile(70, sizes)"
   ]
  },
  {
   "cell_type": "markdown",
   "id": "a06ea280-7498-4c22-a64e-c6afdf3a30c2",
   "metadata": {
    "jp-MarkdownHeadingCollapsed": true
   },
   "source": [
    "### 13.1.2.1. The General Definition\n",
    "\n",
    "- Let *p* be a number between 0 and 100. The *p***th percentile of a collection** is the smallest value in the collection that is at least as large as p% of all the values.\n",
    "- By this definition, any percentile between 0 and 100 can be computed for any collection of values, and it is always an element of the collection.\n",
    "- In practical terms, suppose there are *n* elements in the collection. To find the *p*th percentile:\n",
    "  - Sort the collection in increasing order.\n",
    "  - Find p% of n, call that *k*. \n",
    "  - If *k* is an integer, take the *k*th element of the sorted collection.\n",
    "  - If *k* is **not an integer**, round it up to the next integer, and take that element of the sorted collection.\n"
   ]
  },
  {
   "cell_type": "markdown",
   "id": "b4ee2a62-e447-4106-b05d-fd3eacb75bec",
   "metadata": {},
   "source": [
    "### 13.1.2.2. Example \n",
    "\n",
    "- The table scores_and_sections contains one row for each student in a class of 359 students.\n",
    "- The columns are the student’s discussion section and midterm score."
   ]
  },
  {
   "cell_type": "code",
   "execution_count": 18,
   "id": "6a36d57a-23ff-447a-bfa0-5540d1858b35",
   "metadata": {},
   "outputs": [],
   "source": [
    "path_data = '../../data/'     ### data directory path\n",
    "from datascience import *     ### import datascience"
   ]
  },
  {
   "cell_type": "code",
   "execution_count": 19,
   "id": "c45c4697-fa28-4d9f-9e9e-063ff73c7bd2",
   "metadata": {},
   "outputs": [
    {
     "data": {
      "text/html": [
       "<table border=\"1\" class=\"dataframe\">\n",
       "    <thead>\n",
       "        <tr>\n",
       "            <th>Section</th> <th>Midterm</th>\n",
       "        </tr>\n",
       "    </thead>\n",
       "    <tbody>\n",
       "        <tr>\n",
       "            <td>1      </td> <td>22     </td>\n",
       "        </tr>\n",
       "        <tr>\n",
       "            <td>2      </td> <td>12     </td>\n",
       "        </tr>\n",
       "        <tr>\n",
       "            <td>2      </td> <td>23     </td>\n",
       "        </tr>\n",
       "        <tr>\n",
       "            <td>2      </td> <td>14     </td>\n",
       "        </tr>\n",
       "        <tr>\n",
       "            <td>1      </td> <td>20     </td>\n",
       "        </tr>\n",
       "        <tr>\n",
       "            <td>3      </td> <td>25     </td>\n",
       "        </tr>\n",
       "        <tr>\n",
       "            <td>4      </td> <td>19     </td>\n",
       "        </tr>\n",
       "        <tr>\n",
       "            <td>1      </td> <td>24     </td>\n",
       "        </tr>\n",
       "        <tr>\n",
       "            <td>5      </td> <td>8      </td>\n",
       "        </tr>\n",
       "        <tr>\n",
       "            <td>6      </td> <td>14     </td>\n",
       "        </tr>\n",
       "    </tbody>\n",
       "</table>\n",
       "<p>... (349 rows omitted)</p>"
      ],
      "text/plain": [
       "Section | Midterm\n",
       "1       | 22\n",
       "2       | 12\n",
       "2       | 23\n",
       "2       | 14\n",
       "1       | 20\n",
       "3       | 25\n",
       "4       | 19\n",
       "1       | 24\n",
       "5       | 8\n",
       "6       | 14\n",
       "... (349 rows omitted)"
      ]
     },
     "execution_count": 19,
     "metadata": {},
     "output_type": "execute_result"
    }
   ],
   "source": [
    "scores_and_sections = Table.read_table(path_data + 'scores_by_section.csv')\n",
    "scores_and_sections"
   ]
  },
  {
   "cell_type": "code",
   "execution_count": 20,
   "id": "3a152274-6361-4367-a50c-db3c97216097",
   "metadata": {},
   "outputs": [
    {
     "data": {
      "image/png": "[encoded data removed]",
      "text/plain": [
       "<Figure size 600x400 with 1 Axes>"
      ]
     },
     "metadata": {},
     "output_type": "display_data"
    }
   ],
   "source": [
    "### histogram: midterm\n",
    "import matplotlib.pyplot as plt\n",
    "%matplotlib inline\n",
    "import numpy as np\n",
    "\n",
    "# scores_and_sections.select('Midterm').hist()\n",
    "scores_and_sections.select('Midterm').hist(bins = np.arange(-0.5, 25.6, 1))   ### range: Start, Stop, Step"
   ]
  },
  {
   "cell_type": "code",
   "execution_count": 21,
   "id": "4c3eafe1-5b0a-45e6-8c8a-5ab6cd2c8aa4",
   "metadata": {},
   "outputs": [
    {
     "data": {
      "text/plain": [
       "22"
      ]
     },
     "execution_count": 21,
     "metadata": {},
     "output_type": "execute_result"
    }
   ],
   "source": [
    "scores = scores_and_sections.column('Midterm')   ### column/array\n",
    "# scores\n",
    "\n",
    "percentile(85, scores)   ### rank & list\n",
    "\n",
    "### the 85th percentile is 22"
   ]
  },
  {
   "cell_type": "code",
   "execution_count": 22,
   "id": "ef510ac6-48a8-443c-972c-08317cc1d947",
   "metadata": {},
   "outputs": [],
   "source": [
    "scores_sorted = np.sort(scores_and_sections.column('Midterm'))"
   ]
  },
  {
   "cell_type": "code",
   "execution_count": 23,
   "id": "1fcf265d-b9c1-4f51-bb6c-96205ab8d25e",
   "metadata": {},
   "outputs": [
    {
     "data": {
      "text/plain": [
       "359"
      ]
     },
     "execution_count": 23,
     "metadata": {},
     "output_type": "execute_result"
    }
   ],
   "source": [
    "len(scores)"
   ]
  },
  {
   "cell_type": "code",
   "execution_count": 30,
   "id": "c2c06af4-30e0-4e2d-9aff-148d5872fa8e",
   "metadata": {},
   "outputs": [
    {
     "data": {
      "text/html": [
       "<table border=\"1\" class=\"dataframe\">\n",
       "    <thead>\n",
       "        <tr>\n",
       "            <th>Midterm</th>\n",
       "        </tr>\n",
       "    </thead>\n",
       "    <tbody>\n",
       "        <tr>\n",
       "            <td>22     </td>\n",
       "        </tr>\n",
       "        <tr>\n",
       "            <td>12     </td>\n",
       "        </tr>\n",
       "        <tr>\n",
       "            <td>23     </td>\n",
       "        </tr>\n",
       "        <tr>\n",
       "            <td>14     </td>\n",
       "        </tr>\n",
       "        <tr>\n",
       "            <td>20     </td>\n",
       "        </tr>\n",
       "        <tr>\n",
       "            <td>25     </td>\n",
       "        </tr>\n",
       "        <tr>\n",
       "            <td>19     </td>\n",
       "        </tr>\n",
       "        <tr>\n",
       "            <td>24     </td>\n",
       "        </tr>\n",
       "        <tr>\n",
       "            <td>8      </td>\n",
       "        </tr>\n",
       "        <tr>\n",
       "            <td>14     </td>\n",
       "        </tr>\n",
       "    </tbody>\n",
       "</table>\n",
       "<p>... (349 rows omitted)</p>"
      ],
      "text/plain": [
       "Midterm\n",
       "22\n",
       "12\n",
       "23\n",
       "14\n",
       "20\n",
       "25\n",
       "19\n",
       "24\n",
       "8\n",
       "14\n",
       "... (349 rows omitted)"
      ]
     },
     "execution_count": 30,
     "metadata": {},
     "output_type": "execute_result"
    }
   ],
   "source": [
    "scores_tbl = Table().with_column('Midterm', scores)\n",
    "# scores_tbl.hist()\n",
    "scores_tbl"
   ]
  },
  {
   "cell_type": "code",
   "execution_count": 36,
   "id": "7e4f2a82-6e6a-4943-a2ad-8ab0a2057ee6",
   "metadata": {},
   "outputs": [
    {
     "data": {
      "text/plain": [
       "16"
      ]
     },
     "execution_count": 36,
     "metadata": {},
     "output_type": "execute_result"
    }
   ],
   "source": [
    "percentile(50, scores_tbl.column(\"Midterm\"))"
   ]
  },
  {
   "cell_type": "code",
   "execution_count": 31,
   "id": "6296d7a5-8297-449e-81d7-d8ba10450a94",
   "metadata": {},
   "outputs": [
    {
     "data": {
      "image/png": "[encoded data removed]",
      "text/plain": [
       "<Figure size 600x400 with 1 Axes>"
      ]
     },
     "metadata": {},
     "output_type": "display_data"
    }
   ],
   "source": [
    "scores_tbl.hist(\"Midterm\")"
   ]
  },
  {
   "cell_type": "code",
   "execution_count": null,
   "id": "cfc92571-dcee-42d5-9dff-83212a0bd65d",
   "metadata": {},
   "outputs": [],
   "source": [
    "359 * .85 "
   ]
  },
  {
   "cell_type": "code",
   "execution_count": null,
   "id": "62491010-6cb2-480d-af2d-9533166a8d32",
   "metadata": {},
   "outputs": [],
   "source": [
    "scores_sorted[305]"
   ]
  },
  {
   "cell_type": "markdown",
   "id": "98f6a0eb-8cbf-48fb-9fba-271dc4124e64",
   "metadata": {},
   "source": [
    "## 13.1.3. Quartiles\n",
    "\n",
    "- The first quartile of a numercial collection is the 25th percentile. The terminology arises from the first quarter. The second quartile is the median, and the third quartile is the 75th percentile."
   ]
  },
  {
   "cell_type": "code",
   "execution_count": null,
   "id": "7c9cc19a-b42e-4a43-a412-8a1262efcd32",
   "metadata": {},
   "outputs": [],
   "source": [
    "### first quartile\n",
    "percentile(25, scores)"
   ]
  },
  {
   "cell_type": "code",
   "execution_count": null,
   "id": "10c1c135-f530-4e9c-b2e2-6e59a7178326",
   "metadata": {},
   "outputs": [],
   "source": [
    "### second quartile\n",
    "percentile(50, scores)"
   ]
  },
  {
   "cell_type": "code",
   "execution_count": null,
   "id": "30476a27-e453-4de5-a4fd-9b3540da1a0e",
   "metadata": {},
   "outputs": [],
   "source": [
    "### third quartile\n",
    "percentile(75, scores)"
   ]
  },
  {
   "cell_type": "code",
   "execution_count": null,
   "id": "30f6cef5-81cd-439b-ac80-c24a0ad96d8e",
   "metadata": {},
   "outputs": [],
   "source": [
    "### Distributions of scores are sometimes summarized by the “middle 50%” \n",
    "### interval, between the first and third quartiles."
   ]
  },
  {
   "cell_type": "code",
   "execution_count": null,
   "id": "7ca39f85-d24d-4b11-aa4c-bf82b0b17dcf",
   "metadata": {},
   "outputs": [],
   "source": []
  }
 ],
 "metadata": {
  "kernelspec": {
   "display_name": "Python 3 (ipykernel)",
   "language": "python",
   "name": "python3"
  },
  "language_info": {
   "codemirror_mode": {
    "name": "ipython",
    "version": 3
   },
   "file_extension": ".py",
   "mimetype": "text/x-python",
   "name": "python",
   "nbconvert_exporter": "python",
   "pygments_lexer": "ipython3",
   "version": "3.12.2"
  }
 },
 "nbformat": 4,
 "nbformat_minor": 5
}
