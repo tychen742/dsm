{
 "cells": [
  {
   "cell_type": "markdown",
   "id": "737eb16a-fb3d-4566-b6fa-03318ae7cf35",
   "metadata": {},
   "source": [
    "# 13.4. Using Confidence Intervals\n",
    "\n",
    "- A **confidence interval** has a single purpose – to **estimate an unknown parameter** based on data in a random sample.\n",
    "- by our estimate, **the percent of smokers** among the mothers in the population was somewhere **between 36% and 42%**, and that our process of estimation is **correct about 95% of the time**.\n",
    "- A dismayingly common **misuse** of the interval is to conclude that about 95% of the women were between 26.9 years and 27.6 years old.\n",
    "- The interval just estimates one number: the **average** of all the ages in the population\n",
    "- *However, estimating a parameter by confidence intervals does have an important use besides just telling us roughly how big the parameter is.*"
   ]
  },
  {
   "cell_type": "code",
   "execution_count": 1,
   "id": "2fe87b0e-8059-491a-b9f6-c5c8e03218a3",
   "metadata": {},
   "outputs": [],
   "source": [
    "path_data = '../../data/'\n",
    "from datascience import *\n",
    "import matplotlib.pyplot as plt\n",
    "%matplotlib inline\n",
    "\n",
    "births = Table.read_table(path_data + 'baby.csv')"
   ]
  },
  {
   "cell_type": "code",
   "execution_count": 2,
   "id": "9b4fd2ce-0592-4c15-bf76-59993b09384b",
   "metadata": {},
   "outputs": [
    {
     "data": {
      "image/png": "[encoded data removed]",
      "text/plain": [
       "<Figure size 600x400 with 1 Axes>"
      ]
     },
     "metadata": {},
     "output_type": "display_data"
    }
   ],
   "source": [
    "births.select('Maternal Age').hist()"
   ]
  },
  {
   "cell_type": "markdown",
   "id": "b55e00af-5a58-4f0b-a431-d6b9317b059d",
   "metadata": {},
   "source": [
    "## 13.4.1. Using a Confidence Interval to Test Hypotheses\n",
    "\n",
    "- Our approximate 95% confidence interval for the average age in the population goes from 26.9 years to 27.6 years.\n",
    "\n",
    "Suppose someone wants to test the following hypotheses:\n",
    "- Null hypothesis: The average age in the population is 30 years.\n",
    "- Alternative hypothesis: The average age in the population is not 30 years."
   ]
  },
  {
   "cell_type": "markdown",
   "id": "ec371b1b-59ec-4d74-bda5-f725fe8413eb",
   "metadata": {},
   "source": [
    "## 13.4.2. Comparing Baseline and Post-Treatment Scores\n",
    "\n",
    "- Hodgkin's disease"
   ]
  },
  {
   "cell_type": "code",
   "execution_count": 15,
   "id": "c29f6d0e-9056-4179-8a91-979db5846572",
   "metadata": {},
   "outputs": [
    {
     "data": {
      "text/html": [
       "<table border=\"1\" class=\"dataframe\">\n",
       "    <thead>\n",
       "        <tr>\n",
       "            <th>height</th> <th>rad</th> <th>chemo</th> <th>base</th> <th>month15</th>\n",
       "        </tr>\n",
       "    </thead>\n",
       "    <tbody>\n",
       "        <tr>\n",
       "            <td>164   </td> <td>679 </td> <td>180  </td> <td>160.57</td> <td>87.77  </td>\n",
       "        </tr>\n",
       "        <tr>\n",
       "            <td>168   </td> <td>311 </td> <td>180  </td> <td>98.24 </td> <td>67.62  </td>\n",
       "        </tr>\n",
       "    </tbody>\n",
       "</table>\n",
       "<p>... (20 rows omitted)</p>"
      ],
      "text/plain": [
       "<IPython.core.display.HTML object>"
      ]
     },
     "metadata": {},
     "output_type": "display_data"
    }
   ],
   "source": [
    "hodgkins = Table.read_table(path_data + 'hodgkins.csv')\n",
    "hodgkins.show(2)"
   ]
  },
  {
   "cell_type": "code",
   "execution_count": 20,
   "id": "eaf45497-e763-4f87-a117-edcb03dd67b3",
   "metadata": {},
   "outputs": [
    {
     "data": {
      "text/html": [
       "<table border=\"1\" class=\"dataframe\">\n",
       "    <thead>\n",
       "        <tr>\n",
       "            <th>height</th> <th>rad</th> <th>chemo</th> <th>base</th> <th>month15</th> <th>drop</th>\n",
       "        </tr>\n",
       "    </thead>\n",
       "    <tbody>\n",
       "        <tr>\n",
       "            <td>164   </td> <td>679 </td> <td>180  </td> <td>160.57</td> <td>87.77  </td> <td>72.8 </td>\n",
       "        </tr>\n",
       "        <tr>\n",
       "            <td>170   </td> <td>341 </td> <td>96   </td> <td>150.51</td> <td>80.97  </td> <td>69.54</td>\n",
       "        </tr>\n",
       "        <tr>\n",
       "            <td>163   </td> <td>453 </td> <td>134  </td> <td>129.88</td> <td>69.24  </td> <td>60.64</td>\n",
       "        </tr>\n",
       "        <tr>\n",
       "            <td>173   </td> <td>322 </td> <td>119  </td> <td>85    </td> <td>41.96  </td> <td>43.04</td>\n",
       "        </tr>\n",
       "        <tr>\n",
       "            <td>185   </td> <td>392 </td> <td>240  </td> <td>149.84</td> <td>106.99 </td> <td>42.85</td>\n",
       "        </tr>\n",
       "        <tr>\n",
       "            <td>170   </td> <td>252 </td> <td>150  </td> <td>98.29 </td> <td>55.51  </td> <td>42.78</td>\n",
       "        </tr>\n",
       "        <tr>\n",
       "            <td>181   </td> <td>539 </td> <td>196  </td> <td>129.75</td> <td>90.78  </td> <td>38.97</td>\n",
       "        </tr>\n",
       "        <tr>\n",
       "            <td>173   </td> <td>270 </td> <td>160  </td> <td>115.02</td> <td>81.12  </td> <td>33.9 </td>\n",
       "        </tr>\n",
       "        <tr>\n",
       "            <td>175   </td> <td>529 </td> <td>264  </td> <td>87.45 </td> <td>56.48  </td> <td>30.97</td>\n",
       "        </tr>\n",
       "        <tr>\n",
       "            <td>168   </td> <td>311 </td> <td>180  </td> <td>98.24 </td> <td>67.62  </td> <td>30.62</td>\n",
       "        </tr>\n",
       "    </tbody>\n",
       "</table>\n",
       "<p>... (12 rows omitted)</p>"
      ],
      "text/plain": [
       "height | rad  | chemo | base   | month15 | drop\n",
       "164    | 679  | 180   | 160.57 | 87.77   | 72.8\n",
       "170    | 341  | 96    | 150.51 | 80.97   | 69.54\n",
       "163    | 453  | 134   | 129.88 | 69.24   | 60.64\n",
       "173    | 322  | 119   | 85     | 41.96   | 43.04\n",
       "185    | 392  | 240   | 149.84 | 106.99  | 42.85\n",
       "170    | 252  | 150   | 98.29  | 55.51   | 42.78\n",
       "181    | 539  | 196   | 129.75 | 90.78   | 38.97\n",
       "173    | 270  | 160   | 115.02 | 81.12   | 33.9\n",
       "175    | 529  | 264   | 87.45  | 56.48   | 30.97\n",
       "168    | 311  | 180   | 98.24  | 67.62   | 30.62\n",
       "... (12 rows omitted)"
      ]
     },
     "execution_count": 20,
     "metadata": {},
     "output_type": "execute_result"
    }
   ],
   "source": [
    "# hodgkins_with_drop = hodgkins.with_column('drop', hodgkins.column('base') - hodgkins.column('month15'))\n",
    "hodgkins = hodgkins.with_column('drop', hodgkins.column('base') - hodgkins.column('month15')).sort('drop', descending=True)\n",
    "hodgkins "
   ]
  },
  {
   "cell_type": "code",
   "execution_count": 24,
   "id": "68b5f360-8507-43e2-8e5b-f324c4f7186b",
   "metadata": {},
   "outputs": [
    {
     "data": {
      "image/png": "[encoded data removed]",
      "text/plain": [
       "<Figure size 600x400 with 1 Axes>"
      ]
     },
     "metadata": {},
     "output_type": "display_data"
    }
   ],
   "source": [
    "import numpy as np\n",
    "\n",
    "# hodgkins.select('drop').hist()\n",
    "# plt.style.use('dark_background')\n",
    "hodgkins.select('drop').hist(bins=np.arange(-20, 81, 20))"
   ]
  },
  {
   "cell_type": "code",
   "execution_count": 25,
   "id": "3c6e5e9b-6f90-4d35-a23a-358ce40a7658",
   "metadata": {},
   "outputs": [
    {
     "data": {
      "text/plain": [
       "28.615909090909096"
      ]
     },
     "execution_count": 25,
     "metadata": {},
     "output_type": "execute_result"
    }
   ],
   "source": [
    "np.average(hodgkins.column('drop'))\n",
    "### average drop"
   ]
  },
  {
   "cell_type": "markdown",
   "id": "efcbe59d-a73c-40b3-b6f2-563fb90deb09",
   "metadata": {},
   "source": [
    "- **Null hypothesis**: In the population, the average drop is 0.\n",
    "- **Alternative hypothesis**: In the population, the average drop is not 0."
   ]
  },
  {
   "cell_type": "code",
   "execution_count": 26,
   "id": "e8749a2e-6cd9-488f-a38d-b4e73804617f",
   "metadata": {},
   "outputs": [],
   "source": [
    "def one_bootstrap_mean():\n",
    "    resample = hodgkins.sample()\n",
    "    return np.average(resample.column('drop'))"
   ]
  },
  {
   "cell_type": "code",
   "execution_count": 28,
   "id": "92680f0e-763b-4129-aac6-4f69d30b9281",
   "metadata": {},
   "outputs": [],
   "source": [
    "repetitions = 10000\n",
    "bootstrap_means = make_array()\n",
    "for i in np.arange(repetitions):\n",
    "    bootstrap_means = np.append(\n",
    "        bootstrap_means, one_bootstrap_mean()\n",
    "    )"
   ]
  },
  {
   "cell_type": "code",
   "execution_count": 29,
   "id": "0ad7daa1-b6ca-4c39-9f4a-1bbbbb979aee",
   "metadata": {},
   "outputs": [
    {
     "data": {
      "text/plain": [
       "array([ 31.29090909,  26.25454545,  28.42090909, ...,  24.79136364,\n",
       "        31.45272727,  22.37136364])"
      ]
     },
     "execution_count": 29,
     "metadata": {},
     "output_type": "execute_result"
    }
   ],
   "source": [
    "bootstrap_means"
   ]
  },
  {
   "cell_type": "code",
   "execution_count": 30,
   "id": "ac2532fe-9cc3-4fbc-947e-9458142d5011",
   "metadata": {},
   "outputs": [],
   "source": [
    "# bootstrap_means_tble = Table().with_column('Bootstrap Means', bootstrap_means).hist()\n",
    "bootstrap_means_tble = Table().with_column('Bootstrap Means', bootstrap_means)"
   ]
  },
  {
   "cell_type": "code",
   "execution_count": 32,
   "id": "cb5346a0-ba86-42c1-9d94-b179be8e421a",
   "metadata": {},
   "outputs": [
    {
     "data": {
      "text/plain": [
       "array([ 18.32318182,  39.32090909])"
      ]
     },
     "execution_count": 32,
     "metadata": {},
     "output_type": "execute_result"
    }
   ],
   "source": [
    "# 99% CI\n",
    "left = percentile(1, bootstrap_means)\n",
    "right = percentile(99, bootstrap_means)\n",
    "make_array(left, right)"
   ]
  },
  {
   "cell_type": "code",
   "execution_count": 34,
   "id": "0dc8fd76-6cda-438f-90a9-2983db2ebbe8",
   "metadata": {},
   "outputs": [
    {
     "data": {
      "text/plain": [
       "[<matplotlib.lines.Line2D at 0x120ec4c80>]"
      ]
     },
     "execution_count": 34,
     "metadata": {},
     "output_type": "execute_result"
    },
    {
     "data": {
      "image/png": "[encoded data removed]",
      "text/plain": [
       "<Figure size 600x400 with 1 Axes>"
      ]
     },
     "metadata": {},
     "output_type": "display_data"
    }
   ],
   "source": [
    "bootstrap_means_tble.hist()\n",
    "plt.style.use('fivethirtyeight')\n",
    "plt.plot([left, right], [0,0], color='yellow', lw=10)"
   ]
  },
  {
   "cell_type": "code",
   "execution_count": 13,
   "id": "c5fd37fb-e595-40f5-a2bf-a753aa415841",
   "metadata": {},
   "outputs": [],
   "source": [
    "# plt.style.available"
   ]
  },
  {
   "cell_type": "code",
   "execution_count": 14,
   "id": "58349b91-f501-4cd2-a3f4-9c86f44caf84",
   "metadata": {},
   "outputs": [],
   "source": [
    "### The interval does not inlcude 0. Therefore we reject the null hypothesis"
   ]
  },
  {
   "cell_type": "code",
   "execution_count": null,
   "id": "b1f91cf3-e26a-469d-80ca-7ef3bdfd3441",
   "metadata": {},
   "outputs": [],
   "source": []
  }
 ],
 "metadata": {
  "kernelspec": {
   "display_name": "Python 3 (ipykernel)",
   "language": "python",
   "name": "python3"
  },
  "language_info": {
   "codemirror_mode": {
    "name": "ipython",
    "version": 3
   },
   "file_extension": ".py",
   "mimetype": "text/x-python",
   "name": "python",
   "nbconvert_exporter": "python",
   "pygments_lexer": "ipython3",
   "version": "3.12.8"
  }
 },
 "nbformat": 4,
 "nbformat_minor": 5
}
