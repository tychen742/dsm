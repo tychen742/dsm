{
 "cells": [
  {
   "cell_type": "markdown",
   "id": "27ef6163-d4a8-4b44-be51-a1f96a539c93",
   "metadata": {},
   "source": [
    "# 13. Estimation\n",
    "\n",
    "- inferential thinking\n",
    "- we learned how to **use data to decide between two hypotheses** about the world.\n",
    "- But often we just want to know **how big** something is:\n",
    "  - what percent of voters favor a particular candidate.\n",
    "  - the median annual income of households in the United States.\n",
    "- estimate an unknown **parameter** (a parameter is a numerical value associated with a population) using **random sampling**:\n",
    "  - A statistic based on a random sample can be a reasonable estimate of an unknown parameter in the population.\n",
    "- the value of any statistic depends on the sample, and the sample is based on random draws.\n",
    "  - “How different could this estimate have been, if the sample had come out differently?”\n",
    "\n",
    " "
   ]
  },
  {
   "cell_type": "markdown",
   "id": "7a7f0b42-5dd2-42a5-a36d-936073da48a8",
   "metadata": {},
   "source": []
  },
  {
   "cell_type": "code",

   "id": "ec52a81c-8598-4a90-a4d9-ad2931bca6ca",
   "metadata": {},
   "outputs": [],
   "source": []
  }
 ],
 "metadata": {
  "kernelspec": {
   "display_name": "Python 3 (ipykernel)",
   "language": "python",
   "name": "python3"
  },
  "language_info": {
   "codemirror_mode": {
    "name": "ipython",
    "version": 3
   },
   "file_extension": ".py",
   "mimetype": "text/x-python",
   "name": "python",
   "nbconvert_exporter": "python",
   "pygments_lexer": "ipython3",
   "version": "3.12.0"
  }
 },
 "nbformat": 4,
 "nbformat_minor": 5
}
