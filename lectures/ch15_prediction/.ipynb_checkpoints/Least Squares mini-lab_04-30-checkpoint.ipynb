{
 "cells": [
  {
   "cell_type": "markdown",
   "id": "f89908ad-d1c9-4491-b1b5-8c18c1a0794e",
   "metadata": {},
   "source": [
    "# Least Squares Mini-Lab"
   ]
  },
  {
   "cell_type": "code",
   "execution_count": null,
   "id": "8d157e19-cd11-48e5-af68-97da4b68b5d5",
   "metadata": {},
   "outputs": [],
   "source": [
    "from datascience import *\n",
    "%matplotlib inline\n",
    "path_data = '../../data/'   ##### yours could be different #####\n",
    "import matplotlib.pyplot as plots\n",
    "plots.style.use('fivethirtyeight')\n",
    "import numpy as np"
   ]
  },
  {
   "cell_type": "markdown",
   "id": "61f3d9e3-7303-416f-a960-7039fb8743e0",
   "metadata": {},
   "source": [
    "# The Method of Least Squares\n",
    "We have developed the equation of the regression line that runs through a football shaped scatter plot. But not all scatter plots are football shaped, not even linear ones. **Does every scatter plot have a \"best\" line that goes through it?** If so, can we still use the formulas for the slope and intercept developed in the previous section, or do we need new ones?\n",
    "\n",
    "To address these questions, we need a reasonable definition of \"best\". Recall that the purpose of the line is to *predict* or *estimate* values of $y$, given values of $x$. Estimates typically aren't perfect. Each one is off the true value by an *error*. A reasonable criterion for a line to be the \"best\" is for it to have the smallest possible overall error among all straight lines.\n",
    "\n",
    "In this section we will make this criterion precise and see if we can identify the best straight line under the criterion."
   ]
  },
  {
   "cell_type": "code",
   "execution_count": null,
   "id": "ba2f487b-e11b-4e7b-ba80-3c3a7d48ade5",
   "metadata": {},
   "outputs": [],
   "source": [
    "##### LEARN these definitions #####\n",
    "def standard_units(any_numbers):\n",
    "    \"Convert any array of numbers to standard units.\"\n",
    "    return (any_numbers - np.mean(any_numbers))/np.std(any_numbers)  \n",
    "\n",
    "def correlation(t, x, y):\n",
    "    return np.mean(standard_units(t.column(x))*standard_units(t.column(y)))\n",
    "\n",
    "def slope(table, x, y):\n",
    "    r = correlation(table, x, y)\n",
    "    return r * np.std(table.column(y))/np.std(table.column(x))\n",
    "\n",
    "def intercept(table, x, y):\n",
    "    a = slope(table, x, y)\n",
    "    return np.mean(table.column(y)) - a * np.mean(table.column(x))\n",
    "\n",
    "def fit(table, x, y):\n",
    "    \"\"\"Return the height (Y) of the regression line at EACH x value.\"\"\"\n",
    "    a = slope(table, x, y)\n",
    "    b = intercept(table, x, y)\n",
    "    return a * table.column(x) + b"
   ]
  },
  {
   "cell_type": "markdown",
   "id": "8b8a3466-1768-4e06-89f3-7fa05b8c5649",
   "metadata": {},
   "source": [
    "Our first example is a dataset that has one row for every chapter of the novel \"Little Women.\" The goal is to estimate the number of characters (that is, letters, spaces punctuation marks, and so on) based on the number of periods. Recall that we attempted to do this in the very first lecture of this course."
   ]
  },
  {
   "cell_type": "code",
   "execution_count": null,
   "id": "8ddaf9f1-09f1-4618-98b8-cbff94a033c2",
   "metadata": {},
   "outputs": [],
   "source": [
    "### remember the books?\n",
    "\n",
    "little_women = Table.read_table(path_data + 'little_women.csv')\n",
    "little_women"
   ]
  },
  {
   "cell_type": "code",
   "execution_count": null,
   "id": "5d227f9a-b948-473f-ac83-6df05a7a5b2c",
   "metadata": {},
   "outputs": [],
   "source": [
    "### switching columns\n",
    "\n",
    "little_women = little_women.move_to_start('Periods')   ### Move a column to be the first column.\n",
    "little_women.show(3)"
   ]
  },
  {
   "cell_type": "code",
   "execution_count": null,
   "id": "205f751f-ea36-4431-8573-172e056e3a49",
   "metadata": {},
   "outputs": [],
   "source": [
    "##### create the scatter plot 'Periods' (x-axis), 'Characters' (y)\n",
    "\n",
    "little_women. ... ... (... ... ...)"
   ]
  },
  {
   "cell_type": "markdown",
   "id": "21415e36-0098-458a-a47f-1a9c8ff5dbd5",
   "metadata": {},
   "source": [
    "To explore the data, we will need to use the functions `correlation`, `slope`, `intercept`, and `fit` defined in the previous section."
   ]
  },
  {
   "cell_type": "code",
   "execution_count": null,
   "id": "900f4635-c719-4ec0-a056-72c5ecaea75f",
   "metadata": {},
   "outputs": [],
   "source": [
    "##### calculate the correlation between the two columns \n",
    "\n",
    "correlation(... ..., ... ... , ... ...)"
   ]
  },
  {
   "cell_type": "markdown",
   "id": "5959f9f3-fe40-4c5f-a769-e76f39c39397",
   "metadata": {},
   "source": [
    "The scatter plot is remarkably close to linear, and the correlation is more than 0.92."
   ]
  },
  {
   "cell_type": "markdown",
   "id": "b89999c5-2e37-45d7-8b30-8509d29fba3a",
   "metadata": {},
   "source": [
    "## Error in Estimation\n",
    "\n",
    "The graph below shows the scatter plot and line that we developed in the previous section. **We don't yet know if that's the best among all lines**. We first have to say precisely what \"best\" means."
   ]
  },
  {
   "cell_type": "code",
   "execution_count": null,
   "id": "d272fc17-d04c-4231-8326-613687160bf1",
   "metadata": {},
   "outputs": [],
   "source": [
    "##### go back and study what \"fit()\" does\n",
    "\n",
    "lw_with_predictions = little_women.with_column('Linear Prediction', \n",
    "                      fit(little_women, 'Periods', 'Characters'))\n",
    "lw_with_predictions"
   ]
  },
  {
   "cell_type": "code",
   "execution_count": null,
   "id": "1972c700-f87c-4509-b083-4254f7b24628",
   "metadata": {},
   "outputs": [],
   "source": [
    "###\n",
    "lw_with_predictions.scatter('Periods', 'Linear Prediction')"
   ]
  },
  {
   "cell_type": "markdown",
   "id": "4e64165f-78db-4a43-8942-1ea28561f7f8",
   "metadata": {},
   "source": [
    "_What does the above line of code do? Answer here:_ ... ... ... ...... ... ..."
   ]
  },
  {
   "cell_type": "code",
   "execution_count": null,
   "id": "43404297-e158-47af-8245-e1f30a0a378f",
   "metadata": {},
   "outputs": [],
   "source": [
    "### fit the dots with the scatter plot\n",
    "lw_with_predictions.scatter('Periods')"
   ]
  },
  {
   "cell_type": "markdown",
   "id": "edf90e7b-5add-4ce1-a3bc-c663160a5c1f",
   "metadata": {},
   "source": [
    "Corresponding to each point on the scatter plot, there is an error of prediction calculated as the actual value minus the predicted value. It is the vertical distance between the point and the line, with a negative sign if the point is below the line."
   ]
  },
  {
   "cell_type": "code",
   "execution_count": null,
   "id": "2bee085a-b1a7-4bca-87d4-d9a463a88714",
   "metadata": {},
   "outputs": [],
   "source": [
    "### take a look at the table\n",
    "\n",
    "lw_with_predictions.show(5)"
   ]
  },
  {
   "cell_type": "code",
   "execution_count": null,
   "id": "3b6129a7-310e-4f0e-aa26-263f2373c8b5",
   "metadata": {},
   "outputs": [],
   "source": [
    "actual = lw_with_predictions.column('Characters')\n",
    "predicted = lw_with_predictions.column('Linear Prediction')\n",
    "errors = actual - predicted"
   ]
  },
  {
   "cell_type": "code",
   "execution_count": null,
   "id": "9ef51ee2-7e97-4341-8dcc-47e205245ec4",
   "metadata": {},
   "outputs": [],
   "source": [
    "##### add error terms to lw_with_predictions as a new column\n",
    "\n",
    "lw_with_predictions. ... ... ('... ...', ... ...)"
   ]
  },
  {
   "cell_type": "markdown",
   "id": "49923b12-7a6d-4650-8a5e-4014d76bcf5f",
   "metadata": {},
   "source": [
    "We can use `slope` and `intercept` to calculate the slope and intercept of the fitted line. The graph below shows the line (in light blue). The errors corresponding to four of the points are shown in red. There is nothing special about those four points. They were just chosen for clarity of the display. The function `lw_errors` takes a slope and an intercept (in that order) as its arguments and draws the figure. "
   ]
  },
  {
   "cell_type": "code",
   "execution_count": null,
   "id": "9de5cec9-6d09-46e2-99c0-718a7778f824",
   "metadata": {},
   "outputs": [],
   "source": [
    "##### study what slope() means as a formula r*(std_x)/(std_y)\n",
    "##### study what intercept() means as a formula (y-mean - slope * x-mean)\n",
    "\n",
    "lw_reg_slope = slope(little_women, ... ... , 'Characters')\n",
    "lw_reg_intercept = intercept(little_women, 'Periods', ... ... )"
   ]
  },
  {
   "cell_type": "code",
   "execution_count": 1,
   "id": "4ff06ca9-7e31-474e-a5e4-f1cf5bb692f8",
   "metadata": {},
   "outputs": [],
   "source": [
    "##### this is a function to be used later and sample data points \n",
    "\n",
    "sample = [[131, 14431], [231, 20558], [392, 40935], [157, 23524]]\n",
    "def lw_errors(slope, intercept):\n",
    "    little_women.scatter('Periods', 'Characters')\n",
    "    xlims = np.array([50, 450])\n",
    "    plots.plot(xlims, slope * xlims + intercept, lw=2)\n",
    "    for x, y in sample:\n",
    "        plots.plot([x, x], [y, slope * x + intercept], color='r', lw=2)"
   ]
  },
  {
   "cell_type": "code",
   "execution_count": null,
   "id": "bfcd9c1c-c17f-4f51-b8cc-83dfc9e03eda",
   "metadata": {},
   "outputs": [],
   "source": [
    "print('Slope of Regression Line:    ', np.round(lw_reg_slope), 'characters per period')\n",
    "print('Intercept of Regression Line:', np.round(lw_reg_intercept), 'characters')\n",
    "lw_errors(... ..., ... ...)"
   ]
  },
  {
   "cell_type": "markdown",
   "id": "8a06d34f-69f3-416c-a1af-9f1f43c9c71b",
   "metadata": {},
   "source": [
    "Had we used a different line to create our estimates, the errors would have been different. The graph below shows how big the errors would be if we were to use another line for estimation. The second graph shows **large errors** obtained by using a line that is downright silly."
   ]
  },
  {
   "cell_type": "code",
   "execution_count": null,
   "id": "a4bc0a61-1a77-4161-a8f1-86eb8b8bcb1e",
   "metadata": {},
   "outputs": [],
   "source": [
    "### let's use ae different line and see how it looks like\n",
    "\n",
    "lw_errors(50, 10000)"
   ]
  },
  {
   "cell_type": "code",
   "execution_count": null,
   "id": "1f2b77fe-7017-4258-956a-ac345b294507",
   "metadata": {},
   "outputs": [],
   "source": [
    "### let's use a silly line and see how it looks\n",
    "\n",
    "lw_errors(-100, 50000)"
   ]
  },
  {
   "cell_type": "markdown",
   "id": "01680c21-c452-4429-a0c9-98b57f65859f",
   "metadata": {},
   "source": [
    "## Root Mean Squared Error\n",
    "\n",
    "What we need now is one **overall measure of the rough size of the errors**. You will recognize the approach to creating this – it's exactly the way we developed the SD.\n",
    "\n",
    "If you use any arbitrary line to calculate your estimates, then some of your errors are likely to be positive and others negative. To avoid cancellation when measuring the rough size of the errors, we will take the mean of the squared errors rather than the mean of the errors themselves. \n",
    "\n",
    "The mean squared error of estimation is a measure of roughly how big the squared errors are, but as we have noted earlier, its units are hard to interpret. Taking the square root yields the root mean square error (rmse), which is in the same units as the variable being predicted and therefore much easier to understand. "
   ]
  },
  {
   "cell_type": "markdown",
   "id": "9038d0b8-34b4-4bdb-8dbe-bd592657e040",
   "metadata": {},
   "source": [
    "## Minimizing the Root Mean Squared Error\n",
    "\n",
    "Our observations so far can be summarized as follows.\n",
    "\n",
    "- To get estimates of $y$ based on $x$, you can use any line you want.\n",
    "- Every line has a root mean squared error of estimation.\n",
    "- **\"Better\" lines have smaller errors**.\n",
    "\n",
    "Is there a **\"best\" line**? That is, is there a line that minimizes the root mean squared error among all lines? \n",
    "\n",
    "To answer this question, we will start by defining a function `lw_rmse` to compute the root mean squared error of any line through the Little Women scatter diagram. The function takes the slope and the intercept (in that order) as its arguments."
   ]
  },
  {
   "cell_type": "code",
   "execution_count": null,
   "id": "032837a1-14af-421b-a3c8-283226560b48",
   "metadata": {},
   "outputs": [],
   "source": [
    "##### function for RMSE (root mean square error)\n",
    "\n",
    "def lw_rmse(slope, intercept):\n",
    "    lw_errors(slope, intercept)\n",
    "    x = little_women.column('Periods')\n",
    "    y = little_women.column('Characters')\n",
    "    fitted = slope * x + intercept\n",
    "    mse = np.mean((y - fitted) ** 2)\n",
    "    print(\"Root mean squared error:\", mse ** 0.5)"
   ]
  },
  {
   "cell_type": "code",
   "execution_count": null,
   "id": "4cf09f6c-b2ac-4bbc-97d6-016ecc91d94e",
   "metadata": {},
   "outputs": [],
   "source": [
    "lw_rmse(-100, 50000)"
   ]
  },
  {
   "cell_type": "markdown",
   "id": "c5b9fcf3-463a-4eea-b7bc-3c356ee1f735",
   "metadata": {},
   "source": [
    "Bad lines have big values of rmse, as expected. But the rmse is much smaller if we choose a slope and intercept close to those of the regression line."
   ]
  },
  {
   "cell_type": "code",
   "execution_count": null,
   "id": "2f367696-8193-4dc2-bd94-6a5c5fa993db",
   "metadata": {},
   "outputs": [],
   "source": [
    "lw_rmse(90, 4000)"
   ]
  },
  {
   "cell_type": "markdown",
   "id": "ce510aa8-ca4d-42ec-9c24-8427b2227901",
   "metadata": {},
   "source": [
    "Here is the root mean squared error corresponding to the regression line. By a remarkable fact of mathematics, no other line can beat this one. \n",
    "\n",
    "- **The regression line is the unique straight line that minimizes the mean squared error of estimation among all straight lines.**"
   ]
  },
  {
   "cell_type": "code",
   "execution_count": null,
   "id": "9349465d-557a-4484-afd1-7ff87704502f",
   "metadata": {},
   "outputs": [],
   "source": [
    "##### Using the slope and intercept\n",
    "\n",
    "lw_rmse(lw_reg_slope, lw_reg_intercept)"
   ]
  },
  {
   "cell_type": "markdown",
   "id": "243749b7-2410-4ff3-8001-cdb6a953eca0",
   "metadata": {},
   "source": [
    "The proof of this statement requires abstract mathematics that is beyond the scope of this course. On the other hand, we do have a powerful tool – Python – that performs large numerical computations with ease. So we can use Python to confirm that the regression line minimizes the mean squared error."
   ]
  },
  {
   "cell_type": "markdown",
   "id": "8a588b25-9bea-4621-ad47-320e8ecb5277",
   "metadata": {},
   "source": [
    "### Numerical Optimization ###\n",
    "First note that a line that minimizes the root mean squared error is also a line that minimizes the squared error. The square root makes no difference to the minimization. So we will save ourselves a step of computation and just minimize the mean squared error (mse).\n",
    "\n",
    "We are trying to predict the number of characters ($y$) based on the number of periods ($x$) in chapters of Little Women. If we use the line\n",
    "\n",
    "$$\n",
    "\\mbox{prediction} ~=~ ax + b\n",
    "$$\n",
    "\n",
    "it will have an mse that depends on the slope $a$ and the intercept $b$. The function `lw_mse` takes the slope and intercept as its arguments and returns the corresponding mse."
   ]
  },
  {
   "cell_type": "code",
   "execution_count": null,
   "id": "4a709a20-9936-4589-9f70-23b312f8b38e",
   "metadata": {},
   "outputs": [],
   "source": [
    "### now we have the equation... that we knew already\n",
    "\n",
    "def lw_mse(any_slope, any_intercept):\n",
    "    x = little_women.column('Periods')\n",
    "    y = little_women.column('Characters')\n",
    "    fitted = any_slope*x + any_intercept\n",
    "    return np.mean((y - fitted) ** 2)"
   ]
  },
  {
   "cell_type": "markdown",
   "id": "87f33a4a-f880-49b2-91f5-6570a35f1926",
   "metadata": {},
   "source": [
    "Let's check that `lw_mse` gets the right answer for the root mean squared error of the regression line. Remember that `lw_mse` returns the mean squared error, so we have to **take the square root to get the rmse**."
   ]
  },
  {
   "cell_type": "code",
   "execution_count": null,
   "id": "fb944e55-559e-4ec1-8cda-5a3a1e04b13e",
   "metadata": {},
   "outputs": [],
   "source": [
    "lw_mse(lw_reg_slope, lw_reg_intercept)**0.5"
   ]
  },
  {
   "cell_type": "markdown",
   "id": "12a78994-da04-4530-961b-b79955d12585",
   "metadata": {},
   "source": [
    "That’s the same as the value we got by using lw_rmse earlier:\n",
    "\n"
   ]
  },
  {
   "cell_type": "code",
   "execution_count": null,
   "id": "2993367f-8920-4949-913e-42dd0e030150",
   "metadata": {},
   "outputs": [],
   "source": [
    "lw_rmse(lw_reg_slope, lw_reg_intercept)"
   ]
  },
  {
   "cell_type": "markdown",
   "id": "d8599bad-fcf4-432c-a616-f9937ecb0aaf",
   "metadata": {},
   "source": [
    "You can confirm that `lw_mse` returns the correct value for other slopes and intercepts too. For example, here is the rmse of the extremely bad line that we tried earlier."
   ]
  },
  {
   "cell_type": "code",
   "execution_count": null,
   "id": "27587011-09da-4e7e-81ba-7db556953fce",
   "metadata": {},
   "outputs": [],
   "source": [
    "lw_mse(-100, 50000)**0.5"
   ]
  },
  {
   "cell_type": "markdown",
   "id": "9741fa41-b45d-4f78-a9d1-e7f038a43fc6",
   "metadata": {},
   "source": [
    "And here is the rmse for a line that is close to the regression line."
   ]
  },
  {
   "cell_type": "code",
   "execution_count": null,
   "id": "65f960d1-5765-4e58-8cbe-54024403fe86",
   "metadata": {},
   "outputs": [],
   "source": [
    "lw_mse(90, 4000)**0.5"
   ]
  },
  {
   "cell_type": "markdown",
   "id": "2b79e93b-a70f-4b5a-ac11-ec825b0de29f",
   "metadata": {},
   "source": [
    "If we experiment with different values, we can find a low-error slope and intercept through trial and error, but that would take a while. Fortunately, there is a Python function that does all the trial and error for us.\n",
    "\n",
    "The `minimize` function can be used to find the arguments of a function for which the function returns its minimum value. Python uses a similar trial-and-error approach, following the changes that lead to incrementally lower output values. \n",
    "\n",
    "The argument of `minimize` is a function that itself takes numerical arguments and returns a numerical value. For example, the function `lw_mse` takes a numerical slope and intercept as its arguments and returns the corresponding mse. \n",
    "\n",
    "The call `minimize(lw_mse)` returns an array consisting of the slope and the intercept that minimize the mse. These minimizing values are excellent approximations arrived at by intelligent trial-and-error, not exact values based on formulas."
   ]
  },
  {
   "cell_type": "code",
   "execution_count": null,
   "id": "ce9cf5b3-68d3-4b11-ab82-954b401c8c7c",
   "metadata": {},
   "outputs": [],
   "source": [
    "best = minimize(lw_mse)   ### returns an array of values that minimize function. function should be a function that takes in a certain number of arguments and returns a number. \n",
    "best"
   ]
  },
  {
   "cell_type": "markdown",
   "id": "321c1fb5-6f7f-4dd3-9aa2-38e795ab9535",
   "metadata": {},
   "source": [
    "These values are the same as the values we calculated earlier by using the `slope` and `intercept` functions. We see small deviations due to the inexact nature of `minimize`, but the values are essentially the same."
   ]
  },
  {
   "cell_type": "code",
   "execution_count": null,
   "id": "e1128145-825a-4b42-834a-b465a13d4753",
   "metadata": {},
   "outputs": [],
   "source": [
    "print(\"slope from formula:        \", lw_reg_slope)\n",
    "print(\"slope from minimize:       \", best.item(0))\n",
    "print(\"intercept from formula:    \", lw_reg_intercept)\n",
    "print(\"intercept from minimize:   \", best.item(1))"
   ]
  },
  {
   "cell_type": "markdown",
   "id": "288b6f84-39db-4b84-a4cc-f0dfcc445e8a",
   "metadata": {},
   "source": [
    "## The Least Squares Line\n",
    "\n",
    "Therefore, we have found not only that the regression line minimizes mean squared error, but also that minimizing mean squared error gives us the regression line. The regression line is the only line that minimizes mean squared error.\n",
    "\n",
    "That is why the regression line is sometimes called the \"least squares line.\""
   ]
  },
  {
   "cell_type": "code",
   "execution_count": null,
   "id": "3363b53d-b050-4ced-a4f0-8b07626bc25d",
   "metadata": {},
   "outputs": [],
   "source": []
  }
 ],
 "metadata": {
  "kernelspec": {
   "display_name": "Python 3 (ipykernel)",
   "language": "python",
   "name": "python3"
  },
  "language_info": {
   "codemirror_mode": {
    "name": "ipython",
    "version": 3
   },
   "file_extension": ".py",
   "mimetype": "text/x-python",
   "name": "python",
   "nbconvert_exporter": "python",
   "pygments_lexer": "ipython3",
   "version": "3.12.2"
  }
 },
 "nbformat": 4,
 "nbformat_minor": 5
}
