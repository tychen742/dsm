{
 "cells": [
  {
   "cell_type": "markdown",
   "id": "ae01c0dd-0691-4895-b60e-37be82cd81bd",
   "metadata": {},
   "source": [
    "# 15.6. Numerical Diagnostics"
   ]
  },
  {
   "cell_type": "code",
   "execution_count": 1,
   "id": "cf04b853-f300-423e-934d-4badc2a76fd0",
   "metadata": {},
   "outputs": [],
   "source": [
    "import numpy as np\n",
    "from datascience import *\n",
    "import matplotlib.pyplot as plt\n",
    "import matplotlib.pyplot as plots\n",
    "%matplotlib inline\n",
    "\n",
    "path_data = '../../data/'"
   ]
  },
  {
   "cell_type": "code",
   "execution_count": 2,
   "id": "ac438cb8-d15f-43b4-9639-7c4fcc856c1a",
   "metadata": {},
   "outputs": [],
   "source": [
    "def standard_units(any_numbers):\n",
    "    \"Convert any array of numbers to standard units.\"\n",
    "    return (any_numbers - np.mean(any_numbers))/np.std(any_numbers)  \n",
    "\n",
    "def correlation(t, x, y):\n",
    "    return np.mean(standard_units(t.column(x))*standard_units(t.column(y)))\n",
    "\n",
    "def slope(table, x, y):\n",
    "    r = correlation(table, x, y)\n",
    "    return r * np.std(table.column(y))/np.std(table.column(x))\n",
    "\n",
    "def intercept(table, x, y):\n",
    "    a = slope(table, x, y)\n",
    "    return np.mean(table.column(y)) - a * np.mean(table.column(x))\n",
    "\n",
    "def fit(table, x, y):\n",
    "    \"\"\"Return the height of the regression \n",
    "    line at each x value.\"\"\"\n",
    "    a = slope(table, x, y)\n",
    "    b = intercept(table, x, y)\n",
    "    return a * table.column(x) + b\n",
    "\n",
    "def residual (table, x, y):\n",
    "    return table.column(y) - fit(table, x, y)"
   ]
  },
  {
   "cell_type": "markdown",
   "id": "defcf74e-7b3f-41f7-af0a-07cb2c580436",
   "metadata": {},
   "source": [
    "## 15.6.1. Residual Plots Show No Trend\n",
    "\n",
    "**For every linear regression, whether good or bad, the residual plot shows no trend. Overall, it is flat. In other words, the residuals and the predictor variable are uncorrelated.**\n",
    "\n",
    "You can see this in all the residual plots above. We can also calculate the correlation between the predictor variable and the residuals in each case."
   ]
  },
  {
   "cell_type": "code",
   "execution_count": 10,
   "id": "7ad6c6ac-4848-4825-a859-e4a86c062f9c",
   "metadata": {},
   "outputs": [
    {
     "data": {
      "text/html": [
       "<table border=\"1\" class=\"dataframe\">\n",
       "    <thead>\n",
       "        <tr>\n",
       "            <th>family</th> <th>father</th> <th>mother</th> <th>midparentHeight</th> <th>children</th> <th>childNum</th> <th>sex</th> <th>childHeight</th>\n",
       "        </tr>\n",
       "    </thead>\n",
       "    <tbody>\n",
       "        <tr>\n",
       "            <td>1     </td> <td>78.5  </td> <td>67    </td> <td>75.43          </td> <td>4       </td> <td>1       </td> <td>male  </td> <td>73.2       </td>\n",
       "        </tr>\n",
       "        <tr>\n",
       "            <td>1     </td> <td>78.5  </td> <td>67    </td> <td>75.43          </td> <td>4       </td> <td>2       </td> <td>female</td> <td>69.2       </td>\n",
       "        </tr>\n",
       "        <tr>\n",
       "            <td>1     </td> <td>78.5  </td> <td>67    </td> <td>75.43          </td> <td>4       </td> <td>3       </td> <td>female</td> <td>69         </td>\n",
       "        </tr>\n",
       "        <tr>\n",
       "            <td>1     </td> <td>78.5  </td> <td>67    </td> <td>75.43          </td> <td>4       </td> <td>4       </td> <td>female</td> <td>69         </td>\n",
       "        </tr>\n",
       "        <tr>\n",
       "            <td>2     </td> <td>75.5  </td> <td>66.5  </td> <td>73.66          </td> <td>4       </td> <td>1       </td> <td>male  </td> <td>73.5       </td>\n",
       "        </tr>\n",
       "        <tr>\n",
       "            <td>2     </td> <td>75.5  </td> <td>66.5  </td> <td>73.66          </td> <td>4       </td> <td>2       </td> <td>male  </td> <td>72.5       </td>\n",
       "        </tr>\n",
       "        <tr>\n",
       "            <td>2     </td> <td>75.5  </td> <td>66.5  </td> <td>73.66          </td> <td>4       </td> <td>3       </td> <td>female</td> <td>65.5       </td>\n",
       "        </tr>\n",
       "        <tr>\n",
       "            <td>2     </td> <td>75.5  </td> <td>66.5  </td> <td>73.66          </td> <td>4       </td> <td>4       </td> <td>female</td> <td>65.5       </td>\n",
       "        </tr>\n",
       "        <tr>\n",
       "            <td>3     </td> <td>75    </td> <td>64    </td> <td>72.06          </td> <td>2       </td> <td>1       </td> <td>male  </td> <td>71         </td>\n",
       "        </tr>\n",
       "        <tr>\n",
       "            <td>3     </td> <td>75    </td> <td>64    </td> <td>72.06          </td> <td>2       </td> <td>2       </td> <td>female</td> <td>68         </td>\n",
       "        </tr>\n",
       "    </tbody>\n",
       "</table>\n",
       "<p>... (924 rows omitted)</p>"
      ],
      "text/plain": [
       "family | father | mother | midparentHeight | children | childNum | sex    | childHeight\n",
       "1      | 78.5   | 67     | 75.43           | 4        | 1        | male   | 73.2\n",
       "1      | 78.5   | 67     | 75.43           | 4        | 2        | female | 69.2\n",
       "1      | 78.5   | 67     | 75.43           | 4        | 3        | female | 69\n",
       "1      | 78.5   | 67     | 75.43           | 4        | 4        | female | 69\n",
       "2      | 75.5   | 66.5   | 73.66           | 4        | 1        | male   | 73.5\n",
       "2      | 75.5   | 66.5   | 73.66           | 4        | 2        | male   | 72.5\n",
       "2      | 75.5   | 66.5   | 73.66           | 4        | 3        | female | 65.5\n",
       "2      | 75.5   | 66.5   | 73.66           | 4        | 4        | female | 65.5\n",
       "3      | 75     | 64     | 72.06           | 2        | 1        | male   | 71\n",
       "3      | 75     | 64     | 72.06           | 2        | 2        | female | 68\n",
       "... (924 rows omitted)"
      ]
     },
     "execution_count": 10,
     "metadata": {},
     "output_type": "execute_result"
    }
   ],
   "source": [
    "# heights = Table().read_table(path_data + 'baby.csv')   ### wrong dataset\n",
    "heights = Table().read_table(path_data + 'family_heights.csv')\n",
    "heights"
   ]
  },
  {
   "cell_type": "code",
   "execution_count": 11,
   "id": "4ba9262d-08f7-4b75-9fd2-601ed0173469",
   "metadata": {},
   "outputs": [
    {
     "data": {
      "text/html": [
       "<table border=\"1\" class=\"dataframe\">\n",
       "    <thead>\n",
       "        <tr>\n",
       "            <th>MidParent</th> <th>childHeight</th>\n",
       "        </tr>\n",
       "    </thead>\n",
       "    <tbody>\n",
       "        <tr>\n",
       "            <td>75.43    </td> <td>73.2       </td>\n",
       "        </tr>\n",
       "        <tr>\n",
       "            <td>75.43    </td> <td>69.2       </td>\n",
       "        </tr>\n",
       "        <tr>\n",
       "            <td>75.43    </td> <td>69         </td>\n",
       "        </tr>\n",
       "        <tr>\n",
       "            <td>75.43    </td> <td>69         </td>\n",
       "        </tr>\n",
       "        <tr>\n",
       "            <td>73.66    </td> <td>73.5       </td>\n",
       "        </tr>\n",
       "        <tr>\n",
       "            <td>73.66    </td> <td>72.5       </td>\n",
       "        </tr>\n",
       "        <tr>\n",
       "            <td>73.66    </td> <td>65.5       </td>\n",
       "        </tr>\n",
       "        <tr>\n",
       "            <td>73.66    </td> <td>65.5       </td>\n",
       "        </tr>\n",
       "        <tr>\n",
       "            <td>72.06    </td> <td>71         </td>\n",
       "        </tr>\n",
       "        <tr>\n",
       "            <td>72.06    </td> <td>68         </td>\n",
       "        </tr>\n",
       "    </tbody>\n",
       "</table>\n",
       "<p>... (924 rows omitted)</p>"
      ],
      "text/plain": [
       "MidParent | childHeight\n",
       "75.43     | 73.2\n",
       "75.43     | 69.2\n",
       "75.43     | 69\n",
       "75.43     | 69\n",
       "73.66     | 73.5\n",
       "73.66     | 72.5\n",
       "73.66     | 65.5\n",
       "73.66     | 65.5\n",
       "72.06     | 71\n",
       "72.06     | 68\n",
       "... (924 rows omitted)"
      ]
     },
     "execution_count": 11,
     "metadata": {},
     "output_type": "execute_result"
    }
   ],
   "source": [
    "### get the x, y\n",
    "heights = Table().with_columns(\n",
    "    'MidParent', heights.column('midparentHeight'),\n",
    "    'childHeight', heights.column('childHeight')\n",
    ")\n",
    "heights"
   ]
  },
  {
   "cell_type": "code",
   "execution_count": 19,
   "id": "e2625288-b0e6-4b53-a6cd-ab1eafe91713",
   "metadata": {},
   "outputs": [
    {
     "data": {
      "text/html": [
       "<table border=\"1\" class=\"dataframe\">\n",
       "    <thead>\n",
       "        <tr>\n",
       "            <th>MidParent</th> <th>childHeight</th> <th>Predicted</th> <th>Residual</th>\n",
       "        </tr>\n",
       "    </thead>\n",
       "    <tbody>\n",
       "        <tr>\n",
       "            <td>75.43    </td> <td>73.2       </td> <td>70.7124  </td> <td>2.48763  </td>\n",
       "        </tr>\n",
       "        <tr>\n",
       "            <td>75.43    </td> <td>69.2       </td> <td>70.7124  </td> <td>-1.51237 </td>\n",
       "        </tr>\n",
       "        <tr>\n",
       "            <td>75.43    </td> <td>69         </td> <td>70.7124  </td> <td>-1.71237 </td>\n",
       "        </tr>\n",
       "        <tr>\n",
       "            <td>75.43    </td> <td>69         </td> <td>70.7124  </td> <td>-1.71237 </td>\n",
       "        </tr>\n",
       "        <tr>\n",
       "            <td>73.66    </td> <td>73.5       </td> <td>69.5842  </td> <td>3.91576  </td>\n",
       "        </tr>\n",
       "        <tr>\n",
       "            <td>73.66    </td> <td>72.5       </td> <td>69.5842  </td> <td>2.91576  </td>\n",
       "        </tr>\n",
       "        <tr>\n",
       "            <td>73.66    </td> <td>65.5       </td> <td>69.5842  </td> <td>-4.08424 </td>\n",
       "        </tr>\n",
       "        <tr>\n",
       "            <td>73.66    </td> <td>65.5       </td> <td>69.5842  </td> <td>-4.08424 </td>\n",
       "        </tr>\n",
       "        <tr>\n",
       "            <td>72.06    </td> <td>71         </td> <td>68.5645  </td> <td>2.43553  </td>\n",
       "        </tr>\n",
       "        <tr>\n",
       "            <td>72.06    </td> <td>68         </td> <td>68.5645  </td> <td>-0.564467</td>\n",
       "        </tr>\n",
       "    </tbody>\n",
       "</table>\n",
       "<p>... (924 rows omitted)</p>"
      ],
      "text/plain": [
       "MidParent | childHeight | Predicted | Residual\n",
       "75.43     | 73.2        | 70.7124   | 2.48763\n",
       "75.43     | 69.2        | 70.7124   | -1.51237\n",
       "75.43     | 69          | 70.7124   | -1.71237\n",
       "75.43     | 69          | 70.7124   | -1.71237\n",
       "73.66     | 73.5        | 69.5842   | 3.91576\n",
       "73.66     | 72.5        | 69.5842   | 2.91576\n",
       "73.66     | 65.5        | 69.5842   | -4.08424\n",
       "73.66     | 65.5        | 69.5842   | -4.08424\n",
       "72.06     | 71          | 68.5645   | 2.43553\n",
       "72.06     | 68          | 68.5645   | -0.564467\n",
       "... (924 rows omitted)"
      ]
     },
     "execution_count": 19,
     "metadata": {},
     "output_type": "execute_result"
    }
   ],
   "source": [
    "### get the predicted y\n",
    "### get the residual\n",
    "\n",
    "heights = heights.with_columns(\n",
    "    'Predicted', fit(heights, 'MidParent', 'childHeight'),\n",
    "    # 'Residual', heights.column('childHeight') - fit(heights, 'MidParent', 'childHeight')\n",
    "    'Residual', heights.column('childHeight') - heights.column('Predicted')\n",
    ")\n",
    "heights"
   ]
  },
  {
   "cell_type": "code",
   "execution_count": 22,
   "id": "8fab30e8-2173-46b2-9fd4-108c45308c6a",
   "metadata": {},
   "outputs": [
    {
     "data": {
      "text/plain": [
       "-2.7196898076470642e-16"
      ]
     },
     "execution_count": 22,
     "metadata": {},
     "output_type": "execute_result"
    }
   ],
   "source": [
    "### correlation between x and residual\n",
    "\n",
    "correlation(heights, 'MidParent', 'Residual')"
   ]
  },
  {
   "cell_type": "code",
   "execution_count": 27,
   "id": "1adc0842-30c5-40d4-af47-f0bf29dd53d8",
   "metadata": {},
   "outputs": [
    {
     "data": {
      "text/plain": [
       "-1.6736552662443473e-15"
      ]
     },
     "execution_count": 27,
     "metadata": {},
     "output_type": "execute_result"
    }
   ],
   "source": [
    "### how about covariance?\n",
    "### Cov(x, y) = mean((x - x-bar) (y - y-bar))\n",
    "np.mean(\n",
    "    (heights.column('MidParent') - np.mean(heights.column('MidParent'))) * \n",
    "    (heights.column('Residual') - np.mean(heights.column('Residual')))\n",
    "    )"
   ]
  },
  {
   "cell_type": "code",
   "execution_count": 33,
   "id": "b938007c-b598-47e7-bb1c-d3c3a0168ac4",
   "metadata": {},
   "outputs": [
    {
     "data": {
      "text/plain": [
       "0.0"
      ]
     },
     "execution_count": 33,
     "metadata": {},
     "output_type": "execute_result"
    }
   ],
   "source": [
    "dugong = dugong.with_columns(\n",
    "       'Fitted Value', fit(dugong, 'Length', 'Age'),\n",
    "       'Residual', residual(dugong, 'Length', 'Age')\n",
    ")\n",
    "round(correlation(dugong, 'Length', 'Residual'), 10)"
   ]
  },
  {
   "cell_type": "markdown",
   "id": "864923d0-5c1a-4004-884d-90fcb9a2aece",
   "metadata": {},
   "source": [
    "## 15.6.2. Average of Residuals\n"
   ]
  },
  {
   "cell_type": "markdown",
   "id": "483529c4-812c-4d0b-893c-59436a62fcda",
   "metadata": {},
   "source": [
    "**No matter what the shape of the scatter diagram, the average of the residuals is 0.**\n",
    "\n",
    "This is analogous to the fact that if you take any list of numbers and calculate the list of deviations from average, the average of the deviations is 0.\n",
    "\n",
    "In all the residual plots above, you have seen the horizontal line at 0 going through the center of the plot. That is a visualization of this fact.\n",
    "\n",
    "As a numerical example, here is the average of the residuals in the regression of children’s heights based on midparent heights."
   ]
  },
  {
   "cell_type": "code",
   "execution_count": 42,
   "id": "99800082-69e9-4993-bfb4-486b598a2ae7",
   "metadata": {},
   "outputs": [
    {
     "data": {
      "text/plain": [
       "0.0"
      ]
     },
     "execution_count": 42,
     "metadata": {},
     "output_type": "execute_result"
    }
   ],
   "source": [
    "round(np.mean(heights.column('Residual')), 10)"
   ]
  },
  {
   "cell_type": "markdown",
   "id": "f131ea17-f1d2-49ea-bdc0-ab72b2b02794",
   "metadata": {},
   "source": [
    "The same is true of the average of the residuals in the regression of the age of dugongs on their length. The mean of the residuals is 0, apart from rounding error.\n",
    "\n"
   ]
  },
  {
   "cell_type": "code",
   "execution_count": 43,
   "id": "48d5efda-097c-4ace-9dd5-c0a838129b07",
   "metadata": {},
   "outputs": [
    {
     "data": {
      "text/plain": [
       "0.0"
      ]
     },
     "execution_count": 43,
     "metadata": {},
     "output_type": "execute_result"
    }
   ],
   "source": [
    "round(np.mean(dugong.column('Residual')), 10)"
   ]
  },
  {
   "cell_type": "markdown",
   "id": "b6ad5c06-c210-4f60-b6b3-c5c1fbb77973",
   "metadata": {},
   "source": [
    "## 15.6.3. SD of the Residuals\n"
   ]
  },
  {
   "cell_type": "markdown",
   "id": "cd48bb4a-6e99-47e0-9ee0-169b6f7313f9",
   "metadata": {},
   "source": [
    "**No matter what the shape of the scatter plot, the SD of the residuals is a fraction of the SD of the response variable. The fraction is sqrt(1 - r**2)**\n",
    "\n",
    "SD of residuals = sqrt(1 - r**2) * SD of y\n",
    "\n",
    "We will soon see how this measures the accuracy of the regression estimate. But first, let’s confirm it by example.\n",
    "\n",
    "In the case of children’s heights and midparent heights, the SD of the residuals is about 3.39 inches."
   ]
  },
  {
   "cell_type": "code",
   "execution_count": 35,
   "id": "a3b033b5-aca2-485f-95ea-2e61682faca7",
   "metadata": {},
   "outputs": [
    {
     "data": {
      "text/plain": [
       "3.3880799163953426"
      ]
     },
     "execution_count": 35,
     "metadata": {},
     "output_type": "execute_result"
    }
   ],
   "source": [
    "np.std(heights.column('Residual'))"
   ]
  },
  {
   "cell_type": "markdown",
   "id": "ee7519dc-3d24-41dc-b2d4-20ea6cb66823",
   "metadata": {},
   "source": [
    "That’s the same as sqrt(1 - r**2) times the SD of response variable:"
   ]
  },
  {
   "cell_type": "code",
   "execution_count": 41,
   "id": "36b82be0-88c5-48ff-8d61-c68822336e99",
   "metadata": {},
   "outputs": [
    {
     "data": {
      "text/plain": [
       "3.3880799163953421"
      ]
     },
     "execution_count": 41,
     "metadata": {},
     "output_type": "execute_result"
    }
   ],
   "source": [
    "# r = correlation(heights, 'MidParent', 'Child')    ### it should be chiledHeight, not Child\n",
    "r = correlation(heights, 'MidParent', 'childHeight')\n",
    "np.sqrt(1 - r**2) * np.std(heights.column('childHeight'))"
   ]
  },
  {
   "cell_type": "markdown",
   "id": "a900971f-0995-4ad8-8f8c-5fec93f0181e",
   "metadata": {},
   "source": [
    "## 15.6.4. Another Way to Interpret r"
   ]
  },
  {
   "cell_type": "markdown",
   "id": "fac07091-f296-459d-b320-b06f387e7de5",
   "metadata": {},
   "source": [
    "We can rewrite the result above to say that no matter what the shape of the scatter plot,\n",
    "\n"
   ]
  },
  {
   "cell_type": "code",
   "execution_count": 45,
   "id": "3b693312-bbb2-4f3b-ab3a-d8b7599ce01d",
   "metadata": {},
   "outputs": [
    {
     "data": {
      "text/plain": [
       "0.32094989606395924"
      ]
     },
     "execution_count": 45,
     "metadata": {},
     "output_type": "execute_result"
    }
   ],
   "source": [
    "correlation(heights, 'MidParent', 'childHeight')"
   ]
  },
  {
   "cell_type": "code",
   "execution_count": 52,
   "id": "d468aa46-122a-424a-8983-f9eed7fe8bcc",
   "metadata": {},
   "outputs": [
    {
     "data": {
      "text/plain": [
       "0.32094989606395957"
      ]
     },
     "execution_count": 52,
     "metadata": {},
     "output_type": "execute_result"
    }
   ],
   "source": [
    "np.std(heights.column('Predicted')) / \n",
    "np.std(heights.column('childHeight'))"
   ]
  },
  {
   "cell_type": "code",
   "execution_count": null,
   "id": "2c498e03-c8eb-4271-927b-a9ce32d29e0c",
   "metadata": {},
   "outputs": [],
   "source": []
  }
 ],
 "metadata": {
  "kernelspec": {
   "display_name": "Python 3 (ipykernel)",
   "language": "python",
   "name": "python3"
  },
  "language_info": {
   "codemirror_mode": {
    "name": "ipython",
    "version": 3
   },
   "file_extension": ".py",
   "mimetype": "text/x-python",
   "name": "python",
   "nbconvert_exporter": "python",
   "pygments_lexer": "ipython3",
   "version": "3.12.2"
  }
 },
 "nbformat": 4,
 "nbformat_minor": 5
}
