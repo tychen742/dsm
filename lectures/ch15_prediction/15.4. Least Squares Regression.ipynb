{
 "cells": [
  {
   "cell_type": "markdown",
   "id": "7f7a7738-97c3-4ad5-9eb8-583c96f37679",
   "metadata": {},
   "source": [
    "# 15.4. Least Squares Regression"
   ]
  },
  {
   "cell_type": "markdown",
   "id": "8c333168-2fbd-4f97-b3f4-e61f1d733b09",
   "metadata": {},
   "source": [
    "In an earlier section, we developed formulas for the slope and intercept of the regression line through a football shaped scatter diagram. It turns out that the slope and intercept of the least squares line have the same formulas as those we developed, regardless of the shape of the scatter plot.\n",
    "\n",
    "We saw this in the example about Little Women, but let’s confirm it in an example where the scatter plot clearly isn’t football shaped. For the data, we are once again indebted to the rich data archive of Prof. Larry Winner of the University of Florida. A 2013 study in the International Journal of Exercise Science studied collegiate shot put athletes and examined the relation between strength and shot put distance. The population consists of 28 female collegiate athletes. Strength was measured by the the biggest amount (in kilograms) that the athlete lifted in the “1RM power clean” in the pre-season. The distance (in meters) was the athlete’s personal best."
   ]
  },
  {
   "cell_type": "code",
   "execution_count": null,
   "id": "57a57a9e-8f73-4c52-abdf-543d2e18fdc0",
   "metadata": {},
   "outputs": [],
   "source": [
    "### headers\n",
    "from datascience import *\n",
    "import numpy as np\n",
    "import matplotlib.pyplot as plt\n",
    "import matplotlib.pyplot as plots\n",
    "%matplotlib inline\n",
    "# %matplotlib notebook\n",
    "plt.style.use('fivethirtyeight')\n",
    "path_data = '../../data/'"
   ]
  },
  {
   "cell_type": "code",
   "execution_count": null,
   "id": "35a9566b-429e-49c5-9696-3414e334b956",
   "metadata": {},
   "outputs": [],
   "source": [
    "def standard_units(any_numbers):\n",
    "    \"Convert any array of numbers to standard units.\"\n",
    "    return (any_numbers - np.mean(any_numbers))/np.std(any_numbers)  \n",
    "\n",
    "def correlation(t, x, y):\n",
    "    return np.mean(standard_units(t.column(x))*standard_units(t.column(y)))\n",
    "\n",
    "def slope(table, x, y):\n",
    "    r = correlation(table, x, y)\n",
    "    return r * np.std(table.column(y))/np.std(table.column(x))\n",
    "\n",
    "def intercept(table, x, y):\n",
    "    a = slope(table, x, y)\n",
    "    return np.mean(table.column(y)) - a * np.mean(table.column(x))\n",
    "\n",
    "def fit(table, x, y):\n",
    "    \"\"\"Return the height of the regression line at each x value.\"\"\"\n",
    "    a = slope(table, x, y)\n",
    "    b = intercept(table, x, y)\n",
    "    return a * table.column(x) + b"
   ]
  },
  {
   "cell_type": "code",
   "execution_count": null,
   "id": "287fd5cc-7355-4858-a33b-db1a9da8ba2e",
   "metadata": {},
   "outputs": [],
   "source": [
    "shotput = Table().read_table(path_data + 'shotput.csv')\n",
    "shotput"
   ]
  },
  {
   "cell_type": "code",
   "execution_count": null,
   "id": "c7a3bd42-cd6a-47c2-af61-52ad0284086e",
   "metadata": {},
   "outputs": [],
   "source": [
    "# ### covariance\n",
    "# standard_units(shotput.column('Weight Lifted')) * \n",
    "#         standard_units(shotput.column('Shot Put Distance'))\n",
    "\n",
    "# ### covariance calculation: arr_x_SU * arr_y_SU\n",
    "# np.mean(standard_units(shotput.column('Weight Lifted')) * \n",
    "#         standard_units(shotput.column('Shot Put Distance')))\n",
    "\n",
    "### array * array\n",
    "arra = make_array(1, 2, 3)\n",
    "arrb = make_array(3, 3, 3)\n",
    "arra * arrb   ### 3  6  9"
   ]
  },
  {
   "cell_type": "code",
   "execution_count": null,
   "id": "b693a0ef-1e40-4d02-bd13-4ea2eeaefbe1",
   "metadata": {},
   "outputs": [],
   "source": [
    "shotput.scatter('Weight Lifted')   ### (x, y). "
   ]
  },
  {
   "cell_type": "markdown",
   "id": "db357403-2915-4424-b7ef-d3bc64f79ab3",
   "metadata": {},
   "source": [
    "That’s not a football shaped scatter plot. In fact, it seems to have a slight non-linear component. But if we insist on using a straight line to make our predictions, there is still one best straight line among all straight lines.\n",
    "\n",
    "Our formulas for the slope and intercept of the regression line, derived for football shaped scatter plots, give the following values."
   ]
  },
  {
   "cell_type": "code",
   "execution_count": null,
   "id": "4978985d-0401-4cc6-b846-6d03953c6f6f",
   "metadata": {},
   "outputs": [],
   "source": [
    "slope(shotput, 'Weight Lifted', 'Shot Put Distance')"
   ]
  },
  {
   "cell_type": "code",
   "execution_count": null,
   "id": "46af59d7-ee13-48e8-9790-17d574498982",
   "metadata": {},
   "outputs": [],
   "source": [
    "## if not using standard units\n",
    "\n",
    "intercept(shotput, 'Weight Lifted', 'Shot Put Distance')"
   ]
  },
  {
   "cell_type": "markdown",
   "id": "00e4d141-f365-43df-bfb1-febe58ad7396",
   "metadata": {},
   "source": [
    "Does it still make sense to use these formulas even though the scatter plot isn’t football shaped? We can answer this by finding the slope and intercept of the line that minimizes the **mse**.\n",
    "\n",
    "We will define the function shotput_linear_mse to take an arbirtary slope and intercept as arguments and return the corresponding mse. Then minimize applied to shotput_linear_mse will return the best slope and intercept.\n",
    "\n"
   ]
  },
  {
   "cell_type": "code",
   "execution_count": null,
   "id": "92324571-3991-4a18-be00-75513a8fe43b",
   "metadata": {},
   "outputs": [],
   "source": [
    "def shotput_linear_mse(any_slope, any_intercept):\n",
    "    x = shotput.column('Weight Lifted')\n",
    "    y = shotput.column('Shot Put Distance')\n",
    "    fitted = any_slope*x + any_intercept\n",
    "    return np.mean((y - fitted) ** 2)"
   ]
  },
  {
   "cell_type": "code",
   "execution_count": null,
   "id": "e700e168-2a50-4345-b3a7-dde3d6a059ba",
   "metadata": {},
   "outputs": [],
   "source": [
    "### try shotput_linear_mse()\n",
    "shotput_linear_mse(0.09834382, 5.95962911)"
   ]
  },
  {
   "cell_type": "code",
   "execution_count": null,
   "id": "f6d1bbd0-993e-4454-8748-0761b332b387",
   "metadata": {},
   "outputs": [],
   "source": [
    "minimize(shotput_linear_mse)"
   ]
  },
  {
   "cell_type": "code",
   "execution_count": null,
   "id": "374d615f-d0dd-4f62-8610-c332386fc969",
   "metadata": {},
   "outputs": [],
   "source": [
    "### what does minimize() do?\n",
    "import scipy.optimize as optimize\n",
    "def func(xy):\n",
    "    x, y = xy\n",
    "    return np.sin(x)*np.sin(y)\n",
    "\n",
    "optimize.minimize(func, (0.1, -0.1))"
   ]
  },
  {
   "cell_type": "code",
   "execution_count": null,
   "id": "ca68c3cf-22f1-4a79-a0ed-1d2821f4cc8b",
   "metadata": {},
   "outputs": [],
   "source": [
    "optimize.minimize("
   ]
  },
  {
   "cell_type": "code",
   "execution_count": null,
   "id": "c8d2a1ae-0622-4537-867c-b00d075e2a44",
   "metadata": {},
   "outputs": [],
   "source": [
    "def func(x):\n",
    "    return x**2 + 2*x + 1\n",
    "\n",
    "optimize.minimize(func, -0.12)"
   ]
  },
  {
   "cell_type": "code",
   "execution_count": null,
   "id": "838fc9c3-ecfd-473c-a2e7-98b506e30305",
   "metadata": {},
   "outputs": [],
   "source": [
    "minimize(func, 1)"
   ]
  },
  {
   "cell_type": "code",
   "execution_count": null,
   "id": "1873f6f4-0bbe-4ebf-8119-22b2674acb02",
   "metadata": {},
   "outputs": [],
   "source": [
    "optimize.minimize(shotput_linear_mse, 0, 0)"
   ]
  },
  {
   "cell_type": "code",
   "execution_count": null,
   "id": "e9caddbe-6cc1-44bb-b8f3-3714dd07979a",
   "metadata": {},
   "outputs": [],
   "source": [
    "minimize(shotput_linear_mse)"
   ]
  },
  {
   "cell_type": "code",
   "execution_count": null,
   "id": "7d1e5d11-8059-4c25-9143-3c4aaf6b878c",
   "metadata": {},
   "outputs": [],
   "source": [
    "# x0 = 0\n",
    "# optimize.minimize(shotput_linear_mse(1, 2), x0)"
   ]
  },
  {
   "cell_type": "markdown",
   "id": "f094ccb9-8c3d-4e53-85db-b3d9d80f1869",
   "metadata": {},
   "source": [
    "These values are the same as those we got by using our formulas. To summarize:\n",
    "\n",
    "**No matter what the shape of the scatter plot, there is a unique line that minimizes the mean squared error of estimation. It is called the regression line, and its slope and intercept are given by**\n",
    "\n",
    "slope of the regression line = r * (SD of y / SD of x)\n",
    "\n",
    "intercept of the regression line = average of y - slope * average of x\n",
    "\n",
    "\n",
    " \n"
   ]
  },
  {
   "cell_type": "code",
   "execution_count": null,
   "id": "d0c92fc4-20e0-432c-991a-2a5b9e0a796a",
   "metadata": {},
   "outputs": [],
   "source": [
    "# plots.figure().figsize = (2, 2)\n",
    "# plots.figure(figsize=(2,2)) \n",
    "# plots.rcParams['figure.figsize'] = [1, 1]\n",
    "fitted = fit(shotput, 'Weight Lifted', 'Shot Put Distance') \n",
    "shotput.with_column('Best Straight Line', fitted).scatter('Weight Lifted')"
   ]
  },
  {
   "cell_type": "markdown",
   "id": "cc54d5e7-5504-4e5b-ad21-d6c7ffdf5451",
   "metadata": {},
   "source": [
    "### 15.4.1. Nonlinear Regression\n",
    "\n",
    "The graph above reinforces our earlier observation that the scatter plot is a bit curved. So it is better to fit a curve than a straight line. The Judge et al. (2013) study postulated a quadratic relation between the weight lifted and the shot put distance. So let’s use quadratic functions as our predictors and see if we can find the best one.\n",
    "\n",
    "We have to find the best quadratic function among all quadratic functions, instead of the best straight line among all straight lines. The method of least squares allows us to do this.\n",
    "\n",
    "The mathematics of this minimization is complicated and not easy to see just by examining the scatter plot. But numerical minimization is just as easy as it was with linear predictors! We can get the best quadratic predictor by once again using `minimize`. Let’s see how this works.\n",
    "\n",
    "Recall that a quadratic function has the form\n",
    "\n",
    "*f*(x) = *ax***2 + _b_*x + *c*\n",
    "\n",
    "for constants *a*, *b*, and *c*.\n",
    "\n",
    "To find the best quadratic function to predict distance based on weight lifted, using the criterion of least squares, we will first write a function that takes the three constants as its arguments, calculates the fitted values by using the quadratic function above, and then returns the mean squared error.\n",
    "\n",
    "The function is called `shotput_quadratic_mse`. Notice that the definition is analogous to that of `lw_mse`, except that the fitted values are based on a quadratic function instead of linear."
   ]
  },
  {
   "cell_type": "code",
   "execution_count": null,
   "id": "768f4b4d-80f4-494d-9d28-4ade5240ad94",
   "metadata": {},
   "outputs": [],
   "source": [
    "def shotput_quadratic_mse(a, b, c):\n",
    "    x = shotput.column('Weight Lifted')\n",
    "    y = shotput.column('Shot Put Distance')\n",
    "    fitted = a*(x**2) + b*x + c\n",
    "    return np.mean((y - fitted) ** 2)"
   ]
  },
  {
   "cell_type": "markdown",
   "id": "909cd561-77ea-4163-a9d1-3f0df0ebc9d3",
   "metadata": {},
   "source": [
    "We can now use `minimize` just as before to find the constants that minimize the mean squared error."
   ]
  },
  {
   "cell_type": "code",
   "execution_count": null,
   "id": "c137f8e8-3f18-4ff3-8be7-ab109923cb4c",
   "metadata": {},
   "outputs": [],
   "source": [
    "best = minimize(shotput_quadratic_mse)\n",
    "best"
   ]
  },
  {
   "cell_type": "markdown",
   "id": "0ece2056-f3dd-47a7-9719-8a8a1f5b41ca",
   "metadata": {},
   "source": [
    "Our prediction of the shot put distance for an athlete who lifts *x* kilograms is about\n",
    "\n",
    "-0.00104x**2 + 0.27828x - 1.5318\n",
    "\n",
    "meters. For example, if the athlete can lift 100 kilograms, the predicted distance is 16.33 meters. On the scatter plot, that’s near the center of a vertical strip around 100 kilograms."
   ]
  },
  {
   "cell_type": "code",
   "execution_count": null,
   "id": "e3834b65-ad1f-4bcf-8128-d6a45e837251",
   "metadata": {},
   "outputs": [],
   "source": [
    "a, b, c = best "
   ]
  },
  {
   "cell_type": "code",
   "execution_count": null,
   "id": "1e3a4ffb-280c-4ae8-8cfa-dfe634ab881c",
   "metadata": {},
   "outputs": [],
   "source": [
    "x = 100\n",
    "a * x**2 + b*x + c"
   ]
  },
  {
   "cell_type": "code",
   "execution_count": null,
   "id": "abb616a4-84d5-46a1-af3a-35139651a122",
   "metadata": {},
   "outputs": [],
   "source": [
    "(-0.00104)*(100**2) + 0.2827*100 - 1.5318"
   ]
  },
  {
   "cell_type": "markdown",
   "id": "f5036cdf-47df-48d5-8ad2-933bae69e78b",
   "metadata": {},
   "source": [
    "Here are the predictions for all the values of `Weight Lifted`. You can see that they go through the center of the scatter plot, to a rough approximation."
   ]
  },
  {
   "cell_type": "code",
   "execution_count": null,
   "id": "dd614a34-de4c-4e60-93ba-0af849d48673",
   "metadata": {},
   "outputs": [],
   "source": [
    "x = shotput.column(0)\n",
    "# shotput_fit = best.item(0)*(x**2) + best.item(1)*x + best.item(2)\n",
    "shotput_fit = a*(x**2) + b*x + c"
   ]
  },
  {
   "cell_type": "code",
   "execution_count": null,
   "id": "5824083a-e5bb-4801-8058-57136d3eab16",
   "metadata": {},
   "outputs": [],
   "source": [
    "shotput.with_column('Best Quadratic Curve', shotput_fit).scatter(0)"
   ]
  },
  {
   "cell_type": "markdown",
   "id": "e91e4300-c4fd-4e9c-8b88-7551e31a0b64",
   "metadata": {},
   "source": [
    "Note: We fit a quadratic here because it was suggested in the original study. But it is worth noting that at the rightmost end of the graph, the quadratic curve appears to be close to peaking, after which the curve will start going downwards. So we might not want to use this model for new athletes who can lift weights much higher than those in our data set.\n",
    "\n"
   ]
  },
  {
   "cell_type": "code",
   "execution_count": null,
   "id": "e2ca5c55-ab58-440c-9312-97597c08674d",
   "metadata": {},
   "outputs": [],
   "source": []
  }
 ],
 "metadata": {
  "kernelspec": {
   "display_name": "Python 3 (ipykernel)",
   "language": "python",
   "name": "python3"
  },
  "language_info": {
   "codemirror_mode": {
    "name": "ipython",
    "version": 3
   },
   "file_extension": ".py",
   "mimetype": "text/x-python",
   "name": "python",
   "nbconvert_exporter": "python",
   "pygments_lexer": "ipython3",
   "version": "3.12.8"
  }
 },
 "nbformat": 4,
 "nbformat_minor": 5
}
