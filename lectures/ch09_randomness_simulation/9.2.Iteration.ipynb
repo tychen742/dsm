{
  "cells": [
    {
      "cell_type": "code",
      "execution_count": 1,
      "metadata": {
        "tags": [
          "remove-input"
        ]
      },
      "outputs": [],
      "source": [
        "from datascience import *\n",
        "path_data = '../../../assets/data/'\n",
        "import matplotlib\n",
        "matplotlib.use('Agg')\n",
        "%matplotlib inline\n",
        "import matplotlib.pyplot as plots\n",
        "plots.style.use('fivethirtyeight')\n",
        "import numpy as np"
      ]
    },
    {
      "cell_type": "markdown",
      "metadata": {},
      "source": [
        "# Iteration\n",
        "It is often the case in programming – especially when dealing with randomness – that we want to repeat a process multiple times. For example, recall the game of betting on one roll of a die with the following rules:\n",
        "\n",
        "- If the die shows 1 or 2 spots, my net gain is -1 dollar.\n",
        "- If the die shows 3 or 4 spots, my net gain is 0 dollars.\n",
        "- If the die shows 5 or 6 spots, my net gain is 1 dollar.\n",
        "\n",
        "The function `bet_on_one_roll` takes no argument. Each time it is called, it simulates one roll of a fair die and returns the net gain in dollars."
      ]
    },
    {
      "cell_type": "code",
      "execution_count": 2,
      "metadata": {},
      "outputs": [],
      "source": [
        "def bet_on_one_roll():\n",
        "    \"\"\"Returns my net gain on one bet\"\"\"\n",
        "    x = np.random.choice(np.arange(1, 7))  # roll a die once and record the number of spots\n",
        "    if x <= 2:\n",
        "        return -1\n",
        "    elif x <= 4:\n",
        "        return 0\n",
        "    elif x <= 6:\n",
        "        return 1"
      ]
    },
    {
      "cell_type": "markdown",
      "metadata": {},
      "source": [
        "Playing this game once is easy:"
      ]
    },
    {
      "cell_type": "code",
      "execution_count": 3,
      "metadata": {},
      "outputs": [
        {
          "data": {
            "text/plain": [
              "1"
            ]
          },
          "execution_count": 3,
          "metadata": {},
          "output_type": "execute_result"
        }
      ],
      "source": [
        "bet_on_one_roll()"
      ]
    },
    {
      "cell_type": "markdown",
      "metadata": {},
      "source": [
        "To get a sense of how variable the results are, we have to play the game over and over again. We could run the cell repeatedly, but that's tedious, and if we wanted to do it a thousand times or a million times, forget it.  \n",
        "\n",
        "A more automated solution is to use a `for` statement to loop over the contents of a sequence. This is called *iteration*. A `for` statement begins with the word `for`, followed by a name we want to give each item in the sequence, followed by the word `in`, and ending with an expression that evaluates to a sequence. The indented body of the `for` statement is executed once *for each item in that sequence*."
      ]
    },
    {
      "cell_type": "code",
      "execution_count": 4,
      "metadata": {},
      "outputs": [
        {
          "name": "stdout",
          "output_type": "stream",
          "text": [
            "cat\n",
            "dog\n",
            "rabbit\n"
          ]
        }
      ],
      "source": [
        "for animal in make_array('cat', 'dog', 'rabbit'):\n",
        "    print(animal)"
      ]
    },
    {
      "cell_type": "markdown",
      "metadata": {},
      "source": [
        "It is helpful to write code that exactly replicates a `for` statement, without using the `for` statement.  This is called *unrolling* the loop.  \n",
        "\n",
        "A `for` statement simple replicates the code inside it, but before each iteration, it assigns a new value from the given sequence to the name we chose.  For example, here is an unrolled version of the loop above."
      ]
    },
    {
      "cell_type": "code",
      "execution_count": 5,
      "metadata": {},
      "outputs": [
        {
          "name": "stdout",
          "output_type": "stream",
          "text": [
            "cat\n",
            "dog\n",
            "rabbit\n"
          ]
        }
      ],
      "source": [
        "animal = make_array('cat', 'dog', 'rabbit').item(0)\n",
        "print(animal)\n",
        "animal = make_array('cat', 'dog', 'rabbit').item(1)\n",
        "print(animal)\n",
        "animal = make_array('cat', 'dog', 'rabbit').item(2)\n",
        "print(animal)"
      ]
    },
    {
      "cell_type": "markdown",
      "metadata": {},
      "source": [
        "Notice that the name `animal` is arbitrary, just like any name we assign with `=`.\n",
        "\n",
        "Here we use a `for` statement in a more realistic way: we print the results of betting five times on the die as described earlier. This is called *simulating* the results of five bets. We use the word *simulating* to remind ourselves that we are not physically rolling dice and exchanging money but using Python to mimic the process.\n",
        "\n",
        "To repeat a process `n` times, it is common to use the sequence `np.arange(n)` in the `for` statement. It is also common to use a very short name for each item. In our code we will use the name `i` to remind ourselves that it refers to an item."
      ]
    },
    {
      "cell_type": "code",
      "execution_count": 30,
      "metadata": {},
      "outputs": [
        {
          "name": "stdout",
          "output_type": "stream",
          "text": [
            "-11-100"
          ]
        }
      ],
      "source": [
        "for i in np.arange(5):\n",
        "    print(bet_on_one_roll(), end=\"\")"
      ]
    },
    {
      "cell_type": "markdown",
      "metadata": {},
      "source": [
        "In this case, we simply perform exactly the same (random) action several times, so the code in the body of our `for` statement does not actually refer to `i`."
      ]
    },
    {
      "cell_type": "markdown",
      "metadata": {},
      "source": [
        "## Augmenting Arrays\n",
        "\n",
        "While the `for` statement above does simulate the results of five bets, the results are simply printed and are not in a form that we can use for computation. Any array of results would be more useful. Thus a typical use of a `for` statement is to create an array of results, by augmenting the array each time.\n",
        "\n",
        "The `append` method in `NumPy` helps us do this. The call `np.append(array_name, value)` evaluates to a new array that is `array_name` augmented by `value`. When you use `append`, keep in mind that all the entries of an array must have the same type."
      ]
    },
    {
      "cell_type": "code",
      "execution_count": 7,
      "metadata": {},
      "outputs": [
        {
          "data": {
            "text/plain": [
              "array(['Cat', 'Dog', 'Another Pet'], dtype='<U11')"
            ]
          },
          "execution_count": 7,
          "metadata": {},
          "output_type": "execute_result"
        }
      ],
      "source": [
        "pets = make_array('Cat', 'Dog')\n",
        "np.append(pets, 'Another Pet')"
      ]
    },
    {
      "cell_type": "markdown",
      "metadata": {},
      "source": [
        "This keeps the array `pets` unchanged:"
      ]
    },
    {
      "cell_type": "code",
      "execution_count": 8,
      "metadata": {},
      "outputs": [
        {
          "data": {
            "text/plain": [
              "array(['Cat', 'Dog'], dtype='<U3')"
            ]
          },
          "execution_count": 8,
          "metadata": {},
          "output_type": "execute_result"
        }
      ],
      "source": [
        "pets"
      ]
    },
    {
      "cell_type": "markdown",
      "metadata": {},
      "source": [
        "But often while using `for` loops it will be convenient to mutate an array – that is, change it – when augmenting it. This is done by assigning the augmented array to the same name as the original."
      ]
    },
    {
      "cell_type": "code",
      "execution_count": 9,
      "metadata": {},
      "outputs": [
        {
          "data": {
            "text/plain": [
              "array(['Cat', 'Dog', 'Another Pet'], dtype='<U11')"
            ]
          },
          "execution_count": 9,
          "metadata": {},
          "output_type": "execute_result"
        }
      ],
      "source": [
        "pets = np.append(pets, 'Another Pet')\n",
        "pets"
      ]
    },
    {
      "cell_type": "markdown",
      "metadata": {},
      "source": [
        "## Example: Betting on 5 Rolls\n",
        "We can now simulate five bets on the die and collect the results in an array that we will call the *collection array*. We will start out by creating an empty array for this, and then append the outcome of each bet. Notice that the body of the `for` loop contains two statements. Both statements are executed for each item in the given sequence."
      ]
    },
    {
      "cell_type": "code",
      "execution_count": 10,
      "metadata": {},
      "outputs": [
        {
          "data": {
            "text/plain": [
              "array([-1., -1.,  1.,  1., -1.])"
            ]
          },
          "execution_count": 10,
          "metadata": {},
          "output_type": "execute_result"
        }
      ],
      "source": [
        "outcomes = make_array()\n",
        "\n",
        "for i in np.arange(5):\n",
        "    outcome_of_bet = bet_on_one_roll()\n",
        "    outcomes = np.append(outcomes, outcome_of_bet)\n",
        "    \n",
        "outcomes"
      ]
    },
    {
      "cell_type": "markdown",
      "metadata": {},
      "source": [
        "Let us rewrite the cell with the `for` statement unrolled:"
      ]
    },
    {
      "cell_type": "code",
      "execution_count": 11,
      "metadata": {},
      "outputs": [
        {
          "data": {
            "text/plain": [
              "array([ 1.,  0.,  0., -1.,  1.])"
            ]
          },
          "execution_count": 11,
          "metadata": {},
          "output_type": "execute_result"
        }
      ],
      "source": [
        "outcomes = make_array()\n",
        "\n",
        "i = np.arange(5).item(0)\n",
        "outcome_of_bet = bet_on_one_roll()\n",
        "outcomes = np.append(outcomes, outcome_of_bet)\n",
        "\n",
        "i = np.arange(5).item(1)\n",
        "outcome_of_bet = bet_on_one_roll()\n",
        "outcomes = np.append(outcomes, outcome_of_bet)\n",
        "\n",
        "i = np.arange(5).item(2)\n",
        "outcome_of_bet = bet_on_one_roll()\n",
        "outcomes = np.append(outcomes, outcome_of_bet)\n",
        "\n",
        "i = np.arange(5).item(3)\n",
        "outcome_of_bet = bet_on_one_roll()\n",
        "outcomes = np.append(outcomes, outcome_of_bet)\n",
        "\n",
        "i = np.arange(5).item(4)\n",
        "outcome_of_bet = bet_on_one_roll()\n",
        "outcomes = np.append(outcomes, outcome_of_bet)\n",
        "\n",
        "outcomes"
      ]
    },
    {
      "cell_type": "markdown",
      "metadata": {},
      "source": [
        "The contents of the array are likely to be different from the array that we got by running the previous cell, but that is because of randomness in rolling the die. The process for creating the array is exactly the same.\n",
        "\n",
        "By capturing the results in an array we have given ourselves the ability to use array methods to do computations. For example, we can use `np.count_nonzero` to count the number of times money changed hands."
      ]
    },
    {
      "cell_type": "code",
      "execution_count": 12,
      "metadata": {},
      "outputs": [
        {
          "cell_type": "code",
          "execution_count": 93,
          "id": "04e17ed2-cfb7-44bc-a539-64d8da565a7b",
          "metadata": {},
          "outputs": [
            {
              "name": "stdout",
              "output_type": "stream",
              "text": [
                "cat\n",
                "dog\n",
                "rabbit\n"
              ]
            }
          ],
          "source": [
            "##### WITHOUT looping\n",
            "##### to learn more about arrays, we do:\n",
            "animal = make_array('cat', 'dog', 'rabbit')   ### make the array first\n",
            "\n",
            "print(animal[0])\n",
            "print(animal[1])\n",
            "print(animal[2])\n",
            "\n",
            "##### now indexing is clearly used. "
          ]
        },
        {
          "cell_type": "markdown",
          "id": "6681b2f0-51f6-4207-9e62-4938eb337690",
          "metadata": {},
          "source": [
            "#### the range() function"
          ]
        },
        {
          "cell_type": "code",
          "execution_count": 58,
          "id": "61384b4b-070d-4e7c-84b1-6061e9bea5fc",
          "metadata": {},
          "outputs": [
            {
              "name": "stdout",
              "output_type": "stream",
              "text": [
                "0 1 2 3 4 \n",
                "2 3 4 \n",
                "1 3 5 7 9 \n",
                "<class 'range'>\n",
                "<class 'list'>\n"
              ]
            }
          ],
          "source": [
            "##### generates a sequence of numbers\n",
            "##### By default, the sequence starts at 0, increments by 1, and stops BEFORE the specified number.\n",
            "### you may set the START, STOP, and STEP of a range\n",
            "##### syntax: range(start, stop)\n",
            "##### syntax: range(start, stop, step)\n",
            "\n",
            "for i in range(5):\n",
            "    print(i, end=\" \")\n",
            "\n",
            "print()\n",
            "\n",
            "for i in range(2, 5):\n",
            "    print(i, end=\" \")\n",
            "\n",
            "print()\n",
            "\n",
            "for i in range(1, 10, 2):\n",
            "    print(i, end=\" \")\n",
            "\n",
            "print()\n",
            "\n",
            "##### the data type is \"range\"\n",
            "print(type(range(5)))\n",
            "\n",
            "##### we like lists better:\n",
            "numbers = range(5)\n",
            "num_list = list(numbers)\n",
            "print(type(num_list))"
          ]
        },
        {
          "cell_type": "markdown",
          "id": "cd39e889-edd0-45ad-af5f-bf9e39e2fa14",
          "metadata": {},
          "source": [
            "#### 2/4. looping through a RANGE \n",
            "\n",
            "Syntax:\n",
            "1. range(STOP)\n",
            "2. range(START, STOP)\n",
            "3. range(START, STOP, STEP)"
          ]
        },
        {
          "cell_type": "code",
          "execution_count": 64,
          "id": "3bd4f12e-f52a-4938-aca5-37580a9147bf",
          "metadata": {},
          "outputs": [
            {
              "name": "stdout",
              "output_type": "stream",
              "text": [
                "cat\n",
                "dog\n",
                "rabbit\n"
              ]
            }
          ],
          "source": [
            "##### to use indices for looping:\n",
            "##### note that we got the length of the array using the len() method #####\n",
            "##### we don't deal with the elements directly; instead, we use indices to refer to elements\n",
            "\n",
            "for i in range(len(animal)):     ##### note that the length covers all elements from 0 to n\n",
            "    print(animal[i])"
          ]
        },
        {
          "cell_type": "markdown",
          "id": "fd79fb25-63b7-4261-84fd-5f70e0d2b8f8",
          "metadata": {},
          "source": [
            "#### create a range"
          ]
        },
        {
          "cell_type": "code",
          "execution_count": 66,
          "id": "2f17d26c-f446-442b-bdda-1493e11a08e7",
          "metadata": {},
          "outputs": [
            {
              "name": "stdout",
              "output_type": "stream",
              "text": [
                "0\n",
                "1\n",
                "2\n",
                "3\n",
                "4\n"
              ]
            }
          ],
          "source": [
            "import numpy as np\n",
            "for i in np.arange(5):   ##### we have 5 in the range function\n",
            "    print(i)             ##### note that it's 0...4 that we are given: 0-based indexing"
          ]
        },
        {
          "cell_type": "code",
          "execution_count": 67,
          "id": "c7d23b74-4e0d-4f02-826a-cc525f859c06",
          "metadata": {},
          "outputs": [
            {
              "name": "stdout",
              "output_type": "stream",
              "text": [
                "0 1 2 3 4 "
              ]
            }
          ],
          "source": [
            "##### print no new line: end=\" \"; meaning end of a line\n",
            "for i in np.arange(5):\n",
            "    print(i, end=\" \")"
          ]
        },
        {
          "cell_type": "markdown",
          "id": "e41a0eb0-b861-492e-9728-e5fcc9bff944",
          "metadata": {},
          "source": [
            "#### use the range function"
          ]
        },
        {
          "cell_type": "code",
          "execution_count": 73,
          "id": "eeb3d451-5fcf-4c52-8f13-1744c8b7f500",
          "metadata": {},
          "outputs": [
            {
              "name": "stdout",
              "output_type": "stream",
              "text": [
                "-1 -1 0 1 -1 "
              ]
            }
          ],
          "source": [
            "##### we usually are not interested in the range we create.\n",
            "##### we want to use the numbers as a way of controlling our code flow\n",
            "##### in this case, to run the bet_on_one_roll() function A NUMBER OF TIMES\n",
            "\n",
            "for i in np.arange(5):\n",
            "    print(bet_on_one_roll(), end=\" \")"
          ]
        },
        {
          "cell_type": "markdown",
          "id": "4a6f152f-e7d7-4107-84b1-865f5a13cfb1",
          "metadata": {},
          "source": [
            "#### 3/4 looping through a list of strings"
          ]
        },
        {
          "cell_type": "code",
          "execution_count": 37,
          "id": "177f2a3f-81d4-4cec-b500-ea3ee58a8265",
          "metadata": {},
          "outputs": [
            {
              "name": "stdout",
              "output_type": "stream",
              "text": [
                "apple\n",
                "banana\n",
                "cherry\n"
              ]
            }
          ],
          "source": [
            "##### this loops through the elements of a list (sequence/series/data collection)\n",
            "\n",
            "fruits = [\"apple\", \"banana\", \"cherry\"]\n",
            "for i in fruits:\n",
            "    # print(fruits[i])\n",
            "    print(i)"
          ]
        },
        {
          "cell_type": "markdown",
          "id": "4a5cc188-fb0f-48e0-a35d-9883d6bb1765",
          "metadata": {},
          "source": [
            "#### 4/4 looping through a string"
          ]
        },
        {
          "cell_type": "code",
          "execution_count": 74,
          "id": "3a0d3fe2-8072-40dc-b4fa-aa63bd6f1388",
          "metadata": {},
          "outputs": [
            {
              "name": "stdout",
              "output_type": "stream",
              "text": [
                "s\n",
                "t\n",
                "r\n",
                "i\n",
                "n\n",
                "g\n"
              ]
            }
          ],
          "source": [
            "for i in \"string\":\n",
            "    print(i)\n"
          ]
        },
        {
          "cell_type": "markdown",
          "id": "efe1374a-e080-4828-94b8-4e92e067ba68",
          "metadata": {},
          "source": [
            "## 9.2.1. Augmenting Arrays\n",
            "\n",
            "In data science, we like arrays. \n",
            "- A typical use of a for statement is to create an array of results, by augmenting the array each time.\n",
            "- using **append()** to augment the array(s) (1 number each run for now)"
          ]
        },
        {
          "cell_type": "code",
          "execution_count": 79,
          "id": "e3dcc70d-a382-4a71-b0fa-a07e2d925249",
          "metadata": {},
          "outputs": [
            {
              "data": {
                "text/plain": [
                  "array(['Cat', 'Dog'],\n",
                  "      dtype='<U3')"
                ]
              },
              "execution_count": 79,
              "metadata": {},
              "output_type": "execute_result"
            }
          ],
          "source": [
            "pets = make_array('Cat', 'Dog')\n",
            "pets"
          ]
        },
        {
          "cell_type": "code",
          "execution_count": 80,
          "id": "23fe5192-2616-40b4-8f0a-085e646947cd",
          "metadata": {},
          "outputs": [
            {
              "data": {
                "text/plain": [
                  "array(['Cat', 'Dog', 'Rabbit'],\n",
                  "      dtype='<U6')"
                ]
              },
              "execution_count": 80,
              "metadata": {},
              "output_type": "execute_result"
            }
          ],
          "source": [
            "np.append(pets, 'Rabbit')"
          ]
        },
        {
          "cell_type": "code",
          "execution_count": 88,
          "id": "a4ccea2c-8723-46f3-8a55-9292addff0f5",
          "metadata": {},
          "outputs": [],
          "source": [
            "##### will this work??????\n",
            "fruits = ['apple', 'banana', 'cherry']\n",
            "fruits.append(\"orange\")\n",
            "# fruits\n",
            "\n",
            "##### will this work??????\n",
            "# pets.append('parrot')"
          ]
        },
        {
          "cell_type": "markdown",
          "id": "6a5f3ec6-e9e4-4dc6-9e07-29e24573d429",
          "metadata": {},
          "source": [
            "## 9.2.2. Example: Betting on 5 Rolls\n",
            "\n",
            "- using the same bet_on_one function ==> loop it\n",
            "- using **np.arange** and **np.append** to handle the data\n",
            "  - Syntax: **numpy.append(arr, values, axis=None)**"
          ]
        },
        {
          "cell_type": "code",
          "execution_count": 96,
          "id": "12fbc793-195d-4566-aa7e-49c71a349a85",
          "metadata": {},
          "outputs": [],
          "source": [
            "##### python version\n",
            "\n",
            "for i in range (5):\n",
            "    bet_on_one_roll"
          ]
        },
        {
          "cell_type": "code",
          "execution_count": 106,
          "id": "2b287c91-089d-4bc7-ada3-980a228da480",
          "metadata": {},
          "outputs": [
            {
              "data": {
                "text/plain": [
                  "array([ 1.,  0.,  1., -1., -1.])"
                ]
              },
              "execution_count": 106,
              "metadata": {},
              "output_type": "execute_result"
            }
          ],
          "source": [
            "##### data science version\n",
            "\n",
            "outcomes = make_array()       ##### create an empty array... to be appended to later\n",
            "\n",
            "for i in np.arange (5):\n",
            "    outcome_of_bet = bet_on_one_roll()               ### a temp variable to save the number\n",
            "    outcomes = np.append(outcomes, outcome_of_bet)   ### \n",
            "\n",
            "outcomes"
          ]
        },
        {
          "cell_type": "code",
          "execution_count": 100,
          "id": "07a5fa97-bb8b-4a26-b2c6-9941baff2b8f",
          "metadata": {},
          "outputs": [
            {
              "data": {
                "text/plain": [
                  "numpy.ndarray"
                ]
              },
              "execution_count": 100,
              "metadata": {},
              "output_type": "execute_result"
            }
          ],
          "source": [
            "##### guess the data type\n",
            "type(outcomes)"
          ]
        },
        {
          "cell_type": "code",
          "execution_count": 112,
          "id": "8eb1f71a-a0be-41ec-b75f-57ae3eeff804",
          "metadata": {},
          "outputs": [
            {
              "data": {
                "text/plain": [
                  "array([-1.,  0., -1., -1.,  0.])"
                ]
              },
              "execution_count": 112,
              "metadata": {},
              "output_type": "execute_result"
            }
          ],
          "source": [
            "##### the textbook tries to demonstrate the operation without for loop\n",
            "\n",
            "outcomes = make_array()\n",
            "\n",
            "i = np.arange(5).item(0)\n",
            "outcome_of_bet = bet_on_one_roll()\n",
            "outcomes = np.append(outcomes, outcome_of_bet)\n",
            "\n",
            "i = np.arange(5).item(1)\n",
            "outcome_of_bet = bet_on_one_roll()\n",
            "outcomes = np.append(outcomes, outcome_of_bet)\n",
            "\n",
            "i = np.arange(5).item(2)\n",
            "outcome_of_bet = bet_on_one_roll()\n",
            "outcomes = np.append(outcomes, outcome_of_bet)\n",
            "\n",
            "i = np.arange(5).item(3)\n",
            "outcome_of_bet = bet_on_one_roll()\n",
            "outcomes = np.append(outcomes, outcome_of_bet)\n",
            "\n",
            "i = np.arange(5).item(4)\n",
            "outcome_of_bet = bet_on_one_roll()\n",
            "outcomes = np.append(outcomes, outcome_of_bet)\n",
            "\n",
            "outcomes"
          ]
        },
        {
          "cell_type": "code",
          "execution_count": 113,
          "id": "36463e23-61a2-4dc8-94e0-40928d1d5823",
          "metadata": {},
          "outputs": [
            {
              "data": {
                "text/plain": [
                  "3"
                ]
              },
              "execution_count": 113,
              "metadata": {},
              "output_type": "execute_result"
            }
          ],
          "source": [
            "##### use array methods to do computations\n",
            "###   np.count_nonzero\n",
            "\n",
            "np.count_nonzero(outcomes)\n"
          ]
        },
        {
          "cell_type": "markdown",
          "id": "674db03b-8dc5-4c26-95b9-5511d337b656",
          "metadata": {},
          "source": [
            "## 9.2.3. Example: Betting on 300 Rolls"
          ]
        }
      ],
      "source": [
        "##### copied from an earlier cell\n",
        "\n",
        "outcomes = make_array()       ##### create an empty array... to be appended to later\n",
        "\n",
        "for i in np.arange (300):\n",
        "    outcome_of_bet = bet_on_one_roll()               ### a temp variable to save the number\n",
        "    outcomes = np.append(outcomes, outcome_of_bet)   ### \n",
        "\n",
        "outcomes"
      ]
    },
    {
      "cell_type": "code",
      "execution_count": 126,
      "id": "c4f1b0a2-3d8e-4f5b-9a7c-6d8e0f1a2b3c",
      "metadata": {},
      "outputs": [
        {
          "data": {
            "text/plain": [
              "-1"
            ]
          },
          "execution_count": 126,
          "metadata": {},
          "output_type": "execute_result"
        }
      ],
      "source": [
        "outcomes.item(0)"
      ]
    },
    {
      "cell_type": "code",
      "execution_count": 127,
      "id": "87f7ce1c-7c2d-49cc-9cac-d0925b234702",
      "metadata": {},
      "outputs": [
        {
          "data": {
            "text/plain": [
              "300"
            ]
          },
          "execution_count": 127,
          "metadata": {},
          "output_type": "execute_result"
        }
      ],
      "source": [
        "##### how many elements are there?\n",
        "\n",
        "len(outcomes)\n",
        "\n",
        "### 300 confirmed"
      ]
    },
    {
      "cell_type": "code",
      "execution_count": 128,
      "id": "a2ab4f2d-0558-45a9-8a64-bce807487231",
      "metadata": {},
      "outputs": [
        {
          "data": {
            "text/html": [
              "<table border=\"1\" class=\"dataframe\">\n",
              "    <thead>\n",
              "        <tr>\n",
              "            <th>Outcome</th>\n",
              "        </tr>\n",
              "    </thead>\n",
              "    <tbody>\n",
              "        <tr>\n",
              "            <td>0      </td>\n",
              "        </tr>\n",
              "        <tr>\n",
              "            <td>0      </td>\n",
              "        </tr>\n",
              "        <tr>\n",
              "            <td>-1     </td>\n",
              "        </tr>\n",
              "        <tr>\n",
              "            <td>1      </td>\n",
              "        </tr>\n",
              "        <tr>\n",
              "            <td>-1     </td>\n",
              "        </tr>\n",
              "        <tr>\n",
              "            <td>-1     </td>\n",
              "        </tr>\n",
              "        <tr>\n",
              "            <td>0      </td>\n",
              "        </tr>\n",
              "        <tr>\n",
              "            <td>1      </td>\n",
              "            <td>-1     </td>\n",
              "        </tr>\n",
              "        <tr>\n",
              "            <td>0      </td>\n",
              "        </tr>\n",
              "        <tr>\n",
              "            <td>-1     </td>\n",
              "        </tr>\n",
              "        <tr>\n",
              "            <td>-1     </td>\n",
              "        </tr>\n",
              "        <tr>\n",
              "            <td>0      </td>\n",
              "            <td>-1     </td>\n",
              "        </tr>\n",
              "    </tbody>\n",
              "</table>\n",
              "<p>... (290 rows omitted)</p>"
            ],
            "text/plain": [
              "Outcome\n",
              "0\n",
              "0\n",
              "-1\n",
              "1\n",
              "0\n",
              "0\n",
              "1\n",
              "-1\n",
              "-1\n",
              "0\n",
              "... (290 rows omitted)"
            ]
          }
        }
      ],
      "metadata": {},
      "output_type": "execute_result"
    }
  ],
  "source": [
    "np.count_nonzero(outcomes)"
  ],
  "cell_type": "markdown",
  "metadata": {},
  "source": [
    "## Example: Betting on 300 Rolls\n",
    "Iteration is a powerful technique. For example, we can see the variation in the results of 300 bets by running exactly the same code for 300 bets instead of five."
  ],
  "cell_type": "code",
  "execution_count": 18,
  "metadata": {},
  "outputs": [],
  "source": [
    "outcomes = make_array()\n",
    "\n",
    "for i in np.arange(300):\n",
    "    outcome_of_bet = bet_on_one_roll()\n",
    "    outcomes = np.append(outcomes, outcome_of_bet)"
  ],
  "cell_type": "markdown",
  "metadata": {
    "collapsed": true,
    "jupyter": {
      "outputs_hidden": true
    }
  },
  "source": [
    "The array `outcomes` contains the results of all 300 bets."
  ],
  "cell_type": "code",
  "execution_count": 14,
  "metadata": {},
  "outputs": [
    {
      "data": {
        "text/plain": [
          "300"
        ]
      },
      "execution_count": 14,
      "metadata": {},
      "output_type": "execute_result"
    }
  ],
  "source": [
    "len(outcomes)"
  ],
  "cell_type": "markdown",
  "metadata": {},
  "source": [
    "To see how often the three different possible results appeared, we can use the array `outcomes` and `Table` methods."
  ],
  "cell_type": "code",
  "execution_count": 15,
  "metadata": {},
  "outputs": [
    {
      "data": {
        "image/png": "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\n",
        "text/plain": [
          "<Figure size 432x288 with 1 Axes>"
        ]
      },
      "metadata": {},
      "output_type": "display_data"
    }
  ],
  "source": [
    "outcome_table = Table().with_column('Outcome', outcomes)\n",
    "outcome_table.group('Outcome').barh(0)"
  ],
  "cell_type": "markdown",
  "metadata": {},
  "source": [
    "Not surprisingly, each of the three outcomes -1, 0, and 1 appeared about about 100 of the 300 times, give or take. We will examine the \"give or take\" amounts more closely in later chapters."
  ],
  "metadata": {
    "anaconda-cloud": {},
    "kernelspec": {
      "display_name": "Python 3 (ipykernel)",
      "language": "python",
      "name": "python3"
    },
    "language_info": {
      "codemirror_mode": {
        "name": "ipython",
        "version": 3
      },
      "file_extension": ".py",
      "mimetype": "text/x-python",
      "name": "python",
      "nbconvert_exporter": "python",
      "pygments_lexer": "ipython3",
      "version": "3.12.2"
    }
  },
  "nbformat": 4,
  "nbformat_minor": 4,
  "source": [
    "##### let's do some visualization with this data\n",
    "##### we know tables better for that.\n",
    "\n",
    "from datascience import Table\n",
    "\n",
    "outcome_table = Table().with_column('Outcome', outcomes)     ### empty table, add column ('LABEL', ARRAY)\n",
    "outcome_table"
  ],
  "cell_type": "code",
  "execution_count": 134,
  "id": "62d0cabe-b9bb-4a9c-b2f1-a3173d0dd7d2",
  "metadata": {},
  "outputs": [
    {
      "data": {
        "image/png": "iVBORw0KGgoAAAANSUhEUgAAAiMAAAF5CAYAAABN1yq9AAAAOXRFWHRTb2Z0d2FyZQBNYXRwbG90bGliIHZlcnNpb24zLjkuMiwgaHR0cHM6Ly9tYXRwbG90bGliLm9yZy8hTgPZAAAACXBIWXMAAA9hAAAPYQGoP6dpAAAmk0lEQVR4nO3df3TNd57H8ddNIolUbkJEgiYIio6WECJh60cdoUq1W221ozpMO5QudTpttaXdUaOdWbNrltlutWU6rSpb1SpjjvXbSGkioVq/VhBFQqjciKByP/uHcad3JHHdJD5JPB/n3HPk+31/7+edzyn31c/9/nAYY4wAAAAsCbDdAAAAuLkRRgAAgFWEEQAAYBVhBAAAWEUYAQAAVhFGAACAVYQRAABgFWEEAABYFWS7gZrM7Xbr2LFjCg8Pl8PhsN0OAAC1hjFGRUVFatasmQICKl77IIxU4NixY4qLi7PdBgAAtdaRI0d06623VlhDGKlAeHi4pMsT6XQ6LXcDAEDt4XK5FBcX5/ksrQhhpAJXvppxOp2EEQAA/ODLaQ6cwAoAAKwijAAAAKsIIwAAwCrCCAAAsIowAgAArCKMAAAAqwgjAADAKsIIAACwijACAACsIowAAACruB28D3Jycny6tz4AoHZwOp2Kjo623Qb+hjDig1Gjn1RgIFMFAHVFVKNILfzgfQJJDcEnrA+CoxIUHhFluw0AQBUoKXbpVMEBuVwuwkgNQRjxQf2wcN3ibGi7DQBAFblQYLsD/BgnsAIAAKsIIwAAwCrCCAAAsIowAgAArCKMAAAAqwgjAADAKsIIAACwijACAACsIowAAACrCCMAAMAqwggAALCKMAIAAKwijAAAAKsIIwAAwCrCCAAAsIowAgAArCKMAAAAqwgjAADAKsIIAACwijACAACsIowAAACrCCMAAMAqwggAALCKMAIAAKwijAAAAKsIIwAAwCrCCAAAsIowAgAArCKMAAAAqwgjAADAKsIIAACwijACAACsIowAAACrakUYWbp0qQYMGKCoqCg5HA5lZ2f7dNySJUvUvn17hYaG6o477tDKlSurt1EAAHDdakUYKS4uVq9evfTmm2/6fMyWLVs0YsQIjRkzRllZWRo2bJiGDRumXbt2VWOnAADgegXZbsAXI0eOlCQdOnTI52Nmz56tgQMH6pe//KUkafr06Vq9erXmzJmjt956qzraBAAAfqgVKyP+SE9PV//+/b22paWlKT09vdxjLly4IJfL5fUCAADVq86Gkby8PMXExHhti4mJUV5eXrnHzJw5UxEREZ5XXFxcdbcJAMBNr8aFkQ8//FANGjTwvDZt2nTDxp4yZYoKCws9ryNHjtywsQEAuFnVuHNGhg4dquTkZM/PzZs39+t9YmNjlZ+f77UtPz9fsbGx5R4TEhKikJAQv8YDAAD+qXErI+Hh4WrTpo3nVb9+fb/eJyUlRWvWrPHatnr1aqWkpFRFmwAAoIrUuJWRspw+fVq5ubk6duyYJGnv3r2SLq9+XFnpePzxx9W8eXPNnDlTkjRx4kT17t1bs2bN0uDBg7Vo0SJlZGTo7bfftvNLAACAMtW4lZGyfP7550pMTNTgwYMlSY888ogSExO9LtHNzc3V8ePHPT+npqZq4cKFevvtt9WpUyf9z//8j5YtW6aOHTve8P4BAED5HMYYY7uJmsrlcikiIkL/NHSMIqJirn0AAKDGK3Z9rzOHs7Rk0Qdq3bq17XbqrCufoYWFhXI6nRXW1oqVEQAAUHcRRgAAgFWEEQAAYBVhBAAAWEUYAQAAVhFGAACAVYQRAABgFWEEAABYRRgBAABWEUYAAIBVhBEAAGAVYQQAAFhFGAEAAFYRRgAAgFWEEQAAYBVhBAAAWEUYAQAAVhFGAACAVYQRAABgFWEEAABYRRgBAABWEUYAAIBVhBEAAGAVYQQAAFhFGAEAAFYRRgAAgFWEEQAAYBVhBAAAWEUYAQAAVhFGAACAVYQRAABgFWEEAABYFWS7gdqg5FyRguoF224DAFAFSopdtlvAPyCM+ODiqRydOZNruw0AQBWJahQpp9Npuw38DWHEB398b57Cw8NttwEAqCJOp1PR0dG228DfEEZ8kJCQQIIGAKCacAIrAACwijACAACsIowAAACrCCMAAMAqwggAALCKMAIAAKwijAAAAKsIIwAAwCrCCAAAsIowAgAArKqS28EXFhbqq6++0smTJ9WiRQulpqZWxdsCAICbQKVWRoqKivTzn/9cTZo0UVpamn7605/qnXfe8ex/55131KxZM23durXSjQIAgLrJ7zBSUlKiPn366L333lPDhg01aNAgGWO8au69917l5+dr2bJlle0TAADUUX6Hkd/97nfKysrSiBEjdODAAX3xxRdX1cTGxqpDhw5at25dpZoEAAB1l99h5OOPP1ZsbKzeffdd3XLLLeXW3Xbbbfruu+/8HQYAANRxfoeRAwcOqHv37goNDa2wLiwsTAUFBf4OAwAA6ji/r6YJDAzUDz/8cM267777rsKVk9ogJydH4eHhttsAAFQTp9Op6Oho223ctPwOI61bt9aOHTt06dIlBQWV/TZnz57Vzp07dfvtt/vdYE0wavSTCgyskqugAQA1UFSjSC384H0CiSV+f8IOHTpUr7/+ul5//XW99tprZda8/vrrKiws1P333+/vMDVCcFSCwiOibLcBAKgGJcUunSo4IJfLRRixxO8w8uyzz2r+/PmaPn26srOz9dBDD0mS8vPztXTpUi1evFhLlixRy5YtNXbs2Cpr2Ib6YeG6xdnQdhsAgGpygVMbrfI7jERGRmrVqlUaOnSoPv/8cy1fvlwOh0OrVq3SqlWrZIxRixYttHz58lp/zggAAKg+lToR4vbbb9euXbu0YMECrVy5Ujk5OXK73YqLi9OgQYP01FNPKSwsrKp6BQAAdVClz8oMDQ3V2LFja/1XMQAAwA6e2gsAAKwijAAAAKsqFUZycnL0i1/8Qm3atFFYWJgCAwPLfJV3HxIAAAC/U0JWVpb69Omjs2fPXvW03n90rf0AAODm5ffKyAsvvKCioiI98MADyszMlMvlktvtLvcFAABQFr9XRtLT09WuXTstXrxYDoejKnsCAAA3Eb9XRurVq6fOnTsTRAAAQKX4HUa6dOmi7777rip7AQAANyG/w8hzzz2n9PR0rV+/vgrbAQAANxu/zxkZOHCgZs+erfvuu09PP/20Bg0apPj4eAUElJ1v4uPj/W4SAADUXZW6AUiXLl3UrFkz/eY3v9FvfvObcuscDocuXbpUmaEAAEAd5XcY2bx5swYMGKDz589LkqKiotSgQYMqawwAANwc/A4jr7zyis6fP6/Jkyfr5ZdfVsOGDauyLwAAcJPwO4xs375diYmJ+rd/+7eq7AcAANxk/L6aJjg4WO3atavKXgAAwE3I7zCSnJysffv2VWUvAADgJuR3GJk6dap27typjz76qCr7AQAANxm/zxm5ePGiJk2apJEjR+rzzz+/5n1G7rrrLr+bBAAAdZffYaRPnz5yOBwyxmjx4sVavHhxubXcZwQAAJTH7zBy11138ZA8AABQaX6HEZ5JAwAAqoLfJ7ACAABUBcIIAACwqtJhZPfu3Ro7dqzatWunBg0aqEGDBmrXrp3GjRun3bt3V0WPAACgDqvUU3sXLFigsWPH6ocffpAxxrN9//792r9/v+bPn6///u//1qhRoyrdKAAAqJv8XhnJzMzUk08+qYsXL2rw4MH69NNPtXPnTu3cuVPLli3TkCFDdPHiRT355JPKyMioyp4BAEAd4vfKyG9/+1u53W69++67+tnPfua1r2PHjho6dKgWLFig0aNHa9asWdypFQAAlMnvlZFNmzapc+fOVwWRH3viiSfUpUsXbdy40d9hAABAHed3GCkoKFCHDh2uWde+fXsVFBT4OwwAAKjj/A4jkZGRys3NvWZdbm6uIiIi/B0GAADUcX6HkW7dumnLli1au3ZtuTVr167VX//6VyUnJ/s7jJe5c+eqZcuWCg0NVXJysrZt21Zh/ZIlS9S+fXuFhobqjjvu0MqVK6ukDwAAUHX8DiPPPPOM3G63hgwZoueff17ffPONzp07p3PnzmnXrl167rnnNGTIEE9tZX388ceaPHmyXn31VW3fvl2dOnVSWlqaTpw4UWb9li1bNGLECI0ZM0ZZWVkaNmyYhg0bpl27dlW6FwAAUHUc5sc3CLlOU6dO1YwZM8p9YJ4xRlOnTtW//uu/+t3gFcnJyerWrZvmzJkjSXK73YqLi9MzzzyjF1988ar6hx9+WMXFxfriiy8823r06KHOnTvrrbfe8mlMl8uliIgI/dPQMYqIiqn07wAAqHmKXd/rzOEsLVn0gVq3bm27nTrjymdoYWGhnE5nhbWVugPr9OnTtXLlSvXt21chISEyxsgYo+DgYPXr108rV66skiBy8eJFZWZmqn///n9vPCBA/fv3V3p6epnHpKene9VLUlpaWrn1knThwgW5XC6vFwAAqF6VugOrJA0cOFADBw5UaWmpTp06JUmKiopSYGBgpZu7oqCgQKWlpYqJ8V6diImJ0Z49e8o8Ji8vr8z6vLy8cseZOXNmlYQnAADguyp7UF5gYKCaNGmiJk2aVGkQuZGmTJmiwsJCz+vIkSO2WwIAoM7ze2Xk+++/19dff63WrVurefPmZdYcPXpUBw4c0J133qnIyEh/h1Ljxo0VGBio/Px8r+35+fmKjY0t85jY2NjrqpekkJAQhYSE+N0nAAC4fn6vjMyePVt9+/bV8ePHy605fvy4+vbtq7lz5/o7jCQpODhYXbt21Zo1azzb3G631qxZo5SUlDKPSUlJ8aqXpNWrV5dbDwAA7PA7jKxcuVIJCQlKSkoqtyYpKUmtWrXyuqLFX5MnT9a8efP0xz/+Ubt379a4ceNUXFzsuR39448/rilTpnjqJ06cqFWrVmnWrFnas2ePXnvtNWVkZGjChAmV7gUAAFQdv7+mOXTokLp3737Nuvbt21fJU3sffvhhnTx5UtOmTVNeXp46d+6sVatWeU5Szc3NVUDA37NVamqqFi5cqFdeeUUvvfSS2rZtq2XLlqljx46V7gUAAFQdv8PIleuHr8XpdOrMmTP+DuNlwoQJ5a5srF+//qptw4cP1/Dhw6tkbAAAUD38/pomOjq63Mtqf2zv3r1q1KiRv8MAAIA6zu8w0qNHD2VnZ2vjxo3l1mzatElZWVnq0aOHv8MAAIA6zu8wMm7cOBlj9OCDD+qzzz67av9nn32mBx98UA6HQ2PHjq1UkwAAoO7y+5yRfv36acKECZozZ44eeOABNW7cWO3atZMk7du3TydPnpQxRuPGjdOAAQOqrGEAAFC3VOp28L///e/Vtm1bTZ8+XSdPntTJkyc9+xo3bqyXX35ZEydOrHSTAACg7qr0s2meeeYZPf3008rMzNThw4clSfHx8UpKSqq1t4UHAAA3TqXDiHT5uTTdu3f36b4jAAAAP+b3CawJCQl64YUXrlk3ZcoUtW7d2t9hAABAHed3GDl06JDXOSLlKSgo0KFDh/wdBgAA1HF+hxFfnT9/XkFBVfJtEAAAqIOqNYyUlpYqIyND0dHR1TkMAACoxa5ryaJfv35eP69ateqqbVdcunRJ+/fv14kTJ/Too4/63yEAAKjTriuM/PhhdA6HQ3l5ecrLy6vwmKSkJM2cOdOv5gAAQN13XWFk3bp1kiRjjPr166eBAweWe0VNcHCwbr31VsXFxVW+SwAAUGddVxjp3bu315/79OnjtQ0AAOB6+X2Zy5VVEgAAgMqo9kt7AQAAKuL3ysjo0aN9rnU4HHr33Xf9HQoAANRhfoeRBQsWVLjf4XBIunyyK2EEAACUx+8wMn/+/DK3u91uHT58WCtXrlRGRoYmTZqkTp06+d0gAACo2/wOI6NGjapw/2uvvabnn39e8+bN0/bt2/0dBgAA1HHVegLrr3/9a4WHh2vatGnVOQwAAKjFqjWMBAUFqUuXLvrf//3f6hwGAADUYtV+aW9JSYm+//776h4GAADUUtUaRnbv3q3NmzdzS3gAAFAuv09gff/998vdV1RUpN27d+tPf/qTzp8/z1N7AQBAufwOI0888YTnXiJlMcZIku677z698sor/g4DAADqOL/DyOOPP15uGAkODlbz5s3Vv39/paam+t0cAACo+6rtDqwAAAC+8DuMXHH48GGdPHlSkhQdHa0WLVpUuikAAHDz8Otqmr1792rMmDFq0qSJEhISlJycrOTkZCUkJKhJkyYaM2aMdu/eXdW9AgCAOui6w8icOXPUqVMnLViwQAUFBTLGeL0KCgq0YMECde7cWbNnz66OngEAQB1yXV/T/OEPf9DEiRNljFGnTp00cuRIdevWTTExMTLG6MSJE9q2bZv+9Kc/aefOnZo8ebICAwM1YcKE6ur/hig5V6SgesG22wAAVIOSYpftFm56DnPlGtxrOHLkiG677TaVlpZq9uzZGjduXIX1c+fO1aRJkxQUFKS9e/cqPj6+Shq+kVwulyIiInRnYpICAyt9eg0AoIaKahSphR+8r+joaNut1BlXPkMLCwvldDorrPX5E3bOnDm6cOGCZs2adc0gIknjx4/XhQsX9Nxzz2nu3Ll68803fR2qxvnje/MUHh5uuw0AQDVxOp0EEYt8XhlJTEzUsWPHdPz4cQUE+HaqSWlpqZo1a6amTZsqOzu7Mn1acT2pDgAA/N31fIb6fALr4cOHlZKS4nMQkaTAwEClpKTo8OHDPh8DAABuLj4ni5KSEoWFhV33AGFhYTp//vx1HwcAAG4OPoeR6OhoHThw4LoHOHDggBo3bnzdxwEAgJuDz2EkKSlJmZmZ2rNnj89v/u233yojI0PdunXzqzkAAFD3+RxGHn74Ybndbo0cOVIu17WvyXa5XBo5cqQk6ZFHHvG/QwAAUKddVxjp1q2btm/frq5du+qzzz6T2+2+qs7tduvTTz9Vly5dlJ2draSkJD300ENV2jQAAKg7fL60V5KOHz+uXr166eDBg3I4HIqMjFRiYqJiYmIkSfn5+dq+fbsKCwtljFHLli3117/+VU2bNq22X6A6cWkvAAD+uZ7P0OsKI5J05swZjR8/Xh9//LFnZcThcEiSrrxVQECAHnroIc2dO1cNGzb053eoEQgjAAD4p1rDyBUHDx7U8uXLlZmZqZMnT0qSGjdurK5du2rIkCFKSEjw521rFMIIAAD+uSFh5GZAGAEAwD/VcgdWAACA6kAYAQAAVhFGAACAVYQRAABgFWEEAABYRRgBAABWBdluoDbIyclReHi47TYAAKgWTqdT0dHR1sYnjPhg1OgnFRjIVAEA6qaoRpFa+MH71gIJn7A+CI5KUHhElO02AACociXFLp0qOCCXy0UYqcnqh4XrFmftfcYOAAAVuVBgd3xOYAUAAFYRRgAAgFWEEQAAYBVhBAAAWEUYAQAAVhFGAACAVYQRAABgFWEEAABYRRgBAABWEUYAAIBVhBEAAGAVYQQAAFhFGAEAAFYRRgAAgFWEEQAAYBVhBAAAWEUYAQAAVhFGAACAVYQRAABgFWEEAABYRRgBAABWEUYAAIBVhBEAAGAVYQQAAFhFGAEAAFYRRgAAgFWEEQAAYBVhBAAAWEUYAQAAVhFGAACAVYQRAABgFWEEAABYRRgBAABW1ZowsnHjRg0ZMkTNmjWTw+HQsmXLrnnM+vXr1aVLF4WEhKhNmzZasGBBtfcJAACuT60JI8XFxerUqZPmzp3rU/3Bgwc1ePBg9e3bV9nZ2Zo0aZJ+/vOf6y9/+Us1dwoAAK5HkO0GfDVo0CANGjTI5/q33npLrVq10qxZsyRJHTp00ObNm/Xv//7vSktLq642AQDAdao1KyPXKz09Xf379/falpaWpvT09HKPuXDhglwul9cLAABUrzobRvLy8hQTE+O1LSYmRi6XSyUlJWUeM3PmTEVERHhecXFxN6JVAABuanU2jPhjypQpKiws9LyOHDliuyUAAOq8WnPOyPWKjY1Vfn6+17b8/Hw5nU7Vr1+/zGNCQkIUEhJyI9oDAAB/U2dXRlJSUrRmzRqvbatXr1ZKSoqljgAAQFlqTRg5e/assrOzlZ2dLenypbvZ2dnKzc2VdPkrlscff9xTP3bsWOXk5Oj555/Xnj179Ic//EGLFy/Ws88+a6N9AABQjloTRjIyMpSYmKjExERJ0uTJk5WYmKhp06ZJko4fP+4JJpLUqlUrrVixQqtXr1anTp00a9YsvfPOO1zWCwBADVNrzhnp06ePjDHl7i/r7qp9+vRRVlZWNXYFAAAqq9asjAAAgLqJMAIAAKwijAAAAKsIIwAAwCrCCAAAsIowAgAArCKMAAAAqwgjAADAKsIIAACwijACAACsIowAAACrCCMAAMAqwggAALCKMAIAAKwijAAAAKsIIwAAwCrCCAAAsIowAgAArCKMAAAAqwgjAADAKsIIAACwijACAACsIowAAACrCCMAAMAqwggAALCKMAIAAKwijAAAAKsIIwAAwCrCCAAAsIowAgAArCKMAAAAqwgjAADAqiDbDdQGJeeKFFQv2HYbAABUuZJil+0WCCO+uHgqR2fO5NpuAwCAahHVKFJOp9Pa+IQRH/zxvXkKDw+33QYAANXC6XQqOjra2viEER8kJCRYTYwAANRlnMAKAACsIowAAACrCCMAAMAqwggAALCKMAIAAKwijAAAAKsIIwAAwCrCCAAAsIowAgAArCKMAAAAq7gdfAWMMZIkl8v+Ew0BAKhNrnx2XvksrQhhpAKnTp2SJMXFxVnuBACA2qmoqEgREREV1hBGKtCoUSNJUm5u7jUnEldzuVyKi4vTkSNHeNCgH5i/ymH+/MfcVQ7zd5kxRkVFRWrWrNk1awkjFQgIuHxKTURExE39H1RlOZ1O5q8SmL/KYf78x9xVDvMnn/9HnhNYAQCAVYQRAABgFWGkAiEhIXr11VcVEhJiu5VaifmrHOavcpg//zF3lcP8XT+H8eWaGwAAgGrCyggAALCKMAIAAKwijAAAAKsIIwAAwCrCSAXmzp2rli1bKjQ0VMnJydq2bZvtlmqcmTNnqlu3bgoPD1eTJk00bNgw7d2716vm/PnzGj9+vKKiotSgQQP98z//s/Lz8y11XLO98cYbcjgcmjRpkmcb81exo0eP6qc//amioqJUv3593XHHHcrIyPDsN8Zo2rRpatq0qerXr6/+/ftr//79FjuuOUpLSzV16lS1atVK9evXV+vWrTV9+nSvZ4kwf5dt3LhRQ4YMUbNmzeRwOLRs2TKv/b7M0+nTp/XYY4/J6XQqMjJSY8aM0dmzZ2/gb1GDGZRp0aJFJjg42Lz33nvmm2++MU8++aSJjIw0+fn5tlurUdLS0sz8+fPNrl27THZ2trnnnntMfHy8OXv2rKdm7NixJi4uzqxZs8ZkZGSYHj16mNTUVItd10zbtm0zLVu2NHfeeaeZOHGiZzvzV77Tp0+bFi1amCeeeMJs3brV5OTkmL/85S/m//7v/zw1b7zxhomIiDDLli0zO3bsMEOHDjWtWrUyJSUlFjuvGWbMmGGioqLMF198YQ4ePGiWLFliGjRoYGbPnu2pYf4uW7lypXn55ZfN0qVLjSTz6aefeu33ZZ4GDhxoOnXqZL788kuzadMm06ZNGzNixIgb/JvUTISRcnTv3t2MHz/e83Npaalp1qyZmTlzpsWuar4TJ04YSWbDhg3GGGPOnDlj6tWrZ5YsWeKp2b17t5Fk0tPTbbVZ4xQVFZm2bdua1atXm969e3vCCPNXsRdeeMH06tWr3P1ut9vExsaa3/72t55tZ86cMSEhIeajjz66ES3WaIMHDzajR4/22vbAAw+Yxx57zBjD/JXnH8OIL/P07bffGknmq6++8tT8+c9/Ng6Hwxw9evSG9V5T8TVNGS5evKjMzEz179/fsy0gIED9+/dXenq6xc5qvsLCQkl/f8hgZmamfvjhB6+5bN++veLj45nLHxk/frwGDx7sNU8S83ctn3/+uZKSkjR8+HA1adJEiYmJmjdvnmf/wYMHlZeX5zV/ERERSk5OZv4kpaamas2aNdq3b58kaceOHdq8ebMGDRokifnzlS/zlJ6ersjISCUlJXlq+vfvr4CAAG3duvWG91zT8KC8MhQUFKi0tFQxMTFe22NiYrRnzx5LXdV8brdbkyZNUs+ePdWxY0dJUl5enoKDgxUZGelVGxMTo7y8PAtd1jyLFi3S9u3b9dVXX121j/mrWE5Ojv7rv/5LkydP1ksvvaSvvvpK//Iv/6Lg4GCNGjXKM0dl/V1m/qQXX3xRLpdL7du3V2BgoEpLSzVjxgw99thjksT8+ciXecrLy1OTJk289gcFBalRo0bMpQgjqELjx4/Xrl27tHnzZtut1BpHjhzRxIkTtXr1aoWGhtpup9Zxu91KSkrSr3/9a0lSYmKidu3apbfeekujRo2y3F3Nt3jxYn344YdauHChfvKTnyg7O1uTJk1Ss2bNmD/cUHxNU4bGjRsrMDDwqisW8vPzFRsba6mrmm3ChAn64osvtG7dOt16662e7bGxsbp48aLOnDnjVc9cXpaZmakTJ06oS5cuCgoKUlBQkDZs2KDf//73CgoKUkxMDPNXgaZNm+r222/32tahQwfl5uZKkmeO+Ltctl/+8pd68cUX9cgjj+iOO+7QyJEj9eyzz2rmzJmSmD9f+TJPsbGxOnHihNf+S5cu6fTp08ylCCNlCg4OVteuXbVmzRrPNrfbrTVr1iglJcViZzWPMUYTJkzQp59+qrVr16pVq1Ze+7t27ap69ep5zeXevXuVm5vLXEq6++679fXXXys7O9vzSkpK0mOPPeb5M/NXvp49e151Kfm+ffvUokULSVKrVq0UGxvrNX8ul0tbt25l/iSdO3dOAQHeHwOBgYFyu92SmD9f+TJPKSkpOnPmjDIzMz01a9euldvtVnJy8g3vucaxfQZtTbVo0SITEhJiFixYYL799lvz1FNPmcjISJOXl2e7tRpl3LhxJiIiwqxfv94cP37c8zp37pynZuzYsSY+Pt6sXbvWZGRkmJSUFJOSkmKx65rtx1fTGMP8VWTbtm0mKCjIzJgxw+zfv998+OGHJiwszHzwwQeemjfeeMNERkaazz77zOzcudPcd999N+WlqWUZNWqUad68uefS3qVLl5rGjRub559/3lPD/F1WVFRksrKyTFZWlpFkfve735msrCxz+PBhY4xv8zRw4ECTmJhotm7dajZv3mzatm3Lpb1/QxipwH/+53+a+Ph4ExwcbLp3726+/PJL2y3VOJLKfM2fP99TU1JSYp5++mnTsGFDExYWZu6//35z/Phxe03XcP8YRpi/ii1fvtx07NjRhISEmPbt25u3337ba7/b7TZTp041MTExJiQkxNx9991m7969lrqtWVwul5k4caKJj483oaGhJiEhwbz88svmwoULnhrm77J169aV+W/dqFGjjDG+zdOpU6fMiBEjTIMGDYzT6TQ/+9nPTFFRkYXfpuZxGPOjW+0BAADcYJwzAgAArCKMAAAAqwgjAADAKsIIAACwijACAACsIowAAACrCCMAAMAqwggAALCKMAIA5ejTp48cDofWr19vuxWgTiOMAAAAqwgjAADAKsIIgCpz7tw5/cd//Id69eqlhg0bKiQkRC1atNCQIUO0cOHCq2rfeOMNdenSReHh4QoLC9NPfvITvfLKK/r++++veu/169fL4XCoT58+5Y7vcDjkcDgq3P7JJ5+oV69ecjqduuWWW9SzZ0+tXLmyzLE2bNggSerbt6/nPRwOhxYsWHCdMwOgIkG2GwBQNxw5ckQDBw7Ut99+q7CwMPXs2VNRUVE6evSoNm3apK+//lqPPvqoJOn06dO6++67lZ2dLafTqX79+qlevXrasGGDZsyYoYULF2rt2rVq2bJllfb46quvavr06UpNTdU999yjPXv2aMuWLbr33nv1ySef6P7775ckxcbGatSoUVq1apXy8/OVlpam2NhYz/u0adOmSvsCbnq2HxsMoPYrLS01SUlJRpIZMGCAOXHihNf+kpISs2LFCs/PDz/8sJFkkpOTTUFBgWd7UVGRGTRokJFkUlNTvd7jyiPce/fuXW4f+ttj3cvbHhkZab788kuvfa+++qqRZG677barjuvdu7eRZNatW1fRrw+gkviaBkClLV++XBkZGWratKk++eQTRUdHe+0PDQ3VPffcI0nKzc3VkiVL5HA49PbbbysqKspT16BBA82bN0+hoaHasmWLtmzZUqV9/upXv1JycrLXtilTpigiIkL79u3TkSNHqnQ8AL4hjACotFWrVkmSHn30UTVo0KDC2o0bN8rtdisxMVF33nnnVfubN2+utLQ0SdK6deuqtM8hQ4ZctS0kJEQJCQmSpKNHj1bpeAB8QxgBUGmHDx+WJLVv3/6atVc+8Fu1alVuTevWrb1qq0p8fHyZ251OpyTp/PnzVToeAN8QRgDUCW63+5o1AQH8kwfURPzNBFBpV1Yc9uzZc83a5s2bS5JycnLKrbmy70qtJAUHB0uSioqKyjzmyuoMgNqHMAKg0gYOHChJ+uijj1RcXFxh7V133aWAgABlZ2drx44dV+0/fvy45xyUvn37erb/OMRcvHjxquNWrFjhd//luRKALl26VOXvDeDvCCMAKm3o0KFKTEzUsWPHNHz4cJ06dcpr//nz5/XnP/9Z0uVVlOHDh8sYo1/84hdetcXFxXrqqad0/vx5paamKjU11bOvRYsWatu2rc6cOaM333zT6/3Xr1+vadOmVfnvdeutt0qSvvnmmyp/bwB/5zDGGNtNAKj9Dh8+rLS0NO3du1dhYWHq1auX56ZnO3bsUGRkpA4dOiRJOnXqlO6++27t2LFDERER6tu3r4KCgrRhwwadPHlSrVq1KvOmZ0uXLtWDDz4oY4w6d+6stm3bKicnR9u3b9fUqVP1q1/9SpL0j/+sXbn7ann/3PXp00cbNmzQunXrvO7wumLFCt17770KDg7WgAED1KRJEzkcDo0ePdorKAGoJJs3OQFQtxQVFZk333zTdOvWzYSHh5uQkBDTokULM3ToULNo0SKv2uLiYjNz5kzTuXNnExYWZkJDQ02HDh3MSy+9ZE6fPl3uGCtWrDA9e/Y0YWFh5pZbbjE9evQwH3/8sTHm2jc9K09FNzebN2+e6dKliwkLC/O8z/z5832bEAA+YWUEAABYxTkjAADAKsIIAACwijACAACsIowAAACrCCMAAMAqwggAALCKMAIAAKwijAAAAKsIIwAAwCrCCAAAsIowAgAArCKMAAAAqwgjAADAqv8HPXGbD4zLYa8AAAAASUVORK5CYII=",
        "image/png": "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",
        "text/plain": [
          "<Figure size 600x400 with 1 Axes>"
        ]
      },
      "metadata": {},
      "output_type": "display_data"
    }
  ],
  "source": [
    "##### need this guy to show graphs in notebook\n",
    "%matplotlib inline     \n",
    "\n",
    "outcome_table.group('Outcome').barh('Outcome')     ### 0 == Outcome is the first column #####\n",
    "\n",
    "##### .barh(): Table.barh(column_for_categories=None, select=None, overlay=True, width=None, **vargs)"
  ],
  "cell_type": "code",
  "execution_count": null,
  "id": "a5fda7d9-f43a-47d5-ad46-b67b8f66458e",
  "metadata": {},
  "outputs": [],
  "source": []
}
"metadata": {
  "kernelspec": {
    "display_name": "Python 3 (ipykernel)",
    "language": "python",
    "name": "python3"
  },
  "language_info": {
    "codemirror_mode": {
      "name": "ipython",
      "version": 3
    },
    "file_extension": ".py",
    "mimetype": "text/x-python",
    "name": "python",
    "nbconvert_exporter": "python",
    "pygments_lexer": "ipython3",
    "version": "3.12.0"
  }
}
}
}
},
"nbformat": 4,
"nbformat_minor": 5
}