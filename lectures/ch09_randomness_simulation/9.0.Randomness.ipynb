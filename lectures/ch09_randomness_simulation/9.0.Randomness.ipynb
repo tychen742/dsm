{
 "cells": [
  {
   "cell_type": "markdown",
   "id": "53346e38-e2fb-464a-8597-3f14dd14fa19",
   "metadata": {},
   "source": [
    "# 9. Randomness\n",
    "\n",
    "- We've learned plenty about descriptive data, now we will learn about\n",
    "- Randomness, which is the basis of experimental design\n",
    "\n",
    "In ch.9., we'll be talking about:\n",
    "#### 9.1. Conditional Statements (if, if-else, elif, else)\n",
    "#### 9.2. Iteration (count-controlled vs. condition-controlled)\n",
    "#### 9.3. Simulation\n",
    "#### 9.4. The Monty Hall Problem\n",
    "#### 9.5. Finding Probabilities"
   ]
  },
  {
   "cell_type": "code",
   "execution_count": 123,
   "id": "0a1ac030-84cb-4f02-9089-8554a9c56106",
   "metadata": {},
   "outputs": [],
   "source": [
    "### Python has its own random module (random) with plenty of methods.\n",
    "### https://www.w3schools.com/python/module_random.asp\n",
    "### The numpy.random library contains a few extra probability distributions \n",
    "### commonly used in scientific research, as well as a couple of convenience functions \n",
    "### for generating arrays of random data. \n",
    "\n",
    "### Python library, package, module, framework ###\n",
    "### https://learnpython.com/blog/python-modules-packages-libraries-frameworks/\n",
    "### Module: A module is basically a bunch of related code saved in a file with the extension .py\n",
    "### Package: Python packages are basically a directory of a collection of modules.\n",
    "### Library: A library is an umbrella term contains a collection of related modules and packages."
   ]
  },
  {
   "cell_type": "code",
   "execution_count": 124,
   "id": "69b1835b-d7e4-40d4-a495-ae54f5c714f2",
   "metadata": {},
   "outputs": [
    {
     "data": {
      "text/html": [
       "<img src=\"../../images/python-random-module.jpg\"/>"
      ],
      "text/plain": [
       "<IPython.core.display.Image object>"
      ]
     },
     "execution_count": 124,
     "metadata": {},
     "output_type": "execute_result"
    }
   ],
   "source": [
    "from IPython.display import Image\n",
    "from IPython.core.display import HTML \n",
    "Image(url= \"../../images/python-random-module.jpg\")"
   ]
  },
  {
   "cell_type": "code",
   "execution_count": 134,
   "id": "1b6bb4d5-63f6-48ab-946b-90b0e60bf963",
   "metadata": {},
   "outputs": [
    {
     "data": {
      "text/plain": [
       "0.6569713720121041"
      ]
     },
     "execution_count": 134,
     "metadata": {},
     "output_type": "execute_result"
    }
   ],
   "source": [
    "##### Python random.random()\n",
    "import random\n",
    "random.random()"
   ]
  },
  {
   "cell_type": "code",
   "execution_count": 151,
   "id": "89633344-0f67-4d8e-b60f-e038a22aa8a1",
   "metadata": {},
   "outputs": [
    {
     "data": {
      "text/plain": [
       "0.2173779029656715"
      ]
     },
     "execution_count": 151,
     "metadata": {},
     "output_type": "execute_result"
    }
   ],
   "source": [
    "#####  numpy.random\n",
    "# import numpy as np\n",
    "import numpy\n",
    "numpy.random.random()"
   ]
  },
  {
   "cell_type": "code",
   "execution_count": 152,
   "id": "541910a1-6fbb-497f-a0db-b241764381e6",
   "metadata": {},
   "outputs": [],
   "source": [
    "### headers\n",
    "path_data = '../../../assets/data/'\n",
    "from datascience import *\n",
    "import numpy as np\n",
    "import matplotlib.pyplot as plt\n",
    "matplotlib.use('Agg')\n",
    "%matplotlib inline\n",
    "plt.style.use('fivethirtyeight')"
   ]
  },
  {
   "cell_type": "code",
   "execution_count": 72,
   "id": "183b44b7-7c9f-4f59-81e5-b648a3d7ea86",
   "metadata": {},
   "outputs": [
    {
     "data": {
      "text/plain": [
       "array(['treatment', 'control'],\n",
       "      dtype='<U9')"
      ]
     },
     "execution_count": 72,
     "metadata": {},
     "output_type": "execute_result"
    }
   ],
   "source": [
    "two_groups = make_array('treatment', 'control')\n",
    "two_groups"
   ]
  },
  {
   "cell_type": "code",
   "execution_count": 73,
   "id": "70f927ca-72ac-4e4f-912b-23a2c68801aa",
   "metadata": {},
   "outputs": [
    {
     "data": {
      "text/plain": [
       "'treatment'"
      ]
     },
     "execution_count": 73,
     "metadata": {},
     "output_type": "execute_result"
    }
   ],
   "source": [
    "np.random.choice(two_groups)"
   ]
  },
  {
   "cell_type": "code",
   "execution_count": 74,
   "id": "e89dc1a2-9d3b-460f-b5d2-e6cb76018ebf",
   "metadata": {},
   "outputs": [
    {
     "data": {
      "text/plain": [
       "array(['control', 'treatment', 'control', 'control', 'control', 'control',\n",
       "       'control', 'control', 'treatment', 'treatment'],\n",
       "      dtype='<U9')"
      ]
     },
     "execution_count": 74,
     "metadata": {},
     "output_type": "execute_result"
    }
   ],
   "source": [
    "np.random.choice(two_groups, 10)"
   ]
  },
  {
   "cell_type": "code",
   "execution_count": 78,
   "id": "292e8045-e1aa-49e4-8ddf-260e2e184c47",
   "metadata": {},
   "outputs": [],
   "source": [
    "# two_groups = Table().with_columns(\n",
    "#     'treatment',  make_array( 1, 2, 3 ),\n",
    "#     'control',    make_array( 4, 5, 6 )\n",
    "# )\n",
    "# two_groups   ### try something else"
   ]
  },
  {
   "cell_type": "code",
   "execution_count": 157,
   "id": "b6558f64-54b4-4b36-bb3b-b4631c784267",
   "metadata": {},
   "outputs": [
    {
     "data": {
      "text/plain": [
       "25007"
      ]
     },
     "execution_count": 157,
     "metadata": {},
     "output_type": "execute_result"
    }
   ],
   "source": [
    "##### how good is random.choice? #####\n",
    "def repeat(str_arr, num):\n",
    "    string = []\n",
    "    for i in range(num):\n",
    "        string.append(np.random.choice(str_arr))\n",
    "        \n",
    "        # print (str(i) + \" \" + np.random.choice(str_arr))\n",
    "    return string\n",
    "\n",
    "lst = repeat(two_groups, 50000)\n",
    "# lst\n",
    "# lst.count()\n",
    "lst.count('treatment')"
   ]
  },
  {
   "cell_type": "code",
   "execution_count": 159,
   "id": "1c2f53d4-0a75-4647-98d0-03e9837136e4",
   "metadata": {},
   "outputs": [
    {
     "data": {
      "text/plain": [
       "array(['control', 'treatment', 'treatment', ..., 'treatment', 'treatment',\n",
       "       'control'],\n",
       "      dtype='<U9')"
      ]
     },
     "execution_count": 159,
     "metadata": {},
     "output_type": "execute_result"
    }
   ],
   "source": [
    "##### I am a joke. choice() has an argument n to return an array\n",
    "##### np.random.choice¶\n",
    "##### np.random.choice(array)\n",
    "##### np.random.choice(array, n, replace=True)\n",
    "\n",
    "groups = np.random.choice(two_groups, 100000)\n",
    "groups"
   ]
  },
  {
   "cell_type": "code",
   "execution_count": 161,
   "id": "0bbce74b-f54b-4567-90cb-53a894504aa6",
   "metadata": {},
   "outputs": [
    {
     "data": {
      "text/html": [
       "<table border=\"1\" class=\"dataframe\">\n",
       "    <thead>\n",
       "        <tr>\n",
       "            <th>group</th>\n",
       "        </tr>\n",
       "    </thead>\n",
       "    <tbody>\n",
       "        <tr>\n",
       "            <td>control  </td>\n",
       "        </tr>\n",
       "        <tr>\n",
       "            <td>treatment</td>\n",
       "        </tr>\n",
       "        <tr>\n",
       "            <td>treatment</td>\n",
       "        </tr>\n",
       "    </tbody>\n",
       "</table>\n",
       "<p>... (99997 rows omitted)</p>"
      ],
      "text/plain": [
       "<IPython.core.display.HTML object>"
      ]
     },
     "metadata": {},
     "output_type": "display_data"
    }
   ],
   "source": [
    "result = Table().with_column(\n",
    "    \"group\", groups\n",
    ")\n",
    "result.show(3)"
   ]
  },
  {
   "cell_type": "code",
   "execution_count": 162,
   "id": "298ac87f-1dcc-4551-bac2-f47d44da4544",
   "metadata": {},
   "outputs": [
    {
     "data": {
      "text/html": [
       "<table border=\"1\" class=\"dataframe\">\n",
       "    <thead>\n",
       "        <tr>\n",
       "            <th>group</th> <th>count</th>\n",
       "        </tr>\n",
       "    </thead>\n",
       "    <tbody>\n",
       "        <tr>\n",
       "            <td>control  </td> <td>49928</td>\n",
       "        </tr>\n",
       "        <tr>\n",
       "            <td>treatment</td> <td>50072</td>\n",
       "        </tr>\n",
       "    </tbody>\n",
       "</table>"
      ],
      "text/plain": [
       "group     | count\n",
       "control   | 49928\n",
       "treatment | 50072"
      ]
     },
     "execution_count": 162,
     "metadata": {},
     "output_type": "execute_result"
    }
   ],
   "source": [
    "result.group('group')"
   ]
  },
  {
   "cell_type": "markdown",
   "id": "5f0afbb1",
   "metadata": {},
   "source": [
    "A fundamental question about **random** events is whether or not they occur. For example:\n",
    "\n",
    "- Did an individual get assigned to the treatment group, or not?\n",
    "- Is a gambler going to win money, or not?\n",
    "- Has a poll made an accurate prediction, or not?\n",
    "\n",
    "Once the event has occurred, you can answer “yes” or “no” to all these questions. In programming, it is conventional to do this by labeling statements as True or False. For example, if an individual did get assigned to the treatment group, then the statement, “The individual was assigned to the treatment group” would be `True`. If not, it would be `False`.\n"
   ]
  },
  {
   "cell_type": "markdown",
   "id": "d6a7e99d",
   "metadata": {},
   "source": [
    "## Booleans and Comparison \n",
    "\n",
    "Boolean > comparison **operators**"
   ]
  },
  {
   "cell_type": "code",
   "execution_count": 79,
   "id": "1aad30b8",
   "metadata": {},
   "outputs": [
    {
     "data": {
      "text/plain": [
       "True"
      ]
     },
     "execution_count": 79,
     "metadata": {},
     "output_type": "execute_result"
    }
   ],
   "source": [
    "3 > 1 + 1"
   ]
  },
  {
   "cell_type": "code",
   "execution_count": 80,
   "id": "342483a0",
   "metadata": {},
   "outputs": [
    {
     "data": {
      "text/plain": [
       "True"
      ]
     },
     "execution_count": 80,
     "metadata": {},
     "output_type": "execute_result"
    }
   ],
   "source": [
    "### what would the result of the following operation be? and why?\n",
    "\n",
    "1 < 1 + 1 < 3"
   ]
  },
  {
   "cell_type": "markdown",
   "id": "36ffd714-26fb-4851-abdc-2fc80cca5af0",
   "metadata": {},
   "source": [
    "The value `True` indicates that the comparison is valid; Python has confirmed this simple fact about the relationship between `3` and `1+1`. The full set of common comparison operators are listed below.\n",
    "\n",
    "| Comparison         | Operator | True example | False Example |\n",
    "|--------------------|----------|--------------|---------------|\n",
    "| Less than          | <        | 2 < 3        | 2 < 2         |\n",
    "| Greater than       | >        | 3 > 2        | 3 > 3         |\n",
    "| Less than or equal | <=       | 2 <= 2       | 3 <= 2        |\n",
    "| Greater or equal   | >=       | 3 >= 3       | 2 >= 3        |\n",
    "| Equal              | ==       | 3 == 3       | 3 == 2        |\n",
    "| Not equal          | !=       | 3 != 2       | 2 != 2        |"
   ]
  },
  {
   "cell_type": "markdown",
   "id": "dd0d9a95-9a6b-4cad-bd36-d0a4cb752708",
   "metadata": {},
   "source": [
    "Notice the two equal signs `==` in the comparison to determine equality. This is necessary because Python already uses `=` to mean assignment to a name, as we have seen. It can't use the same symbol for a different purpose. Thus if you want to check whether 5 is equal to the 10/2, then you have to be careful: `5 = 10/2` returns an error message because Python assumes you are trying to assign the value of the expression 10/2 to a name that is the numeral 5. Instead, you must use `5 == 10/2`, which evaluates to `True`."
   ]
  },
  {
   "cell_type": "code",
   "execution_count": 85,
   "id": "d89ac690-6e00-46d2-88e7-1e9de53155e8",
   "metadata": {},
   "outputs": [
    {
     "ename": "SyntaxError",
     "evalue": "cannot assign to literal here. Maybe you meant '==' instead of '='? (1531505505.py, line 1)",
     "output_type": "error",
     "traceback": [
      "\u001b[0;36m  Cell \u001b[0;32mIn[85], line 1\u001b[0;36m\u001b[0m\n\u001b[0;31m    5 = 10/2\u001b[0m\n\u001b[0m    ^\u001b[0m\n\u001b[0;31mSyntaxError\u001b[0m\u001b[0;31m:\u001b[0m cannot assign to literal here. Maybe you meant '==' instead of '='?\n"
     ]
    }
   ],
   "source": [
    "5 = 10/2"
   ]
  },
  {
   "cell_type": "code",
   "execution_count": 86,
   "id": "0d86302c-c5b7-486c-8cb4-1207eff39f67",
   "metadata": {},
   "outputs": [
    {
     "data": {
      "text/plain": [
       "True"
      ]
     },
     "execution_count": 86,
     "metadata": {},
     "output_type": "execute_result"
    }
   ],
   "source": [
    "5 == 10/2"
   ]
  },
  {
   "cell_type": "markdown",
   "id": "c59953ab-436f-4881-8466-6177e2eb9908",
   "metadata": {},
   "source": [
    "An expression can contain multiple comparisons, and they all must hold in order for the whole expression to be `True`. For example, we can express that `1+1` is between `1` and `3` using the following expression."
   ]
  },
  {
   "cell_type": "code",
   "execution_count": 88,
   "id": "ea72940d-1283-4e5b-99c3-97735e936f75",
   "metadata": {},
   "outputs": [
    {
     "data": {
      "text/plain": [
       "True"
      ]
     },
     "execution_count": 88,
     "metadata": {},
     "output_type": "execute_result"
    }
   ],
   "source": [
    "1 < 1 + 1 < 3"
   ]
  },
  {
   "cell_type": "markdown",
   "id": "9e1bc8b3-17d1-444a-b7f0-9d715f6f9ef9",
   "metadata": {},
   "source": [
    "The average of two numbers is always between the smaller number and the larger number. We express this relationship for the numbers `x` and `y` below. You can try different values of `x` and `y` to confirm this relationship."
   ]
  },
  {
   "cell_type": "code",
   "execution_count": 91,
   "id": "26cb8527-e43d-4474-aa72-80cc5a8e2a94",
   "metadata": {},
   "outputs": [
    {
     "data": {
      "text/plain": [
       "True"
      ]
     },
     "execution_count": 91,
     "metadata": {},
     "output_type": "execute_result"
    }
   ],
   "source": [
    "x = 12\n",
    "y = 5\n",
    "min(x, y) <= (x + y)/2 <= max(x, y)"
   ]
  },
  {
   "cell_type": "code",
   "execution_count": 93,
   "id": "d99d8962",
   "metadata": {},
   "outputs": [
    {
     "data": {
      "text/plain": [
       "True"
      ]
     },
     "execution_count": 93,
     "metadata": {},
     "output_type": "execute_result"
    }
   ],
   "source": [
    "### what would the result of the following operation be? and why?\n",
    "### supposed that x and y are defined\n",
    "\n",
    "min(x, y) <= (x+y)/2 <= max(x, y)"
   ]
  },
  {
   "cell_type": "markdown",
   "id": "2a3cabc4",
   "metadata": {},
   "source": [
    "### String Comparison"
   ]
  },
  {
   "cell_type": "code",
   "execution_count": 96,
   "id": "07998515",
   "metadata": {},
   "outputs": [
    {
     "ename": "NameError",
     "evalue": "name 'a' is not defined",
     "output_type": "error",
     "traceback": [
      "\u001b[0;31m---------------------------------------------------------------------------\u001b[0m",
      "\u001b[0;31mNameError\u001b[0m                                 Traceback (most recent call last)",
      "Cell \u001b[0;32mIn[96], line 1\u001b[0m\n\u001b[0;32m----> 1\u001b[0m \u001b[43ma\u001b[49m\n",
      "\u001b[0;31mNameError\u001b[0m: name 'a' is not defined"
     ]
    }
   ],
   "source": [
    "a"
   ]
  },
  {
   "cell_type": "code",
   "execution_count": 98,
   "id": "c572323f-7645-4324-b2be-2b6a52f49856",
   "metadata": {},
   "outputs": [
    {
     "data": {
      "text/plain": [
       "'a'"
      ]
     },
     "execution_count": 98,
     "metadata": {},
     "output_type": "execute_result"
    }
   ],
   "source": [
    "\"a\""
   ]
  },
  {
   "cell_type": "code",
   "execution_count": 99,
   "id": "aa769288",
   "metadata": {},
   "outputs": [
    {
     "data": {
      "text/plain": [
       "'aa'"
      ]
     },
     "execution_count": 99,
     "metadata": {},
     "output_type": "execute_result"
    }
   ],
   "source": [
    "\"a\"  \"a\""
   ]
  },
  {
   "cell_type": "code",
   "execution_count": 103,
   "id": "b9606d2a",
   "metadata": {},
   "outputs": [
    {
     "data": {
      "text/plain": [
       "False"
      ]
     },
     "execution_count": 103,
     "metadata": {},
     "output_type": "execute_result"
    }
   ],
   "source": [
    "\"Dog\" > \"dog\""
   ]
  },
  {
   "cell_type": "code",
   "execution_count": 104,
   "id": "48a0b6c9",
   "metadata": {},
   "outputs": [
    {
     "data": {
      "text/plain": [
       "True"
      ]
     },
     "execution_count": 104,
     "metadata": {},
     "output_type": "execute_result"
    }
   ],
   "source": [
    "'Dog' > 'Cat'"
   ]
  },
  {
   "cell_type": "markdown",
   "id": "c0cc683d-d7a6-4240-94e8-767948758662",
   "metadata": {},
   "source": [
    "Let's return to random selection. Recall the array `two_groups` which consists of just two elements, `treatment` and `control`. To see whether a randomly assigned individual went to the treatment group, you can use a comparison:"
   ]
  },
  {
   "cell_type": "code",
   "execution_count": 105,
   "id": "b410f6d4-5faa-4732-b7b4-63ff80de17c2",
   "metadata": {},
   "outputs": [
    {
     "data": {
      "text/plain": [
       "True"
      ]
     },
     "execution_count": 105,
     "metadata": {},
     "output_type": "execute_result"
    }
   ],
   "source": [
    "np.random.choice(two_groups) == 'treatment'"
   ]
  },
  {
   "cell_type": "markdown",
   "id": "d4183a3b-6a61-4dc3-b4e0-1f4b9ddc9656",
   "metadata": {},
   "source": [
    "As before, the random choice will not always be the same, so the result of the comparison won't always be the same either. It will depend on whether `treatment` or `control` was chosen. With any cell that involves random selection, it is a good idea to run the cell several times to get a sense of the variability in the result."
   ]
  },
  {
   "cell_type": "markdown",
   "id": "aa588f09",
   "metadata": {},
   "source": [
    "### Comparing an Array and a Value\n",
    "\n",
    "We have mostly worked on tables and columns (arrays) in this course. "
   ]
  },
  {
   "cell_type": "code",
   "execution_count": 111,
   "id": "6e3e15bd",
   "metadata": {},
   "outputs": [
    {
     "data": {
      "text/plain": [
       "array(['Tails', 'Heads', 'Tails', 'Heads', 'Heads'],\n",
       "      dtype='<U5')"
      ]
     },
     "execution_count": 111,
     "metadata": {},
     "output_type": "execute_result"
    }
   ],
   "source": [
    "##### now commpare an array and a value:\n",
    "\n",
    "tosses = make_array('Tails', 'Heads', 'Tails', 'Heads', 'Heads')\n",
    "tosses"
   ]
  },
  {
   "cell_type": "code",
   "execution_count": 113,
   "id": "e2bdee6f",
   "metadata": {},
   "outputs": [
    {
     "data": {
      "text/plain": [
       "array([False,  True, False,  True,  True], dtype=bool)"
      ]
     },
     "execution_count": 113,
     "metadata": {},
     "output_type": "execute_result"
    }
   ],
   "source": [
    "##### What would the following operation give us?\n",
    "tosses == 'Heads'"
   ]
  },
  {
   "cell_type": "code",
   "execution_count": 116,
   "id": "2388f15a",
   "metadata": {},
   "outputs": [
    {
     "data": {
      "text/plain": [
       "3"
      ]
     },
     "execution_count": 116,
     "metadata": {},
     "output_type": "execute_result"
    }
   ],
   "source": [
    "##### The numpy method count_nonzero evaluates to the number of \n",
    "##### non-zero (that is, True) elements of the array.\n",
    "\n",
    "np.count_nonzero(tosses == 'Heads')"
   ]
  },
  {
   "cell_type": "code",
   "execution_count": 122,
   "id": "94dfc616",
   "metadata": {},
   "outputs": [
    {
     "data": {
      "text/plain": [
       "array([ 0, 10,  4])"
      ]
     },
     "execution_count": 122,
     "metadata": {},
     "output_type": "execute_result"
    }
   ],
   "source": [
    "### in datascience array, \n",
    "### what would the result of this operation be?\n",
    "\n",
    "make_array(0, 5, 2) * 2"
   ]
  },
  {
   "cell_type": "code",
   "execution_count": null,
   "id": "dc62ddaf-4f4e-4570-abce-3ad9444a2bbc",
   "metadata": {},
   "outputs": [],
   "source": []
  }
 ],
 "metadata": {
  "kernelspec": {
   "display_name": "Python 3 (ipykernel)",
   "language": "python",
   "name": "python3"
  },
  "language_info": {
   "codemirror_mode": {
    "name": "ipython",
    "version": 3
   },
   "file_extension": ".py",
   "mimetype": "text/x-python",
   "name": "python",
   "nbconvert_exporter": "python",
   "pygments_lexer": "ipython3",
   "version": "3.12.8"
  }
 },
 "nbformat": 4,
 "nbformat_minor": 5
}
