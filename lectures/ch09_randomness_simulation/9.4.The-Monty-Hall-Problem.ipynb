{
 "cells": [
  {
   "cell_type": "markdown",
   "id": "5b9f3567-e484-4bd9-9cc5-6a7ba23e4b05",
   "metadata": {},
   "source": [
    "# 9.4. The Monty Hall Problem\n",
    "\n",
    "- work out The Monty Hall Problem by simulation\n",
    "  - Three doors\n",
    "  - Behind one of the doors is a fancy car\n",
    "  - At least one of the other two doors must have a goat behind it. ==> just say two goats\n",
    "  - The contestant makes an initial choice, but that door isn’t opened.\n",
    "  - Monty opens one of the other two doors to reveal a goat.\n",
    "  - More about the game: [Wikipedia](https://en.wikipedia.org/wiki/Monty_Hall_problem)\n",
    "\n",
    "### <font color='darkred'>Question: Switch or not?</font>"
   ]
  },
  {
   "cell_type": "code",
   "execution_count": 7,
   "id": "1b00d0d3-f1ba-4336-a338-e465495e6460",
   "metadata": {},
   "outputs": [
    {
     "data": {
      "text/html": [
       "<img src=\"https://introdsm.org/_images/monty_hall_goat.png\"/>"
      ],
      "text/plain": [
       "<IPython.core.display.Image object>"
      ]
     },
     "execution_count": 7,
     "metadata": {},
     "output_type": "execute_result"
    }
   ],
   "source": [
    "from IPython.display import Image\n",
    "from IPython.core.display import HTML \n",
    "Image(url= \"https://introdsm.org/_images/monty_hall_goat.png\")"
   ]
  },
  {
   "cell_type": "markdown",
   "id": "da4da98d-e450-4392-98ba-62e2acf64fc8",
   "metadata": {},
   "source": [
    "## 9.4.1. The Solution\n",
    "\n",
    "- The chance that the car is behind the originally chosen door is 1/3.\n",
    "- The car is behind either the originally chosen door or the door that still remains closed. \n",
    "- Therefore, the chance that the car is behind the door that remains is 2/3.\n",
    "- Therefore, the contestant **should switch**.\n",
    "\n",
    "#### Not everybody is convinced that the contestant should switch. "
   ]
  },
  {
   "cell_type": "code",
   "execution_count": 8,
   "id": "b1933c53-59d9-47a3-b6bb-05bfb51ba34a",
   "metadata": {},
   "outputs": [
    {
     "data": {
      "text/html": [
       "<img src=\"../../images/Monty_Hall_Problem_-_Standard_probabilities.svg.png\" width=\"500\"/>"
      ],
      "text/plain": [
       "<IPython.core.display.Image object>"
      ]
     },
     "execution_count": 8,
     "metadata": {},
     "output_type": "execute_result"
    }
   ],
   "source": [
    "from IPython.display import Image\n",
    "# from IPython.core.display import HTML \n",
    "Image(url= \"../../images/Monty_Hall_Problem_-_Standard_probabilities.svg.png\", width=500)\n",
    "\n",
    "##### switch or not? probability among the three possible selections, switch has probability of 2/3 car:"
   ]
  },
  {
   "cell_type": "markdown",
   "id": "cc480825-b14d-44ee-a011-7f1b5809c272",
   "metadata": {},
   "source": [
    "**Solution presented by vos Savant in marilynvossavant.com from Parade Magazine in 1990/1991**\n",
    "\n",
    "| Behind door 1\t| Behind door 2\t| Behind door 3\t| Result if staying at door #1\t| Result if switching to the door offered\n",
    "|--- | --- | ---| ---| ---|\n",
    "| Goat\t| Goat\t| **Car** |\tWins goat\t| **Wins car** |\n",
    "| Goat\t| **Car**\t| Goat | Wins goat | **Wins car** |\n",
    "| **Car** | Goat | Goat\t| **Wins car**\t| Wins goat |"
   ]
  },
  {
   "cell_type": "markdown",
   "id": "05b04213-7150-4f55-a9d5-bad54d519113",
   "metadata": {},
   "source": [
    "## 9.4.2. Simulation"
   ]
  },
  {
   "cell_type": "markdown",
   "id": "9cb9968f-82e3-4c7b-a1c8-1ca0fb8dfcfb",
   "metadata": {},
   "source": [
    "#### Step 1: What to Simulate\n",
    "For each play we will simulate what’s behind all three doors:\n",
    "\n",
    "- the one the contestant first picks\n",
    "- the one that Monty opens\n",
    "- the remaining door\n"
   ]
  },
  {
   "cell_type": "markdown",
   "id": "21ab0cd9-c767-472a-a90d-bd85aa158023",
   "metadata": {},
   "source": [
    "#### Step 2: Simulating One Play\n",
    "simulating one play of the game\n",
    "\n",
    "**The goats**: start by setting up an array goats that contains the two goats."
   ]
  },
  {
   "cell_type": "code",
   "execution_count": 9,
   "id": "38d4eb9f-d0cd-45e6-80c5-17e8fc981ae0",
   "metadata": {},
   "outputs": [
    {
     "data": {
      "text/plain": [
       "array(['first goat', 'second goat'],\n",
       "      dtype='<U11')"
      ]
     },
     "execution_count": 9,
     "metadata": {},
     "output_type": "execute_result"
    }
   ],
   "source": [
    "from datascience import *\n",
    "goats = make_array('first goat', 'second goat')\n",
    "goats\n",
    "\n",
    "##### we careated an array of goats"
   ]
  },
  {
   "cell_type": "markdown",
   "id": "e6f94875-cce0-453a-9f54-ad80f3b399fe",
   "metadata": {},
   "source": [
    "- identify which goat is selected and which one is revealed behind the open door. \n",
    "- The function other_goat takes one goat and returns the other.\n",
    "\n"
   ]
  },
  {
   "cell_type": "code",
   "execution_count": 10,
   "id": "65c116df-3e45-43e2-942d-c35df07f9a63",
   "metadata": {},
   "outputs": [],
   "source": [
    "def other_goat(x):\n",
    "    if x == 'first goat':\n",
    "        return 'second goat'\n",
    "    elif x == 'second goat':\n",
    "        return 'first goat'"
   ]
  },
  {
   "cell_type": "code",
   "execution_count": 11,
   "id": "0b2d7c24-a17c-402a-97a7-c479aaf72755",
   "metadata": {},
   "outputs": [],
   "source": [
    "other_goat('watermelon')"
   ]
  },
  {
   "cell_type": "code",
   "execution_count": 12,
   "id": "f9a6f981-ab5f-434d-818c-94b6bff01db8",
   "metadata": {},
   "outputs": [
    {
     "data": {
      "text/plain": [
       "('second goat', 'first goat', None)"
      ]
     },
     "execution_count": 12,
     "metadata": {},
     "output_type": "execute_result"
    }
   ],
   "source": [
    "##### test other_goat()\n",
    "other_goat('first goat'), other_goat('second goat'), other_goat('watermelon')\n",
    "\n",
    "\n",
    "### The None keyword is used to define a null value, or no value at all.\n",
    "### None is not the same as 0, False, or an empty string. None is a data type of its own (NoneType) and only None can be None."
   ]
  },
  {
   "cell_type": "markdown",
   "id": "5eaaf188-0010-48fa-911a-d80a78e1c648",
   "metadata": {},
   "source": [
    "**The options**: The array hidden_behind_doors contains the three things that are behind the doors."
   ]
  },
  {
   "cell_type": "code",
   "execution_count": 13,
   "id": "a78e9157-5432-4aed-8f2d-8fb788df5386",
   "metadata": {},
   "outputs": [
    {
     "data": {
      "text/plain": [
       "array(['first goat', 'second goat', 'car'],\n",
       "      dtype='<U11')"
      ]
     },
     "execution_count": 13,
     "metadata": {},
     "output_type": "execute_result"
    }
   ],
   "source": [
    "import numpy as np\n",
    "hidden_behind_doors = np.append(goats, 'car')\n",
    "hidden_behind_doors"
   ]
  },
  {
   "cell_type": "markdown",
   "id": "d6c4d513-63fe-4227-8151-cf06b2907314",
   "metadata": {},
   "source": [
    "#### simulation\n",
    "\n",
    "The game starts with the contestant choosing one door at random. In doing so, the contestant makes a random choice from among the first goat, the second goat, and the car.\n",
    "\n",
    "- If the contestant happens to pick one of the goats, then the other goat is revealed and the car is behind the remaining door.\n",
    "- If the contestant happens to pick the car, then Monty reveals one of the goats and the other goat is behind the remaining door.\n",
    "- We'll create monty_hall_game function: \n",
    "  - the contestant’s guess\n",
    "  - what Monty reveals when he opens a door\n",
    "  - what remains behind the other door\n",
    "\n"
   ]
  },
  {
   "cell_type": "code",
   "execution_count": 23,
   "id": "f5c62c55-acd2-48ff-86b2-268031fee3a5",
   "metadata": {},
   "outputs": [],
   "source": [
    "def monty_hall_game():\n",
    "    contestant_guess = np.random.choice(hidden_behind_doors)   ##### the guess pick one\n",
    "\n",
    "    if contestant_guess == 'first goat':\n",
    "        return [contestant_guess, 'second goat', 'car']\n",
    "    \n",
    "    if contestant_guess == 'second goat':\n",
    "        return [contestant_guess, 'first goat', 'car']\n",
    "    \n",
    "    if contestant_guess == 'car':\n",
    "        revealed = np.random.choice(goats)\n",
    "    \n",
    "    return [contestant_guess, revealed, other_goat(revealed)]"
   ]
  },
  {
   "cell_type": "code",
   "execution_count": 28,
   "id": "39613f0d-c3b7-4188-97ee-410331e717ff",
   "metadata": {},
   "outputs": [
    {
     "data": {
      "text/plain": [
       "['second goat', 'first goat', 'car']"
      ]
     },
     "execution_count": 28,
     "metadata": {},
     "output_type": "execute_result"
    }
   ],
   "source": [
    "monty_hall_game()"
   ]
  },
  {
   "cell_type": "markdown",
   "id": "b9dfee13-4999-4d38-9be0-b03c6287f6e1",
   "metadata": {},
   "source": [
    "#### Step 3: Number of Repetitions\n",
    " - 10,000 repetitions"
   ]
  },
  {
   "cell_type": "markdown",
   "id": "ce772454-ebce-465f-954b-bff06d13dd29",
   "metadata": {},
   "source": [
    "#### Step 4: Simulating Multiple Repetitions\n",
    "- simulate a list of three values each time\n",
    "- treat this simulated list as a row of a table"
   ]
  },
  {
   "cell_type": "code",
   "execution_count": 16,
   "id": "1d51fdf9-4356-4ba8-9ec6-e07b10edb4d8",
   "metadata": {},
   "outputs": [
    {
     "data": {
      "text/html": [
       "<table border=\"1\" class=\"dataframe\">\n",
       "    <thead>\n",
       "        <tr>\n",
       "            <th>Guess</th> <th>Revealed</th> <th>Remaining</th>\n",
       "        </tr>\n",
       "    </thead>\n",
       "    <tbody>\n",
       "    </tbody>\n",
       "</table>"
      ],
      "text/plain": [
       "Guess | Revealed | Remaining"
      ]
     },
     "execution_count": 16,
     "metadata": {},
     "output_type": "execute_result"
    }
   ],
   "source": [
    "games = Table(['Guess', 'Revealed', 'Remaining'])     ##### note this creates labels\n",
    "games"
   ]
  },
  {
   "cell_type": "code",
   "execution_count": 31,
   "id": "0a1c820f-a996-4bd9-9278-9805631ba477",
   "metadata": {},
   "outputs": [],
   "source": [
    "for i in np.arange(10000):\n",
    "    games.append(monty_hall_game())   ### appended the returned monty_hall_game"
   ]
  },
  {
   "cell_type": "code",
   "execution_count": 32,
   "id": "650e2c80-c416-4a6b-932c-3367c87d9a07",
   "metadata": {},
   "outputs": [
    {
     "data": {
      "text/html": [
       "<table border=\"1\" class=\"dataframe\">\n",
       "    <thead>\n",
       "        <tr>\n",
       "            <th>Guess</th> <th>Revealed</th> <th>Remaining</th>\n",
       "        </tr>\n",
       "    </thead>\n",
       "    <tbody>\n",
       "        <tr>\n",
       "            <td>second goat</td> <td>first goat </td> <td>car      </td>\n",
       "        </tr>\n",
       "        <tr>\n",
       "            <td>second goat</td> <td>first goat </td> <td>car      </td>\n",
       "        </tr>\n",
       "        <tr>\n",
       "            <td>first goat </td> <td>second goat</td> <td>car      </td>\n",
       "        </tr>\n",
       "    </tbody>\n",
       "</table>\n",
       "<p>... (39997 rows omitted)</p>"
      ],
      "text/plain": [
       "<IPython.core.display.HTML object>"
      ]
     },
     "metadata": {},
     "output_type": "display_data"
    }
   ],
   "source": [
    "games.show(3)\n",
    "# games"
   ]
  },
  {
   "cell_type": "markdown",
   "id": "6f30295b-3b2c-4527-b5b8-245b47d90d21",
   "metadata": {},
   "source": [
    "## 9.4.3. Visualization"
   ]
  },
  {
   "cell_type": "code",
   "execution_count": 33,
   "id": "48e7149a-1346-4525-b87a-a1a632d59ab6",
   "metadata": {},
   "outputs": [
    {
     "data": {
      "text/html": [
       "<table border=\"1\" class=\"dataframe\">\n",
       "    <thead>\n",
       "        <tr>\n",
       "            <th>Guess</th> <th>count</th>\n",
       "        </tr>\n",
       "    </thead>\n",
       "    <tbody>\n",
       "        <tr>\n",
       "            <td>car        </td> <td>13244</td>\n",
       "        </tr>\n",
       "        <tr>\n",
       "            <td>first goat </td> <td>13279</td>\n",
       "        </tr>\n",
       "        <tr>\n",
       "            <td>second goat</td> <td>13477</td>\n",
       "        </tr>\n",
       "    </tbody>\n",
       "</table>"
      ],
      "text/plain": [
       "Guess       | count\n",
       "car         | 13244\n",
       "first goat  | 13279\n",
       "second goat | 13477"
      ]
     },
     "execution_count": 33,
     "metadata": {},
     "output_type": "execute_result"
    }
   ],
   "source": [
    "original_choice = games.group('Guess')\n",
    "original_choice"
   ]
  },
  {
   "cell_type": "code",
   "execution_count": 34,
   "id": "fa058c58-c22d-4b5d-b52c-47d4de77e3f9",
   "metadata": {},
   "outputs": [
    {
     "data": {
      "text/html": [
       "<table border=\"1\" class=\"dataframe\">\n",
       "    <thead>\n",
       "        <tr>\n",
       "            <th>Remaining</th> <th>count</th>\n",
       "        </tr>\n",
       "    </thead>\n",
       "    <tbody>\n",
       "        <tr>\n",
       "            <td>car        </td> <td>26756</td>\n",
       "        </tr>\n",
       "        <tr>\n",
       "            <td>first goat </td> <td>6542 </td>\n",
       "        </tr>\n",
       "        <tr>\n",
       "            <td>second goat</td> <td>6702 </td>\n",
       "        </tr>\n",
       "    </tbody>\n",
       "</table>"
      ],
      "text/plain": [
       "Remaining   | count\n",
       "car         | 26756\n",
       "first goat  | 6542\n",
       "second goat | 6702"
      ]
     },
     "execution_count": 34,
     "metadata": {},
     "output_type": "execute_result"
    }
   ],
   "source": [
    "remaining_door = games.group('Remaining')\n",
    "remaining_door"
   ]
  },
  {
   "cell_type": "markdown",
   "id": "43b21d04-4c5b-4da8-8b2a-027b0ba3bc77",
   "metadata": {},
   "source": [
    "- The contestant is twice as likely to get the car if she switches than if she sticks with her original choice."
   ]
  },
  {
   "cell_type": "code",
   "execution_count": 35,
   "id": "8f93cb6f-9f48-414b-b4ee-976b14964855",
   "metadata": {},
   "outputs": [
    {
     "data": {
      "text/html": [
       "<table border=\"1\" class=\"dataframe\">\n",
       "    <thead>\n",
       "        <tr>\n",
       "            <th>Item</th> <th>Original Door</th> <th>Remaining Door</th>\n",
       "        </tr>\n",
       "    </thead>\n",
       "    <tbody>\n",
       "        <tr>\n",
       "            <td>car        </td> <td>13244        </td> <td>26756         </td>\n",
       "        </tr>\n",
       "        <tr>\n",
       "            <td>first goat </td> <td>13279        </td> <td>6542          </td>\n",
       "        </tr>\n",
       "        <tr>\n",
       "            <td>second goat</td> <td>13477        </td> <td>6702          </td>\n",
       "        </tr>\n",
       "    </tbody>\n",
       "</table>"
      ],
      "text/plain": [
       "Item        | Original Door | Remaining Door\n",
       "car         | 13244         | 26756\n",
       "first goat  | 13279         | 6542\n",
       "second goat | 13477         | 6702"
      ]
     },
     "execution_count": 35,
     "metadata": {},
     "output_type": "execute_result"
    }
   ],
   "source": [
    "joined = original_choice.join('Guess', remaining_door, 'Remaining')\n",
    "combined = joined.relabel(0, 'Item').relabel(1, 'Original Door').relabel(2, 'Remaining Door')\n",
    "combined"
   ]
  },
  {
   "cell_type": "code",
   "execution_count": 36,
   "id": "bbd584e3-9939-4c82-aece-6375dbc31192",
   "metadata": {},
   "outputs": [
    {
     "data": {
      "image/png": "[encoded data removed]",
      "text/plain": [
       "<Figure size 600x400 with 1 Axes>"
      ]
     },
     "metadata": {},
     "output_type": "display_data"
    }
   ],
   "source": [
    "%matplotlib inline\n",
    "combined.barh(0)"
   ]
  },
  {
   "cell_type": "code",
   "execution_count": null,
   "id": "3bdfb471-a460-4817-a9de-be3afc6475e1",
   "metadata": {},
   "outputs": [],
   "source": []
  },
  {
   "cell_type": "code",
   "execution_count": null,
   "id": "e1cc8f48-1bff-4b20-8f9f-e039760a1104",
   "metadata": {},
   "outputs": [],
   "source": []
  }
 ],
 "metadata": {
  "kernelspec": {
   "display_name": "Python 3 (ipykernel)",
   "language": "python",
   "name": "python3"
  },
  "language_info": {
   "codemirror_mode": {
    "name": "ipython",
    "version": 3
   },
   "file_extension": ".py",
   "mimetype": "text/x-python",
   "name": "python",
   "nbconvert_exporter": "python",
   "pygments_lexer": "ipython3",
   "version": "3.12.2"
  }
 },
 "nbformat": 4,
 "nbformat_minor": 5
}
