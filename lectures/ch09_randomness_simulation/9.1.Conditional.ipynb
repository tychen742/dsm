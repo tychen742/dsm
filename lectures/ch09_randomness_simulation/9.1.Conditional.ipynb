{
 "cells": [
  {
   "cell_type": "markdown",
   "id": "2d6a3969-ba9a-4624-bda5-4f45dd36c1f2",
   "metadata": {},
   "source": [
    "# Conditional Statements\n",
    "In many situations, actions and results depends on a specific set of conditions being satisfied. For example, individuals in randomized controlled trials receive the treatment if they have been assigned to the treatment group. A gambler makes money if she wins her bet. \n",
    "\n",
    "In this section we will learn how to describe such situations using code. A *conditional statement* is a multi-line statement that allows Python to choose among different alternatives based on the truth value of an expression. While conditional statements can appear anywhere, they appear most often within the body of a function in order to express alternative behavior depending on argument values.\n",
    "\n",
    "A conditional statement always begins with an `if` header, which is a single line followed by an indented body. The body is only executed if the expression directly following `if` (called the *if expression*) evaluates to a true value. If the *if expression* evaluates to a false value, then the body of the `if` is skipped.\n",
    "\n",
    "Let us start defining a function that returns the sign of a number."
   ]
  },
  {
   "cell_type": "markdown",
   "id": "47e135f7-3451-46ba-8ea7-fa8755d8a637",
   "metadata": {},
   "source": [
    "Notes on conditions: \n",
    "- individuals in randomized controlled trials receive the treatment if they have been assigned to the treatment group.\n",
    "- A gambler makes money if she wins her bet.\n",
    "\n",
    "- Note that Python uses **indentation** to indicate code blocks instead of **{ }** \n",
    "\n",
    "- **true** or **false**: individuals in randomized controlled trials receive the treatment if they have been assigned to the treatment group.\n",
    "- It's all about Boolean from last section: **if a condition is met (\"tested\" true)**, then..."
   ]
  },
  {
   "cell_type": "code",
   "execution_count": 65,
   "id": "eff9da47-d064-47c2-bfb1-e0d3c56f197b",
   "metadata": {},
   "outputs": [],
   "source": [
    "##### headers\n",
    "\n",
    "from datascience import *\n",
    "import numpy as np\n",
    "\n",
    "import matplotlib.pyplot as plots\n",
    "%matplotlib inline\n",
    "matplotlib.use('Agg')\n",
    "plots.style.use('fivethirtyeight')\n",
    "\n",
    "path_data = '../../data/'"
   ]
  },
  {
   "cell_type": "code",
   "execution_count": 66,
   "id": "e1ef3c66-661e-40d3-8302-bbf62d959651",
   "metadata": {},
   "outputs": [],
   "source": [
    "##### conditional: if\n",
    "def sign(x):    \n",
    "    if x > 0:\n",
    "        return \"Positive\""
   ]
  },
  {
   "cell_type": "code",
   "execution_count": 67,
   "id": "454b9c9a-11c9-409f-8850-6bbb60d35640",
   "metadata": {},
   "outputs": [
    {
     "data": {
      "text/plain": [
       "'Positive'"
      ]
     },
     "execution_count": 67,
     "metadata": {},
     "output_type": "execute_result"
    }
   ],
   "source": [
    "sign(10)"
   ]
  },
  {
   "cell_type": "code",
   "execution_count": 68,
   "id": "25886909-df53-4c9c-a586-c9ab32cf248f",
   "metadata": {},
   "outputs": [],
   "source": [
    "sign(0)"
   ]
  },
  {
   "cell_type": "markdown",
   "id": "3959ea03-0804-45c1-9bfd-06aa5f224562",
   "metadata": {},
   "source": [
    "This function returns the correct sign if the input is a positive number. But if the input is not a positive number, then the *if expression* evaluates to a false value, and so the `return` statement is skipped and the function call has no value."
   ]
  },
  {
   "cell_type": "code",
   "execution_count": 69,
   "id": "3692b4b3-63ce-450a-80e0-26425cfc2fa1",
   "metadata": {},
   "outputs": [],
   "source": [
    "sign(-3)"
   ]
  },
  {
   "cell_type": "markdown",
   "id": "0c7a6aea-72ff-466d-822d-2a9d8f5d82bd",
   "metadata": {},
   "source": [
    "So let us refine our function to return `Negative` if the input is a negative number. We can do this by adding an `elif` clause, where `elif` if Python's shorthand for the phrase \"else, if\"."
   ]
  },
  {
   "cell_type": "code",
   "execution_count": 70,
   "id": "bc3fe49a-052e-415a-a154-059059243b26",
   "metadata": {},
   "outputs": [],
   "source": [
    "##### conditional: if-else\n",
    "\n",
    "def sign(x):\n",
    "\n",
    "    if (x) > 0:\n",
    "        return 'Positive'\n",
    "    else:\n",
    "        return 'Negative'"
   ]
  },
  {
   "cell_type": "markdown",
   "id": "8bcede50-5c56-4703-9125-70d029b998ad",
   "metadata": {},
   "source": [
    "Now `sign` returns the correct answer when the input is -3:"
   ]
  },
  {
   "cell_type": "code",
   "execution_count": 71,
   "id": "cacbb716-c71e-4ec2-8168-7ecb3b02a435",
   "metadata": {},
   "outputs": [
    {
     "data": {
      "text/plain": [
       "'Negative'"
      ]
     },
     "execution_count": 71,
     "metadata": {},
     "output_type": "execute_result"
    }
   ],
   "source": [
    "sign(-3)"
   ]
  },
  {
   "cell_type": "markdown",
   "id": "f535495f-de05-432d-a1e4-f00f7c8a4d27",
   "metadata": {},
   "source": [
    "What if the input is 0? To deal with this case, we can add another `elif` clause:"
   ]
  },
  {
   "cell_type": "code",
   "execution_count": 72,
   "id": "1fe61982-ea9b-4923-bdf3-07d122048cd8",
   "metadata": {},
   "outputs": [],
   "source": [
    "##### \"chained\" conditional: elif\n",
    "\n",
    "def sign (x):\n",
    "    if x > 0:\n",
    "        return 'Positive'\n",
    "    elif x < 0:\n",
    "        return 'Negative'\n",
    "    elif x == 0:                        \n",
    "        return 'Neither positive nor negative'\n",
    "\n",
    "##### ideally, we want the logic to be exhaustive"
   ]
  },
  {
   "cell_type": "code",
   "execution_count": 73,
   "id": "012a1f2d-adbe-4390-9d62-83a8339e679f",
   "metadata": {},
   "outputs": [
    {
     "data": {
      "text/plain": [
       "'Neither positive nor negative'"
      ]
     },
     "execution_count": 73,
     "metadata": {},
     "output_type": "execute_result"
    }
   ],
   "source": [
    "sign(0)"
   ]
  },
  {
   "cell_type": "markdown",
   "id": "69026e19-9e2a-41a9-8281-1fbbeba74f40",
   "metadata": {},
   "source": [
    "Equivalently, we can replace the final `elif` clause by an `else` clause, whose body will be executed only if all the previous comparisons are false; that is, if the input value is equal to 0."
   ]
  },
  {
   "cell_type": "code",
   "execution_count": 74,
   "id": "5670f273-0200-4fd9-aa57-111cf8ecdff1",
   "metadata": {},
   "outputs": [],
   "source": [
    "##### \"chained\" conditional: elif\n",
    "\n",
    "def sign (x):\n",
    "    if x > 0:\n",
    "        return 'Positive'\n",
    "    elif x < 0:\n",
    "        return 'Negative'\n",
    "    else:                        ### default case\n",
    "        return 'Neither positive nor negative'\n",
    "\n",
    "##### the logic to be exhaustive"
   ]
  },
  {
   "cell_type": "code",
   "execution_count": 75,
   "id": "a47ea2bb-64bc-4fbf-b802-dc02de4680bc",
   "metadata": {},
   "outputs": [
    {
     "data": {
      "text/plain": [
       "'Neither positive nor negative'"
      ]
     },
     "execution_count": 75,
     "metadata": {},
     "output_type": "execute_result"
    }
   ],
   "source": [
    "sign(0)"
   ]
  },
  {
   "cell_type": "markdown",
   "id": "2c7cbc01-2130-4120-bebc-ec1d5727f3b3",
   "metadata": {},
   "source": [
    "- There is always exactly one if clause, but there can be any number of elif clauses.\n",
    "- Python will evaluate the if and elif expressions in the headers in order until one is found that is a true value, then execute the corresponding body.\n",
    "- The else clause is optional.\n",
    "- When an else header is provided, its else body is executed only if none of the header expressions of the previous clauses are true.\n",
    "- The else clause must always come at the end (or not at all)."
   ]
  },
  {
   "cell_type": "code",
   "execution_count": 76,
   "id": "c59f2c7e-55d7-4c26-ab92-784ca8c069ea",
   "metadata": {},
   "outputs": [
    {
     "data": {
      "text/plain": [
       "'Neither positive nor negative'"
      ]
     },
     "execution_count": 76,
     "metadata": {},
     "output_type": "execute_result"
    }
   ],
   "source": [
    "sign(0)"
   ]
  },
  {
   "cell_type": "code",
   "execution_count": 77,
   "id": "c3db5a42-42d2-42a4-b662-a42cc8d15bd7",
   "metadata": {},
   "outputs": [
    {
     "data": {
      "text/plain": [
       "'Positive'"
      ]
     },
     "execution_count": 77,
     "metadata": {},
     "output_type": "execute_result"
    }
   ],
   "source": [
    "sign(9)"
   ]
  },
  {
   "cell_type": "markdown",
   "id": "64bdf3ed-bb6e-41a7-9bcd-30e3e00a1060",
   "metadata": {},
   "source": [
    "## 9.1.1. The General Form (syntax)\n",
    "\n",
    "A conditional statement can also have multiple clauses with multiple bodies, and only one of those bodies can ever be executed. The general format of a multi-clause conditional statement appears below."
   ]
  },
  {
   "cell_type": "code",
   "execution_count": 79,
   "id": "154581b9-df87-4d17-bc2e-fdc6b4e877c8",
   "metadata": {},
   "outputs": [
    {
     "ename": "SyntaxError",
     "evalue": "invalid syntax (1020783384.py, line 1)",
     "output_type": "error",
     "traceback": [
      "\u001b[0;36m  Cell \u001b[0;32mIn[79], line 1\u001b[0;36m\u001b[0m\n\u001b[0;31m    if <if expression>:\u001b[0m\n\u001b[0m       ^\u001b[0m\n\u001b[0;31mSyntaxError\u001b[0m\u001b[0;31m:\u001b[0m invalid syntax\n"
     ]
    }
   ],
   "source": [
    "if <if expression>:\n",
    "    <if body>\n",
    "elif <elif expression 0>:\n",
    "    <elif body 0>\n",
    "elif <elif expression 1>:\n",
    "    <elif body 1>\n",
    "...\n",
    "else:\n",
    "    <else body>\n"
   ]
  },
  {
   "cell_type": "markdown",
   "id": "896d181f-0f8f-4674-a56d-7f31627df39d",
   "metadata": {},
   "source": [
    "There is always exactly one `if` clause, but there can be any number of `elif` clauses. Python will evaluate the `if` and `elif` expressions in the headers in order until one is found that is a true value, then execute the corresponding body. The `else` clause is optional. When an `else` header is provided, its *else body* is executed only if none of the header expressions of the previous clauses are true. The `else` clause must always come at the end (or not at all)."
   ]
  },
  {
   "cell_type": "markdown",
   "id": "8b05c93e-fec9-4c0e-9291-895b865694a1",
   "metadata": {},
   "source": [
    "## 9.1.2. Example: Betting on a Die\n",
    "\n",
    "The rules of the game:\n",
    "- If the die shows 1 spot or 2 spots, I lose a dollar.\n",
    "- If the die shows 3 spots or 4 spots, I neither lose money nor gain money.\n",
    "- If the die shows 5 spots or 6 spots, I gain a dollar.\n",
    "\n",
    "We will now use conditional statements to define a function `one_bet` that takes the number of spots on the roll and returns my net gain."
   ]
  },
  {
   "cell_type": "code",
   "execution_count": 80,
   "id": "21279a39-34b7-41d2-b6f9-a995a602a179",
   "metadata": {},
   "outputs": [],
   "source": [
    "##### turn the rules into code\n",
    "\n",
    "def one_bet(x):\n",
    "\n",
    "    if x <= 2:\n",
    "        return -1\n",
    "    elif x <= 4:\n",
    "        return 0\n",
    "    elif x <= 6:\n",
    "        return 1\n"
   ]
  },
  {
   "cell_type": "markdown",
   "id": "cf9cb629-5b32-44e9-8576-50e0152f0e1e",
   "metadata": {},
   "source": [
    "Let's check that the function does the right thing for each different number of spots."
   ]
  },
  {
   "cell_type": "code",
   "execution_count": 81,
   "id": "78de0828-5cac-4e49-b28c-3d23c066066b",
   "metadata": {},
   "outputs": [
    {
     "data": {
      "text/plain": [
       "(-1, -1, 0, 0, 1, 1)"
      ]
     },
     "execution_count": 81,
     "metadata": {},
     "output_type": "execute_result"
    }
   ],
   "source": [
    "one_bet(1), one_bet(2), one_bet(3), one_bet(4), one_bet(5), one_bet(6)\n",
    "##### this will generate a tuple\n",
    "##### tuples are ordered and unchangeable/immutable"
   ]
  },
  {
   "cell_type": "markdown",
   "id": "b663b322-b7ff-43aa-bf47-4ed957f767eb",
   "metadata": {},
   "source": [
    "As a review of how conditional statements work, let's see what `one_bet` does when the input is 3.\n",
    "\n",
    "- First it evaluates the `if` expression, which is `3 <= 2` which is `False`. So `one_bet` doesn't execute the `if` body.\n",
    "- Then it evaluates the first `elif` expression, which is `3 <= 4`, which is `True`. So `one_bet` executes the first `elif` body and returns 0.\n",
    "- Once the body has been executed, the process is complete. The next `elif` expression is not evaluated.\n",
    "\n",
    "If for some reason we use an input greater than 6, then the `if` expression evaluates to `False` as do both of the `elif` expressions. So `one_bet` does not execute the `if` body nor the two `elif` bodies, and there is no value when you make the call below."
   ]
  },
  {
   "cell_type": "code",
   "execution_count": 82,
   "id": "190b41ec-207a-4fdb-a32b-beed12b5c8d1",
   "metadata": {},
   "outputs": [],
   "source": [
    "##### What would this function call give us?\n",
    "\n",
    "one_bet(999)"
   ]
  },
  {
   "cell_type": "markdown",
   "id": "95a18177-512d-4dfa-8130-00192692e834",
   "metadata": {},
   "source": [
    "To play the game based on one roll of a die, you can use `np.random.choice` to generate the number of spots and then use that as the argument to `one_bet`. Run the cell a few times to see how the output changes."
   ]
  },
  {
   "cell_type": "code",
   "execution_count": 83,
   "id": "cb5aca46-c5a0-4931-b8d8-69ac2c56142c",
   "metadata": {},
   "outputs": [
    {
     "data": {
      "text/plain": [
       "1"
      ]
     },
     "execution_count": 83,
     "metadata": {},
     "output_type": "execute_result"
    }
   ],
   "source": [
    "##### instead of entering 1 - 6 manually when playing with the one_bet,\n",
    "##### we can use the choice() function and np.arange(1, 7):\n",
    "\n",
    "one_bet(np.random.choice(np.arange(1, 7)))"
   ]
  },
  {
   "cell_type": "markdown",
   "id": "eb8e1fbe-53c2-41eb-8ef0-872f728797e2",
   "metadata": {},
   "source": [
    "At this point it is natural to want to collect the results of all the bets so that we can analyze them. In the next section we develop a way to do this without running the cell over and over again."
   ]
  },
  {
   "cell_type": "code",
   "execution_count": 84,
   "id": "f1cb90e9-2b2f-4f3f-9764-bc600145796f",
   "metadata": {},
   "outputs": [
    {
     "name": "stdout",
     "output_type": "stream",
     "text": [
      "-1 0 1 0 -1 0 1 1 1 1 1 1 -1 1 -1 1 0 0 -1 1 -1 1 1 0 1 -1 1 1 0 1 -1 1 0 -1 0 1 -1 -1 1 0 0 -1 0 1 -1 1 0 0 0 1 -1 1 1 1 -1 -1 0 0 1 -1 1 0 1 0 0 -1 1 1 0 -1 0 1 0 1 0 -1 1 0 -1 1 1 1 1 1 -1 0 0 1 0 -1 1 0 -1 0 1 0 1 0 0 1 -1 0 -1 1 0 1 1 0 1 1 1 0 0 0 -1 1 0 1 1 1 -1 0 1 1 0 1 -1 1 1 -1 1 0 -1 1 1 1 -1 -1 -1 1 0 -1 -1 0 -1 -1 0 1 0 0 0 -1 1 1 -1 -1 1 0 0 -1 1 1 0 1 1 1 1 1 -1 1 -1 1 -1 0 1 -1 1 -1 -1 -1 1 -1 0 -1 -1 -1 1 -1 -1 -1 0 -1 -1 0 -1 0 1 0 1 -1 1 0 1 1 -1 0 0 1 -1 -1 1 0 1 1 -1 -1 -1 1 1 -1 0 1 0 -1 0 1 1 -1 1 1 0 -1 -1 1 1 0 1 1 0 -1 0 1 -1 -1 1 0 -1 -1 1 1 0 0 -1 -1 -1 1 -1 1 -1 1 0 1 -1 -1 0 1 -1 -1 1 1 0 -1 0 1 -1 1 -1 0 1 1 -1 1 0 -1 1 1 0 0 -1 0 0 1 0 0 -1 1 1 0 -1 0 -1 1 0 1 -1 1 0 -1 1 -1 1 0 1 0 1 -1 -1 0 0 -1 1 -1 1 0 -1 0 -1 1 -1 -1 1 1 -1 0 -1 0 0 -1 -1 1 0 0 -1 -1 0 -1 0 0 1 -1 1 1 1 -1 1 1 -1 0 0 0 0 0 0 -1 0 1 0 -1 1 0 0 1 1 -1 -1 0 1 -1 -1 1 1 0 0 1 0 0 0 0 0 -1 0 1 0 0 -1 0 -1 1 1 0 -1 -1 1 1 1 0 1 0 -1 1 0 1 0 -1 1 -1 -1 -1 -1 1 1 -1 -1 -1 1 0 0 -1 -1 0 -1 -1 -1 -1 0 -1 0 0 1 1 0 -1 -1 0 0 -1 1 -1 1 1 0 0 0 -1 -1 1 1 1 0 1 1 -1 -1 1 -1 0 0 1 -1 1 0 0 0 1 -1 -1 -1 0 0 1 1 1 1 0 1 1 0 0 -1 0 0 -1 -1 0 1 0 -1 0 0 -1 0 0 0 1 -1 -1 -1 0 -1 -1 -1 -1 -1 0 1 1 -1 0 1 -1 0 0 0 -1 0 -1 1 0 0 1 0 -1 -1 -1 0 -1 -1 1 0 -1 0 -1 1 -1 1 -1 -1 0 1 0 0 0 -1 0 -1 -1 1 -1 0 0 1 1 1 1 -1 -1 0 1 -1 0 1 -1 1 1 0 0 -1 -1 0 1 -1 0 0 0 -1 -1 0 0 -1 -1 0 -1 0 0 -1 0 0 0 0 1 -1 0 1 -1 1 0 1 -1 1 -1 -1 1 -1 1 1 1 -1 0 0 -1 0 0 1 1 0 -1 0 -1 1 0 -1 1 -1 -1 0 0 -1 -1 -1 -1 0 1 -1 1 0 1 -1 0 0 0 -1 1 1 1 0 -1 -1 -1 0 0 -1 1 -1 0 -1 0 -1 0 -1 -1 1 1 0 0 1 -1 1 1 0 0 1 -1 1 -1 1 1 -1 -1 -1 0 1 1 1 -1 0 0 0 -1 1 -1 0 1 0 1 -1 1 1 1 0 1 -1 -1 1 -1 -1 0 1 1 1 -1 -1 -1 -1 0 -1 1 -1 -1 0 1 0 -1 1 1 1 1 1 0 -1 0 1 -1 -1 1 0 1 1 1 1 -1 0 1 1 1 -1 1 -1 1 1 1 0 0 -1 1 -1 -1 -1 1 0 -1 0 1 1 1 1 1 1 -1 -1 -1 -1 1 -1 1 1 1 0 -1 -1 0 1 0 1 0 -1 -1 -1 0 0 -1 0 0 -1 -1 -1 -1 -1 1 1 1 0 1 0 1 1 -1 -1 1 -1 0 -1 -1 0 -1 1 1 -1 1 -1 1 0 0 -1 1 -1 0 -1 0 -1 1 1 0 1 -1 -1 1 0 -1 1 1 0 0 1 0 1 1 1 -1 -1 -1 1 1 0 1 0 -1 -1 0 1 -1 1 1 1 -1 0 0 0 -1 -1 0 0 -1 1 1 1 1 1 1 0 -1 0 -1 0 0 -1 1 0 1 1 0 -1 1 -1 0 -1 -1 1 -1 0 -1 0 1 -1 -1 -1 0 1 -1 0 1 0 0 -1 0 1 -1 1 1 -1 1 -1 0 0 -1 -1 -1 0 0 0 0 1 1 -1 1 1 1 1 0 -1 0 0 1 1 0 0 -1 -1 0 -1 0 1 1 0 0 -1 -1 1 1 0 1 0 0 -1 1 1 0 0 0 1 -1 1 1 0 1 0 1 1 0 -1 -1 1 1 1 1 1 1 -1 0 0 0 "
     ]
    }
   ],
   "source": [
    "##### now let's play plenty of times\n",
    "\n",
    "def bet_many_times(x):\n",
    "    for i in range (x):\n",
    "        print(one_bet(np.random.choice(np.arange(1, 7))), end=\" \")\n",
    "        \n",
    "bet_many_times(1000)"
   ]
  },
  {
   "cell_type": "code",
   "execution_count": 85,
   "id": "3de1eefe-a558-4d30-94cc-7d4a6fe28f4a",
   "metadata": {},
   "outputs": [
    {
     "name": "stdout",
     "output_type": "stream",
     "text": [
      "1 0 0 0 -1 0 1 0 1 0 0 -1 -1 1 1 -1 -1 1 1 1 -1 0 1 1 -1 1 -1 -1 1 -1 0 1 0 -1 1 -1 -1 -1 -1 -1 0 -1 -1 0 -1 1 1 1 0 -1 1 0 -1 1 0 0 -1 0 0 0 1 1 0 -1 1 0 1 -1 0 1 -1 1 0 1 0 -1 1 1 0 -1 0 -1 1 1 -1 -1 0 -1 1 -1 -1 1 -1 1 -1 1 -1 1 1 1 -1 0 0 -1 1 1 -1 1 1 1 1 0 0 1 0 -1 0 1 1 -1 -1 1 -1 1 -1 0 0 1 0 -1 -1 0 0 -1 1 1 -1 0 -1 1 -1 0 -1 -1 -1 1 1 0 1 -1 -1 0 0 0 0 0 -1 0 1 0 -1 1 -1 0 0 0 0 0 -1 1 1 1 -1 -1 1 -1 0 -1 1 0 -1 -1 0 0 0 1 1 -1 0 -1 0 1 0 0 0 -1 0 1 -1 1 -1 0 1 1 -1 0 1 0 0 1 -1 1 1 -1 -1 -1 -1 -1 -1 1 1 -1 0 0 0 1 -1 -1 1 1 0 0 -1 0 -1 1 0 1 0 0 1 0 0 -1 0 0 0 0 0 1 1 -1 1 1 -1 0 0 -1 -1 0 -1 -1 1 0 1 -1 1 -1 -1 1 -1 -1 0 0 -1 -1 1 -1 0 0 0 0 0 -1 0 -1 -1 -1 0 -1 -1 0 0 0 1 0 -1 1 0 1 0 1 0 0 -1 1 1 0 -1 0 -1 -1 0 0 0 0 -1 1 0 1 -1 0 0 1 0 -1 0 0 1 -1 0 0 1 -1 0 -1 -1 0 -1 0 1 0 -1 0 0 0 1 -1 -1 1 1 -1 -1 0 1 0 1 0 -1 -1 0 0 0 0 -1 0 -1 1 1 1 1 0 -1 0 0 1 1 -1 0 1 -1 -1 0 -1 0 1 0 0 1 -1 1 1 0 -1 1 -1 1 0 0 -1 0 1 0 0 0 0 1 1 0 1 -1 0 -1 1 -1 1 -1 0 -1 0 0 1 -1 1 -1 -1 -1 -1 0 0 1 1 1 1 0 1 0 1 0 1 1 0 -1 -1 1 -1 -1 -1 0 0 1 1 0 0 1 1 1 0 0 1 0 -1 -1 -1 1 -1 0 1 0 -1 -1 0 0 -1 -1 1 -1 0 1 1 1 1 0 1 1 -1 1 0 -1 1 -1 0 -1 0 1 -1 1 1 -1 0 1 1 1 1 1 1 0 -1 1 0 -1 1 1 0 0 1 0 1 -1 0 0 -1 0 -1 -1 0 1 0 1 1 0 1 0 0 -1 -1 -1 -1 0 0 1 -1 -1 0 -1 1 1 0 1 0 1 -1 1 0 0 0 0 0 -1 1 1 1 0 0 0 -1 -1 -1 0 -1 0 -1 0 0 0 -1 1 1 0 1 0 0 1 1 -1 -1 -1 1 0 0 1 0 1 0 1 0 1 -1 0 1 1 -1 1 1 -1 -1 1 1 -1 -1 1 0 1 -1 -1 0 -1 -1 -1 1 1 -1 1 1 1 0 -1 -1 0 -1 0 1 -1 0 1 -1 0 1 0 1 1 -1 0 0 1 0 1 0 1 -1 0 -1 1 1 1 0 -1 0 1 0 0 -1 -1 -1 -1 0 0 -1 -1 0 -1 -1 -1 1 -1 1 -1 -1 -1 -1 -1 -1 -1 1 1 1 -1 -1 1 1 1 1 1 0 1 0 1 1 -1 0 0 0 1 -1 -1 0 1 1 -1 -1 1 0 1 -1 1 1 0 0 1 -1 1 -1 -1 0 -1 1 0 -1 1 1 0 -1 1 1 -1 -1 0 -1 -1 1 -1 0 0 0 0 -1 -1 -1 1 -1 0 1 1 1 0 1 1 -1 -1 -1 0 1 0 -1 -1 1 -1 -1 -1 0 0 1 0 0 0 0 -1 1 0 0 0 1 1 1 0 0 -1 1 -1 -1 -1 0 0 -1 -1 -1 1 0 1 1 0 0 0 0 0 1 -1 -1 1 -1 -1 -1 1 -1 0 -1 1 1 0 -1 1 0 0 1 0 0 -1 1 -1 -1 -1 1 -1 1 0 0 -1 1 0 0 1 -1 -1 1 1 1 -1 1 1 -1 1 1 0 -1 0 -1 -1 0 -1 -1 0 -1 -1 0 -1 1 1 -1 1 -1 -1 -1 1 0 1 1 1 1 0 -1 1 -1 0 0 1 1 -1 1 -1 0 -1 0 0 0 0 1 1 -1 1 0 0 1 -1 -1 1 0 0 -1 1 -1 0 -1 1 -1 -1 1 0 1 0 1 -1 -1 1 1 0 1 0 1 1 1 0 0 -1 -1 1 -1 -1 1 -1 -1 -1 1 1 0 -1 -1 1 -1 0 0 -1 0 0 0 1 -1 0 1 0 1 0 0 -1 1 -1 1 0 0 -1 0 1 1 0 1 -1 1 0 1 1 -1 1 1 -1 -1 0 0 1 0 1 1 0 1 1 0 -1 0 0 -1 1 -1 "
     ]
    }
   ],
   "source": [
    "many_tijmes = bet_many_times(1000)"
   ]
  },
  {
   "cell_type": "code",
   "execution_count": 86,
   "id": "9fdafa74-9513-4508-8013-93d36068ca4a",
   "metadata": {},
   "outputs": [
    {
     "data": {
      "text/plain": [
       "NoneType"
      ]
     },
     "execution_count": 86,
     "metadata": {},
     "output_type": "execute_result"
    }
   ],
   "source": [
    "type(many_times)"
   ]
  },
  {
   "cell_type": "code",
   "execution_count": 90,
   "id": "015a557f-d847-4e71-ac52-a8d1793fafb2",
   "metadata": {},
   "outputs": [
    {
     "ename": "UnboundLocalError",
     "evalue": "cannot access local variable 'arr' where it is not associated with a value",
     "output_type": "error",
     "traceback": [
      "\u001b[0;31m---------------------------------------------------------------------------\u001b[0m",
      "\u001b[0;31mUnboundLocalError\u001b[0m                         Traceback (most recent call last)",
      "Cell \u001b[0;32mIn[90], line 7\u001b[0m\n\u001b[1;32m      3\u001b[0m     \u001b[38;5;28;01mfor\u001b[39;00m i \u001b[38;5;129;01min\u001b[39;00m \u001b[38;5;28mrange\u001b[39m (x):\n\u001b[1;32m      4\u001b[0m         \u001b[38;5;66;03m# print(one_bet(np.random.choice(np.arange(1, 7))), end=\" \")\u001b[39;00m\n\u001b[1;32m      5\u001b[0m         arr \u001b[38;5;241m=\u001b[39m np\u001b[38;5;241m.\u001b[39mappend(arr, i)\n\u001b[0;32m----> 7\u001b[0m arr_many \u001b[38;5;241m=\u001b[39m \u001b[43mbet_many_times\u001b[49m\u001b[43m(\u001b[49m\u001b[38;5;241;43m1000\u001b[39;49m\u001b[43m)\u001b[49m\n",
      "Cell \u001b[0;32mIn[90], line 5\u001b[0m, in \u001b[0;36mbet_many_times\u001b[0;34m(x)\u001b[0m\n\u001b[1;32m      2\u001b[0m \u001b[38;5;28;01mdef\u001b[39;00m\u001b[38;5;250m \u001b[39m\u001b[38;5;21mbet_many_times\u001b[39m(x):\n\u001b[1;32m      3\u001b[0m     \u001b[38;5;28;01mfor\u001b[39;00m i \u001b[38;5;129;01min\u001b[39;00m \u001b[38;5;28mrange\u001b[39m (x):\n\u001b[1;32m      4\u001b[0m         \u001b[38;5;66;03m# print(one_bet(np.random.choice(np.arange(1, 7))), end=\" \")\u001b[39;00m\n\u001b[0;32m----> 5\u001b[0m         arr \u001b[38;5;241m=\u001b[39m np\u001b[38;5;241m.\u001b[39mappend(\u001b[43marr\u001b[49m, i)\n",
      "\u001b[0;31mUnboundLocalError\u001b[0m: cannot access local variable 'arr' where it is not associated with a value"
     ]
    }
   ],
   "source": [
    "arr = make_array()\n",
    "def bet_many_times(x):\n",
    "    for i in range (x):\n",
    "        # print(one_bet(np.random.choice(np.arange(1, 7))), end=\" \")\n",
    "        arr = np.append(arr, i)\n",
    "        \n",
    "arr_many = bet_many_times(1000)"
   ]
  },
  {
   "cell_type": "code",
   "execution_count": null,
   "id": "de0b3854-c28f-40ed-8918-3a439b9ed180",
   "metadata": {},
   "outputs": [],
   "source": []
  }
 ],
 "metadata": {
  "kernelspec": {
   "display_name": "Python 3 (ipykernel)",
   "language": "python",
   "name": "python3"
  },
  "language_info": {
   "codemirror_mode": {
    "name": "ipython",
    "version": 3
   },
   "file_extension": ".py",
   "mimetype": "text/x-python",
   "name": "python",
   "nbconvert_exporter": "python",
   "pygments_lexer": "ipython3",
   "version": "3.12.8"
  }
 },
 "nbformat": 4,
 "nbformat_minor": 5
}
