{
 "cells": [
  {
   "cell_type": "markdown",
   "id": "53346e38-e2fb-464a-8597-3f14dd14fa19",
   "metadata": {},
   "source": [
    "# 9.Randomness\n",
    "\n",
    "- We've learned plenty about descriptive data, now we will learn about\n",
    "- Randomness, which is the basis of experimental design\n",
    "\n",
    "In 9., we'll be talking about:\n",
    "1. Booleans and Comparison\n",
    "1. Comparing Strings\n",
    "1. Comparing an Array and a Value\n",
    "\n",
    "### 9.1. Conditional Statements (if, if-else, elif, else)\n",
    "### 9.2. Iteration (count-controlled vs. condition-controlled)"
   ]
  },
  {
   "cell_type": "code",
   "execution_count": 1,
   "id": "6b24d31b-3d4a-4d19-b9dc-b7c18df8e5bb",
   "metadata": {},
   "outputs": [],
   "source": [
    "### Python has its own random module (random) with plenty of methods.\n",
    "### https://www.w3schools.com/python/module_random.asp\n",
    "### The numpy.random library contains a few extra probability distributions \n",
    "### commonly used in scientific research, as well as a couple of convenience functions \n",
    "### for generating arrays of random data. \n",
    "\n",
    "### Python library, package, module, framework ###\n",
    "### https://learnpython.com/blog/python-modules-packages-libraries-frameworks/\n",
    "### Module: A module is basically a bunch of related code saved in a file with the extension .py\n",
    "### Package: Python packages are basically a directory of a collection of modules.\n",
    "### Library: A library is an umbrella term contains a collection of related modules and packages."
   ]
  },
  {
   "cell_type": "code",
   "execution_count": 2,
   "id": "183b44b7-7c9f-4f59-81e5-b648a3d7ea86",
   "metadata": {},
   "outputs": [
    {
     "data": {
      "text/html": [
       "<img src=\"../../images/python-random-module.jpg\"/>"
      ],
      "text/plain": [
       "<IPython.core.display.Image object>"
      ]
     },
     "execution_count": 2,
     "metadata": {},
     "output_type": "execute_result"
    }
   ],
   "source": [
    "from IPython.display import Image\n",
    "from IPython.core.display import HTML \n",
    "Image(url= \"../../images/python-random-module.jpg\")"
   ]
  },
  {
   "cell_type": "code",
   "execution_count": 3,
   "id": "585ce4d0-dbbe-4130-aa63-c5f5660f1875",
   "metadata": {},
   "outputs": [
    {
     "data": {
      "text/plain": [
       "0.9707428448690718"
      ]
     },
     "execution_count": 3,
     "metadata": {},
     "output_type": "execute_result"
    }
   ],
   "source": [
    "##### Python random.random()\n",
    "import random\n",
    "random.random()"
   ]
  },
  {
   "cell_type": "code",
   "execution_count": 4,
   "id": "a47dfecc-f079-43d3-ad09-5aad76c043f4",
   "metadata": {},
   "outputs": [
    {
     "data": {
      "text/plain": [
       "0.34533968770841905"
      ]
     },
     "execution_count": 4,
     "metadata": {},
     "output_type": "execute_result"
    }
   ],
   "source": [
    "#####  numpy.random\n",
    "# import numpy as np\n",
    "import numpy\n",
    "numpy.random.random()"
   ]
  },
  {
   "cell_type": "code",
   "execution_count": 5,
   "id": "1d5506cf-4916-47fa-b9ad-2622fccffc25",
   "metadata": {},
   "outputs": [
    {
     "data": {
      "text/plain": [
       "'treatment'"
      ]
     },
     "execution_count": 5,
     "metadata": {},
     "output_type": "execute_result"
    }
   ],
   "source": [
    "from datascience import *\n",
    "import numpy as np\n",
    "\n",
    "two_groups = make_array('treatment', 'control')\n",
    "np.random.choice(two_groups)"
   ]
  },
  {
   "cell_type": "code",
   "execution_count": 6,
   "id": "68491303-50ed-466d-879f-286d4aa03750",
   "metadata": {},
   "outputs": [
    {
     "data": {
      "text/plain": [
       "24902"
      ]
     },
     "execution_count": 6,
     "metadata": {},
     "output_type": "execute_result"
    }
   ],
   "source": [
    "##### how good is randdom.choice? #####\n",
    "def repeat(str_arr, num):\n",
    "    string = []\n",
    "    for i in range(num):\n",
    "        string.append(np.random.choice(str_arr))\n",
    "        \n",
    "        # print (str(i) + \" \" + np.random.choice(str_arr))\n",
    "    return string\n",
    "\n",
    "lst = repeat(two_groups, 50000)\n",
    "# lst\n",
    "# lst.count()\n",
    "lst.count('treatment')"
   ]
  },
  {
   "cell_type": "code",
   "execution_count": 7,
   "id": "4a4b602e-17f6-422b-a924-b25801a45b97",
   "metadata": {},
   "outputs": [
    {
     "data": {
      "text/plain": [
       "array(['treatment', 'control', 'treatment', ..., 'treatment', 'treatment',\n",
       "       'control'],\n",
       "      dtype='<U9')"
      ]
     },
     "execution_count": 7,
     "metadata": {},
     "output_type": "execute_result"
    }
   ],
   "source": [
    "##### I am a joke. choice() has an argument n to return an array\n",
    "##### np.random.choice¶\n",
    "##### np.random.choice(array)\n",
    "##### np.random.choice(array, n, replace=True)\n",
    "\n",
    "groups = np.random.choice(two_groups, 100000)\n",
    "groups"
   ]
  },
  {
   "cell_type": "code",
   "execution_count": 8,
   "id": "fae46d52-4857-476e-a384-deaa984a8c45",
   "metadata": {},
   "outputs": [
    {
     "data": {
      "text/html": [
       "<table border=\"1\" class=\"dataframe\">\n",
       "    <thead>\n",
       "        <tr>\n",
       "            <th>group</th>\n",
       "        </tr>\n",
       "    </thead>\n",
       "    <tbody>\n",
       "        <tr>\n",
       "            <td>treatment</td>\n",
       "        </tr>\n",
       "        <tr>\n",
       "            <td>control  </td>\n",
       "        </tr>\n",
       "        <tr>\n",
       "            <td>treatment</td>\n",
       "        </tr>\n",
       "        <tr>\n",
       "            <td>control  </td>\n",
       "        </tr>\n",
       "        <tr>\n",
       "            <td>control  </td>\n",
       "        </tr>\n",
       "        <tr>\n",
       "            <td>treatment</td>\n",
       "        </tr>\n",
       "        <tr>\n",
       "            <td>treatment</td>\n",
       "        </tr>\n",
       "        <tr>\n",
       "            <td>treatment</td>\n",
       "        </tr>\n",
       "        <tr>\n",
       "            <td>treatment</td>\n",
       "        </tr>\n",
       "        <tr>\n",
       "            <td>control  </td>\n",
       "        </tr>\n",
       "    </tbody>\n",
       "</table>\n",
       "<p>... (99990 rows omitted)</p>"
      ],
      "text/plain": [
       "group\n",
       "treatment\n",
       "control\n",
       "treatment\n",
       "control\n",
       "control\n",
       "treatment\n",
       "treatment\n",
       "treatment\n",
       "treatment\n",
       "control\n",
       "... (99990 rows omitted)"
      ]
     },
     "execution_count": 8,
     "metadata": {},
     "output_type": "execute_result"
    }
   ],
   "source": [
    "from datascience import *\n",
    "\n",
    "result = Table().with_column(\n",
    "    \"group\", groups\n",
    ")\n",
    "result"
   ]
  },
  {
   "cell_type": "code",
   "execution_count": 9,
   "id": "ad6dcda1-5329-43e4-a78c-0e1dd6cd1346",
   "metadata": {},
   "outputs": [
    {
     "data": {
      "text/html": [
       "<table border=\"1\" class=\"dataframe\">\n",
       "    <thead>\n",
       "        <tr>\n",
       "            <th>group</th> <th>count</th>\n",
       "        </tr>\n",
       "    </thead>\n",
       "    <tbody>\n",
       "        <tr>\n",
       "            <td>control  </td> <td>50034</td>\n",
       "        </tr>\n",
       "        <tr>\n",
       "            <td>treatment</td> <td>49966</td>\n",
       "        </tr>\n",
       "    </tbody>\n",
       "</table>"
      ],
      "text/plain": [
       "group     | count\n",
       "control   | 50034\n",
       "treatment | 49966"
      ]
     },
     "execution_count": 9,
     "metadata": {},
     "output_type": "execute_result"
    }
   ],
   "source": [
    "result.group('group')"
   ]
  },
  {
   "cell_type": "markdown",
   "id": "507fd0b3-0d22-45dc-a1d3-8904daacde9d",
   "metadata": {},
   "source": [
    "A fundamental question about **random** events is whether or not they occur. For example:\n",
    "\n",
    "- Did an individual get assigned to the treatment group, or not?\n",
    "- Is a gambler going to win money, or not?\n",
    "- Has a poll made an accurate prediction, or not?\n",
    "\n",
    "### Booleans and Comparison \n",
    "\n",
    "Boolean ==> comparison **operators**"
   ]
  },
  {
   "cell_type": "code",
   "execution_count": 10,
   "id": "43d35a70-1783-4cb3-97d4-662079cea3e6",
   "metadata": {},
   "outputs": [
    {
     "data": {
      "text/plain": [
       "True"
      ]
     },
     "execution_count": 10,
     "metadata": {},
     "output_type": "execute_result"
    }
   ],
   "source": [
    "3 > 1 + 1"
   ]
  },
  {
   "cell_type": "code",
   "execution_count": 11,
   "id": "3e056a03-c619-417b-bdc1-cfd9a4debc20",
   "metadata": {},
   "outputs": [
    {
     "ename": "SyntaxError",
     "evalue": "cannot assign to literal here. Maybe you meant '==' instead of '='? (1262701969.py, line 3)",
     "output_type": "error",
     "traceback": [
      "\u001b[0;36m  Cell \u001b[0;32mIn[11], line 3\u001b[0;36m\u001b[0m\n\u001b[0;31m    5 = 10/2\u001b[0m\n\u001b[0m    ^\u001b[0m\n\u001b[0;31mSyntaxError\u001b[0m\u001b[0;31m:\u001b[0m cannot assign to literal here. Maybe you meant '==' instead of '='?\n"
     ]
    }
   ],
   "source": [
    "### what would the result of the following operation be? and why?\n",
    "\n",
    "5 = 10/2"
   ]
  },
  {
   "cell_type": "code",
   "execution_count": 13,
   "id": "556452bb-62b0-4e1b-b403-1ac9277f8a66",
   "metadata": {},
   "outputs": [
    {
     "data": {
      "text/plain": [
       "True"
      ]
     },
     "execution_count": 13,
     "metadata": {},
     "output_type": "execute_result"
    }
   ],
   "source": [
    "### what would the result of the following operation be? and why?\n",
    "\n",
    "1 < 1 + 1 < 3"
   ]
  },
  {
   "cell_type": "code",
   "execution_count": 14,
   "id": "3c5ddb60-0bc0-4082-bf9e-579803a3b3ba",
   "metadata": {},
   "outputs": [
    {
     "ename": "NameError",
     "evalue": "name 'x' is not defined",
     "output_type": "error",
     "traceback": [
      "\u001b[0;31m---------------------------------------------------------------------------\u001b[0m",
      "\u001b[0;31mNameError\u001b[0m                                 Traceback (most recent call last)",
      "Cell \u001b[0;32mIn[14], line 4\u001b[0m\n\u001b[1;32m      1\u001b[0m \u001b[38;5;66;03m### what would the result of the following operation be? and why?\u001b[39;00m\n\u001b[1;32m      2\u001b[0m \u001b[38;5;66;03m### supposed that x and y are defined\u001b[39;00m\n\u001b[0;32m----> 4\u001b[0m \u001b[38;5;28mmin\u001b[39m(\u001b[43mx\u001b[49m, y) \u001b[38;5;241m<\u001b[39m\u001b[38;5;241m=\u001b[39m (x\u001b[38;5;241m+\u001b[39my)\u001b[38;5;241m/\u001b[39m\u001b[38;5;241m2\u001b[39m \u001b[38;5;241m<\u001b[39m\u001b[38;5;241m=\u001b[39m \u001b[38;5;28mmax\u001b[39m(x, y)\n",
      "\u001b[0;31mNameError\u001b[0m: name 'x' is not defined"
     ]
    }
   ],
   "source": [
    "### what would the result of the following operation be? and why?\n",
    "### supposed that x and y are defined\n",
    "\n",
    "min(x, y) <= (x+y)/2 <= max(x, y)"
   ]
  },
  {
   "cell_type": "markdown",
   "id": "938525f4-1de9-4f9d-9371-2418cae0acbb",
   "metadata": {},
   "source": [
    "### String Comparison"
   ]
  },
  {
   "cell_type": "code",
   "execution_count": null,
   "id": "2802fc31-810c-4f21-993d-0756bd1325f5",
   "metadata": {},
   "outputs": [],
   "source": [
    "a == a"
   ]
  },
  {
   "cell_type": "code",
   "execution_count": null,
   "id": "0e4305c3-f288-4cda-ae24-81d7606b8cb8",
   "metadata": {},
   "outputs": [],
   "source": [
    "\"a\" == \"a\""
   ]
  },
  {
   "cell_type": "code",
   "execution_count": null,
   "id": "e0929f6c-7d46-4e9a-ac9e-176516470713",
   "metadata": {},
   "outputs": [],
   "source": [
    "\"Dog\" > \"dog\""
   ]
  },
  {
   "cell_type": "code",
   "execution_count": null,
   "id": "c838f1b0-8036-471f-a17d-5369132781b8",
   "metadata": {},
   "outputs": [],
   "source": [
    "'Dogg' > 'dog'"
   ]
  },
  {
   "cell_type": "code",
   "execution_count": null,
   "id": "817e6217-9b19-4ea8-b4f1-2e80645cb709",
   "metadata": {},
   "outputs": [],
   "source": [
    "'Dog' > 'cat'"
   ]
  },
  {
   "cell_type": "code",
   "execution_count": null,
   "id": "8966c26e-a4df-42dd-841f-9f8ff019bc9a",
   "metadata": {},
   "outputs": [],
   "source": [
    "'Dog' > 'Cat'"
   ]
  },
  {
   "cell_type": "code",
   "execution_count": null,
   "id": "f68e24d7-714d-4d00-aa96-7f5f115292d9",
   "metadata": {},
   "outputs": [],
   "source": [
    "'DD' > 'D'"
   ]
  },
  {
   "cell_type": "code",
   "execution_count": null,
   "id": "5f70f608-3838-4430-9711-1fda197d2396",
   "metadata": {},
   "outputs": [],
   "source": [
    "'DOG' > 'DO'"
   ]
  },
  {
   "cell_type": "code",
   "execution_count": null,
   "id": "f125b466-db19-478f-9aa0-bdb9c427ee1a",
   "metadata": {},
   "outputs": [],
   "source": [
    "##### back to np.random.choice(two_groups)\n",
    "##### will the following operation result be True or False?\n",
    "\n",
    "# np.random.choice(two_groups) == 'treatment'\n",
    "np.random.choice(two_groups) == \"treatment\""
   ]
  },
  {
   "cell_type": "markdown",
   "id": "6a86860a-3197-4ea2-b60c-54f84c39d0d3",
   "metadata": {},
   "source": [
    "### Comparing an Array and a Value\n",
    "\n",
    "We have mostly worked on tables and columns (arrays) in this course. "
   ]
  },
  {
   "cell_type": "code",
   "execution_count": null,
   "id": "72e08015-a02b-4636-a30b-d2450f562c05",
   "metadata": {},
   "outputs": [],
   "source": [
    "########## What would the result of this operation be? ##########\n",
    "\n",
    "make_array(0, 5, 2) * 2\n"
   ]
  },
  {
   "cell_type": "code",
   "execution_count": null,
   "id": "566fcb33-fc1d-4ba5-aefd-531a1eb56d9f",
   "metadata": {},
   "outputs": [],
   "source": [
    "##### now commpare an array and a value:\n",
    "\n",
    "tosses = make_array('Tails', 'Heads', 'Tails', 'Heads', 'Heads')\n",
    "tosses"
   ]
  },
  {
   "cell_type": "code",
   "execution_count": null,
   "id": "f1b8c7f5-4937-4e4e-ac55-0ea97220159e",
   "metadata": {},
   "outputs": [],
   "source": [
    "##### What would the following operation give us?\n",
    "tosses == 'Heads'"
   ]
  },
  {
   "cell_type": "code",
   "execution_count": null,
   "id": "b6d7e8b7-bc25-47e6-bffe-4fc882efecc6",
   "metadata": {},
   "outputs": [],
   "source": [
    "##### The numpy method count_nonzero evaluates to the number of \n",
    "##### non-zero (that is, True) elements of the array.\n",
    "\n",
    "np.count_nonzero(tosses == 'Heads')"
   ]
  },
  {
   "cell_type": "markdown",
   "id": "2d6a3969-ba9a-4624-bda5-4f45dd36c1f2",
   "metadata": {},
   "source": [
    "# 9.1. Conditional Statements\n",
    "\n",
    "Conditions:\n",
    "- individuals in randomized controlled trials receive the treatment if they have been assigned to the treatment group.\n",
    "- A gambler makes money if she wins her bet.\n",
    "\n",
    "- Note that Python uses **indentation** to indicate code blocks instead of **{ }** \n",
    "\n",
    "\n",
    "- **true** or **false**: individuals in randomized controlled trials receive the treatment if they have been assigned to the treatment group.\n",
    "- It's all about Boolean from last section: **if a condition is met (\"tested\" true)**, then..."
   ]
  },
  {
   "cell_type": "code",
   "execution_count": null,
   "id": "e1ef3c66-661e-40d3-8302-bbf62d959651",
   "metadata": {},
   "outputs": [],
   "source": [
    "##### conditional: if\n",
    "def sign(x):\n",
    "\n",
    "    \n",
    "    if x > 0:\n",
    "        return \"Positive\""
   ]
  },
  {
   "cell_type": "code",
   "execution_count": null,
   "id": "454b9c9a-11c9-409f-8850-6bbb60d35640",
   "metadata": {},
   "outputs": [],
   "source": [
    "sign(10)"
   ]
  },
  {
   "cell_type": "code",
   "execution_count": null,
   "id": "25886909-df53-4c9c-a586-c9ab32cf248f",
   "metadata": {},
   "outputs": [],
   "source": [
    "### what would the following function call result in?\n",
    "sign(-10)"
   ]
  },
  {
   "cell_type": "code",
   "execution_count": null,
   "id": "bc3fe49a-052e-415a-a154-059059243b26",
   "metadata": {},
   "outputs": [],
   "source": [
    "##### conditional: if-else\n",
    "\n",
    "def sign(x):\n",
    "\n",
    "    if (x) > 0:\n",
    "        return 'Positive'\n",
    "    else:\n",
    "        return 'Negative'"
   ]
  },
  {
   "cell_type": "code",
   "execution_count": null,
   "id": "2d1ccb46-a71e-4161-969f-a84608ba2fde",
   "metadata": {},
   "outputs": [],
   "source": [
    "sign(-9)"
   ]
  },
  {
   "cell_type": "code",
   "execution_count": null,
   "id": "012a1f2d-adbe-4390-9d62-83a8339e679f",
   "metadata": {},
   "outputs": [],
   "source": [
    "sign(0)\n",
    "\n",
    "########## huh?"
   ]
  },
  {
   "cell_type": "code",
   "execution_count": null,
   "id": "1fe61982-ea9b-4923-bdf3-07d122048cd8",
   "metadata": {},
   "outputs": [],
   "source": [
    "##### conditional: elif\n",
    "\n",
    "def sign (x):\n",
    "    if x > 0:\n",
    "        return 'Positive'\n",
    "    elif x < 0:\n",
    "        return 'Negative'\n",
    "    else:                        ### default case\n",
    "        return 0\n",
    "\n",
    "##### the whole logic \"needs\" to be exhaustive"
   ]
  },
  {
   "cell_type": "markdown",
   "id": "2c7cbc01-2130-4120-bebc-ec1d5727f3b3",
   "metadata": {},
   "source": [
    "- There is always exactly one if clause, but there can be any number of elif clauses.\n",
    "- Python will evaluate the if and elif expressions in the headers in order until one is found that is a true value, then execute the corresponding body.\n",
    "- The else clause is optional.\n",
    "- When an else header is provided, its else body is executed only if none of the header expressions of the previous clauses are true.\n",
    "- The else clause must always come at the end (or not at all)."
   ]
  },
  {
   "cell_type": "code",
   "execution_count": null,
   "id": "c59f2c7e-55d7-4c26-ab92-784ca8c069ea",
   "metadata": {},
   "outputs": [],
   "source": [
    "sign(0)"
   ]
  },
  {
   "cell_type": "code",
   "execution_count": null,
   "id": "c3db5a42-42d2-42a4-b662-a42cc8d15bd7",
   "metadata": {},
   "outputs": [],
   "source": [
    "sign(9)"
   ]
  },
  {
   "cell_type": "markdown",
   "id": "19d32259-2307-44f1-8cc1-2f0a041ebd8f",
   "metadata": {},
   "source": [
    "#### note that we have been reassigning the defition of this function sign()"
   ]
  },
  {
   "cell_type": "markdown",
   "id": "64bdf3ed-bb6e-41a7-9bcd-30e3e00a1060",
   "metadata": {},
   "source": [
    "## 9.1.1. The General Form (syntax)"
   ]
  },
  {
   "cell_type": "raw",
   "id": "126b1c5e-5175-4a9c-bef7-95cb37d293db",
   "metadata": {},
   "source": [
    "if <if expression>:\n",
    "    <if body>\n",
    "elif <elif expression 0>:\n",
    "    <elif body 0>\n",
    "elif <elif expression 1>:\n",
    "    <elif body 1>\n",
    "...\n",
    "else:\n",
    "    <else body>\n"
   ]
  },
  {
   "cell_type": "markdown",
   "id": "8b05c93e-fec9-4c0e-9291-895b865694a1",
   "metadata": {},
   "source": [
    "## 9.1.2. Example: Betting on a Die\n",
    "\n",
    "The rules of the game:\n",
    "- If the die shows 1 spot or 2 spots, I lose a dollar.\n",
    "- If the die shows 3 spots or 4 spots, I neither lose money nor gain money.\n",
    "- If the die shows 5 spots or 6 spots, I gain a dollar."
   ]
  },
  {
   "cell_type": "code",
   "execution_count": null,
   "id": "21279a39-34b7-41d2-b6f9-a995a602a179",
   "metadata": {},
   "outputs": [],
   "source": [
    "##### turn the rules into code\n",
    "\n",
    "def one_bet(x):\n",
    "\n",
    "    if x <= 2:\n",
    "        return -1\n",
    "    elif x <= 4:\n",
    "        return 0\n",
    "    elif x <= 6:\n",
    "        return 1\n"
   ]
  },
  {
   "cell_type": "code",
   "execution_count": null,
   "id": "78de0828-5cac-4e49-b28c-3d23c066066b",
   "metadata": {},
   "outputs": [],
   "source": [
    "one_bet(1), one_bet(2), one_bet(3), one_bet(4), one_bet(5), one_bet(6)\n",
    "\n",
    "##### this will generate a tuple\n",
    "##### tuples are ordered and unchangeable/immutable"
   ]
  },
  {
   "cell_type": "markdown",
   "id": "b663b322-b7ff-43aa-bf47-4ed957f767eb",
   "metadata": {},
   "source": [
    "##### you don't need this but it's in the book, so see this as a review:\n",
    "\n",
    "one_bet(3)\n",
    "1. First it evaluates the if expression, which is 3 <= 2 which is False. So one_bet doesn’t execute the if body.\n",
    "1. Then it evaluates the first elif expression, which is 3 <= 4, which is True. So one_bet executes the first elif body and returns 0.\n",
    "1. **Once the body has been executed (returned), the process is complete. The next elif expression is not evaluated.**"
   ]
  },
  {
   "cell_type": "code",
   "execution_count": null,
   "id": "190b41ec-207a-4fdb-a32b-beed12b5c8d1",
   "metadata": {},
   "outputs": [],
   "source": [
    "##### What would this function call give us?\n",
    "\n",
    "one_bet(999)"
   ]
  },
  {
   "cell_type": "code",
   "execution_count": null,
   "id": "cb5aca46-c5a0-4931-b8d8-69ac2c56142c",
   "metadata": {},
   "outputs": [],
   "source": [
    "##### instead of entering 1 - 6 manually when playing with the one_bet,\n",
    "##### we can use the choice() function and np.arange(1, 7):\n",
    "\n",
    "one_bet(np.random.choice(np.arange(1, 7)))"
   ]
  },
  {
   "cell_type": "code",
   "execution_count": null,
   "id": "1b7a4857-4646-4451-8467-54d9c0e06c9c",
   "metadata": {},
   "outputs": [],
   "source": [
    "##### now let's play plentry of times\n",
    "\n",
    "def bet_many_times(x):\n",
    "    for i in range (x):\n",
    "        print(one_bet(np.random.choice(np.arange(1, 7))), end=\" \")\n",
    "        "
   ]
  },
  {
   "cell_type": "code",
   "execution_count": null,
   "id": "34b107bf-8713-4b7b-ba79-641bf760892f",
   "metadata": {},
   "outputs": [],
   "source": [
    "bet_many_times(1000)"
   ]
  },
  {
   "cell_type": "code",
   "execution_count": null,
   "id": "9fdafa74-9513-4508-8013-93d36068ca4a",
   "metadata": {},
   "outputs": [],
   "source": [
    "many_times = bet_many_times(1000)\n",
    "type(many_times)"
   ]
  },
  {
   "cell_type": "code",
   "execution_count": null,
   "id": "015a557f-d847-4e71-ac52-a8d1793fafb2",
   "metadata": {},
   "outputs": [],
   "source": []
  }
 ],
 "metadata": {
  "kernelspec": {
   "display_name": "Python 3 (ipykernel)",
   "language": "python",
   "name": "python3"
  },
  "language_info": {
   "codemirror_mode": {
    "name": "ipython",
    "version": 3
   },
   "file_extension": ".py",
   "mimetype": "text/x-python",
   "name": "python",
   "nbconvert_exporter": "python",
   "pygments_lexer": "ipython3",
   "version": "3.12.8"
  }
 },
 "nbformat": 4,
 "nbformat_minor": 5
}
