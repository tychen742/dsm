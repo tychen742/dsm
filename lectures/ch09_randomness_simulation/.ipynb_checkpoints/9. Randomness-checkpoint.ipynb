{
 "cells": [
  {
   "cell_type": "markdown",
   "id": "53346e38-e2fb-464a-8597-3f14dd14fa19",
   "metadata": {},
   "source": [
    "# 9.Randomness"
   ]
  },
  {
   "cell_type": "code",
   "execution_count": null,
   "id": "183b44b7-7c9f-4f59-81e5-b648a3d7ea86",
   "metadata": {},
   "outputs": [],
   "source": []
  }
 ],
 "metadata": {
  "kernelspec": {
   "display_name": "Python 3 (ipykernel)",
   "language": "python",
   "name": "python3"
  },
  "language_info": {
   "codemirror_mode": {
    "name": "ipython",
    "version": 3
   },
   "file_extension": ".py",
   "mimetype": "text/x-python",
   "name": "python",
   "nbconvert_exporter": "python",
   "pygments_lexer": "ipython3",
   "version": "3.12.4"
  }
 },
 "nbformat": 4,
 "nbformat_minor": 5
}
