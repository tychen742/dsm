{
 "cells": [
  {
   "attachments": {},
   "cell_type": "markdown",
   "id": "cb1c4171-0b14-411b-854f-dcea88b1b8bc",
   "metadata": {},
   "source": [
    "# 9.3. Simulation\n",
    "\n",
    "1. Definition: Simulation is the process of using a computer to mimic a physical experiment.\n",
    "2. Example: tossing a die in 9.2 Iteration"
   ]
  },
  {
   "cell_type": "markdown",
   "id": "e42e5030-4b3a-47b4-a588-33ba5bd08b17",
   "metadata": {},
   "source": [
    "## 9.3.1. The Process\n",
    "\n",
    "1. Step 1: What to Simulate; e.g., coin tosses\n",
    "2. Step 2: Simulating One Value (make it work: write/use a function)\n",
    "3. Step 3: Number of Repetitions (loop)\n",
    "4. Step 4: Simulating Multiple Values\n",
    "\n",
    "The flow works like this:\n",
    "1. Create an **empty array** in which to collect all the simulated values. We will call this the **collection array**.\n",
    "2. Create a \"**repetitions sequence**,” that is, a sequence whose **length** is the number of repetitions you specified in STEP 3. For **n** repetitions we will almost always **use the sequence np.arange(n)**.\n",
    "3. Create a **for loop**. For each element of the repetitions sequence:\n",
    "   1. Simulate one value by using the function you wrote in STEP 2.\n",
    "   2. Augment the collection array with this simulated value.\n"
   ]
  },
  {
   "cell_type": "markdown",
   "id": "20d7984e-f012-43d2-977c-ec9597b4a8da",
   "metadata": {},
   "source": [
    "## 9.3.2. Example: Number of Heads in 100 Tosses\n",
    "\n",
    "It is natural to expect that in 100 tosses of a coin, there will be 50 heads, **give or take a few**."
   ]
  },
  {
   "cell_type": "markdown",
   "id": "0bd413aa-fd7a-4e22-921b-e581ede1903a",
   "metadata": {},
   "source": [
    "#### Step 1: What to Simulate\n",
    "The quantity we are going to simulate is the number of heads in 100 tosses.\n",
    "\n",
    "#### Step 2: Simulating One Value\n",
    "- To randomly choose from heads and tails, use **np.random.choice()** (syntax: `np.random.choice(array)`; \n",
    "`np.random.choice(array, n, replace=True))`)\n",
    "- The syntax of np.random.choice():\n",
    "  - np.random.choice(array)\n",
    "  - np.random.choice(array, n, replace=True)\n",
    "- https://www.data8.org/datascience/reference-nb/datascience-reference.html#np.random.choice\n",
    "\n",
    "See: https://numpy.org/doc/stable/reference/generated/numpy.dtype.byteorder.html\n",
    "- '<' little-endian (The lowest-value byte is stored first.)\n",
    "- 'U' Variable-length Unicode string\n",
    "- <U5 means the longest one is a string of length 5"
   ]
  },
  {
   "cell_type": "code",
   "execution_count": 144,
   "id": "0007a707-0ff0-4064-b4d1-5899c7fd28ff",
   "metadata": {},
   "outputs": [
    {
     "data": {
      "text/plain": [
       "array([1, 2, 3, 4, 5, 6])"
      ]
     },
     "execution_count": 144,
     "metadata": {},
     "output_type": "execute_result"
    }
   ],
   "source": [
    "from datascience import *\n",
    "import numpy as np\n",
    "### random choice\n",
    "die = make_array(1, 2, 3, 4, 5, 6)\n",
    "die"
   ]
  },
  {
   "cell_type": "code",
   "execution_count": 145,
   "id": "4f9e09b4-223f-4049-a9cc-9a578b3d8b6f",
   "metadata": {},
   "outputs": [
    {
     "data": {
      "text/plain": [
       "1"
      ]
     },
     "execution_count": 145,
     "metadata": {},
     "output_type": "execute_result"
    }
   ],
   "source": [
    "### np.random.choice replacement\n",
    "\n",
    "np.random.choice(die)\n",
    "\n",
    "### now try this case for replacement T/F\n",
    "# np.random.choice(die, 7)   ### replacement is default to true\n",
    "# np.random.choice(dir, 7, replace=False)   ### replacement is default to true"
   ]
  },
  {
   "cell_type": "code",
   "execution_count": 146,
   "id": "d3f4e542-1f0e-452d-acf2-87abe0171d21",
   "metadata": {},
   "outputs": [
    {
     "data": {
      "text/plain": [
       "array(['Heads', 'Tails', 'Tails', 'Tails', 'Heads', 'Tails', 'Heads',\n",
       "       'Tails', 'Tails', 'Heads'],\n",
       "      dtype='<U5')"
      ]
     },
     "execution_count": 146,
     "metadata": {},
     "output_type": "execute_result"
    }
   ],
   "source": [
    "### instead of 1-6, now try heads and tails\n",
    "\n",
    "coin = make_array('Heads', 'Tails')     ### create the array \n",
    "                                        #################################################    \n",
    "ten_tosses = np.random.choice(coin, 10) ### numpy would just do the looping for you #####\n",
    "ten_tosses                              #################################################\n"
   ]
  },
  {
   "cell_type": "code",
   "execution_count": 152,
   "id": "1fe748ba-ef58-4e5f-8d7b-9689e68b6f44",
   "metadata": {},
   "outputs": [
    {
     "name": "stdout",
     "output_type": "stream",
     "text": [
      "<class 'numpy.ndarray'>\n",
      "<class 'numpy.ndarray'>\n",
      "<class 'numpy.ndarray'>\n"
     ]
    }
   ],
   "source": [
    "### a side note: see the differences isn np.array and make_array. They all create numpy.ndarray, though. \n",
    "### the output is a bit different\n",
    "\n",
    "str1 = np.array(['ooooaaaaqqqk','ccccvvvvvaaaao','ggghhhjjjsskkka'])\n",
    "print(type(str1))   ### ['ooooaaaaqqqk' 'ccccvvvvvaaaao' 'ggghhhjjjsskkka']\n",
    "str2 = make_array(['ooooaaaaqqqk','ccccvvvvvaaaao','ggghhhjjjsskkka'])\n",
    "print(type(str2))   ### [['ooooaaaaqqqk' 'ccccvvvvvaaaao' 'ggghhhjjjsskkka']]\n",
    "str3 = make_array('ooooaaaaqqqk','ccccvvvvvaaaao','ggghhhjjjsskkka')\n",
    "print(type(str3))   ### ['ooooaaaaqqqk' 'ccccvvvvvaaaao' 'ggghhhjjjsskkka']\n",
    "\n",
    "### ndarray = n-dimensional array"
   ]
  },
  {
   "cell_type": "code",
   "execution_count": 154,
   "id": "a5c70d79-9b9b-4feb-9260-446eea54e3ad",
   "metadata": {},
   "outputs": [
    {
     "data": {
      "text/plain": [
       "4"
      ]
     },
     "execution_count": 154,
     "metadata": {},
     "output_type": "execute_result"
    }
   ],
   "source": [
    "##### let's count this array (value 'True')\n",
    "\n",
    "np.count_nonzero(ten_tosses == 'Heads') ### count_zero count array\n",
    "                                        ### (ten_tosses == 'Headds'), as an expression, is \n",
    "                                        ### evaluated to return an array"
   ]
  },
  {
   "cell_type": "code",
   "execution_count": 182,
   "id": "79497ac0-2026-4507-81c6-cd8f23315b22",
   "metadata": {},
   "outputs": [
    {
     "data": {
      "text/plain": [
       "48"
      ]
     },
     "execution_count": 182,
     "metadata": {},
     "output_type": "execute_result"
    }
   ],
   "source": [
    "outcomes = np.random.choice(coin, 100)  ### coin is an array containing...\n",
    "# num_heads = np.count_nonzero(outcomes == \"Heads\")\n",
    "num_heads = np.count_nonzero(outcomes == 'Heads')\n",
    "num_heads\n",
    "\n",
    "##### from here we make sure np.random.choice(coin, 100) works"
   ]
  },
  {
   "cell_type": "code",
   "execution_count": 189,
   "id": "ac41d1a7-96f3-4f43-b045-44f3c6443e44",
   "metadata": {},
   "outputs": [
    {
     "data": {
      "text/plain": [
       "array(['Tails', 'Tails', 'Heads', 'Heads', 'Heads', 'Heads', 'Heads',\n",
       "       'Tails', 'Tails', 'Tails', 'Heads', 'Heads', 'Tails', 'Tails',\n",
       "       'Heads', 'Tails', 'Heads', 'Tails', 'Tails', 'Tails', 'Heads',\n",
       "       'Heads', 'Heads', 'Tails', 'Heads', 'Tails', 'Heads', 'Heads',\n",
       "       'Heads', 'Heads', 'Tails', 'Heads', 'Heads', 'Heads', 'Tails',\n",
       "       'Tails', 'Tails', 'Heads', 'Tails', 'Tails', 'Tails', 'Tails',\n",
       "       'Heads', 'Tails', 'Tails', 'Heads', 'Tails', 'Heads', 'Heads',\n",
       "       'Heads', 'Heads', 'Heads', 'Tails', 'Tails', 'Tails', 'Tails',\n",
       "       'Heads', 'Tails', 'Tails', 'Heads', 'Heads', 'Heads', 'Tails',\n",
       "       'Heads', 'Heads', 'Tails', 'Heads', 'Heads', 'Tails', 'Heads',\n",
       "       'Tails', 'Heads', 'Tails', 'Heads', 'Tails', 'Tails', 'Tails',\n",
       "       'Heads', 'Heads', 'Heads', 'Tails', 'Tails', 'Tails', 'Tails',\n",
       "       'Tails', 'Heads', 'Tails', 'Tails', 'Tails', 'Tails', 'Heads',\n",
       "       'Tails', 'Tails', 'Tails', 'Heads', 'Heads', 'Heads', 'Tails',\n",
       "       'Tails', 'Heads'],\n",
       "      dtype='<U5')"
      ]
     },
     "execution_count": 189,
     "metadata": {},
     "output_type": "execute_result"
    }
   ],
   "source": [
    "### test\n",
    "np.random.choice(coin, 100)\n",
    "### works"
   ]
  },
  {
   "cell_type": "code",
   "execution_count": 191,
   "id": "a79ecc89-5c5f-4cf1-81ae-4480074f7c75",
   "metadata": {},
   "outputs": [],
   "source": [
    "##### define the function to be called for many times\n",
    "\n",
    "def one_simulated_value():\n",
    "    outcomes = np.random.choice(coin, 100)          ### TERRIBEL one simulation is heads count of 100 tosses\n",
    "    return np.count_nonzero(outcomes == 'Heads')    ### only return the number of heads"
   ]
  },
  {
   "cell_type": "code",
   "execution_count": 199,
   "id": "f52ef2ae-c2b2-4b1a-a96b-03a822a9a8b4",
   "metadata": {},
   "outputs": [
    {
     "data": {
      "text/plain": [
       "53"
      ]
     },
     "execution_count": 199,
     "metadata": {},
     "output_type": "execute_result"
    }
   ],
   "source": [
    "### run once\n",
    "\n",
    "head1 = one_simulated_value()\n",
    "head1"
   ]
  },
  {
   "cell_type": "markdown",
   "id": "f00a1869-54ba-4346-971c-935ab3e0cd58",
   "metadata": {},
   "source": [
    "#### Step 3: Number of Repetitions\n",
    "\n",
    "- The more we use, the more reliable our simulations will be, but the longer it will take to run the code. \n",
    "- Let us go for 20,000 repetitions. That means we are going to do the following 20,000 times:\n",
    "  - Toss a coin 100 times and count the number of heads."
   ]
  },
  {
   "cell_type": "markdown",
   "id": "1a784e91-c11e-4cd3-b854-7caa15d832df",
   "metadata": {},
   "source": [
    "#### Step 4: Simulating Multiple Values"
   ]
  },
  {
   "cell_type": "code",
   "execution_count": 240,
   "id": "c210888e-6f4e-403f-a1d6-c1a99dd0860d",
   "metadata": {},
   "outputs": [],
   "source": [
    "num_repetitions = 20000    ### number of repetitions\n",
    "heads = make_array()       ### empty array\n",
    "\n",
    "for i in np.arange(num_repetitions):\n",
    "    new_value = one_simulated_value()\n",
    "    heads = np.append(heads, new_value)    ### np.append(ARR, VAL)"
   ]
  },
  {
   "cell_type": "code",
   "execution_count": 241,
   "id": "5b14c388-02b4-41fd-8233-186ce87ec4ca",
   "metadata": {},
   "outputs": [
    {
     "data": {
      "text/plain": [
       "array([ 47.,  51.,  48., ...,  53.,  51.,  54.])"
      ]
     },
     "execution_count": 241,
     "metadata": {},
     "output_type": "execute_result"
    }
   ],
   "source": [
    "heads"
   ]
  },
  {
   "cell_type": "code",
   "execution_count": 242,
   "id": "ac60345b-cb92-4dbd-920c-ebf205789002",
   "metadata": {},
   "outputs": [
    {
     "data": {
      "text/plain": [
       "20000"
      ]
     },
     "execution_count": 242,
     "metadata": {},
     "output_type": "execute_result"
    }
   ],
   "source": [
    "len(heads)"
   ]
  },
  {
   "cell_type": "code",
   "execution_count": 246,
   "id": "e4da2255-45e6-4598-8d4c-80927d190c1c",
   "metadata": {},
   "outputs": [
    {
     "data": {
      "text/html": [
       "<table border=\"1\" class=\"dataframe\">\n",
       "    <thead>\n",
       "        <tr>\n",
       "            <th>Repetiion</th> <th>Number of Heads</th>\n",
       "        </tr>\n",
       "    </thead>\n",
       "    <tbody>\n",
       "        <tr>\n",
       "            <td>1        </td> <td>47             </td>\n",
       "        </tr>\n",
       "        <tr>\n",
       "            <td>2        </td> <td>51             </td>\n",
       "        </tr>\n",
       "        <tr>\n",
       "            <td>3        </td> <td>48             </td>\n",
       "        </tr>\n",
       "        <tr>\n",
       "            <td>4        </td> <td>42             </td>\n",
       "        </tr>\n",
       "        <tr>\n",
       "            <td>5        </td> <td>51             </td>\n",
       "        </tr>\n",
       "    </tbody>\n",
       "</table>\n",
       "<p>... (19995 rows omitted)</p>"
      ],
      "text/plain": [
       "<IPython.core.display.HTML object>"
      ]
     },
     "metadata": {},
     "output_type": "display_data"
    }
   ],
   "source": [
    "### create a table of the result (20,000 tosses)\n",
    "\n",
    "simulation_results = Table().with_columns(\n",
    "    'Repetiion', np.arange(1, num_repetitions + 1),   ### this is the count\n",
    "    'Number of Heads', heads                          ### \n",
    ")\n",
    "\n",
    "simulation_results.show(5)"
   ]
  },
  {
   "cell_type": "code",
   "execution_count": 250,
   "id": "dd0e1ea4-1af3-409a-99e1-7b1709cc02ec",
   "metadata": {},
   "outputs": [
    {
     "name": "stdout",
     "output_type": "stream",
     "text": [
      "30.0\n",
      "69.0\n"
     ]
    },
    {
     "data": {
      "image/png": "[encoded data removed]",
      "text/plain": [
       "<Figure size 600x400 with 1 Axes>"
      ]
     },
     "metadata": {},
     "output_type": "display_data"
    }
   ],
   "source": [
    "%matplotlib inline\n",
    "# simulation_results.hist('Number of Heads', bins = np.arange(30.5, 69.6, 1))\n",
    "##### The 68–95–99.7 rule\n",
    "##### https://en.wikipedia.org/wiki/68%E2%80%9395%E2%80%9399.7_rule\n",
    "\n",
    "min_sim = min(simulation_results['Number of Heads'])\n",
    "max_sim = max(simulation_results['Number of Heads'])\n",
    "print(min_sim)\n",
    "print(max_sim)\n",
    "##### what does these two numbers tell us?\n",
    "\n",
    "simulation_results.hist('Number of Heads', bins = np.arange(min_sim , max_sim, 1))  \n",
    "### hist: 1 variable\n",
    "### note the bins"
   ]
  },
  {
   "cell_type": "markdown",
   "id": "ca1367fa-35bf-4f38-a065-1cf3fdf44b9e",
   "metadata": {},
   "source": [
    "##### Discussion\n",
    "- The histogram looks roughly symmetric around 50 heads.\n",
    "- The height of the bar at 50 is about 8% per unit: meaning 8% of the repetitions are at 50\n",
    "- Almost all of the repetitions, the number of heads in 100 tosses was somewhere between 35 and 65; with the bulk of the repetitions produced numbers of heads in the range 45 to 55.\n",
    "- **possible** vs **propbabl**: in theory it is possible that the number of heads can be anywhere between 0 and 100, the simulation shows that the range of probable values is much smaller."
   ]
  },
  {
   "cell_type": "markdown",
   "id": "900ffd2d-8877-46d4-84a9-48d11bcb0eea",
   "metadata": {},
   "source": [
    "## 9.3.3. Example: Moves in Monopoly\n",
    "\n",
    "- Each move in the game Monopoly is determined by the total number of spots of two rolls of a die. (??? I thought it's 2 dice?)\n",
    "- Explore this by simulating the sum of two rolls of a die.\n",
    "- We will run the simulation 10,000 times.\n",
    "- Write a function to simulate the total number of spots in one pair of rolls. "
   ]
  },
  {
   "cell_type": "code",
   "execution_count": 267,
   "id": "a8c35ab6-15de-468d-9d38-fcad85644078",
   "metadata": {},
   "outputs": [
    {
     "data": {
      "text/plain": [
       "2"
      ]
     },
     "execution_count": 267,
     "metadata": {},
     "output_type": "execute_result"
    }
   ],
   "source": [
    "die = np.arange(1, 7)\n",
    "sum(np.random.choice(die, 2))     ### sum ( randomly choose 2 from 1..6 )"
   ]
  },
  {
   "cell_type": "code",
   "execution_count": 273,
   "id": "fda76d0d-f1e2-4901-a5f7-600bc304f779",
   "metadata": {},
   "outputs": [
    {
     "data": {
      "text/plain": [
       "5"
      ]
     },
     "execution_count": 273,
     "metadata": {},
     "output_type": "execute_result"
    }
   ],
   "source": [
    "##### this is one move in Monopoly\n",
    "\n",
    "def one_simulated_move():\n",
    "    return sum(np.random.choice(die, 2))\n",
    "\n",
    "one_simulated_move()"
   ]
  },
  {
   "cell_type": "code",
   "execution_count": 276,
   "id": "d055650d-757a-49e9-88ff-d8b529d3661e",
   "metadata": {},
   "outputs": [],
   "source": [
    "##### create 10000 simulation\n",
    "\n",
    "num_repetitions = 10000         ### num of repetition\n",
    "moves = make_array()            ### new data array\n",
    "                                ### the function that put things together to simulate\n",
    "for i in np.arange(num_repetitions):\n",
    "    new_move = one_simulated_move()\n",
    "    moves = np.append(moves, new_move)"
   ]
  },
  {
   "cell_type": "code",
   "execution_count": 277,
   "id": "9a94785c-a0f6-4756-95fb-e8c9c9fee198",
   "metadata": {},
   "outputs": [
    {
     "data": {
      "text/plain": [
       "array([  3.,   6.,  11., ...,   6.,  12.,   6.])"
      ]
     },
     "execution_count": 277,
     "metadata": {},
     "output_type": "execute_result"
    }
   ],
   "source": [
    "moves"
   ]
  },
  {
   "cell_type": "code",
   "execution_count": 278,
   "id": "85f02569-df1c-4146-b89b-f004d6e84978",
   "metadata": {},
   "outputs": [
    {
     "data": {
      "text/plain": [
       "10000"
      ]
     },
     "execution_count": 278,
     "metadata": {},
     "output_type": "execute_result"
    }
   ],
   "source": [
    "len(moves)"
   ]
  },
  {
   "cell_type": "code",
   "execution_count": 289,
   "id": "64f393dc-848d-418a-9032-343242049d0b",
   "metadata": {},
   "outputs": [
    {
     "data": {
      "text/html": [
       "<table border=\"1\" class=\"dataframe\">\n",
       "    <thead>\n",
       "        <tr>\n",
       "            <th>Repetions</th> <th>Sum of Two Rolls</th>\n",
       "        </tr>\n",
       "    </thead>\n",
       "    <tbody>\n",
       "        <tr>\n",
       "            <td>1        </td> <td>3               </td>\n",
       "        </tr>\n",
       "        <tr>\n",
       "            <td>2        </td> <td>6               </td>\n",
       "        </tr>\n",
       "        <tr>\n",
       "            <td>3        </td> <td>11              </td>\n",
       "        </tr>\n",
       "    </tbody>\n",
       "</table>\n",
       "<p>... (9997 rows omitted)</p>"
      ],
      "text/plain": [
       "<IPython.core.display.HTML object>"
      ]
     },
     "metadata": {},
     "output_type": "display_data"
    }
   ],
   "source": [
    "### make a histogram\n",
    "\n",
    "results = Table().with_columns(\n",
    "    'Repetions', np.arange(1, num_repetitions + 1),   ### +1 because it's zero-based\n",
    "    'Sum of Two Rolls', moves\n",
    ")\n",
    "results.show(3)"
   ]
  },
  {
   "cell_type": "code",
   "execution_count": 290,
   "id": "848ebd7b-ea0c-4384-a0ae-ff109e685c24",
   "metadata": {},
   "outputs": [
    {
     "data": {
      "text/plain": [
       "12.0"
      ]
     },
     "execution_count": 290,
     "metadata": {},
     "output_type": "execute_result"
    }
   ],
   "source": [
    "max(results.column('Sum of Two Rolls'))"
   ]
  },
  {
   "cell_type": "code",
   "execution_count": 292,
   "id": "354d0a70-4d49-4f8b-abe0-d4e1f53f6cf7",
   "metadata": {},
   "outputs": [
    {
     "data": {
      "image/png": "[encoded data removed]",
      "text/plain": [
       "<Figure size 600x400 with 1 Axes>"
      ]
     },
     "metadata": {},
     "output_type": "display_data"
    }
   ],
   "source": [
    "results.hist('Sum of Two Rolls')"
   ]
  },
  {
   "cell_type": "markdown",
   "id": "a0ab09d6-8be5-4585-b001-4b266785f137",
   "metadata": {},
   "source": [
    "\n",
    "Seven is the most common value, with the frequencies falling off symmetrically on either side."
   ]
  },
  {
   "cell_type": "code",
   "execution_count": 287,
   "id": "d00bc730-8ae1-44ed-b8fe-781496bc87be",
   "metadata": {},
   "outputs": [
    {
     "data": {
      "image/png": "[encoded data removed]",
      "text/plain": [
       "<Figure size 600x400 with 1 Axes>"
      ]
     },
     "metadata": {},
     "output_type": "display_data"
    }
   ],
   "source": [
    "# min_results = min('results')\n",
    "results.hist('Sum of Two Rolls', bins = np.arange(1.5, 12, 1))"
   ]
  },
  {
   "cell_type": "code",
   "execution_count": 295,
   "id": "e58ca6f1-b5f2-4402-85cd-114a1a8d6816",
   "metadata": {},
   "outputs": [
    {
     "data": {
      "image/png": "[encoded data removed]",
      "text/plain": [
       "<Figure size 600x400 with 1 Axes>"
      ]
     },
     "metadata": {},
     "output_type": "display_data"
    }
   ],
   "source": [
    "### binning: 12.6 == 12 + half of the interval + a little\n",
    "\n",
    "results.hist('Sum of Two Rolls', bins = np.arange(1.5, 12.6, 1))"
   ]
  },
  {
   "cell_type": "code",
   "execution_count": null,
   "id": "355de4b1-2b8c-4e82-b4f2-ccd90aceb70a",
   "metadata": {},
   "outputs": [],
   "source": []
  }
 ],
 "metadata": {
  "kernelspec": {
   "display_name": "Python 3 (ipykernel)",
   "language": "python",
   "name": "python3"
  },
  "language_info": {
   "codemirror_mode": {
    "name": "ipython",
    "version": 3
   },
   "file_extension": ".py",
   "mimetype": "text/x-python",
   "name": "python",
   "nbconvert_exporter": "python",
   "pygments_lexer": "ipython3",
   "version": "3.12.8"
  }
 },
 "nbformat": 4,
 "nbformat_minor": 5
}
