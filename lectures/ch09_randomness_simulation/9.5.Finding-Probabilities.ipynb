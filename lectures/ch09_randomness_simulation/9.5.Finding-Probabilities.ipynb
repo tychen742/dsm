{
 "cells": [
  {
   "cell_type": "markdown",
   "id": "d311a9bb-5432-4778-b99e-d72600398d03",
   "metadata": {},
   "source": [
    "# 9.5. Finding Probabilities\n",
    "\n",
    "- probabilities are numbers between 0 and 1 (or, equivalently, 0% and 100%), by convension\n",
    "- standard notation *P*(event): the probability that “event” happens"
   ]
  },
  {
   "cell_type": "code",
   "execution_count": null,
   "id": "967d69ae-3bee-43a2-ba5f-2556d3c51721",
   "metadata": {},
   "outputs": [],
   "source": [
    "from datascience import *\n",
    "import numpy as np\n",
    "import matplotlib.pyplot as plots\n",
    "plots.style.use('fivethirtyeight')\n",
    "%matplotlib inline"
   ]
  },
  {
   "cell_type": "markdown",
   "id": "3d80529d-c34c-417f-8cfa-b8ec6a59c30f",
   "metadata": {},
   "source": [
    "## 9.5.1. When an Event Doesn’t Happen\n",
    "\n",
    "- notation/expression"
   ]
  },
  {
   "cell_type": "markdown",
   "id": "ed746c98-44c6-4aa3-b7d6-21616ae22c3f",
   "metadata": {},
   "source": [
    "If the chance that event happens is 40%, then the chance that it doesn’t happen is 60%. This natural calculation can be described in general as follows:\n",
    "\\begin{align*}\n",
    "P(an\\ event\\ doesn't\\ happen) = 1 - P(the\\ event\\ happen)\n",
    "\\end{align*}"
   ]
  },
  {
   "cell_type": "markdown",
   "id": "a1a46461-0b7f-4b8d-851b-4bc67bb20c05",
   "metadata": {},
   "source": [
    "## 9.5.2. When All Outcomes are Equally Likely\n",
    "\n",
    "- likelihood"
   ]
  },
  {
   "attachments": {},
   "cell_type": "markdown",
   "id": "f0aa0db2-1b9c-479c-8fc6-8bedb1756871",
   "metadata": {},
   "source": [
    "<!-- \\begin{align*}\n",
    "P(an\\ event\\ doesn't\\ happen) = 1 - P(the\\ event\\ happen)\n",
    "\\end{align*}\n",
    "-->\n",
    "\n",
    "$$\n",
    "\\frac{\\mbox{number of even faces}}{\\mbox{number of all faces}}\n",
    "~=~ \\frac{\\#\\{2, 4, 6\\}}{\\#\\{1, 2, 3, 4, 5, 6\\}}\n",
    "~=~ \\frac{3}{6}\n",
    "$$\n",
    "\n",
    "Similarly,\n",
    "\n",
    "$$\n",
    "P(\\mbox{die shows a multiple of 3}) ~=~\n",
    "\\frac{\\#\\{3, 6\\}}{\\#\\{1, 2, 3, 4, 5, 6\\}}\n",
    "~=~ \\frac{2}{6}\n",
    "$$\n"
   ]
  },
  {
   "cell_type": "markdown",
   "id": "828713ee-1d71-4305-a3dc-51d2a9535079",
   "metadata": {},
   "source": [
    "In general, **if all outcomes are equally likely**,\n",
    "\n",
    "$$\n",
    "P(\\mbox{an event happens}) ~=~\n",
    "\\frac{\\#\\{\\mbox{outcomes that make the event happen}\\}}\n",
    "{\\#\\{\\mbox{all outcomes}\\}}\n",
    "$$"
   ]
  },
  {
   "attachments": {},
   "cell_type": "markdown",
   "id": "15eb1d23-7ca4-4a4c-94bd-5545e7dae170",
   "metadata": {},
   "source": [
    "## 9.5.3. When Two Events Must Both Happen\n",
    "\n",
    "- a box that contains three tickets: one red, one blue, and one green.\n",
    "- suppose you draw **two tickets** at random **without replacement**: shuffle the three tickets, draw one, shuffle the remaining two, and draw another from those two.\n",
    "- What is the chance you get the green (G) ticket first, followed by the red (R) one (a GR)?\n",
    "\n",
    "- **Solution 1**: Listing all possible pairs of colors: RB, BR, RG, GR, BG, GB to find out the probability\n",
    "\n",
    "$$\n",
    "P(\\mbox{green first, then red}) ~=~ \n",
    "\\frac{\\#\\{\\mbox{GR}\\}}{\\#\\{\\mbox{RB, BR, RG, GR, BG, GB}\\}} ~=~ \\frac{1}{6}\n",
    "$$\n",
    "\n",
    "- **Solution 2**:\n",
    "  1. First, the green ticket has to be drawn. That has chance $1/3$, which means that the green ticket is drawn first in about $1/3$ of all repetitions of the experiment. But that doesn’t complete the event. Among the **1/3** of repetitions **when green is drawn first**,\n",
    "  2. the red ticket has to be drawn next. That happens in about $1/2$ of those repetitions, and so:\n",
    "\n",
    "$$\n",
    "P(\\mbox{green first, then red}) ~=~ \\frac{1}{2} ~\\mbox{of}~ \\frac{1}{3}\n",
    "~=~ \\frac{1}{6}\n",
    "$$\n",
    "\n",
    "This calculation is usually written \"in chronological order,\" as follows.\n",
    "\n",
    "$$\n",
    "P(\\mbox{green first, then red}) ~=~ \\frac{1}{3} ~\\times~ \\frac{1}{2}\n",
    "~=~ \\frac{1}{6}\n",
    "$$"
   ]
  },
  {
   "cell_type": "markdown",
   "id": "5ce4415f-72ad-4456-8346-f04b592b22bb",
   "metadata": {},
   "source": [
    "The factor of $1/2$ is called \"the **conditional chance** that *the red ticket appears second, given that the green ticket appeared first*.\"\n",
    "\n",
    "In general, we have the **multiplication rule**:\n",
    "\n",
    "$$\n",
    "P(\\mbox{two events both happen})\n",
    "~=~ P(\\mbox{one event happens}) \\times \n",
    "P(\\mbox{the other event happens, given that the first one happened})\n",
    "$$\n",
    "\n",
    "Thus, when there are **two conditions** – one event must happen, as well as another – the chance is *a fraction of a fraction*, which is smaller than either of the two component fractions. The more conditions that have to be satisfied, the less likely they are to all be satisfied."
   ]
  },
  {
   "cell_type": "markdown",
   "id": "5ebe1823-1caf-4ae3-8fa8-447f18c547e5",
   "metadata": {},
   "source": [
    "## 9.5.4. When an Event Can Happen in Two Different Ways\n",
    "\n",
    "- P(one of the two tickets is **green** and the other **red**\n",
    "- order does not matter: GR, RG\n",
    "\n",
    "We know when order does not matter, we have \n",
    "- 6 possible ways of drawing: RB, BR, RG, GR, BG, GB\n",
    "- GR and RG each has the probability of $1/6$:\n",
    "  \n",
    "$$\n",
    "P(\\mbox{one green and one red}) ~=~ P(\\mbox{GR}) + P(\\mbox{RG}) ~=~ \n",
    "\\frac{1}{6} + \\frac{1}{6} ~=~ \\frac{2}{6}\n",
    "$$\n",
    "\n",
    "In general, we have the **addition rule**:\n",
    "\n",
    "$$\n",
    "P(\\mbox{an event happens}) ~=~\n",
    "P(\\mbox{first way it can happen}) + P(\\mbox{second way it can happen}) ~~~\n",
    "\\mbox{}\n",
    "$$"
   ]
  },
  {
   "cell_type": "markdown",
   "id": "2df8cf1f-984d-4ba8-85cc-e753d6e674b1",
   "metadata": {},
   "source": [
    "## 9.5.5. At Least One Success\n",
    "\n",
    "- \"**success**\": the likelihood that a particular individual in the population is selected to be in the sample\n",
    "\n",
    "- toss a coin twice: HH, HT, TH, TT\n",
    "- Probability of getting at least one head:\n",
    "  - **Solution 1**: count HH, HT, TH out of HH, HT, TH, TT, or $3/4$.\n",
    "  - **Solution 2**: think probability\n",
    "    $$\n",
    "P(\\mbox{at least one head in two tosses}) ~=~ 1 - P(\\mbox{both tails}) ~=~ 1 - \\frac{1}{4}\n",
    "~=~ \\frac{3}{4}\n",
    "$$\n",
    "\n",
    "Notice also that \n",
    "\n",
    "$$\n",
    "P(\\mbox{both tails}) ~=~ \\frac{1}{4} ~=~ \\frac{1}{2} \\cdot \\frac{1}{2} ~=~ \\left(\\frac{1}{2}\\right)^2\n",
    "$$\n",
    "by the **multiplication rule**."
   ]
  },
  {
   "cell_type": "markdown",
   "id": "a793d583-fedc-47a8-bc62-297f87174070",
   "metadata": {},
   "source": [
    "Now, let us put this learning into work a little: What's the probability of getting at least one head in 17 tosses?\n",
    "$$\n",
    "P(\\mbox{at least one head in 17 tosses}) ~=~ 1 - P(\\mbox{all 17 are tails})\n",
    "~=~ 1 - \\left(\\frac{1}{2}\\right)^{17}\n",
    "$$"
   ]
  },
  {
   "cell_type": "markdown",
   "id": "1ebf47af-35ce-4220-8d2d-5128cb34d0ae",
   "metadata": {},
   "source": [
    "How about the chance of the face with six spts comes up at least once in rolls of a die?\n",
    "\n",
    "For example, \n",
    "\n",
    "$$\n",
    "P(\\mbox{a single roll is not 6}) ~=~ 1 - P(6)\n",
    "~=~ \\frac{5}{6}\n",
    "$$\n",
    "\n",
    "and\n",
    "\n",
    "$$\n",
    "P(\\mbox{at least one 6 in 17 rolls})\n",
    "~=~ 1 - \\left(\\frac{5}{6}\\right)^{17}\n",
    "$$"
   ]
  },
  {
   "cell_type": "markdown",
   "id": "135d7bab-744c-488f-8021-bbe0381555f8",
   "metadata": {},
   "source": [
    "The table below shows these probabilities as the number of rolls increases from 1 to 50."
   ]
  },
  {
   "cell_type": "code",
   "execution_count": null,
   "id": "df7129cb-0384-4645-9915-1a0678e474c0",
   "metadata": {},
   "outputs": [],
   "source": [
    "rolls = np.arange(1, 51, 1)     ### stop at 15, the last num is 50\n",
    "results = Table().with_columns (\n",
    "    'Rolls', rolls,\n",
    "    'Chance of at least one 6', 1-(5/6)**rolls\n",
    ")\n",
    "results"
   ]
  },
  {
   "cell_type": "code",
   "execution_count": null,
   "id": "eb102bf3-74b3-4130-940a-ca65c9f49c8f",
   "metadata": {},
   "outputs": [],
   "source": [
    "##### The chance that a 6 appears at least once rises rapidly as the number of rolls increases.\n",
    "results.scatter('Rolls')"
   ]
  },
  {
   "cell_type": "code",
   "execution_count": null,
   "id": "7c7b9eb7-de31-4536-9fe9-0d32201872cb",
   "metadata": {},
   "outputs": [],
   "source": [
    "##### In 50 rolls, you are almost certain to get at least one 6.\n",
    "results.where('Rolls', are.equal_to(50))\n"
   ]
  },
  {
   "cell_type": "code",
   "execution_count": null,
   "id": "502fdc48-2279-4d51-9ea5-0ea6f29f8576",
   "metadata": {},
   "outputs": [],
   "source": []
  },
  {
   "cell_type": "code",
   "execution_count": null,
   "id": "36a96a4d-1be6-45c9-9e80-33a53e8b8625",
   "metadata": {},
   "outputs": [],
   "source": []
  }
 ],
 "metadata": {
  "kernelspec": {
   "display_name": "Python 3 (ipykernel)",
   "language": "python",
   "name": "python3"
  },
  "language_info": {
   "codemirror_mode": {
    "name": "ipython",
    "version": 3
   },
   "file_extension": ".py",
   "mimetype": "text/x-python",
   "name": "python",
   "nbconvert_exporter": "python",
   "pygments_lexer": "ipython3",
   "version": "3.12.0"
  }
 },
 "nbformat": 4,
 "nbformat_minor": 5
}
