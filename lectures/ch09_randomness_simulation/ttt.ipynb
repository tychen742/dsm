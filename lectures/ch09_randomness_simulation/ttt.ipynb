{
 "cells": [
  {
   "cell_type": "markdown",
   "id": "53346e38-e2fb-464a-8597-3f14dd14fa19",
   "metadata": {},
   "source": [
    "# 9.Randomness"
   ]
  },
  {
   "cell_type": "code",
   "execution_count": 2,
   "id": "c4f5e806-1e33-4789-8c5a-3aec20fe4e31",
   "execution_count": 11,
   "id": "541910a1-6fbb-497f-a0db-b241764381e6",
   "metadata": {},
   "outputs": [],
   "source": [
    "from datascience import *\n",
    "path_data = '../../../assets/data/'\n",
    "import numpy as np\n",
    "\n",
    "import matplotlib\n",
    "matplotlib.use('Agg')\n",
    "%matplotlib inline\n",
    "import matplotlib.pyplot as plots\n",
    "plots.style.use('fivethirtyeight')"
    "import numpy as np"
   ]
  },
  {
   "cell_type": "code",
   "execution_count": 8,
   "execution_count": 112,
   "id": "183b44b7-7c9f-4f59-81e5-b648a3d7ea86",
   "metadata": {},
   "outputs": [
    {
     "data": {
      "text/plain": [
       "'control'"
      ]
     },
     "execution_count": 8,
     "execution_count": 112,
     "metadata": {},
     "output_type": "execute_result"
    }
   ],
   "source": [
    "two_groups = make_array('treatment', 'control')\n",
    "np.random.choice(two_groups)"
    "two_groups = Table().with_columns(\n",
    "    'treatment', make_array(1, 2, 3),\n",
    "    'control', make_array(4, 5, 6)\n",
    ")\n",
    "\n",
    "\n",
    "two_groups = make_array('treatment', 'control')\n",
    "\n",
    "np.random.choice(two_groups)\n",
    "\n",
    "# two_groups\n",
    "# np.random.choice(two_groups)"
   ]
  },
  {
   "cell_type": "code",
   "execution_count": 33,
   "id": "4c1ae0a4-c2ca-48ef-baf6-ad991ed35280",
   "execution_count": 125,
   "id": "292e8045-e1aa-49e4-8ddf-260e2e184c47",
   "metadata": {},
   "outputs": [
    {
     "data": {
      "text/html": [
       "<table border=\"1\" class=\"dataframe\">\n",
       "    <thead>\n",
       "        <tr>\n",
       "            <th>treatment</th> <th>control</th>\n",
       "        </tr>\n",
       "    </thead>\n",
       "    <tbody>\n",
       "        <tr>\n",
       "            <td>1        </td> <td>4      </td>\n",
       "        </tr>\n",
       "        <tr>\n",
       "            <td>2        </td> <td>5      </td>\n",
       "        </tr>\n",
       "        <tr>\n",
       "            <td>3        </td> <td>6      </td>\n",
       "        </tr>\n",
       "    </tbody>\n",
       "</table>"
      ],
      "text/plain": [
       "treatment | control\n",
       "1         | 4\n",
       "2         | 5\n",
       "3         | 6"
      ]
     },
     "execution_count": 33,
     "execution_count": 125,
     "metadata": {},
     "output_type": "execute_result"
    }
   ],
   "source": [
    "two_groups = Table().with_columns(\n",
    "    'treatment',  make_array( 1, 2, 3 ),\n",
    "    'control',    make_array( 4, 5, 6 )\n",
    ")\n",
    "two_groups"
    "### try something else\n",
    "\n",
    "tbl = Table().with_columns(\n",
    "    'treatment', make_array(1, 2, 3),\n",
    "    'control', make_array(4, 5, 6)\n",
    ")\n",
    "tbl"
   ]
  },
  {
   "cell_type": "code",
   "execution_count": 35,
   "id": "e74ca266-2d39-46f3-a56b-76b302b425d8",
   "execution_count": 205,
   "id": "636df1bb-89af-40cd-8616-b6552ec43111",
   "metadata": {},
   "outputs": [
    {
     "data": {
      "text/plain": [
       "array(['treatment', 'control'],\n",
       "      dtype='<U9')"
      ]
     },
     "execution_count": 35,
       "1"
      ]
     },
     "execution_count": 205,
     "metadata": {},
     "output_type": "execute_result"
    }
   ],
   "source": [
    "two_groups = make_array('treatment', 'control')\n",
    "two_groups"
    "np.random.choice(tbl.column(0))"
   ]
  },
  {
   "cell_type": "code",
   "execution_count": 36,
   "id": "5c84ae3b-e7c4-48de-aeb9-6fb018501e98",
   "execution_count": 53,
   "id": "dc93e8dd-3903-4833-b926-ae312f96ae5b",
   "metadata": {},
   "outputs": [
    {
     "data": {
      "text/plain": [
       "array(['treatment', 'treatment', 'control'],\n",
       "      dtype='<U9')"
      ]
     },
     "execution_count": 36,
       "'control'"
      ]
     },
     "execution_count": 53,
     "metadata": {},
     "output_type": "execute_result"
    }
   ],
   "source": [
    "np.random.choice(two_groups, 3)"
    "np.random.choice(two_groups)"
   ]
  },
  {
   "cell_type": "code",
   "execution_count": null,
   "id": "3528a8f2-8ca5-4c90-9376-88f086dbfc15",
   "id": "c2299e13-792a-49bb-9326-227867cd147e",
   "metadata": {},
   "outputs": [],
   "source": []
  },
  {
   "cell_type": "code",
   "execution_count": null,
   "id": "70a66118-5d96-4f03-bd9f-18263abf7229",
   "metadata": {},
   "outputs": [],
   "source": []
  }
 ],
 "metadata": {
  "kernelspec": {
   "display_name": "Python 3 (ipykernel)",
   "language": "python",
   "name": "python3"
  },
  "language_info": {
   "codemirror_mode": {
    "name": "ipython",
    "version": 3
   },
   "file_extension": ".py",
   "mimetype": "text/x-python",
   "name": "python",
   "nbconvert_exporter": "python",
   "pygments_lexer": "ipython3",
   "version": "3.12.8"
   "version": "3.12.2"
  }
 },
 "nbformat": 4,
 "nbformat_minor": 5
}
