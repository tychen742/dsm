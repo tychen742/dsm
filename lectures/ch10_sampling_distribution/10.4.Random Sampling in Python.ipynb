{
 "cells": [
  {
   "cell_type": "markdown",
   "id": "c0e7b122-d8bf-4b59-889f-8d611f5ac0ca",
   "metadata": {},
   "source": [
    "# 10.4. Random Sampling in Python"
   ]
  },
  {
   "cell_type": "markdown",
   "id": "a075b4bc-9fca-46ec-aa4e-7b25c557c13f",
   "metadata": {},
   "source": [
    "## 10.4.1. Review: Sampling from a Population in a Table\n",
    "\n",
    "- sample() draws **uniformly** (natural model for chance experiments such as rolling a die) at random **with replacement**. "
   ]
  },
  {
   "cell_type": "code",
   "execution_count": 2,
   "id": "a511926a-ea4d-4caf-bf8c-03ae771a1272",
   "metadata": {},
   "outputs": [
    {
     "data": {
      "text/html": [
       "<table border=\"1\" class=\"dataframe\">\n",
       "    <thead>\n",
       "        <tr>\n",
       "            <th>Face</th>\n",
       "        </tr>\n",
       "    </thead>\n",
       "    <tbody>\n",
       "        <tr>\n",
       "            <td>1   </td>\n",
       "        </tr>\n",
       "        <tr>\n",
       "            <td>2   </td>\n",
       "        </tr>\n",
       "        <tr>\n",
       "            <td>3   </td>\n",
       "        </tr>\n",
       "        <tr>\n",
       "            <td>4   </td>\n",
       "        </tr>\n",
       "        <tr>\n",
       "            <td>5   </td>\n",
       "        </tr>\n",
       "        <tr>\n",
       "            <td>6   </td>\n",
       "        </tr>\n",
       "    </tbody>\n",
       "</table>"
      ],
      "text/plain": [
       "Face\n",
       "1\n",
       "2\n",
       "3\n",
       "4\n",
       "5\n",
       "6"
      ]
     },
     "execution_count": 2,
     "metadata": {},
     "output_type": "execute_result"
    }
   ],
   "source": [
    "import numpy as np\n",
    "from datascience import *\n",
    "\n",
    "faces = np.arange(1, 7)\n",
    "die = Table().with_columns('Face', faces)\n",
    "die"
   ]
  },
  {
   "cell_type": "code",
   "execution_count": 3,
   "id": "aca11d84-1d99-4900-8fb6-600e70710cb7",
   "metadata": {},
   "outputs": [
    {
     "data": {
      "text/html": [
       "<table border=\"1\" class=\"dataframe\">\n",
       "    <thead>\n",
       "        <tr>\n",
       "            <th>Face</th>\n",
       "        </tr>\n",
       "    </thead>\n",
       "    <tbody>\n",
       "        <tr>\n",
       "            <td>6   </td>\n",
       "        </tr>\n",
       "        <tr>\n",
       "            <td>2   </td>\n",
       "        </tr>\n",
       "        <tr>\n",
       "            <td>4   </td>\n",
       "        </tr>\n",
       "        <tr>\n",
       "            <td>6   </td>\n",
       "        </tr>\n",
       "        <tr>\n",
       "            <td>5   </td>\n",
       "        </tr>\n",
       "        <tr>\n",
       "            <td>3   </td>\n",
       "        </tr>\n",
       "        <tr>\n",
       "            <td>3   </td>\n",
       "        </tr>\n",
       "    </tbody>\n",
       "</table>"
      ],
      "text/plain": [
       "Face\n",
       "6\n",
       "2\n",
       "4\n",
       "6\n",
       "5\n",
       "3\n",
       "3"
      ]
     },
     "execution_count": 3,
     "metadata": {},
     "output_type": "execute_result"
    }
   ],
   "source": [
    "##### sample the die for 7 times\n",
    "die.sample(7)"
   ]
  },
  {
   "cell_type": "code",
   "execution_count": 119,
   "id": "ed5d9a02-509a-46a7-adc9-c14df6e34ed4",
   "metadata": {},
   "outputs": [
    {
     "data": {
      "text/plain": [
       "3.0"
      ]
     },
     "execution_count": 119,
     "metadata": {},
     "output_type": "execute_result"
    }
   ],
   "source": [
    "die1 = np.random.choice(die.column('Face'))\n",
    "die1_arr = make_array()\n",
    "for i in range(1000):\n",
    "    die1_arr = np.append(die1_arr, die.sample(1)[0][0])\n",
    "\n",
    "np.median(die1_arr)"
   ]
  },
  {
   "cell_type": "code",
   "execution_count": 123,
   "id": "66ce3ea6-1d04-4aba-b8d5-0b67e307d902",
   "metadata": {},
   "outputs": [
    {
     "data": {
      "text/plain": [
       "3.0"
      ]
     },
     "execution_count": 123,
     "metadata": {},
     "output_type": "execute_result"
    }
   ],
   "source": [
    "import random\n",
    "die2 = die.sample(1)[0][0]\n",
    "die2_arr = make_array()\n",
    "for i in range(1000):\n",
    "    die2_arr = np.append(die2_arr, random.choice(die.column('Face')))\n",
    "\n",
    "np.median(die2_arr)"
   ]
  },
  {
   "cell_type": "markdown",
   "id": "473c0956-471c-40a3-8450-9bb95477e37e",
   "metadata": {},
   "source": [
    "- Sometimes it is more natural to sample individuals at random without replacement.\n",
    "- This is called a simple random sample.\n",
    "- The argument with_replacement=False allows you to do this."
   ]
  },
  {
   "cell_type": "code",
   "execution_count": 4,
   "id": "d96637cb-2106-43ea-b82d-d27e4969289d",
   "metadata": {},
   "outputs": [
    {
     "data": {
      "text/html": [
       "<table border=\"1\" class=\"dataframe\">\n",
       "    <thead>\n",
       "        <tr>\n",
       "            <th>Actor</th> <th>Total Gross</th> <th>Number of Movies</th> <th>Average per Movie</th> <th>#1 Movie</th> <th>Gross</th>\n",
       "        </tr>\n",
       "    </thead>\n",
       "    <tbody>\n",
       "        <tr>\n",
       "            <td>Harrison Ford     </td> <td>4871.7     </td> <td>41              </td> <td>118.8            </td> <td>Star Wars: The Force Awakens</td> <td>936.7</td>\n",
       "        </tr>\n",
       "        <tr>\n",
       "            <td>Samuel L. Jackson </td> <td>4772.8     </td> <td>69              </td> <td>69.2             </td> <td>The Avengers                </td> <td>623.4</td>\n",
       "        </tr>\n",
       "        <tr>\n",
       "            <td>Morgan Freeman    </td> <td>4468.3     </td> <td>61              </td> <td>73.3             </td> <td>The Dark Knight             </td> <td>534.9</td>\n",
       "        </tr>\n",
       "        <tr>\n",
       "            <td>Tom Hanks         </td> <td>4340.8     </td> <td>44              </td> <td>98.7             </td> <td>Toy Story 3                 </td> <td>415  </td>\n",
       "        </tr>\n",
       "        <tr>\n",
       "            <td>Robert Downey, Jr.</td> <td>3947.3     </td> <td>53              </td> <td>74.5             </td> <td>The Avengers                </td> <td>623.4</td>\n",
       "        </tr>\n",
       "        <tr>\n",
       "            <td>Eddie Murphy      </td> <td>3810.4     </td> <td>38              </td> <td>100.3            </td> <td>Shrek 2                     </td> <td>441.2</td>\n",
       "        </tr>\n",
       "        <tr>\n",
       "            <td>Tom Cruise        </td> <td>3587.2     </td> <td>36              </td> <td>99.6             </td> <td>War of the Worlds           </td> <td>234.3</td>\n",
       "        </tr>\n",
       "        <tr>\n",
       "            <td>Johnny Depp       </td> <td>3368.6     </td> <td>45              </td> <td>74.9             </td> <td>Dead Man's Chest            </td> <td>423.3</td>\n",
       "        </tr>\n",
       "        <tr>\n",
       "            <td>Michael Caine     </td> <td>3351.5     </td> <td>58              </td> <td>57.8             </td> <td>The Dark Knight             </td> <td>534.9</td>\n",
       "        </tr>\n",
       "        <tr>\n",
       "            <td>Scarlett Johansson</td> <td>3341.2     </td> <td>37              </td> <td>90.3             </td> <td>The Avengers                </td> <td>623.4</td>\n",
       "        </tr>\n",
       "    </tbody>\n",
       "</table>\n",
       "<p>... (40 rows omitted)</p>"
      ],
      "text/plain": [
       "Actor              | Total Gross | Number of Movies | Average per Movie | #1 Movie                     | Gross\n",
       "Harrison Ford      | 4871.7      | 41               | 118.8             | Star Wars: The Force Awakens | 936.7\n",
       "Samuel L. Jackson  | 4772.8      | 69               | 69.2              | The Avengers                 | 623.4\n",
       "Morgan Freeman     | 4468.3      | 61               | 73.3              | The Dark Knight              | 534.9\n",
       "Tom Hanks          | 4340.8      | 44               | 98.7              | Toy Story 3                  | 415\n",
       "Robert Downey, Jr. | 3947.3      | 53               | 74.5              | The Avengers                 | 623.4\n",
       "Eddie Murphy       | 3810.4      | 38               | 100.3             | Shrek 2                      | 441.2\n",
       "Tom Cruise         | 3587.2      | 36               | 99.6              | War of the Worlds            | 234.3\n",
       "Johnny Depp        | 3368.6      | 45               | 74.9              | Dead Man's Chest             | 423.3\n",
       "Michael Caine      | 3351.5      | 58               | 57.8              | The Dark Knight              | 534.9\n",
       "Scarlett Johansson | 3341.2      | 37               | 90.3              | The Avengers                 | 623.4\n",
       "... (40 rows omitted)"
      ]
     },
     "execution_count": 4,
     "metadata": {},
     "output_type": "execute_result"
    }
   ],
   "source": [
    "path_data = '../../data/'\n",
    "actors = Table.read_table(path_data + 'actors.csv')\n",
    "actors"
   ]
  },
  {
   "cell_type": "code",
   "execution_count": 14,
   "id": "61d263dd-5a32-4cf8-9c72-cee6e1484c0e",
   "metadata": {},
   "outputs": [
    {
     "data": {
      "text/html": [
       "<table border=\"1\" class=\"dataframe\">\n",
       "    <thead>\n",
       "        <tr>\n",
       "            <th>Actor</th> <th>Total Gross</th> <th>Number of Movies</th> <th>Average per Movie</th> <th>#1 Movie</th> <th>Gross</th>\n",
       "        </tr>\n",
       "    </thead>\n",
       "    <tbody>\n",
       "        <tr>\n",
       "            <td>Tommy Lee Jones  </td> <td>2681.3     </td> <td>46              </td> <td>58.3             </td> <td>Men in Black</td> <td>250.7</td>\n",
       "        </tr>\n",
       "        <tr>\n",
       "            <td>Brad Pitt        </td> <td>2680.9     </td> <td>40              </td> <td>67               </td> <td>World War Z </td> <td>202.4</td>\n",
       "        </tr>\n",
       "        <tr>\n",
       "            <td>Samuel L. Jackson</td> <td>4772.8     </td> <td>69              </td> <td>69.2             </td> <td>The Avengers</td> <td>623.4</td>\n",
       "        </tr>\n",
       "        <tr>\n",
       "            <td>Sandra Bullock   </td> <td>2462.6     </td> <td>35              </td> <td>70.4             </td> <td>Minions     </td> <td>336  </td>\n",
       "        </tr>\n",
       "        <tr>\n",
       "            <td>Jim Carrey       </td> <td>2545.2     </td> <td>27              </td> <td>94.3             </td> <td>The Grinch  </td> <td>260  </td>\n",
       "        </tr>\n",
       "    </tbody>\n",
       "</table>"
      ],
      "text/plain": [
       "Actor             | Total Gross | Number of Movies | Average per Movie | #1 Movie     | Gross\n",
       "Tommy Lee Jones   | 2681.3      | 46               | 58.3              | Men in Black | 250.7\n",
       "Brad Pitt         | 2680.9      | 40               | 67                | World War Z  | 202.4\n",
       "Samuel L. Jackson | 4772.8      | 69               | 69.2              | The Avengers | 623.4\n",
       "Sandra Bullock    | 2462.6      | 35               | 70.4              | Minions      | 336\n",
       "Jim Carrey        | 2545.2      | 27               | 94.3              | The Grinch   | 260"
      ]
     },
     "execution_count": 14,
     "metadata": {},
     "output_type": "execute_result"
    }
   ],
   "source": [
    "##### Simple random sample of 5 rows\n",
    "actors.sample(5, with_replacement=False)"
   ]
  },
  {
   "cell_type": "markdown",
   "id": "4b158569-d673-444a-b586-17296ae6301d",
   "metadata": {},
   "source": [
    "## 10.4.2. Review: Sampling from a Population in an Array"
   ]
  },
  {
   "cell_type": "code",
   "execution_count": 6,
   "id": "116f9c74-19eb-4546-9680-28d472864eb6",
   "metadata": {},
   "outputs": [
    {
     "data": {
      "text/plain": [
       "array([1, 2, 3, 4, 5, 6])"
      ]
     },
     "execution_count": 6,
     "metadata": {},
     "output_type": "execute_result"
    }
   ],
   "source": [
    "##### np.randpm.choice\n",
    "\n",
    "faces"
   ]
  },
  {
   "cell_type": "code",
   "execution_count": 7,
   "id": "4abb1607-e92b-4bb6-b817-2bd675083ddc",
   "metadata": {},
   "outputs": [
    {
     "data": {
      "text/plain": [
       "array([5, 3, 2, 5, 1, 6, 3])"
      ]
     },
     "execution_count": 7,
     "metadata": {},
     "output_type": "execute_result"
    }
   ],
   "source": [
    "##### 7 rolls of the die\n",
    "np.random.choice(faces, 7)"
   ]
  },
  {
   "cell_type": "code",
   "execution_count": 8,
   "id": "397e2d54-6365-455a-a2fb-fdfd8403cc3d",
   "metadata": {},
   "outputs": [],
   "source": [
    "##### array of actor names\n",
    "\n",
    "actor_names = actors.column('Actor')"
   ]
  },
  {
   "cell_type": "code",
   "execution_count": 9,
   "id": "7d7e035d-5de4-449e-b9ac-9e9b056250e1",
   "metadata": {},
   "outputs": [
    {
     "data": {
      "text/plain": [
       "array(['Michael Caine', 'Tom Cruise', 'Robin Williams', 'Gary Oldman',\n",
       "       'Harrison Ford'],\n",
       "      dtype='<U22')"
      ]
     },
     "execution_count": 9,
     "metadata": {},
     "output_type": "execute_result"
    }
   ],
   "source": [
    "##### simple random sample of 5 actor names\n",
    "\n",
    "np.random.choice(actor_names, 5, replace=False)"
   ]
  },
  {
   "cell_type": "markdown",
   "id": "851e319f-e36b-48e7-be46-6b160ceb8a53",
   "metadata": {},
   "source": [
    "## 10.4.3. Sampling from a Categorical Distribution\n",
    "\n",
    "#### categorical attribute of our sampled individuals"
   ]
  },
  {
   "cell_type": "code",
   "execution_count": 10,
   "id": "b28bfafd-f8d6-4a39-ab2e-57aa0e1e7974",
   "metadata": {},
   "outputs": [
    {
     "data": {
      "text/plain": [
       "array([ 0.27333333,  0.46666667,  0.26      ])"
      ]
     },
     "execution_count": 10,
     "metadata": {},
     "output_type": "execute_result"
    }
   ],
   "source": [
    "# Species distribution of flower colors:\n",
    "# Proportions are in the order Red, Pink, White\n",
    "\n",
    "species_proportions = [0.25, 0.5, .25]\n",
    "sample_size = 300\n",
    "\n",
    "# Distribution of sample\n",
    "sample_distribution = sample_proportions(sample_size, species_proportions)\n",
    "sample_distribution"
   ]
  },
  {
   "cell_type": "code",
   "execution_count": 11,
   "id": "2fd96ab2-c751-43d6-925e-429e4a18cb7c",
   "metadata": {},
   "outputs": [
    {
     "data": {
      "text/plain": [
       "1.0"
      ]
     },
     "execution_count": 11,
     "metadata": {},
     "output_type": "execute_result"
    }
   ],
   "source": [
    "sum(sample_distribution)"
   ]
  },
  {
   "cell_type": "code",
   "execution_count": 12,
   "id": "090db5c4-a4ba-40f9-9094-0c607ee871a5",
   "metadata": {},
   "outputs": [
    {
     "data": {
      "text/plain": [
       "0.4666666666666667"
      ]
     },
     "execution_count": 12,
     "metadata": {},
     "output_type": "execute_result"
    }
   ],
   "source": [
    "### sample proportions of Heads\n",
    "\n",
    "sample_distribution.item(1)"
   ]
  },
  {
   "cell_type": "code",
   "execution_count": null,
   "id": "6c053a1b-e649-4e04-87a9-6a7692663a64",
   "metadata": {},
   "outputs": [],
   "source": []
  }
 ],
 "metadata": {
  "kernelspec": {
   "display_name": "Python 3 (ipykernel)",
   "language": "python",
   "name": "python3"
  },
  "language_info": {
   "codemirror_mode": {
    "name": "ipython",
    "version": 3
   },
   "file_extension": ".py",
   "mimetype": "text/x-python",
   "name": "python",
   "nbconvert_exporter": "python",
   "pygments_lexer": "ipython3",
   "version": "3.12.8"
  }
 },
 "nbformat": 4,
 "nbformat_minor": 5
}
