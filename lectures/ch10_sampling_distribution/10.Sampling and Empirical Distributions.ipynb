{
 "cells": [
  {
   "cell_type": "markdown",
   "id": "2f4430ea-ff86-47fe-b31a-38d311c17e24",
   "metadata": {},
   "source": [
    "# 10. Sampling and Empirical Distributions\n",
    "\n",
    "- DS making conclusions based on the data in random samples\n",
    "- random samples\n",
    "- properties of large random samples."
   ]
  },
  {
   "cell_type": "code",
   "execution_count": 4,
   "id": "e0df5bab-8471-4319-a924-0e95454620ca",
   "metadata": {},
   "outputs": [],
   "source": [
    "from datascience import *\n",
    "import numpy as np\n",
    "path_data = '../../data/'     ### the trailing slash is required"
   ]
  },
  {
   "cell_type": "code",
   "execution_count": 5,
   "id": "89edebd4-59b1-42cc-8d8e-80d05fc8f418",
   "metadata": {},
   "outputs": [
    {
     "data": {
      "text/html": [
       "<table border=\"1\" class=\"dataframe\">\n",
       "    <thead>\n",
       "        <tr>\n",
       "            <th>Title</th> <th>Studio</th> <th>Gross</th> <th>Gross (Adjusted)</th> <th>Year</th>\n",
       "        </tr>\n",
       "    </thead>\n",
       "    <tbody>\n",
       "        <tr>\n",
       "            <td>Gone with the Wind              </td> <td>MGM            </td> <td>198676459</td> <td>1796176700      </td> <td>1939</td>\n",
       "        </tr>\n",
       "        <tr>\n",
       "            <td>Star Wars                       </td> <td>Fox            </td> <td>460998007</td> <td>1583483200      </td> <td>1977</td>\n",
       "        </tr>\n",
       "        <tr>\n",
       "            <td>The Sound of Music              </td> <td>Fox            </td> <td>158671368</td> <td>1266072700      </td> <td>1965</td>\n",
       "        </tr>\n",
       "        <tr>\n",
       "            <td>E.T.: The Extra-Terrestrial     </td> <td>Universal      </td> <td>435110554</td> <td>1261085000      </td> <td>1982</td>\n",
       "        </tr>\n",
       "        <tr>\n",
       "            <td>Titanic                         </td> <td>Paramount      </td> <td>658672302</td> <td>1204368000      </td> <td>1997</td>\n",
       "        </tr>\n",
       "        <tr>\n",
       "            <td>The Ten Commandments            </td> <td>Paramount      </td> <td>65500000 </td> <td>1164590000      </td> <td>1956</td>\n",
       "        </tr>\n",
       "        <tr>\n",
       "            <td>Jaws                            </td> <td>Universal      </td> <td>260000000</td> <td>1138620700      </td> <td>1975</td>\n",
       "        </tr>\n",
       "        <tr>\n",
       "            <td>Doctor Zhivago                  </td> <td>MGM            </td> <td>111721910</td> <td>1103564200      </td> <td>1965</td>\n",
       "        </tr>\n",
       "        <tr>\n",
       "            <td>The Exorcist                    </td> <td>Warner Brothers</td> <td>232906145</td> <td>983226600       </td> <td>1973</td>\n",
       "        </tr>\n",
       "        <tr>\n",
       "            <td>Snow White and the Seven Dwarves</td> <td>Disney         </td> <td>184925486</td> <td>969010000       </td> <td>1937</td>\n",
       "        </tr>\n",
       "    </tbody>\n",
       "</table>\n",
       "<p>... (190 rows omitted)</p>"
      ],
      "text/plain": [
       "Title                            | Studio          | Gross     | Gross (Adjusted) | Year\n",
       "Gone with the Wind               | MGM             | 198676459 | 1796176700       | 1939\n",
       "Star Wars                        | Fox             | 460998007 | 1583483200       | 1977\n",
       "The Sound of Music               | Fox             | 158671368 | 1266072700       | 1965\n",
       "E.T.: The Extra-Terrestrial      | Universal       | 435110554 | 1261085000       | 1982\n",
       "Titanic                          | Paramount       | 658672302 | 1204368000       | 1997\n",
       "The Ten Commandments             | Paramount       | 65500000  | 1164590000       | 1956\n",
       "Jaws                             | Universal       | 260000000 | 1138620700       | 1975\n",
       "Doctor Zhivago                   | MGM             | 111721910 | 1103564200       | 1965\n",
       "The Exorcist                     | Warner Brothers | 232906145 | 983226600        | 1973\n",
       "Snow White and the Seven Dwarves | Disney          | 184925486 | 969010000        | 1937\n",
       "... (190 rows omitted)"
      ]
     },
     "execution_count": 5,
     "metadata": {},
     "output_type": "execute_result"
    }
   ],
   "source": [
    "table = Table.read_table(path_data + 'top_movies_2017.csv')\n",
    "table"
   ]
  },
  {
   "cell_type": "code",
   "execution_count": 6,
   "id": "98b26ce2-8ab9-4796-b1f6-0dcc0e60a186",
   "metadata": {},
   "outputs": [
    {
     "data": {
      "text/html": [
       "<table border=\"1\" class=\"dataframe\">\n",
       "    <thead>\n",
       "        <tr>\n",
       "            <th>Title</th> <th>Studio</th> <th>Gross</th> <th>Gross (Adjusted)</th> <th>Year</th>\n",
       "        </tr>\n",
       "    </thead>\n",
       "    <tbody>\n",
       "        <tr>\n",
       "            <td>Gone with the Wind              </td> <td>MGM            </td> <td>198676459</td> <td>1796176700      </td> <td>1939</td>\n",
       "        </tr>\n",
       "        <tr>\n",
       "            <td>Star Wars                       </td> <td>Fox            </td> <td>460998007</td> <td>1583483200      </td> <td>1977</td>\n",
       "        </tr>\n",
       "        <tr>\n",
       "            <td>The Sound of Music              </td> <td>Fox            </td> <td>158671368</td> <td>1266072700      </td> <td>1965</td>\n",
       "        </tr>\n",
       "        <tr>\n",
       "            <td>E.T.: The Extra-Terrestrial     </td> <td>Universal      </td> <td>435110554</td> <td>1261085000      </td> <td>1982</td>\n",
       "        </tr>\n",
       "        <tr>\n",
       "            <td>Titanic                         </td> <td>Paramount      </td> <td>658672302</td> <td>1204368000      </td> <td>1997</td>\n",
       "        </tr>\n",
       "        <tr>\n",
       "            <td>The Ten Commandments            </td> <td>Paramount      </td> <td>65500000 </td> <td>1164590000      </td> <td>1956</td>\n",
       "        </tr>\n",
       "        <tr>\n",
       "            <td>Jaws                            </td> <td>Universal      </td> <td>260000000</td> <td>1138620700      </td> <td>1975</td>\n",
       "        </tr>\n",
       "        <tr>\n",
       "            <td>Doctor Zhivago                  </td> <td>MGM            </td> <td>111721910</td> <td>1103564200      </td> <td>1965</td>\n",
       "        </tr>\n",
       "        <tr>\n",
       "            <td>The Exorcist                    </td> <td>Warner Brothers</td> <td>232906145</td> <td>983226600       </td> <td>1973</td>\n",
       "        </tr>\n",
       "        <tr>\n",
       "            <td>Snow White and the Seven Dwarves</td> <td>Disney         </td> <td>184925486</td> <td>969010000       </td> <td>1937</td>\n",
       "        </tr>\n",
       "    </tbody>\n",
       "</table>\n",
       "<p>... (190 rows omitted)</p>"
      ],
      "text/plain": [
       "Title                            | Studio          | Gross     | Gross (Adjusted) | Year\n",
       "Gone with the Wind               | MGM             | 198676459 | 1796176700       | 1939\n",
       "Star Wars                        | Fox             | 460998007 | 1583483200       | 1977\n",
       "The Sound of Music               | Fox             | 158671368 | 1266072700       | 1965\n",
       "E.T.: The Extra-Terrestrial      | Universal       | 435110554 | 1261085000       | 1982\n",
       "Titanic                          | Paramount       | 658672302 | 1204368000       | 1997\n",
       "The Ten Commandments             | Paramount       | 65500000  | 1164590000       | 1956\n",
       "Jaws                             | Universal       | 260000000 | 1138620700       | 1975\n",
       "Doctor Zhivago                   | MGM             | 111721910 | 1103564200       | 1965\n",
       "The Exorcist                     | Warner Brothers | 232906145 | 983226600        | 1973\n",
       "Snow White and the Seven Dwarves | Disney          | 184925486 | 969010000        | 1937\n",
       "... (190 rows omitted)"
      ]
     },
     "execution_count": 6,
     "metadata": {},
     "output_type": "execute_result"
    }
   ],
   "source": [
    "top1 = Table.read_table(path_data + 'top_movies_2017.csv')\n",
    "top1"
   ]
  },
  {
   "cell_type": "code",
   "execution_count": 7,
   "id": "c37b69ce-97d9-44c6-940e-453cd83b7830",
   "metadata": {},
   "outputs": [
    {
     "data": {
      "text/html": [
       "<table border=\"1\" class=\"dataframe\">\n",
       "    <thead>\n",
       "        <tr>\n",
       "            <th>Title</th> <th>Studio</th> <th>Gross</th> <th>Gross (Adjusted)</th> <th>Year</th> <th>Row Index</th>\n",
       "        </tr>\n",
       "    </thead>\n",
       "    <tbody>\n",
       "        <tr>\n",
       "            <td>Gone with the Wind              </td> <td>MGM            </td> <td>198676459</td> <td>1796176700      </td> <td>1939</td> <td>0        </td>\n",
       "        </tr>\n",
       "        <tr>\n",
       "            <td>Star Wars                       </td> <td>Fox            </td> <td>460998007</td> <td>1583483200      </td> <td>1977</td> <td>1        </td>\n",
       "        </tr>\n",
       "        <tr>\n",
       "            <td>The Sound of Music              </td> <td>Fox            </td> <td>158671368</td> <td>1266072700      </td> <td>1965</td> <td>2        </td>\n",
       "        </tr>\n",
       "        <tr>\n",
       "            <td>E.T.: The Extra-Terrestrial     </td> <td>Universal      </td> <td>435110554</td> <td>1261085000      </td> <td>1982</td> <td>3        </td>\n",
       "        </tr>\n",
       "        <tr>\n",
       "            <td>Titanic                         </td> <td>Paramount      </td> <td>658672302</td> <td>1204368000      </td> <td>1997</td> <td>4        </td>\n",
       "        </tr>\n",
       "        <tr>\n",
       "            <td>The Ten Commandments            </td> <td>Paramount      </td> <td>65500000 </td> <td>1164590000      </td> <td>1956</td> <td>5        </td>\n",
       "        </tr>\n",
       "        <tr>\n",
       "            <td>Jaws                            </td> <td>Universal      </td> <td>260000000</td> <td>1138620700      </td> <td>1975</td> <td>6        </td>\n",
       "        </tr>\n",
       "        <tr>\n",
       "            <td>Doctor Zhivago                  </td> <td>MGM            </td> <td>111721910</td> <td>1103564200      </td> <td>1965</td> <td>7        </td>\n",
       "        </tr>\n",
       "        <tr>\n",
       "            <td>The Exorcist                    </td> <td>Warner Brothers</td> <td>232906145</td> <td>983226600       </td> <td>1973</td> <td>8        </td>\n",
       "        </tr>\n",
       "        <tr>\n",
       "            <td>Snow White and the Seven Dwarves</td> <td>Disney         </td> <td>184925486</td> <td>969010000       </td> <td>1937</td> <td>9        </td>\n",
       "        </tr>\n",
       "    </tbody>\n",
       "</table>\n",
       "<p>... (190 rows omitted)</p>"
      ],
      "text/plain": [
       "Title                            | Studio          | Gross     | Gross (Adjusted) | Year | Row Index\n",
       "Gone with the Wind               | MGM             | 198676459 | 1796176700       | 1939 | 0\n",
       "Star Wars                        | Fox             | 460998007 | 1583483200       | 1977 | 1\n",
       "The Sound of Music               | Fox             | 158671368 | 1266072700       | 1965 | 2\n",
       "E.T.: The Extra-Terrestrial      | Universal       | 435110554 | 1261085000       | 1982 | 3\n",
       "Titanic                          | Paramount       | 658672302 | 1204368000       | 1997 | 4\n",
       "The Ten Commandments             | Paramount       | 65500000  | 1164590000       | 1956 | 5\n",
       "Jaws                             | Universal       | 260000000 | 1138620700       | 1975 | 6\n",
       "Doctor Zhivago                   | MGM             | 111721910 | 1103564200       | 1965 | 7\n",
       "The Exorcist                     | Warner Brothers | 232906145 | 983226600        | 1973 | 8\n",
       "Snow White and the Seven Dwarves | Disney          | 184925486 | 969010000        | 1937 | 9\n",
       "... (190 rows omitted)"
      ]
     },
     "execution_count": 7,
     "metadata": {},
     "output_type": "execute_result"
    }
   ],
   "source": [
    "##### num_rows: https://www.data8.org/su21/python-reference.html\n",
    "##### Compute the number of rows in a table\n",
    "top2 = top1.with_column('Row Index', np.arange(top1.num_rows))\n",
    "top2"
   ]
  },
  {
   "cell_type": "code",
   "execution_count": 8,
   "id": "600313a3-69a1-45cf-8304-409dbf642655",
   "metadata": {},
   "outputs": [
    {
     "data": {
      "text/html": [
       "<table border=\"1\" class=\"dataframe\">\n",
       "    <thead>\n",
       "        <tr>\n",
       "            <th>Row Index</th> <th>Title</th> <th>Studio</th> <th>Gross</th> <th>Gross (Adjusted)</th> <th>Year</th>\n",
       "        </tr>\n",
       "    </thead>\n",
       "    <tbody>\n",
       "        <tr>\n",
       "            <td>0        </td> <td>Gone with the Wind              </td> <td>MGM            </td> <td>198676459</td> <td>1796176700      </td> <td>1939</td>\n",
       "        </tr>\n",
       "        <tr>\n",
       "            <td>1        </td> <td>Star Wars                       </td> <td>Fox            </td> <td>460998007</td> <td>1583483200      </td> <td>1977</td>\n",
       "        </tr>\n",
       "        <tr>\n",
       "            <td>2        </td> <td>The Sound of Music              </td> <td>Fox            </td> <td>158671368</td> <td>1266072700      </td> <td>1965</td>\n",
       "        </tr>\n",
       "        <tr>\n",
       "            <td>3        </td> <td>E.T.: The Extra-Terrestrial     </td> <td>Universal      </td> <td>435110554</td> <td>1261085000      </td> <td>1982</td>\n",
       "        </tr>\n",
       "        <tr>\n",
       "            <td>4        </td> <td>Titanic                         </td> <td>Paramount      </td> <td>658672302</td> <td>1204368000      </td> <td>1997</td>\n",
       "        </tr>\n",
       "        <tr>\n",
       "            <td>5        </td> <td>The Ten Commandments            </td> <td>Paramount      </td> <td>65500000 </td> <td>1164590000      </td> <td>1956</td>\n",
       "        </tr>\n",
       "        <tr>\n",
       "            <td>6        </td> <td>Jaws                            </td> <td>Universal      </td> <td>260000000</td> <td>1138620700      </td> <td>1975</td>\n",
       "        </tr>\n",
       "        <tr>\n",
       "            <td>7        </td> <td>Doctor Zhivago                  </td> <td>MGM            </td> <td>111721910</td> <td>1103564200      </td> <td>1965</td>\n",
       "        </tr>\n",
       "        <tr>\n",
       "            <td>8        </td> <td>The Exorcist                    </td> <td>Warner Brothers</td> <td>232906145</td> <td>983226600       </td> <td>1973</td>\n",
       "        </tr>\n",
       "        <tr>\n",
       "            <td>9        </td> <td>Snow White and the Seven Dwarves</td> <td>Disney         </td> <td>184925486</td> <td>969010000       </td> <td>1937</td>\n",
       "        </tr>\n",
       "    </tbody>\n",
       "</table>\n",
       "<p>... (190 rows omitted)</p>"
      ],
      "text/plain": [
       "Row Index | Title                            | Studio          | Gross     | Gross (Adjusted) | Year\n",
       "0         | Gone with the Wind               | MGM             | 198676459 | 1796176700       | 1939\n",
       "1         | Star Wars                        | Fox             | 460998007 | 1583483200       | 1977\n",
       "2         | The Sound of Music               | Fox             | 158671368 | 1266072700       | 1965\n",
       "3         | E.T.: The Extra-Terrestrial      | Universal       | 435110554 | 1261085000       | 1982\n",
       "4         | Titanic                          | Paramount       | 658672302 | 1204368000       | 1997\n",
       "5         | The Ten Commandments             | Paramount       | 65500000  | 1164590000       | 1956\n",
       "6         | Jaws                             | Universal       | 260000000 | 1138620700       | 1975\n",
       "7         | Doctor Zhivago                   | MGM             | 111721910 | 1103564200       | 1965\n",
       "8         | The Exorcist                     | Warner Brothers | 232906145 | 983226600        | 1973\n",
       "9         | Snow White and the Seven Dwarves | Disney          | 184925486 | 969010000        | 1937\n",
       "... (190 rows omitted)"
      ]
     },
     "execution_count": 8,
     "metadata": {},
     "output_type": "execute_result"
    }
   ],
   "source": [
    "##### Table.move_to_start(column_label): Move a column to be the first column.\n",
    "##### https://www.data8.org/datascience/tables.html\n",
    "top = top2.move_to_start('Row Index')\n",
    "top"
   ]
  },
  {
   "cell_type": "markdown",
   "id": "785b5a1e-4062-4e8e-b06d-b810c8cfc64e",
   "metadata": {},
   "source": [
    "## Sampling Rows of a Table\n",
    "\n",
    "- each row is a movie\n",
    "- sampling rows == sampling movies\n",
    "- columns (labels) are values of variables (attributes, measures)"
   ]
  },
  {
   "cell_type": "markdown",
   "id": "e358ba86-f4fe-48d2-96ed-842a799c6196",
   "metadata": {},
   "source": [
    "## Deterministic Samples\n",
    "\n",
    "\n",
    "- \"deterministic samples\" are sample selection without chance/randomness/probability\n",
    "- deterministic samples are not random samples."
   ]
  },
  {
   "cell_type": "code",
   "execution_count": 9,
   "id": "1339d646-2556-4d1a-89e0-c1018942192c",
   "metadata": {},
   "outputs": [
    {
     "data": {
      "text/html": [
       "<table border=\"1\" class=\"dataframe\">\n",
       "    <thead>\n",
       "        <tr>\n",
       "            <th>Row Index</th> <th>Title</th> <th>Studio</th> <th>Gross</th> <th>Gross (Adjusted)</th> <th>Year</th>\n",
       "        </tr>\n",
       "    </thead>\n",
       "    <tbody>\n",
       "        <tr>\n",
       "            <td>3        </td> <td>E.T.: The Extra-Terrestrial</td> <td>Universal  </td> <td>435110554</td> <td>1261085000      </td> <td>1982</td>\n",
       "        </tr>\n",
       "        <tr>\n",
       "            <td>18       </td> <td>The Lion King              </td> <td>Buena Vista</td> <td>422783777</td> <td>792511700       </td> <td>1994</td>\n",
       "        </tr>\n",
       "        <tr>\n",
       "            <td>100      </td> <td>The Hunger Games           </td> <td>Lionsgate  </td> <td>408010692</td> <td>452174400       </td> <td>2012</td>\n",
       "        </tr>\n",
       "    </tbody>\n",
       "</table>"
      ],
      "text/plain": [
       "Row Index | Title                       | Studio      | Gross     | Gross (Adjusted) | Year\n",
       "3         | E.T.: The Extra-Terrestrial | Universal   | 435110554 | 1261085000       | 1982\n",
       "18        | The Lion King               | Buena Vista | 422783777 | 792511700        | 1994\n",
       "100       | The Hunger Games            | Lionsgate   | 408010692 | 452174400        | 2012"
      ]
     },
     "execution_count": 9,
     "metadata": {},
     "output_type": "execute_result"
    }
   ],
   "source": [
    "##### for example, you may use the \"take\" method/function of np: https://www.data8.org/su21/python-reference.html\n",
    "##### first seen in 6.2: tables https://inferentialthinking.com/chapters/06/2/Selecting_Rows.html\n",
    "##### tbl.take() takes indices of array or integer; e.g., take(:INTEGER) or take(np.arange()) or take(make_array(INTEGERS))\n",
    "##### we arbitarily choose 3 rows\n",
    "top.take(make_array(3, 18, 100))   ### row 3, 18, 100\n",
    "# top.take(np.arange(0, 3))        ### this gives the first 3 rows"
   ]
  },
  {
   "cell_type": "code",
   "execution_count": 11,
   "id": "92a14acc-a299-4fad-9456-db91da380f6b",
   "metadata": {},
   "outputs": [
    {
     "data": {
      "text/html": [
       "<table border=\"1\" class=\"dataframe\">\n",
       "    <thead>\n",
       "        <tr>\n",
       "            <th>Row Index</th> <th>Title</th> <th>Studio</th> <th>Gross</th> <th>Gross (Adjusted)</th> <th>Year</th>\n",
       "        </tr>\n",
       "    </thead>\n",
       "    <tbody>\n",
       "        <tr>\n",
       "            <td>74       </td> <td>Harry Potter and the Sorcerer's Stone      </td> <td>Warner Brothers</td> <td>317575550</td> <td>497066400       </td> <td>2001</td>\n",
       "        </tr>\n",
       "        <tr>\n",
       "            <td>114      </td> <td>Harry Potter and the Deathly Hallows Part 2</td> <td>Warner Brothers</td> <td>381011219</td> <td>426630300       </td> <td>2011</td>\n",
       "        </tr>\n",
       "        <tr>\n",
       "            <td>131      </td> <td>Harry Potter and the Goblet of Fire        </td> <td>Warner Brothers</td> <td>290013036</td> <td>401608200       </td> <td>2005</td>\n",
       "        </tr>\n",
       "        <tr>\n",
       "            <td>133      </td> <td>Harry Potter and the Chamber of Secrets    </td> <td>Warner Brothers</td> <td>261988482</td> <td>399302200       </td> <td>2002</td>\n",
       "        </tr>\n",
       "        <tr>\n",
       "            <td>154      </td> <td>Harry Potter and the Order of the Phoenix  </td> <td>Warner Brothers</td> <td>292004738</td> <td>377314200       </td> <td>2007</td>\n",
       "        </tr>\n",
       "        <tr>\n",
       "            <td>175      </td> <td>Harry Potter and the Half-Blood Prince     </td> <td>Warner Brothers</td> <td>301959197</td> <td>359788300       </td> <td>2009</td>\n",
       "        </tr>\n",
       "        <tr>\n",
       "            <td>177      </td> <td>Harry Potter and the Prisoner of Azkaban   </td> <td>Warner Brothers</td> <td>249541069</td> <td>357233500       </td> <td>2004</td>\n",
       "        </tr>\n",
       "    </tbody>\n",
       "</table>"
      ],
      "text/plain": [
       "Row Index | Title                                       | Studio          | Gross     | Gross (Adjusted) | Year\n",
       "74        | Harry Potter and the Sorcerer's Stone       | Warner Brothers | 317575550 | 497066400        | 2001\n",
       "114       | Harry Potter and the Deathly Hallows Part 2 | Warner Brothers | 381011219 | 426630300        | 2011\n",
       "131       | Harry Potter and the Goblet of Fire         | Warner Brothers | 290013036 | 401608200        | 2005\n",
       "133       | Harry Potter and the Chamber of Secrets     | Warner Brothers | 261988482 | 399302200        | 2002\n",
       "154       | Harry Potter and the Order of the Phoenix   | Warner Brothers | 292004738 | 377314200        | 2007\n",
       "175       | Harry Potter and the Half-Blood Prince      | Warner Brothers | 301959197 | 359788300        | 2009\n",
       "177       | Harry Potter and the Prisoner of Azkaban    | Warner Brothers | 249541069 | 357233500        | 2004"
      ]
     },
     "execution_count": 11,
     "metadata": {},
     "output_type": "execute_result"
    }
   ],
   "source": [
    "##### or, use where()\n",
    "top\n",
    "top.where('Title', are.containing('Harry'))   ### missing 2010 Harry Potter and the Deathly Hallows: Part 1\n"
   ]
  },
  {
   "cell_type": "markdown",
   "id": "34071784-bf82-4f2d-95bd-178b0e87d2cc",
   "metadata": {},
   "source": [
    "## Probability Samples\n",
    "\n",
    "- **population**: the set of all elements from whom a sample will be drawn\n",
    "- **probability sample**: one for which it is possible to calculate, before the sample is drawn, the chance with which any subset of elements will enter the sample\n",
    "- **is probability sampling random sampling?**\n",
    "  - samples are selected using a random selection based on a probability theory.\n",
    "  - samples in the population has a known (may not be equal) chance of getting selected.\n",
    "- types of probability sampling:\n",
    "  - simple random sampling (SRS)\n",
    "  - stratified random sampling (the population is divided into homogeneous, mutually exclusive groups called strata, and then independent samples are selected from each stratum.)\n",
    "  - cluster sampling (divide population into clusters/groups; randomly select the clusters and include all members in the clusters chosen)\n",
    "  - systematic sampling (e.g., every Kth sample)"
   ]
  },
  {
   "attachments": {},
   "cell_type": "markdown",
   "id": "6682d252-9e0d-448a-a538-b7b851313546",
   "metadata": {},
   "source": [
    "## A Random Sampling Scheme\n",
    "\n",
    "Example of sampling 2 from a population of 3: A, B, & C, following the scheme of:\n",
    "\n",
    "- Person A is chosen with probability 1.\n",
    "- One of Persons B or C is chosen according to the toss of a coin: if the coin lands heads, you choose B, and if it lands tails you choose C.\n",
    "\n",
    "The difference in the probability of being chosen are known and quantified and therefore taken into account."
   ]
  },
  {
   "cell_type": "markdown",
   "id": "48b9d727-8246-4329-8cac-d66e2f8da9f3",
   "metadata": {},
   "source": [
    "## A Systematic Sample\n",
    "(every Kth sample)"
   ]
  },
  {
   "cell_type": "code",
   "execution_count": 23,
   "id": "a758904c-9130-4357-a839-04d711db11ea",
   "metadata": {},
   "outputs": [
    {
     "data": {
      "text/plain": [
       "9"
      ]
     },
     "execution_count": 23,
     "metadata": {},
     "output_type": "execute_result"
    }
   ],
   "source": [
    "##### Choose a random start among rows 0 through 9; then take every 10th row.\n",
    "start = np.random.choice(np.arange(10))   ### range is 0 to 9 inclusive; choose one randomly each time\n",
    "start"
   ]
  },
  {
   "cell_type": "code",
   "execution_count": 27,
   "id": "d902efb3-137d-407b-99f8-0f8e10c5970d",
   "metadata": {},
   "outputs": [
    {
     "data": {
      "text/html": [
       "<table border=\"1\" class=\"dataframe\">\n",
       "    <thead>\n",
       "        <tr>\n",
       "            <th>Row Index</th> <th>Title</th> <th>Studio</th> <th>Gross</th> <th>Gross (Adjusted)</th> <th>Year</th>\n",
       "        </tr>\n",
       "    </thead>\n",
       "    <tbody>\n",
       "        <tr>\n",
       "            <td>9        </td> <td>Snow White and the Seven Dwarves</td> <td>Disney        </td> <td>184925486</td> <td>969010000       </td> <td>1937</td>\n",
       "        </tr>\n",
       "        <tr>\n",
       "            <td>19       </td> <td>The Sting                       </td> <td>Universal     </td> <td>156000000</td> <td>792480000       </td> <td>1973</td>\n",
       "        </tr>\n",
       "        <tr>\n",
       "            <td>29       </td> <td>Thunderball                     </td> <td>United Artists</td> <td>63595658 </td> <td>664972000       </td> <td>1965</td>\n",
       "        </tr>\n",
       "        <tr>\n",
       "            <td>39       </td> <td>Home Alone                      </td> <td>Fox           </td> <td>285761243</td> <td>602157000       </td> <td>1990</td>\n",
       "        </tr>\n",
       "        <tr>\n",
       "            <td>49       </td> <td>Bambi                           </td> <td>RKO           </td> <td>102247150</td> <td>566403700       </td> <td>1942</td>\n",
       "        </tr>\n",
       "        <tr>\n",
       "            <td>59       </td> <td>The Greatest Showman on Earth   </td> <td>Paramount     </td> <td>36000000 </td> <td>533400000       </td> <td>1952</td>\n",
       "        </tr>\n",
       "        <tr>\n",
       "            <td>69       </td> <td>Tootsie                         </td> <td>Columbia      </td> <td>177200000</td> <td>505876000       </td> <td>1982</td>\n",
       "        </tr>\n",
       "        <tr>\n",
       "            <td>79       </td> <td>Rocky                           </td> <td>United Artists</td> <td>117235147</td> <td>489305400       </td> <td>1976</td>\n",
       "        </tr>\n",
       "        <tr>\n",
       "            <td>89       </td> <td>One Flew Over the Cuckoo's Nest </td> <td>United Artists</td> <td>108981275</td> <td>477262800       </td> <td>1975</td>\n",
       "        </tr>\n",
       "        <tr>\n",
       "            <td>99       </td> <td>Duel in the Sun                 </td> <td>Selz.         </td> <td>20408163 </td> <td>453571400       </td> <td>1946</td>\n",
       "        </tr>\n",
       "    </tbody>\n",
       "</table>\n",
       "<p>... (10 rows omitted)</p>"
      ],
      "text/plain": [
       "Row Index | Title                            | Studio         | Gross     | Gross (Adjusted) | Year\n",
       "9         | Snow White and the Seven Dwarves | Disney         | 184925486 | 969010000        | 1937\n",
       "19        | The Sting                        | Universal      | 156000000 | 792480000        | 1973\n",
       "29        | Thunderball                      | United Artists | 63595658  | 664972000        | 1965\n",
       "39        | Home Alone                       | Fox            | 285761243 | 602157000        | 1990\n",
       "49        | Bambi                            | RKO            | 102247150 | 566403700        | 1942\n",
       "59        | The Greatest Showman on Earth    | Paramount      | 36000000  | 533400000        | 1952\n",
       "69        | Tootsie                          | Columbia       | 177200000 | 505876000        | 1982\n",
       "79        | Rocky                            | United Artists | 117235147 | 489305400        | 1976\n",
       "89        | One Flew Over the Cuckoo's Nest  | United Artists | 108981275 | 477262800        | 1975\n",
       "99        | Duel in the Sun                  | Selz.          | 20408163  | 453571400        | 1946\n",
       "... (10 rows omitted)"
      ]
     },
     "execution_count": 27,
     "metadata": {},
     "output_type": "execute_result"
    }
   ],
   "source": [
    "##### apply the \n",
    "top.take(np.arange(start, top.num_rows, 10))\n",
    "\n",
    "##### stepping (K-th) is clearly seen\n",
    "##### this is a probability sampling, \"random selection based on a probability theory\""
   ]
  },
  {
   "cell_type": "markdown",
   "id": "ed72d3c1-e384-497d-aa1b-14aa6dd15d1b",
   "metadata": {},
   "source": [
    "## Random Samples Drawn With or Without Replacement\n",
    "\n",
    "Two sampling methods used in this course:\n",
    "- random sampling **with replacement** (default behavior of np,.,random.choice())\n",
    "- simple random sample (SRS) **without replacement**\n",
    "\n",
    "\n",
    "np.random.choice(): https://www.data8.org/su21/python-reference.html\n",
    "- np.random.choice(array, n) \n",
    "- np.random.choice(array) \n",
    "- np.random.choice(array, n, replace)"
   ]
  },
  {
   "cell_type": "markdown",
   "id": "21b2a784-6d85-4431-9a3b-092f071e922b",
   "metadata": {},
   "source": [
    "## Convenience Samples\n",
    "\n",
    "Not random sampling but \"*sample of convenience*\""
   ]
  },
  {
   "cell_type": "code",
   "execution_count": null,
   "id": "b299426a-fd9b-44b0-a431-8bea102aa84d",
   "metadata": {},
   "outputs": [],
   "source": []
  }
 ],
 "metadata": {
  "kernelspec": {
   "display_name": "Python 3 (ipykernel)",
   "language": "python",
   "name": "python3"
  },
  "language_info": {
   "codemirror_mode": {
    "name": "ipython",
    "version": 3
   },
   "file_extension": ".py",
   "mimetype": "text/x-python",
   "name": "python",
   "nbconvert_exporter": "python",
   "pygments_lexer": "ipython3",
   "version": "3.12.2"
  }
 },
 "nbformat": 4,
 "nbformat_minor": 5
}
