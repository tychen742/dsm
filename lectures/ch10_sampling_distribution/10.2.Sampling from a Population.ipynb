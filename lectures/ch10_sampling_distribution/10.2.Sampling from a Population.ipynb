{
 "cells": [
  {
   "cell_type": "markdown",
   "id": "826a649b-c6f5-4f46-84a8-17601b317924",
   "metadata": {},
   "source": [
    "# 10.2. Sampling from a Population\n",
    "\n",
    "- The law of averages also holds when the random sample is drawn from individuals in a large population."
   ]
  },
  {
   "cell_type": "code",
   "execution_count": null,
   "id": "c4bc28dd-1b17-465b-8773-f44229bf2920",
   "metadata": {},
   "outputs": [],
   "source": [
    "from datascience import *\n",
    "path_data = '../../data/'     ### trailing / required\n",
    "united = Table.read_table(path_data + 'united_summer2015.csv')\n",
    "\n",
    "united\n",
    "# united.show(5)\n"
   ]
  },
  {
   "cell_type": "code",
   "execution_count": null,
   "id": "47e69cb8-fb36-4248-ade9-66b5c6ce9952",
   "metadata": {},
   "outputs": [],
   "source": [
    "united.column('Delay').min()"
   ]
  },
  {
   "cell_type": "code",
   "execution_count": null,
   "id": "379ecf65-d59c-4d3d-b790-ef5060ad7605",
   "metadata": {},
   "outputs": [],
   "source": [
    "united.column('Delay').max()"
   ]
  },
  {
   "cell_type": "code",
   "execution_count": null,
   "id": "f1fdb1ab-83df-4bd2-8bcf-4724dad810ad",
   "metadata": {},
   "outputs": [],
   "source": [
    "##### what do we need max and min for? bins!\n",
    "\n",
    "import numpy as np\n",
    "\n",
    "### arange: START, STOP, STEP\n",
    "### append: numpy.append(arr, values, axis=None)\n",
    "delay_bins = np.append(np.arange(-20, 301, 10), 600)\n",
    "delay_bins"
   ]
  },
  {
   "cell_type": "code",
   "execution_count": null,
   "id": "58e06cf9-2bb3-4179-9e3a-54efdf3cae9a",
   "metadata": {},
   "outputs": [],
   "source": [
    "#####\n",
    "\n",
    "%matplotlib inline\n",
    "\n",
    "united.hist('Delay', bins = delay_bins, unit = 'minute')"
   ]
  },
  {
   "cell_type": "code",
   "execution_count": null,
   "id": "06af1c5e-09f3-4fea-af4e-1bd2c501c9c9",
   "metadata": {},
   "outputs": [],
   "source": [
    "### delay for more than 200 minutes ==> less than 1 percent\n",
    "\n",
    "united.where('Delay', are.above(200)).num_rows/united.num_rows"
   ]
  },
  {
   "cell_type": "code",
   "execution_count": null,
   "id": "1425f9fb-41ad-4537-a6ef-fe9079ff67ff",
   "metadata": {},
   "outputs": [],
   "source": [
    "delay_bins = np.arange(-20, 201, 10)\n",
    "united.hist('Delay', bins = delay_bins, unit='minute')\n",
    "\n",
    "##### The height of the [0, 10) bar is just under 3% per minute"
   ]
  },
  {
   "cell_type": "code",
   "execution_count": null,
   "id": "22a20310-e118-4ddf-aa85-46ce04e18eeb",
   "metadata": {},
   "outputs": [],
   "source": [
    "##### confirm the 3%\n",
    "\n",
    "united.where('Delay', are.between(0, 10)).num_rows/united.num_rows"
   ]
  },
  {
   "cell_type": "markdown",
   "id": "28376e42-2629-4373-9305-0e6b7d7b2c65",
   "metadata": {},
   "source": [
    "## 10.2.1. Empirical Distribution of the Sample\n",
    "\n",
    "- think of the 13,825 flights as a population\n",
    "- use table.sample"
   ]
  },
  {
   "cell_type": "code",
   "execution_count": null,
   "id": "2b17251a-ab7e-4966-8385-2846cb0c14f4",
   "metadata": {},
   "outputs": [],
   "source": [
    "def empirical_hist_delay(n):\n",
    "    united.sample(n).hist('Delay', bins = delay_bins, unit = 'minute')"
   ]
  },
  {
   "cell_type": "code",
   "execution_count": null,
   "id": "3fdb4874-d4f6-425a-aa9a-4ca0887c0e97",
   "metadata": {},
   "outputs": [],
   "source": [
    "empirical_hist_delay(10)"
   ]
  },
  {
   "cell_type": "code",
   "execution_count": null,
   "id": "3467094a-35e0-4f1f-9ff5-5089a38163e4",
   "metadata": {},
   "outputs": [],
   "source": [
    "empirical_hist_delay(100)"
   ]
  },
  {
   "cell_type": "code",
   "execution_count": null,
   "id": "2155bb7a-32b4-48bb-a538-e348ae9d3089",
   "metadata": {},
   "outputs": [],
   "source": [
    "empirical_hist_delay(1000)"
   ]
  },
  {
   "cell_type": "markdown",
   "id": "aaf5d5a2-ec74-4032-815a-2ea327ae8cf8",
   "metadata": {},
   "source": [
    "## 10.2.2. Convergence of the Empirical Histogram of the Sample\n",
    "\n",
    "### large random sample is likely to resemble the population from which it is drawn"
   ]
  },
  {
   "cell_type": "code",
   "execution_count": null,
   "id": "b78f3bdb-aebd-45cf-b2dd-e9d92a1b10f4",
   "metadata": {},
   "outputs": [],
   "source": []
  }
 ],
 "metadata": {
  "kernelspec": {
   "display_name": "Python 3 (ipykernel)",
   "language": "python",
   "name": "python3"
  },
  "language_info": {
   "codemirror_mode": {
    "name": "ipython",
    "version": 3
   },
   "file_extension": ".py",
   "mimetype": "text/x-python",
   "name": "python",
   "nbconvert_exporter": "python",
   "pygments_lexer": "ipython3",
   "version": "3.12.2"
  }
 },
 "nbformat": 4,
 "nbformat_minor": 5
}
