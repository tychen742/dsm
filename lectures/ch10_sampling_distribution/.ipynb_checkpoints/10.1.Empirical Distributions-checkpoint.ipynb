{
 "cells": [
  {
   "cell_type": "markdown",
   "id": "7060c154-37d3-42c2-ad98-890586c2d3b2",
   "metadata": {},
   "source": [
    "# 10.1. Empirical Distributions\n",
    "\n",
    "- “empirical” means “observed”\n",
    "- Empirical distributions are distributions of observed data, such as data in random samples.\n",
    "\n",
    "### Scenario: simple experiment; rolling a die multiple times and keeping track of which face appears"
   ]
  },
  {
   "cell_type": "code",
   "execution_count": 1,
   "id": "fc7ce345-c5d6-4c04-9fbb-4c06d9843745",
   "metadata": {},
   "outputs": [],
   "source": [
    "from datascience import *\n",
    "import numpy as np\n",
    "import matplotlib.pyplot as plt \n",
    "%matplotlib inline"
   ]
  },
  {
   "cell_type": "code",
   "execution_count": 9,
   "id": "325a31a3-57bf-4b99-95d1-02dc0974473e",
   "metadata": {},
   "outputs": [
    {
     "data": {
      "text/html": [
       "<table border=\"1\" class=\"dataframe\">\n",
       "    <thead>\n",
       "        <tr>\n",
       "            <th>Face</th>\n",
       "        </tr>\n",
       "    </thead>\n",
       "    <tbody>\n",
       "        <tr>\n",
       "            <td>1   </td>\n",
       "        </tr>\n",
       "        <tr>\n",
       "            <td>2   </td>\n",
       "        </tr>\n",
       "        <tr>\n",
       "            <td>3   </td>\n",
       "        </tr>\n",
       "        <tr>\n",
       "            <td>4   </td>\n",
       "        </tr>\n",
       "        <tr>\n",
       "            <td>5   </td>\n",
       "        </tr>\n",
       "        <tr>\n",
       "            <td>6   </td>\n",
       "        </tr>\n",
       "    </tbody>\n",
       "</table>"
      ],
      "text/plain": [
       "Face\n",
       "1\n",
       "2\n",
       "3\n",
       "4\n",
       "5\n",
       "6"
      ]
     },
     "execution_count": 9,
     "metadata": {},
     "output_type": "execute_result"
    }
   ],
   "source": [
    "##### numpy.arange() parameters: start, stop, step \n",
    "##### https://numpy.org/doc/stable/reference/generated/numpy.arange.html\n",
    "\n",
    "# die = Table().with_column('Face', np.arange(1, 7, 1))\n",
    "# type(die.select('Face'))\n",
    "\n",
    "# die = Table().with_column(\n",
    "#     'Face', [1, 2, 3, 4, 5, 6])   ### works but verbose\n",
    "\n",
    "die = Table().with_column(\n",
    "    'Face', np.arange(1,7))\n",
    "die"
   ]
  },
  {
   "cell_type": "markdown",
   "id": "3ee5f5cf-5d8a-41a2-a32e-4701c94dda9a",
   "metadata": {},
   "source": [
    "### 10.11.1 below is a probability distribution"
   ]
  },
  {
   "cell_type": "code",
   "execution_count": 10,
   "id": "7e4f2e1e-3572-49c1-9f6d-7754f39ccb8a",
   "metadata": {},
   "outputs": [
    {
     "data": {
      "image/png": "[encoded data removed]",
      "text/plain": [
       "<Figure size 600x400 with 1 Axes>"
      ]
     },
     "metadata": {},
     "output_type": "display_data"
    }
   ],
   "source": [
    "##### distribution of probabilities over all the possible faces\n",
    "die_bins = np.arange(0.5, 6.6, 1)\n",
    "die.hist(bins = die_bins)\n",
    "\n",
    "### bins: "
   ]
  },
  {
   "cell_type": "markdown",
   "id": "03812422-1c75-4703-b39d-1d89b0fbc678",
   "metadata": {},
   "source": [
    "## 10.1.2. Empirical Distributions\n",
    "\n",
    "- observed data\n",
    "- We don't have data, so we will simulate some\n",
    "- We have used np.random.choice for simulation, now let us use a Tble method called sample. "
   ]
  },
  {
   "cell_type": "code",
   "execution_count": null,
   "id": "d89ae379-aa5c-4b02-b11a-f65bd3430f6f",
   "metadata": {},
   "outputs": [],
   "source": [
    "##### Table.sample([k, with_replacement, weights])\n",
    "##### Return a new table where k rows are randomly sampled from the original table.\n",
    "##### replacement good for die-rolling?\n",
    "\n",
    "die.sample(10)\n",
    "die.sample(10)[0]\n",
    "##### note that this is a table."
   ]
  },
  {
   "cell_type": "code",
   "execution_count": null,
   "id": "a59ea219-d8f8-4887-9c0f-539d2c2c14b7",
   "metadata": {},
   "outputs": [],
   "source": [
    "##### define a function\n",
    "\n",
    "def empirical_hist(n):\n",
    "    die.sample(n).hist(bins = die_bins)"
   ]
  },
  {
   "cell_type": "code",
   "execution_count": null,
   "id": "8bb12bf5-ff76-48d4-a1cb-1990a53d568d",
   "metadata": {},
   "outputs": [],
   "source": [
    "### do it 10 times\n",
    "empirical_hist(10)"
   ]
  },
  {
   "cell_type": "code",
   "execution_count": null,
   "id": "6119be20-7813-403b-99cf-49cb5185f104",
   "metadata": {},
   "outputs": [],
   "source": [
    "### do it 100 times\n",
    "empirical_hist(100)"
   ]
  },
  {
   "cell_type": "code",
   "execution_count": null,
   "id": "5d922171-6e71-4951-af3e-8906a3d97a90",
   "metadata": {},
   "outputs": [],
   "source": [
    "### do it 1000 times\n",
    "empirical_hist(1000)"
   ]
  },
  {
   "cell_type": "code",
   "execution_count": null,
   "id": "68b524e5-10c7-4455-861f-6c5e4ba3e9e0",
   "metadata": {},
   "outputs": [],
   "source": [
    "##### do it 10,000 times\n",
    "empirical_hist(100000000)"
   ]
  },
  {
   "cell_type": "code",
   "execution_count": null,
   "id": "210e5653-8b10-4703-af52-ceac07412cdb",
   "metadata": {},
   "outputs": [],
   "source": [
    "##### ==> the area of each bar gets closer to 16.67%"
   ]
  },
  {
   "cell_type": "markdown",
   "id": "90cfd823-e7b3-420f-a56b-b994191500fc",
   "metadata": {},
   "source": [
    "## 10.1.4. The Law of Averages\n",
    "\n",
    "### empirical distribution (experiment) ==> probability distribution (theoretical probability)"
   ]
  },
  {
   "cell_type": "code",
   "execution_count": null,
   "id": "186ce41d-2083-4ce6-a109-4d8d973a7973",
   "metadata": {},
   "outputs": [],
   "source": []
  },
  {
   "cell_type": "code",
   "execution_count": null,
   "id": "91ee315d-51a3-454b-bfd9-26d6a10893b4",
   "metadata": {},
   "outputs": [],
   "source": []
  }
 ],
 "metadata": {
  "kernelspec": {
   "display_name": "Python 3 (ipykernel)",
   "language": "python",
   "name": "python3"
  },
  "language_info": {
   "codemirror_mode": {
    "name": "ipython",
    "version": 3
   },
   "file_extension": ".py",
   "mimetype": "text/x-python",
   "name": "python",
   "nbconvert_exporter": "python",
   "pygments_lexer": "ipython3",
   "version": "3.12.4"
  }
 },
 "nbformat": 4,
 "nbformat_minor": 5
}
