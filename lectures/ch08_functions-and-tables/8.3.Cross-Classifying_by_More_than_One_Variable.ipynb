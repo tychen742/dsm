{
 "cells": [
  {
   "cell_type": "markdown",
   "metadata": {},
   "source": [
    "# Cross-Classifying by More than One Variable\n",
    "\n",
    "When individuals have multiple features, there are many different ways to classify them. For example, if we have a population of college students for each of whom we have recorded a major and the number of years in college, then the students could be classified by major, or by year, or by a combination of major and year.\n",
    "\n",
    "The `group` method also allows us to classify individuals according to multiple variables. This is called *cross-classifying*."
   ]
  },
  {
   "cell_type": "code",
<<<<<<< HEAD
   "execution_count": 2,
=======
   "execution_count": 12,
>>>>>>> 81804183 (committed @ 2025-0505-145457)
   "metadata": {
    "tags": [
     "remove-input"
    ]
   },
   "outputs": [],
   "source": [
    "from datascience import *\n",
    "path_data = '../../../assets/data/'\n",
    "import numpy as np\n",
    "\n",
    "import matplotlib\n",
    "matplotlib.use('Agg')\n",
    "%matplotlib inline\n",
    "import matplotlib.pyplot as plots\n",
    "plots.style.use('fivethirtyeight')\n",
    "\n",
    "##### header #####\n",
    "# %pip install datascience           ### comment out when done\n",
    "from datascience import Table        ### This works \n",
    "from datascience.predicates import are\n",
    "from datascience import *          ### This works but is in general discouraged BUT used here\n",
    "# import datascience                 ### This does not give us Table\n",
    "\n",
    "import numpy as np"
   ]
  },
  {
   "cell_type": "markdown",
   "metadata": {},
   "source": [
<<<<<<< HEAD
    "# 8.3. Cross-Classifying by More than One Variable\n",
    "\n",
    "When individuals have multiple features, there are many different ways to classify them. For example, if we have a population of college students for each of whom we have recorded a major and the number of years in college, then the students could be classified by major, or by year, or by a combination of major and year.\n",
    "\n",
    "The `group` method also allows us to classify individuals according to multiple variables. This is called *cross-classifying*."
   ]
  },
  {
   "cell_type": "markdown",
   "metadata": {},
   "source": [
=======
>>>>>>> 81804183 (committed @ 2025-0505-145457)
    "## 8.3.1. Two Variables: Counting the Number in Each Paired Category\n",
    "The table `more_cones` records the flavor, color, and price of six ice cream cones."
   ]
  },
  {
   "cell_type": "code",
   "execution_count": 3,
   "metadata": {},
   "outputs": [
    {
     "data": {
      "text/html": [
       "<table border=\"1\" class=\"dataframe\">\n",
       "    <thead>\n",
       "        <tr>\n",
       "            <th>Flavor</th> <th>Color</th> <th>Price</th>\n",
       "        </tr>\n",
       "    </thead>\n",
       "    <tbody>\n",
       "        <tr>\n",
       "            <td>strawberry</td> <td>pink       </td> <td>3.55 </td>\n",
       "        </tr>\n",
       "        <tr>\n",
       "            <td>chocolate </td> <td>light brown</td> <td>4.75 </td>\n",
       "        </tr>\n",
       "        <tr>\n",
       "            <td>chocolate </td> <td>dark brown </td> <td>5.25 </td>\n",
       "        </tr>\n",
       "        <tr>\n",
       "            <td>strawberry</td> <td>pink       </td> <td>5.25 </td>\n",
       "        </tr>\n",
       "        <tr>\n",
       "            <td>chocolate </td> <td>dark brown </td> <td>5.25 </td>\n",
       "        </tr>\n",
       "        <tr>\n",
       "            <td>bubblegum </td> <td>pink       </td> <td>4.75 </td>\n",
       "        </tr>\n",
       "    </tbody>\n",
       "</table>"
      ],
      "text/plain": [
       "Flavor     | Color       | Price\n",
       "strawberry | pink        | 3.55\n",
       "chocolate  | light brown | 4.75\n",
       "chocolate  | dark brown  | 5.25\n",
       "strawberry | pink        | 5.25\n",
       "chocolate  | dark brown  | 5.25\n",
       "bubblegum  | pink        | 4.75"
      ]
     },
     "execution_count": 3,
     "metadata": {},
     "output_type": "execute_result"
    }
   ],
   "source": [
    "##### table: more_cones\n",
    "\n",
    "more_cones = Table().with_columns(\n",
    "    'Flavor', make_array('strawberry', 'chocolate', 'chocolate', 'strawberry', 'chocolate', 'bubblegum'),\n",
    "    'Color', make_array('pink', 'light brown', 'dark brown', 'pink', 'dark brown', 'pink'),\n",
    "    'Price', make_array(3.55, 4.75, 5.25, 5.25, 5.25, 4.75)\n",
    ")\n",
    "\n",
    "more_cones"
   ]
  },
  {
   "cell_type": "markdown",
   "metadata": {},
   "source": [
    "We know how to use `group` to count the number of cones of each flavor:"
   ]
  },
  {
   "cell_type": "code",
   "execution_count": 4,
   "metadata": {},
   "outputs": [
    {
     "data": {
      "text/html": [
       "<table border=\"1\" class=\"dataframe\">\n",
       "    <thead>\n",
       "        <tr>\n",
       "            <th>Flavor</th> <th>count</th>\n",
       "        </tr>\n",
       "    </thead>\n",
       "    <tbody>\n",
       "        <tr>\n",
       "            <td>bubblegum </td> <td>1    </td>\n",
       "        </tr>\n",
       "        <tr>\n",
       "            <td>chocolate </td> <td>3    </td>\n",
       "        </tr>\n",
       "        <tr>\n",
       "            <td>strawberry</td> <td>2    </td>\n",
       "        </tr>\n",
       "    </tbody>\n",
       "</table>"
      ],
      "text/plain": [
       "Flavor     | count\n",
       "bubblegum  | 1\n",
       "chocolate  | 3\n",
       "strawberry | 2"
      ]
     },
     "execution_count": 4,
     "metadata": {},
     "output_type": "execute_result"
    }
   ],
   "source": [
    "more_cones.group('Flavor')"
   ]
  },
  {
   "cell_type": "markdown",
   "metadata": {},
   "source": [
    "But now each cone has a color as well. \n",
    "- To classify the cones by both flavor and color, we will pass a list of labels as an argument to `group`.\n",
    "- The resulting table has one row for every *unique combination* of values that appear together in the grouped columns.\n",
    "- As before, a single argument (a list, in this case, but an array would work too) gives row counts."
   ]
  },
  {
   "cell_type": "markdown",
   "metadata": {},
   "source": [
    "Although there are six cones, there are only four unique combinations of flavor and color. Two of the cones were dark brown chocolate, and two pink strawberry."
   ]
  },
  {
   "cell_type": "code",
<<<<<<< HEAD
   "execution_count": 5,
=======
   "execution_count": 13,
>>>>>>> 81804183 (committed @ 2025-0505-145457)
   "metadata": {},
   "outputs": [
    {
     "data": {
      "text/html": [
       "<table border=\"1\" class=\"dataframe\">\n",
       "    <thead>\n",
       "        <tr>\n",
       "            <th>Flavor</th> <th>Color</th> <th>count</th>\n",
       "        </tr>\n",
       "    </thead>\n",
       "    <tbody>\n",
       "        <tr>\n",
       "            <td>bubblegum </td> <td>pink       </td> <td>1    </td>\n",
       "        </tr>\n",
       "        <tr>\n",
       "            <td>chocolate </td> <td>dark brown </td> <td>2    </td>\n",
       "        </tr>\n",
       "        <tr>\n",
       "            <td>chocolate </td> <td>light brown</td> <td>1    </td>\n",
       "        </tr>\n",
       "        <tr>\n",
       "            <td>strawberry</td> <td>pink       </td> <td>2    </td>\n",
       "        </tr>\n",
       "    </tbody>\n",
       "</table>"
      ],
      "text/plain": [
       "Flavor     | Color       | count\n",
       "bubblegum  | pink        | 1\n",
       "chocolate  | dark brown  | 2\n",
       "chocolate  | light brown | 1\n",
       "strawberry | pink        | 2"
      ]
     },
<<<<<<< HEAD
     "execution_count": 5,
=======
     "execution_count": 13,
>>>>>>> 81804183 (committed @ 2025-0505-145457)
     "metadata": {},
     "output_type": "execute_result"
    }
   ],
   "source": [
    "more_cones.group(['Flavor', 'Color'])"
   ]
  },
  {
   "cell_type": "markdown",
   "metadata": {},
   "source": [
    "## 8.3.2. Two Variables: Finding a Characteristic of Each Paired Category\n",
    "A second argument aggregates all other columns that are not in the list of grouped columns."
   ]
  },
  {
   "cell_type": "code",
<<<<<<< HEAD
   "execution_count": 11,
=======
   "execution_count": 15,
   "metadata": {},
   "outputs": [
    {
     "data": {
      "text/html": [
       "<table border=\"1\" class=\"dataframe\">\n",
       "    <thead>\n",
       "        <tr>\n",
       "            <th>Flavor</th> <th>Color</th> <th>Price</th> <th>some_stuff</th>\n",
       "        </tr>\n",
       "    </thead>\n",
       "    <tbody>\n",
       "        <tr>\n",
       "            <td>strawberry</td> <td>pink       </td> <td>3.55 </td> <td>10        </td>\n",
       "        </tr>\n",
       "        <tr>\n",
       "            <td>chocolate </td> <td>light brown</td> <td>4.75 </td> <td>10        </td>\n",
       "        </tr>\n",
       "        <tr>\n",
       "            <td>chocolate </td> <td>dark brown </td> <td>5.25 </td> <td>10        </td>\n",
       "        </tr>\n",
       "        <tr>\n",
       "            <td>strawberry</td> <td>pink       </td> <td>5.25 </td> <td>10        </td>\n",
       "        </tr>\n",
       "        <tr>\n",
       "            <td>chocolate </td> <td>dark brown </td> <td>5.25 </td> <td>10        </td>\n",
       "        </tr>\n",
       "        <tr>\n",
       "            <td>bubblegum </td> <td>pink       </td> <td>4.75 </td> <td>10        </td>\n",
       "        </tr>\n",
       "    </tbody>\n",
       "</table>"
      ],
      "text/plain": [
       "Flavor     | Color       | Price | some_stuff\n",
       "strawberry | pink        | 3.55  | 10\n",
       "chocolate  | light brown | 4.75  | 10\n",
       "chocolate  | dark brown  | 5.25  | 10\n",
       "strawberry | pink        | 5.25  | 10\n",
       "chocolate  | dark brown  | 5.25  | 10\n",
       "bubblegum  | pink        | 4.75  | 10"
      ]
     },
     "execution_count": 15,
     "metadata": {},
     "output_type": "execute_result"
    }
   ],
   "source": [
    "##### just a test\n",
    "more_cones.with_columns(\n",
    "\n",
    "'some_stuff', make_array(10,10,10,10,10,10) \n",
    "    \n",
    ")"
   ]
  },
  {
   "cell_type": "code",
   "execution_count": 16,
>>>>>>> 81804183 (committed @ 2025-0505-145457)
   "metadata": {},
   "outputs": [
    {
     "data": {
      "text/html": [
       "<table border=\"1\" class=\"dataframe\">\n",
       "    <thead>\n",
       "        <tr>\n",
       "            <th>Flavor</th> <th>Color</th> <th>Price sum</th>\n",
       "        </tr>\n",
       "    </thead>\n",
       "    <tbody>\n",
       "        <tr>\n",
       "            <td>bubblegum </td> <td>pink       </td> <td>4.75     </td>\n",
       "        </tr>\n",
       "        <tr>\n",
       "            <td>chocolate </td> <td>dark brown </td> <td>10.5     </td>\n",
       "        </tr>\n",
       "        <tr>\n",
       "            <td>chocolate </td> <td>light brown</td> <td>4.75     </td>\n",
       "        </tr>\n",
       "        <tr>\n",
       "            <td>strawberry</td> <td>pink       </td> <td>8.8      </td>\n",
       "        </tr>\n",
       "    </tbody>\n",
       "</table>"
      ],
      "text/plain": [
       "Flavor     | Color       | Price sum\n",
       "bubblegum  | pink        | 4.75\n",
       "chocolate  | dark brown  | 10.5\n",
       "chocolate  | light brown | 4.75\n",
       "strawberry | pink        | 8.8"
      ]
     },
<<<<<<< HEAD
     "execution_count": 11,
=======
     "execution_count": 16,
>>>>>>> 81804183 (committed @ 2025-0505-145457)
     "metadata": {},
     "output_type": "execute_result"
    }
   ],
   "source": [
    "##### a second argument: sum\n",
    "##### tbl.group(column_or_columns)\n",
    "##### tbl.group(column_or_columns, func) \n",
    "more_cones.group(['Flavor', 'Color'], sum)"
   ]
  },
  {
   "cell_type": "code",
   "execution_count": 17,
   "metadata": {},
   "outputs": [
    {
     "data": {
      "text/html": [
       "<table border=\"1\" class=\"dataframe\">\n",
       "    <thead>\n",
       "        <tr>\n",
       "            <th>Flavor</th> <th>count</th>\n",
       "        </tr>\n",
       "    </thead>\n",
       "    <tbody>\n",
       "        <tr>\n",
       "            <td>bubblegum </td> <td>1    </td>\n",
       "        </tr>\n",
       "        <tr>\n",
       "            <td>chocolate </td> <td>3    </td>\n",
       "        </tr>\n",
       "        <tr>\n",
       "            <td>strawberry</td> <td>2    </td>\n",
       "        </tr>\n",
       "    </tbody>\n",
       "</table>"
      ],
      "text/plain": [
       "Flavor     | count\n",
       "bubblegum  | 1\n",
       "chocolate  | 3\n",
       "strawberry | 2"
      ]
     },
     "execution_count": 17,
     "metadata": {},
     "output_type": "execute_result"
    }
   ],
   "source": [
    "more_cones.group('Flavor')"
   ]
  },
  {
   "cell_type": "markdown",
   "metadata": {},
   "source": [
    "**Three or More Variables.** You can use `group` to classify rows by three or more categorical variables. Just include them all in the list that is the first argument. But cross-classifying by multiple variables can become complex, as the number of distinct combinations of categories can be quite large. "
   ]
  },
  {
   "cell_type": "markdown",
   "metadata": {},
   "source": [
    "## 8.3.3. Pivot Tables: Rearranging the Output of `group`\n",
    "Many uses of cross-classification involve just two categorical variables, like `Flavor` and `Color` in the example above. In these cases it is possible to display the results of the classification in a different kind of table, called a *pivot table*. Pivot tables, also known as *contingency tables*, make it easier to work with data that have been classified according to two variables.\n",
    "\n",
    "Recall the use of `group` to count the number of cones in each paired category of flavor and color:"
   ]
  },
  {
   "cell_type": "code",
<<<<<<< HEAD
   "execution_count": 7,
=======
   "execution_count": 18,
>>>>>>> 81804183 (committed @ 2025-0505-145457)
   "metadata": {},
   "outputs": [
    {
     "data": {
      "text/html": [
       "<table border=\"1\" class=\"dataframe\">\n",
       "    <thead>\n",
       "        <tr>\n",
       "            <th>Flavor</th> <th>Color</th> <th>count</th>\n",
       "        </tr>\n",
       "    </thead>\n",
       "    <tbody>\n",
       "        <tr>\n",
       "            <td>bubblegum </td> <td>pink       </td> <td>1    </td>\n",
       "        </tr>\n",
       "        <tr>\n",
       "            <td>chocolate </td> <td>dark brown </td> <td>2    </td>\n",
       "        </tr>\n",
       "        <tr>\n",
       "            <td>chocolate </td> <td>light brown</td> <td>1    </td>\n",
       "        </tr>\n",
       "        <tr>\n",
       "            <td>strawberry</td> <td>pink       </td> <td>2    </td>\n",
       "        </tr>\n",
       "    </tbody>\n",
       "</table>"
      ],
      "text/plain": [
       "Flavor     | Color       | count\n",
       "bubblegum  | pink        | 1\n",
       "chocolate  | dark brown  | 2\n",
       "chocolate  | light brown | 1\n",
       "strawberry | pink        | 2"
      ]
     },
<<<<<<< HEAD
     "execution_count": 7,
=======
     "execution_count": 18,
>>>>>>> 81804183 (committed @ 2025-0505-145457)
     "metadata": {},
     "output_type": "execute_result"
    }
   ],
   "source": [
    "##### this is regular tbl\n",
    "more_cones.group(['Flavor', 'Color'])"
   ]
  },
  {
   "cell_type": "markdown",
   "metadata": {},
   "source": [
    "The same data can be displayed differenly using the Table method `pivot`. Ignore the code for a moment, and just examine the table of outcomes."
   ]
  },
  {
   "cell_type": "code",
<<<<<<< HEAD
   "execution_count": 8,
=======
   "execution_count": 19,
>>>>>>> 81804183 (committed @ 2025-0505-145457)
   "metadata": {},
   "outputs": [
    {
     "data": {
      "text/html": [
       "<table border=\"1\" class=\"dataframe\">\n",
       "    <thead>\n",
       "        <tr>\n",
       "            <th>Color</th> <th>bubblegum</th> <th>chocolate</th> <th>strawberry</th>\n",
       "        </tr>\n",
       "    </thead>\n",
       "    <tbody>\n",
       "        <tr>\n",
       "            <td>dark brown </td> <td>0        </td> <td>2        </td> <td>0         </td>\n",
       "        </tr>\n",
       "        <tr>\n",
       "            <td>light brown</td> <td>0        </td> <td>1        </td> <td>0         </td>\n",
       "        </tr>\n",
       "        <tr>\n",
       "            <td>pink       </td> <td>1        </td> <td>0        </td> <td>2         </td>\n",
       "        </tr>\n",
       "    </tbody>\n",
       "</table>"
      ],
      "text/plain": [
       "Color       | bubblegum | chocolate | strawberry\n",
       "dark brown  | 0         | 2         | 0\n",
       "light brown | 0         | 1         | 0\n",
       "pink        | 1         | 0         | 2"
      ]
     },
<<<<<<< HEAD
     "execution_count": 8,
=======
     "execution_count": 19,
>>>>>>> 81804183 (committed @ 2025-0505-145457)
     "metadata": {},
     "output_type": "execute_result"
    }
   ],
   "source": [
    "##### this is pivot table: \n",
    "##### organizes the resulting values in a grid.\n",
    "##### The first argument to pivot is the label of a column that contains \n",
    "##### the values that will be used to form new columns in the result. \n",
    "##### The second argument is the label of a column used for the rows.\n",
    "more_cones.pivot('Flavor', 'Color')"
   ]
  },
  {
   "cell_type": "markdown",
   "metadata": {},
   "source": [
    "Notice how this table displays all nine possible pairs of flavor and color, including pairs like \"dark brown bubblegum\" that don't exist in our data. Notice also that the count in each pair appears in the body of the table: to find the number of light brown chocolate cones, run your eye along the row `light brown` until it meets the column `chocolate`.\n",
    "\n",
    "The `group` method takes a list of two labels because it is flexible: it could take one or three or more. On the other hand, `pivot` always takes two column labels, one to determine the columns and one to determine the rows."
   ]
  },
  {
   "cell_type": "markdown",
   "metadata": {},
   "source": [
    "**`pivot`** \n",
    "\n",
    "The `pivot` method is closely related to the `group` method: it groups together rows that share a combination of values. It differs from `group` because it organizes the resulting values in a grid. The first argument to `pivot` is the label of a column that contains the values that will be used to form new columns in the result. The second argument is the label of a column used for the rows. The result gives the count of all rows of the original table that share the combination of column and row values.\n",
    "\n",
    "Like `group`, `pivot` can be used with additional arguments to find characteristics of each paired category. An optional third argument called `values` indicates a column of values that will replace the counts in each cell of the grid. All of these values will not be displayed, however; the fourth argument `collect` indicates how to collect them all into one aggregated value to be displayed in the cell.\n",
    "\n",
    "An example will help clarify this. Here is `pivot` being used to find the total price of the cones in each cell.  "
   ]
  },
  {
   "cell_type": "code",
   "execution_count": 9,
   "metadata": {},
   "outputs": [
    {
     "data": {
      "text/html": [
       "<table border=\"1\" class=\"dataframe\">\n",
       "    <thead>\n",
       "        <tr>\n",
       "            <th>Color</th> <th>bubblegum</th> <th>chocolate</th> <th>strawberry</th>\n",
       "        </tr>\n",
       "    </thead>\n",
       "    <tbody>\n",
       "        <tr>\n",
       "            <td>dark brown </td> <td>0        </td> <td>10.5     </td> <td>0         </td>\n",
       "        </tr>\n",
       "        <tr>\n",
       "            <td>light brown</td> <td>0        </td> <td>4.75     </td> <td>0         </td>\n",
       "        </tr>\n",
       "        <tr>\n",
       "            <td>pink       </td> <td>4.75     </td> <td>0        </td> <td>8.8       </td>\n",
       "        </tr>\n",
       "    </tbody>\n",
       "</table>"
      ],
      "text/plain": [
       "Color       | bubblegum | chocolate | strawberry\n",
       "dark brown  | 0         | 10.5      | 0\n",
       "light brown | 0         | 4.75      | 0\n",
       "pink        | 4.75      | 0         | 8.8"
      ]
     },
     "execution_count": 9,
     "metadata": {},
     "output_type": "execute_result"
    }
   ],
   "source": [
    "more_cones.pivot('Flavor', 'Color', values='Price', collect=sum)"
   ]
  },
  {
   "cell_type": "markdown",
   "metadata": {},
   "source": [
    "And here is `group` doing the same thing."
   ]
  },
  {
   "cell_type": "code",
   "execution_count": 10,
   "metadata": {},
   "outputs": [
    {
     "data": {
      "text/html": [
       "<table border=\"1\" class=\"dataframe\">\n",
       "    <thead>\n",
       "        <tr>\n",
       "            <th>Flavor</th> <th>Color</th> <th>Price sum</th>\n",
       "        </tr>\n",
       "    </thead>\n",
       "    <tbody>\n",
       "        <tr>\n",
       "            <td>bubblegum </td> <td>pink       </td> <td>4.75     </td>\n",
       "        </tr>\n",
       "        <tr>\n",
       "            <td>chocolate </td> <td>dark brown </td> <td>10.5     </td>\n",
       "        </tr>\n",
       "        <tr>\n",
       "            <td>chocolate </td> <td>light brown</td> <td>4.75     </td>\n",
       "        </tr>\n",
       "        <tr>\n",
       "            <td>strawberry</td> <td>pink       </td> <td>8.8      </td>\n",
       "        </tr>\n",
       "    </tbody>\n",
       "</table>"
      ],
      "text/plain": [
       "Flavor     | Color       | Price sum\n",
       "bubblegum  | pink        | 4.75\n",
       "chocolate  | dark brown  | 10.5\n",
       "chocolate  | light brown | 4.75\n",
       "strawberry | pink        | 8.8"
      ]
     },
     "execution_count": 10,
     "metadata": {},
     "output_type": "execute_result"
    }
   ],
   "source": [
    "more_cones.group(['Flavor', 'Color'], sum)"
   ]
  },
  {
   "cell_type": "markdown",
   "metadata": {},
   "source": [
    "Though the numbers in both tables are the same, table produced by `pivot` is easier to read and lends itself more easily to analysis. The advantage of `pivot` is that it places grouped values into adjacent columns, so that they can be combined and compared."
   ]
  },
  {
   "cell_type": "markdown",
   "metadata": {},
   "source": [
    "## 8.3.4. Example: Education and Income of Californian Adults\n",
    "The State of California's Open Data Portal is a rich source of information about the lives of Californians. It is our source of a [dataset](http://data.ca.gov/dataset/ca-educational-attainment-personal-income) on educational attainment and personal income among Californians over the years 2008 to 2014. The data are derived from the U.S. Census Current Population Survey.\n",
    "\n",
    "For each year, the table records the `Population Count` of Californians in many different combinations of age, gender, educational attainment, and personal income. We will study only the data for the year 2014."
   ]
  },
  {
   "cell_type": "code",
   "execution_count": 22,
   "metadata": {},
   "outputs": [
    {
     "data": {
      "text/html": [
       "<table border=\"1\" class=\"dataframe\">\n",
       "    <thead>\n",
       "        <tr>\n",
       "            <th>Year</th> <th>Age</th> <th>Gender</th> <th>Educational Attainment</th> <th>Personal Income</th> <th>Population Count</th>\n",
       "        </tr>\n",
       "    </thead>\n",
       "    <tbody>\n",
       "        <tr>\n",
       "            <td>1/1/14 0:00</td> <td>18 to 64 </td> <td>Female</td> <td>No high school diploma        </td> <td>H: 75,000 and over </td> <td>2058            </td>\n",
       "        </tr>\n",
       "        <tr>\n",
       "            <td>1/1/14 0:00</td> <td>65 to 80+</td> <td>Male  </td> <td>No high school diploma        </td> <td>H: 75,000 and over </td> <td>2153            </td>\n",
       "        </tr>\n",
       "        <tr>\n",
       "            <td>1/1/14 0:00</td> <td>65 to 80+</td> <td>Female</td> <td>No high school diploma        </td> <td>G: 50,000 to 74,999</td> <td>4666            </td>\n",
       "        </tr>\n",
       "        <tr>\n",
       "            <td>1/1/14 0:00</td> <td>65 to 80+</td> <td>Female</td> <td>High school or equivalent     </td> <td>H: 75,000 and over </td> <td>7122            </td>\n",
       "        </tr>\n",
       "        <tr>\n",
       "            <td>1/1/14 0:00</td> <td>65 to 80+</td> <td>Female</td> <td>No high school diploma        </td> <td>F: 35,000 to 49,999</td> <td>7261            </td>\n",
       "        </tr>\n",
       "        <tr>\n",
       "            <td>1/1/14 0:00</td> <td>65 to 80+</td> <td>Male  </td> <td>No high school diploma        </td> <td>G: 50,000 to 74,999</td> <td>8569            </td>\n",
       "        </tr>\n",
       "        <tr>\n",
       "            <td>1/1/14 0:00</td> <td>18 to 64 </td> <td>Female</td> <td>No high school diploma        </td> <td>G: 50,000 to 74,999</td> <td>14635           </td>\n",
       "        </tr>\n",
       "        <tr>\n",
       "            <td>1/1/14 0:00</td> <td>65 to 80+</td> <td>Male  </td> <td>No high school diploma        </td> <td>F: 35,000 to 49,999</td> <td>15212           </td>\n",
       "        </tr>\n",
       "        <tr>\n",
       "            <td>1/1/14 0:00</td> <td>65 to 80+</td> <td>Male  </td> <td>College, less than 4-yr degree</td> <td>B: 5,000 to 9,999  </td> <td>15423           </td>\n",
       "        </tr>\n",
       "        <tr>\n",
       "            <td>1/1/14 0:00</td> <td>65 to 80+</td> <td>Female</td> <td>Bachelor's degree or higher   </td> <td>A: 0 to 4,999      </td> <td>15459           </td>\n",
       "        </tr>\n",
       "    </tbody>\n",
       "</table>\n",
       "<p>... (117 rows omitted)</p>"
      ],
      "text/plain": [
       "Year        | Age       | Gender | Educational Attainment         | Personal Income     | Population Count\n",
       "1/1/14 0:00 | 18 to 64  | Female | No high school diploma         | H: 75,000 and over  | 2058\n",
       "1/1/14 0:00 | 65 to 80+ | Male   | No high school diploma         | H: 75,000 and over  | 2153\n",
       "1/1/14 0:00 | 65 to 80+ | Female | No high school diploma         | G: 50,000 to 74,999 | 4666\n",
       "1/1/14 0:00 | 65 to 80+ | Female | High school or equivalent      | H: 75,000 and over  | 7122\n",
       "1/1/14 0:00 | 65 to 80+ | Female | No high school diploma         | F: 35,000 to 49,999 | 7261\n",
       "1/1/14 0:00 | 65 to 80+ | Male   | No high school diploma         | G: 50,000 to 74,999 | 8569\n",
       "1/1/14 0:00 | 18 to 64  | Female | No high school diploma         | G: 50,000 to 74,999 | 14635\n",
       "1/1/14 0:00 | 65 to 80+ | Male   | No high school diploma         | F: 35,000 to 49,999 | 15212\n",
       "1/1/14 0:00 | 65 to 80+ | Male   | College, less than 4-yr degree | B: 5,000 to 9,999   | 15423\n",
       "1/1/14 0:00 | 65 to 80+ | Female | Bachelor's degree or higher    | A: 0 to 4,999       | 15459\n",
       "... (117 rows omitted)"
      ]
     },
     "execution_count": 22,
     "metadata": {},
     "output_type": "execute_result"
    }
   ],
   "source": [
    "##### year is survey year\n",
    "full_table = Table.read_table('../../data/educ_inc.csv')\n",
    "ca_2014 = full_table.where('Year', are.equal_to('1/1/14 0:00')).where('Age', are.not_equal_to('00 to 17'))\n",
    "ca_2014"
   ]
  },
  {
   "cell_type": "markdown",
   "metadata": {},
   "source": [
    "Each row of the table corresponds to a combination of age, gender, educational level, and income. There are 127 such combinations in all! \n",
    "\n",
    "As a first step it is a good idea to start with just one or two variables. We will focus on just one pair: educational attainment and personal income. "
   ]
  },
  {
   "cell_type": "code",
   "execution_count": 26,
   "metadata": {},
   "outputs": [
    {
     "data": {
      "text/html": [
       "<table border=\"1\" class=\"dataframe\">\n",
       "    <thead>\n",
       "        <tr>\n",
       "            <th>Educational Attainment</th> <th>Personal Income</th> <th>Population Count</th>\n",
       "        </tr>\n",
       "    </thead>\n",
       "    <tbody>\n",
       "        <tr>\n",
       "            <td>No high school diploma        </td> <td>H: 75,000 and over </td> <td>2058            </td>\n",
       "        </tr>\n",
       "        <tr>\n",
       "            <td>No high school diploma        </td> <td>H: 75,000 and over </td> <td>2153            </td>\n",
       "        </tr>\n",
       "        <tr>\n",
       "            <td>No high school diploma        </td> <td>G: 50,000 to 74,999</td> <td>4666            </td>\n",
       "        </tr>\n",
       "        <tr>\n",
       "            <td>High school or equivalent     </td> <td>H: 75,000 and over </td> <td>7122            </td>\n",
       "        </tr>\n",
       "        <tr>\n",
       "            <td>No high school diploma        </td> <td>F: 35,000 to 49,999</td> <td>7261            </td>\n",
       "        </tr>\n",
       "        <tr>\n",
       "            <td>No high school diploma        </td> <td>G: 50,000 to 74,999</td> <td>8569            </td>\n",
       "        </tr>\n",
       "        <tr>\n",
       "            <td>No high school diploma        </td> <td>G: 50,000 to 74,999</td> <td>14635           </td>\n",
       "        </tr>\n",
       "        <tr>\n",
       "            <td>No high school diploma        </td> <td>F: 35,000 to 49,999</td> <td>15212           </td>\n",
       "        </tr>\n",
       "        <tr>\n",
       "            <td>College, less than 4-yr degree</td> <td>B: 5,000 to 9,999  </td> <td>15423           </td>\n",
       "        </tr>\n",
       "        <tr>\n",
       "            <td>Bachelor's degree or higher   </td> <td>A: 0 to 4,999      </td> <td>15459           </td>\n",
       "        </tr>\n",
       "    </tbody>\n",
       "</table>\n",
       "<p>... (117 rows omitted)</p>"
      ],
      "text/plain": [
       "Educational Attainment         | Personal Income     | Population Count\n",
       "No high school diploma         | H: 75,000 and over  | 2058\n",
       "No high school diploma         | H: 75,000 and over  | 2153\n",
       "No high school diploma         | G: 50,000 to 74,999 | 4666\n",
       "High school or equivalent      | H: 75,000 and over  | 7122\n",
       "No high school diploma         | F: 35,000 to 49,999 | 7261\n",
       "No high school diploma         | G: 50,000 to 74,999 | 8569\n",
       "No high school diploma         | G: 50,000 to 74,999 | 14635\n",
       "No high school diploma         | F: 35,000 to 49,999 | 15212\n",
       "College, less than 4-yr degree | B: 5,000 to 9,999   | 15423\n",
       "Bachelor's degree or higher    | A: 0 to 4,999       | 15459\n",
       "... (117 rows omitted)"
      ]
     },
     "execution_count": 26,
     "metadata": {},
     "output_type": "execute_result"
    }
   ],
   "source": [
    "educ_inc = ca_2014.select('Educational Attainment', 'Personal Income', 'Population Count')\n",
    "educ_inc"
   ]
  },
  {
   "cell_type": "markdown",
   "metadata": {},
   "source": [
    "Let's start by looking at educational level alone. The categories of this variable have been subdivided by the different levels of income. So we will group the table by `Educational Attainment` and `sum` the `Population Count` in each category."
   ]
  },
  {
   "cell_type": "code",
   "execution_count": 27,
   "metadata": {},
   "outputs": [
    {
     "data": {
      "text/html": [
       "<table border=\"1\" class=\"dataframe\">\n",
       "    <thead>\n",
       "        <tr>\n",
       "            <th>Educational Attainment</th> <th>Population Count sum</th>\n",
       "        </tr>\n",
       "    </thead>\n",
       "    <tbody>\n",
       "        <tr>\n",
       "            <td>Bachelor's degree or higher   </td> <td>8525698             </td>\n",
       "        </tr>\n",
       "        <tr>\n",
       "            <td>College, less than 4-yr degree</td> <td>7775497             </td>\n",
       "        </tr>\n",
       "        <tr>\n",
       "            <td>High school or equivalent     </td> <td>6294141             </td>\n",
       "        </tr>\n",
       "        <tr>\n",
       "            <td>No high school diploma        </td> <td>4258277             </td>\n",
       "        </tr>\n",
       "    </tbody>\n",
       "</table>"
      ],
      "text/plain": [
       "Educational Attainment         | Population Count sum\n",
       "Bachelor's degree or higher    | 8525698\n",
       "College, less than 4-yr degree | 7775497\n",
       "High school or equivalent      | 6294141\n",
       "No high school diploma         | 4258277"
      ]
     },
     "execution_count": 27,
     "metadata": {},
     "output_type": "execute_result"
    }
   ],
   "source": [
    "##### focus on one variable\n",
    "education = educ_inc.select('Educational Attainment', 'Population Count')\n",
    "educ_totals = education.group('Educational Attainment', sum)\n",
    "educ_totals"
   ]
  },
  {
   "cell_type": "markdown",
   "metadata": {},
   "source": [
    "There are only four categories of educational attainment. The counts are so large that is is more helpful to look at percents. For this, we will use the function `percents` that we defined in an earlier section. It converts an array of numbers to an array of percents out of the total in the input array."
   ]
  },
  {
   "cell_type": "code",
   "execution_count": 28,
   "metadata": {},
   "outputs": [],
   "source": [
    "##### getting percentage using a function\n",
    "\n",
    "def percents(array_x):\n",
    "    return np.round( (array_x/sum(array_x))*100, 2)"
   ]
  },
  {
   "cell_type": "markdown",
   "metadata": {},
   "source": [
    "We now have the distribution of educational attainment among adult Californians. More than 30% have a Bachelor's degree or higher, while almost 16% lack a high school diploma."
   ]
  },
  {
   "cell_type": "code",
   "execution_count": 29,
   "metadata": {},
   "outputs": [
    {
     "data": {
      "text/html": [
       "<table border=\"1\" class=\"dataframe\">\n",
       "    <thead>\n",
       "        <tr>\n",
       "            <th>Educational Attainment</th> <th>Population Count sum</th> <th>Population Percent</th>\n",
       "        </tr>\n",
       "    </thead>\n",
       "    <tbody>\n",
       "        <tr>\n",
       "            <td>Bachelor's degree or higher   </td> <td>8525698             </td> <td>31.75             </td>\n",
       "        </tr>\n",
       "        <tr>\n",
       "            <td>College, less than 4-yr degree</td> <td>7775497             </td> <td>28.96             </td>\n",
       "        </tr>\n",
       "        <tr>\n",
       "            <td>High school or equivalent     </td> <td>6294141             </td> <td>23.44             </td>\n",
       "        </tr>\n",
       "        <tr>\n",
       "            <td>No high school diploma        </td> <td>4258277             </td> <td>15.86             </td>\n",
       "        </tr>\n",
       "    </tbody>\n",
       "</table>"
      ],
      "text/plain": [
       "Educational Attainment         | Population Count sum | Population Percent\n",
       "Bachelor's degree or higher    | 8525698              | 31.75\n",
       "College, less than 4-yr degree | 7775497              | 28.96\n",
       "High school or equivalent      | 6294141              | 23.44\n",
       "No high school diploma         | 4258277              | 15.86"
      ]
     },
     "execution_count": 29,
     "metadata": {},
     "output_type": "execute_result"
    }
   ],
   "source": [
    "##### tbl.with_colum() : https://www.data8.org/datascience/_autosummary/datascience.tables.Table.with_column.html#datascience.tables.Table.with_column\n",
    "\n",
    "educ_distribution = educ_totals.with_column(\n",
    "    'Population Percent', percents(educ_totals.column(1))\n",
    ")\n",
    "educ_distribution"
   ]
  },
  {
   "cell_type": "markdown",
   "metadata": {
    "collapsed": true,
    "jupyter": {
     "outputs_hidden": true
    }
   },
   "source": [
    "By using `pivot`, we can get a contingency table (a table of counts) of adult Californians cross-classified by `Educational Attainment` and `Personal Income`."
   ]
  },
  {
   "cell_type": "code",
   "execution_count": 30,
   "metadata": {},
   "outputs": [
    {
     "data": {
      "text/html": [
       "<table border=\"1\" class=\"dataframe\">\n",
       "    <thead>\n",
       "        <tr>\n",
       "            <th>Personal Income</th> <th>Bachelor's degree or higher</th> <th>College, less than 4-yr degree</th> <th>High school or equivalent</th> <th>No high school diploma</th>\n",
       "        </tr>\n",
       "    </thead>\n",
       "    <tbody>\n",
       "        <tr>\n",
       "            <td>A: 0 to 4,999      </td> <td>575491                     </td> <td>985011                        </td> <td>1161873                  </td> <td>1204529               </td>\n",
       "        </tr>\n",
       "        <tr>\n",
       "            <td>B: 5,000 to 9,999  </td> <td>326020                     </td> <td>810641                        </td> <td>626499                   </td> <td>597039                </td>\n",
       "        </tr>\n",
       "        <tr>\n",
       "            <td>C: 10,000 to 14,999</td> <td>452449                     </td> <td>798596                        </td> <td>692661                   </td> <td>664607                </td>\n",
       "        </tr>\n",
       "        <tr>\n",
       "            <td>D: 15,000 to 24,999</td> <td>773684                     </td> <td>1345257                       </td> <td>1252377                  </td> <td>875498                </td>\n",
       "        </tr>\n",
       "        <tr>\n",
       "            <td>E: 25,000 to 34,999</td> <td>693884                     </td> <td>1091642                       </td> <td>929218                   </td> <td>464564                </td>\n",
       "        </tr>\n",
       "        <tr>\n",
       "            <td>F: 35,000 to 49,999</td> <td>1122791                    </td> <td>1112421                       </td> <td>782804                   </td> <td>260579                </td>\n",
       "        </tr>\n",
       "        <tr>\n",
       "            <td>G: 50,000 to 74,999</td> <td>1594681                    </td> <td>883826                        </td> <td>525517                   </td> <td>132516                </td>\n",
       "        </tr>\n",
       "        <tr>\n",
       "            <td>H: 75,000 and over </td> <td>2986698                    </td> <td>748103                        </td> <td>323192                   </td> <td>58945                 </td>\n",
       "        </tr>\n",
       "    </tbody>\n",
       "</table>"
      ],
      "text/plain": [
       "Personal Income     | Bachelor's degree or higher | College, less than 4-yr degree | High school or equivalent | No high school diploma\n",
       "A: 0 to 4,999       | 575491                      | 985011                         | 1161873                   | 1204529\n",
       "B: 5,000 to 9,999   | 326020                      | 810641                         | 626499                    | 597039\n",
       "C: 10,000 to 14,999 | 452449                      | 798596                         | 692661                    | 664607\n",
       "D: 15,000 to 24,999 | 773684                      | 1345257                        | 1252377                   | 875498\n",
       "E: 25,000 to 34,999 | 693884                      | 1091642                        | 929218                    | 464564\n",
       "F: 35,000 to 49,999 | 1122791                     | 1112421                        | 782804                    | 260579\n",
       "G: 50,000 to 74,999 | 1594681                     | 883826                         | 525517                    | 132516\n",
       "H: 75,000 and over  | 2986698                     | 748103                         | 323192                    | 58945"
      ]
     },
     "execution_count": 30,
     "metadata": {},
     "output_type": "execute_result"
    }
   ],
   "source": [
    "##### pivot ==> contingency table (a table of counts)\n",
    "##### pivot : https://www.data8.org/datascience/_autosummary/datascience.tables.Table.pivot.html#datascience.tables.Table.pivot\n",
    "### 1. columns – a single column label or index, (str or int), \n",
    "### used to create new columns, based on its unique values.\n",
    "### 2. rows – row labels or indices, (str or int or list),\n",
    "### used to create new rows based on it’s unique values.\n",
    "### 3. values – column label in table for use in aggregation. Default None.\n",
    "### 4. collect – aggregation function, used to group values\n",
    "\n",
    "totals = educ_inc.pivot('Educational Attainment', 'Personal Income', values='Population Count', collect=sum)\n",
    "totals"
   ]
  },
  {
   "cell_type": "markdown",
   "metadata": {},
   "source": [
    "Here you see the power of `pivot` over other cross-classification methods. Each column of counts is a distribution of personal income at a specific level of educational attainment. Converting the counts to percents allows us to compare the four distributions."
   ]
  },
  {
   "cell_type": "code",
   "execution_count": 31,
   "metadata": {},
   "outputs": [
    {
     "data": {
      "text/html": [
       "<table border=\"1\" class=\"dataframe\">\n",
       "    <thead>\n",
       "        <tr>\n",
       "            <th>Personal Income</th> <th>Bachelor's degree or higher</th> <th>College, less than 4-yr degree</th> <th>High school or equivalent</th> <th>No high school diploma</th>\n",
       "        </tr>\n",
       "    </thead>\n",
       "    <tbody>\n",
       "        <tr>\n",
       "            <td>A: 0 to 4,999      </td> <td>6.75                       </td> <td>12.67                         </td> <td>18.46                    </td> <td>28.29                 </td>\n",
       "        </tr>\n",
       "        <tr>\n",
       "            <td>B: 5,000 to 9,999  </td> <td>3.82                       </td> <td>10.43                         </td> <td>9.95                     </td> <td>14.02                 </td>\n",
       "        </tr>\n",
       "        <tr>\n",
       "            <td>C: 10,000 to 14,999</td> <td>5.31                       </td> <td>10.27                         </td> <td>11                       </td> <td>15.61                 </td>\n",
       "        </tr>\n",
       "        <tr>\n",
       "            <td>D: 15,000 to 24,999</td> <td>9.07                       </td> <td>17.3                          </td> <td>19.9                     </td> <td>20.56                 </td>\n",
       "        </tr>\n",
       "        <tr>\n",
       "            <td>E: 25,000 to 34,999</td> <td>8.14                       </td> <td>14.04                         </td> <td>14.76                    </td> <td>10.91                 </td>\n",
       "        </tr>\n",
       "        <tr>\n",
       "            <td>F: 35,000 to 49,999</td> <td>13.17                      </td> <td>14.31                         </td> <td>12.44                    </td> <td>6.12                  </td>\n",
       "        </tr>\n",
       "        <tr>\n",
       "            <td>G: 50,000 to 74,999</td> <td>18.7                       </td> <td>11.37                         </td> <td>8.35                     </td> <td>3.11                  </td>\n",
       "        </tr>\n",
       "        <tr>\n",
       "            <td>H: 75,000 and over </td> <td>35.03                      </td> <td>9.62                          </td> <td>5.13                     </td> <td>1.38                  </td>\n",
       "        </tr>\n",
       "    </tbody>\n",
       "</table>"
      ],
      "text/plain": [
       "Personal Income     | Bachelor's degree or higher | College, less than 4-yr degree | High school or equivalent | No high school diploma\n",
       "A: 0 to 4,999       | 6.75                        | 12.67                          | 18.46                     | 28.29\n",
       "B: 5,000 to 9,999   | 3.82                        | 10.43                          | 9.95                      | 14.02\n",
       "C: 10,000 to 14,999 | 5.31                        | 10.27                          | 11                        | 15.61\n",
       "D: 15,000 to 24,999 | 9.07                        | 17.3                           | 19.9                      | 20.56\n",
       "E: 25,000 to 34,999 | 8.14                        | 14.04                          | 14.76                     | 10.91\n",
       "F: 35,000 to 49,999 | 13.17                       | 14.31                          | 12.44                     | 6.12\n",
       "G: 50,000 to 74,999 | 18.7                        | 11.37                          | 8.35                      | 3.11\n",
       "H: 75,000 and over  | 35.03                       | 9.62                           | 5.13                      | 1.38"
      ]
     },
     "execution_count": 31,
     "metadata": {},
     "output_type": "execute_result"
    }
   ],
   "source": [
    "##### now turn it into percents\n",
    "\n",
    "distributions = totals.select(0).with_columns(\n",
    "    \"Bachelor's degree or higher\", percents(totals.column(1)),\n",
    "    'College, less than 4-yr degree', percents(totals.column(2)),\n",
    "    'High school or equivalent', percents(totals.column(3)),\n",
    "    'No high school diploma', percents(totals.column(4))   \n",
    "    )\n",
    "\n",
    "distributions\n",
    "\n",
    "\n",
    "##### what can you tell from this distribution/percentage?"
   ]
  },
  {
   "cell_type": "markdown",
   "metadata": {},
   "source": [
    "At a glance, you can see that over 35% of those with Bachelor's degrees or higher had incomes of $\\$75,000$ and over, whereas fewer than 10% of the people in the other education categories had that level of income. \n",
    "\n",
    "The bar chart below compares the personal income distributions of adult Californians who have no high school diploma with those who have completed a Bachelor's degree or higher. The difference in the distributions is striking. There is a clear positive association between educational attainment and personal income."
   ]
  },
  {
   "cell_type": "code",
   "execution_count": 32,
   "metadata": {},
   "outputs": [
    {
     "data": {
      "image/png": "iVBORw0KGgoAAAANSUhEUgAABHwAAAFvCAYAAAA48ty9AAAAOnRFWHRTb2Z0d2FyZQBNYXRwbG90bGliIHZlcnNpb24zLjEwLjAsIGh0dHBzOi8vbWF0cGxvdGxpYi5vcmcvlHJYcgAAAAlwSFlzAAAPYQAAD2EBqD+naQAAox5JREFUeJzt3Qd0VNXXxuGdBDQBRJAiRSyI2EVRsXcUC4KCWFBsFEVUVFAsoAJ2wS4qduwNsWADe8GGBVQUFRRFURFQkAQh4Vu/8/9OvLmZO5mZ9Jn3WSsrMJnM3DkzhNx39t4na8mSJatNRERERERERETSRnZ1H4CIiIiIiIiIiFQsBT4iIiIiIiIiImlGgY+IiIiIiIiISJpR4CMiIiIiIiIikmYU+IiIiIiIiIiIpBkFPiIiIiIiIiIiaUaBj4iIiIiIiIhImlHgIyIiIiIiIiKSZhT4iIiIiIiIiIikGQU+IiIiIiIiIiJpRoGPiKSVgoICmzNnjvssJWltomltomltomltomltomltRESkqijwEZG0U1hYWN2HUGNpbaJpbaJpbaJpbaJpbaJpbUREpCoo8BERERERERERSTMKfERERERERERE0owCHxERERERERGRNKPAR0REREREREQkzSjwERERERERERFJMwp8RERERERERETSTJ3qPgAREREREUl/RUVF9s8//1hBQUF1H4qISK2Um5tr9evXt+zsxGp3FPiIiIiIiEilhz1//vmnNWjQwJo2bWpZWVnVfUgiIrXK6tWrXWDOz9ImTZokFPqopUtERERERCoVlT2EPXl5eQp7RERSwM9Ofobys5SfqYlQ4CMiIiIiIpWKd6VpRRARkfLhZ2mirbEKfEREREREpNKpskdEpGp/lmqGj0gtN+u7eVZYWFTdh1FjFBUV2vLlKyx/7nzLzs6ptPtp2rihtWi+TqXdvoiIiIiISHko8BGp5cbeNdGWLlte3YdRowKf/PwCy8vLrdTAZ8QZvRX4iIiIiIhIjaWWLhERERERERGRNKPAR0REREREREQkzailS0REREREqtWC3xfZwsV/W02UbnP73n77bTv00ENt2LBhdsEFF1TKfWy99dbu88yZMy2dXHnllXb11Vfbc889Z3vssUd1H07GSHbdf/zxR+vQoYMdc8wxdtttt6V8vw899JANGjTIbr31Vjv22GOtNlLgIyIiIiIi1YqwZ/TND1tNVN65ff7kM6xevXq24YYbWrdu3ez000+3Bg0alPNIM4sPrmrzybhIZVPgIyIiIiIiUsk22mgjO/LII92fV69ebX/++adNmTLFrrrqKnv11VftpZdespycyttwQiRTtGrVyj788ENr2LChZToFPiIiIiIiIpWsbdu2pVqoVqxYYfvvv7999NFH9s4779hee+1Vbccnki7q1q1r7du3r+7DqBE0tFlERERERKQarLnmmsUzSRYtWlTia2+99ZabH7LDDjtY69at3cfee+9t9913X+Tt/fDDDzZ48GDbZpttrHnz5tauXTs75JBD3CySWD799FM77LDDbL311rP111/ftUbRghZ122eccYZttdVW7rY33XRTGzhwoM2bNy/hx/vPP//YFVdcYTvuuKOtu+66rqWNqqf3338/5tyWRo0audYtjn/PPfe0li1buscTz2effWbHH3988XFuvPHGts8++9iYMWMSPs6ff/7Z+vbt646PdT/44IPt3Xffjfs9fP2oo45ywR7327FjR7vsssts+fLlpa67atUqu+6662zbbbd167Dddtu5v7PGPGbWNTwTiY8lS5bYueeea1tuuaU1adKkxPP6xRdf2Mknn+yel2bNmrnHz3XDr6tUrx/lq6++shNPPNG91njcvPbOP//8mLeTyOMoyxNPPGG77767tWjRwh07s6jy8/NLXIfXcKx19I+7V69exa95/sxj4Lp8T9Tr/7XXXrMDDjjAvQap1jv11FPLvbbB4/zmm2/cvz9uO95xJEsVPmmA/wj4R9K4cWP7+uuv3X8cFenxxx+322+/3d02aenOO+/s3p3gB1SieNHutttuNnnyZKtKEydOdP/YcPfdd1vPnj0T/t758+fbtddea1OnTrXffvvN/TDad9997cILL3Q/IMKKiorsrrvusgcffNC+/fZbq1OnjvvHzX+M/CcRy8cff2xjx461Dz74wJYtW+Zul2M855xzLC8vrxyPXERERERqun///ddV9mRlZRUPOvZuvPFGmzNnjgtHaFH566+/3O+lZ511lvtd8/LLLy9x/WnTprnAYenSpbbffvu53yk5sZ4xY4b7XT4854aw56abbnKBEyfsXI/f1Tn55bZyc3NL/M7ao0cPF1506dLFhSgEPZx8c0y0phGOxFNQUODmFU2fPt3NNOIk9/fff7enn37atbTxuzrhU9jNN9/sQh9+n+Z38XhtbzwGjo/rcP02bdq4deM8hqBs6NChZT4nCxYscCf2v/zyi1tHjpWT8cMPPzxyYDDHzm2vvfbaduCBB7qTfNaXkIljZ9jwGmusUeL87bHHHnNr1q9fP/c6GDdunGtDisJ1WD9Cs4MOOsg9RgIWvPDCC3bSSSdZdna2e9yEVBzznXfe6YIK1pfzMS/Z60fhdcLrjGPr3r27C1B4DLzeXn75Zffa4Bwq0cdRFo6PY+OYCQD58x133OGCFL5WlpkzZ7rv5b6Z/8TrmOeJ54zztigvvviivfLKK+56nTp1svfee88effRRF9DRihmUytrOnTvXVfptscUW1rt3b/d4gq+X8lDgU8vxA33SpEnuP4nFixe7H9L8MK4o/JAimeaHJS9cQglCFH6QPvPMMy78qakIafjBW79+ffePOhn8o+MH/R9//OH+Y+EH/Pfff2+PPPKI+w+Nf/Ckrx592PxH+eyzz7rLjzvuOPfDjH/w/KO95pprbMCAASXug+sSRvFDjh96/KAj+CFk4j8G1reiwzsRERERqR6EN1St+N8dOanj5O/XX3+1UaNGuQqJIN4UDIcoVIZQkcAJNRUG/I7uW8OoSOF3dUKYzp07l3ojM4zfZ++5554S5w6nnHKKCyI4p/BvlK5cudL9zsoxc7zBAdSc8Hft2tVVWfB98RBgEfZQ0cNJOucv/j452aUyiYBlrbXWKlU5Q3BANUgQ4QuBVhDHwFrwZni4EijRypWRI0e6sGf48OElAiICI8K2MMIkHj/Hx+/366zz34Dv66+/3t0ej5c3gfHmm2+64yTgIxRheDeGDBniQox45zaEEnxP8I1hHhevBYIVwgdCF++pp55yrwvCQc4xUrl+FN7sPu2001wIyPfx3HkXX3yxCxMvueQSu+WWWxJ6HIl444033Mcmm2zi/k5lD68D7p9/Q1TfxHPeeee582fCF/4deWU9Xtbp+eefLz73LSwsdAEXYS3tmISy5VlbKtw4NgoLKppaumo5EnHCDP6xkSI+8MADFXbbBBwMkeM/H17MvDj5Qe2rdPihzD/0morjY7cDgqpkUYZI2MPjJ+AaPXq0Pfzww3bvvfe6y8PvDvDDnQ9+CJD48o+YteIfL/8RjxgxokRZHj+cqOLhPzp+2PFDh/UlTOrfv7/7PlJ+EREREUkPvKHI1tJ88GYgleFcxtyeWLN7YlXMUEHO77accPIGocebjIQUhCnhsAdUGYTtuuuupd4o5k1LfPLJJ8WXceJKNQ+BRXi3sV122cVVMfA77N9//x338fPGKd0ChAA+7IHfPptKnFjdACeccEKpsKcssYKEYBAThTdsOb+iQoed04JoE6MiJIzzA4I4ntPwfXA+0rRpU3ey7/lgjBN8H/aAFiXCgngIj8KPjXVl7QlZggEDCO1YX85nUr1+FM5XfGVKMOzxj43ukyeffNKtaSKPIxGsjw97wG1wzJyT0soXz7x581xASdgUDHtAkBevoumII44oUejAG/a8ZsP/VlJdW9r6Eqk+S4UqfGo5Ah5+8PPDhF5BEmNezOEXWCpIxvnhRdpMeaJHXyYvWAIQ/tHQqlXWdok+nQ/+Qwpuocj98E4F/0gImihh434od6TUL5Vj5z8nqmQIYJJBuSnvXlBxwzsOQZSZksbzdUr4/H/E/j+ncCsW6S5hHC1wHJNPbSl1XLhwobu9YGsc//lddNFFLgDiHRd++AT/QxQRERGR2omT4uCJP9UAnDTzRiOtIrx5yLwej0oE2pn4PZPfO8MV67QeeVTOgMr0RMUaz+CDIcKXYDsXvvvuu+IKpSDasjjh5nd4ZtHEwkkwj4GZJrHCJ6o07r//ftdyc/TRR5f42vbbb5/wY6Iq/7bbbnPBFX9mdg/BFi1xiaBVjnMBKm2CLW3gzfWddtrJPc4gvz6063AuFkbIxe16nLP5sCyM24/C8cQKvvz98xoggAmj4okd4fjg3CTZ68drnwPzdMJ4053XAmvCYw8ed9TjqMjXbCxf/P+6x+pQoSOEc7xgiJrK/aa6toRQFdXCFabApxajfJASMlqPCCf44cgPGYKF8A4AoKyR0IUe0qj+0yCqeqL+4+A/LAIfbi9e4EPwRIkj72RQ6UJ7k+f7lCkPJTHnnQmqiehjpTSQ9JPklMoXgp9khqzx+Gmx4t2SZAMf/vMlgOJ4Y4UtG2ywgfvPiEF6PvDhPzr/tVjXR/AHCKWMUdcnFOPjp59+cv8xBlvHRERERCQ9UA1CdQxVHrwJyBgFRjWAqghapT7//HP3Jiizebg+lQW8ucubpJw8er66pqyWlqBw6xT8fBwqiDzGRvi5nvHEG6FAeAUqZ2KhwiF4vaCo74mFwIzWGwYgU13ihwEzQPnSSy+N2zIVXEeqcmKJNWvGr0+iQ6F5jIRHscKUeLNsOKZY5yb+/suaYcPzw30me/14jyOV5zTqcVTkazbe8TZN4rlN9n5TXdtkXuPJUuBTi/n2Lf4DAJU0lILxg42QhR8k5UF6TTrr/7EG+XLGcMIdRqBB+ELgQ/gTK4hi4BVhD8ERJZQ+3Tz77LPdTgSUfRJWlTUIzodHlJs2bNjQtWGlgrCFf8AELtxe+AeSb80KPnb/D5av8c5FrOvzrkis64eREvt+ZL6nrMBndVGhFRXF/wGXSXybYWW3G7LmvANUm/iS2liltZlOaxNNaxNNaxNNa1N9axOuSpCaz1ewBFtD+N2YsKdPnz6uyieIKiECnyBfjc88oIrmT3b5nZ1KpPLcBqMRYvFvnsY6sU42HKCihw9GKFBxQdU/Q5U5Z6I7Id45BecQoBI/3nEG+WPm3CHW8ce6Pr+nUuURDh9i3X5Z6+Dvkze5GfqbyP0nc/2Kfk6rq3thrf8/jmSe21TvI9m1rcw1UeBTSzE8jf5Pfij5gWSEM/yZ9J1hVuHKHFqm+MEXa4epqIQ7Km30L+ayenUT4f/DYtBWsJSNChvaoQhueEz0gpaFNqjXX3/d/UeYyA/cWHiXhf8kqMiht5qZOh6ltlT3hMv36JXmPhnMFiwBpVqIstLw9SnX5LmjRJf/zIP90GxV6ZVVmojrhnS21UWrUnqskro6dZZZ0bJZVpvwA791Y84yllmRzsFK0NpE09qk79r8W9TA/ij7v5ly8RWtUjVrwxtWbAkttYt/o483Gj3fDhJrp1dCi6jQiBYa5vhUJN9mRmdBqoEPv/cStDC4mllD4RYr31kQ3qmsPBizQFcDHwRi/I7NeUK8+Z50G/B7PDs38cZeMEAlpIm1ixbrw+/zhEu0kJWF9h3aoWjno4orKN4uXVG4fzo4eH4SCRmSvX4UKs/8c8d4kXAFC2vIcxCcuVOdtvr/XbjYJCeM7hLf8lUeFbW2FUmBTy1F6k86Seof/EFECxThCNU/4cDHT/GvafiBR8gSqz/Xt575kCUe2p8YkEXPbnhwWLL4D4HZQeeee657V4A+U/6DYt3585dfflmigorBX7S4ERIRFnH/tIUR6PjQLHh9wjnKds8880zXkseUd8oI+SHPwLH27dvb7NmzE6rSar5iomUVJbcLWTorWl3kSpzZ4Sw7qxLn0v9XRV1rVNna1EJam2ham/Rdm4Jm/S23YenW4opA9QqBBlXClTWXoLbS2kgYcy3B75Dh39sJBYLzLDm5ZtZNGNdhpgjnAfxeGv5dOFbIkihCJ94w5jg5vwiPc+CNaMKOWDNpgjhPYQYQA3t5I9pXNXCize/RwTeyU8Xv0gQR4Uo3X4VS1g64fJ32OqqZ2F0qOEh3woQJJSr2PXZe4jnhzWlGUoTPuQj0qOr3b/ASyPF4GfLM8+Tnf/JzgXVJFjNRaSfjTXK2DN98881LhRmcu/idpJK9fhRm4dCJwMBuig3ozPC4fd745ryspvycW3/99d0x82+K5yk4sJwdxXw7VnlU1NpWJAU+tbydKzzUjJk1/DAnmOBFy3T0VPFDN6qCx/dA+rLH8uC2Yg1vK6ufN4xJ+qT3zPwpL95d4B0S/lMixOGDd8xuuOEGV3XDrlvBEkwGZ9MnTIUPn/mhz9qQ2tNiRpgVLtlkbhF91uzmxfNF/yfDzRg0zf0Q+ET1mAZl52RbVi080ag0/9/dxskXayMBWptoWptoWpu0XZvsnJxKb//hF321GMWmtcnsbdnB7+pUG1AdwkgBZsx4VNJwgsrvibNmzXInjgy/ZXdXfr/k98VwUMFuUewmxAfV51Q08Ds0b5xyohk1kLYs3DZhB7dLIEM1O9ULBDa0MVFxxHwhqhrioQqEreDpUuD3XM5bCGIY6cAbpWxdnmqFvsfv0IRihE+MluDfGOvLnFMqjMIVNbHwPDCrkzdnCQcIkL755hsXbBB4cY4QxFqMHTvWbd7CiTy7VhGELFu2zL0hzcxT5phyngCCEUK5J554woV8rClvHjC/iXMG3mxOZjQH5wt0JTC/lAHKPPdU1XCbzHuivYjwwQ8MT/b6UThGdhVmMx8eD0EZYRehG88BaxB8TdcEV199tVtvOjjo3OD8jtcHr12eCx57ecaiVNTaViQFPrUQQ4n9D5p4KTg/TMva2i8e5vTwD9a/CxXk59fE2powWfxgL6uXMpEf/lQKEVDFGoTs03c+qN6hVawsVNnwH2fYwIED3efwLgT8Z8guC3wE+f9cY+1awH8IfISxOxg/bMJbX4qIiIiko6aNG9qIM/7b3KOmHVtF8NuyB3935I1afj9lZ9ZgZQjV4JyQUr3OSSIn0JtttpkbBkv1eDjwASeSBBsMLOZcgaoLgiTmSyazAUosDD3mGKiEIPggqOL4efOS8xFO+stC+MJjIpQh5CEsoLqFiiHCkrIqhBLBWvKmK7sksW60yVGdxK7D/P6fyJvVbI9OsMYcUXbm5Xb4nZxjJggKBz5+63jeMKYKiusT2nBf3Df367fw9hj5wLnGgw8+aOPHj3evA84xCMH43mSDry5durhj4/nhead1jQ4Kbpewyc98TfX6UXjOeD1QrcS6cC7mt5enUyLe0Ofq0KFDB/dGO1VmU6dOdaElVT+sOZehvKFjRa1tRclasmTJf82iUivwD4rQgn9g9JmGkZAzF4fWIxLlVPGiJ4nmB1L4hxQ/uChFpGUp3i5dHqk/c2tefPHFUl/r1q2b+0fBD9RwWxf3z3GwnXlZM3z4OjOKwkhtCYNoDyPZ5z+kYMlhMniXhJSfHw5fffVVQu/M0bbFuyL33XefS77LwjsJvKtDq1dZuyEgb/5ItXQFFBUWWX5BvuXl5tXKd9wrk9YmmtYmmtYmfdemoNkAK8ptVzm3XVDg3vnnBFZVLCVl6tpQyVGZO9GIpAPOGTh3oGKI8EqqRmFhodt6nZ/PVNKl089UVfjUMqTU7MJF4EAQEzVlngocqnMYluUrS/jlwg9tJmVMpAeRXQH4gUPvrp/+T3hCGRrvFiSaxNNaNn/+/JhfI0wi8CHY4Xbr1q1bXMlESk67VCLD5wjCYqF0lmOmtC787gPVN+xuRmhFeOWxThwH9+1Rikd7FuW3V111Valf0ki0w+8a8O4LyT3vinA/ZV2fnRX4Ic/9EnKJiIiIiEh6oYOC+Z3B3ZmYs3Tttde64etUiUjFW7VqlRvPEa48osiAc2XOF9ONAp9ahmCEoV8EFPG2FCSsIfBh1o8PfCito+KHyeF+GHI8VA/RnkT/Kj2IVOLQi8qQK9BTnGiPI72+lEFSxkaFDD/IGC5HbzFziDgmvzU7P+DoM+Z+CFe4/0S2ZE+F37o7GOyAwckMxGbSPvOFqOyhtJMQipJNWq7C6NHkupRnEgZRSkrpK8dOdQ+POYg+ZSp4KCMkneW2qYDisRO0kTKLiIiIiEh6IWBgnhFvnvvzAM41OOfg/CvRXZUlOcuWLXPzsDjHYzQJA8c5Z/vkk09cK1p4NEc6UOBTS4c1E5zEc/jhh7sXLAOEGWLsp78ni8n0DIyjmogtz6l64QcT1SfJBBJUxPjAih5Jghb6GAl8SLYpX+Q+aEWjj5VBhgRD9BvH2o6yojAED+HKH37IEnIxhI45QqwfPZ+sJTtqRa05wRW7FPDDg1lCrB8VO7H6hemzJoBjPZjeT9sb83wYaKfZPSIiIiIi6Yk3ihkETejDeQBvFjOOgzYuBiBL5ahXr557U59zUmYt0cLFrNqTTjrJzRwi9Ek3muEjGY2dskh1aX2rKVsGJkszfNJrpkZl0tpE09pE09qk79pohk/1yNS10QwfEZGq/5la+347EalADEimiqi2hj0iIiIiIiIisailSzLa7Nmzq/sQRERERERERCqcKnxERERERERERNKMAh8RERERERERkTSjwEdEREREREREJM0o8BERERERERERSTMa2ixSyxU06WNZVlTdh1FjFBUWWn7+csvKq2fZOTnVfTg1itYmmtYmmtYmfddmdU6j6j4EERERqUQKfERqudW5bW11dR9EDVJQUGDzF/9kbRq0sdzc3Oo+nBpFaxNNaxNNaxNNayMiIiI1mVq6RERERERE0tiVV15pjRo1srfffjuh6//444/u+gMHDizX/T700EPudvhcE3FshxxyiNUUrDfHxPqX19Zbb+0+yvM6qIrjlMqlCh8REREREalWWSsXWlbhEqup7Y+r6zZN+fs5Ke7QoYP787777msTJ04sdZ2PPvrI9t9/fzvmmGPstttuK9fxioh4CnxERERERKRaEfbk/jHeaqKCZgPKFfgEvfbaa/bmm2/aXnvtZTVZq1at7MMPP7SGDRtW96FIBRowYID17NnT1ltvveo+FKkiaukSERERERGpZOuvv75lZ2fbpZdeaqtX1+wJjHXr1rX27dtbixYtqvtQpAI1adLEPa/16tWr7kORKqLAR0REREREpJJtsskmdtRRR9mnn35qTz/9dMLfN2/ePDv99NNt8803t2bNmtkWW2zh/v7TTz+ldBxPPPGE7b777i7M2XTTTW3YsGGWn5+f8AyfL774wnr16uWqRAix+PNXX31V5lwXqpsOOOAAa9mypW200UZ26qmn2qJFixI+7u+//95OO+0022abbax58+a24YYb2m677Wbnn39+qQBt6dKldtVVV9muu+7q7o/j3GOPPeyyyy6zlStXlrrt33//3R1P27Zt3bp07tw5cs5Nss9HRT9/YZMnT7Z99tnHHTevsTPPPNOWLIndHhlrhk/wuZ41a5YdeeSRbr1at25thx9+uH322WdJHc+DDz5o++23n/t+PvhzrBlOHAP3yzF98MEH1rVrV/ea2njjjW3IkCHFr8mXX37ZtTtSdcbju/jii23VqlUlbuuvv/6yG264wQ4++GDbbLPN3Drz+ZRTTrG5c+daJlPgIyIiIiIiUgUuvPBCW3PNNSODh7DvvvvOzf3hJJo5QAQFDOLl75zk8/Vk3HnnnXbWWWe58OHkk092J9x33HGHCwkSMXPmTDvooIPs1VdfdSfy/fr1cyffBx54YNwBvi+++KIdffTRLpTo27evC3weffRR6927d0L3++uvv7p1IKzi8RP8EDRxe3fffbcVFhYWX/ePP/5wx0bgk5OT4x7nsccea+uuu67deOON9s8//5QKCzj+r7/+2gVyhx56qAvlaH0iyCrP81HRz1/YI4884h4bYRjHzgwowpPu3bsn9PoK+uGHH6xLly4uaOE54nkmlCFE+fjjjxO6jfPOO889Rp6v4447zn3w50GDBrlgMZbp06e746V98MQTT3ShD8/p4MGD3byrE044wdq0aeO+tvbaa9tNN91kY8eOLXEbs2fPtiuuuMLy8vJccER4te2229qTTz7p1p/QLVNpho9ILTfru3lWWFhk6aJp44bWovk61X0YIiIiIhWOE1fmqNx888127733uj/Hc/bZZ9vChQtd9QInvN5dd91lQ4cOtXPOOceeffbZhO//jTfecB9USoCTeypfnnrqKRs1apSrhinrhJ7qGYIjAhfv8ssvt2uvvTby+1566SV7/vnnbeedd3Z/J6DhJP+dd95xA6t33HHHuPfLYySYoRokXHW0ePFiq1Pnv9NaqkMIAPg8YsSIUpU8DRo0KFWxRHB1zTXXuJY7sCaEYDzO66+/PuXno6Kfv6C///7bhSj169d31VPt2rVzl/OYWdsFCxa411uipk2b5o73kksuKb6MAIngi7V477334n7/u+++a+PHj3dVY6+88ooLZ3DBBRe4iimCRY6LqqugqVOnugogv1saQdXee+/twj2CxRdeeME6duxYfFv8+fbbb3drR+shaFP75ptvrHHjxiVu+6233rLDDjvMxowZ44KiTKTAR6SWG3vXRFu6bLmlixFn9FbgIyIiImmLIGLChAkuIKHCJRxAeLT8UGFBawpVDkFUrXByzQntzz//nPAQXtqWfNgDKiI4ob/66qtd6068wIcqCUKBrbbaqkTYA6qGCEeiWomOOOKI4rAHVN4QJhD4fPLJJ2UGPsHjDQue5P/222/23HPPuQoiWr3CaAULIzBhrpIPe8DzQqDAsaX6fFTG8xdu5SL0ITT0YQ8IQQh9qNBJBgENr80gKqUYMM6gcV4fVM3EqzYC6+7DHlBFRjDVv39/e/jhh0sFPoRrPuzxx08w9OWXX7rKKx/2YK211nJVSFRIzZ8/37X1+WOPZc8993TrT8iZqdTSJSIiIiIiUkU4AaaSgtYjKn3itU+BOTVZWVklvkY44U+c/fUSEeuEnTkroIImHiphEAxugqEJrUqVcb/gxJ/7oCrmpJNOcif8tCCF0YrFPB9CBF/9URZmxoRDNyqGCIeCx5bs81EZz1+s5yMcoKBTp04lqp4SwWykWOHjLrvs4j7PmDEj7vf7rzMfKoznI+qxxnrd+GHh8b5GBVMQ4RpBHRVGTZs2df/OGjVq5NrywtfNJKrwERERERERqUIMk6Ui5tZbb3XtRLHQOgUG0MbCTJrg9RJBhUQY1TYIzsGJdzycTMcSq3qmIu4XG2ywgU2ZMsXN5eGzH3pNKw9zkWjbARUvKKs1raxj88cXPLZkn4/KeP6C/GON9Xxw7Ousk1zFfNTz5y8vK5jjcRBkxToeboPQK9ZjjffaiPe14IyiSZMmuSCQwIqZPQydphosKyvLVRVV1IDs2kiBj4iIiIiISBXiZJTWlzPOOMO1UzFwN8yf7FIJFAvzaILXq2z+fphJE+94Kgu7W9EKx4k+7UUEP8yF4USfqg8qj3xrD4OCK1qyz0dlP38MOY56Pgiq2AEtmeAr6vnzl0e1TXk8jqKiInc84ZCLNaDyqrJeqwSBubm5rnWLiq2giRMnWiZTS5eIiIiIiEgVo/2E3bLuv/9+mzNnTqmv+3YWhuWGtx3n736IbrxWqorE7B6wC1TY8uXLi1uMKhutWsz8obKHsIy1YOtubLfddq7KhPaeZHepKkuyz0dlP3/++Yg1TPnDDz8stXV5WWjJWrZsWanLmdvkW77i8V9nLlOYv6yyXqtsvU61VzjsWbBgQczWv0yiwEdERERERKSK0ZrCcF2CCSoUwthhidkns2bNsgceeKDE1+677z63KxFDaVMZ+JsK2mSoomEOS7hqgh2Q2C2rslDR41uYgnz1DFvd+9ahbt26uQCAMCjW9ZMNQlJ9Pir7+WO7dKp82OEquL07r6fLLrss6dujZSu83Tm7ZDGwmeqqeAObwRBusO7B54rb9c+Fv05FY615zoNVSgUFBW7wdkUHf7WNWrpERERERESqASftDMX1VRRh1113nRtYPHjwYLe1OTsOESC8+OKLblYKX69KnLizoxI7LrGdeNu2be3zzz93W6szPJhqk+BuVxXl0UcfdSEJ98EOXLQGff31166ti126jj322OLrElqwRmzFzfbghCpU1BCKvP76627Ldob5piLZ56Mynz9arAgKTzvtNDe3pkePHi4AotqJ9iY/3DhRvA7vvvtu+/jjj10FFbuyMRuH9sNEtjRnODU7hrH7GM/ToYce6tadXdPYUYu5VVynMnC/5513nnuuCfxoaeO5Xr16tauEqqrqs5pIgY+IiIiIiFSr1TmNrKDZAKupx1aZ2BKcraZjYQt1TlwJWqi2IMAgKCDgYKtrqm6qUocOHeyFF16wkSNH2tSpU91QXKp+CDO4DJUxp4Vt3VesWOHayaZPn27//vuvtWrVym1vfuaZZ7oKD69JkyYuCGIHtGeeecYNx6YCiMHPbB/Pbl+pSvb5qOznj7ZAQh7CLbZF589sxz5q1KjinbESxRbnBFCXXHKJ3XXXXS40YcctXp9lVfd411xzjWvtuueee1yrIgi5LrjgAjvuuOOsshBA0upH2MScJ8KwAw44wD2WE044wTJZ1pIlS0o2FGaoH3/80f0AC6tXr5578ZMUnn766TG3qksWqfi7774b82v8sEp2a77HH3/cbr/9dpdy80Lnhy7/qKL+YX7yySd25ZVXuh+YlDRSojdo0CA7/PDDY16f3kfKAvnBuWTJEneMRx99tEuqE93ukPvjBx0Jb7I/fJJFgnzttde6/4R+++0390Of1Js+32RLJp944gn3A49UmISYbf7YSSH4LkIQpZn8wKX0kbWirJTnm6F8vPsQRqkhiflTTz3l+ktJ40nU2XIy1paXsfQ7/wZbumy5pYsRZ/S2rTbdMOXvZ02ZxM/rlPWU/2htomltomltomltomltomXq2tBKE7VbkdR+hAOce/D6/vbbb6v7cCSF82DarW677bbqPhyp4J+pqvAJoUTwyCOPdH/mBP/PP/8s3gKQVJb02m8FV16kumFlTT8PI1wgjOGXBibUM2iLnlreJSDRDocGb731lvXs2dP9gkHZHwEW5Zh8788//+x2CggiMOncubMLUbp27eoGYRFWcZ+k62xzR7JfU9C7SZrLPwBCHkKs77//3iXePI+k6jzHibjooovcVplsmdirVy8XbvH9hGOUYoZ7YyllZUvI/Px8V57L/RDesXuAT/SD2yPyH2L37t1d8Lblllu6dyjocSUUIyQineaziIiIiEhNwJvF/L7KG6pB119/vQsyTzzxxGo7NhEpTYFPCH2oVMcEUT64//77uxN6JozvtddeFXJf4ftJFkEGQVS7du1coODDor59+7rjpQKHfmDfR8sPaC7j75MnTy6epE6/43777WejR492AUSwtJAyOIIgyvsIJHwQRpULVSl8UGJZU1BJQ9jDupx66qnFl9N/yn9AVM5wzGX59NNPXdjD64G19dU5lDTSj3rLLbe4qq9OnToVfw9r+88//7gQjMDHo4Ln4osvduvLf4Ye5aWEPYRE9Mv6IPHcc891rzFujz7UqtpqU0REREQkHt5cZmexffbZx70RzEBc3gSmg4CZMfwuLiI1h3bpSgA9n74NadGiRVZTMJGdEGfIkCElKoMIcqjiob0oOACO6h4qYAhogtvq8b1MMKcXlkoYb+nSpfb000+7ljYqgDwqegiC4Hsz46FKxU9mJyxhSBof4W35vvrqKxfKEGDRCsUx8p9GomtOxQzhDN/LULAgQhXuj68nsjUfgRgYghZsxaLnl/UGvake68rxd+zYsUTYA1oBqex57LHHXCDk0f8MHmOwaozKIFrGFi5c6Kq0RERERERqAsZd9OnTx20jz85TDFJmZyTOFV577bWkBwWLSOVShU8CCEKo7CHoCIcUhC60+KTS88h8GKafM/mc22VqeTJT7Tkm0LoURsUOlSa0X/lp6GVdH8HZQlQ0Ud1Egh9u26IKiCFkVKjQsxuvzY1hYv62WSdfQRQMqQimCKlYa19l9OGHH7rZREyaZx5PuHQ0jGCIAIz2tlhtZgxqo8WK4IsQKx6/pR/fE+t28Pbbb5dofYu6Ps8ps4NmzJjhpt77CrF43+Mv41grc8CZiIiIiEii1lhjjVJbd0vtxnkHs0clPSnwCSGtZsCwb10iRKAq5Ndff3XTzqk+qchp4kHcNm0+2223XcItXczgYcZMGCWW/jrB6we/FsRtcFs8/vD1aWuKhcsZyka/brwAhWoVgi0CH8Kf8NDmoqIiV0mzfPly127lwyfQCkVLFBVFtFHFQ9UQwRPHw3MXDn0YSBZekyg+XPLfE+t2mGvEMfNOR7zr8/hoiwPbQfrAh+9hvfkepteneqyriwqtqKjQ0gWPhWqtVBEaBj/Lf7Q20bQ20bQ20bQ20bQ21bc2mTQIWkREqiDwoVKBk3l/AhxrGHFtQWuObz8KYghyrNk9DDJmVyW2wEsULT9sH0jLEiEFYci9997rwh5aj6jECW4tGOXvv/+OnMzt575wneD1EXWsfE+s60cNkva3w+C28nj//ffdujN3KBj2+PlClIs++eSTbo4Q7ypEIXjZddddXeUNO2sFAzUGU/vdzxI5XgZVM2+Hqi1a4HiewOs7OIeHNeJ+CesIvehfpiIpuLXmuHHjitvSgvfNfVBFxfaFPPe+SoqWMyrHEj3W64Z0ttVFqyxd1KmzzIqWzUr9+82sNV14/y6zIp1nZOTa/FvUwP5I8ceSr7yT0rQ20bQ20bQ2Vbs2/C4R9UadiIhknnIFPswjYfAwc19o6/GCgQ/73j///PNum+qtttrKajoCh+BQX07UCSSYs3LggQe64GCHHXYo/jphSLI7a9ECFsRW3wwZJnBhO/Gbb77ZhQCZglYn7L777qW+RtURFU/0BFNNxG5W8VxxxRV20EEHucHH7KjG9amiYV4Of/7yyy8TapujDe6oo45yc3fY6YzbrFOnjtvpi7Yxwi7CHn9bVBNR3sp29bStMbeIWTxs586xb7HFFm7GT/C+qWpiRhK7qs2ePdsNaPa7dBH4JXqszVdMtKyi/2YD1XoryvftRauLXCsis7eyszSmLBPXpqBZf8ttWLpVMh7eaefki2rHeMFyJtLaRNPaRNPaRNPaiIhIjQ98+M+Kbb2pUKDCgZPyr7/+2m1jHsT8EUISTrhrQ+ATxrBdKnJ4jFTfsBU3Oz5VBoadEfgwFycRPnSIhYHL/jrB6yPe9/hKluD1o6pMyqoASpQ/1qhqJd+y5q8XD7OQCFhoy6PShw/e6brhhhvc4xgxYoQ1bdo0oeOiuofXNRVGzEOiRJpAcOTIkbbLLru4ACg40Jmvvfjii+45ZPYO27Czi8GDDz7oAk8Cn+B9E/ARShHuEYpS5cMa8DqgQojXXSLHmp2TbVlpfPKetP/Pngk0WBvJvLXJzslJuaWBky+1Q8SmtYmmtYmmtYmWiWsTq+VeRESS/1la6YEP20gzVHf77be3CRMmWKtWrVwVRDjwoWqhbt269vrrr7v2nNqKxwladiozXOI/QdqGEsEsHp4D/y5RUKx5PcG5Pttuu22J63MbbLPILlPh6wfn+gRxOb+sMJC4PHz7GdupxxugnOj25O3bt3ctcmEDBw50nxOdkUR1DVu7B7d39/N1WKsOHTq413YQ1V9UBYX5gd7h+yZgoyqJjyDf0pXosYqIiIjUZIRbzOhjsxIREUkdP0sTfcMg5bd42WGKPuHx48e7sCcKrQPMNqEdpzbzk8uTSdOSNX36dHf7fhersvjdt6hoCWPQdPA6qVyf8IJAh7Au/LiZO8RzutNOO7lKl7L4+TQMMA7zW8T7XcTCbYOffvqp++WAXcFSRXUQ1TSEauw6Vh689sGuYolgrWgLZDBzWS1pqd6HiIiISE1Wv35994ZZfn5+pf4+LSKSrlavXu1+hvKzlJ+plVrhw8k+wUQig+GoYmAob2126623us8MBQ6iTYjqGNqfWrRoUebtMJCXFqhgKxB++eUXGzp0qPszQ4LDFSVUkzDXxQ8e9rtfMe+H2TG0//jWKmbiMIeI2UC0HnkMnSZ8YwDyKaecUhy08Bj8QGRm0Hg8Jtr2Hn30UVcxc/LJJxe/0NixzM9oSoR/vH63qiBm5DDvhvk4b7zxhu29997FXxszZoybo0RrYCJ97vwDoOomGEIxs+SMM86wxYsXu1lJ4TSUeTsMHWd2TnAHMVrWwgOu33vvPTe0meeC1qsg/w8vWKrM2rLWzLhix7GwWPfBa411YCB4sOJKREREpLaicpodSnkzb+HChdV9OCIitRLnsvwsTWTWa7kCH05gEy3J5ES4tpRvBrdlByEBM3U+//xzF1xdeumlJa7P7BWGMDOo17ftxEOwMGTIEBfEbLDBBu42CXSY98J/gEceeWSJ0AX+XZBwJQ07QzFMmrlCDDzu1q2bW2uGAOPGG28s8ULg+9ninKoRQg7CHIYiM2OJrcxHjx7tjimIx0vlDcdMCEHAx2NgdhNDrBOtQCFIIQjhPpj1RMhBQDVgwAB3jOxkxW316tXLzUoiUKFdjfsmDAqve5TPPvvM+vTp46p4Wrdu7Sp72DWLoIlwivAlzFcdhdeX61MuR1UO7WTM4CGUIryi5SrcYjZ58mT3+HisLVu2dC1qzPThl5qLLrrIhXJhDHPmuaN9jvXh8fIYaOUqaxt6ERERkdqE3/n4/SnRNn0RESmflAMf2rioVmHHongtPVQ4UA3E8NrauC07LWk81r59+9pZZ52V0Hbp8VCp0717dxcgMQ+IkIfgg9YoqlgIYcIIGhArXKEqiEorwqZ77rnHVbcQJl144YWl5vT4mUq0NhFqsUPUypUrXejAIOJY903V0tSpU12oRCjF97IGBBiDBw9OePAe7UxUrhBi0AZI1Q23Q+ADjpkwhQHGtJxR+cJ9Mz+HHbdIMRPBPCEClGnTprnZPwSNrPnll1/u1j2MMI0AijXccccdS3yNUIxhzY8//rgLfgiQON5zzjnHmjdvXuq2WEfCIVrgmGVFqEVbHIEg6x4LAR+DpRnyzFoS/BAacT+89kRERERERERSkbVkyZKUmmip+KDNhxYZf9LO0GaqYWjB8QgKaBciHLjkkktSOshMN3z4cBfm0M6VaPAhiSFMo02P1rF+/fpZbZQ3f2R6bcteTkWFRZZfkG95uXlpvRNVKjJlbQqaDbCi3HbJfU9Bgat0JIjOtF1zyqK1iaa1iaa1iaa1ERGRqpLyb/ynn366m6nCXJLbb7/dVaqEhxz7sIe5Jj4UkuRRrXL88ccr7KmktaVah+oqEREREREREcv0li7mqjAPhnYV2ocIfvxOTAwDZggxs1G4jDYeZppIavwOWlLxaNXjQ0RERERERCSdlKumn/kj7GzUqVMnNwuGElVmolCmylBnZqdMmjQp5uwUERERERERERGpYRU+wS21GeT766+/2hdffOFauWjhYoAtW4CLiIiIiIiIiEgtC3w8WrbUtiUiIiIiIiIiUv3Sd5sWEREREREREZEMVSEVPl9++aXNmTPH7dTFDJ8oxxxzTEXcnYgEFDTpY1lWVN2HUWMUFRZafv5yy8qrZ9n/P0heMmttVuc0qu5DEBERERGp3YHPM888Y8OHD7f58+cndH0FPiIVb3VuW4uOWTMPw+PnL/7J2jRoY7m5udV9ODWK1kZEREREJHOkHPiwO9fJJ5/stl5fc801bYMNNrCmTZtaVlZWxR6hiIiIiIiIiIhUTeAzduxY175F1c7ll19ujRs3TvWmRERERERERESkJgQ+33zzjTVq1MhuueUWy87W7GcRERERERERkVof+Ky11lq23nrrKewREREREREREalhUk5rOnXqZD/88IOb4SMiIiIiIiIiImlQ4TN06FA78MAD7frrr7chQ4ZU7FGJSMJmfTfPCgsVvHpFRYW2fPkKy58737Kz/7f1eNPGDa1F83Wq+9BERERERERqfuCz7bbb2t13322DBg2yjz76yE444QRr27at1atXL/J72rRpk+rdiUiEsXdNtKXLllf3YdSowCc/v8Dy8nKLA58RZ/RW4CMiIiIiIhkl5cAHW2yxhQt+XnnlFfcRD9u1//nnn+W5OxERERERERERqexdug4++GBbvHix2569LIlcR0REREREREREqjHwGTVqlC1atMg6dOhgF110kav0adasWQUckoiIiIiIiIiIVEvg8/7771teXp5NnDjR1llHszFERERERERERGr9tuwrV660TTbZRGGPiIiIiIiIiEi6BD6bbrqpm98jIiIiIiIiIiJpEvgMGDDAfvrppzJ35xIRERERERERkVoS+PTq1cvOOecc69evn91yyy22dOnSij0yERERERERERGp2sCH3bmefPJJy8/Pt4svvtg22GADN9OHy2N9sItXRfjss8/s9NNPt44dO1qrVq2sRYsW7rapOHr99dfLffszZsxwO5D16NHDNt54Y2vUqJEdcsghZX7f448/bvvuu687JtbiqKOOcsearO+++85OPPFEa9u2rXtsu+22m919992R29r//fffduGFF9pWW21lzZs3t6233tpGjBhhy5Yti3n9oqIiu+OOO2zXXXd1t89j7Nu3r/3www8JH+OPP/7o1mXgwIFW2R577DE766yzbO+993aPj/t96KGHEv5+Hlfr1q3d95199tlJ3XdBQYFdc801ttNOO9m6667rntcjjjjCDSyPMnXqVOvevbutv/76bn1ZZwLRwsLCmNefP3++e3w8f+xyt9lmm9lpp51mP//8c1LHKiIiIiIiIlIhu3TNmzev1GULFy6MvH5WVpaVB0HF8OHDbdy4cVanTh3bc8897aCDDrK6deu6k3paywhdCD/OO++8lO9n8uTJdt1119kaa6xh7dq1sz///LPM7xkzZoxddtll1qZNGzvppJNc2MLuZV26dLFnnnnGdt5554Tu++uvv7YDDjjABQ2HHXaYtWzZ0j2uIUOGuK9de+21Ja7/zz//uDBq5syZLmwijCCwuvnmm+3dd9+1F154wXJzc0t8D+HChAkTbPPNN7dTTjnFfv31V5s0aZK99tprLqwgAKpJWFdaB5s0aeJCF/6czGsm1VCK54Dg5oMPPrAtt9zSTj75ZPvrr7/sueeec2vOGoaDwNtvv93OP/98a9iwoXXt2tXWXntte/PNN93r9qOPPrL777+/xPXnzp3rnu8//vjDPX+HH364ff/99/bII4/YlClT3HO/0UYbpXT8IiIiIiIiktlSDnw48a3qE3/CHipYONkOnwhTaXTnnXfaokWLynU/BC0ESZzkc1sMp46HE/SrrrrKhUOvvvqqO8kHVTP777+/DR482KZNm2bZ2WUXU9EiR8XOE0884b4XF110kQseeGy00XXq1Kn4+jfeeKMLewhxLr300uLL+fMNN9zg1ovb9N566y23dlSdEPIQaoHb5ePcc891QVVNQnhFtRMVM9dff72NHDky4e+99dZbXdBCxRZBYDJYb8IeXg9UWOXk5LjLWaO99trLPa+EjmuttZa7nODskksucZVErDPHi1WrVtnxxx/vgr+nnnrKevbsWXwfhEOEPbx+Tj311OLLeW6o8ho6dKj7HhEREREREZEqa+nafffdk/5I1Zw5c1y4wRbwnADHqnrIy8uzM8880y644AIrDypfaBGjcigRtBdxUk8Vjg97sM0227iT+2+++cYFPom0cr333nu2xx57FIc9IJQh9EGwQoQWrwceeMAaNGjgQogg/s7lhDtB/u/cng97wP3x/FDlU1YFDY+XFj1QiULA4T/efvvtEtVHV1xxhe24446uMmfDDTe0I488Mm47VCy0cvnwJBmzZ8+2yy+/3LVxERImi+ooH8r4sAe89o499lhXzUaI41GRs2LFChfuBI+XajT/miQ4ClYQERDSpkalVRAhE8fM15NptRMREREREREpd4VPVXr44YfdDBTapThBjmfNNdcsMWuGcIJWKyphKsM777zjPtOSE7bffvu5Y6e9ilk8qd7OLrvsYvXr13e3E6wsoqqE++BrQfyduTMEBsyCWW+99Yrvg6/FajHjdvg693H00UdHHidBBNUotC8xdybY1uSDDsKMbt262fTp093601b1+++/29NPP+2OieCDUKOy8FrhPqkMIvyiUidZv/32m/vM3J4wfxmVPMcdd5z7M4+vrOt/+OGHLhTiNUr1GEEhr81Y7Y58D69Z7oOwLJ7VRYVWVBR7RlAmopUv+Pl/fy50r8tM9++//5b4LP/R2kTT2kTT2kTT2lTf2oTb+UVEJHNVWODD8Nlvv/3W7dZFm0v79u3dAOOK4KtCaKGpaQheqKahiiXMz8PhOoncDggpwqgwIQBgjg8hAVUj8a7vLydc4XoEPlTcLFiwwLbYYosSFSvB6ydyrFQuUclE4EP4E6uiimoswh4qehgQ7QMNKll8mxsBk2+HqmjMYPr888/dTKJgJVMymBlEZRmhIYOUg7gsvFZcP/i1WNfnuaNihzZBKqJ4HqioolorHPrEuo/Ixzuks60uWpXS48wUdeoss6JlsyzT8QO/dWPOMpZZkc7BUlqbf4sa2B9/WUbyQbiUprWJprWp2rXhd4uo3w1FRCTzlDvwefbZZ+3qq6+2WbNKn0wxB4cByoceemi57sNXTyQbIHF9qioSbc9KBTN32F0pFh9ocJ1EbgfBtrDwbVGxwEBowoKyrs/g4ODt+s/+8rKuXx60erHmzLQJBhlU+xxzzDGuNY3h2PEqiVJFVQw7a9HeV56d4Tp37uzm/3BbzPPxIRmBjd8ljCHO3j777OOuQ5sdO8b5qipCHv59eP576tWr52Yp0QZ31113Wf/+/Uv8m/IVacH7iNJ8xUTLKvon5ceabopWFxVXUmVn/X/X6orqPqoavDaS1NoUNOtvuQ1LV/KlM6oQODHljY1UQ/R0pbWJprWJprUREZFaEfgwo4UdqvyW4ZzwUunAzla01XzxxRd2wgknuOGzyQ7NrQiEDlQaSdUhMPJVLGyHHsaMIgIfAo2KDnz4Bcq3cg0bNqxct8XW6LSgMcSaeUBUl/ldumjD+vLLL0sM4qbtigHZ7KRGkEPISYjGLl2+rY7Pwe/h3w8Dwmk7e+mll1xASlUR84P4c/g+omTnZFuWTt7/8//dbZy0szYSoLUp99pk5+RkbLsEJ6aZ+tjLorWJprWJprUREZHKlvJv/MwW8duE07rD/BferWBIMZ/5+1FHHeW+TigUHOibLD+355dffrGahpP6qKoY2tv8dRK5nXgVHdwW1TK0jyVy/XBFT1kVPGVVACXKP+aoqiff+uavV9GtXF999ZXbnSs4yykVVFQRwhD8sDZU+bz++utujpR/3Tdt2rTE9zAMmxa2TTbZxAVFDz74oAu9Xn755eJ1DX4PLXEMymY7dlrQaJNjeDc7rPkwLHwfIiIiIiIiIpVa4eNns7BdOifFQVT6UKHACSxtPFT3jB8/3lV3pIIhwwRIhExsiV2TMKeHtjFfmhvk56/4WT5l3Q6o8AijWoqZLszxYX5PWdcPXu6vx7DmFi1auNvh9sJzfMLXT5VvY2O78XjteZUxv2fGjBmu7Y12rFjuvfde93HwwQe7YdploXWOKhw+gnxL13bbbVfqewg5fdDp0SbCa4Fd5sIDmKlA45jCqFSKug8RERERERGRSqvw+fjjj137lj8xjcKOTlQpEIqkqnfv3i6guO+++9x22PFwcl2V/O5bVGqEMTQ5eJ1Ub4dt3Rm6HLwdgpmWLVu6Haj4WhB/53ICIj9Lxt8HX4u1Nbo/VtqRyuLDIoKjMCpZCDUIkGJVZPndyFLZKr0szNHp06dPqY8DDjigOFzh71yvPJ544gn3uWfPngldn+3beV326NEjoetT/UR1EQFReY9VREREREREMlPKgc/ixYtdoBBrS+kgvs523Vw/VcxkYWcnZgMdccQRbkZMGFsu33LLLXbVVVcVX7Zy5Uo3f2Xu3LlWWY499lhXdTN27NgS7VVUmzz11FNulg3bqgexlTnVI8E2N9qA/BDfKVOmlJhLc/nll7s/H3/88SXWlfCCIc6+xcjj71zO/KQg/3duL7gVKPdHEMOW8H5r9Xg4du6fndliYTAzaz9y5Mji+U5gphOVNYRCwe3cKwqDj2+++eZSH2eccUZx4MXfgwOS/ePhIyxW+xvtYm+88YZ17drVOnbsWOb1aXEcPny4e8xnnXVWia/l5+e7oc5BBEMcL/9eGHiu3n4RERERERGp0pYuTpDZUjoRDKuNdUKdDE6aCXXGjRtnO+64oxuiu/nmm7vBzLQpcRK+aNEidz2PCpNOnTq5Ibt+16OyEBBdf/317s/cH9huPljJdNtttxX/uV27dnb++ee71rbdd9/dunXr5sIWZrj4LcrDg3dpO4Jvz/IIjbp06eJCJOa60IL1yiuvuB3QCCl22mmnEtcnBGPALzNfCJhon2MWDFVChBHh6ivWjNBowoQJrjWOyhe2amc4cePGjd2OVIlgjhC3/95777kdqag24jHSykRgxHFx3I899phbT+6LFi/uh4CDdsBEW7o4ViqcwHwesBOWrxQiTAsGYcnyz0WsrerZwp7nlMdHwMV9fvbZZ67NinAxjNce68/asJ60cVGpw9rQBhastgK35SuOmPVDZQ/zfvj3QjjHNvYiIiIiIiIiVRr4cFLLST07LoUrSYJow2Juy4EHHmjlwUkzs1R69epld999twsb+OCEndk5++23nwtK9t5773LdD7N42FY8iOMPXhYMfMAuZAQdXH7PPfe4EIoggtlF4a3BqXj5+uuv3fUJroIIsGitIjxibZcvX+7CBoZe9+3bt9SxMpeH7c2pamL3KKqDWIvTTz/d7VKVl5dX6nsIhwgyeN6YscRtUK0yYsQI22ijjRJeJ0IbHh8BBZUtPC5mLfG4qEpha3Hui5CHkI5jocKGnazCFU/xEPaEnw9a0oJtaeUJfHyIFKs9i2HkrCmzowh8eC5Gjx7tQq5YQ6GpkCIcnDRpkgv9eC54vQ4ZMiTm2hIAESjxGHmNsUaEdlRgde/ePeXHJCIiIiIiIpK1ZMmS/3pukjB16lR3MkuVCjsXMbg5OJCWtivaXwh8mPXC3BNCmUxHwEDrFiFOv379qvtwMh7DxAnHCA8J3GqjvPkjLauo5BynTFZUWGT5BfmWl5unrcdDtDblX5uCZgOsKLedZRKqXanopVpWbaYlaW2iaW2iaW1ERKTGV/iwExItJ1R63HXXXe6DCgW246Z9h/kkoPKD1iKFPf9DNQfbzB933HHVfSjy/8/HQQcdVGvDHhEREREREZEKDXxAK9E222zjhgRT0UMLEvN0gsOWaXdiiK/8D61ZsdqzpHrE2hJdREREREREJKMDH79lOh/MLuGD2SUM9WULbAYai4iIiIiIiIhILQt8gtuK8yEiIiIiIiIiItVLUztFRERERERERNJMyoHPSy+95LaQvummm+Je78Ybb3TXY1cvERERERERERGpwS1dbLPOlpIHHnhg3Ot16dLFLr30Und9dvYSkYpV0KSPZVlRdR9GjVFUWGj5+cstK6+eZefkVPfh1Cham/KvzeqcRlV6XCIiIiIiVR74fPbZZ9a4cWM3nDmezTbbzNZZZx2bPn16qnclInGszm1rq6v7IGqQgoICm7/4J2vToI3l5uZW9+HUKFqbaFobEREREUk3Kbd0/frrr7b++usndN02bdrYb7/9lupdiYiIiIiIiIhIVQQ+derUce+IJmLFihW2erVqEEREREREREREanTgs8EGG9i3335bZuUOX589e3bC1UAiIiIiIiIiIlJNgc9+++1nhYWFdsEFF8S93oUXXuiqe7i+iIiIiIiIiIjU4MBn4MCBttZaa9mkSZOsW7du9uabb9ry5cvd1/j8xhtvWPfu3W3ixInWoEEDGzRoUEUet4iIiIiIiIiIVPQuXeuuu67dc889dsIJJ9jbb79t77zzjrs8JyfHVf6Ayp569erZvffeay1atEj1rkQkjlnfzbPCQm3L7hUVFdry5Sssf+58y85O763HmzZuaC2ar1PdhyEiIiIiIukU+KBz58722muv2WWXXWZTpkxxw5lXrVrlvsa2tl26dHEtXWVt3S4iqRt710Rbuux/1XXyv8AnP7/A8vJy0z7wGXFGbwU+IiIiIiJS8YEPNt10U3vggQdc2PP999/b0qVLXatXu3btbI011ijvzYuIiIiIiIiISFUHPt6aa65pW2yxRUXdnIiIiIiIiIiIVPXQZhERERERERERSdMKn3/++ccNbZ4zZ44tW7bMDWqOMmzYsPLenYiIiIiIiIiIVGbgc9ddd9moUaNc0BMPIVBWVpYCHxERERERERGRmhz4TJw40c4991z356ZNm9o222xjzZo1s+xsdYmJiIiIiIiIiNTKwGfcuHGuaqdv375uW3aGNouIiIiIiIiISC0OfGbNmmVrr722XX311arqERERERERERGpQVJOaurUqWMbbbRRpYc9P/74ozVq1KjER8uWLW2zzTazbt262eWXX25z586tsPv7448/7LrrrrPjjz/etan5+4xn6623LnWM/uOQQw5J6v6LiorsjjvusF133dVatGhhG2+8saui+uGHHyK/59VXX7WDDz7Y1ltvPWvTpo117drV3nzzzcjrf/fdd3biiSda27Zt3X3stttudvfdd8cduB02cOBA9/h4fioLxzNlyhQ755xz3Hqsv/767rnneMeOHWsFBQUJ3Q7f75+P3377Lalj+Pjjj+2YY45xa9W8eXPr2LGje83l5+fHvP6SJUts+PDhtt1227nr8/zxWiIgjfLEE09Yly5drHXr1taqVSvbZ5997KGHHkrqOEVEREREREQqpMJnq622su+//96qCuHSkUce6f7877//umDmk08+sWuvvdYFNIMHD7YRI0a4NrPy+Prrr90gam6Hk/V69erZ8uXLy/y+hg0buhAkjJAiGWeddZZNmDDBNt98czvllFPs119/tUmTJtlrr71mU6dOdccU9Nhjj7nrMUeJYAJPP/20HXbYYXbfffdZ9+7dSz2+Aw44wIUlXIcA5ZVXXrEhQ4a4r7GeNcWKFSusV69erl1w9913t/32288dN2sxevRomzx5sj3//PPuOYry+uuv2z333GP169d3O8ol49lnn7WTTz7ZcnJyXLhIgPPBBx+4NWJnumeeeaZEK+OiRYts//33d/8uOnXq5EI4AiZuh+eOzzvssEOJ+7jooovs1ltvtXXXXdc91rp167rnY9CgQS4kol1SREREREREpMoCH05Ijz32WDe8uUePHlbZqLC44IILSl0+bdo0F3gQ+lBtRHVFeWy66aYuSKC6Z6211rIdd9zRvv322zK/j/a2WMeXjLfeesuFPVSzEPKsscYa7nKCAD4Yks16B6tJzjvvPGvSpImr6KFCxIdGe+65p6ts2Xfffd3j8Ljs77//dlUlhBM+dCAYuvPOO939EFbUBAQtPJ/9+vUrUWW1cuVK69Onj7300ktup7gzzzwz5vf/9ddfdvrpp7vHtnDhQnv33XcTvm8qeFgrgr+XX37Ztt122+KqI9actWKO1dlnn138PVdeeaULe/i3QRWQ9+GHH9pBBx3kjuW9994rror79NNPXdjDa5sqrcaNG7vLL730Ujv00EPtlltucUFTTXk+REREREREpPZIuR+L6gUCjjPOOMOFLYQP1WGXXXaxp556ylVa3HTTTfbzzz+X6/ao4qBlKBiSVBXCHh/A+LAHBDNUuFDZ8tNPPxVfTihEqDFgwIDisAf8uX///vbnn3+6CphgKxeBwx577FEc9oD74j5x//33l3mctLA98sgj7s8dOnSIbF97//33XVXWhhtu6CpYCM+uuOKKhCqmQLXL0KFDS7XUcTlhDOKFOOeff74LbsaMGWPJIqQhJOIx+bAHBEB+ragcCrbBvfDCCy7MCQd/BDYHHnigq6B65513ii8nWMRpp51WHPaAaiQqrvx9iIiIiIiIiFRZhQ8n+r7agrYTPqg0iWqv4UT5s88+s8qwySabuPYk2ps4iabiJxhOEJJ8/vnntsEGG1hloc2MuSsLFixwYRGzXsLtO2UhDOBkf+eddy71NdqZ+DoBx9FHH118fVDFE+v6V111lbu+b/WKd32CM+47kSoYWtcefvhh++KLL+zUU0911U3h9jXCKGYPEcQdfvjh1qxZMxdYXXPNNe4zQVRubq6litDHVwHF8uKLL7pQigog7jtZftZPrNeMD7h4XTFbiXZD/z38G2jQoEGp7/G3QxUX1Vf4/fffI+/DX0brWFlWFxVaUVFhko8wfTEHK/g5nfG8JzrLyv+cCn6W/2htomltomltomltqm9tyvP7lYiIpJeUA5958+aVuoyKiCjlna1TFipgCHyY61MdONmnlSeI0IdhyD4QiIf5MoRFW2yxRcwQg7YfBOcm+T+H5/oEL4t1fX9bQdwnIQNVKKtWrXJDuaNQkTJz5kwX+BD+hAMLWsZos+I2mEfDvCdcfPHFrj2LtjSqsWiNStWDDz4YGV4xS4eZTlTnHHHEESndPsENYg2lpqrKV7RRNeWfX76H2VLLli0rFfr42wk+H/Huw182f/58VxEVb07RdUM62+qiVSk9Tqnd6tRZZkXLZiV+fSoAKSb7d5kV6RysBK1N+dbm36IG9sdflrGS3RAgk2htqnZt+H0u1u95IiKSmVIOfJ577jmrSRg+7E/2gxiUSxUSux9VFmYZUSFDWEOVDCEAs1kIoJjBQhtVWS1ihCR++HMs/nJ/vbK+x99frOv7ipxY30NVBIFFWTuTxUNrE/dFhY8Pe0C708iRI91zQoVQqoEPO3fde++9bt4Ss3zCaIfiXTNaDVO10047uXWlYozqMF/RBtrSguGP17lzZ1fldfXVV7uh0sGdvpgDFOv6119/vd12220umPJrTsDD5R5rGS/wab5iomUVJTeQOp0VrS5yA7+pLsvOqtxdBKvdiuSunlFrkyStTfnWpqBZf8ttWHlVtDUV/9dw0k7bcrAVW7Q28WhtRESkxgc+VNTUBolU15QXs2KCGPjM1uog9GEuDgN7M8WMGTMiXyNsG89MH0KxpUuXJj0riQouds4ijGEXsuAuWaB6iF3Kbr/9dveLVKqo0KFNkUoldjVj8DPznZjtQ2ti+/btbfbs2cUDmHHhhRe64cs333yzffTRR66lj1/o2M2LcOrLL78scX1mRR111FHuNUIbH4OdqYoi0KLKisdI2BP8nliyc7ItSyeo//n/7jZOTFkbCdDaRNPalGttsnNyMrqNhJP2TH788WhtomltRESksqXNb7VsXx5sk6kJTjrpJPeZrbzLEquCJyhWNU+87yFMibp+sMok/D203sWaQZMMf99Rs3N8EOOvlyh2tWIeEMdIsMPW9UGLFy92Q567dOlSPOeoPI4//ni3mxnDpqlaoj2PQIYAxweJTZs2LTEsm/lEVB3RkkXoR/BDEOSHMAevD6p7mLXE65aqp8cff9y1AjKDiGor7i840FlERERERESkUit8aho/kJiT5ZrCh0+J7EpFK1iLFi1cUFBYWFhqjs+cOXNKzevhz4QgzIVZZ511Slw/1nwf/2d/W0HcJ/fNPJ5483sS4at2mGcTix9WnEx1D4+TwdzsikXYE+t5ZogyLX20T0W1pFFp44cnU4lVFnYzC+5o5jEYnMqbYKsXaB2kwieMLdux3Xbblbic22DwNR9BPBe01nH7fkC1iIiIiIiISKISPrP323CXh98tqqLRHsSuULT3dO3a1WoKZreEd6+KhxYftphnO3P+HESrEHbdddcS13/yySddVQlVKLGuH7wd/2euf/bZZ5e4/rRp09zgaEKVRPhAKtZOSD5IIYSjIifo559/trlz57q2rkQDHx/2cF+sT9TuZ4ResWb6gOHRtFf16tXLlU+HA7Jk8PwwtJxWr6h5SOEwjZCKII2ZTomgsgg9e/ZM+ThFREREREQkcyUc+LAzU3l22uJ7KyPw4eR7wIABbqDksGHDSg1nJlxgaDMtOJVRKcEcl/XWW6/UUF0uv/TSS92fwztFsdX2oYce6gIYhgJ7J5xwggs0Lr/8chdg+UF+zHQhPGFHqmB4RJhyySWX2Pjx4+24445zLUV+Z6c777zTVRgFAzC2rycw4v65TV+5wvBA7tO3MSXCtxkR4ITnJB188MGufYwBxuzK5VuvqM5hTZhP07t374Tuh3k5hD2EJoRbnTp1irwuz0Os6hqwYxeBD3N5wrN9qL5h0DKvnwsuuKD4clrlwgOxaR30O5DRqhXE64zHlpeXV3wZIdXw4cPt22+/df+G/HDxePfBkG+GNjPvyLcFioiIiIiIiFRK4MPJdGVvrR4PbUi+LYYTa9qFpk+fbl999ZWrNmF2S3h4MqiooNWHnZbC24dHYavx8JaZwcuojmFoLwhoxo0b54IUTtAJfqg4IlDhOM8555xS1Tq+KibcOrXnnnu6wGXChAm21157uQoStmpnCDEByzXXXFPi+rQtXXvtta69iOv7ahquT2sTO1mFq2jGjh3rZtywsxjXp42M6pdZs2ZZ//793e5UieBYCVfOOusst8Y8bh4/s3MIMNh2nV262ImK+2F2zRtvvOECnO23396FJmVhJg9hDzOHuJ3XX3/dfQRRYUOQUh5RzwczeJipw0Bl5hERbjFbhxY9Hvu2225bqlWN3dr22Wcf91ojSKOaivCPNSecCyPkKygosC233NI9V7yeee3wfBOYJTvUWkRERERERCSpwGfmzJnVumJU6lCFASooONGnYuXcc8911SIVuRtXrPa14GXcnw989thjD3dCz85UtEURBlBZQ/UM1S1U5YQRrkS169xwww1ue3d29mKnKWb7UKUzYsSImI+RXZ64P4Ichv4SyjH3hXXZe++9S12fahvavah0IejheJntM2bMGBfQJIrHN2rUKHect9xyiwu3CLb8sGSCGna1olLlueees/z8fFedxHEREiWyKwXVL0uWLHF/njp1qvsII2Qqb+DD88EsnXD7GdVE7777rr300kvuOGgD43EPHjy41OweEHSx0xZDupkjREUZ6034RQVWrN22qDzyw5oJfqjSomKNoJD1ExEREREREUlF1pIlS1an9J2SMqp4qE5iNo1v25Lq065dO7eFPNu810Z580daVtE/1X0YNUZRYZHlF+RbXm6ettcO0dpE09qUb20Kmg2wotx2lmkI6qki5s0Hba9dktYmmtZGRESqin6rrQbMHRo0aJDCnhrgm2++sYULF5YaYi0iIiIiIiJSm6XNtuy1CS1gUjOwTbtvGxMRERERERFJF6rwERERERERERFJMwp8RERERERERETSjAIfEREREREREZE0oxk+IrVcQZM+lmVF1X0YNUZRYaHl5y+3rLx6lp2TU92HU6NobaJpbcq3NqtzGlX5cYmIiIhIfAp8RGq51bltbXV1H0QN2+52/uKfrE0DbXcbprWJprWJprURERERqZ3U0iUiIiIiIiIikmYU+IiIiIiIiIiIZGJL17vvvlshd7bbbrtVyO2IiIiIiIiIiEg5A5+uXbtaVlaWlQff/+eff5brNkREREREREREpIICn/XWW6/cgY+IiIiIiIiIiNSgwGfmzJmVfyQiIiIiIiIiIlIhtC27SC0367t5VlhYVN2HUWMUFRXa8uUrLH/ufMvOzrHaomnjhtai+TrVfRgiIiIiIpImFPiI1HJj75poS5ctr+7DqFGBT35+geXl5daqwGfEGb0V+IiIiIiISIXRtuwiIiIiIiIiImmm3BU+v/zyiz355JM2Y8YMW7Roka1cuTLm9Rj6/Oyzz5b37kREREREREREpDIDn/vuu8+GDRtWIuRZvXp18Z/9zl5cpl2+RERERERERERqeOAzbdo0O+eccywvL8/OOOMMmzRpks2ZM8duvvlmW7x4sX300Uf20ksvWZ06dey8886z5s2bV+yRi4iIiIiIiIhIxQY+t99+u/s8btw46969u7377rsu8DnuuOOKrzN79mw7+uij7Z577rG33nor1bsSEREREREREZGqGNpMBU+jRo2sW7dukddp37693X///fbTTz/ZNddck+pdiYiIiIiIiIhIVQQ+f/75p6233nrFs3lycv63/XF+fn6J62299da2ySabuPYuERERERERERGpwYHPWmutVWJA89prr+0+//zzz6Wuu8Yaa9ivv/5q5fHjjz+6iqJ4H4RL5d1xjBa1ww8/3Lbaaitr1qyZq1Lq06ePffzxxzG/58orr4x7TBx3Mj755BPr1auXrb/++taqVSvr3LmzPf3005HXX7BggZ1++um26aab2rrrrms77LCDjRkzJnK3tBUrVtjVV19tHTt2dNffbLPNbPDgwfbHH38kfIxvv/22e2w89sr0+++/27nnnmv77befCw2ZA7XFFlu4qjJ2fAu+/qJ8+OGHts4667jjvf7665O6/yVLltjw4cNtu+22c/e98cYb2/HHH2+zZs2K/J4nnnjCunTpYq1bt3bP3z777GMPPfRQ5PW/+eYb69+/v3udcR+87hiEzhwsERERERERkSqf4cPJLGGDR+Dw4osv2muvveZOzr3ffvvNvvvuOzfcuSJstNFGduSRR8b8mg+dUjV+/Hi74YYb3H1wot60aVP7/vvvbfLkye7jrrvush49esT83mOOOcaFNOU5JuYc9ezZ03Jzc939NGjQwAUbJ510kgvSGI4dxNoSCM2fP9+6du3qAglmKV122WU2ffp0e/jhh0vsjlZUVGS9e/e2V1991XbccUcXnPD4JkyYYG+++aZNnTrVPeaagsf16KOPuhCLx9e4cWMXTFEtRvDCx0033RT5/cuXL7eBAwe6194///yT1H0vWrTI9t9/f7c+nTp1soMPPtitN88H68RnjivooosusltvvdUFaYR2devWtVdeecUGDRrkQiKel3Bb5GGHHeaq4rh9XnczZ860O+64wz1HfC9hlYiIiIiIiEiVBT477bSTG8bMSTAnuJyQU0ExcuRId6K7yy67uK+NGjXK/v33XxdMVIS2bdvaBRdcYJWBqpfnn3/edt999xKXv/fee24wNbuSHXLIIbbmmmuW+l6ClD322CPl+161apWrtMnOznbh0jbbbOMuZ4czKlxGjx7tjiEYKl1yySUuCLruuuvs5JNPdpdR9dKvXz976qmn3McRRxxRfH0CIIIELrvzzjuLwyCeRx4bgQSBV01BtcsPP/xQ3C7oLV261L2eCKoIdDbffPOY38/6EBCdffbZpcKWslC9RNhDWHP55ZeXqBg66KCDXFUVrwueL3z66acu7OH1yRoTTuHSSy+1Qw891G655RYXsBEeeTzfBFE8LwQ+HiHWxRdf7J7zZKuSRERERERERMrV0nXAAQe4ipGXX365OCyh8oZqhaFDh9puu+3mqlQ4Ea5fv76rfqjpOCEPhz3YddddXZhDi89XX31VKfdNdc/cuXNdGOPDHl8hRBhDaPbII4+UCD1o9dpwww1dBZBHiEPQAQZmBxGQgDAhWPnD93M7tCOFZzDFCkIIMEBrWFT7GjOezj//fPdYaFVq166dnXjiiUmtH8FhOOzx7YSEYGBnuKj1pCKLsKZly5aWrBdeeMGFOeFwkcDmwAMPtK+//treeeed4ssJ6XDaaacVhz3gtT9kyJDiYM3juWYt+HcTDHtAmERlz2OPPZZ0ZZKIiIiIiIhIuQIf2l2oLqGVyWP+DWECJ/ecrDds2NCdzBIKRVVhVCY/X6ciZs3weBArgADVHlTHUJ1BldCyZcuSun0fHuy7776lvubDDdq1gu1AzOOh9SwY3oAqINrqPvjgAyssLHSXFRQUuDlEXB5uPeP7uR3CBQK6eAjE/HNOqMe8Gf/h29cWLlzoKnBuv/12d19Uyey555723HPPucunTZtm5cFjIdDhuGO9rgjDuE/WkvlLqaA6rUmTJq6tLmyDDTZwnzmG4Lyh4NdiXZ/ZR8Hbj7o+QRMD0WlJi5odJSIiIiIiIlIpLV2+eiGIMIT2GT4qCxUdUQEOc2kqqnUsiG3l33jjDWvRooVtueWWMa8TPibCj6uuuqpEIBYP7UNgDk8YLXMED8FqFn99Wohi4fJvv/3WHTvVO1SUUJEV7/r+dqloiuLb1qg2IvyJ1V5HhRH3R2USAaDHTBqqwAhjCDJ8O1RZaMuiWofjJ0yaMmWKCxsJmWI9ngsvvND++usvu/HGGy1VhD3cL8FdOPTxlUz+OfDXD34t1vWZSUSIU69evbjX53H64efMv9prr73iHuvqokIrKvpfsCf/W7/g59qC55AwszJRKRj8LP/R2kTT2kTT2kTT2lTf2jALUkREpNyBT3UgSKCVKJZTTz21ROAzYMAANwTZn1yngt2uTjnlFFdNwzyWcIUPc2aYz0L4QSBE5QYVTVdccYVr7yH4CbfsxPL333+7z1RFxUIbk79O8PpRQ6H97RB8JHP94H2kgl9emB1ESxKtfeE2QCqJXn/9dXv//ffjBktBBC/B55xqK+bb0PoURhj0wAMPuGorqmRSxeuI3bW4X+7LI6jybYx+bf31mbdz2223ubY8KstAwBOcw8P6EvhQBUcQx65s3B47ewUr5RgaHb6PKNcN6Wyri1al/FilZqhTZ5kVLZtVufdhZq3pOPx3mRUlcZ7xb1ED+6Psl2Ja8NV3UprWJprWJprWpmrXht9To97cExGRzFPrAh/amwgUEkHQU56whwoBQhvatU444QQ7+uijS13Hz7PxaNEhaGLXMnZgYlhwIoFPupg9e7arUqASiGAjjMsJfNiNKtHAh63YmZ9EexqVLzz/hDC0rN13331Wp87/XsZc58wzz3QVMcwLKg+qhBi+fPPNN7v2OXbk4hezZ555xj23X375ZYkKJdrbjjrqKDd3Z+edd3aDnTkuAigGchOoEfb476EdbezYse41RRUYw8DZpeuLL75wO93xmJnxk0gVVPMVEy2rSLN+vKLVRS6gZbh6dlbKXatVb0XNXZuCZv0tt2Hp9sN0QljtNyFYY401qvtwahStTTStTTStTTStjYiI1JrAh12UaNWh3Yj2F3aJioUTXCphagvCHlqPGGRMG1KyuyUROnACz0k7J/pRlTuJVtgwl8ZXjQSvH1UBEq7oSfT6ZR1nWThONGvWLObX+eUmeL1k37UiUKNVjDCFdjEGU/ft27c4pOFxxNuqPVGtW7d2wQutemzDzjb3XMZ9MJeIXdHCW9hT3bPddtu5CiN23qKkmoCSnevYtY5jDg505msvvviiXXvttW4eEP+OmEn04IMP2ptvvuleO+H7iCU7J9uyalOwUdn+v7uNQIO1kfKvTXZOTsa0CHDylSmPNVlam2ham2ham2haGxERqdGBDyfcbEXtQ56osKe2BT6+sufRRx917TmcyCc6byaI6iKCMHa+KitI8bN7mAuz7bbblvga7wIRprGjU/j6UbtUcTm/SPi2JtqHeAzxrh+83VTReubbsGLxw4399VJFa5gfdu0DnxkzZrjB0x06dIj5PQQvfND6x3ylsrRq1cpV+ETNayLcCWJ9uW0+gpjTw/PHcfnh3x6VQ1QFhfGai3UfIiIiIiIiIpUa+Nx5553FJ8O0n7BdNVUdqQQjNTXsYVv5O+64I3JnrngIHti6m8HWibSV0RJ03XXXuaoS5g4F0VrkrxMMCgh0aI8iaAvu1DVv3jw3sJn2Kd/ulJeXZ9tvv71rT+LrwZ26+H5uh2NNJGDw6+F3AAtq3769e7eK2TR+QHGs3ci23nprK48FCxa4z8EAhfa6WMdPiEZbHoEZQ7d5raaKxzxx4kS3rt26dUvoe6gSQ/h5jcLzw4yjzTbbLHJIuIiIiIiIiEilBD7MTiFkoMrnrLPOsprozz//dB+JzvLxbVyEPczfGT9+fNywh7Ykqm8YwBtERc/gwYPd14899tji0MUj7GD3rM8//7x4W25awKjCefLJJ92Q6G222aa4BYsgiHAnOEOIiiECKY713nvvdS1GPrwZNWqU+zNzh4L4O4EPXyew8yER309rHnNvCIbK4tuS2HUqjOMk2GDgMcc9fPjw4q/RGkV4xTBB5tyUhTk/hB7hqpjFixcXP8b999+/+HJ27YqFYyHwIRAK7yBH9Q2VN23atHH3FxzWzeyd4Hrw+uDxEKYRCrZs2bLEbcVq3eN+aQfk9k866aQSX6Pqh5AtGNbxfPP8EywFdzgTERERERERqZLAhxYg5otUddgTb1t2cELv+6EJbNhliSAg1vbhYVyX7cbZhpsQh9kqYQzX9WEMOymxFTyVI1S2MJ+GliXmrxCGUPkU3OHJ861vwSCIPzN7hrCE+yDM4TieffZZFw5xOz4c8tg1jIqZIUOGuG3jCVLeffddF+oceOCBpSpKevfubU8//bQLlQg6qBhiPZ977jl328FwJh4eK2EHlS4Mf6X1idCCYdXMDKJtiuMYM2aMffjhh64aiaqVSZMmuYof2gATqQRjtyp2sNppp51caxrhC2vBrBsqqAjlaLkrj1jPBXgembtD6xhrw4BFqq8YSs2OWmw9H0agxsBqqnJoWWMGD0ObCcgIncJtbJMnT3bPK5VYrCdtcMz0Yev5iy66KKOGfYuIiIiIiEgNCXw4+aZqoSZty46BAwemPACPUMJXXhBWxEIrlA98OJHv16+fG+jLiT27RLEuBCJUafTv379UxQzX+eWXX1yFC0OAg/bcc0976aWXXKBFMEOVCaERAQoBUBjbwFM1w05ghCB8L88JYQEVRsHKERCyMEyYihPmxhCo8Bj69Onjwp5EBgSDqicGExN6sGOWH8DMcGsCH26HSp5rrrnGXnjhBZs2bZqrfCHIInzjMSWCiiaqalhfgi0qp9jund292Nkq1poki1AG4XCM42WnLXYCI3SiyoiByoRyxx13XMzAisfH+j7++OMu+OH5JQRjyHTz5s1LXZ91IByinY5KNO6TcIwqM14LIiIiIiIiIqnKWrJkSfSk5Tg4uedE/LvvvisVLEg0QhmCDEKBAw44oLoPJ+MRdN1zzz2unSuRtr+aKG/+SG3LHlBUWGT5BfmWl5unXboqaG0Kmg2wotySravphpCWCkJCc+2aU5LWJprWJprWJprWRkREqkrKZ0O0TlGtQtuUJI5qF2b4KOypOc/H8ccfX2vDHhEREREREZEKbelivgm7dDE/ZtasWW5rbObeJDL0N5P5rcGlZvA7oImIiIiIiIikk5QDH2apeBMmTHAf8dD2xZwSERERERERERGpoYGP392osq4vIiIiIiIiIiJVHPh8/vnnqX6riIiIiIiIiIjUxMCH7clFRERERERERCSNAh8RqRkKmvSxLCuq7sOoMYoKCy0/f7ll5dWz7Jyc6j6ctFib1TmNKvW4RERERESkhgY+K1eutI8//ti+/fZbW7p0qa211lrWvn1723777a1u3boVcRciEmF1blvThKz/FBQU2PzFP1mbBm0sNze3ug+nRtHaiIiIiIhkjnIHPrfccovdeOONMXfgatKkiZ199tl22mmnlfduRERERERERESkKgIfgpxHH33U7cCVk5NjLVu2tBYtWtiCBQvs119/tYULF9rw4cPtiy++sHHjxpXnrkREREREREREJEHZlqJnn33WHnnkEdeyNXToUPvuu+9s5syZNmXKFPeZv5977rm2xhpruFDoueeeS/WuRERERERERESkKgKf+++/37KyslzlzkUXXWSNGpUc6snfL7zwQvd1KoC4voiIiIiIiIiI1ODA57PPPnMtXD179ox7vR49elirVq3s008/TfWuRERERERERESkKgKfZcuWuXk9ieB6XF9ERERERERERGrw0GZ24Jo7d64VFha6gc1RVq1aZXPmzHHXF5GKN+u7eVZYWFTdh1FjFBUV2vLlKyx/7nzLzo7+2ZSJauvaNG3c0Fo0X6e6D0NEREREpFZJOfDZaaed7JlnnrExY8bYsGHDIq/H15csWWL77LNPqnclInGMvWuiLV22vLoPo0aFGvn5BZaXl1urQo2qUFvXZsQZvRX4iIiIiIhUVUvXoEGD3Oerr77ajj76aHvrrbfcNuzgM38/6qij7JprrrHs7Ozi64uIiIiIiIiISA2t8Nlhhx1s9OjRNmLECHvllVfcBwh3ior+117C7lzs5DVq1CjbfvvtK+6oRURERERERESk4it8QNXOpEmTbPfdd3dBDwEPM334zFyfvfbay7V9qbpHRERERERERKQWVPh4e+65p/tYvny5G87MblwNGjSwtm3bWr169SrmKEVEREREREREpOoCH49wZ6uttqqomxMRERERERERkeoOfIJo6ZoxY4b9+uuvts0221irVq0q425ERERERERERKQiZ/i8/fbbdsopp7gZPUGLFi2ygw8+2G3D3rt3b+vQoYONGzcu1bsREREREREREZGqCnwee+wxe+KJJ6x58+YlLr/kkkvs/fffd39u2LChrVq1yoYPH158WUX48ccfrVGjRnE/lixZktJtT5kyxU4++WTbcccdbf3117eWLVu6P59++un23XffxfyeeMcxcODApO5/xYoVbqv7jh072rrrrmubbbaZDR482P7444/I73n88cdt3333dZVUG2ywgR111FH22WefRV7/k08+sV69ernHx/d07tzZnn766aSO85BDDnGPr6r98MMP1rp1a3ffZ599dszr8Nzzmttuu+3c63PjjTe2448/3mbNmpX0/U2dOtW6d+/u1qpFixa266672i233OKGk8cyf/58O+uss1x7Y7Nmzdzzd9ppp9nPP/8c8/rsaDd+/Hg3B4vXWps2beyggw6yF154IeljFRERERERESl3S9fHH39s9evXt1122aX4sn/++ceeeuopdznByeabb2433XSTC4Huvvtu23nnna0ibbTRRnbkkUfG/Fpubm5Kt8n28h999JHbdp4gpG7duvbNN9/YI4884gIuwhV2HwvjRJ2KprCtt9464fvm5J/bePXVV13I1K1bN/v+++9twoQJ9uabb7rwoWnTpiW+Z8yYMXbZZZe5+z/ppJPc0OyJEydaly5dXPVVeM3feust69mzp1ufHj16uAHbzz77rPteQokzzjjDairWp6wAjQqz/fff361bp06dXLXZb7/95h4j68dnnttE3H777Xb++ee74LJr16629tpru+eBMInXyP3331/i+nPnzrUDDjjAhXMEcIcffrg7Dl47/HvgtcVrNtj6eOKJJ7pj4vLjjjvO/v33Xxf28Dq45pprbMCAASmuloiIiIiIiGSylAMfTmqpSAiiiic/P99VmBD2gOqG6667rkIrfDx2Arvgggsq9DZHjx5t1157banLOdGn0uPSSy+1119/vdTXqQAp77E8/PDDLuw54ogj7M4777SsrCx3+T333GPnnHOOC3ZuuOGG4usTJlx11VXWrl07930EEujbt68LPagMmjZtmmVn/6+Qi2orLuPvkydPdvOVcN5559l+++3nHruvZqmJbr31Vhe0jBo1yi688MKY17nyyivdugwaNMguv/zy4ss//PBDVzlDpdZ7771XvCZRmD9FUEklESGZXxPWkGohwjTCTcIzj3CIfxc8J6eeemrx5ZMmTXLBztChQ933eAQ9fBDKUWGVl5fnLr/44ott7733thEjRrjgjqotERERERERkSpp6fr7779trbXWKnEZJ9WEFJysenXq1HEnrPFakmqSqMogqno4+Wfr+cpCJY8/4fdhD6i+2XDDDV2FEYGa99BDD7kAYsiQIcVhDwhyCCKoTCLw8QguqEIhUPJhD/heAiWqS6hGKQvr8O677xb/Oap97cUXX3SVMb4darfddnPtUBxzsmbPnu0CHNq44lVNUR1DmBMO36j2OfDAA+3rr7+2d955p8z7oyKH9jrCnWAAxuvZ3zZVa15BQYEL3WghY7ZV0GGHHeaOma/TkuYRuoG192EPmjRp4oJS7p/nWERERERERKTKAh9agRYsWFDiMionEG4jIrygNao6+DCivAizmA2zxRZbxPz6X3/9Zffdd5+NHTvWVeR8+eWXSd0+gQFtcptsskmpChvWjyHYtMx9+umnxZf74IL2oTAqduCDmVSuH2XYsGGuhcz/2X8w18cj2DnmmGPcOhAw9evXzz1G2qFOOOEE186UKOblECZR0XXuuefGvS7tWwQmvD7DfKUMwVdZfv/99xLfE+t2eE0QyvhWMoIs1iUY1sW770Tug+HoIiIiIiIiIlXW0kXLFm1ahDwMsqVygWoShgBTjRL0008/lZo9UxGotqGFJ4zZO8zAKY/XXnvNPvjgA1f1QovQyy+/7IKEK664Iub1v/jiCzesN3wct912mxveWxYqb5hRQ6gRi7+cY2G9/Z8JNhjuHMagYn8dz//Zfy2I2+C2EqlgosKF8IjnNVYbG4+F1jceN+1v6623nrucFiWqXahsYej30UcfbYmgJfDzzz93M3jWWGONuNflOaKajFlG4dCHYd/hNYl3O8HviXU7BDy87jfddFMXKubk5Lg1IcwKhz6x7jt4H9xGrOtHDQoPWl1UaEVFsYdIZyL+HQU/S+1fG17fBMaViZ/1wc/yH61NNK1NNK1N9a1NqnMsRUQk/aQc+HCyTsBDFQc7DFGdwkkEfw/69ttvXfVDeQOYWAgW2NEqjBYlf39UYaQa+FClEgxcqNzZdtttS12XuTAMWGaWDpVM7AbFHCDagphnxGfCgLJa5Pyxx8Lg4OD1/J+jwiTfbhe+fvC2Yn1P8PqpovWMMIR18WEP1lxzTRcEMZeGeUWJBD4zZ850w4vPPPPMmGsfRshGGxSvC2YSebw+Ce18NVZZqKjiOXvggQfc4GT/OHhcwdecv6169eq5II6KnLvuusv69+9ffB3m9PA4wvfNsTLT5/rrr3f/hvwvaPx7IShM9FivG9LZVhcl3yYn0fIL69uPv2lNa4q6Of9746AqUCUosWltomltomltqnZt+N0l6s1DERHJPCkHPn369HFVHpzcP//88+4yZrSEt8rm69hjjz2sotGGFByCG0v79u1Tum0GJPNBpQizcAgdCCoIgdjSPHzd8LwYKlgOPfRQ1yJFRQuBUKaYMWOG+7z77ruX+hprQ7DhA5B4eOfLt3LRMpYIhjkzK+fmm28u3m2NX6gYskwVDS1mZQ1sBlVqzNYhuCPI4bkkKGN4N7uZEQDxOXhbVH8xGJq2s5deesm23HJLVzHFXCH+HL5vXkcEX4RE3AevZwIlXi8+yEvkWJuvmGhZRf8ktD6ZoGh1kWu1I2DMzkqta7WgWX9r3LSdpRv+TfHvgYq+sqrlMo3WJprWJprWJprWJprWRkREanzgQ8vK+PHj3TbeVPEwuyRWFQ9VL5wIs/tTbURb0Pbbb++qRhhGTdsW1R9ltahxos6sGgIfWsPKCnx81U1URUes6hz+HFWRs3Tp0pjXD95WrO+piHlH/r5jVR/xuuFydsFKpJXrq6++ctuZc/KeiNatW7vqLFr9aAGbPn26u4wgiNlIJ598csLthRdddJF7/fI6Z6t7BjYzn4phzeyEhuBtMZjZ3zchDh+EVeysxvNKS1vw+tzek08+6Sp8+Mw2734LeP5d8bpL5Fizc7ItK8VgIy39f3cbYQ9rk4rsnJy0LonnBCOdH195aG2iaW2iaW2iaW2iaW1ERKTGBj6+vJ7KhXi7Jh155JGWDjg5p0qJWT0MTmbb87L4GS3Lly9PqKKEkChqho6/PDh/hz/TsubfJQqKNa8nONcn3B7FbVDN1LFjRysv307GLJ3wAGrm23B5eIe3qEoh2gRpfYrl3nvvdR8HH3ywq5TxmCNFhU+Yn/e03XbbJfxYaMnjI4jqEdZwnXXWKTWviooyjinM72AWvm+CLLZz5yPID2tO5lhFREREREREvJTLAtjW2+/slCn8rmSJ7jjG3BiEQ49Y2Jabig6qpebNm1cqJGH4cf369UsEALTQgaqSMNqagtdJ5frx+JlE7KAV5rd8j7X9OWvC8NV4IaFHJRWtg+GPAw44oDhc4e9crywcp6/SKW97He1hhD49evRIuOKJFi8CokSONdgK2bNnz3Idq4iIiIiIiGSmlAMfKjQIMhKZMVKdZs+e7T4SFdz2PByIMKsoOBAazGVZuXJlqevTxnXjjTe6cIidqYJoD6N1yld9eLSAYdSoUSW2LadihN2gmPlCMOQde+yxLsBgK/hgKxiVMcw2YmbNLrvsUnz5Xnvt5SpSaB/yc3bA99I+RWlxojtnNW7c2H1mjk0Yx8lx3XrrrSVat+hZv+SSS9yfe/fuXeZ9MPiYSp3wB+1OPpzi78EByTwX+fn5JW6HKiG2gydMYwBzy5YtS3yd54Hng+clKFbrG/OcuC1ar8K7snG/zOAJIhjieBcvXmznnXdeqdLtWPdBoPTggw+6aitmB4mIiIiIiIhUWUvXJptsUit2XmBIMJYsWZLQ9anA2GKLLVyrGq1BtGPRxsWOZIQ3DG2m0sbj78yYYbYLs2K4ztdff+2qaJhXM2bMGNtoo41K3IffEplQJIgQ5Omnn3aBDNtyE2jQyvXcc8/ZBhts4IKGIObL0ArE0GgGJFO5QlsWlSwgcAoGctzfTTfd5KpGDjnkEFehwowidpGiRY9drbifRLCrFMHE8ccf79rbaE3aaqut3NBiHi+7cXG8PIbDDz/c7WJFlQuhCy1Y4TapivL777+7kIvnkcdCyMRzQejH0G0fOCXyfHD8bAdP8ELARRsXj4E1JRwK7kCGzz77rLjiiNcClT3sDEYoRph3yimnlLpv2tW4LtVKhEHMHKIyimDuvvvuK3N3NxEREREREZEKDXzYfp3diNi1iMqRdHHxxRe7+SkMW164cKE7uefE/sQTT3SVIFTNBBFeUCFDKPTGG2+4gIF5OoQqXJ82rTC2bY/VrsN9MYuGIb7s8jVu3DgXNBAiED7EGuA7dOhQV2nFNt5sG0/gRODBkOJY25gT1BBaMM+GcImKGAKukSNHJtyiBAIMWs+oJGIoMZUtvCYIfMCW7Awspsrn8ccfd+vCDCHCqVNPPdWFYZWByhuOgQorwhbWY/PNN3dB13HHHRezIo3ng4o1AqGgfffd1wVUkyZNckEazyvVS0OGDCkV4oHXCcEb4SDBE9VYHTp0sMsvvzxyaDlhGIEerW48F4RUPKdsQx8cuC0iIiIiIiKSjKwlS5b81zuUBFqOOOmnGoEqFtqWanp7V03Bbl9Ubvi5OVJ9aKmimoaAila62ihv/khtyx5QVFhk+QX5lpebl/IuXQXNBlhRbvpty878LKr52FVRO8OUpLWJprWJprWJprWJprUREZEaX+FD+xChDyfM/fr1c/NMaPOidScWKjpoHcp0tPnMnDnTbcEt1Y9KIKqABg0aVN2HIiIiIiIiIlL9gU94ByaCjE8++STy+pXVwlPb0Dr0559/VvdhyP9j/lBtmEUlIiIiIiIiUiWBD7NZREREREREREQkjQKfRLbVFhERERERERGRqqcpyyIiIiIiIiIiaSblCp8wtqGeP3++LV++3HbbbbeKulkREREREREREanqwOfxxx+366+/3r755pvi4czBocQXX3yxffrppzZ+/Hhr2bJlee9OREIKmvSxLCuq7sOoMYoKCy0/f7ll5dWz7JyclG5jdU6jCj8uERERERGRWhP4DBs2zO688063PTtbWxP2rFy5ssR1Nt98c7v55pvthRdesL59+5b3eEUkZHVuW1td3QdRgxQUFNj8xT9ZmwZtLDc3t7oPR0REREREpHbN8CHAoWqnadOm9sADD9gvv/xiHTt2LHW9gw46yAVBL7/8cnmPVUREREREREREKrPC5+6773ZBzh133GH77LNP5PUaNWpk6623nn355Zep3pWIiIiIiIiIiFRFhQ9zeZo3bx437PG43sKFC1O9KxERERERERERqYrAZ9myZdaiRYuErrtq1SrLSXF4qoiIiIiIiIiIVFHgw+yeefPmlXm9wsJC+/7777VDl4iIiIiIiIhITZ/hs+OOO9pzzz1nU6ZMsf333z/yek888YSrBjrssMNSvSsRiWPWd/OssFDbsntFRYW2fPkKy58737KzVVkYpLXJrLVp2rihtWi+TnUfhoiIiIjUtsCHLdafffZZO/vss+2hhx6yDh06lLrOm2++6bZuZ7iztmQXqRxj75poS5ctr+7DqFEn7vn5BZaXl5s2J+4VRWuTWWsz4ozeCnxEREREMljKgc+ee+5p/fv3tzvvvNM6d+5s2223nf3www/ua6eddprblWvmzJm2evVqGzx4sG277bYVedwiIiIiIiIiIlLRgQ+uueYaa926tY0ZM8Y++uij4ssfeeQR9zkvL8+GDh1q55xzTnnuRkREREREREREqirwAdU7J5xwgpvl88UXX9iSJUusfv36tsUWW9iBBx7ohjuLiIiIiIiIiEgND3z++usvmzt3rvvzRhttZI0aNbJevXq5DxERERERERERqUWBz2+//ebas15++WUrKvrfrkDZ2dmukmfs2LG27rrrVtZxioiIiIiIiIhIRQc+y5cvt0MOOcTmzJnjBjF7hYWF9sILL9js2bPdrlzM7RERERERERERkeqTnegV77rrLvv++++tXr16dumll9rrr79ur732ml1yySXusu+++85dR0REREREREREakmFz+TJky0rK8tuu+02O/TQQ4svZzt25viceOKJ7jpnnHFGZR2riIiIiIiIiIhUZIUPLVtNmjQpEfZ43bt3d1/75ptvrDLNmDHDzj77bNtpp52sTZs21qxZM2vfvr0ddthhdvPNN9vChQsr5H4YQh31MXDgwJjf8/fff9uFF15oW221lTVv3ty23nprGzFihC1btizp+3/88cdt3333tVatWtkGG2xgRx11lH322WeR1//kk0/cwOz111/ffU/nzp3t6aefjrz+ggUL7PTTT7dNN93UzV3aYYcdbMyYMbZy5cqEj/HKK6906/H2229bZaKNMN7zwcejjz4a9zZuuOGG4ut+9NFHSd0/r+n+/fu71xnPK8/vsGHDbPHixTGvX1BQYNdcc417jbK2PH9HHHGEvf/++5H3MXXqVPdviOevRYsWtuuuu9ott9zi2iVFREREREREKrXCh0CjY8eOkV/fcMMN44YS5cGA6IsvvtidBOfk5LgT4n322cdt//7HH3+4k3jClauuusr9mdCjvAiUevfuXepygpywf/75xwUTM2fOdEENJ/iEU4RQ7777rptxlJubm9D9Erxcdtll7v5POukkFxhNnDjRunTpYs8884ztvPPOJa7/1ltvWc+ePd3t9+jRwxo0aGDPPvus+96ff/65VMUVg7cJhObPn29du3a1jTfe2B0j9zl9+nR7+OGHXSVXTcFzsPvuu5e6fNWqVXbddde5oeF77bVX5Pd/9dVXLpzitcLzlAxeS4SJ+fn5dvDBB7tKNp7jO+64w1599VV75ZVXbJ111ikR9hDcfPDBB7blllvaySef7Ha0e+6559zrY8KECe5z0O23327nn3++NWzY0D0fa6+9tpuFNXz4cHf/999/f1LHLCIiIiIiIpJU4EPoUqdO9NXr1q1bvHNXRRs9erQLezp06GD33nuvtW3bttR1CJuYLcRJd0Wg2uKCCy5I6Lo33nijCwLOOussdwwef6a6ZNy4cW53s7IwI4nQql27di5Q4OQfffv2tf33398GDx5s06ZNcyGHDz24jL/TTrfNNtu4y8877zzbb7/93Lr5yhGPmUsEQYQlBBJgCHe/fv3sqaeech8EVjXFscceG/Nywi+Om3Vp2bJlzOtQsURFFiEdrxkqp5LB2hISEYIR+Hg33XSTCyBZ3+uvv7748jvvvNOFPYREd999twsnce6557pQitvbc889ba211nKX//rrr+75oPKI4M4/Tzyvxx9/vHuMPB8EeiIiIiIiIiKV0tJVXRgGzQl206ZN3clvrLAH2267rU2aNKlEuFEVCB0eeOABV1nDiX0Qf+dyKjsS8dBDD7mT/SFDhhSHPSDI4aSf9iICH4+QYO7cuS6g8WEP+F4Cpn///dceeeSR4suXLl3qWr2oxqICyKOih+ABiVSUUKVy9dVXuz/T4ufbpcLVT1TXMNuJAIt2KI6RapZFixZZeT344IPuc58+feJWS3399dfFlWHJYF05fqragmEPaIejsuexxx4rUTVEJRd4jMH7ozKI4IqWQ0Icb8qUKbZixQoX7gRftwSrPmwkOBIRERERERGptAofUBniT/TDfvrpJ/c56utg9kmyCCyYZUJwQOhTlnAVEhUe3Matt94aWS0SC6049913n/3555/WuHFjN5OFNp1YVTlUalBRQ9tQEH/n+6jWYe3WW2+9uPf5zjvvuM+0hYVx+1Sa0H612267JXR9cH2PFiECBtrhwm1bBA6bbLKJq1BhveMFJL7Vjds+5phjisOKYEhFMEVIRejkq4w+/PBD18L08ssvu7k1zH1KBe1orCnzbmh1i4WKr7Fjx7q5SptttlnS90HrG5jBE0ZFFc8lbXsff/xxcUtZvO/xlxHSHXfcce7Pv//+e5nXZ814ztZcc82kH4OIiIiIiIhkrjrJnmhHBTpUulRG4MMJL/bYYw+rSl988YVr0Qpi9g27lDEsOhj4IKryiMsJJ7heWYEP16EiiGG/YczaCd5f8M/+a0HcBrc1Z86cpI7122+/deEdVUBRCM7mzZvnAh/Cn/BzQ2vfaaedZsuXL3dVWT58Aq1QVGxRUUTlTSqohOI+CJtitRkSkPhWLtqoUuHDqB9//LHU17hvAjxfgeYDH76H9eZ7wiGTv53g8xfvPvxlVHz98MMPbsB2lNVFhVZUpAHPnm8trawW09pMa5NZa8PPhYpocya4D36W/2htomltqm9tEp0bKSIi6S/hwIdBydUxzNdXQcSa08IOUb7KxWPAbzCAIFhgZ69YIUoUWna6devmWpGYTTRr1iy79tprXQsOO2bx2VfAMMw6XN0SxDDe4PXi4TrBMCnIz30J3o7/s7+PWN8T6/plHSvVTeXBjlS0RDFfJxj2+PlCtMA9+eSTbo7QGmuskdRtEywS+MRr57riiitcsPLGG28k3crl8dwTerEDGhVJwUoiZjL5trTgWhEIUkXFLl3M8/H3TWDjjzl4fSqtuA7rMWDAgOJAkJAnGJyW9XxcN6SzrS5aZTVdfmF9+/G3mn+cIumibs5/1bcVwVcxSmlam2ham6pdG36viHpjT0REMk/CgQ9DgWsawp5YFUXBwIe2Hz6SwY5VQZ06dXLzWphXQ1ULa0EgJLHR6oRYu2tRdbTddtvZa6+95qqJYrXJxUNLFNUvtLXF+oWGijB2R2OOzhZbbJHyYyDcpCXs6KOPdpVEzC1iFg+VXxw7t82MHz9AG1Q1MSOJXdVmz57tBjT7XbrYde3LL78scX0CJWYtESYSqPL6InRjly7fAsjn4PfE0nzFRMsqSm4HsupQ0Ky/NW7artLvh3dM+SWakDfZQDHdaW2iaW2iaW2iaW2iaW2iaW1ERKRGtnRVBypeGFbMnJz27duX+BqDbf1wW1qH2M2qsnDSfcIJJ7jAhzk3PvApqyqmrCqcIK4TVQnEwOXw7ZRVPcT3MEw5fP2yjjWqAihR/lijqpV8tZW/XjKohgGDjsOojKGVixCJqq7yojrpxRdfdIEMQRPbsG+++eZuYDShDIFPcK4UFVUvvfSSq/B5/vnnXZUPa8CAbCqEGP4cnkN10UUXuWqi8ePHu6CIFrWdd97ZDWv2r+eyZldl52RbVlaNn79u2Tk5VVpmzi/RKmuPTWsTTWsTTWsTTWsTTWsTTWsjIiKW6YEPQ4+p5KF9y89KqS5+5gqzaTw/Pyc4KyfIXx5rzk4Y16FCxb/rExRrXk9wrg+7lAVxG8uWLXO7TCVzrPzyUdasobL49rM//vgjbpuev16ilixZ4oIUAikGQYfxeP06RYVNtJmB0KZr165l3ucOO+zgqrvCmOUEqpWCCNhoKeMjyLd0ha8P2gT5CM8h4rGwG1i8eUoiIiIiIiIisdT4sgDaaaiuYbtwdsyqTuzIhOAW2oQozBei6ie4RTf4O5ez41IiIYrffYuWoTAGPwevk8r1CS8IdF5//fXiIdseQ5hpsSJgizUIOczPp4k14NRvER+er+TX5NNPP7W8vDy3K1gyCF4YQHrkkUfGfEeMnayY6xPrw4ddBx10kPt78DlMFmvFnCIGMyfakvbEE0+4z+xclgi2byf06dGjR8rHKSIiIiIiIpmrxgc+tLuw0xLVIkcccURkdUpUm9KCBQvcPJVEBxEzZ2XlypWlLie4ufHGG90Q58MOO6zErBcCBKpLaP0J4u9cTitYEDNoqARhF6nw7leELcyOCR4vM3FoWWOnpl122aX4ciqeqP5gALKfm+PXwg9EZgZNsKWLAIEhwvfee2/x5YQ/o0aNcn8OH2sUtqqH360qiJYk5t0w3JrByUFjxoxxA48JPpLtW/ftXH5b8zBCJOb3xPpgDhOYmcPffSjlq294PmgHC+K5CwdjrO0pp5zitq5nx7GwWO11t956q1sHKoqCFVdR16eFcfjw4e75Cu8UJyIiIiIiIpIWLV0YMWKEG3DHifOOO+7oBtxutdVWVq9ePRcEEdJMnz7dDQQOhygjR460Rx55xH0vgUpZ2CqcWS2EFq1bt3YBz9dff+2qaAh3CCwIM4IIpF544QW74YYbXPDSoUMH+/zzz933cIIfDhJ8iBCupCHcYtgwQ6MZeMycIEIHZruAwCk4wJfvZ4tzwhOGChPmsAbPPvus25ll9OjRrroo6NJLL3WVN0OGDHEhBIOPmUvE7lIHHnhgwhUoDMZmPbgP1odwglYrdpviGNnJitvq1auXC8gYWky7GvfN+nEcyfjss8/cwGTWlo+K5KuUws8Hw7l5fDxWqrh4rTHTZ+HChW72DjN5whjmzHNHRRHrw+Pl2GnlirUNPcEOrxVeJ4RotHExB4g1JIgqb3udiIiIiIiIZKZaEfhw8nv55Ze7Vh4qU9577z3XFkTLCyfJtNZwYk41S9TslkRxEk8VB+ECgQhBE/N0CC8IbrbffvtS31O/fn0XDlx11VVuRybmDfE9bO8+bNgwV3kSxLBfxApXhg4d6tqNmBFzzz33uMCJqp4LL7yw1JwesBMUAcGVV17pdoiiOonQgaArVjsQO5ZNnTrVhUoEW3wvYQwBBsEVIUUiWHNCNEIMBg7zXHA7BD7gmKnwYYAxwReVLNz3qaeeaueee27xPKSKGNZcXrNmzYr5fLCOtGzRAkc7IaEWbXGDBg1y6x4Lr1Gef4Y8s5YEP7w2WRdazsL23Xdf10o3adIkF+7xuiEkI5ALB4siIiIiIiIiicpasmRJyZ4VqXRUdRDmzJw5M+ngQyre3nvv7WYS+blHtU3e/JG1ZFv2AVaUW/nbsjPniQo3AkjtflKS1iaa1iaa1iaa1iaa1iaa1kZERKpKrajwSTfTpk1zlSoKe6ofW8MTvDEUXERERERERCRdKPCpBrW1kiQdsTV8de/+JiIiIiIiIpJxu3SJiIiIiIiIiEhyFPiIiIiIiIiIiKQZBT4iIiIiIiIiImlGgY+IiIiIiIiISJrR0GaRWq6gSR/LsiKr6VbnNKruQxAREREREckYCnxEarnVuW1tdXUfhIiIiIiIiNQoaukSEREREREREUkzCnxERERERERERNKMAh8RERERERERkTSjwEdEREREREREJM0o8BERERERERERSTNZS5Ys0QY/IrXYrO/mWWFhzd+WvaoUFRXa8uX5Vq9enmVn51T34dQoWptoWptoWptoWptoWpv4a1M3x2yj9Vtbbm5udR+OiIikMW3LLlLLjb1roi1dtry6D6NG/SKdn19geXm5OskI0dpE09pE09pE09pE09rEX5shfQ+v7sMQEZEMoJYuEREREREREZE0o8BHRERERERERCTNKPAREREREREREUkzCnxERERERERERNKMAh8RERERERERkTSjwEdEREREREREJM0o8BERERERERERSTMKfCTtHHLIIdaoUaPqPgwRERERERGRalPrA58ff/zRndz37Nkz8jpvv/22u87ZZ59dIfcV72OdddaJed9RHw899FBSx7BgwQI7/fTTbdNNN7V1113XdthhBxszZoytXLky5vVXrFhhV199tXXs2NFdf7PNNrPBgwfbH3/8EXkfjz/+uO27777WqlUr22CDDeyoo46yzz77LKnjFBEREREREZHqU6ca77vWWXvttW3YsGExv0Yg8vLLL9t+++0X8+u77bab7b777qUu33rrrRO+/99++806d+5s8+fPt65du9rGG29s7777rl122WU2ffp0e/jhhy0rK6v4+kVFRda7d2979dVXbccdd7Ru3brZ999/bxMmTLA333zTpk6dak2bNi1xH4RH3F6bNm3spJNOsmXLltnEiROtS5cu9swzz9jOO++c8PGKiIiIiIiISPVQ4JMEKnIuuOCCmF+jCgZ9+vSJ+XXCnqjvTdQll1xiP//8s1133XV28sknu8tWr15t/fr1s6eeesp9HHHEEcXXJwAi7OGyO++8szgMuueee+ycc85xwc4NN9xQfH3CoKuuusratWvnvo+AC3379rX999/fVQZNmzbNsrNrfWGYiIiIiIiISFrTmXsF+PXXX121TLNmzeyggw6qlPtYunSpPf3007bhhhu6yhuPEIcgCPfff3+J76GSBxdffHGJyh++n9t54oknLD8/v/hy2stWrVplQ4YMKQ57sM0227iWuW+++cYFPol47rnnXFC03XbbWcuWLW399dd3a0OVUFSr3MCBA23OnDl27LHHulYyWsq6d+9uM2fOjHkfHMvBBx/srrfRRhu5x0UglooHH3zQVWe1bt3affDncLvde++9545z0KBBMW+DNjkqpqiGCj93V1xxhauOatGihVuLHj16xFxLP3+ooKDABXLbbrutu80rr7wypcclIiIiIiIimSmjK3yYr3PooYe6dqvJkyenfDtU0hQWFtrRRx9tdevWjXkdgoxx48a5E3kCij333NN9TtRHH33k5vHss88+JcIbECBssskm9sEHH7jjyMnJcffz8ccfu8v5ehDfz+3ce++99umnn9quu+7qLn/nnXfcZ+b3hBGA8DhpIWO9yjJq1Ci3Fj7kWLhwob344ot2wgknuJlCp5xySqnvmTdvnmtZY87QcccdZ3PnzrUXXnjBPUcffvihNW/evPi6tKRRuUS10eGHH+5CJS478MADS4RViTjvvPNs/Pjx7vngfn1gRbAzY8YMd7zYZZdd3FrytbFjx1pubm6J23nyySddYOarvbB48WIXSs2aNcutBaEUAZB/XPfdd59rzws7/vjj7YsvvnDrzuMhAIuyuqjQiooKk3rM6YxWxuBn+Y/WJprWJprWJprWJprWJppfk3///bdSbj/8+4mIiGSutAl8CFSiqiAIEioLLVVUh/iT9ChU0/Dh1alTxwYMGGCjR492AU1ZaLdC27ZtY36dy7/99lv76aefXPUOYQm/UMS7vr9dH/jw5wYNGrjhzmHMCwoeR1l4rBxHEPOADjjgALv88std61u9evVKfJ0w6dJLL7Wzzjqr+DKqXJgrRLWNH7rN46K9jHCF4IQgxj8XrGlwncvCfRL2MAT7lVdeKQ6LaL8jfLrjjjtclRFrRFB25JFHuuMhvCJoCnrsscdsjTXWKHE5YRJhz0033VTi9UE1EKEbj5X7Cf9yRtUYx9a4ceMyH8N1Qzrb6qJVVl75hfXtx9/KfzsiIiIS39pr5bnZjBWN3ymjfvcTEZHMkzaBDwGHr8RI1Pbbb+8qR/Ly8lK+X6piuG9CB6ppwmjHIcSgzYfqkOXLl7v7HDlypKv4IUQgACnL33//7T5HVa80bNjQff7rr7+Sur6/nv8zbWmxrLXWWqWuH0847AFhEkOkhw8fbp988kmpIdZUsZx55pklLiMYImDh+h6tUD/88IOr5vFhD1jLESNGuCHTVDol4pFHHnGfzz///BJrRVsVA7r79+/vKpt8KEYVF8dDuBMMdmh3Y3A3LVk+pPnzzz/dsVDNFQ4DWeczzjjD3ccbb7zhHksQgVMiYQ+ar5hoWUX/WHkVNOtvjZu2s9qOd0z5JZrgkgBO/qO1iaa1iaa1iaa1iaa1iaa1ERGRqpI2gQ+tLwwtjte6FUaFSfv27ct1vw888ID77FuBwjbffHP34dWvX9+FAmynTmsUFSRUeUQFLbUVFSzXX3+9m21E1VFwVpDfXj7WjmXhgdDM0wkGWaDVCT6ECSJU43sSreqiZQuxdlDbY4893OfgDCEGWhMUMtSaQKdJkybFW9kj2M5FSEXwxC92sarPqEoDlVnhwIf7SFR2TrZlZZV/HFd2Tk5alYHzS3Q6PZ6KpLWJprWJprWJprWJprWJprUREZHKljaBT3UghGCeC9Uy4faesvCuDrNdGKzMrJ2yhj2HK3jCwhU9iV7fX8//OaqCh7kz4etHYW4N7UoMUGZuzV577eWOizJjwhPasJhHFFVFFETrG4IVO/4Yw1vKe8z6STTw4XERMsW6LW6HqiH/2D1CnenTp7vqHSqAaCUj8KEqKDiwmXXA+++/7z6i/PNP6eqc4LwiERERERERkWRpl65y8LtcsYNVeB5NInx1CG1eZfEzdHxVSBiX807ReuutV9xSRZAR7/rB2/V/Zs5OrJ5yP7sneP14VU+EPRdddJG99NJLdu2117o2LtqUdtxxRysvHzoxCDqW33//PeHbImRiJlCs26JKiTAnHETxfDOQ2lf1MGuHKiZCvzXXXLPEbeP000+3JUuWRH7QThYWHswtIiIiIiIikgwFPhXQzhVvWHM8VPYgvItWLLSAEei8/vrrLoQIopqFtqCddtqpuCKGuUS0BXF5uNqF7+d2aC9j23TP77712muvlbp/WpiC14mHmUaggiks0W3d49lqq62Kt0kP47HOnz8/4dtiy/ngDmVB/jJazcJBHS2E7JxGcOaDHwY6B3Xs2NEFN1xPREREREREpCpldOBDZc3s2bNddUaymP3y+eef25ZbblkiNAljkG8st912m5stRMUMwUDQwIEDXXsQO1MFq1p69OjhhhWznXowvGELdLDleZD/O18PhkR8P7fTq1evEgOrjz32WBcYseV4sBWMx8p8JHayCg5JjtKmTRv3OdzGREUUO2GVF8fAgOeXX365RIDEY2TXs0QHNuOYY45xnxn4HWxn4/H7IeD+OkEMbwYteZMmTXLHQ/tauG2Pqp8PPvjA7dIVDup86JdIhZeIiIiIiIhIMjJ6hg9zWBjmTNXK5MmTK6W6h12maP8hFGrVqpU7uafigxCFuTZsCR7elp0WI/hqHY/dvqg6GTJkiNvZiW03aSfi9hj6S6tREDtiPf300/bkk0/ajz/+6B4nFSnMHSKgoM0qiIHEtBexFTpDjLt16+ZavJhVgxtvvLHUUOVYmHFzww03uC3JCbUIgBi0/Oabb7r15v7Lg2PgWAisDjvsMBeqtGzZ0t566y3XjkYI9+WXXyZ0W6wJW7nzPDAEmuMjmOEYqRQ65ZRTYlY1sd6EcLfeequtXLnSXS9WGxbhGVVWF198sT366KPWqVMn97xz259++qlrlWOHr1RaAkVERERERESiZHSFT6oKCgpctQo7KwR3ZYqlb9++btco2o8IFdjim++niofLYu3GNGvWLDf/JTgAGC1atHC7XlGJQ/UM27ovWrTIzcqh0iQcOBCMcH+EOMyo4fpUmxBCTZkyJeag4qFDh7rj5Gv33HOPC4yoqKGaJlzBEoXHS4DGsGaCqfvuu8/tVMVthXejStXee+9tzzzzjFs/PnMfBEsvvviiq45KxjXXXGO33HKLG5R8//33u7WkOofLfJVPGM89YRNhD6JeB2ytTlUTVVa05PG6YX0J6TbbbDO7/fbbi2c5iYiIiIiIiFSUrCVLlpTuM5FqQ1sRA5cZ9OtbtUTiyZs/0rKKSu/0layCZgOsKLed1XYEqrRpEgBqu9uStDbRtDbRtDbRtDbRtDbRtDYiIlJVVOFTw1CBQwvYoEGDqvtQRERERERERKSWyugZPjXR/vvvH3NbdBERERERERGRRKnCR0REREREREQkzSjwERERERERERFJMwp8RERERERERETSjGb4iNRyBU36WJYVlft2Vuckt529iIiIiIiI1FwKfERqudW5bW11dR+EiIiIiIiI1Chq6RIRERERERERSTMKfERERERERERE0owCHxERERERERGRNKPAR0REREREREQkzSjwERERERERERFJMwp8RERERERERETSjAIfEREREREREZE0o8BHRERERERERCTNKPAREREREREREUkzCnxERERERERERNKMAh8RSTs5OTnVfQg1ltYmmtYmmtYmmtYmmtYmmtZGRESqQtaSJUtWV8k9iYiIiIiIiIhIlVCFj4iIiIiIiIhImlHgIyIiIiIiIiKSZhT4iIiIiIiIiIikGQU+IiIiIiIiIiJpRoGPiIiIiIiIiEiaUeAjIiIiIiIiIpJmFPiIiIiIiIiIiKQZBT4iIiIiIiIiImlGgY9ILfLJJ59Yr169bP3117dWrVpZ586d7emnn7ZMt/XWW1ujRo1ifhxyyCGWCR577DE766yzbO+997bmzZu7x/7QQw9FXv/vv/+2Cy+80Lbaait3fdZwxIgRtmzZMsvktbnyyisjX0t8/Pjjj5YufvnlFxs3bpwdfvjh7nXQrFkza9++vfXp08c+/vjjjH7dJLs2mfS6KSgocK+Bgw46yDbbbDNbd9113dp06dLFHnzwQVu5cmXGvm6SXZtMet2IiEj1qFNN9ysiSXrrrbesZ8+elpubaz169LAGDRrYs88+ayeddJL9/PPPdsYZZ1gma9iwoQ0cOLDU5YRjmeCyyy6zn376yZo0aeJOMvhzlH/++ccFYTNnzrR9993XjjjiCJsxY4bdfPPN9u6779oLL7zgXmeZuDbeMcccE/O1s/baa1u6GD9+vN1www220UYb2T777GNNmza177//3iZPnuw+7rrrLvezJhNfN8muTSa9bngd3HPPPdaxY0c74IAD3NosWbLEpkyZYqeffrpNnDjRnnzyScvOzs64102ya5NJrxsREakeCnxEaoFVq1bZ4MGD3S+JnGxss8027vLzzjvP9ttvPxs9erR17949Y8KNWPjF+IILLrBMxclT27Zt3Wvg+uuvt5EjR0Ze98Ybb3QnX1S9XHrppcWX82dOcqlsOOeccywT18br3bu37bHHHpbOOCl9/vnnbffddy9x+Xvvved+nvAa4ER9zTXXzLjXTbJrk0mvm8aNG9u8efNsjTXWKPX/1GGHHWavvfaaCzioasm0102ya5NJrxsREakeaukSqSXVPXPnznXvjPqwx4cc/KL877//2iOPPFKtxyjVi3alRAK/1atX2wMPPOAqxM4999wSX+PvXD5hwgTLxLXJNN26dSsVaGDXXXd1J59UJnz11VcZ+bpJZm0yDW88hAMN1KlTx7p27er+PGfOnIx83SSzNiIiIlVBFT4itcA777zjPlMOH0aFDyiNz2SEXsxlWbBgga211lruHfoddtihug+rxqEt5ddff3Wvm/r165f4Gn/faaed7NVXX3Vtguutt55lKio5pk+f7k7gqA4iNOLkNFPUrVvXfc7JyXGf9bqJXpugTH7dFBUVudcAtthiC/dZr5votQnK5NeNiIhULgU+IrUAvzRj4403LvU1ZpLwi2Gmv2v422+/2aBBg0pcRuhz9913uzkcUvK1xElFLFzOiQnXS+cTsLIwTDWIarqrrrrKzdpId8w4euONN6xFixa25ZZbusv0uolem0x93RCyjx071lXxLF682N58802bPXu2HXvssbbXXntl9OsmkbXJ1NeNiIhULQU+IrUAO5z4wcSxUNHir5OJ+CV6l112ce+c8q7xd999Z7feeqvbnYnWDN49ZY3kv9dS1DBQ/xrL1NcTuwjdcsstrp2Hk3qCxJdfftmuuOIKO+2009y6HXzwwZau2EXolFNOsRUrVrgZK76KRa+b6LXJ1NcNocbVV19d/PesrCy3ecAll1xSfFmmvm4SWZtMfd2IiEjVUuAjIrXe+eefX+LvzDm644473J8Jfe6//363Q4pIWQ499NASf99ggw1swIABtummm7qhq+z4la4nYLSdcJJJQHrCCSfY0UcfXd2HVGvWJhNfN1SWMsuItaFt66WXXrJRo0bZRx99ZI8//njkGxSZING1ycTXjYiIVC0NbRapBcp6F3Tp0qUZ/ct1FLasxwcffFDdh1Jj+NfJX3/9lVI1WaaiDYPWQAb1pls1AjgxpSXyiSeesCOPPNLtZhaUya+bstYmk183YO5M69atrW/fvm5Hrvfff9+1M2X666astcn0142IiFQNBT4itYCf3ePnIQRRAr5s2bLIGQmZrEmTJu7z8uXLq/tQatxrKWrmk7881ryoTOdfT/n5+ZaO1Svs9MdOgLfddps7UQ3K1NdNImuTqa+bWPbZZ58SGw1k6usmkbUpSya9bkREpPIo8BGpBXbbbTf3+bXXXiv1Nb/zh7+O/Ofjjz92n7Ul9384sWrZsqWrevrnn39KfI2/czltBek0QLUisDZff/21mxHlT8TSKdB49NFHrUePHq4VMtbuU5n4ukl0bTLxdROFXRKDO5ll4usm0bWJJ9NeNyIiUnkU+IjUApR3b7jhhvbkk0/ajBkzii+nTP66666zNdZYI2PnbbDzSawKHi5nsCp4Z17+Gx7ap08fVxV27bXXlvgaf+dyZpRkIlojGfgdxjvsgwcPdl9nrkadOnXSqlWJQIPHNX78+MhAI9NeN8msTaa9bggiYv3M5bKLLrrI/Xn//ffPyNdNMmuTaa8bERGpHllLlixZXU33LSJJeOutt6xnz56Wm5vr3m1mKOSzzz7rtgkePXq02wEkE7Gd7bhx42zXXXe1Nm3aWL169dwv0VOmTHG76pxzzjl28cUXW7qbMGGCTZs2zf2ZuQ+ff/657bzzzsVb0rOL2fHHH1/87nGXLl3siy++sH333dc6dOjgrk8FGVvZT5482fLy8izT1ubHH3+0bbfd1q1B+/btbd1117Xff//dbak8f/58twvc888/b+uss46ly78ddhLiZ8mpp54aM9A45JBD3BD0THvdJLM2mfi64Wcu/4aonmQHxF9++cWmTp1qixYtcv+eJk6cWPxayLTXTaJrk2mvGxERqR4KfERqkenTp7tfKD/88EMXZvALIe9CEwBlKuYh3H333a7y6Y8//nDvpFICv/3221u/fv3cCUYmGDhwoJszEuWYY45x80eC1WFXXXWVPffcc24OFCcbvJs8bNiwtNvCPtG1YTgq4Sn/zubNm+d22eHEjJOx7t27W//+/dPmxDSRdcGtt95qxx57bMa9bpJZm0x73Xz66ad23333uf+HCDMIdBi6vOWWW7o3JY477rhSVSmZ8rpJZm0y7XUjIiLVQ4GPiIiIiIiIiEia0QwfEREREREREZE0o8BHRERERERERCTNKPAREREREREREUkzCnxERERERERERNKMAh8RERERERERkTSjwEdEREREREREJM0o8BERERERERERSTMKfERERERERERE0owCHxERERERERGRNKPAR0REREREREQkzSjwERERERERERFJMwp8REREREREREQsvfwfaIsR7qFma5EAAAAASUVORK5CYII=",
      "text/plain": [
       "<Figure size 600x400 with 1 Axes>"
      ]
     },
     "metadata": {},
     "output_type": "display_data"
    }
   ],
   "source": [
    "##### bar chart\n",
    "%matplotlib inline               \n",
    "\n",
    "##### Compare \"no high school diploma\" with \"completed a Bachelor’s degree or higher\"\n",
    "distributions.select(0, 1, 4).barh(0)"
   ]
  },
  {
   "cell_type": "code",
   "execution_count": null,
   "metadata": {},
   "outputs": [],
   "source": []
  }
 ],
 "metadata": {
  "kernelspec": {
   "display_name": "Python 3 (ipykernel)",
   "language": "python",
   "name": "python3"
  },
  "language_info": {
   "codemirror_mode": {
    "name": "ipython",
    "version": 3
   },
   "file_extension": ".py",
   "mimetype": "text/x-python",
   "name": "python",
   "nbconvert_exporter": "python",
   "pygments_lexer": "ipython3",
   "version": "3.12.8"
  }
 },
 "nbformat": 4,
 "nbformat_minor": 4
}
