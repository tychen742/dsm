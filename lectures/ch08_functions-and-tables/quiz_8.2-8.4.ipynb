{
 "cells": [
  {
   "cell_type": "markdown",
   "id": "f44ff13d-0e2e-43ba-af6b-8c64d0842ff2",
   "metadata": {},
   "source": [
    "Name and date here:"
   ]
  },
  {
   "cell_type": "markdown",
   "id": "f1559480-d47e-4448-90d6-741ce97fccde",
   "metadata": {},
   "source": [
    "### Question 1.\n",
    "Define a function cut_off_at_100() as below.  "
   ]
  },
  {
   "cell_type": "code",
   "execution_count": 3,
   "id": "f4f5903c-c4fb-4f0a-a073-06ab71e82ae1",
   "metadata": {},
   "outputs": [],
   "source": [
    "def cut_off_at_100(x):\n",
    "    \"\"\"The smaller of x and 100\"\"\"\n",
    "    return min(x, 100)"
   ]
  },
  {
   "cell_type": "code",
   "execution_count": 4,
   "id": "a301a7cb-fec7-45dd-84e4-2dc6de71bb69",
   "metadata": {},
   "outputs": [
    {
     "data": {
      "text/plain": [
       "100"
      ]
     },
     "execution_count": 4,
     "metadata": {},
     "output_type": "execute_result"
    }
   ],
   "source": [
    "cut_off_at_100(101)"
   ]
  },
  {
   "cell_type": "markdown",
   "id": "04dcc83e-4bcb-44be-bd24-61873e45b2a3",
   "metadata": {},
   "source": [
    "What would the result of the above function call be? Place your answer in the cell below."
   ]
  },
  {
   "cell_type": "markdown",
   "id": "9d5bbd6e-3d74-4778-a7f3-89373b479cee",
   "metadata": {},
   "source": []
  },
  {
   "cell_type": "markdown",
   "id": "67426cc7-5225-46e4-8a03-ff142619b703",
   "metadata": {},
   "source": [
    "### Question 2."
   ]
  },
  {
   "cell_type": "code",
   "execution_count": null,
   "id": "e239287d-bb08-4983-9bc0-ac5a8827a4c1",
   "metadata": {},
   "outputs": [],
   "source": [
    "from datascience import *\n",
    "import numpy as np\n",
    "nums=Table().with_columns(\n",
    "    'some_nums', make_array(1.2, 3.4, 7.5),\n",
    "    'label', make_array('A', 'B', 'C')\n",
    ")\n",
    "nums.FUNCTION_NAME(np.around, 'some_nums')"
   ]
  },
  {
   "cell_type": "markdown",
   "id": "95a550b9-4c3b-4724-92f7-83a027ee6fb9",
   "metadata": {},
   "source": [
    "The result of the code snipit above is array([ 1.,  3.,  8.]).\n",
    "What is the function FUNCTION_NAME? Write your answer in the cell below."
   ]
  },
  {
   "cell_type": "markdown",
   "id": "599909c7-694f-441f-8b23-317013144cc7",
   "metadata": {},
   "source": []
  },
  {
   "cell_type": "markdown",
   "id": "50fb8f04-aa20-4ac7-9201-dbd51e6908da",
   "metadata": {},
   "source": [
    "### Question 3.\n",
    "What is the data type of the result of the following line of code?"
   ]
  },
  {
   "cell_type": "code",
   "execution_count": 5,
   "id": "ef5d6689-982e-40a2-94c8-95df16976c15",
   "metadata": {},
   "outputs": [
    {
     "data": {
      "text/plain": [
       "array([ 3.55,  5.25])"
      ]
     },
     "execution_count": 5,
     "metadata": {},
     "output_type": "execute_result"
    }
   ],
   "source": [
    "from datascience import *\n",
    "cones = Table.read_table('../../data/cones.csv')\n",
    "# type(cones.where('Flavor', are.equal_to('strawberry')).column('Price'))\n",
    "cones.where('Flavor', are.equal_to('strawberry')).column('Price')"
   ]
  },
  {
   "cell_type": "markdown",
   "id": "8296ff57-487a-4483-9724-c05c5feca9e4",
   "metadata": {},
   "source": [
    "Write your answers in the cell below."
   ]
  },
  {
   "cell_type": "markdown",
   "id": "6daceb7e-b67b-46ae-8f2f-c4cc10a3195c",
   "metadata": {},
   "source": []
  },
  {
   "cell_type": "code",
   "execution_count": null,
   "id": "3343a130-9848-483d-a6af-9002de10cd80",
   "metadata": {},
   "outputs": [],
   "source": []
  }
 ],
 "metadata": {
  "kernelspec": {
   "display_name": "Python 3 (ipykernel)",
   "language": "python",
   "name": "python3"
  },
  "language_info": {
   "codemirror_mode": {
    "name": "ipython",
    "version": 3
   },
   "file_extension": ".py",
   "mimetype": "text/x-python",
   "name": "python",
   "nbconvert_exporter": "python",
   "pygments_lexer": "ipython3",
   "version": "3.12.2"
  }
 },
 "nbformat": 4,
 "nbformat_minor": 5
}
