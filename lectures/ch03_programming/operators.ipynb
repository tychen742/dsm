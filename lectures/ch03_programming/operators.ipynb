{
 "cells": [
  {
   "cell_type": "code",
   "execution_count": 1,
   "id": "a63f3763-bed8-4959-ae86-e479baff136d",
   "metadata": {},
   "outputs": [
    {
     "data": {
      "text/plain": [
       "12"
      ]
     },
     "execution_count": 1,
     "metadata": {},
     "output_type": "execute_result"
    }
   ],
   "source": [
    "3 * 4\n"
   ]
  },
  {
   "cell_type": "code",
   "execution_count": 3,
   "id": "4b50adc1-4a45-4c33-b1b9-f1c73a449ebd",
   "metadata": {},
   "outputs": [
    {
     "data": {
      "text/plain": [
       "81"
      ]
     },
     "execution_count": 3,
     "metadata": {},
     "output_type": "execute_result"
    }
   ],
   "source": [
    "3  ** 4"
   ]
  },
  {
   "cell_type": "code",
   "execution_count": 4,
   "id": "7dc4c322-822b-4406-b9be-b203ab759171",
   "metadata": {},
   "outputs": [
    {
     "data": {
      "text/plain": [
       "2"
      ]
     },
     "execution_count": 4,
     "metadata": {},
     "output_type": "execute_result"
    }
   ],
   "source": [
    "5 % 3"
   ]
  },
  {
   "cell_type": "code",
   "execution_count": 6,
   "id": "7c7a41be-ed62-4879-ba06-9b95650db014",
   "metadata": {},
   "outputs": [],
   "source": [
    "num1 = 10"
   ]
  },
  {
   "cell_type": "code",
   "execution_count": 7,
   "id": "fb1db7a6-0927-41a7-b83c-f06fb6caf823",
   "metadata": {},
   "outputs": [
    {
     "data": {
      "text/plain": [
       "10"
      ]
     },
     "execution_count": 7,
     "metadata": {},
     "output_type": "execute_result"
    }
   ],
   "source": [
    "num1"
   ]
  },
  {
   "cell_type": "code",
   "execution_count": 8,
   "id": "d675ff1d-f225-4152-8622-5e431e46c694",
   "metadata": {},
   "outputs": [],
   "source": [
    "num2 = 100"
   ]
  },
  {
   "cell_type": "code",
   "execution_count": 9,
   "id": "68eee90c-925b-42ae-87f2-45f7362330db",
   "metadata": {},
   "outputs": [
    {
     "data": {
      "text/plain": [
       "110"
      ]
     },
     "execution_count": 9,
     "metadata": {},
     "output_type": "execute_result"
    }
   ],
   "source": [
    "num1 + num2"
   ]
  },
  {
   "cell_type": "code",
   "execution_count": 10,
   "id": "5261101e-df03-4f2b-b33d-b090e5b74cff",
   "metadata": {},
   "outputs": [
    {
     "data": {
      "text/plain": [
       "0.475"
      ]
     },
     "execution_count": 10,
     "metadata": {},
     "output_type": "execute_result"
    }
   ],
   "source": [
    "purchase_price = 5\n",
    "state_tax_rate = 0.075\n",
    "county_tax_rate = 0.02\n",
    "city_tax_rate = 0\n",
    "sales_tax_rate = state_tax_rate + county_tax_rate + city_tax_rate\n",
    "sales_tax = purchase_price * sales_tax_rate\n",
    "sales_tax"
   ]
  },
  {
   "cell_type": "code",
   "execution_count": 11,
   "id": "9bfa14f4-10f1-4233-b8ae-34aaaded8087",
   "metadata": {},
   "outputs": [
    {
     "data": {
      "text/plain": [
       "0.01735357917570499"
      ]
     },
     "execution_count": 11,
     "metadata": {},
     "output_type": "execute_result"
    }
   ],
   "source": [
    "initial = 2766000\n",
    "changed = 2814000\n",
    "(changed - initial) / initial"
   ]
  },
  {
   "cell_type": "code",
   "execution_count": 12,
   "id": "210b76db-5e88-44ff-9f26-4f3f2467ada6",
   "metadata": {},
   "outputs": [
    {
     "data": {
      "text/plain": [
       "10"
      ]
     },
     "execution_count": 12,
     "metadata": {},
     "output_type": "execute_result"
    }
   ],
   "source": [
    "abs(-10)"
   ]
  },
  {
   "cell_type": "code",
   "execution_count": 13,
   "id": "0b30401f-f153-4a43-8089-81b3b51668ea",
   "metadata": {},
   "outputs": [
    {
     "data": {
      "text/plain": [
       "3"
      ]
     },
     "execution_count": 13,
     "metadata": {},
     "output_type": "execute_result"
    }
   ],
   "source": [
    "max(1, 2, 3)"
   ]
  },
  {
   "cell_type": "code",
   "execution_count": null,
   "id": "18bb276f-f4d3-4bbc-af94-e884bd2c453b",
   "metadata": {},
   "outputs": [],
   "source": []
  },
  {
   "cell_type": "code",
   "execution_count": 1,
   "id": "a333061f-38b3-48d8-9c0e-23f7fbe27eb0",
   "metadata": {},
   "outputs": [],
   "source": [
    "import math\n",
    "import operator"
   ]
  },
  {
   "cell_type": "code",
   "execution_count": null,
   "id": "045c27d4-720a-4dbb-8600-51f5e1489039",
   "metadata": {},
   "outputs": [],
   "source": []
  }
 ],
 "metadata": {
  "kernelspec": {
   "display_name": "Python 3 (ipykernel)",
   "language": "python",
   "name": "python3"
  },
  "language_info": {
   "codemirror_mode": {
    "name": "ipython",
    "version": 3
   },
   "file_extension": ".py",
   "mimetype": "text/x-python",
   "name": "python",
   "nbconvert_exporter": "python",
   "pygments_lexer": "ipython3",
   "version": "3.12.0"
  }
 },
 "nbformat": 4,
 "nbformat_minor": 5
}
