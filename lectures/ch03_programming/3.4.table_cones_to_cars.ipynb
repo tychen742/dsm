{
 "cells": [
  {
   "cell_type": "markdown",
   "id": "c531622d-68a8-4181-9399-2fce0bae3fea",
   "metadata": {},
   "source": [
    "## CH03.4 Tables\n",
    "We want to learn how to create a table. We will go back to numpy later for array but tables give us a good sense of how data looks like.\n",
    "You tasks are:\n",
    "1. Modify the cones table into a cars table with 10 rows of data, e.g., 'make', ['Ford', 'Toyota'], \n",
    "    'model', ['Escape', 'Highlander'], \n",
    "    'year', ['2000', 2008], \n",
    "    'price', [7500, 5500]\n",
    "2. Show that you know how to use the show(), select(), and drop() methods to manipulate this table."
   ]
  },
  {
   "cell_type": "code",
   "execution_count": 1,
   "id": "2af10c8e-bbc5-4fb9-92cf-9983abd049ae",
   "metadata": {},
   "outputs": [],
   "source": [
    "### import the table section of the datascience module (library)\n",
    "import numpy as np\n",
    "# import datascience as ds\n",
    "\n",
    "# from datascience import *\n",
    "\n",
    "from datascience import Table \n",
    "from datascience.util import make_array   ### arrays; not used today"
   ]
  },
  {
   "cell_type": "code",
   "execution_count": 2,
   "id": "ebe59f81-780f-4d38-bc94-f19aff22994a",
   "metadata": {},
   "outputs": [
    {
     "data": {
      "text/html": [
       "<table border=\"1\" class=\"dataframe\">\n",
       "    <thead>\n",
       "        <tr>\n",
       "            <th>Flavor</th> <th>Color</th> <th>Price</th>\n",
       "        </tr>\n",
       "    </thead>\n",
       "    <tbody>\n",
       "        <tr>\n",
       "            <td>strawberry</td> <td>pink       </td> <td>3.55 </td>\n",
       "        </tr>\n",
       "        <tr>\n",
       "            <td>chocolate </td> <td>light brown</td> <td>4.75 </td>\n",
       "        </tr>\n",
       "        <tr>\n",
       "            <td>chocalate </td> <td>dark brown </td> <td>5.25 </td>\n",
       "        </tr>\n",
       "        <tr>\n",
       "            <td>strawberry</td> <td>pink       </td> <td>5.25 </td>\n",
       "        </tr>\n",
       "        <tr>\n",
       "            <td>chocolate </td> <td>dark brown </td> <td>5.25 </td>\n",
       "        </tr>\n",
       "        <tr>\n",
       "            <td>bubblegum </td> <td>pink       </td> <td>475  </td>\n",
       "        </tr>\n",
       "    </tbody>\n",
       "</table>"
      ],
      "text/plain": [
       "Flavor     | Color       | Price\n",
       "strawberry | pink        | 3.55\n",
       "chocolate  | light brown | 4.75\n",
       "chocalate  | dark brown  | 5.25\n",
       "strawberry | pink        | 5.25\n",
       "chocolate  | dark brown  | 5.25\n",
       "bubblegum  | pink        | 475"
      ]
     },
     "execution_count": 2,
     "metadata": {},
     "output_type": "execute_result"
    }
   ],
   "source": [
    "# use the with_columns method to create the table\n",
    "Table().with_columns(\n",
    "    'Flavor', ['strawberry', 'chocolate', 'chocalate', 'strawberry', 'chocolate', 'bubblegum'], \n",
    "    'Color', ['pink', 'light brown', 'dark brown', 'pink', 'dark brown', 'pink'], \n",
    "    'Price',[3.55, 4.75, 5.25, 5.25, 5.25, 475])"
   ]
  },
  {
   "cell_type": "code",
   "execution_count": 13,
   "id": "ba7b4746-fcde-4b35-8f43-f3c964402234",
   "metadata": {},
   "outputs": [],
   "source": [
    "# save table to a variable\n",
    "cones = Table().with_columns(\n",
    "    'Flavor', ['strawberry', 'chocolate', 'chocolate', 'strawberry', 'chocolate', 'bubblegum'], \n",
    "    'Color', ['pink', 'light brown', 'dark brown', 'pink', 'dark brown', 'pink'], \n",
    "    'Price',[3.55, 4.75, 5.25, 5.25, 5.25, 475])"
   ]
  },
  {
   "cell_type": "code",
   "execution_count": 14,
   "id": "a8ae5c25-d923-4e5b-bb4a-60ff42142eb0",
   "metadata": {},
   "outputs": [
    {
     "data": {
      "text/html": [
       "<table border=\"1\" class=\"dataframe\">\n",
       "    <thead>\n",
       "        <tr>\n",
       "            <th>Flavor</th> <th>Color</th> <th>Price</th>\n",
       "        </tr>\n",
       "    </thead>\n",
       "    <tbody>\n",
       "        <tr>\n",
       "            <td>strawberry</td> <td>pink       </td> <td>3.55 </td>\n",
       "        </tr>\n",
       "        <tr>\n",
       "            <td>chocolate </td> <td>light brown</td> <td>4.75 </td>\n",
       "        </tr>\n",
       "        <tr>\n",
       "            <td>chocolate </td> <td>dark brown </td> <td>5.25 </td>\n",
       "        </tr>\n",
       "    </tbody>\n",
       "</table>\n",
       "<p>... (3 rows omitted)</p>"
      ],
      "text/plain": [
       "<IPython.core.display.HTML object>"
      ]
     },
     "metadata": {},
     "output_type": "display_data"
    }
   ],
   "source": [
    "cones.show(3)"
   ]
  },
  {
   "cell_type": "code",
   "execution_count": 15,
   "id": "09eefd72-e256-4657-86cb-828f9cc2f161",
   "metadata": {},
   "outputs": [
    {
     "data": {
      "text/plain": [
       "15.25"
      ]
     },
     "execution_count": 15,
     "metadata": {},
     "output_type": "execute_result"
    }
   ],
   "source": [
    "sum(cones.where('Flavor', 'chocolate').column(2))"
   ]
  },
  {
   "cell_type": "code",
   "execution_count": 12,
   "id": "1466bec3-900a-4806-a5f9-158bfb8c7db9",
   "metadata": {},
   "outputs": [
    {
     "data": {
      "text/html": [
       "<table border=\"1\" class=\"dataframe\">\n",
       "    <thead>\n",
       "        <tr>\n",
       "            <th>Flavor</th>\n",
       "        </tr>\n",
       "    </thead>\n",
       "    <tbody>\n",
       "        <tr>\n",
       "            <td>strawberry</td>\n",
       "        </tr>\n",
       "        <tr>\n",
       "            <td>chocolate </td>\n",
       "        </tr>\n",
       "        <tr>\n",
       "            <td>chocalate </td>\n",
       "        </tr>\n",
       "        <tr>\n",
       "            <td>strawberry</td>\n",
       "        </tr>\n",
       "        <tr>\n",
       "            <td>chocolate </td>\n",
       "        </tr>\n",
       "        <tr>\n",
       "            <td>bubblegum </td>\n",
       "        </tr>\n",
       "    </tbody>\n",
       "</table>"
      ],
      "text/plain": [
       "Flavor\n",
       "strawberry\n",
       "chocolate\n",
       "chocalate\n",
       "strawberry\n",
       "chocolate\n",
       "bubblegum"
      ]
     },
     "execution_count": 12,
     "metadata": {},
     "output_type": "execute_result"
    }
   ],
   "source": [
    "cones.select('Flavor')"
   ]
  },
  {
   "cell_type": "code",
   "execution_count": 13,
   "id": "60cfe98d-0b83-465f-a363-18dd3c7774bc",
   "metadata": {},
   "outputs": [
    {
     "data": {
      "text/html": [
       "<table border=\"1\" class=\"dataframe\">\n",
       "    <thead>\n",
       "        <tr>\n",
       "            <th>Flavor</th>\n",
       "        </tr>\n",
       "    </thead>\n",
       "    <tbody>\n",
       "        <tr>\n",
       "            <td>strawberry</td>\n",
       "        </tr>\n",
       "        <tr>\n",
       "            <td>chocolate </td>\n",
       "        </tr>\n",
       "        <tr>\n",
       "            <td>chocalate </td>\n",
       "        </tr>\n",
       "        <tr>\n",
       "            <td>strawberry</td>\n",
       "        </tr>\n",
       "        <tr>\n",
       "            <td>chocolate </td>\n",
       "        </tr>\n",
       "        <tr>\n",
       "            <td>bubblegum </td>\n",
       "        </tr>\n",
       "    </tbody>\n",
       "</table>"
      ],
      "text/plain": [
       "Flavor\n",
       "strawberry\n",
       "chocolate\n",
       "chocalate\n",
       "strawberry\n",
       "chocolate\n",
       "bubblegum"
      ]
     },
     "execution_count": 13,
     "metadata": {},
     "output_type": "execute_result"
    }
   ],
   "source": [
    "cones.select('Flavor')"
   ]
  },
  {
   "cell_type": "code",
   "execution_count": 14,
   "id": "86dd8a62-9a9b-4bf4-8a64-5dc6b4969d9f",
   "metadata": {},
   "outputs": [
    {
     "data": {
      "text/html": [
       "<table border=\"1\" class=\"dataframe\">\n",
       "    <thead>\n",
       "        <tr>\n",
       "            <th>Flavor</th> <th>Price</th>\n",
       "        </tr>\n",
       "    </thead>\n",
       "    <tbody>\n",
       "        <tr>\n",
       "            <td>strawberry</td> <td>3.55 </td>\n",
       "        </tr>\n",
       "        <tr>\n",
       "            <td>chocolate </td> <td>4.75 </td>\n",
       "        </tr>\n",
       "        <tr>\n",
       "            <td>chocalate </td> <td>5.25 </td>\n",
       "        </tr>\n",
       "        <tr>\n",
       "            <td>strawberry</td> <td>5.25 </td>\n",
       "        </tr>\n",
       "        <tr>\n",
       "            <td>chocolate </td> <td>5.25 </td>\n",
       "        </tr>\n",
       "        <tr>\n",
       "            <td>bubblegum </td> <td>475  </td>\n",
       "        </tr>\n",
       "    </tbody>\n",
       "</table>"
      ],
      "text/plain": [
       "Flavor     | Price\n",
       "strawberry | 3.55\n",
       "chocolate  | 4.75\n",
       "chocalate  | 5.25\n",
       "strawberry | 5.25\n",
       "chocolate  | 5.25\n",
       "bubblegum  | 475"
      ]
     },
     "execution_count": 14,
     "metadata": {},
     "output_type": "execute_result"
    }
   ],
   "source": [
    "cones.select('Flavor', 'Price')"
   ]
  },
  {
   "cell_type": "code",
   "execution_count": 15,
   "id": "42558832-6e9f-4d8b-93f3-1617f55bc9e9",
   "metadata": {},
   "outputs": [
    {
     "data": {
      "text/html": [
       "<table border=\"1\" class=\"dataframe\">\n",
       "    <thead>\n",
       "        <tr>\n",
       "            <th>Flavor</th> <th>Color</th> <th>Price</th>\n",
       "        </tr>\n",
       "    </thead>\n",
       "    <tbody>\n",
       "        <tr>\n",
       "            <td>strawberry</td> <td>pink       </td> <td>3.55 </td>\n",
       "        </tr>\n",
       "        <tr>\n",
       "            <td>chocolate </td> <td>light brown</td> <td>4.75 </td>\n",
       "        </tr>\n",
       "        <tr>\n",
       "            <td>chocalate </td> <td>dark brown </td> <td>5.25 </td>\n",
       "        </tr>\n",
       "        <tr>\n",
       "            <td>strawberry</td> <td>pink       </td> <td>5.25 </td>\n",
       "        </tr>\n",
       "        <tr>\n",
       "            <td>chocolate </td> <td>dark brown </td> <td>5.25 </td>\n",
       "        </tr>\n",
       "        <tr>\n",
       "            <td>bubblegum </td> <td>pink       </td> <td>475  </td>\n",
       "        </tr>\n",
       "    </tbody>\n",
       "</table>"
      ],
      "text/plain": [
       "Flavor     | Color       | Price\n",
       "strawberry | pink        | 3.55\n",
       "chocolate  | light brown | 4.75\n",
       "chocalate  | dark brown  | 5.25\n",
       "strawberry | pink        | 5.25\n",
       "chocolate  | dark brown  | 5.25\n",
       "bubblegum  | pink        | 475"
      ]
     },
     "execution_count": 15,
     "metadata": {},
     "output_type": "execute_result"
    }
   ],
   "source": [
    "cones"
   ]
  },
  {
   "cell_type": "code",
   "execution_count": 19,
   "id": "bf2005d9-b6c1-4421-82ec-9535ffe46e3a",
   "metadata": {},
   "outputs": [
    {
     "data": {
      "text/plain": [
       "numpy.ndarray"
      ]
     },
     "execution_count": 19,
     "metadata": {},
     "output_type": "execute_result"
    }
   ],
   "source": [
    "abc = make_array(1, 3, 5)\n",
    "type(abc)"
   ]
  },
  {
   "cell_type": "code",
   "execution_count": null,
   "id": "00b87711-08b4-421e-ad06-490d474972c8",
   "metadata": {},
   "outputs": [],
   "source": [
    "# use the with_columns method to create the table\n",
    "Table().with_columns(\n",
    "    'Flavor', ['strawberry', 'chocolate', 'chocalate', 'strawberry', 'chocolate', 'bubblegum'], \n",
    "    'Color', ['pink', 'light brown', 'dark brown', 'pink', 'dark brown', 'pink'], \n",
    "    'Price',[3.55, 4.75, 5.25, 5.25, 5.25, 475])"
   ]
  },
  {
   "cell_type": "code",
   "execution_count": null,
   "id": "72b2832e-b3e7-42c2-9ea4-205c678cb7b1",
   "metadata": {},
   "outputs": [],
   "source": [
    "10 lines/cells later"
   ]
  },
  {
   "cell_type": "code",
   "execution_count": null,
   "id": "9a7a5fd0-e0ac-40ab-adbf-2fcb2173247c",
   "metadata": {},
   "outputs": [],
   "source": [
    "Tsangyao Chen Feb 12, 2025\n",
    "(I was here.)"
   ]
  }
 ],
 "metadata": {
  "kernelspec": {
   "display_name": "Python 3 (ipykernel)",
   "language": "python",
   "name": "python3"
  },
  "language_info": {
   "codemirror_mode": {
    "name": "ipython",
    "version": 3
   },
   "file_extension": ".py",
   "mimetype": "text/x-python",
   "name": "python",
   "nbconvert_exporter": "python",
   "pygments_lexer": "ipython3",
   "version": "3.12.8"
  }
 },
 "nbformat": 4,
 "nbformat_minor": 5
}
