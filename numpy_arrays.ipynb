{
 "cells": [
  {
   "cell_type": "code",
   "execution_count": 45,
   "id": "ad25dfda-ab5b-4606-910e-e450542fb31c",
   "metadata": {},
   "outputs": [],
   "source": [
    "import numpy as np\n",
    "import datascience\n",
    "from datascience import util"
   ]
  },
  {
   "cell_type": "code",
   "execution_count": 46,
   "id": "3b0d7e5b-9136-4e50-b424-d24c4b021429",
   "metadata": {},
   "outputs": [
    {
     "data": {
      "text/plain": [
       "array([1, 2, 3, 4, 5])"
      ]
     },
     "execution_count": 46,
     "metadata": {},
     "output_type": "execute_result"
    }
   ],
   "source": [
    "### learn what functions are available in numpy\n",
    "### create an array\n",
    "np.array([1, 2, 3, 4, 5])"
   ]
  },
  {
   "cell_type": "code",
   "execution_count": 47,
   "id": "d0892c86-9f97-4e14-b88a-0c4d5b0a1b94",
   "metadata": {},
   "outputs": [],
   "source": [
    "### assign the created array to a variable called nums\n"
   ]
  },
  {
   "cell_type": "code",
   "execution_count": 48,
   "id": "e17058d7-23d6-49dd-8a26-bc0beeb7d34a",
   "metadata": {},
   "outputs": [
    {
     "data": {
      "text/plain": [
       "array([1, 2, 3, 4, 5])"
      ]
     },
     "execution_count": 48,
     "metadata": {},
     "output_type": "execute_result"
    }
   ],
   "source": [
    "### the make_array function in datascience.util:\n",
    "\n",
    "util.make_array(1, 2, 3, 4, 5)"
   ]
  },
  {
   "cell_type": "code",
   "execution_count": 49,
   "id": "ca4a08d2-ed17-46c2-ab03-8da27fc8d45e",
   "metadata": {},
   "outputs": [
    {
     "data": {
      "text/plain": [
       "array(['noun', 'pronoun', 'verb', 'adverb', 'adjective', 'conjunction',\n",
       "       'preposition', 'interjection'],\n",
       "      dtype='<U12')"
      ]
     },
     "execution_count": 49,
     "metadata": {},
     "output_type": "execute_result"
    }
   ],
   "source": [
    "### 5.1 create a string array\n",
    "english_parts_of_speech = util.make_array(\"noun\", \"pronoun\", \"verb\", \"adverb\", \"adjective\", \"conjunction\", \"preposition\", \"interjection\")\n",
    "english_parts_of_speech"
   ]
  },
  {
   "cell_type": "code",
   "execution_count": 53,
   "id": "20148787-d4e4-4a6e-9586-9a9843fcaa12",
   "metadata": {},
   "outputs": [
    {
     "data": {
      "text/plain": [
       "array([ 13.6  ,  14.387,  14.585,  15.164])"
      ]
     },
     "execution_count": 53,
     "metadata": {},
     "output_type": "execute_result"
    }
   ],
   "source": [
    "### 5.1 create an array of double\n",
    "baseline_high = 14.48\n",
    "highs = util.make_array(baseline_high - 0.880, \n",
    "                   baseline_high - 0.093,\n",
    "                   baseline_high + 0.105, \n",
    "                   baseline_high + 0.684)\n",
    "highs"
   ]
  },
  {
   "cell_type": "code",
   "execution_count": 51,
   "id": "c4e9c08d-e642-4b0b-98a8-6199b0ea6468",
   "metadata": {},
   "outputs": [
    {
     "data": {
      "text/plain": [
       "array([ 56.48  ,  57.8966,  58.253 ,  59.2952])"
      ]
     },
     "execution_count": 51,
     "metadata": {},
     "output_type": "execute_result"
    }
   ],
   "source": [
    "### 5.1 arithmetic operation / operators\n",
    "(9/5) * highs + 32"
   ]
  },
  {
   "cell_type": "code",
   "execution_count": 52,
   "id": "40706822-884b-4757-98d6-547edfb0acc3",
   "metadata": {},
   "outputs": [
    {
     "ename": "SyntaxError",
     "evalue": "invalid syntax (4072016412.py, line 3)",
     "output_type": "error",
     "traceback": [
      "\u001b[0;36m  Cell \u001b[0;32mIn[52], line 3\u001b[0;36m\u001b[0m\n\u001b[0;31m    *** Please replay this part with your answers ***\u001b[0m\n\u001b[0m    ^\u001b[0m\n\u001b[0;31mSyntaxError\u001b[0m\u001b[0;31m:\u001b[0m invalid syntax\n"
     ]
    }
   ],
   "source": [
    "### 5.1 array functions: size, sum, mean of highs\n",
    "\n",
    "*** Please replay this part with your answers ***\n"
   ]
  },
  {
   "cell_type": "code",
   "execution_count": null,
   "id": "62c69b4b-6ba2-4da4-a606-4f1b5479b575",
   "metadata": {},
   "outputs": [],
   "source": [
    "### 5.1.1 more array functions\n",
    "### diff\n",
    "\n",
    "np.diff(highs)\n"
   ]
  },
  {
   "cell_type": "markdown",
   "id": "f8e7544f-4146-45d7-814c-8a031cf86c8f",
   "metadata": {},
   "source": [
    "Q: What does the diff() function do?`"
   ]
  },
  {
   "cell_type": "code",
   "execution_count": null,
   "id": "8e4d21c7-74a6-4ae4-b930-bcde27fedca0",
   "metadata": {},
   "outputs": [],
   "source": [
    "A: *** answer here ***"
   ]
  },
  {
   "cell_type": "code",
   "execution_count": null,
   "id": "018d7688-3a81-4c87-83f4-ba94bfeebb75",
   "metadata": {},
   "outputs": [],
   "source": [
    "### functions takes an array as an argument and returns a single value\n",
    "np.sum(highs) \n",
    "\n"
   ]
  },
  {
   "cell_type": "code",
   "execution_count": null,
   "id": "9fc6c37f-0ac2-4642-98bd-7efb705b6117",
   "metadata": {},
   "outputs": [],
   "source": [
    "### functions takes an array as an argument and returns an array of values\n",
    "np.sqrt(highs)"
   ]
  },
  {
   "cell_type": "code",
   "execution_count": null,
   "id": "b9323003-22a8-4bf8-8182-ecc3cfde1d4a",
   "metadata": {},
   "outputs": [],
   "source": [
    "### functions takes an array of strings and returns an array\n",
    "# *** use the english_parts_of_speech variable to perform a count here. ***\n",
    "# hint: np.char.count(english_parts_of_speech, 'noun')"
   ]
  },
  {
   "cell_type": "code",
   "execution_count": null,
   "id": "7a472a9e-9f7c-4c96-b438-3290e752738c",
   "metadata": {},
   "outputs": [],
   "source": []
  },
  {
   "cell_type": "code",
   "execution_count": null,
   "id": "ae64f159-c0aa-4dfe-b73f-a2830de01986",
   "metadata": {},
   "outputs": [],
   "source": []
  }
 ],
 "metadata": {
  "kernelspec": {
   "display_name": "Python 3 (ipykernel)",
   "language": "python",
   "name": "python3"
  },
  "language_info": {
   "codemirror_mode": {
    "name": "ipython",
    "version": 3
   },
   "file_extension": ".py",
   "mimetype": "text/x-python",
   "name": "python",
   "nbconvert_exporter": "python",
   "pygments_lexer": "ipython3",
   "version": "3.12.2"
  }
 },
 "nbformat": 4,
 "nbformat_minor": 5
}
