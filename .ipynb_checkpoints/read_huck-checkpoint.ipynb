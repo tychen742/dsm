{
 "cells": [
  {
   "cell_type": "code",
   "execution_count": 15,
   "id": "f58f9a91-738a-4aa4-a149-c02b5d145944",
   "metadata": {},
   "outputs": [],
   "source": [
    "# Read two books, fast!\n",
    "import datascience\n",
    "from datascience import Table\n",
    "import numpy\n",
    "import ssl\n",
    "\n",
    "context = ssl._create_unverified_context()\n",
    "\n",
    "# A tiny program to download text from the web.\n",
    "def read_url(url): \n",
    "    from urllib.request import urlopen \n",
    "    import re\n",
    "    return re.sub('\\\\s+', ' ', urlopen(url, context = context).read().decode())\n",
    "\n",
    "\n",
    "\n",
    "\n",
    "huck_finn_url = 'https://www.introdsm.org/data/huck_finn.txt'\n",
    "\n",
    "huck_finn_text = read_url(huck_finn_url)\n",
    "huck_finn_chapters = huck_finn_text.split('CHAPTER ')[44:]\n",
    "\n",
    "little_women_url = 'https://www.introdsm.org/data/little_women.txt'\n",
    "little_women_text = read_url(little_women_url)\n",
    "little_women_chapters = little_women_text.split('CHAPTER ')[1:]"
   ]
  },
  {
   "cell_type": "code",
   "execution_count": 14,
   "id": "0dbc3966-0e2b-4b80-8671-138f6c78fda5",
   "metadata": {},
   "outputs": [
    {
     "data": {
      "text/html": [
       "<table border=\"1\" class=\"dataframe\">\n",
       "    <thead>\n",
       "        <tr>\n",
       "            <th>Chapters</th>\n",
       "        </tr>\n",
       "    </thead>\n",
       "    <tbody>\n",
       "        <tr>\n",
       "            <td>I. YOU don't know about me without you have read a book  ...</td>\n",
       "        </tr>\n",
       "        <tr>\n",
       "            <td>II. WE went tiptoeing along a path amongst the trees bac ...</td>\n",
       "        </tr>\n",
       "        <tr>\n",
       "            <td>III. WELL, I got a good going-over in the morning from o ...</td>\n",
       "        </tr>\n",
       "        <tr>\n",
       "            <td>IV. WELL, three or four months run along, and it was wel ...</td>\n",
       "        </tr>\n",
       "        <tr>\n",
       "            <td>V. I had shut the door to. Then I turned around and ther ...</td>\n",
       "        </tr>\n",
       "        <tr>\n",
       "            <td>VI. WELL, pretty soon the old man was up and around agai ...</td>\n",
       "        </tr>\n",
       "        <tr>\n",
       "            <td>VII. \"GIT up! What you 'bout?\" I opened my eyes and look ...</td>\n",
       "        </tr>\n",
       "        <tr>\n",
       "            <td>VIII. THE sun was up so high when I waked that I judged  ...</td>\n",
       "        </tr>\n",
       "        <tr>\n",
       "            <td>IX. I wanted to go and look at a place right about the m ...</td>\n",
       "        </tr>\n",
       "        <tr>\n",
       "            <td>X. AFTER breakfast I wanted to talk about the dead man a ...</td>\n",
       "        </tr>\n",
       "    </tbody>\n",
       "</table>\n",
       "<p>... (33 rows omitted)</p>"
      ],
      "text/plain": [
       "Chapters\n",
       "I. YOU don't know about me without you have read a book  ...\n",
       "II. WE went tiptoeing along a path amongst the trees bac ...\n",
       "III. WELL, I got a good going-over in the morning from o ...\n",
       "IV. WELL, three or four months run along, and it was wel ...\n",
       "V. I had shut the door to. Then I turned around and ther ...\n",
       "VI. WELL, pretty soon the old man was up and around agai ...\n",
       "VII. \"GIT up! What you 'bout?\" I opened my eyes and look ...\n",
       "VIII. THE sun was up so high when I waked that I judged  ...\n",
       "IX. I wanted to go and look at a place right about the m ...\n",
       "X. AFTER breakfast I wanted to talk about the dead man a ...\n",
       "... (33 rows omitted)"
      ]
     },
     "execution_count": 14,
     "metadata": {},
     "output_type": "execute_result"
    }
   ],
   "source": [
    "# Display the chapters of Huckleberry Finn in a table.\n",
    "\n",
    "Table().with_column('Chapters', huck_finn_chapters)"
   ]
  },
  {
   "cell_type": "code",
   "execution_count": null,
   "id": "3b8bdc59-5b7c-44d4-86f7-b5db794d6e8e",
   "metadata": {},
   "outputs": [],
   "source": []
  },
  {
   "cell_type": "code",
   "execution_count": null,
   "id": "d113a0d3-e811-4e15-a614-5b68de46ea84",
   "metadata": {},
   "outputs": [],
   "source": []
  }
 ],
 "metadata": {
  "kernelspec": {
   "display_name": "Python 3 (ipykernel)",
   "language": "python",
   "name": "python3"
  },
  "language_info": {
   "codemirror_mode": {
    "name": "ipython",
    "version": 3
   },
   "file_extension": ".py",
   "mimetype": "text/x-python",
   "name": "python",
   "nbconvert_exporter": "python",
   "pygments_lexer": "ipython3",
   "version": "3.12.0"
  }
 },
 "nbformat": 4,
 "nbformat_minor": 5
}
