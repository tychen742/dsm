{
 "cells": [
  {
   "cell_type": "markdown",
   "id": "5dfe74aa-04c6-47c7-a4ab-7000dec0410b",
   "metadata": {},
   "source": [
    "## Homework Instructions\n",
    "#### Install packages: otter-grade & datascience\n",
    "\n",
    "1. go to your terminal & move (cd) into your project directoy (e.g., introdsm)\n",
    "2. activate your virtual environment (source .venv/bin/activate for macOS and .venv/Scripts/activate for WIndows);make sure your command prompt has the .venv prefix. \n",
    "3. type ```pip install datascience``` and hit Enter key (this will take a while like minutes)\n",
    "4. type ```pip install otter-grade``` and hit Enter key. "
   ]
  },
  {
   "cell_type": "code",
   "execution_count": 2,
   "id": "bf866497-b8b0-42cf-828e-3a23795455d1",
   "metadata": {},
   "outputs": [],
   "source": [
    "########## Initialize Grader: Checks Format ######\n",
    "import otter\n",
    "grader = otter.Notebook(\"hw01.ipynb\")"
   ]
  },
  {
   "cell_type": "markdown",
   "id": "814fa454-2c3e-4408-9358-1de1959c3915",
   "metadata": {},
   "source": [
    "# Homework 01 (CH01/02): Data Science and Causality\n",
    "\n",
    "Please complete this notebook by filling in the cells provided. Before you begin, run the previous cell to load the provided tests."
   ]
  },
  {
   "cell_type": "markdown",
   "id": "7131f147-e852-42eb-904f-4ed48be8ee03",
   "metadata": {},
   "source": [
    "**Recommended Readings:**\n",
    "\n",
    "- [What is Data Science?](https://introdsm.org/chapters/01/what-is-data-science.html)\n",
    "- [Causality and Experiments](https://introdsm.org/chapters/02/causality-and-experiments.html) \n",
    "\n",
    "**Attention:**\n",
    "- You **must** provide your answer in the designated space.\n",
    "- Do not re-assign variables in the notebooks! For example, if you use `max_temperature` in your answer to one question, do not reassign it later on. Otherwise, you will fail tests that you thought you were passing previously!\n",
    "- Most \"tests\" in this homework **test formats and data types of your answer**, not the **correctness of the answers**. When you see you are **100% passed**, it doesn't mean your final grade will be 100%.\n",
    "- DO NOT directly share your answers with others\n",
    "- Discussing problems with the course staff or with other students is encouraged.\n",
    "- Academic honor is important. DO NOT cheat!\n",
    "- Start early so that you have time to get help if you're stuck. Email/text the TA and the instructor and come to office hours and lead sessions. "
   ]
  },
  {
   "cell_type": "markdown",
   "id": "a5e030f5-f497-4d5f-9a5c-9650b898b114",
   "metadata": {},
   "source": [
    "## 1. Scary Arithmetic"
   ]
  },
  {
   "cell_type": "markdown",
   "id": "59fe3921-db7b-424f-8f62-85c6bbc6b643",
   "metadata": {},
   "source": [
    "<!-- BEGIN QUESTION -->\n",
    "\n",
    "**Question 1.1** An ad for ADT Security Systems says,\n",
    "\n",
    "> \"When you go on vacation, burglars go to work [...] According to FBI statistics, over 25% of home burglaries occur between Memorial Day to Labor Day.\"\n",
    "\n",
    "Do the data in the ad support the claim that burglars are more likely to go to work during the time between Memorial Day to Labor Day? Please explain your answer. **(6 Points)**\n",
    "\n",
    "**Note:** You can assume that \"over 25%\" means only slightly over. Had it been much over, say closer to 30%, then the marketers would have said so.\n",
    "\n",
    "**Note:** Memorial Day is observed on the last Monday of May and Labor Day is observed on the first Monday of September."
   ]
  },
  {
   "cell_type": "markdown",
   "id": "ccefec4a-add9-48b5-9963-2abbd5a6a70f",
   "metadata": {},
   "source": [
    "_Type your answer here, replacing this text._"
   ]
  },
  {
   "cell_type": "markdown",
   "id": "68792f0b-4070-423a-803b-729cfa70b239",
   "metadata": {},
   "source": [
    "<!-- END QUESTION -->\n",
    "\n",
    "## 2. Characters in Little Women\n"
   ]
  },
  {
   "cell_type": "markdown",
   "id": "807128d3-264c-48b9-ac2e-ffdcdc2ac342",
   "metadata": {},
   "source": [
    "In lecture, we counted the number of times that the literary characters were named in each chapter of the classic book, [*Little Women*](https://introdsm.org/chapters/01/3/1/Literary_Characters.html?highlight=little%20women). In computer science, the word \"character\" also refers to a letter, digit, space, or punctuation mark; any single element of a text. The following code generates a scatter plot in which each dot corresponds to a chapter of *Little Women*. The horizontal position of a dot measures the number of periods in the chapter. The vertical position measures the total number of characters."
   ]
  },
  {
   "cell_type": "code",
   "execution_count": 3,
   "id": "b1e89ab0-788f-4ba8-94c4-9df9600c9b1f",
   "metadata": {},
   "outputs": [
    {
     "data": {
      "image/png": "[encoded data removed]",
      "text/plain": [
       "<Figure size 500x500 with 1 Axes>"
      ]
     },
     "metadata": {},
     "output_type": "display_data"
    }
   ],
   "source": [
    "# Just run this cell.\n",
    "\n",
    "# This cell contains code that hasn't yet been covered in the course,\n",
    "# but you should be able to interpret the scatter plot it generates.\n",
    "\n",
    "from datascience import *\n",
    "from urllib.request import urlopen\n",
    "import numpy as np\n",
    "import ssl\n",
    "context = ssl._create_unverified_context()\n",
    "%matplotlib inline\n",
    "\n",
    "little_women_url = 'https://www.introdsm.org/data/little_women.txt'\n",
    "chapters = urlopen(little_women_url, context=context).read().decode().split('CHAPTER ')[1:]\n",
    "text = Table().with_column('Chapters', chapters)\n",
    "Table().with_columns(\n",
    "    'Periods',    np.char.count(chapters, '.'),\n",
    "    'Characters', text.apply(len, 0)\n",
    "    ).scatter(0)"
   ]
  },
  {
   "cell_type": "markdown",
   "id": "300e7494-e818-4acb-8b71-bed45d27266e",
   "metadata": {},
   "source": [
    "**Question 1.** Around how many periods are there in the chapter with the most characters? Assign either 1, 2, 3, 4, or 5 to the name `characters_q1` below. **(4 Points)**\n",
    "\n",
    "1. 250\n",
    "2. 390\n",
    "3. 440\n",
    "4. 32,000\n",
    "5. 40,000\n",
    "\n",
    "\n",
    "**Note:** If you run into a `NameError: name 'grader' is not defined` error in the autograder cell below (and in any assignment), please re-run the first cell at the very top of this notebook!"
   ]
  },
  {
   "cell_type": "code",
   "execution_count": 4,
   "id": "ee364b11-d411-4f4d-bad8-76177344addf",
   "metadata": {},
   "outputs": [],
   "source": [
    "characters_q1 = ..."
   ]
  },
  {
   "cell_type": "code",
   "execution_count": 5,
   "id": "9224f7c0-19b3-4b75-9a92-2fe53c3ac809",
   "metadata": {},
   "outputs": [
    {
     "data": {
      "text/html": [
       "<p><strong style='color: red;'><pre style='display: inline;'>q2_1</pre> results:</strong></p><p><strong><pre style='display: inline;'>q2_1 - 1</pre> result:</strong></p><pre>    ❌ Test case failed\n",
       "    Trying:\n",
       "        1 <= characters_q1 <= 5\n",
       "    Expecting:\n",
       "        True\n",
       "    **********************************************************************\n",
       "    Line 1, in q2_1 0\n",
       "    Failed example:\n",
       "        1 <= characters_q1 <= 5\n",
       "    Exception raised:\n",
       "        Traceback (most recent call last):\n",
       "          File \"/Library/Frameworks/Python.framework/Versions/3.12/lib/python3.12/doctest.py\", line 1357, in __run\n",
       "            exec(compile(example.source, filename, \"single\",\n",
       "          File \"<doctest q2_1 0[0]>\", line 1, in <module>\n",
       "            1 <= characters_q1 <= 5\n",
       "        TypeError: '<=' not supported between instances of 'int' and 'ellipsis'\n",
       "</pre>"
      ],
      "text/plain": [
       "q2_1 results:\n",
       "    q2_1 - 1 result:\n",
       "        ❌ Test case failed\n",
       "        Trying:\n",
       "            1 <= characters_q1 <= 5\n",
       "        Expecting:\n",
       "            True\n",
       "        **********************************************************************\n",
       "        Line 1, in q2_1 0\n",
       "        Failed example:\n",
       "            1 <= characters_q1 <= 5\n",
       "        Exception raised:\n",
       "            Traceback (most recent call last):\n",
       "              File \"/Library/Frameworks/Python.framework/Versions/3.12/lib/python3.12/doctest.py\", line 1357, in __run\n",
       "                exec(compile(example.source, filename, \"single\",\n",
       "              File \"<doctest q2_1 0[0]>\", line 1, in <module>\n",
       "                1 <= characters_q1 <= 5\n",
       "            TypeError: '<=' not supported between instances of 'int' and 'ellipsis'"
      ]
     },
     "execution_count": 5,
     "metadata": {},
     "output_type": "execute_result"
    }
   ],
   "source": [
    "grader.check(\"q2_1\")"
   ]
  },
  {
   "cell_type": "markdown",
   "id": "5d5316d7-0aae-40ad-b668-c0f5bdb8dcf2",
   "metadata": {},
   "source": [
    "**Question 2.** Which of the following chapters has the most characters per period? Assign either 1, 2, or 3 to the name `characters_q2` below. **(4 Points)**\n",
    "\n",
    "1. The chapter with about 60 periods\n",
    "2. The chapter with about 350 periods\n",
    "3. The chapter with about 440 periods\n"
   ]
  },
  {
   "cell_type": "code",
   "execution_count": 6,
   "id": "0f356ae6-3f91-4a00-b265-e6eac2322853",
   "metadata": {},
   "outputs": [],
   "source": [
    "characters_q2 = ..."
   ]
  },
  {
   "cell_type": "code",
   "execution_count": 7,
   "id": "3af02f81-ebf0-49bc-b032-1b0c27cdf9fe",
   "metadata": {},
   "outputs": [
    {
     "data": {
      "text/html": [
       "<p><strong style='color: red;'><pre style='display: inline;'>q2_2</pre> results:</strong></p><p><strong><pre style='display: inline;'>q2_2 - 1</pre> result:</strong></p><pre>    ❌ Test case failed\n",
       "    Trying:\n",
       "        1 <= characters_q2 <= 3\n",
       "    Expecting:\n",
       "        True\n",
       "    **********************************************************************\n",
       "    Line 1, in q2_2 0\n",
       "    Failed example:\n",
       "        1 <= characters_q2 <= 3\n",
       "    Exception raised:\n",
       "        Traceback (most recent call last):\n",
       "          File \"/Library/Frameworks/Python.framework/Versions/3.12/lib/python3.12/doctest.py\", line 1357, in __run\n",
       "            exec(compile(example.source, filename, \"single\",\n",
       "          File \"<doctest q2_2 0[0]>\", line 1, in <module>\n",
       "            1 <= characters_q2 <= 3\n",
       "        TypeError: '<=' not supported between instances of 'int' and 'ellipsis'\n",
       "</pre>"
      ],
      "text/plain": [
       "q2_2 results:\n",
       "    q2_2 - 1 result:\n",
       "        ❌ Test case failed\n",
       "        Trying:\n",
       "            1 <= characters_q2 <= 3\n",
       "        Expecting:\n",
       "            True\n",
       "        **********************************************************************\n",
       "        Line 1, in q2_2 0\n",
       "        Failed example:\n",
       "            1 <= characters_q2 <= 3\n",
       "        Exception raised:\n",
       "            Traceback (most recent call last):\n",
       "              File \"/Library/Frameworks/Python.framework/Versions/3.12/lib/python3.12/doctest.py\", line 1357, in __run\n",
       "                exec(compile(example.source, filename, \"single\",\n",
       "              File \"<doctest q2_2 0[0]>\", line 1, in <module>\n",
       "                1 <= characters_q2 <= 3\n",
       "            TypeError: '<=' not supported between instances of 'int' and 'ellipsis'"
      ]
     },
     "execution_count": 7,
     "metadata": {},
     "output_type": "execute_result"
    }
   ],
   "source": [
    "grader.check(\"q2_2\")"
   ]
  },
  {
   "cell_type": "markdown",
   "id": "33adce9a-1cfe-4ab0-89c4-30a4a0e57cc4",
   "metadata": {},
   "source": [
    "## 5. Nearsightedness Study"
   ]
  },
  {
   "cell_type": "markdown",
   "id": "3a753231",
   "metadata": {},
   "source": [
    "[Myopia](https://en.wikipedia.org/wiki/Myopia), or nearsightedness, results from a number of genetic and environmental factors. In 1999, Quinn et al studied the relation between myopia and ambient lighting at night (for example, from nightlights or room lights) during childhood."
   ]
  },
  {
   "cell_type": "markdown",
   "id": "897543e5",
   "metadata": {},
   "source": [
    "<!-- BEGIN QUESTION -->\n",
    "\n",
    "**Question 5.1.** The data were gathered by the following procedure, reported in the study. \"Between January and June 1998, parents of children aged 2-16 years [...] that were seen as outpatients in a university pediatric ophthalmology clinic completed a questionnaire on the child's light exposure both at present and before the age of 2 years.\" Was this study observational, or was it a controlled experiment? Explain. **(5 Points)**\n"
   ]
  },
  {
   "cell_type": "markdown",
   "id": "8f65dee4",
   "metadata": {},
   "source": [
    "_Type your answer here, replacing this text._"
   ]
  },
  {
   "cell_type": "markdown",
   "id": "60d25bca",
   "metadata": {},
   "source": [
    "<!-- END QUESTION -->\n",
    "\n",
    "<!-- BEGIN QUESTION -->\n",
    "\n",
    "**Question 5.2.** The study found that of the children who slept with a room light on before the age of 2, 55% were myopic. Of the children who slept with a night light on before the age of 2, 34% were myopic. Of the children who slept in the dark before the age of 2, 10% were myopic. The study concluded the following: \"The prevalence of myopia [...] during childhood was strongly associated with ambient light exposure during sleep at night in the first two years after birth.\"\n",
    "\n",
    "Do the data support this statement? Why or why not? You may interpret \"strongly\" in any reasonable qualitative way. **(5 Points)**\n"
   ]
  },
  {
   "cell_type": "markdown",
   "id": "9300558c",
   "metadata": {},
   "source": [
    "_Type your answer here, replacing this text._"
   ]
  },
  {
   "cell_type": "markdown",
   "id": "452fddbd",
   "metadata": {},
   "source": [
    "<!-- END QUESTION -->\n",
    "\n",
    "<!-- BEGIN QUESTION -->\n",
    "\n",
    "**Question 5.3.** On May 13, 1999, CNN reported the results of this study under the headline, \"Night light may lead to nearsightedness.\" Does the original study claim that night light causes nearsightedness? **(5 Points)**\n"
   ]
  },
  {
   "cell_type": "markdown",
   "id": "18bc4abb",
   "metadata": {},
   "source": [
    "_Type your answer here, replacing this text._"
   ]
  },
  {
   "cell_type": "markdown",
   "id": "62aeceb9",
   "metadata": {},
   "source": [
    "<!-- END QUESTION -->\n",
    "\n",
    "<!-- BEGIN QUESTION -->\n",
    "\n",
    "**Question 5.4.** The final paragraph of the CNN report said that \"several eye specialists\" had pointed out that the study should have accounted for heredity.\n",
    "\n",
    "Myopia is passed down from parents to children. Myopic parents are more likely to have myopic children, and may also be more likely to leave lights on habitually (since the parents have poor vision). In what way does the knowledge of this possible genetic link affect how we interpret the data from the study? Explain. **(5 Points)**\n"
   ]
  },
  {
   "cell_type": "markdown",
   "id": "3684bf3e",
   "metadata": {},
   "source": [
    "_Type your answer here, replacing this text._"
   ]
  },
  {
   "cell_type": "markdown",
   "id": "081acafa",
   "metadata": {},
   "source": [
    "## Submission\n",
    "\n",
    "Below, you will see two cells. Running the first cell will automatically generate a PDF of all questions that need to be manually graded, and running the second cell will automatically generate a zip with your autograded answers. You are responsible for submitting both the coding portion (the zip) and the written portion (the PDF) to their respective Gradescope portals. **Please save before exporting!**"
   ]
  },
  {
   "cell_type": "code",
   "execution_count": 8,
   "id": "8ed63853",
   "metadata": {},
   "outputs": [
    {
     "name": "stdout",
     "output_type": "stream",
     "text": [
      "Running your submission against local test cases...\n",
      "\n",
      "\n",
      "Your submission received the following results when run against available test cases:\n",
      "\n",
      "    q2_1 results:\n",
      "        q2_1 - 1 result:\n",
      "            ❌ Test case failed\n",
      "            Trying:\n",
      "                1 <= characters_q1 <= 5\n",
      "            Expecting:\n",
      "                True\n",
      "            **********************************************************************\n",
      "            Line 1, in q2_1 0\n",
      "            Failed example:\n",
      "                1 <= characters_q1 <= 5\n",
      "            Exception raised:\n",
      "                Traceback (most recent call last):\n",
      "                  File \"/Library/Frameworks/Python.framework/Versions/3.12/lib/python3.12/doctest.py\", line 1357, in __run\n",
      "                    exec(compile(example.source, filename, \"single\",\n",
      "                  File \"<doctest q2_1 0[0]>\", line 1, in <module>\n",
      "                    1 <= characters_q1 <= 5\n",
      "                TypeError: '<=' not supported between instances of 'int' and 'ellipsis'\n",
      "\n",
      "    q2_2 results:\n",
      "        q2_2 - 1 result:\n",
      "            ❌ Test case failed\n",
      "            Trying:\n",
      "                1 <= characters_q2 <= 3\n",
      "            Expecting:\n",
      "                True\n",
      "            **********************************************************************\n",
      "            Line 1, in q2_2 0\n",
      "            Failed example:\n",
      "                1 <= characters_q2 <= 3\n",
      "            Exception raised:\n",
      "                Traceback (most recent call last):\n",
      "                  File \"/Library/Frameworks/Python.framework/Versions/3.12/lib/python3.12/doctest.py\", line 1357, in __run\n",
      "                    exec(compile(example.source, filename, \"single\",\n",
      "                  File \"<doctest q2_2 0[0]>\", line 1, in <module>\n",
      "                    1 <= characters_q2 <= 3\n",
      "                TypeError: '<=' not supported between instances of 'int' and 'ellipsis'\n",
      "\n",
      "    q3_1 results:\n",
      "        q3_1 - 1 result:\n",
      "            ❌ Test case failed\n",
      "            Trying:\n",
      "                1 <= names_q1 <= 4\n",
      "            Expecting:\n",
      "                True\n",
      "            **********************************************************************\n",
      "            Line 1, in q3_1 0\n",
      "            Failed example:\n",
      "                1 <= names_q1 <= 4\n",
      "            Exception raised:\n",
      "                Traceback (most recent call last):\n",
      "                  File \"/Library/Frameworks/Python.framework/Versions/3.12/lib/python3.12/doctest.py\", line 1357, in __run\n",
      "                    exec(compile(example.source, filename, \"single\",\n",
      "                  File \"<doctest q3_1 0[0]>\", line 1, in <module>\n",
      "                    1 <= names_q1 <= 4\n",
      "                         ^^^^^^^^\n",
      "                NameError: name 'names_q1' is not defined\n",
      "\n",
      "    q3_2 results:\n",
      "        q3_2 - 1 result:\n",
      "            ❌ Test case failed\n",
      "            Trying:\n",
      "                1 <= names_q2 <= 4\n",
      "            Expecting:\n",
      "                True\n",
      "            **********************************************************************\n",
      "            Line 1, in q3_2 0\n",
      "            Failed example:\n",
      "                1 <= names_q2 <= 4\n",
      "            Exception raised:\n",
      "                Traceback (most recent call last):\n",
      "                  File \"/Library/Frameworks/Python.framework/Versions/3.12/lib/python3.12/doctest.py\", line 1357, in __run\n",
      "                    exec(compile(example.source, filename, \"single\",\n",
      "                  File \"<doctest q3_2 0[0]>\", line 1, in <module>\n",
      "                    1 <= names_q2 <= 4\n",
      "                         ^^^^^^^^\n",
      "                NameError: name 'names_q2' is not defined\n",
      "\n",
      "    q3_3 results:\n",
      "        q3_3 - 1 result:\n",
      "            ❌ Test case failed\n",
      "            Trying:\n",
      "                1 <= names_q3 <= 4\n",
      "            Expecting:\n",
      "                True\n",
      "            **********************************************************************\n",
      "            Line 1, in q3_3 0\n",
      "            Failed example:\n",
      "                1 <= names_q3 <= 4\n",
      "            Exception raised:\n",
      "                Traceback (most recent call last):\n",
      "                  File \"/Library/Frameworks/Python.framework/Versions/3.12/lib/python3.12/doctest.py\", line 1357, in __run\n",
      "                    exec(compile(example.source, filename, \"single\",\n",
      "                  File \"<doctest q3_3 0[0]>\", line 1, in <module>\n",
      "                    1 <= names_q3 <= 4\n",
      "                         ^^^^^^^^\n",
      "                NameError: name 'names_q3' is not defined\n",
      "\n",
      "    q4_1 results: All test cases passed!\n",
      "\n",
      "    q4_2 results: All test cases passed!\n",
      "\n",
      "    q4_3 results: All test cases passed!\n",
      "\n",
      "    q4_4 results: All test cases passed!\n",
      "\n",
      "    q6_1 results: All test cases passed!\n",
      "\n",
      "    q7_1 results: All test cases passed!\n",
      "\n",
      "    q7_2 results: All test cases passed!\n",
      "\n",
      "    q7_3 results: All test cases passed!\n",
      "\n",
      "    q7_4 results: All test cases passed!\n",
      "\n",
      "    q7_5 results: All test cases passed!\n",
      "\n",
      "    q7_6 results: All test cases passed!\n",
      "\n",
      "    q7_7 results: All test cases passed!\n",
      "\n",
      "    q7_8 results:\n",
      "        q7_8 - 1 result:\n",
      "            ✅ Test case passed\n",
      "\n",
      "        q7_8 - 2 result:\n",
      "            ❌ Test case failed\n",
      "            Trying:\n",
      "                len(secret)\n",
      "            Expecting:\n",
      "                8\n",
      "            **********************************************************************\n",
      "            Line 1, in q7_8 1\n",
      "            Failed example:\n",
      "                len(secret)\n",
      "            Expected:\n",
      "                8\n",
      "            Got:\n",
      "                6\n",
      "\n",
      "    q8_1 results:\n",
      "        q8_1 - 1 result:\n",
      "            ❌ Test case failed\n",
      "            Trying:\n",
      "                survey == 'data8 is data gr8'\n",
      "            Expecting:\n",
      "                True\n",
      "            **********************************************************************\n",
      "            Line 1, in q8_1 0\n",
      "            Failed example:\n",
      "                survey == 'data8 is data gr8'\n",
      "            Exception raised:\n",
      "                Traceback (most recent call last):\n",
      "                  File \"/Library/Frameworks/Python.framework/Versions/3.12/lib/python3.12/doctest.py\", line 1357, in __run\n",
      "                    exec(compile(example.source, filename, \"single\",\n",
      "                  File \"<doctest q8_1 0[0]>\", line 1, in <module>\n",
      "                    survey == 'data8 is data gr8'\n",
      "                    ^^^^^^\n",
      "                NameError: name 'survey' is not defined\n"
     ]
    },
    {
     "data": {
      "text/html": [
       "\n",
       "                    <p>\n",
       "                        Your submission has been exported. Click\n",
       "                        <a href=\"hw01_2024_08_23T14_54_11_588920.zip\" download=\"hw01_2024_08_23T14_54_11_588920.zip\" target=\"_blank\">here</a> to download\n",
       "                        the zip file.\n",
       "                    </p>\n",
       "                "
      ],
      "text/plain": [
       "<IPython.core.display.HTML object>"
      ]
     },
     "metadata": {},
     "output_type": "display_data"
    }
   ],
   "source": [
    "# Save your notebook first, then run this cell to export your submission.\n",
    "grader.export(pdf=False, run_tests=True)"
   ]
  },
  {
   "cell_type": "markdown",
   "id": "55e27433",
   "metadata": {},
   "source": [
    "Your submission has been exported. Click here to download the zip file."
   ]
  }
 ],
 "metadata": {
  "kernelspec": {
   "display_name": "Python 3 (ipykernel)",
   "language": "python",
   "name": "python3"
  },
  "language_info": {
   "codemirror_mode": {
    "name": "ipython",
    "version": 3
   },
   "file_extension": ".py",
   "mimetype": "text/x-python",
   "name": "python",
   "nbconvert_exporter": "python",
   "pygments_lexer": "ipython3",
   "version": "3.12.0"
  }
 },
 "nbformat": 4,
 "nbformat_minor": 5
}
