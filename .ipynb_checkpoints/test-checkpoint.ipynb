{
 "cells": [
  {
   "cell_type": "code",
   "execution_count": 1,
   "id": "8400a1bc-aa05-4121-9b8e-c9280835b290",
   "metadata": {
    "scrolled": true
   },
   "outputs": [
    {
     "data": {
      "text/plain": [
       "['roulette_wheel.csv',\n",
       " 'birds.csv',\n",
       " 'bta.csv',\n",
       " 'all-lprs.csv.gz',\n",
       " 'hodgkins.csv',\n",
       " 'observed_outcomes.csv',\n",
       " 'family_heights.csv',\n",
       " 'nba2013.csv',\n",
       " 'galton_subset.csv',\n",
       " 'san_francisco_2019.csv',\n",
       " 'kaiser_ethnicity_everyone.csv',\n",
       " 'ckd.csv',\n",
       " 'little_women.csv',\n",
       " 'cones.csv',\n",
       " 'station.csv',\n",
       " 'baby.csv',\n",
       " 'shotput.csv',\n",
       " 'hybrid.csv',\n",
       " 'grades_and_piazza.csv',\n",
       " 'hybrid_reg.csv',\n",
       " 'educ_inc.csv',\n",
       " 'married_couples.csv',\n",
       " 'everyone_raw.csv',\n",
       " 'potential_outcomes.csv',\n",
       " 'airline_ontime.csv',\n",
       " 'football.csv',\n",
       " 'usa_ca_2014.csv',\n",
       " 'children_raw.csv',\n",
       " 'banknote.csv',\n",
       " 'sat2014.csv',\n",
       " 'IV.csv',\n",
       " 'scores_by_section.csv',\n",
       " 'trip.csv',\n",
       " 'minard.csv',\n",
       " 'income_small.csv',\n",
       " 'sons_heights.csv',\n",
       " 'dugongs.csv',\n",
       " 'breast-cancer.csv',\n",
       " 'actors.csv',\n",
       " 'couples.csv',\n",
       " 'nba_salaries.csv',\n",
       " 'nc-est2014-agesex-res.csv',\n",
       " 'usa_ca_2019.csv',\n",
       " 'wine.csv',\n",
       " 'heights.csv',\n",
       " 'nc-est2015-agesex-res.csv',\n",
       " 'house.csv',\n",
       " 'kaiser_ethnicity_children.csv',\n",
       " 'little_women.txt',\n",
       " 'unfair_flips.csv',\n",
       " 'top_movies.csv',\n",
       " 'galton.csv',\n",
       " 'huck_finn.txt',\n",
       " 'anscombe.csv',\n",
       " 'san_francisco_2015.csv',\n",
       " 'united_summer2015.csv',\n",
       " 'movies_by_year.csv',\n",
       " 'deflategate.csv',\n",
       " 'birth_time.csv',\n",
       " 'us_women.csv',\n",
       " 'faithful.csv',\n",
       " 'nc-est2019-agesex-res.csv',\n",
       " 'top_movies_2017.csv']"
      ]
     },
     "execution_count": 1,
     "metadata": {},
     "output_type": "execute_result"
    }
   ],
   "source": [
    "path_data='./data'\n",
    "import os\n",
    "os.listdir(path_data)"
   ]
  },
  {
   "cell_type": "code",
   "execution_count": 2,
   "id": "6d0cd345-f6d3-4bfa-b112-6884d9c37e44",
   "metadata": {},
   "outputs": [],
   "source": [
    "import numpy as np"
   ]
  },
  {
   "cell_type": "code",
   "execution_count": 3,
   "id": "7422f04f-1788-4c95-bb27-44f26e884d0b",
   "metadata": {},
   "outputs": [],
   "source": [
    "# lst = [True, False, False]\n",
    "# sum(lst)"
   ]
  },
  {
   "cell_type": "code",
   "execution_count": 4,
   "id": "478133f8-338b-4098-9fd1-45c4c0f11fbd",
   "metadata": {},
   "outputs": [
    {
     "data": {
      "text/plain": [
       "array([1, 2, 3, 4])"
      ]
     },
     "execution_count": 4,
     "metadata": {},
     "output_type": "execute_result"
    }
   ],
   "source": [
    "np.arange(1, 5)"
   ]
  },
  {
   "cell_type": "code",
   "execution_count": 5,
   "id": "3ceac188-0824-48e3-b2d6-a4cb16af23e4",
   "metadata": {},
   "outputs": [
    {
     "data": {
      "text/plain": [
       "array([1, 3, 5, 7, 9])"
      ]
     },
     "execution_count": 5,
     "metadata": {},
     "output_type": "execute_result"
    }
   ],
   "source": [
    "np.arange(1, 10, 2)"
   ]
  },
  {
   "cell_type": "code",
   "execution_count": 6,
   "id": "f11a1e5b-2086-430c-9fda-8f31e3224fc8",
   "metadata": {},
   "outputs": [
    {
     "data": {
      "text/plain": [
       "array([0, 1, 2, 3, 4])"
      ]
     },
     "execution_count": 6,
     "metadata": {},
     "output_type": "execute_result"
    }
   ],
   "source": [
    "np.arange(5)"
   ]
  },
  {
   "cell_type": "code",
   "execution_count": 7,
   "id": "b819c5a6-6c93-4296-9857-1cf57c81c596",
   "metadata": {},
   "outputs": [
    {
     "data": {
      "text/plain": [
       "8"
      ]
     },
     "execution_count": 7,
     "metadata": {},
     "output_type": "execute_result"
    }
   ],
   "source": [
    "pow(2, 3)"
   ]
  },
  {
   "cell_type": "code",
   "execution_count": 8,
   "id": "393f1d42-ee33-4c93-9cbf-3de22543b3f9",
   "metadata": {},
   "outputs": [
    {
     "data": {
      "text/plain": [
       "8.0"
      ]
     },
     "execution_count": 8,
     "metadata": {},
     "output_type": "execute_result"
    }
   ],
   "source": [
    "# in Python, without numpy, you use math.pow()\n",
    "import math\n",
    "math.pow(2, 3)"
   ]
  },
  {
   "cell_type": "code",
   "execution_count": 9,
   "id": "6d9cc6e4-52c7-4710-9b36-878348d02f51",
   "metadata": {},
   "outputs": [],
   "source": [
    "from datascience import *"
   ]
  },
  {
   "cell_type": "code",
   "execution_count": 10,
   "id": "f0d9b37a-268d-4ea7-a97b-5905b8c66e82",
   "metadata": {},
   "outputs": [
    {
     "data": {
      "text/html": [
       "<table border=\"1\" class=\"dataframe\">\n",
       "    <thead>\n",
       "        <tr>\n",
       "            <th>Date</th> <th>Flight Number</th> <th>Destination</th> <th>Delay</th>\n",
       "        </tr>\n",
       "    </thead>\n",
       "    <tbody>\n",
       "        <tr>\n",
       "            <td>6/1/15</td> <td>73           </td> <td>HNL        </td> <td>257  </td>\n",
       "        </tr>\n",
       "        <tr>\n",
       "            <td>6/1/15</td> <td>217          </td> <td>EWR        </td> <td>28   </td>\n",
       "        </tr>\n",
       "        <tr>\n",
       "            <td>6/1/15</td> <td>237          </td> <td>STL        </td> <td>-3   </td>\n",
       "        </tr>\n",
       "    </tbody>\n",
       "</table>\n",
       "<p>... (13822 rows omitted)</p>"
      ],
      "text/plain": [
       "<IPython.core.display.HTML object>"
      ]
     },
     "metadata": {},
     "output_type": "display_data"
    }
   ],
   "source": [
    "# Table.read_table(\"data.csv\").show(5)\n",
    "flights = Table.read_table('./data.csv')\n",
    "flights.show(3)"
   ]
  },
  {
   "cell_type": "code",
   "execution_count": 11,
   "id": "af92c9ea-8798-41b0-a1a8-888c442384e5",
   "metadata": {},
   "outputs": [
    {
     "data": {
      "text/plain": [
       "array(['6/1/15', '6/1/15', '6/1/15', ..., '8/31/15', '8/31/15', '8/31/15'],\n",
       "      dtype='<U7')"
      ]
     },
     "execution_count": 11,
     "metadata": {},
     "output_type": "execute_result"
    }
   ],
   "source": [
    "dates = flights.column('Date')\n",
    "dates"
   ]
  },
  {
   "cell_type": "code",
   "execution_count": 12,
   "id": "93a0e3b9-b13b-4f6f-96d4-8af7e506c47d",
   "metadata": {},
   "outputs": [
    {
     "data": {
      "text/plain": [
       "'6/1/15'"
      ]
     },
     "execution_count": 12,
     "metadata": {},
     "output_type": "execute_result"
    }
   ],
   "source": [
    "dates.item(0)"
   ]
  },
  {
   "cell_type": "code",
   "execution_count": 13,
   "id": "11f51bd8-f40b-468d-b565-aabb061395c4",
   "metadata": {},
   "outputs": [
    {
     "data": {
      "text/plain": [
       "array(['HNL', 'EWR', 'STL', ..., 'ORD', 'PHX', 'EWR'],\n",
       "      dtype='<U3')"
      ]
     },
     "execution_count": 13,
     "metadata": {},
     "output_type": "execute_result"
    }
   ],
   "source": [
    "destination = flights.column(2)\n",
    "destination"
   ]
  },
  {
   "cell_type": "code",
   "execution_count": 14,
   "id": "2ca7a878-9868-4cb1-b214-65961e13be7e",
   "metadata": {},
   "outputs": [
    {
     "data": {
      "text/plain": [
       "'HNL'"
      ]
     },
     "execution_count": 14,
     "metadata": {},
     "output_type": "execute_result"
    }
   ],
   "source": [
    "destination.item(0)"
   ]
  },
  {
   "cell_type": "code",
   "execution_count": 15,
   "id": "af54e3c1-092f-41fd-94c4-50f97f4136c4",
   "metadata": {},
   "outputs": [
    {
     "data": {
      "text/plain": [
       "'HNL'"
      ]
     },
     "execution_count": 15,
     "metadata": {},
     "output_type": "execute_result"
    }
   ],
   "source": [
    "destination[0]"
   ]
  },
  {
   "cell_type": "code",
   "execution_count": 16,
   "id": "cfdfdd30-c7ba-438c-b45b-12bf2d514e30",
   "metadata": {},
   "outputs": [
    {
     "data": {
      "text/plain": [
       "16.658155515370705"
      ]
     },
     "execution_count": 16,
     "metadata": {},
     "output_type": "execute_result"
    }
   ],
   "source": [
    "import numpy as np\n",
    "np.mean(flights.column('Delay'))"
   ]
  },
  {
   "cell_type": "code",
   "execution_count": 17,
   "id": "e5a4e2bb-c1e8-4847-9426-dad5dab774e8",
   "metadata": {},
   "outputs": [
    {
     "data": {
      "text/plain": [
       "580"
      ]
     },
     "execution_count": 17,
     "metadata": {},
     "output_type": "execute_result"
    }
   ],
   "source": [
    "np.max(flights.column('Delay'))"
   ]
  },
  {
   "cell_type": "code",
   "execution_count": 18,
   "id": "22cbe22a-5377-4eeb-a92d-51ab7c23fdc6",
   "metadata": {},
   "outputs": [
    {
     "data": {
      "text/plain": [
       "580"
      ]
     },
     "execution_count": 18,
     "metadata": {},
     "output_type": "execute_result"
    }
   ],
   "source": [
    "delay = flights.column('Delay')\n",
    "delay.max()"
   ]
  },
  {
   "cell_type": "code",
   "execution_count": 19,
   "id": "733517fc-be18-4334-81bb-3056f756d7b3",
   "metadata": {},
   "outputs": [
    {
     "data": {
      "text/plain": [
       "580"
      ]
     },
     "execution_count": 19,
     "metadata": {},
     "output_type": "execute_result"
    }
   ],
   "source": [
    "np.max(delay)"
   ]
  },
  {
   "cell_type": "code",
   "execution_count": 20,
   "id": "b22d494b-3dbd-4d66-9698-3477dc058480",
   "metadata": {},
   "outputs": [],
   "source": [
    "test = flights.drop('Delay')[0]"
   ]
  },
  {
   "cell_type": "code",
   "execution_count": 21,
   "id": "ef704916-9e2a-4364-b55a-cc5a42d98326",
   "metadata": {},
   "outputs": [
    {
     "data": {
      "text/plain": [
       "array(['6/1/15', '6/1/15', '6/1/15', ..., '8/31/15', '8/31/15', '8/31/15'],\n",
       "      dtype='<U7')"
      ]
     },
     "execution_count": 21,
     "metadata": {},
     "output_type": "execute_result"
    }
   ],
   "source": [
    "test\n"
   ]
  },
  {
   "cell_type": "code",
   "execution_count": 22,
   "id": "4b83a309-9e72-4f31-ac6a-894e9d345aea",
   "metadata": {},
   "outputs": [],
   "source": [
    "data='./data'"
   ]
  },
  {
   "cell_type": "code",
   "execution_count": 23,
   "id": "4102902c-7903-49d3-a7c8-15738e5fb140",
   "metadata": {},
   "outputs": [
    {
     "data": {
      "text/html": [
       "<table border=\"1\" class=\"dataframe\">\n",
       "    <thead>\n",
       "        <tr>\n",
       "            <th>PLAYER</th> <th>POSITION</th> <th>TEAM</th> <th>'15-'16 SALARY</th>\n",
       "        </tr>\n",
       "    </thead>\n",
       "    <tbody>\n",
       "        <tr>\n",
       "            <td>Paul Millsap    </td> <td>PF      </td> <td>Atlanta Hawks</td> <td>18.6717       </td>\n",
       "        </tr>\n",
       "        <tr>\n",
       "            <td>Al Horford      </td> <td>C       </td> <td>Atlanta Hawks</td> <td>12            </td>\n",
       "        </tr>\n",
       "        <tr>\n",
       "            <td>Tiago Splitter  </td> <td>C       </td> <td>Atlanta Hawks</td> <td>9.75625       </td>\n",
       "        </tr>\n",
       "        <tr>\n",
       "            <td>Jeff Teague     </td> <td>PG      </td> <td>Atlanta Hawks</td> <td>8             </td>\n",
       "        </tr>\n",
       "        <tr>\n",
       "            <td>Kyle Korver     </td> <td>SG      </td> <td>Atlanta Hawks</td> <td>5.74648       </td>\n",
       "        </tr>\n",
       "        <tr>\n",
       "            <td>Thabo Sefolosha </td> <td>SF      </td> <td>Atlanta Hawks</td> <td>4             </td>\n",
       "        </tr>\n",
       "        <tr>\n",
       "            <td>Mike Scott      </td> <td>PF      </td> <td>Atlanta Hawks</td> <td>3.33333       </td>\n",
       "        </tr>\n",
       "        <tr>\n",
       "            <td>Kent Bazemore   </td> <td>SF      </td> <td>Atlanta Hawks</td> <td>2             </td>\n",
       "        </tr>\n",
       "        <tr>\n",
       "            <td>Dennis Schroder </td> <td>PG      </td> <td>Atlanta Hawks</td> <td>1.7634        </td>\n",
       "        </tr>\n",
       "        <tr>\n",
       "            <td>Tim Hardaway Jr.</td> <td>SG      </td> <td>Atlanta Hawks</td> <td>1.30452       </td>\n",
       "        </tr>\n",
       "    </tbody>\n",
       "</table>\n",
       "<p>... (407 rows omitted)</p>"
      ],
      "text/plain": [
       "PLAYER           | POSITION | TEAM          | '15-'16 SALARY\n",
       "Paul Millsap     | PF       | Atlanta Hawks | 18.6717\n",
       "Al Horford       | C        | Atlanta Hawks | 12\n",
       "Tiago Splitter   | C        | Atlanta Hawks | 9.75625\n",
       "Jeff Teague      | PG       | Atlanta Hawks | 8\n",
       "Kyle Korver      | SG       | Atlanta Hawks | 5.74648\n",
       "Thabo Sefolosha  | SF       | Atlanta Hawks | 4\n",
       "Mike Scott       | PF       | Atlanta Hawks | 3.33333\n",
       "Kent Bazemore    | SF       | Atlanta Hawks | 2\n",
       "Dennis Schroder  | PG       | Atlanta Hawks | 1.7634\n",
       "Tim Hardaway Jr. | SG       | Atlanta Hawks | 1.30452\n",
       "... (407 rows omitted)"
      ]
     },
     "execution_count": 23,
     "metadata": {},
     "output_type": "execute_result"
    }
   ],
   "source": [
    "Table.read_table('./data/nba_salaries.csv')\n"
   ]
  },
  {
   "cell_type": "code",
   "execution_count": 24,
   "id": "cf0f657c-abad-48ce-abeb-27410a7064c7",
   "metadata": {},
   "outputs": [
    {
     "data": {
      "text/html": [
       "<table border=\"1\" class=\"dataframe\">\n",
       "    <thead>\n",
       "        <tr>\n",
       "            <th>PLAYER</th> <th>POSITION</th> <th>TEAM</th> <th>'15-'16 SALARY</th>\n",
       "        </tr>\n",
       "    </thead>\n",
       "    <tbody>\n",
       "        <tr>\n",
       "            <td>Jeff Teague    </td> <td>PG      </td> <td>Atlanta Hawks    </td> <td>8             </td>\n",
       "        </tr>\n",
       "        <tr>\n",
       "            <td>Dennis Schroder</td> <td>PG      </td> <td>Atlanta Hawks    </td> <td>1.7634        </td>\n",
       "        </tr>\n",
       "        <tr>\n",
       "            <td>Avery Bradley  </td> <td>PG      </td> <td>Boston Celtics   </td> <td>7.73034       </td>\n",
       "        </tr>\n",
       "        <tr>\n",
       "            <td>Isaiah Thomas  </td> <td>PG      </td> <td>Boston Celtics   </td> <td>6.91287       </td>\n",
       "        </tr>\n",
       "        <tr>\n",
       "            <td>Marcus Smart   </td> <td>PG      </td> <td>Boston Celtics   </td> <td>3.43104       </td>\n",
       "        </tr>\n",
       "        <tr>\n",
       "            <td>Terry Rozier   </td> <td>PG      </td> <td>Boston Celtics   </td> <td>1.82436       </td>\n",
       "        </tr>\n",
       "        <tr>\n",
       "            <td>Jarrett Jack   </td> <td>PG      </td> <td>Brooklyn Nets    </td> <td>6.3           </td>\n",
       "        </tr>\n",
       "        <tr>\n",
       "            <td>Shane Larkin   </td> <td>PG      </td> <td>Brooklyn Nets    </td> <td>1.5           </td>\n",
       "        </tr>\n",
       "        <tr>\n",
       "            <td>Kemba Walker   </td> <td>PG      </td> <td>Charlotte Hornets</td> <td>12            </td>\n",
       "        </tr>\n",
       "        <tr>\n",
       "            <td>Brian Roberts  </td> <td>PG      </td> <td>Charlotte Hornets</td> <td>2.85494       </td>\n",
       "        </tr>\n",
       "    </tbody>\n",
       "</table>\n",
       "<p>... (75 rows omitted)</p>"
      ],
      "text/plain": [
       "PLAYER          | POSITION | TEAM              | '15-'16 SALARY\n",
       "Jeff Teague     | PG       | Atlanta Hawks     | 8\n",
       "Dennis Schroder | PG       | Atlanta Hawks     | 1.7634\n",
       "Avery Bradley   | PG       | Boston Celtics    | 7.73034\n",
       "Isaiah Thomas   | PG       | Boston Celtics    | 6.91287\n",
       "Marcus Smart    | PG       | Boston Celtics    | 3.43104\n",
       "Terry Rozier    | PG       | Boston Celtics    | 1.82436\n",
       "Jarrett Jack    | PG       | Brooklyn Nets     | 6.3\n",
       "Shane Larkin    | PG       | Brooklyn Nets     | 1.5\n",
       "Kemba Walker    | PG       | Charlotte Hornets | 12\n",
       "Brian Roberts   | PG       | Charlotte Hornets | 2.85494\n",
       "... (75 rows omitted)"
      ]
     },
     "execution_count": 24,
     "metadata": {},
     "output_type": "execute_result"
    }
   ],
   "source": [
    "nba = Table.read_table('./data/nba_salaries.csv')\n",
    "nba.where('POSITION', 'PG')"
   ]
  },
  {
   "cell_type": "code",
   "execution_count": 25,
   "id": "ea70eb75-f25e-4c89-8d1a-89c0853f6967",
   "metadata": {},
   "outputs": [],
   "source": [
    "import numpy as np"
   ]
  },
  {
   "cell_type": "code",
   "execution_count": 26,
   "id": "caa557ec-e923-4be3-9655-ec0af0e74003",
   "metadata": {},
   "outputs": [
    {
     "data": {
      "text/plain": [
       "array([1, 2, 3, 4, 5])"
      ]
     },
     "execution_count": 26,
     "metadata": {},
     "output_type": "execute_result"
    }
   ],
   "source": [
    "from datascience import *\n",
    "make_array(1, 2, 3 ,4 ,5)"
   ]
  },
  {
   "cell_type": "code",
   "execution_count": 27,
   "id": "c0966bb4-f589-40cd-9f16-4fd6f6e4e2fd",
   "metadata": {},
   "outputs": [
    {
     "data": {
      "text/plain": [
       "numpy.ndarray"
      ]
     },
     "execution_count": 27,
     "metadata": {},
     "output_type": "execute_result"
    }
   ],
   "source": [
    "arr = make_array(1,2,3,4,5)\n",
    "type(arr)"
   ]
  },
  {
   "cell_type": "code",
   "execution_count": 28,
   "id": "0e4aedac-c8a2-4e84-8f2c-8b1b27c6228f",
   "metadata": {},
   "outputs": [],
   "source": [
    "nba = './data/nba_salaries.csv'"
   ]
  },
  {
   "cell_type": "code",
   "execution_count": 29,
   "id": "362bbaf3-7ba4-46ae-b9af-c70d4cbd7ddf",
   "metadata": {},
   "outputs": [],
   "source": [
    "nba = Table.read_table(nba)"
   ]
  },
  {
   "cell_type": "code",
   "execution_count": 30,
   "id": "c2c2e160-d7df-4944-9fa1-8361f9e26031",
   "metadata": {},
   "outputs": [
    {
     "data": {
      "text/html": [
       "<table border=\"1\" class=\"dataframe\">\n",
       "    <thead>\n",
       "        <tr>\n",
       "            <th>PLAYER</th> <th>POSITION</th> <th>TEAM</th> <th>'15-'16 SALARY</th>\n",
       "        </tr>\n",
       "    </thead>\n",
       "    <tbody>\n",
       "        <tr>\n",
       "            <td>Paul Millsap    </td> <td>PF      </td> <td>Atlanta Hawks</td> <td>18.6717       </td>\n",
       "        </tr>\n",
       "        <tr>\n",
       "            <td>Al Horford      </td> <td>C       </td> <td>Atlanta Hawks</td> <td>12            </td>\n",
       "        </tr>\n",
       "        <tr>\n",
       "            <td>Tiago Splitter  </td> <td>C       </td> <td>Atlanta Hawks</td> <td>9.75625       </td>\n",
       "        </tr>\n",
       "        <tr>\n",
       "            <td>Jeff Teague     </td> <td>PG      </td> <td>Atlanta Hawks</td> <td>8             </td>\n",
       "        </tr>\n",
       "        <tr>\n",
       "            <td>Kyle Korver     </td> <td>SG      </td> <td>Atlanta Hawks</td> <td>5.74648       </td>\n",
       "        </tr>\n",
       "        <tr>\n",
       "            <td>Thabo Sefolosha </td> <td>SF      </td> <td>Atlanta Hawks</td> <td>4             </td>\n",
       "        </tr>\n",
       "        <tr>\n",
       "            <td>Mike Scott      </td> <td>PF      </td> <td>Atlanta Hawks</td> <td>3.33333       </td>\n",
       "        </tr>\n",
       "        <tr>\n",
       "            <td>Kent Bazemore   </td> <td>SF      </td> <td>Atlanta Hawks</td> <td>2             </td>\n",
       "        </tr>\n",
       "        <tr>\n",
       "            <td>Dennis Schroder </td> <td>PG      </td> <td>Atlanta Hawks</td> <td>1.7634        </td>\n",
       "        </tr>\n",
       "        <tr>\n",
       "            <td>Tim Hardaway Jr.</td> <td>SG      </td> <td>Atlanta Hawks</td> <td>1.30452       </td>\n",
       "        </tr>\n",
       "    </tbody>\n",
       "</table>\n",
       "<p>... (407 rows omitted)</p>"
      ],
      "text/plain": [
       "PLAYER           | POSITION | TEAM          | '15-'16 SALARY\n",
       "Paul Millsap     | PF       | Atlanta Hawks | 18.6717\n",
       "Al Horford       | C        | Atlanta Hawks | 12\n",
       "Tiago Splitter   | C        | Atlanta Hawks | 9.75625\n",
       "Jeff Teague      | PG       | Atlanta Hawks | 8\n",
       "Kyle Korver      | SG       | Atlanta Hawks | 5.74648\n",
       "Thabo Sefolosha  | SF       | Atlanta Hawks | 4\n",
       "Mike Scott       | PF       | Atlanta Hawks | 3.33333\n",
       "Kent Bazemore    | SF       | Atlanta Hawks | 2\n",
       "Dennis Schroder  | PG       | Atlanta Hawks | 1.7634\n",
       "Tim Hardaway Jr. | SG       | Atlanta Hawks | 1.30452\n",
       "... (407 rows omitted)"
      ]
     },
     "execution_count": 30,
     "metadata": {},
     "output_type": "execute_result"
    }
   ],
   "source": [
    "nba"
   ]
  },
  {
   "cell_type": "code",
   "execution_count": 31,
   "id": "be707943-9109-451c-a2a0-f9e245da4e9d",
   "metadata": {},
   "outputs": [
    {
     "data": {
      "text/html": [
       "<table border=\"1\" class=\"dataframe\">\n",
       "    <thead>\n",
       "        <tr>\n",
       "            <th>PLAYER</th> <th>POSITION</th> <th>TEAM</th> <th>'15-'16 SALARY</th>\n",
       "        </tr>\n",
       "    </thead>\n",
       "    <tbody>\n",
       "        <tr>\n",
       "            <td>Jeff Teague    </td> <td>PG      </td> <td>Atlanta Hawks     </td> <td>8             </td>\n",
       "        </tr>\n",
       "        <tr>\n",
       "            <td>O.J. Mayo      </td> <td>SG      </td> <td>Milwaukee Bucks   </td> <td>8             </td>\n",
       "        </tr>\n",
       "        <tr>\n",
       "            <td>Arron Afflalo  </td> <td>SG      </td> <td>New York Knicks   </td> <td>8             </td>\n",
       "        </tr>\n",
       "        <tr>\n",
       "            <td>Markieff Morris</td> <td>PF      </td> <td>Washington Wizards</td> <td>8             </td>\n",
       "        </tr>\n",
       "    </tbody>\n",
       "</table>"
      ],
      "text/plain": [
       "PLAYER          | POSITION | TEAM               | '15-'16 SALARY\n",
       "Jeff Teague     | PG       | Atlanta Hawks      | 8\n",
       "O.J. Mayo       | SG       | Milwaukee Bucks    | 8\n",
       "Arron Afflalo   | SG       | New York Knicks    | 8\n",
       "Markieff Morris | PF       | Washington Wizards | 8"
      ]
     },
     "execution_count": 31,
     "metadata": {},
     "output_type": "execute_result"
    }
   ],
   "source": [
    "\n",
    "nba.where(\"'15-'16 SALARY\", are.equal_to(8))"
   ]
  },
  {
   "cell_type": "code",
   "execution_count": 32,
   "id": "ea2e31af-7b0d-4e7b-8027-45ea2c0d7c3a",
   "metadata": {},
   "outputs": [],
   "source": [
    "from datascience import *\n"
   ]
  },
  {
   "cell_type": "code",
   "execution_count": 33,
   "id": "7ae86c0d-e536-408a-a785-3fecd2cc4822",
   "metadata": {},
   "outputs": [],
   "source": [
    "odd_array = make_array(1, 3, 5, 7.00010001)\n",
    "# odd_array"
   ]
  },
  {
   "cell_type": "code",
   "execution_count": 34,
   "id": "6ab1514f-c27e-4aff-8784-38a50fe7b64b",
   "metadata": {},
   "outputs": [
    {
     "data": {
      "text/plain": [
       "array([2, 4, 6, 8])"
      ]
     },
     "execution_count": 34,
     "metadata": {},
     "output_type": "execute_result"
    }
   ],
   "source": [
    "import numpy as np\n",
    "even_array = np.arange(2, 10, 2)\n",
    "even_array"
   ]
  },
  {
   "cell_type": "code",
   "execution_count": 35,
   "id": "d8a6e300-2f28-4b1d-8411-6afeaa2c1d5a",
   "metadata": {},
   "outputs": [
    {
     "data": {
      "text/plain": [
       "array([  3.        ,   7.        ,  11.        ,  15.00010001])"
      ]
     },
     "execution_count": 35,
     "metadata": {},
     "output_type": "execute_result"
    }
   ],
   "source": [
    "odd_array + even_array"
   ]
  },
  {
   "cell_type": "code",
   "execution_count": 36,
   "id": "835f8a13-f362-46f7-ae73-be367c197d04",
   "metadata": {},
   "outputs": [
    {
     "data": {
      "text/plain": [
       "1.0"
      ]
     },
     "execution_count": 36,
     "metadata": {},
     "output_type": "execute_result"
    }
   ],
   "source": [
    "odd_array[0]"
   ]
  },
  {
   "cell_type": "code",
   "execution_count": 37,
   "id": "98258c14-d848-4f46-ab85-aa7d7b72b78b",
   "metadata": {},
   "outputs": [
    {
     "data": {
      "text/plain": [
       "7.0001000099999997"
      ]
     },
     "execution_count": 37,
     "metadata": {},
     "output_type": "execute_result"
    }
   ],
   "source": [
    "odd_array[3]"
   ]
  },
  {
   "cell_type": "code",
   "execution_count": 38,
   "id": "58a872ef-3eda-459e-8ee6-10a5b958570f",
   "metadata": {},
   "outputs": [
    {
     "data": {
      "text/plain": [
       "7.00010001"
      ]
     },
     "execution_count": 38,
     "metadata": {},
     "output_type": "execute_result"
    }
   ],
   "source": [
    "odd_array.item(3)"
   ]
  },
  {
   "cell_type": "code",
   "execution_count": 39,
   "id": "bff88fc2-8c2c-4d69-98d5-34720eae5729",
   "metadata": {},
   "outputs": [],
   "source": [
    "lst = [1, 3, 5]"
   ]
  },
  {
   "cell_type": "code",
   "execution_count": 40,
   "id": "a11085bb-4533-449d-ba60-fe215e3cb9a3",
   "metadata": {},
   "outputs": [
    {
     "data": {
      "text/plain": [
       "list"
      ]
     },
     "execution_count": 40,
     "metadata": {},
     "output_type": "execute_result"
    }
   ],
   "source": [
    "type(lst)"
   ]
  },
  {
   "cell_type": "code",
   "execution_count": 41,
   "id": "909db65f-a62c-4ba6-97a8-858a94dc7025",
   "metadata": {},
   "outputs": [
    {
     "data": {
      "text/plain": [
       "numpy.ndarray"
      ]
     },
     "execution_count": 41,
     "metadata": {},
     "output_type": "execute_result"
    }
   ],
   "source": [
    "type(np.arange(10))"
   ]
  },
  {
   "cell_type": "code",
   "execution_count": null,
   "id": "c891458c-e70f-4fe3-aa3e-ae20b07d1f54",
   "metadata": {},
   "outputs": [],
   "source": []
  },
  {
   "cell_type": "code",
   "execution_count": 42,
   "id": "0ef1b3ee-cd9a-44cc-a290-451dc3506928",
   "metadata": {},
   "outputs": [
    {
     "data": {
      "text/html": [
       "<table border=\"1\" class=\"dataframe\">\n",
       "    <thead>\n",
       "        <tr>\n",
       "            <th>name</th> <th>division</th> <th>conference</th> <th>arena</th>\n",
       "        </tr>\n",
       "    </thead>\n",
       "    <tbody>\n",
       "        <tr>\n",
       "            <td>Celtics</td> <td>Atlantic </td> <td>Eastern   </td> <td>18642</td>\n",
       "        </tr>\n",
       "        <tr>\n",
       "            <td>Lakers </td> <td>Pacific  </td> <td>Western   </td> <td>18997</td>\n",
       "        </tr>\n",
       "        <tr>\n",
       "            <td>Nets   </td> <td>Atlantic </td> <td>Eastern   </td> <td>17732</td>\n",
       "        </tr>\n",
       "        <tr>\n",
       "            <td>Pistons</td> <td>Central  </td> <td>Eastern   </td> <td>20491</td>\n",
       "        </tr>\n",
       "        <tr>\n",
       "            <td>Rockets</td> <td>Southwest</td> <td>Western   </td> <td>18055</td>\n",
       "        </tr>\n",
       "    </tbody>\n",
       "</table>"
      ],
      "text/plain": [
       "name    | division  | conference | arena\n",
       "Celtics | Atlantic  | Eastern    | 18642\n",
       "Lakers  | Pacific   | Western    | 18997\n",
       "Nets    | Atlantic  | Eastern    | 17732\n",
       "Pistons | Central   | Eastern    | 20491\n",
       "Rockets | Southwest | Western    | 18055"
      ]
     },
     "execution_count": 42,
     "metadata": {},
     "output_type": "execute_result"
    }
   ],
   "source": [
    "teams = Table().with_columns(\n",
    "    'name', make_array('Celtics', 'Lakers', 'Nets', 'Pistons', 'Rockets') ,\n",
    "    'division', ['Atlantic', 'Pacific', 'Atlantic', 'Central', 'Southwest'],\n",
    "    'conference', ('Eastern', 'Western', 'Eastern' ,'Eastern', 'Western'),\n",
    "    'arena', np.array([18642, 18997, 17732, 20491, 18055])\n",
    ")\n",
    "teams"
   ]
  },
  {
   "cell_type": "code",
   "execution_count": 43,
   "id": "b0e87628-4aa5-45de-9175-55ccb16442dc",
   "metadata": {},
   "outputs": [
    {
     "data": {
      "text/html": [
       "<table border=\"1\" class=\"dataframe\">\n",
       "    <thead>\n",
       "        <tr>\n",
       "            <th>name</th> <th>2019</th> <th>2020</th> <th>19team</th> <th>20team</th>\n",
       "        </tr>\n",
       "    </thead>\n",
       "    <tbody>\n",
       "        <tr>\n",
       "            <td>Stephen Curry  </td> <td>37457154</td> <td>40231758</td> <td>Warriors</td> <td>Warriors</td>\n",
       "        </tr>\n",
       "        <tr>\n",
       "            <td>Dwight Howard  </td> <td>5337000 </td> <td>1620564 </td> <td>Wizards </td> <td>Lakers  </td>\n",
       "        </tr>\n",
       "        <tr>\n",
       "            <td>Zion Williamson</td> <td>0       </td> <td>9757440 </td> <td>No Team </td> <td>Pelicans</td>\n",
       "        </tr>\n",
       "        <tr>\n",
       "            <td>TY Chen        </td> <td>200     </td> <td>111     </td> <td>Nets    </td> <td>Nets    </td>\n",
       "        </tr>\n",
       "        <tr>\n",
       "            <td>TY Chen        </td> <td>300     </td> <td>222     </td> <td>Nets    </td> <td>Nets    </td>\n",
       "        </tr>\n",
       "        <tr>\n",
       "            <td>TY Chen        </td> <td>400     </td> <td>1       </td> <td>Lakers  </td> <td>Lakers  </td>\n",
       "        </tr>\n",
       "    </tbody>\n",
       "</table>"
      ],
      "text/plain": [
       "name            | 2019     | 2020     | 19team   | 20team\n",
       "Stephen Curry   | 37457154 | 40231758 | Warriors | Warriors\n",
       "Dwight Howard   | 5337000  | 1620564  | Wizards  | Lakers\n",
       "Zion Williamson | 0        | 9757440  | No Team  | Pelicans\n",
       "TY Chen         | 200      | 111      | Nets     | Nets\n",
       "TY Chen         | 300      | 222      | Nets     | Nets\n",
       "TY Chen         | 400      | 1        | Lakers   | Lakers"
      ]
     },
     "execution_count": 43,
     "metadata": {},
     "output_type": "execute_result"
    }
   ],
   "source": [
    "players = Table().with_columns(\n",
    " \"name\", [\"Stephen Curry\", \"Dwight Howard\", \"Zion Williamson\", 'TY Chen', 'TY Chen', 'TY Chen'],\n",
    "    \"2019\", [37457154, 5337000, 0, 200, 300, 400],\n",
    "    \"2020\", [40231758, 1620564, 9757440, 111, 222, 1],\n",
    "    \"19team\", [\"Warriors\", \"Wizards\", \"No Team\", 'Nets', 'Nets', 'Lakers'],\n",
    "    \"20team\", [\"Warriors\", \"Lakers\", \"Pelicans\", 'Nets', 'Nets', 'Lakers']\n",
    ")\n",
    "players"
   ]
  },
  {
   "cell_type": "code",
   "execution_count": 154,
   "id": "0162eb57-4399-40e5-8c0f-913b1029f830",
   "metadata": {},
   "outputs": [
    {
     "data": {
      "text/plain": [
       "[5337000, 300, 200]"
      ]
     },
     "execution_count": 154,
     "metadata": {},
     "output_type": "execute_result"
    }
   ],
   "source": [
    "import random\n",
    "# random.sample(players.column('name'), 5)\n",
    "random.sample(list(players.column('2019')), 3)"
   ]
  },
  {
   "cell_type": "code",
   "execution_count": 44,
   "id": "b2268e9d-58f5-4f57-a289-708a41ad565a",
   "metadata": {},
   "outputs": [
    {
     "data": {
      "text/html": [
       "<table border=\"1\" class=\"dataframe\">\n",
       "    <thead>\n",
       "        <tr>\n",
       "            <th>name</th> <th>2019</th> <th>2020</th> <th>19team</th> <th>20team</th>\n",
       "        </tr>\n",
       "    </thead>\n",
       "    <tbody>\n",
       "        <tr>\n",
       "            <td>TY Chen</td> <td>200 </td> <td>111 </td> <td>Nets  </td> <td>Nets  </td>\n",
       "        </tr>\n",
       "    </tbody>\n",
       "</table>"
      ],
      "text/plain": [
       "name    | 2019 | 2020 | 19team | 20team\n",
       "TY Chen | 200  | 111  | Nets   | Nets"
      ]
     },
     "execution_count": 44,
     "metadata": {},
     "output_type": "execute_result"
    }
   ],
   "source": [
    "players.where('2019', 200)"
   ]
  },
  {
   "cell_type": "code",
   "execution_count": 45,
   "id": "75736357-897c-4c29-9a1c-f44726b92d80",
   "metadata": {},
   "outputs": [
    {
     "data": {
      "text/plain": [
       "'Nets'"
      ]
     },
     "execution_count": 45,
     "metadata": {},
     "output_type": "execute_result"
    }
   ],
   "source": [
    "teams.sort('arena', descending=False).column('name').item(0)"
   ]
  },
  {
   "cell_type": "code",
   "execution_count": 46,
   "id": "d4abf61b-2b33-4bd1-8216-a42c8fa35517",
   "metadata": {},
   "outputs": [
    {
     "data": {
      "text/html": [
       "<table border=\"1\" class=\"dataframe\">\n",
       "    <thead>\n",
       "        <tr>\n",
       "            <th>division</th> <th>count</th>\n",
       "        </tr>\n",
       "    </thead>\n",
       "    <tbody>\n",
       "        <tr>\n",
       "            <td>Atlantic</td> <td>2    </td>\n",
       "        </tr>\n",
       "        <tr>\n",
       "            <td>Central </td> <td>1    </td>\n",
       "        </tr>\n",
       "    </tbody>\n",
       "</table>"
      ],
      "text/plain": [
       "division | count\n",
       "Atlantic | 2\n",
       "Central  | 1"
      ]
     },
     "execution_count": 46,
     "metadata": {},
     "output_type": "execute_result"
    }
   ],
   "source": [
    "teams.where('conference', are.equal_to('Eastern')).group('division')"
   ]
  },
  {
   "cell_type": "code",
   "execution_count": 47,
   "id": "673dd932-c577-450c-a202-8dbb04322c75",
   "metadata": {},
   "outputs": [],
   "source": [
    "# teams.join('name', players, '20team').select('division', '2020').group('division', sum)"
   ]
  },
  {
   "cell_type": "code",
   "execution_count": 48,
   "id": "151ca8e3-2d56-462b-92df-decbe3a8bc77",
   "metadata": {},
   "outputs": [],
   "source": [
    "# %magic"
   ]
  },
  {
   "cell_type": "code",
   "execution_count": 49,
   "id": "088daf5f-e440-4a93-83c4-2ac6701fc475",
   "metadata": {},
   "outputs": [],
   "source": [
    "# %hist"
   ]
  },
  {
   "cell_type": "code",
   "execution_count": 50,
   "id": "3e679211-4d6d-4a55-b662-fc1376527457",
   "metadata": {},
   "outputs": [],
   "source": [
    "# %edit"
   ]
  },
  {
   "cell_type": "code",
   "execution_count": 51,
   "id": "fc955059-a07d-41d2-a58b-89c67f08a1a3",
   "metadata": {},
   "outputs": [],
   "source": [
    "# %env"
   ]
  },
  {
   "cell_type": "code",
   "execution_count": 52,
   "id": "c5c0c955-d48e-4f27-96cc-f9aac8fface1",
   "metadata": {},
   "outputs": [],
   "source": [
    "# %clear"
   ]
  },
  {
   "cell_type": "code",
   "execution_count": 53,
   "id": "fce2abcc-c499-4cab-a891-c4b5bcf1a6d9",
   "metadata": {},
   "outputs": [],
   "source": [
    "# %dirs"
   ]
  },
  {
   "cell_type": "code",
   "execution_count": 54,
   "id": "69d764a6-eb96-4fec-a832-be9b315d829c",
   "metadata": {},
   "outputs": [
    {
     "data": {
      "text/plain": [
       "array([1, 2, 3])"
      ]
     },
     "execution_count": 54,
     "metadata": {},
     "output_type": "execute_result"
    }
   ],
   "source": [
    "np.array( ( 1, 2, 3 ) )"
   ]
  },
  {
   "cell_type": "code",
   "execution_count": 55,
   "id": "2d0b9d0b-a6df-4eba-a434-957379417f83",
   "metadata": {},
   "outputs": [
    {
     "data": {
      "text/plain": [
       "array([1, 2, 3])"
      ]
     },
     "execution_count": 55,
     "metadata": {},
     "output_type": "execute_result"
    }
   ],
   "source": [
    "make_array(1, 2, 3 ) "
   ]
  },
  {
   "cell_type": "code",
   "execution_count": 56,
   "id": "c2d2642c-adc9-415b-aaaf-c6c87cf713b1",
   "metadata": {},
   "outputs": [],
   "source": [
    "# '5' + 5"
   ]
  },
  {
   "cell_type": "code",
   "execution_count": 57,
   "id": "b3b5cc56-6903-44e7-a4e8-92c8eba2f57f",
   "metadata": {},
   "outputs": [],
   "source": [
    "marbles = Table.read_table('marbles.csv')"
   ]
  },
  {
   "cell_type": "code",
   "execution_count": 58,
   "id": "aa8f47d7-d6c9-48eb-8df3-164a933231d1",
   "metadata": {},
   "outputs": [
    {
     "data": {
      "text/html": [
       "<table border=\"1\" class=\"dataframe\">\n",
       "    <thead>\n",
       "        <tr>\n",
       "            <th>surface</th> <th>size</th>\n",
       "        </tr>\n",
       "    </thead>\n",
       "    <tbody>\n",
       "        <tr>\n",
       "            <td>shiny  </td> <td>large</td>\n",
       "        </tr>\n",
       "        <tr>\n",
       "            <td>shiny  </td> <td>large</td>\n",
       "        </tr>\n",
       "        <tr>\n",
       "            <td>shiny  </td> <td>large</td>\n",
       "        </tr>\n",
       "    </tbody>\n",
       "</table>\n",
       "<p>... (10 rows omitted)</p>"
      ],
      "text/plain": [
       "<IPython.core.display.HTML object>"
      ]
     },
     "metadata": {},
     "output_type": "display_data"
    }
   ],
   "source": [
    "marbles.show(3)"
   ]
  },
  {
   "cell_type": "code",
   "execution_count": 59,
   "id": "0da7a13b-9b75-4bcb-8928-3d79d3373d56",
   "metadata": {},
   "outputs": [
    {
     "data": {
      "text/html": [
       "<table border=\"1\" class=\"dataframe\">\n",
       "    <thead>\n",
       "        <tr>\n",
       "            <th>surface</th> <th>size</th>\n",
       "        </tr>\n",
       "    </thead>\n",
       "    <tbody>\n",
       "        <tr>\n",
       "            <td>shiny  </td> <td>large</td>\n",
       "        </tr>\n",
       "        <tr>\n",
       "            <td>shiny  </td> <td>large</td>\n",
       "        </tr>\n",
       "        <tr>\n",
       "            <td>shiny  </td> <td>large</td>\n",
       "        </tr>\n",
       "        <tr>\n",
       "            <td>shiny  </td> <td>large</td>\n",
       "        </tr>\n",
       "        <tr>\n",
       "            <td>dull   </td> <td>large</td>\n",
       "        </tr>\n",
       "    </tbody>\n",
       "</table>"
      ],
      "text/plain": [
       "surface | size\n",
       "shiny   | large\n",
       "shiny   | large\n",
       "shiny   | large\n",
       "shiny   | large\n",
       "dull    | large"
      ]
     },
     "execution_count": 59,
     "metadata": {},
     "output_type": "execute_result"
    }
   ],
   "source": [
    "marbles.where(\"size\", 'large')"
   ]
  },
  {
   "cell_type": "code",
   "execution_count": 60,
   "id": "e02dd398-1f28-4157-869f-88f2df3caeff",
   "metadata": {},
   "outputs": [
    {
     "data": {
      "text/html": [
       "<table border=\"1\" class=\"dataframe\">\n",
       "    <thead>\n",
       "        <tr>\n",
       "            <th>surface</th> <th>size</th>\n",
       "        </tr>\n",
       "    </thead>\n",
       "    <tbody>\n",
       "        <tr>\n",
       "            <td>shiny  </td> <td>large</td>\n",
       "        </tr>\n",
       "        <tr>\n",
       "            <td>shiny  </td> <td>large</td>\n",
       "        </tr>\n",
       "        <tr>\n",
       "            <td>shiny  </td> <td>large</td>\n",
       "        </tr>\n",
       "        <tr>\n",
       "            <td>shiny  </td> <td>large</td>\n",
       "        </tr>\n",
       "        <tr>\n",
       "            <td>dull   </td> <td>large</td>\n",
       "        </tr>\n",
       "        <tr>\n",
       "            <td>shiny  </td> <td>small</td>\n",
       "        </tr>\n",
       "        <tr>\n",
       "            <td>shiny  </td> <td>small</td>\n",
       "        </tr>\n",
       "        <tr>\n",
       "            <td>shiny  </td> <td>small</td>\n",
       "        </tr>\n",
       "        <tr>\n",
       "            <td>shiny  </td> <td>small</td>\n",
       "        </tr>\n",
       "        <tr>\n",
       "            <td>shiny  </td> <td>small</td>\n",
       "        </tr>\n",
       "    </tbody>\n",
       "</table>\n",
       "<p>... (3 rows omitted)</p>"
      ],
      "text/plain": [
       "surface | size\n",
       "shiny   | large\n",
       "shiny   | large\n",
       "shiny   | large\n",
       "shiny   | large\n",
       "dull    | large\n",
       "shiny   | small\n",
       "shiny   | small\n",
       "shiny   | small\n",
       "shiny   | small\n",
       "shiny   | small\n",
       "... (3 rows omitted)"
      ]
     },
     "execution_count": 60,
     "metadata": {},
     "output_type": "execute_result"
    }
   ],
   "source": [
    "marbles"
   ]
  },
  {
   "cell_type": "code",
   "execution_count": 61,
   "id": "e410bfdf-4d8f-4e11-803a-c07c2479724e",
   "metadata": {},
   "outputs": [],
   "source": [
    "# 4 + 'a'"
   ]
  },
  {
   "cell_type": "code",
   "execution_count": 62,
   "id": "d90e541e-1aa3-428c-b350-e5b37b16022c",
   "metadata": {},
   "outputs": [
    {
     "data": {
      "text/html": [
       "<table border=\"1\" class=\"dataframe\">\n",
       "    <thead>\n",
       "        <tr>\n",
       "            <th>name</th> <th>division</th> <th>conference</th> <th>arena</th>\n",
       "        </tr>\n",
       "    </thead>\n",
       "    <tbody>\n",
       "        <tr>\n",
       "            <td>Celtics</td> <td>Atlantic </td> <td>Eastern   </td> <td>18642</td>\n",
       "        </tr>\n",
       "        <tr>\n",
       "            <td>Lakers </td> <td>Pacific  </td> <td>Western   </td> <td>18997</td>\n",
       "        </tr>\n",
       "        <tr>\n",
       "            <td>Nets   </td> <td>Atlantic </td> <td>Eastern   </td> <td>17732</td>\n",
       "        </tr>\n",
       "        <tr>\n",
       "            <td>Pistons</td> <td>Central  </td> <td>Eastern   </td> <td>20491</td>\n",
       "        </tr>\n",
       "        <tr>\n",
       "            <td>Rockets</td> <td>Southwest</td> <td>Western   </td> <td>18055</td>\n",
       "        </tr>\n",
       "    </tbody>\n",
       "</table>"
      ],
      "text/plain": [
       "name    | division  | conference | arena\n",
       "Celtics | Atlantic  | Eastern    | 18642\n",
       "Lakers  | Pacific   | Western    | 18997\n",
       "Nets    | Atlantic  | Eastern    | 17732\n",
       "Pistons | Central   | Eastern    | 20491\n",
       "Rockets | Southwest | Western    | 18055"
      ]
     },
     "execution_count": 62,
     "metadata": {},
     "output_type": "execute_result"
    }
   ],
   "source": [
    "teams"
   ]
  },
  {
   "cell_type": "code",
   "execution_count": 63,
   "id": "73cecb1b-cf50-4f5c-9631-e3e45bff1348",
   "metadata": {},
   "outputs": [
    {
     "data": {
      "text/plain": [
       "Rows(name    | division  | conference | arena\n",
       "Celtics | Atlantic  | Eastern    | 18642\n",
       "Lakers  | Pacific   | Western    | 18997\n",
       "Nets    | Atlantic  | Eastern    | 17732\n",
       "Pistons | Central   | Eastern    | 20491\n",
       "Rockets | Southwest | Western    | 18055)"
      ]
     },
     "execution_count": 63,
     "metadata": {},
     "output_type": "execute_result"
    }
   ],
   "source": [
    "teams.rows"
   ]
  },
  {
   "cell_type": "code",
   "execution_count": 64,
   "id": "a5ca611c-8ed0-42c9-a347-7f610c9439a6",
   "metadata": {},
   "outputs": [
    {
     "data": {
      "text/plain": [
       "(array(['Celtics', 'Lakers', 'Nets', 'Pistons', 'Rockets'],\n",
       "       dtype='<U7'),\n",
       " array(['Atlantic', 'Pacific', 'Atlantic', 'Central', 'Southwest'],\n",
       "       dtype='<U9'),\n",
       " array(['Eastern', 'Western', 'Eastern', 'Eastern', 'Western'],\n",
       "       dtype='<U7'),\n",
       " array([18642, 18997, 17732, 20491, 18055]))"
      ]
     },
     "execution_count": 64,
     "metadata": {},
     "output_type": "execute_result"
    }
   ],
   "source": [
    "teams.columns"
   ]
  },
  {
   "cell_type": "code",
   "execution_count": 65,
   "id": "49abecf6-3f65-4edd-866e-0878e64d9232",
   "metadata": {},
   "outputs": [
    {
     "data": {
      "text/plain": [
       "('name', 'division', 'conference', 'arena')"
      ]
     },
     "execution_count": 65,
     "metadata": {},
     "output_type": "execute_result"
    }
   ],
   "source": [
    "teams.labels"
   ]
  },
  {
   "cell_type": "code",
   "execution_count": 66,
   "id": "161cd9b1-080b-4f64-a8e3-fca4dff6d041",
   "metadata": {},
   "outputs": [],
   "source": [
    "# abc"
   ]
  },
  {
   "cell_type": "code",
   "execution_count": 67,
   "id": "0019f4f6-17bc-452a-bc5b-9b836bcbd059",
   "metadata": {},
   "outputs": [
    {
     "data": {
      "text/plain": [
       "numpy.ndarray"
      ]
     },
     "execution_count": 67,
     "metadata": {},
     "output_type": "execute_result"
    }
   ],
   "source": [
    "type(make_array(1, 2, 3))"
   ]
  },
  {
   "cell_type": "code",
   "execution_count": 68,
   "id": "549878a6-a0eb-43ac-abdb-bcfc57da06ef",
   "metadata": {},
   "outputs": [
    {
     "data": {
      "text/plain": [
       "numpy.ndarray"
      ]
     },
     "execution_count": 68,
     "metadata": {},
     "output_type": "execute_result"
    }
   ],
   "source": [
    "type(np.array([1, 2, 3]))"
   ]
  },
  {
   "cell_type": "code",
   "execution_count": 69,
   "id": "4cfc9bfb-3090-4555-90e5-323cca3a7b8a",
   "metadata": {},
   "outputs": [
    {
     "data": {
      "text/html": [
       "<table border=\"1\" class=\"dataframe\">\n",
       "    <thead>\n",
       "        <tr>\n",
       "            <th>Face</th>\n",
       "        </tr>\n",
       "    </thead>\n",
       "    <tbody>\n",
       "        <tr>\n",
       "            <td>1   </td>\n",
       "        </tr>\n",
       "        <tr>\n",
       "            <td>2   </td>\n",
       "        </tr>\n",
       "        <tr>\n",
       "            <td>3   </td>\n",
       "        </tr>\n",
       "        <tr>\n",
       "            <td>4   </td>\n",
       "        </tr>\n",
       "        <tr>\n",
       "            <td>5   </td>\n",
       "        </tr>\n",
       "        <tr>\n",
       "            <td>6   </td>\n",
       "        </tr>\n",
       "    </tbody>\n",
       "</table>"
      ],
      "text/plain": [
       "Face\n",
       "1\n",
       "2\n",
       "3\n",
       "4\n",
       "5\n",
       "6"
      ]
     },
     "execution_count": 69,
     "metadata": {},
     "output_type": "execute_result"
    }
   ],
   "source": [
    "die = Table().with_column(\n",
    "    'Face', np.arange(1, 7, 1)\n",
    "                    )\n",
    "die"
   ]
  },
  {
   "cell_type": "code",
   "execution_count": 70,
   "id": "80679156-755c-44c5-bebb-eccdf3caa723",
   "metadata": {},
   "outputs": [
    {
     "data": {
      "text/html": [
       "<table border=\"1\" class=\"dataframe\">\n",
       "    <thead>\n",
       "        <tr>\n",
       "            <th>Actor</th> <th>Total Gross</th> <th>Number of Movies</th> <th>Average per Movie</th> <th>#1 Movie</th> <th>Gross</th>\n",
       "        </tr>\n",
       "    </thead>\n",
       "    <tbody>\n",
       "        <tr>\n",
       "            <td>Harrison Ford     </td> <td>4871.7     </td> <td>41              </td> <td>118.8            </td> <td>Star Wars: The Force Awakens</td> <td>936.7</td>\n",
       "        </tr>\n",
       "        <tr>\n",
       "            <td>Samuel L. Jackson </td> <td>4772.8     </td> <td>69              </td> <td>69.2             </td> <td>The Avengers                </td> <td>623.4</td>\n",
       "        </tr>\n",
       "        <tr>\n",
       "            <td>Morgan Freeman    </td> <td>4468.3     </td> <td>61              </td> <td>73.3             </td> <td>The Dark Knight             </td> <td>534.9</td>\n",
       "        </tr>\n",
       "        <tr>\n",
       "            <td>Tom Hanks         </td> <td>4340.8     </td> <td>44              </td> <td>98.7             </td> <td>Toy Story 3                 </td> <td>415  </td>\n",
       "        </tr>\n",
       "        <tr>\n",
       "            <td>Robert Downey, Jr.</td> <td>3947.3     </td> <td>53              </td> <td>74.5             </td> <td>The Avengers                </td> <td>623.4</td>\n",
       "        </tr>\n",
       "        <tr>\n",
       "            <td>Eddie Murphy      </td> <td>3810.4     </td> <td>38              </td> <td>100.3            </td> <td>Shrek 2                     </td> <td>441.2</td>\n",
       "        </tr>\n",
       "        <tr>\n",
       "            <td>Tom Cruise        </td> <td>3587.2     </td> <td>36              </td> <td>99.6             </td> <td>War of the Worlds           </td> <td>234.3</td>\n",
       "        </tr>\n",
       "        <tr>\n",
       "            <td>Johnny Depp       </td> <td>3368.6     </td> <td>45              </td> <td>74.9             </td> <td>Dead Man's Chest            </td> <td>423.3</td>\n",
       "        </tr>\n",
       "        <tr>\n",
       "            <td>Michael Caine     </td> <td>3351.5     </td> <td>58              </td> <td>57.8             </td> <td>The Dark Knight             </td> <td>534.9</td>\n",
       "        </tr>\n",
       "        <tr>\n",
       "            <td>Scarlett Johansson</td> <td>3341.2     </td> <td>37              </td> <td>90.3             </td> <td>The Avengers                </td> <td>623.4</td>\n",
       "        </tr>\n",
       "    </tbody>\n",
       "</table>\n",
       "<p>... (40 rows omitted)</p>"
      ],
      "text/plain": [
       "Actor              | Total Gross | Number of Movies | Average per Movie | #1 Movie                     | Gross\n",
       "Harrison Ford      | 4871.7      | 41               | 118.8             | Star Wars: The Force Awakens | 936.7\n",
       "Samuel L. Jackson  | 4772.8      | 69               | 69.2              | The Avengers                 | 623.4\n",
       "Morgan Freeman     | 4468.3      | 61               | 73.3              | The Dark Knight              | 534.9\n",
       "Tom Hanks          | 4340.8      | 44               | 98.7              | Toy Story 3                  | 415\n",
       "Robert Downey, Jr. | 3947.3      | 53               | 74.5              | The Avengers                 | 623.4\n",
       "Eddie Murphy       | 3810.4      | 38               | 100.3             | Shrek 2                      | 441.2\n",
       "Tom Cruise         | 3587.2      | 36               | 99.6              | War of the Worlds            | 234.3\n",
       "Johnny Depp        | 3368.6      | 45               | 74.9              | Dead Man's Chest             | 423.3\n",
       "Michael Caine      | 3351.5      | 58               | 57.8              | The Dark Knight              | 534.9\n",
       "Scarlett Johansson | 3341.2      | 37               | 90.3              | The Avengers                 | 623.4\n",
       "... (40 rows omitted)"
      ]
     },
     "execution_count": 70,
     "metadata": {},
     "output_type": "execute_result"
    }
   ],
   "source": [
    "actors = Table.read_table('data/actors.csv')\n",
    "actors"
   ]
  },
  {
   "cell_type": "code",
   "execution_count": 71,
   "id": "447594fb-c617-426d-9ed6-ca60c67c246a",
   "metadata": {},
   "outputs": [
    {
     "data": {
      "text/plain": [
       "array(['Ben Stiller', 'Morgan Freeman', 'Julia Roberts', 'Jim Carrey',\n",
       "       'Bradley Cooper'],\n",
       "      dtype='<U14')"
      ]
     },
     "execution_count": 71,
     "metadata": {},
     "output_type": "execute_result"
    }
   ],
   "source": [
    "actors.sample(5, with_replacement=False).column('Actor')"
   ]
  },
  {
   "cell_type": "code",
   "execution_count": 72,
   "id": "9d1651ca-576d-48a6-993c-549c84e1b214",
   "metadata": {},
   "outputs": [
    {
     "data": {
      "text/plain": [
       "array(['Jeremy Renner', 'Jonah Hill', 'Tom Hanks', 'Matt Damon',\n",
       "       'Brad Pitt'],\n",
       "      dtype='<U22')"
      ]
     },
     "execution_count": 72,
     "metadata": {},
     "output_type": "execute_result"
    }
   ],
   "source": [
    "import random\n",
    "np.random.choice(actors.column('Actor'), 5, replace=False)"
   ]
  },
  {
   "cell_type": "code",
   "execution_count": 73,
   "id": "b0143415-ce76-4608-862c-d26390a0e92c",
   "metadata": {},
   "outputs": [
    {
     "data": {
      "text/html": [
       "<table border=\"1\" class=\"dataframe\">\n",
       "    <thead>\n",
       "        <tr>\n",
       "            <th>Actor</th>\n",
       "        </tr>\n",
       "    </thead>\n",
       "    <tbody>\n",
       "        <tr>\n",
       "            <td>Mark Wahlberg     </td>\n",
       "        </tr>\n",
       "        <tr>\n",
       "            <td>Daniel Radcliffe  </td>\n",
       "        </tr>\n",
       "        <tr>\n",
       "            <td>Morgan Freeman    </td>\n",
       "        </tr>\n",
       "        <tr>\n",
       "            <td>Scarlett Johansson</td>\n",
       "        </tr>\n",
       "        <tr>\n",
       "            <td>Julia Roberts     </td>\n",
       "        </tr>\n",
       "    </tbody>\n",
       "</table>"
      ],
      "text/plain": [
       "Actor\n",
       "Mark Wahlberg\n",
       "Daniel Radcliffe\n",
       "Morgan Freeman\n",
       "Scarlett Johansson\n",
       "Julia Roberts"
      ]
     },
     "execution_count": 73,
     "metadata": {},
     "output_type": "execute_result"
    }
   ],
   "source": [
    "actors.select('Actor').sample(5)"
   ]
  },
  {
   "cell_type": "code",
   "execution_count": 74,
   "id": "d73ee67e-72ec-4209-a2f0-f84b167ef384",
   "metadata": {},
   "outputs": [
    {
     "data": {
      "text/html": [
       "<table border=\"1\" class=\"dataframe\">\n",
       "    <thead>\n",
       "        <tr>\n",
       "            <th>Actor</th> <th>Total Gross</th> <th>Number of Movies</th> <th>Average per Movie</th> <th>#1 Movie</th> <th>Gross</th>\n",
       "        </tr>\n",
       "    </thead>\n",
       "    <tbody>\n",
       "        <tr>\n",
       "            <td>Johnny Depp</td> <td>3368.6     </td> <td>45              </td> <td>74.9             </td> <td>Dead Man's Chest</td> <td>423.3</td>\n",
       "        </tr>\n",
       "    </tbody>\n",
       "</table>"
      ],
      "text/plain": [
       "Actor       | Total Gross | Number of Movies | Average per Movie | #1 Movie         | Gross\n",
       "Johnny Depp | 3368.6      | 45               | 74.9              | Dead Man's Chest | 423.3"
      ]
     },
     "execution_count": 74,
     "metadata": {},
     "output_type": "execute_result"
    }
   ],
   "source": [
    "actors.where('Number of Movies', 45)"
   ]
  },
  {
   "cell_type": "code",
   "execution_count": 75,
   "id": "9df403c0-fffa-45f4-9294-ae5d3d4c0ae0",
   "metadata": {},
   "outputs": [],
   "source": [
    "# '5' + 5"
   ]
  },
  {
   "cell_type": "code",
   "execution_count": 76,
   "id": "070b5ec6-60f1-4cfb-bde5-5b4aa7363669",
   "metadata": {},
   "outputs": [],
   "source": [
    "# 4 + 'a'"
   ]
  },
  {
   "cell_type": "code",
   "execution_count": 77,
   "id": "565e1199-abba-4c21-b5cc-5f2ba8de67be",
   "metadata": {},
   "outputs": [],
   "source": [
    "# import os\n",
    "# os.listdir('data')"
   ]
  },
  {
   "cell_type": "code",
   "execution_count": 78,
   "id": "5841c017-3484-4c5e-ac59-6dc57dc4d7cc",
   "metadata": {},
   "outputs": [
    {
     "data": {
      "text/html": [
       "<table border=\"1\" class=\"dataframe\">\n",
       "    <thead>\n",
       "        <tr>\n",
       "            <th>Number of petals</th> <th>Name</th> <th>Weight</th>\n",
       "        </tr>\n",
       "    </thead>\n",
       "    <tbody>\n",
       "        <tr>\n",
       "            <td>8               </td> <td>lotus    </td> <td>10    </td>\n",
       "        </tr>\n",
       "        <tr>\n",
       "            <td>34              </td> <td>sunflower</td> <td>5     </td>\n",
       "        </tr>\n",
       "        <tr>\n",
       "            <td>5               </td> <td>rose     </td> <td>6     </td>\n",
       "        </tr>\n",
       "    </tbody>\n",
       "</table>"
      ],
      "text/plain": [
       "Number of petals | Name      | Weight\n",
       "8                | lotus     | 10\n",
       "34               | sunflower | 5\n",
       "5                | rose      | 6"
      ]
     },
     "execution_count": 78,
     "metadata": {},
     "output_type": "execute_result"
    }
   ],
   "source": [
    "flowers = Table().with_columns(\n",
    "    'Number of petals', [8, 34, 5],\n",
    "    'Name', ['lotus', 'sunflower', 'rose'],\n",
    "    'Weight', [10, 5, 6]\n",
    ")\n",
    "\n",
    "flowers"
   ]
  },
  {
   "cell_type": "code",
   "execution_count": 79,
   "id": "016b007d-619f-432c-997f-62262c1da79e",
   "metadata": {},
   "outputs": [
    {
     "data": {
      "text/plain": [
       "5"
      ]
     },
     "execution_count": 79,
     "metadata": {},
     "output_type": "execute_result"
    }
   ],
   "source": [
    "flowers.column('Weight')[1]"
   ]
  },
  {
   "cell_type": "code",
   "execution_count": 80,
   "id": "7a4e0348-23b0-43ed-9c68-4d260f43f17b",
   "metadata": {},
   "outputs": [],
   "source": [
    "##### function not available in the book ###\n",
    "##### we will learn about functions later\n",
    "\n",
    "import ssl\n",
    "\n",
    "context = ssl._create_unverified_context()\n",
    "\n",
    "def read_url(url):\n",
    "    from urllib.request import urlopen\n",
    "    import re\n",
    "    return re.sub('\\\\s+', ' ', urlopen(url, context = context).read().decode())\n",
    "    \n",
    "# from urllib.request import urlopen \n",
    "# import re\n",
    "# def read_url(url):            ##### not working\n",
    "#     return re.sub('\\\\s+', ' ', urlopen(url).read().decode())\n"
   ]
  },
  {
   "cell_type": "code",
   "execution_count": 81,
   "id": "6a5b3b46-d737-4ffe-a2b7-5dacf12885f0",
   "metadata": {},
   "outputs": [],
   "source": [
    "###### Read two books, fast! (CH1.3)\n",
    "\n",
    "huck_finn_url = 'https://www.introdsm.org/data/huck_finn.txt'\n",
    "huck_finn_text = read_url(huck_finn_url)\n",
    "huck_finn_chapters = huck_finn_text.split('CHAPTER ')[44:]\n",
    "\n",
    "little_women_url = 'https://www.introdsm.org/data/little_women.txt'\n",
    "little_women_text = read_url(little_women_url)\n",
    "little_women_chapters = little_women_text.split('CHAPTER ')[1:]"
   ]
  },
  {
   "cell_type": "code",
   "execution_count": 82,
   "id": "9067e05a-5533-4810-8b8e-fc2d7141ae5a",
   "metadata": {},
   "outputs": [],
   "source": [
    "# In each chapter, count the number of all characters;\n",
    "# call this the \"length\" of the chapter.\n",
    "# Also count the number of periods.\n",
    "\n",
    "chars_periods_huck_finn = Table().with_columns([\n",
    "        'Huck Finn Chapter Length', [len(s) for s in huck_finn_chapters],\n",
    "        'Number of Periods', np.char.count(huck_finn_chapters, '.')\n",
    "    ])\n",
    "chars_periods_little_women = Table().with_columns([\n",
    "        'Little Women Chapter Length', [len(s) for s in little_women_chapters],\n",
    "        'Number of Periods', np.char.count(little_women_chapters, '.')\n",
    "    ])"
   ]
  },
  {
   "cell_type": "code",
   "execution_count": 83,
   "id": "e95462ee-2b1a-4746-9cb3-5bbe83d39b19",
   "metadata": {},
   "outputs": [
    {
     "data": {
      "text/html": [
       "<table border=\"1\" class=\"dataframe\">\n",
       "    <thead>\n",
       "        <tr>\n",
       "            <th>Huck Finn Chapter Length</th> <th>Number of Periods</th>\n",
       "        </tr>\n",
       "    </thead>\n",
       "    <tbody>\n",
       "        <tr>\n",
       "            <td>7026                    </td> <td>66               </td>\n",
       "        </tr>\n",
       "        <tr>\n",
       "            <td>11982                   </td> <td>117              </td>\n",
       "        </tr>\n",
       "        <tr>\n",
       "            <td>8529                    </td> <td>72               </td>\n",
       "        </tr>\n",
       "        <tr>\n",
       "            <td>6799                    </td> <td>84               </td>\n",
       "        </tr>\n",
       "        <tr>\n",
       "            <td>8166                    </td> <td>91               </td>\n",
       "        </tr>\n",
       "        <tr>\n",
       "            <td>14550                   </td> <td>125              </td>\n",
       "        </tr>\n",
       "        <tr>\n",
       "            <td>13218                   </td> <td>127              </td>\n",
       "        </tr>\n",
       "        <tr>\n",
       "            <td>22208                   </td> <td>249              </td>\n",
       "        </tr>\n",
       "        <tr>\n",
       "            <td>8081                    </td> <td>71               </td>\n",
       "        </tr>\n",
       "        <tr>\n",
       "            <td>7036                    </td> <td>70               </td>\n",
       "        </tr>\n",
       "    </tbody>\n",
       "</table>\n",
       "<p>... (33 rows omitted)</p>"
      ],
      "text/plain": [
       "Huck Finn Chapter Length | Number of Periods\n",
       "7026                     | 66\n",
       "11982                    | 117\n",
       "8529                     | 72\n",
       "6799                     | 84\n",
       "8166                     | 91\n",
       "14550                    | 125\n",
       "13218                    | 127\n",
       "22208                    | 249\n",
       "8081                     | 71\n",
       "7036                     | 70\n",
       "... (33 rows omitted)"
      ]
     },
     "execution_count": 83,
     "metadata": {},
     "output_type": "execute_result"
    }
   ],
   "source": [
    "chars_periods_huck_finn"
   ]
  },
  {
   "cell_type": "code",
   "execution_count": 84,
   "id": "c7e891d9-f47c-4135-a638-513794fa7ca1",
   "metadata": {},
   "outputs": [
    {
     "data": {
      "text/html": [
       "<table border=\"1\" class=\"dataframe\">\n",
       "    <thead>\n",
       "        <tr>\n",
       "            <th>Little Women Chapter Length</th> <th>Number of Periods</th>\n",
       "        </tr>\n",
       "    </thead>\n",
       "    <tbody>\n",
       "        <tr>\n",
       "            <td>21759                      </td> <td>189              </td>\n",
       "        </tr>\n",
       "        <tr>\n",
       "            <td>22148                      </td> <td>188              </td>\n",
       "        </tr>\n",
       "        <tr>\n",
       "            <td>20558                      </td> <td>231              </td>\n",
       "        </tr>\n",
       "        <tr>\n",
       "            <td>25526                      </td> <td>195              </td>\n",
       "        </tr>\n",
       "        <tr>\n",
       "            <td>23395                      </td> <td>255              </td>\n",
       "        </tr>\n",
       "        <tr>\n",
       "            <td>14622                      </td> <td>140              </td>\n",
       "        </tr>\n",
       "        <tr>\n",
       "            <td>14431                      </td> <td>131              </td>\n",
       "        </tr>\n",
       "        <tr>\n",
       "            <td>22476                      </td> <td>214              </td>\n",
       "        </tr>\n",
       "        <tr>\n",
       "            <td>33767                      </td> <td>337              </td>\n",
       "        </tr>\n",
       "        <tr>\n",
       "            <td>18508                      </td> <td>185              </td>\n",
       "        </tr>\n",
       "    </tbody>\n",
       "</table>\n",
       "<p>... (37 rows omitted)</p>"
      ],
      "text/plain": [
       "Little Women Chapter Length | Number of Periods\n",
       "21759                       | 189\n",
       "22148                       | 188\n",
       "20558                       | 231\n",
       "25526                       | 195\n",
       "23395                       | 255\n",
       "14622                       | 140\n",
       "14431                       | 131\n",
       "22476                       | 214\n",
       "33767                       | 337\n",
       "18508                       | 185\n",
       "... (37 rows omitted)"
      ]
     },
     "execution_count": 84,
     "metadata": {},
     "output_type": "execute_result"
    }
   ],
   "source": [
    "chars_periods_little_women"
   ]
  },
  {
   "cell_type": "code",
   "execution_count": 85,
   "id": "f2c6dfd2-51d1-4fb5-98cb-80e78a0774b1",
   "metadata": {},
   "outputs": [
    {
     "data": {
      "text/html": [
       "<table border=\"1\" class=\"dataframe\">\n",
       "    <thead>\n",
       "        <tr>\n",
       "            <th>Number of Periods</th> <th>Huck Finn Chapter Length</th> <th>Little Women Chapter Length</th>\n",
       "        </tr>\n",
       "    </thead>\n",
       "    <tbody>\n",
       "        <tr>\n",
       "            <td>91               </td> <td>8166                    </td> <td>13526                      </td>\n",
       "        </tr>\n",
       "        <tr>\n",
       "            <td>96               </td> <td>10864                   </td> <td>12558                      </td>\n",
       "        </tr>\n",
       "        <tr>\n",
       "            <td>145              </td> <td>17182                   </td> <td>14252                      </td>\n",
       "        </tr>\n",
       "        <tr>\n",
       "            <td>145              </td> <td>14717                   </td> <td>14252                      </td>\n",
       "        </tr>\n",
       "    </tbody>\n",
       "</table>"
      ],
      "text/plain": [
       "Number of Periods | Huck Finn Chapter Length | Little Women Chapter Length\n",
       "91                | 8166                     | 13526\n",
       "96                | 10864                    | 12558\n",
       "145               | 17182                    | 14252\n",
       "145               | 14717                    | 14252"
      ]
     },
     "execution_count": 85,
     "metadata": {},
     "output_type": "execute_result"
    }
   ],
   "source": [
    "chars_periods_huck_finn.join('Number of Periods', chars_periods_little_women, 'Number of Periods')\n",
    "chars_periods_huck_finn.join('Number of Periods', chars_periods_little_women)\n",
    "# chars_periods_huck_finn.join('Huck Finn Chapter Length', chars_periods_little_women, 'Little Women Chapter Length')"
   ]
  },
  {
   "cell_type": "code",
   "execution_count": 86,
   "id": "bd4e81f3-7121-4288-9663-71f941d016d5",
   "metadata": {},
   "outputs": [
    {
     "name": "stdout",
     "output_type": "stream",
     "text": [
      "1\n",
      "<class 'int'>\n",
      "4\n",
      "<class 'int'>\n",
      "7\n",
      "<class 'int'>\n"
     ]
    }
   ],
   "source": [
    "for i in range(1, 10, 3):\n",
    "    print(i)\n",
    "    print(type(i))"
   ]
  },
  {
   "cell_type": "code",
   "execution_count": 87,
   "id": "9a1a032a-9fa4-4473-8075-a47358557dfe",
   "metadata": {},
   "outputs": [
    {
     "name": "stdout",
     "output_type": "stream",
     "text": [
      "1\n",
      "<class 'numpy.int64'>\n",
      "4\n",
      "<class 'numpy.int64'>\n",
      "7\n",
      "<class 'numpy.int64'>\n"
     ]
    }
   ],
   "source": [
    "for i in np.arange(1, 10, 3):\n",
    "    print(i)\n",
    "    print(type(i))"
   ]
  },
  {
   "cell_type": "code",
   "execution_count": 88,
   "id": "afd7e9d7-de72-4ccd-99ff-245c9da84254",
   "metadata": {},
   "outputs": [
    {
     "name": "stdout",
     "output_type": "stream",
     "text": [
      "0 1 2 3 4 5 6 7 8 9 "
     ]
    }
   ],
   "source": [
    "num_repetition = 10\n",
    "heads = make_array()\n",
    "\n",
    "for i in np.arange(num_repetition):     ### with np.arange\n",
    "    heads = np.append(heads, i)\n",
    "    print(i, end=\" \")"
   ]
  },
  {
   "cell_type": "code",
   "execution_count": 89,
   "id": "31688513-8479-4237-b39b-837f44b1d1a3",
   "metadata": {},
   "outputs": [
    {
     "name": "stdout",
     "output_type": "stream",
     "text": [
      "0 1 2 3 4 5 6 7 8 9 "
     ]
    }
   ],
   "source": [
    "num_repetition = 10\n",
    "heads = make_array()\n",
    "\n",
    "for i in range(num_repetition):\n",
    "    heads = np.append(heads, i)\n",
    "    print(i, end=\" \")"
   ]
  },
  {
   "cell_type": "code",
   "execution_count": 90,
   "id": "e539598a-679e-41c6-823b-47dac545d0cb",
   "metadata": {},
   "outputs": [
    {
     "name": "stdout",
     "output_type": "stream",
     "text": [
      "3\n"
     ]
    }
   ],
   "source": [
    "die = make_array(1, 2, 3, 4, 5, 6)\n",
    "# die = make_array(np.arange(1, 7))\n",
    "def roll():\n",
    "    return np.random.choice(die)\n",
    "print(roll())\n",
    "# die\n",
    "\n",
    "# np.random.choice(die, 1)"
   ]
  },
  {
   "cell_type": "code",
   "execution_count": 91,
   "id": "7b96ed4a-8c7f-4431-a471-7dd63d6a0883",
   "metadata": {},
   "outputs": [],
   "source": [
    "from datascience import * \n",
    "\n",
    "arr = [1, 2, 3, 4, 5]"
   ]
  },
  {
   "cell_type": "code",
   "execution_count": 92,
   "id": "e74889a4-cbce-451d-9eef-e6cd532d2fb7",
   "metadata": {},
   "outputs": [
    {
     "data": {
      "text/plain": [
       "2"
      ]
     },
     "execution_count": 92,
     "metadata": {},
     "output_type": "execute_result"
    }
   ],
   "source": [
    "percentile(25, arr)"
   ]
  },
  {
   "cell_type": "code",
   "execution_count": 93,
   "id": "676d968d-dced-4d65-a917-4f8ad34ccdc0",
   "metadata": {},
   "outputs": [
    {
     "data": {
      "text/plain": [
       "array([1, 3, 5, 7, 9])"
      ]
     },
     "execution_count": 93,
     "metadata": {},
     "output_type": "execute_result"
    }
   ],
   "source": [
    "import numpy as np\n",
    "s = [1, 5, 7, 3, 9]\n",
    "s = np.sort(s)\n",
    "s"
   ]
  },
  {
   "cell_type": "code",
   "execution_count": 94,
   "id": "2bcbe672-a8ef-46f5-9b63-3430b74ec0ef",
   "metadata": {},
   "outputs": [
    {
     "data": {
      "text/plain": [
       "1"
      ]
     },
     "execution_count": 94,
     "metadata": {},
     "output_type": "execute_result"
    }
   ],
   "source": [
    "percentile(10, s)"
   ]
  },
  {
   "cell_type": "code",
   "execution_count": 95,
   "id": "c85722f6-a47c-431e-abd0-32ade95efb53",
   "metadata": {},
   "outputs": [
    {
     "data": {
      "text/plain": [
       "3"
      ]
     },
     "execution_count": 95,
     "metadata": {},
     "output_type": "execute_result"
    }
   ],
   "source": [
    "percentile(39, s)"
   ]
  },
  {
   "cell_type": "code",
   "execution_count": 96,
   "id": "f04df2b9-3ec0-4f0d-9159-7bb3285bb9d1",
   "metadata": {},
   "outputs": [
    {
     "data": {
      "text/plain": [
       "3"
      ]
     },
     "execution_count": 96,
     "metadata": {},
     "output_type": "execute_result"
    }
   ],
   "source": [
    "percentile(40, s)"
   ]
  },
  {
   "cell_type": "code",
   "execution_count": 97,
   "id": "a1efc5fd-869b-43d7-8db7-c36beca0fdfc",
   "metadata": {},
   "outputs": [
    {
     "data": {
      "text/plain": [
       "5"
      ]
     },
     "execution_count": 97,
     "metadata": {},
     "output_type": "execute_result"
    }
   ],
   "source": [
    "percentile(50, s)"
   ]
  },
  {
   "cell_type": "markdown",
   "id": "779ee3a5-7683-4dc2-978e-f0fce2d23689",
   "metadata": {},
   "source": [
    "In practical terms, suppose there are $n$ elements in the collection. To find the $p$th percentile:\n",
    "- Sort the collection in increasing order.\n",
    "- Find p% of n: $(p/100) \\times n$. Call that $k$.\n",
    "- If $k$ is an integer, take the $k$th element of the sorted collection.\n",
    "- If $k$ is not an integer, round it up to the next integer, and take that element of the sorted collection."
   ]
  },
  {
   "cell_type": "code",
   "execution_count": 98,
   "id": "94b41024-f066-4b97-b1db-4cd041296733",
   "metadata": {},
   "outputs": [
    {
     "name": "stdout",
     "output_type": "stream",
     "text": [
      "4.0\n"
     ]
    }
   ],
   "source": [
    "import numpy as np\n",
    "from datascience import *\n",
    "nums = [1, 2, 3, 4, 5, 6, 7 ]\n",
    "print(np.average(nums))\n",
    "# max(s)"
   ]
  },
  {
   "cell_type": "code",
   "execution_count": 99,
   "id": "d9c210b9-3822-4c3b-b788-9f57fd0eff3c",
   "metadata": {},
   "outputs": [
    {
     "data": {
      "text/plain": [
       "4"
      ]
     },
     "execution_count": 99,
     "metadata": {},
     "output_type": "execute_result"
    }
   ],
   "source": [
    "percentile(50, nums)"
   ]
  },
  {
   "cell_type": "code",
   "execution_count": 100,
   "id": "8e4adde1-44ed-4db1-98d8-5abd3dadae1c",
   "metadata": {},
   "outputs": [
    {
     "data": {
      "text/plain": [
       "4"
      ]
     },
     "execution_count": 100,
     "metadata": {},
     "output_type": "execute_result"
    }
   ],
   "source": [
    "nums[int(np.floor(50/100 * len(nums))) ]"
   ]
  },
  {
   "cell_type": "code",
   "execution_count": 101,
   "id": "bc90fce2-8771-4826-b229-a7e685f288c9",
   "metadata": {},
   "outputs": [
    {
     "data": {
      "text/html": [
       "<div>\n",
       "<style scoped>\n",
       "    .dataframe tbody tr th:only-of-type {\n",
       "        vertical-align: middle;\n",
       "    }\n",
       "\n",
       "    .dataframe tbody tr th {\n",
       "        vertical-align: top;\n",
       "    }\n",
       "\n",
       "    .dataframe thead th {\n",
       "        text-align: right;\n",
       "    }\n",
       "</style>\n",
       "<table border=\"1\" class=\"dataframe\">\n",
       "  <thead>\n",
       "    <tr style=\"text-align: right;\">\n",
       "      <th></th>\n",
       "      <th>Height</th>\n",
       "      <th>Weight</th>\n",
       "      <th>Age in 2013</th>\n",
       "    </tr>\n",
       "  </thead>\n",
       "  <tbody>\n",
       "    <tr>\n",
       "      <th>count</th>\n",
       "      <td>505.000000</td>\n",
       "      <td>505.000000</td>\n",
       "      <td>505.000000</td>\n",
       "    </tr>\n",
       "    <tr>\n",
       "      <th>mean</th>\n",
       "      <td>79.065347</td>\n",
       "      <td>220.673267</td>\n",
       "      <td>26.190099</td>\n",
       "    </tr>\n",
       "    <tr>\n",
       "      <th>std</th>\n",
       "      <td>3.454019</td>\n",
       "      <td>26.643110</td>\n",
       "      <td>4.325485</td>\n",
       "    </tr>\n",
       "    <tr>\n",
       "      <th>min</th>\n",
       "      <td>69.000000</td>\n",
       "      <td>157.000000</td>\n",
       "      <td>15.000000</td>\n",
       "    </tr>\n",
       "    <tr>\n",
       "      <th>25%</th>\n",
       "      <td>76.000000</td>\n",
       "      <td>200.000000</td>\n",
       "      <td>23.000000</td>\n",
       "    </tr>\n",
       "    <tr>\n",
       "      <th>50%</th>\n",
       "      <td>80.000000</td>\n",
       "      <td>220.000000</td>\n",
       "      <td>25.000000</td>\n",
       "    </tr>\n",
       "    <tr>\n",
       "      <th>75%</th>\n",
       "      <td>82.000000</td>\n",
       "      <td>240.000000</td>\n",
       "      <td>29.000000</td>\n",
       "    </tr>\n",
       "    <tr>\n",
       "      <th>max</th>\n",
       "      <td>87.000000</td>\n",
       "      <td>290.000000</td>\n",
       "      <td>40.000000</td>\n",
       "    </tr>\n",
       "  </tbody>\n",
       "</table>\n",
       "</div>"
      ],
      "text/plain": [
       "           Height      Weight  Age in 2013\n",
       "count  505.000000  505.000000   505.000000\n",
       "mean    79.065347  220.673267    26.190099\n",
       "std      3.454019   26.643110     4.325485\n",
       "min     69.000000  157.000000    15.000000\n",
       "25%     76.000000  200.000000    23.000000\n",
       "50%     80.000000  220.000000    25.000000\n",
       "75%     82.000000  240.000000    29.000000\n",
       "max     87.000000  290.000000    40.000000"
      ]
     },
     "execution_count": 101,
     "metadata": {},
     "output_type": "execute_result"
    }
   ],
   "source": [
    "# from scipy import stats\n",
    "from datascience import *\n",
    "import pandas as pd\n",
    "path_data = './data/'\n",
    "nba13 = Table.read_table('./data/nba2013.csv')\n",
    "nba_df = nba13.to_df()\n",
    "nba_df.describe()       ##### works"
   ]
  },
  {
   "cell_type": "code",
   "execution_count": 102,
   "id": "b23bfec4-a6ac-4194-b44e-70c34263a59e",
   "metadata": {},
   "outputs": [],
   "source": [
    "data = pd.read_csv('./data/nba2013.csv')"
   ]
  },
  {
   "cell_type": "code",
   "execution_count": 103,
   "id": "772bb316-1926-4fe5-84f1-e8315354ac18",
   "metadata": {},
   "outputs": [
    {
     "data": {
      "text/html": [
       "<div>\n",
       "<style scoped>\n",
       "    .dataframe tbody tr th:only-of-type {\n",
       "        vertical-align: middle;\n",
       "    }\n",
       "\n",
       "    .dataframe tbody tr th {\n",
       "        vertical-align: top;\n",
       "    }\n",
       "\n",
       "    .dataframe thead th {\n",
       "        text-align: right;\n",
       "    }\n",
       "</style>\n",
       "<table border=\"1\" class=\"dataframe\">\n",
       "  <thead>\n",
       "    <tr style=\"text-align: right;\">\n",
       "      <th></th>\n",
       "      <th>Height</th>\n",
       "      <th>Weight</th>\n",
       "      <th>Age in 2013</th>\n",
       "    </tr>\n",
       "  </thead>\n",
       "  <tbody>\n",
       "    <tr>\n",
       "      <th>count</th>\n",
       "      <td>505.000000</td>\n",
       "      <td>505.000000</td>\n",
       "      <td>505.000000</td>\n",
       "    </tr>\n",
       "    <tr>\n",
       "      <th>mean</th>\n",
       "      <td>79.065347</td>\n",
       "      <td>220.673267</td>\n",
       "      <td>26.190099</td>\n",
       "    </tr>\n",
       "    <tr>\n",
       "      <th>std</th>\n",
       "      <td>3.454019</td>\n",
       "      <td>26.643110</td>\n",
       "      <td>4.325485</td>\n",
       "    </tr>\n",
       "    <tr>\n",
       "      <th>min</th>\n",
       "      <td>69.000000</td>\n",
       "      <td>157.000000</td>\n",
       "      <td>15.000000</td>\n",
       "    </tr>\n",
       "    <tr>\n",
       "      <th>25%</th>\n",
       "      <td>76.000000</td>\n",
       "      <td>200.000000</td>\n",
       "      <td>23.000000</td>\n",
       "    </tr>\n",
       "    <tr>\n",
       "      <th>50%</th>\n",
       "      <td>80.000000</td>\n",
       "      <td>220.000000</td>\n",
       "      <td>25.000000</td>\n",
       "    </tr>\n",
       "    <tr>\n",
       "      <th>75%</th>\n",
       "      <td>82.000000</td>\n",
       "      <td>240.000000</td>\n",
       "      <td>29.000000</td>\n",
       "    </tr>\n",
       "    <tr>\n",
       "      <th>max</th>\n",
       "      <td>87.000000</td>\n",
       "      <td>290.000000</td>\n",
       "      <td>40.000000</td>\n",
       "    </tr>\n",
       "  </tbody>\n",
       "</table>\n",
       "</div>"
      ],
      "text/plain": [
       "           Height      Weight  Age in 2013\n",
       "count  505.000000  505.000000   505.000000\n",
       "mean    79.065347  220.673267    26.190099\n",
       "std      3.454019   26.643110     4.325485\n",
       "min     69.000000  157.000000    15.000000\n",
       "25%     76.000000  200.000000    23.000000\n",
       "50%     80.000000  220.000000    25.000000\n",
       "75%     82.000000  240.000000    29.000000\n",
       "max     87.000000  290.000000    40.000000"
      ]
     },
     "execution_count": 103,
     "metadata": {},
     "output_type": "execute_result"
    }
   ],
   "source": [
    "data.describe()"
   ]
  },
  {
   "cell_type": "code",
   "execution_count": 104,
   "id": "0a29c5df-a54b-4fed-a5ad-d28d0cfec68b",
   "metadata": {},
   "outputs": [
    {
     "data": {
      "text/plain": [
       "pandas.core.frame.DataFrame"
      ]
     },
     "execution_count": 104,
     "metadata": {},
     "output_type": "execute_result"
    }
   ],
   "source": [
    "type(data)"
   ]
  },
  {
   "cell_type": "code",
   "execution_count": 105,
   "id": "709fee0e-5503-4e16-b1ae-6a5bd75b4193",
   "metadata": {},
   "outputs": [
    {
     "data": {
      "text/html": [
       "<div>\n",
       "<style scoped>\n",
       "    .dataframe tbody tr th:only-of-type {\n",
       "        vertical-align: middle;\n",
       "    }\n",
       "\n",
       "    .dataframe tbody tr th {\n",
       "        vertical-align: top;\n",
       "    }\n",
       "\n",
       "    .dataframe thead th {\n",
       "        text-align: right;\n",
       "    }\n",
       "</style>\n",
       "<table border=\"1\" class=\"dataframe\">\n",
       "  <thead>\n",
       "    <tr style=\"text-align: right;\">\n",
       "      <th></th>\n",
       "      <th>Name</th>\n",
       "      <th>Position</th>\n",
       "      <th>Height</th>\n",
       "      <th>Weight</th>\n",
       "      <th>Age in 2013</th>\n",
       "    </tr>\n",
       "  </thead>\n",
       "  <tbody>\n",
       "    <tr>\n",
       "      <th>0</th>\n",
       "      <td>DeQuan Jones</td>\n",
       "      <td>Guard</td>\n",
       "      <td>80</td>\n",
       "      <td>221</td>\n",
       "      <td>23</td>\n",
       "    </tr>\n",
       "    <tr>\n",
       "      <th>1</th>\n",
       "      <td>Darius Miller</td>\n",
       "      <td>Guard</td>\n",
       "      <td>80</td>\n",
       "      <td>235</td>\n",
       "      <td>23</td>\n",
       "    </tr>\n",
       "    <tr>\n",
       "      <th>2</th>\n",
       "      <td>Trevor Ariza</td>\n",
       "      <td>Guard</td>\n",
       "      <td>80</td>\n",
       "      <td>210</td>\n",
       "      <td>28</td>\n",
       "    </tr>\n",
       "    <tr>\n",
       "      <th>3</th>\n",
       "      <td>James Jones</td>\n",
       "      <td>Guard</td>\n",
       "      <td>80</td>\n",
       "      <td>215</td>\n",
       "      <td>32</td>\n",
       "    </tr>\n",
       "    <tr>\n",
       "      <th>4</th>\n",
       "      <td>Wesley Johnson</td>\n",
       "      <td>Guard</td>\n",
       "      <td>79</td>\n",
       "      <td>215</td>\n",
       "      <td>26</td>\n",
       "    </tr>\n",
       "    <tr>\n",
       "      <th>...</th>\n",
       "      <td>...</td>\n",
       "      <td>...</td>\n",
       "      <td>...</td>\n",
       "      <td>...</td>\n",
       "      <td>...</td>\n",
       "    </tr>\n",
       "    <tr>\n",
       "      <th>500</th>\n",
       "      <td>Joel Anthony</td>\n",
       "      <td>Center</td>\n",
       "      <td>81</td>\n",
       "      <td>245</td>\n",
       "      <td>31</td>\n",
       "    </tr>\n",
       "    <tr>\n",
       "      <th>501</th>\n",
       "      <td>Bismack Biyombo</td>\n",
       "      <td>Center</td>\n",
       "      <td>81</td>\n",
       "      <td>229</td>\n",
       "      <td>21</td>\n",
       "    </tr>\n",
       "    <tr>\n",
       "      <th>502</th>\n",
       "      <td>Luis Scola</td>\n",
       "      <td>Center</td>\n",
       "      <td>81</td>\n",
       "      <td>245</td>\n",
       "      <td>33</td>\n",
       "    </tr>\n",
       "    <tr>\n",
       "      <th>503</th>\n",
       "      <td>Lavoy Allen</td>\n",
       "      <td>Center</td>\n",
       "      <td>81</td>\n",
       "      <td>225</td>\n",
       "      <td>24</td>\n",
       "    </tr>\n",
       "    <tr>\n",
       "      <th>504</th>\n",
       "      <td>Boris Diaw</td>\n",
       "      <td>Center</td>\n",
       "      <td>80</td>\n",
       "      <td>235</td>\n",
       "      <td>31</td>\n",
       "    </tr>\n",
       "  </tbody>\n",
       "</table>\n",
       "<p>505 rows × 5 columns</p>\n",
       "</div>"
      ],
      "text/plain": [
       "                Name Position  Height  Weight  Age in 2013\n",
       "0       DeQuan Jones    Guard      80     221           23\n",
       "1      Darius Miller    Guard      80     235           23\n",
       "2       Trevor Ariza    Guard      80     210           28\n",
       "3        James Jones    Guard      80     215           32\n",
       "4     Wesley Johnson    Guard      79     215           26\n",
       "..               ...      ...     ...     ...          ...\n",
       "500     Joel Anthony   Center      81     245           31\n",
       "501  Bismack Biyombo   Center      81     229           21\n",
       "502       Luis Scola   Center      81     245           33\n",
       "503      Lavoy Allen   Center      81     225           24\n",
       "504       Boris Diaw   Center      80     235           31\n",
       "\n",
       "[505 rows x 5 columns]"
      ]
     },
     "execution_count": 105,
     "metadata": {},
     "output_type": "execute_result"
    }
   ],
   "source": [
    "data"
   ]
  },
  {
   "cell_type": "code",
   "execution_count": 128,
   "id": "eba0a83d-49b7-45c4-a8ba-471c5823fc70",
   "metadata": {},
   "outputs": [
    {
     "data": {
      "text/html": [
       "<div>\n",
       "<style scoped>\n",
       "    .dataframe tbody tr th:only-of-type {\n",
       "        vertical-align: middle;\n",
       "    }\n",
       "\n",
       "    .dataframe tbody tr th {\n",
       "        vertical-align: top;\n",
       "    }\n",
       "\n",
       "    .dataframe thead th {\n",
       "        text-align: right;\n",
       "    }\n",
       "</style>\n",
       "<table border=\"1\" class=\"dataframe\">\n",
       "  <thead>\n",
       "    <tr style=\"text-align: right;\">\n",
       "      <th></th>\n",
       "      <th>Name</th>\n",
       "      <th>Position</th>\n",
       "      <th>Height</th>\n",
       "      <th>Weight</th>\n",
       "      <th>Age in 2013</th>\n",
       "    </tr>\n",
       "  </thead>\n",
       "  <tbody>\n",
       "    <tr>\n",
       "      <th>452</th>\n",
       "      <td>DeMarcus Cousins</td>\n",
       "      <td>Center</td>\n",
       "      <td>83</td>\n",
       "      <td>270</td>\n",
       "      <td>23</td>\n",
       "    </tr>\n",
       "    <tr>\n",
       "      <th>405</th>\n",
       "      <td>Sam Young</td>\n",
       "      <td>Forward</td>\n",
       "      <td>78</td>\n",
       "      <td>220</td>\n",
       "      <td>28</td>\n",
       "    </tr>\n",
       "    <tr>\n",
       "      <th>373</th>\n",
       "      <td>DeJuan Blair</td>\n",
       "      <td>Forward</td>\n",
       "      <td>79</td>\n",
       "      <td>270</td>\n",
       "      <td>24</td>\n",
       "    </tr>\n",
       "    <tr>\n",
       "      <th>70</th>\n",
       "      <td>MarShon Brooks</td>\n",
       "      <td>Guard</td>\n",
       "      <td>77</td>\n",
       "      <td>200</td>\n",
       "      <td>24</td>\n",
       "    </tr>\n",
       "    <tr>\n",
       "      <th>205</th>\n",
       "      <td>Dirk Nowitzki</td>\n",
       "      <td>Forward</td>\n",
       "      <td>84</td>\n",
       "      <td>245</td>\n",
       "      <td>35</td>\n",
       "    </tr>\n",
       "  </tbody>\n",
       "</table>\n",
       "</div>"
      ],
      "text/plain": [
       "                 Name Position  Height  Weight  Age in 2013\n",
       "452  DeMarcus Cousins   Center      83     270           23\n",
       "405         Sam Young  Forward      78     220           28\n",
       "373      DeJuan Blair  Forward      79     270           24\n",
       "70     MarShon Brooks    Guard      77     200           24\n",
       "205     Dirk Nowitzki  Forward      84     245           35"
      ]
     },
     "execution_count": 128,
     "metadata": {},
     "output_type": "execute_result"
    }
   ],
   "source": [
    "# sample(data, 5)\n",
    "data.sample(5)"
   ]
  },
  {
   "cell_type": "code",
   "execution_count": 106,
   "id": "0094d783-8345-43dd-b303-cc1b4e40120b",
   "metadata": {},
   "outputs": [],
   "source": [
    "from datascience import *\n",
    "die_arr = make_array(1, 2, 3, 4, 5, 6)\n",
    "die_tbl = Table().with_column('num', die_arr)"
   ]
  },
  {
   "cell_type": "code",
   "execution_count": 107,
   "id": "261a9712-6370-4814-b16b-88fadf85bea7",
   "metadata": {},
   "outputs": [
    {
     "data": {
      "text/plain": [
       "array([1, 2, 3, 4, 5, 6])"
      ]
     },
     "execution_count": 107,
     "metadata": {},
     "output_type": "execute_result"
    }
   ],
   "source": [
    "die_arr"
   ]
  },
  {
   "cell_type": "code",
   "execution_count": 108,
   "id": "dee95e0d-0c36-4ffc-b77a-79290d3422fc",
   "metadata": {},
   "outputs": [
    {
     "data": {
      "text/html": [
       "<table border=\"1\" class=\"dataframe\">\n",
       "    <thead>\n",
       "        <tr>\n",
       "            <th>num</th>\n",
       "        </tr>\n",
       "    </thead>\n",
       "    <tbody>\n",
       "        <tr>\n",
       "            <td>1   </td>\n",
       "        </tr>\n",
       "        <tr>\n",
       "            <td>2   </td>\n",
       "        </tr>\n",
       "        <tr>\n",
       "            <td>3   </td>\n",
       "        </tr>\n",
       "        <tr>\n",
       "            <td>4   </td>\n",
       "        </tr>\n",
       "        <tr>\n",
       "            <td>5   </td>\n",
       "        </tr>\n",
       "        <tr>\n",
       "            <td>6   </td>\n",
       "        </tr>\n",
       "    </tbody>\n",
       "</table>"
      ],
      "text/plain": [
       "num\n",
       "1\n",
       "2\n",
       "3\n",
       "4\n",
       "5\n",
       "6"
      ]
     },
     "execution_count": 108,
     "metadata": {},
     "output_type": "execute_result"
    }
   ],
   "source": [
    "die_tbl"
   ]
  },
  {
   "cell_type": "code",
   "execution_count": 109,
   "id": "4601b7e0-a947-4ef4-8bbc-04084bc400ba",
   "metadata": {},
   "outputs": [
    {
     "data": {
      "text/html": [
       "<table border=\"1\" class=\"dataframe\">\n",
       "    <thead>\n",
       "        <tr>\n",
       "            <th>num</th>\n",
       "        </tr>\n",
       "    </thead>\n",
       "    <tbody>\n",
       "        <tr>\n",
       "            <td>1   </td>\n",
       "        </tr>\n",
       "        <tr>\n",
       "            <td>6   </td>\n",
       "        </tr>\n",
       "        <tr>\n",
       "            <td>1   </td>\n",
       "        </tr>\n",
       "        <tr>\n",
       "            <td>2   </td>\n",
       "        </tr>\n",
       "        <tr>\n",
       "            <td>1   </td>\n",
       "        </tr>\n",
       "        <tr>\n",
       "            <td>6   </td>\n",
       "        </tr>\n",
       "    </tbody>\n",
       "</table>"
      ],
      "text/plain": [
       "num\n",
       "1\n",
       "6\n",
       "1\n",
       "2\n",
       "1\n",
       "6"
      ]
     },
     "execution_count": 109,
     "metadata": {},
     "output_type": "execute_result"
    }
   ],
   "source": [
    "die_tbl.sample()"
   ]
  },
  {
   "cell_type": "code",
   "execution_count": 110,
   "id": "667317d2-10a3-4518-b91f-2125cec87324",
   "metadata": {},
   "outputs": [
    {
     "data": {
      "text/html": [
       "<table border=\"1\" class=\"dataframe\">\n",
       "    <thead>\n",
       "        <tr>\n",
       "            <th>num</th>\n",
       "        </tr>\n",
       "    </thead>\n",
       "    <tbody>\n",
       "        <tr>\n",
       "            <td>2   </td>\n",
       "        </tr>\n",
       "    </tbody>\n",
       "</table>"
      ],
      "text/plain": [
       "num\n",
       "2"
      ]
     },
     "execution_count": 110,
     "metadata": {},
     "output_type": "execute_result"
    }
   ],
   "source": [
    "die_tbl.sample(1)"
   ]
  },
  {
   "cell_type": "code",
   "execution_count": 111,
   "id": "53f02e33-a87a-4f31-9fb9-845a15de792f",
   "metadata": {},
   "outputs": [
    {
     "data": {
      "text/plain": [
       "array([5])"
      ]
     },
     "execution_count": 111,
     "metadata": {},
     "output_type": "execute_result"
    }
   ],
   "source": [
    "die_tbl.sample(1)[0]"
   ]
  },
  {
   "cell_type": "code",
   "execution_count": 112,
   "id": "ee29ca62-2eba-4a7f-be48-f4c3da87595c",
   "metadata": {},
   "outputs": [
    {
     "data": {
      "text/plain": [
       "2"
      ]
     },
     "execution_count": 112,
     "metadata": {},
     "output_type": "execute_result"
    }
   ],
   "source": [
    "die_tbl.sample(1)[0][0]"
   ]
  },
  {
   "cell_type": "code",
   "execution_count": 113,
   "id": "66a61a3a-2810-410d-a608-8bf3e0595598",
   "metadata": {},
   "outputs": [
    {
     "data": {
      "image/png": "[encoded data removed]",
      "text/plain": [
       "<Figure size 600x400 with 1 Axes>"
      ]
     },
     "metadata": {},
     "output_type": "display_data"
    }
   ],
   "source": [
    "import numpy as np\n",
    "import matplotlib.pyplot as plt\n",
    "%matplotlib inline\n",
    "\n",
    "rolls = make_array()\n",
    "for i in range(10000):\n",
    "    rolls = np.append(rolls, die_tbl.sample(1)[0][0])\n",
    "\n",
    "tbl = Table().with_column('roll', rolls)\n",
    "# tbl.hist()\n",
    "# tbl.hist(bins=np.arange(1, 8, 1))\n",
    "tbl.hist(bins=np.arange(0.5, 7, 1))"
   ]
  },
  {
   "cell_type": "code",
   "execution_count": 114,
   "id": "76488d51-e997-451b-90d4-25457ef8d6e7",
   "metadata": {},
   "outputs": [
    {
     "name": "stdout",
     "output_type": "stream",
     "text": [
      "10000\n"
     ]
    },
    {
     "data": {
      "text/plain": [
       "(array([ 1610.,  1662.,  1661.,  1675.,  1668.]),\n",
       " array([ 0.5,  1.5,  2.5,  3.5,  4.5,  5.5]),\n",
       " <BarContainer object of 5 artists>)"
      ]
     },
     "execution_count": 114,
     "metadata": {},
     "output_type": "execute_result"
    },
    {
     "data": {
      "image/png": "[encoded data removed]",
      "text/plain": [
       "<Figure size 640x480 with 1 Axes>"
      ]
     },
     "metadata": {},
     "output_type": "display_data"
    }
   ],
   "source": [
    "print(len(rolls))\n",
    "plt.hist(rolls, bins=np.arange(0.5, 6.5, 1))"
   ]
  },
  {
   "cell_type": "code",
   "execution_count": 115,
   "id": "4c5a48aa-ec1c-4884-a5a2-63af674be5a8",
   "metadata": {},
   "outputs": [
    {
     "data": {
      "image/png": "[encoded data removed]",
      "text/plain": [
       "<Figure size 600x400 with 1 Axes>"
      ]
     },
     "metadata": {},
     "output_type": "display_data"
    }
   ],
   "source": [
    "rolls_avg = make_array()\n",
    "rolls = make_array()\n",
    "for i in range(1000):\n",
    "    for j in range(100):\n",
    "        rolls_avg = np.mean(np.append(rolls_avg, die_tbl.sample(1)[0][0]))\n",
    "    \n",
    "    rolls = np.append(rolls, rolls_avg)\n",
    "\n",
    "# rolls.hist()    ### Tble.hist() requires a table\n",
    "tbl = Table().with_column('roll', rolls)\n",
    "tbl\n",
    "# tbl.hist()\n",
    "# tbl.hist(bins=np.arange(1, 7, 1))\n",
    "tbl.hist(bins=np.arange(0, 8, .01))\n",
    "# plt.hist(rolls)"
   ]
  },
  {
   "cell_type": "code",
   "execution_count": 116,
   "id": "5c3fbd1a-5138-429d-b872-3246256b516c",
   "metadata": {},
   "outputs": [
    {
     "data": {
      "text/plain": [
       "2.1474672926246088"
      ]
     },
     "execution_count": 116,
     "metadata": {},
     "output_type": "execute_result"
    }
   ],
   "source": [
    "# len(rolls)\n",
    "rolls_avg"
   ]
  },
  {
   "cell_type": "code",
   "execution_count": 117,
   "id": "be1c4482-0229-4ef6-a134-d56f9bdf7fd8",
   "metadata": {},
   "outputs": [
    {
     "data": {
      "text/html": [
       "<div>\n",
       "<style scoped>\n",
       "    .dataframe tbody tr th:only-of-type {\n",
       "        vertical-align: middle;\n",
       "    }\n",
       "\n",
       "    .dataframe tbody tr th {\n",
       "        vertical-align: top;\n",
       "    }\n",
       "\n",
       "    .dataframe thead th {\n",
       "        text-align: right;\n",
       "    }\n",
       "</style>\n",
       "<table border=\"1\" class=\"dataframe\">\n",
       "  <thead>\n",
       "    <tr style=\"text-align: right;\">\n",
       "      <th></th>\n",
       "      <th>roll</th>\n",
       "    </tr>\n",
       "  </thead>\n",
       "  <tbody>\n",
       "    <tr>\n",
       "      <th>count</th>\n",
       "      <td>1000.000000</td>\n",
       "    </tr>\n",
       "    <tr>\n",
       "      <th>mean</th>\n",
       "      <td>3.516911</td>\n",
       "    </tr>\n",
       "    <tr>\n",
       "      <th>std</th>\n",
       "      <td>0.978100</td>\n",
       "    </tr>\n",
       "    <tr>\n",
       "      <th>min</th>\n",
       "      <td>1.300898</td>\n",
       "    </tr>\n",
       "    <tr>\n",
       "      <th>25%</th>\n",
       "      <td>2.750137</td>\n",
       "    </tr>\n",
       "    <tr>\n",
       "      <th>50%</th>\n",
       "      <td>3.553443</td>\n",
       "    </tr>\n",
       "    <tr>\n",
       "      <th>75%</th>\n",
       "      <td>4.284814</td>\n",
       "    </tr>\n",
       "    <tr>\n",
       "      <th>max</th>\n",
       "      <td>5.833501</td>\n",
       "    </tr>\n",
       "  </tbody>\n",
       "</table>\n",
       "</div>"
      ],
      "text/plain": [
       "              roll\n",
       "count  1000.000000\n",
       "mean      3.516911\n",
       "std       0.978100\n",
       "min       1.300898\n",
       "25%       2.750137\n",
       "50%       3.553443\n",
       "75%       4.284814\n",
       "max       5.833501"
      ]
     },
     "execution_count": 117,
     "metadata": {},
     "output_type": "execute_result"
    }
   ],
   "source": [
    "tbl.to_df().describe()"
   ]
  },
  {
   "cell_type": "code",
   "execution_count": 118,
   "id": "472593cd-a819-4575-b2f6-6d70d0ab3abf",
   "metadata": {},
   "outputs": [
    {
     "data": {
      "text/html": [
       "<table border=\"1\" class=\"dataframe\">\n",
       "    <thead>\n",
       "        <tr>\n",
       "            <th>roll</th>\n",
       "        </tr>\n",
       "    </thead>\n",
       "    <tbody>\n",
       "        <tr>\n",
       "            <td>3.01153</td>\n",
       "        </tr>\n",
       "        <tr>\n",
       "            <td>3.7    </td>\n",
       "        </tr>\n",
       "        <tr>\n",
       "            <td>3.83472</td>\n",
       "        </tr>\n",
       "        <tr>\n",
       "            <td>3.4881 </td>\n",
       "        </tr>\n",
       "        <tr>\n",
       "            <td>3.82235</td>\n",
       "        </tr>\n",
       "        <tr>\n",
       "            <td>1.75129</td>\n",
       "        </tr>\n",
       "        <tr>\n",
       "            <td>3.70495</td>\n",
       "        </tr>\n",
       "        <tr>\n",
       "            <td>3.04634</td>\n",
       "        </tr>\n",
       "        <tr>\n",
       "            <td>3.26864</td>\n",
       "        </tr>\n",
       "        <tr>\n",
       "            <td>2.91616</td>\n",
       "        </tr>\n",
       "    </tbody>\n",
       "</table>\n",
       "<p>... (990 rows omitted)</p>"
      ],
      "text/plain": [
       "roll\n",
       "3.01153\n",
       "3.7\n",
       "3.83472\n",
       "3.4881\n",
       "3.82235\n",
       "1.75129\n",
       "3.70495\n",
       "3.04634\n",
       "3.26864\n",
       "2.91616\n",
       "... (990 rows omitted)"
      ]
     },
     "execution_count": 118,
     "metadata": {},
     "output_type": "execute_result"
    }
   ],
   "source": [
    "tbl"
   ]
  },
  {
   "cell_type": "code",
   "execution_count": 119,
   "id": "fc4ca970-861f-48a4-992f-b0a9c78c499b",
   "metadata": {},
   "outputs": [
    {
     "data": {
      "text/plain": [
       "3.5169107207558876"
      ]
     },
     "execution_count": 119,
     "metadata": {},
     "output_type": "execute_result"
    }
   ],
   "source": [
    "np.mean(tbl[0])"
   ]
  },
  {
   "cell_type": "code",
   "execution_count": 120,
   "id": "e72813ad-189d-4300-8238-568c1d8857d5",
   "metadata": {},
   "outputs": [
    {
     "data": {
      "text/plain": [
       "3.5"
      ]
     },
     "execution_count": 120,
     "metadata": {},
     "output_type": "execute_result"
    }
   ],
   "source": [
    "np.mean([1, 2, 3, 4, 5, 6])"
   ]
  },
  {
   "cell_type": "code",
   "execution_count": 121,
   "id": "a4c88c0e-a982-405b-bfce-fd99abac3934",
   "metadata": {},
   "outputs": [
    {
     "ename": "NameError",
     "evalue": "name 'dice' is not defined",
     "output_type": "error",
     "traceback": [
      "\u001b[0;31m---------------------------------------------------------------------------\u001b[0m",
      "\u001b[0;31mNameError\u001b[0m                                 Traceback (most recent call last)",
      "Cell \u001b[0;32mIn[121], line 1\u001b[0m\n\u001b[0;32m----> 1\u001b[0m \u001b[43mdice\u001b[49m\u001b[38;5;241m.\u001b[39msample(\u001b[38;5;241m1\u001b[39m)[\u001b[38;5;241m0\u001b[39m]\n",
      "\u001b[0;31mNameError\u001b[0m: name 'dice' is not defined"
     ]
    }
   ],
   "source": [
    "dice.sample(1)[0]"
   ]
  },
  {
   "cell_type": "code",
   "execution_count": null,
   "id": "7bbd9eac-6ce9-40d4-8ee5-e9916b41343e",
   "metadata": {},
   "outputs": [],
   "source": [
    "dice.sample(1)[0][0]"
   ]
  },
  {
   "cell_type": "code",
   "execution_count": null,
   "id": "6dcd7bb8-1d54-481d-a2df-98b06ac3e0e7",
   "metadata": {},
   "outputs": [],
   "source": [
    "dice.sample(1)[0][0]"
   ]
  },
  {
   "cell_type": "code",
   "execution_count": null,
   "id": "0e03e427-8afc-4186-9d2f-65e2f970fb0e",
   "metadata": {},
   "outputs": [],
   "source": [
    "\n",
    "import random\n",
    "\n",
    "die_py = [1, 2, 3, 4, 5, 6]\n",
    "print(random.sample(die_py, k=1))\n",
    "print(type(random.sample(die_py, k=1)))\n",
    "print(random.sample(die_py, k=1)[0])\n",
    "\n",
    "die_py_lst = []\n",
    "for i in range(10000):\n",
    "    random.sample(die_py, k=1)\n"
   ]
  },
  {
   "cell_type": "code",
   "execution_count": null,
   "id": "882de10f-1f30-43d0-b5ba-d5ddd97bea72",
   "metadata": {},
   "outputs": [],
   "source": [
    "import numpy as np\n",
    "samplesize = [2, 3]\n",
    "np.random.normal(0, 1, samplesize)"
   ]
  },
  {
   "cell_type": "code",
   "execution_count": 81,
   "id": "862bc4f3-27b4-45e1-a1db-5f481e9fbcd8",
   "metadata": {},
   "outputs": [
    {
     "data": {
      "text/plain": [
       "(28.5, 70.0)"
      ]
     },
     "execution_count": 81,
     "metadata": {},
     "output_type": "execute_result"
    },
    {
     "data": {
      "image/png": "[encoded data removed]",
      "text/plain": [
       "<Figure size 600x400 with 1 Axes>"
      ]
     },
     "metadata": {},
     "output_type": "display_data"
    }
   ],
   "source": [
    "from datascience import *\n",
    "import numpy as np\n",
    "%matplotlib inline\n",
    "\n",
    "coin = make_array('Heads', 'Tails')                 ### create the coin array \n",
    "def one_simulated_value():                          ### create the function\n",
    "    outcomes = np.random.choice(coin, 100)          ### one simulation is heads count of 100 tosses\n",
    "    return np.count_nonzero(outcomes == 'Heads')    ### only return the number of heads\n",
    "\n",
    "one_simulated_value()                               ### test if the simulation works\n",
    "\n",
    "num_repetitions = 20000                             ### number of repetitions\n",
    "heads = make_array()                                ### empty array\n",
    "\n",
    "for i in np.arange(num_repetitions):                ### loop through repetitions\n",
    "    new_value = one_simulated_value() \n",
    "    heads = np.append(heads, new_value)             ### np.append(ARR, VAL)\n",
    "\n",
    "len(heads)                                          ### check the length of the heads array\n",
    "\n",
    "simulation_results = Table().with_columns(          ### create a table of the results\n",
    "    'Repetiion', np.arange(1, num_repetitions + 1), ### this is the count\n",
    "    'Number of Heads', heads                        ### \n",
    ")\n",
    "\n",
    "min_sim = min(simulation_results['Number of Heads']) - .5\n",
    "max_sim = max(simulation_results['Number of Heads']) + 1\n",
    "\n",
    "simulation_results.hist('Number of Heads', bins = np.arange(min_sim , max_sim, 1))  \n",
    "min_sim, max_sim"
   ]
  },
  {
   "cell_type": "code",
   "execution_count": 84,
   "id": "ab2bc411-1d55-4091-8406-9e64d5bc673b",
   "metadata": {},
   "outputs": [],
   "source": [
    "tbl = Table().with_columns(\n",
    "    'a', [1, 2, 3, 4, 5],\n",
    "    'b', [6, 7, 8, 9, 10]\n",
    ")"
   ]
  },
  {
   "cell_type": "code",
   "execution_count": 85,
   "id": "316c372c-51a0-4e87-888d-4d5d157ac6f0",
   "metadata": {},
   "outputs": [
    {
     "data": {
      "text/html": [
       "<table border=\"1\" class=\"dataframe\">\n",
       "    <thead>\n",
       "        <tr>\n",
       "            <th>a</th> <th>b</th>\n",
       "        </tr>\n",
       "    </thead>\n",
       "    <tbody>\n",
       "        <tr>\n",
       "            <td>1   </td> <td>6   </td>\n",
       "        </tr>\n",
       "        <tr>\n",
       "            <td>2   </td> <td>7   </td>\n",
       "        </tr>\n",
       "        <tr>\n",
       "            <td>3   </td> <td>8   </td>\n",
       "        </tr>\n",
       "        <tr>\n",
       "            <td>4   </td> <td>9   </td>\n",
       "        </tr>\n",
       "        <tr>\n",
       "            <td>5   </td> <td>10  </td>\n",
       "        </tr>\n",
       "    </tbody>\n",
       "</table>"
      ],
      "text/plain": [
       "a    | b\n",
       "1    | 6\n",
       "2    | 7\n",
       "3    | 8\n",
       "4    | 9\n",
       "5    | 10"
      ]
     },
     "execution_count": 85,
     "metadata": {},
     "output_type": "execute_result"
    }
   ],
   "source": [
    "tbl"
   ]
  },
  {
   "cell_type": "code",
   "execution_count": 88,
   "id": "90889a33-9a3e-4e93-b2d8-715aca422e7a",
   "metadata": {},
   "outputs": [
    {
     "data": {
      "text/html": [
       "<table border=\"1\" class=\"dataframe\">\n",
       "    <thead>\n",
       "        <tr>\n",
       "            <th>a</th> <th>b</th>\n",
       "        </tr>\n",
       "    </thead>\n",
       "    <tbody>\n",
       "        <tr>\n",
       "            <td>3   </td> <td>8   </td>\n",
       "        </tr>\n",
       "        <tr>\n",
       "            <td>4   </td> <td>9   </td>\n",
       "        </tr>\n",
       "        <tr>\n",
       "            <td>3   </td> <td>8   </td>\n",
       "        </tr>\n",
       "        <tr>\n",
       "            <td>4   </td> <td>9   </td>\n",
       "        </tr>\n",
       "        <tr>\n",
       "            <td>1   </td> <td>6   </td>\n",
       "        </tr>\n",
       "    </tbody>\n",
       "</table>"
      ],
      "text/plain": [
       "a    | b\n",
       "3    | 8\n",
       "4    | 9\n",
       "3    | 8\n",
       "4    | 9\n",
       "1    | 6"
      ]
     },
     "execution_count": 88,
     "metadata": {},
     "output_type": "execute_result"
    }
   ],
   "source": [
    "tbl.sample(5)"
   ]
  },
  {
   "cell_type": "code",
   "execution_count": 35,
   "id": "8670866a-2522-40cb-9f43-246fbb8c027f",
   "metadata": {},
   "outputs": [],
   "source": [
    "names = ['Kaden Browne',\n",
    "'Tsangyao Chen',\n",
    "'Colin Craig',\n",
    "'Tony Dicampo',\n",
    "'Joshua England',\n",
    "'Haley Garrison',\n",
    "'Henry Gnann',\n",
    "'Brandon Green',\n",
    "'Terrell Heredia',\n",
    "'Christopher Holland',\n",
    "'Nicholas Huellinghoff',\n",
    "'Quinn Johnson',\n",
    "'Christopher Kenny',\n",
    "'Justin Kincaid',\n",
    "'Maxwell Klein',\n",
    "'Jamila Latimore',\n",
    "'Nina Martinez-Alvarez',\n",
    "'Jacob Meyers',\n",
    "'Anshuman Mishra',\n",
    "'Avery Mitchell',\n",
    "'Hawa Mohammadi',\n",
    "'Clair Parsons',\n",
    "'Manav Raja Vinotha',\n",
    "'Connor Shorts',\n",
    "'Harry Signaigo',\n",
    "'Mohammad Fuzail Ahamed Syed',\n",
    "'Devin Tyler',\n",
    "'Ryan Veatch']"
   ]
  },
  {
   "cell_type": "code",
   "execution_count": 36,
   "id": "a5be30f0-63e6-4f46-b1cc-b574c1d9775a",
   "metadata": {},
   "outputs": [
    {
     "name": "stdout",
     "output_type": "stream",
     "text": [
      "['Brandon Green' 'Haley Garrison' 'Nina Martinez-Alvarez']\n"
     ]
    }
   ],
   "source": [
    "import numpy as np\n",
    "print(np.random.choice(names, 3))"
   ]
  },
  {
   "cell_type": "code",
   "execution_count": null,
   "id": "f4075ed9-3b2f-470b-8aac-08f2f1821748",
   "metadata": {},
   "outputs": [],
   "source": []
  },
  {
   "cell_type": "code",
   "execution_count": null,
   "id": "ac51501e-4dff-4b3d-a77e-f71bfbf702dd",
   "metadata": {},
   "outputs": [],
   "source": []
  }
 ],
 "metadata": {
  "kernelspec": {
   "display_name": "Python 3 (ipykernel)",
   "language": "python",
   "name": "python3"
  },
  "language_info": {
   "codemirror_mode": {
    "name": "ipython",
    "version": 3
   },
   "file_extension": ".py",
   "mimetype": "text/x-python",
   "name": "python",
   "nbconvert_exporter": "python",
   "pygments_lexer": "ipython3",
   "version": "3.12.2"
  }
 },
 "nbformat": 4,
 "nbformat_minor": 5
}
