{
 "cells": [
  {
   "cell_type": "code",
   "execution_count": 31,
   "id": "3f369d68-d60f-4769-807b-08931d05eab8",
   "metadata": {},
   "outputs": [
    {
     "data": {
      "text/plain": [
       "array([1, 2, 3])"
      ]
     },
     "execution_count": 31,
     "metadata": {},
     "output_type": "execute_result"
    }
   ],
   "source": [
    "### match the data to the correct data types\n",
    "from datascience import *\n",
    "import numpy as np\n",
    "%matplotlib inline\n",
    "make_array(1, 2, 3)"
   ]
  },
  {
   "cell_type": "code",
   "execution_count": 32,
   "id": "15defd9e-fc0f-405c-976b-0d7a317f45d8",
   "metadata": {},
   "outputs": [
    {
     "data": {
      "text/plain": [
       "array([1, 2, 3])"
      ]
     },
     "execution_count": 32,
     "metadata": {},
     "output_type": "execute_result"
    }
   ],
   "source": [
    "np.array([1, 2, 3])"
   ]
  },
  {
   "cell_type": "code",
   "execution_count": 38,
   "id": "559effbc-ac4b-4e6e-8b8f-fca573428f13",
   "metadata": {},
   "outputs": [
    {
     "data": {
      "text/plain": [
       "3"
      ]
     },
     "execution_count": 38,
     "metadata": {},
     "output_type": "execute_result"
    },
    {
     "data": {
      "image/png": "[encoded data removed]",
      "text/plain": [
       "<Figure size 500x500 with 1 Axes>"
      ]
     },
     "metadata": {},
     "output_type": "display_data"
    }
   ],
   "source": [
    "tbl = Table().with_columns(\n",
    "    'x', make_array(9, 3, 3, 1),\n",
    "    'y', make_array(1, 2, 2, 10),\n",
    "    'z', make_array(3, 4, 5, 6)\n",
    ")\n",
    "# type(tbl)\n",
    "tbl.scatter('x')\n",
    "tbl.column('x')[1]"
   ]
  },
  {
   "cell_type": "code",
   "execution_count": 62,
   "id": "5de0bb97-ce93-48d7-954e-7f0a7b0683cb",
   "metadata": {},
   "outputs": [
    {
     "data": {
      "text/html": [
       "<table border=\"1\" class=\"dataframe\">\n",
       "    <thead>\n",
       "        <tr>\n",
       "            <th>Flavor</th> <th>Price</th> <th>Rating</th>\n",
       "        </tr>\n",
       "    </thead>\n",
       "    <tbody>\n",
       "        <tr>\n",
       "            <td>banana</td> <td>0.710966 </td> <td>0.483267</td>\n",
       "        </tr>\n",
       "        <tr>\n",
       "            <td>banana</td> <td>0.632748 </td> <td>0.759423</td>\n",
       "        </tr>\n",
       "        <tr>\n",
       "            <td>cherry</td> <td>0.421057 </td> <td>0.30784 </td>\n",
       "        </tr>\n",
       "        <tr>\n",
       "            <td>banana</td> <td>0.453371 </td> <td>0.373919</td>\n",
       "        </tr>\n",
       "        <tr>\n",
       "            <td>cherry</td> <td>0.108545 </td> <td>0.111188</td>\n",
       "        </tr>\n",
       "        <tr>\n",
       "            <td>banana</td> <td>0.643747 </td> <td>0.899907</td>\n",
       "        </tr>\n",
       "        <tr>\n",
       "            <td>apple </td> <td>0.0746049</td> <td>0.717684</td>\n",
       "        </tr>\n",
       "        <tr>\n",
       "            <td>apple </td> <td>0.0947637</td> <td>0.45238 </td>\n",
       "        </tr>\n",
       "        <tr>\n",
       "            <td>cherry</td> <td>0.785141 </td> <td>0.247215</td>\n",
       "        </tr>\n",
       "        <tr>\n",
       "            <td>cherry</td> <td>0.840628 </td> <td>0.339148</td>\n",
       "        </tr>\n",
       "    </tbody>\n",
       "</table>"
      ],
      "text/plain": [
       "Flavor | Price     | Rating\n",
       "banana | 0.710966  | 0.483267\n",
       "banana | 0.632748  | 0.759423\n",
       "cherry | 0.421057  | 0.30784\n",
       "banana | 0.453371  | 0.373919\n",
       "cherry | 0.108545  | 0.111188\n",
       "banana | 0.643747  | 0.899907\n",
       "apple  | 0.0746049 | 0.717684\n",
       "apple  | 0.0947637 | 0.45238\n",
       "cherry | 0.785141  | 0.247215\n",
       "cherry | 0.840628  | 0.339148"
      ]
     },
     "execution_count": 62,
     "metadata": {},
     "output_type": "execute_result"
    }
   ],
   "source": [
    "flavors = make_array('apple', 'banana', 'cherry')\n",
    "\n",
    "tbl = Table().with_columns(\n",
    "    'Flavor', np.random.choice(flavors, 10),\n",
    "    'Price', np.random.rand(10),\n",
    "    'Rating', np.random.rand(10))\n",
    "tbl"
   ]
  },
  {
   "cell_type": "code",
   "execution_count": 42,
   "id": "2282df8b-75fb-47b9-b33d-b42d0da43fe8",
   "metadata": {},
   "outputs": [
    {
     "data": {
      "text/plain": [
       "array([ 0.52258222,  0.08234132,  0.82957879])"
      ]
     },
     "execution_count": 42,
     "metadata": {},
     "output_type": "execute_result"
    }
   ],
   "source": [
    "np.random.rand(3)"
   ]
  },
  {
   "cell_type": "code",
   "execution_count": 61,
   "id": "9b7bf23e-74d4-4047-a0f7-09208406c604",
   "metadata": {},
   "outputs": [
    {
     "data": {
      "text/html": [
       "<table border=\"1\" class=\"dataframe\">\n",
       "    <thead>\n",
       "        <tr>\n",
       "            <th>Flavor</th> <th>Price</th> <th>Rating</th>\n",
       "        </tr>\n",
       "    </thead>\n",
       "    <tbody>\n",
       "        <tr>\n",
       "            <td>apple </td> <td>0.440203</td> <td>0.772212</td>\n",
       "        </tr>\n",
       "        <tr>\n",
       "            <td>banana</td> <td>0.691792</td> <td>0.90427 </td>\n",
       "        </tr>\n",
       "        <tr>\n",
       "            <td>banana</td> <td>0.190884</td> <td>0.149623</td>\n",
       "        </tr>\n",
       "        <tr>\n",
       "            <td>apple </td> <td>0.109855</td> <td>0.304805</td>\n",
       "        </tr>\n",
       "        <tr>\n",
       "            <td>cherry</td> <td>0.894584</td> <td>0.316522</td>\n",
       "        </tr>\n",
       "        <tr>\n",
       "            <td>banana</td> <td>0.551757</td> <td>0.504052</td>\n",
       "        </tr>\n",
       "        <tr>\n",
       "            <td>banana</td> <td>0.564583</td> <td>0.248525</td>\n",
       "        </tr>\n",
       "        <tr>\n",
       "            <td>banana</td> <td>0.711599</td> <td>0.948221</td>\n",
       "        </tr>\n",
       "        <tr>\n",
       "            <td>apple </td> <td>0.913326</td> <td>0.162598</td>\n",
       "        </tr>\n",
       "        <tr>\n",
       "            <td>apple </td> <td>0.787428</td> <td>0.470605</td>\n",
       "        </tr>\n",
       "    </tbody>\n",
       "</table>"
      ],
      "text/plain": [
       "Flavor | Price    | Rating\n",
       "apple  | 0.440203 | 0.772212\n",
       "banana | 0.691792 | 0.90427\n",
       "banana | 0.190884 | 0.149623\n",
       "apple  | 0.109855 | 0.304805\n",
       "cherry | 0.894584 | 0.316522\n",
       "banana | 0.551757 | 0.504052\n",
       "banana | 0.564583 | 0.248525\n",
       "banana | 0.711599 | 0.948221\n",
       "apple  | 0.913326 | 0.162598\n",
       "apple  | 0.787428 | 0.470605"
      ]
     },
     "execution_count": 61,
     "metadata": {},
     "output_type": "execute_result"
    }
   ],
   "source": [
    "import random \n",
    "\n",
    "tbl.with_columns(\n",
    "    'Flavor', np.random.choice(flavors, 10),\n",
    "    'Price', np.random.rand(10),\n",
    "    'Rating', np.random.rand(10)\n",
    ")"
   ]
  },
  {
   "cell_type": "code",
   "execution_count": 2,
   "id": "d0181d95-461e-4fc9-a8f8-a2254420ea86",
   "metadata": {},
   "outputs": [
    {
     "data": {
      "text/plain": [
       "'rd'"
      ]
     },
     "execution_count": 2,
     "metadata": {},
     "output_type": "execute_result"
    }
   ],
   "source": [
    "def disemvowel(a_string):\n",
    "    return a_string.replace(\"a\", \"\").replace(\"e\", \"\")\n",
    "\n",
    "disemvowel(\"read\")"
   ]
  },
  {
   "cell_type": "code",
   "execution_count": null,
   "id": "699b023b-d0d8-4673-8c4f-3eb8a05ccbaf",
   "metadata": {},
   "outputs": [],
   "source": []
  }
 ],
 "metadata": {
  "kernelspec": {
   "display_name": "Python 3 (ipykernel)",
   "language": "python",
   "name": "python3"
  },
  "language_info": {
   "codemirror_mode": {
    "name": "ipython",
    "version": 3
   },
   "file_extension": ".py",
   "mimetype": "text/x-python",
   "name": "python",
   "nbconvert_exporter": "python",
   "pygments_lexer": "ipython3",
   "version": "3.12.0"
  }
 },
 "nbformat": 4,
 "nbformat_minor": 5
}
