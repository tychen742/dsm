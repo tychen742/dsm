{
 "cells": [
  {
   "cell_type": "markdown",
   "id": "4c791619",
   "metadata": {},
   "source": [
    "# Homework 5: Applying Functions and Iteration"
   ]
  },
  {
   "cell_type": "markdown",
   "id": "afecf6ad-fed5-4994-acf4-a9b477d65d37",
   "metadata": {},
   "source": [
    "**Attention:**\n",
    "\n",
    "1. The noteook:\n",
    "    1. Use **Jupyter Notebook** as instructed. We do not have the resources to support <font color=\"darkred\">**Anaconda** or **VS Code**</font>. \n",
    "    2. Provide your answers in the designated spaces.\n",
    "    3. Do not reassign variables in the notebooks! For example, if you use `max_temperature` in your answer to one question, do not reassign it later on (e.g., as an intermediate variable). Otherwise, you will fail the tests that you thought you were passing previously!\n",
    "2. Grading:\n",
    "    1. Points will be scaled in Canvas.\n",
    "    2. Most \"tests\" in this assignment test the **format and data types** of your answers, not their **correctness**. Passing **100%** of the **tests** does not mean your **grade** will be 100%.\n",
    "3. Academic honor:\n",
    "    1. Academic honor is important: **DO NOT CHEAT!** \n",
    "    2. <font color='darkred'>**Use AI to LEARN, not to cheat**. **DO NOT copy-n-paste**</font>: You will be competing with people who are as good as you in AI, and you will have the competitive edge when you are one of the few who know how to do things without AI. \n",
    "    3. Collaboration and using resources are encouraged, but DO NOT directly share answers. Upon typing up answers, do it yourself. \n",
    "4. Getting help:\n",
    "    1. Come to the TA's help sessions and the instructor's office hours for help and clarification.\n",
    "    2. Text a screenshot of your technical issue to the instructor.\n",
    "    3. Emailing the instructor and the TA. (Emailing is too slow for technical problem-solving, so do not expect quick responses.)\n",
    "5. <font color=\"darkred\">**Time management**</font>: Start early in the assignment cycle and allot enough time for it."
   ]
  },
  {
   "cell_type": "markdown",
   "id": "caade36b-6579-419c-861c-6f528741728d",
   "metadata": {},
   "source": [
    "**Reference Materials**:\n",
    "- [Python Reference sp25](https://www.data8.org/sp24/reference/) or [Python Reference sp24](https://www.data8.org/sp24/reference/).\n",
    "- The [Data8 datascience Reference](https://www.data8.org/datascience/tables.html) is very helpful with **syntax and examples**. For example, the [Table Functions and Methods](https://www.data8.org/datascience/reference-nb/datascience-reference.html) and [Tables](https://www.data8.org/datascience/tables.html)\n",
    "- The data used in this lab will contain salary data and other statistics for basketball players from the 2014-2015 NBA season. This data was collected from the following sports analytic sites: [Basketball Reference](http://www.basketball-reference.com) and [Spotrac](http://www.spotrac.com).\n",
    "\n",
    "**Recommended Readings**: \n",
    "\n",
    "* [Applying Functions](https://www.inferentialthinking.com/chapters/08/1/Applying_a_Function_to_a_Column.html)\n",
    "* [Conditionals](https://www.inferentialthinking.com/chapters/09/1/Conditional_Statements.html)\n",
    "* [Iteration](https://www.inferentialthinking.com/chapters/09/2/Iteration.html)\n",
    "* [Simulations](https://introdsm.org/chapters/09/3/Simulation.html)"
   ]
  },
  {
   "cell_type": "code",
   "execution_count": 4,
   "id": "ab24a658",
   "metadata": {
    "deletable": false,
    "editable": false
   },
   "outputs": [],
   "source": [
    "# Initialize Otter\n",
    "import otter\n",
    "grader = otter.Notebook(\"hw05.ipynb\")"
   ]
  },
  {
   "cell_type": "code",
   "execution_count": 5,
   "id": "ff465f56",
   "metadata": {},
   "outputs": [],
   "source": [
    "# Run this cell to set up the notebook, but please don't change it.\n",
    "\n",
    "# These lines import the Numpy and Datascience modules.\n",
    "import numpy as np\n",
    "from datascience import *\n",
    "\n",
    "# These lines do some fancy plotting magic.\n",
    "import matplotlib\n",
    "%matplotlib inline\n",
    "import matplotlib.pyplot as plt\n",
    "plt.style.use('fivethirtyeight')\n",
    "import warnings\n",
    "warnings.simplefilter('ignore', FutureWarning)"
   ]
  },
  {
   "cell_type": "markdown",
   "id": "cdb61acb",
   "metadata": {},
   "source": [
    "## 1. 2023 Cal Football Season"
   ]
  },
  {
   "cell_type": "markdown",
   "id": "55573030",
   "metadata": {},
   "source": [
    "Jonathan and Jadyn are trying to analyze how well the Cal football team performed in the 2023 season. A football game is divided into four periods, called quarters. The number of points Cal scored in each quarter and the number of points their opponent scored in each quarter are stored in a table called `cal_fb.csv`."
   ]
  },
  {
   "cell_type": "code",
   "execution_count": 6,
   "id": "aa82ff23",
   "metadata": {
    "deletable": false,
    "editable": false
   },
   "outputs": [
    {
     "data": {
      "text/html": [
       "<table border=\"1\" class=\"dataframe\">\n",
       "    <thead>\n",
       "        <tr>\n",
       "            <th>Opponent</th> <th>Cal 1Q</th> <th>Cal 2Q</th> <th>Cal 3Q</th> <th>Cal 4Q</th> <th>Opp 1Q</th> <th>Opp 2Q</th> <th>Opp 3Q</th> <th>Opp 4Q</th>\n",
       "        </tr>\n",
       "    </thead>\n",
       "    <tbody>\n",
       "        <tr>\n",
       "            <td>North Texas     </td> <td>14    </td> <td>19    </td> <td>15    </td> <td>10    </td> <td>7     </td> <td>14    </td> <td>0     </td> <td>0     </td>\n",
       "        </tr>\n",
       "        <tr>\n",
       "            <td>Auburn          </td> <td>3     </td> <td>7     </td> <td>0     </td> <td>0     </td> <td>0     </td> <td>7     </td> <td>0     </td> <td>7     </td>\n",
       "        </tr>\n",
       "        <tr>\n",
       "            <td>Idaho           </td> <td>0     </td> <td>14    </td> <td>14    </td> <td>3     </td> <td>10    </td> <td>7     </td> <td>0     </td> <td>0     </td>\n",
       "        </tr>\n",
       "        <tr>\n",
       "            <td>Washington      </td> <td>6     </td> <td>6     </td> <td>7     </td> <td>13    </td> <td>24    </td> <td>21    </td> <td>7     </td> <td>7     </td>\n",
       "        </tr>\n",
       "        <tr>\n",
       "            <td>Arizona State   </td> <td>7     </td> <td>3     </td> <td>7     </td> <td>7     </td> <td>7     </td> <td>0     </td> <td>6     </td> <td>8     </td>\n",
       "        </tr>\n",
       "        <tr>\n",
       "            <td>Oregon State    </td> <td>0     </td> <td>17    </td> <td>15    </td> <td>8     </td> <td>7     </td> <td>14    </td> <td>14    </td> <td>17    </td>\n",
       "        </tr>\n",
       "        <tr>\n",
       "            <td>Utah            </td> <td>7     </td> <td>0     </td> <td>7     </td> <td>0     </td> <td>0     </td> <td>14    </td> <td>10    </td> <td>10    </td>\n",
       "        </tr>\n",
       "        <tr>\n",
       "            <td>USC             </td> <td>14    </td> <td>14    </td> <td>8     </td> <td>13    </td> <td>17    </td> <td>0     </td> <td>12    </td> <td>21    </td>\n",
       "        </tr>\n",
       "        <tr>\n",
       "            <td>Oregon          </td> <td>10    </td> <td>3     </td> <td>6     </td> <td>0     </td> <td>14    </td> <td>21    </td> <td>7     </td> <td>21    </td>\n",
       "        </tr>\n",
       "        <tr>\n",
       "            <td>Washington State</td> <td>14    </td> <td>14    </td> <td>0     </td> <td>14    </td> <td>7     </td> <td>14    </td> <td>3     </td> <td>15    </td>\n",
       "        </tr>\n",
       "        <tr>\n",
       "            <td>Stanford        </td> <td>7     </td> <td>7     </td> <td>7     </td> <td>6     </td> <td>3     </td> <td>3     </td> <td>9     </td> <td>0     </td>\n",
       "        </tr>\n",
       "        <tr>\n",
       "            <td>UCLA            </td> <td>6     </td> <td>14    </td> <td>0     </td> <td>13    </td> <td>0     </td> <td>7     </td> <td>0     </td> <td>0     </td>\n",
       "        </tr>\n",
       "        <tr>\n",
       "            <td>Texas Tech      </td> <td>14    </td> <td>0     </td> <td>0     </td> <td>0     </td> <td>7     </td> <td>17    </td> <td>7     </td> <td>3     </td>\n",
       "        </tr>\n",
       "    </tbody>\n",
       "</table>"
      ],
      "text/plain": [
       "<IPython.core.display.HTML object>"
      ]
     },
     "metadata": {},
     "output_type": "display_data"
    }
   ],
   "source": [
    "# Just run this cell\n",
    "# Read in the cal_fb csv file\n",
    "games = Table().read_table(\"cal_fb.csv\")\n",
    "games.show()"
   ]
  },
  {
   "cell_type": "markdown",
   "id": "9e81492c",
   "metadata": {},
   "source": [
    "Let's start by finding the total points each team scored in a game.\n",
    "\n",
    "**Question 1.** Write a function called `sum_scores`.  It should take four arguments, where each argument represents integers corresponding to the team's score for each quarter. It should return the team's total score for that game. **(2 Points)**\n",
    "\n",
    "*Hint:* Don't overthink this question!\n",
    "\n"
   ]
  },
  {
   "cell_type": "code",
   "execution_count": 7,
   "id": "0afa8196",
   "metadata": {
    "tags": []
   },
   "outputs": [
    {
     "data": {
      "text/plain": [
       "24"
      ]
     },
     "execution_count": 7,
     "metadata": {},
     "output_type": "execute_result"
    }
   ],
   "source": [
    "def sum_scores(score1, socre2, score3, socre4):\n",
    "    '''Returns the total score calculated by adding up the score of each quarter'''\n",
    "    return np.sum([score1, socre2, score3, socre4])\n",
    "    \n",
    "sum_scores(14, 7, 3, 0) #DO NOT CHANGE THIS LINE"
   ]
  },
  {
   "cell_type": "code",
   "execution_count": 8,
   "id": "db47121e",
   "metadata": {
    "deletable": false,
    "editable": false
   },
   "outputs": [
    {
     "data": {
      "text/html": [
       "<p><strong><pre style='display: inline;'>q1_1</pre></strong> passed! 🌈</p>"
      ],
      "text/plain": [
       "q1_1 results: All test cases passed!"
      ]
     },
     "execution_count": 8,
     "metadata": {},
     "output_type": "execute_result"
    }
   ],
   "source": [
    "grader.check(\"q1_1\")"
   ]
  },
  {
   "cell_type": "markdown",
   "id": "f41edbff",
   "metadata": {},
   "source": [
    "**Question 2.** Create a new table `final_scores` with three columns in this *specific* order: `Opponent`, `Cal Score`, `Opponent Score`. You will have to create the `Cal Score` and `Opponent Score` columns. Use the function `sum_scores` you just defined in the previous question for this problem. **(5 Points)**\n",
    "\n",
    "*Hint:* If you want to apply a function that takes in multiple arguments, you can pass multiple column names as arguments in `tbl.apply()`. The column values will be passed into the corresponding arguments of the function. Take a look at the Python Reference Sheet and Lecture 13's demo for syntax.\n",
    "\n",
    "*Note:* If you’re running into issues creating `final_scores`, check that `cal_scores` and `opp_scores` output what you want. If you're encountering `TypeError`s, check the [Python Reference](https://www.data8.org/sp24/reference/) to see if the inputs/outputs of the function are what you expect.\n"
   ]
  },
  {
   "cell_type": "code",
   "execution_count": 9,
   "id": "bde9ff8a-8b54-4463-8da8-41a014709eb5",
   "metadata": {},
   "outputs": [
    {
     "data": {
      "text/plain": [
       "array([58, 10, 31, 32, 24, 40, 14, 49, 19, 42, 27, 33, 14])"
      ]
     },
     "execution_count": 9,
     "metadata": {},
     "output_type": "execute_result"
    }
   ],
   "source": [
    "games.apply(sum_scores, 'Cal 1Q', 'Cal 2Q', 'Cal 3Q', 'Cal 4Q')"
   ]
  },
  {
   "cell_type": "code",
   "execution_count": 10,
   "id": "a1920b59",
   "metadata": {
    "tags": []
   },
   "outputs": [
    {
     "data": {
      "text/html": [
       "<table border=\"1\" class=\"dataframe\">\n",
       "    <thead>\n",
       "        <tr>\n",
       "            <th>Opponent</th> <th>Cal Score</th> <th>Opponent Score</th>\n",
       "        </tr>\n",
       "    </thead>\n",
       "    <tbody>\n",
       "        <tr>\n",
       "            <td>North Texas     </td> <td>58       </td> <td>21            </td>\n",
       "        </tr>\n",
       "        <tr>\n",
       "            <td>Auburn          </td> <td>10       </td> <td>14            </td>\n",
       "        </tr>\n",
       "        <tr>\n",
       "            <td>Idaho           </td> <td>31       </td> <td>17            </td>\n",
       "        </tr>\n",
       "        <tr>\n",
       "            <td>Washington      </td> <td>32       </td> <td>59            </td>\n",
       "        </tr>\n",
       "        <tr>\n",
       "            <td>Arizona State   </td> <td>24       </td> <td>21            </td>\n",
       "        </tr>\n",
       "        <tr>\n",
       "            <td>Oregon State    </td> <td>40       </td> <td>52            </td>\n",
       "        </tr>\n",
       "        <tr>\n",
       "            <td>Utah            </td> <td>14       </td> <td>34            </td>\n",
       "        </tr>\n",
       "        <tr>\n",
       "            <td>USC             </td> <td>49       </td> <td>50            </td>\n",
       "        </tr>\n",
       "        <tr>\n",
       "            <td>Oregon          </td> <td>19       </td> <td>63            </td>\n",
       "        </tr>\n",
       "        <tr>\n",
       "            <td>Washington State</td> <td>42       </td> <td>39            </td>\n",
       "        </tr>\n",
       "    </tbody>\n",
       "</table>\n",
       "<p>... (3 rows omitted)</p>"
      ],
      "text/plain": [
       "Opponent         | Cal Score | Opponent Score\n",
       "North Texas      | 58        | 21\n",
       "Auburn           | 10        | 14\n",
       "Idaho            | 31        | 17\n",
       "Washington       | 32        | 59\n",
       "Arizona State    | 24        | 21\n",
       "Oregon State     | 40        | 52\n",
       "Utah             | 14        | 34\n",
       "USC              | 49        | 50\n",
       "Oregon           | 19        | 63\n",
       "Washington State | 42        | 39\n",
       "... (3 rows omitted)"
      ]
     },
     "execution_count": 10,
     "metadata": {},
     "output_type": "execute_result"
    }
   ],
   "source": [
    "cal_scores = games.apply(sum_scores, 'Cal 1Q', 'Cal 2Q', 'Cal 3Q', 'Cal 4Q')\n",
    "opp_scores = games.apply(sum_scores, 'Opp 1Q', 'Opp 2Q', 'Opp 3Q', 'Opp 4Q')\n",
    "final_scores = Table().with_columns(\n",
    "    'Opponent', games.column('Opponent'),\n",
    "    'Cal Score', cal_scores ,\n",
    "    'Opponent Score', opp_scores\n",
    "    )\n",
    "final_scores\n",
    "\n",
    "# set(final_scores.labels) == set(['Opponent', 'Cal Score', 'Opponent Score'])\n",
    "# set(['Opponent', 'Cal Score', 'Opponent Score'])\n",
    "### {'Cal Score', 'Opponent', 'Opponent Score'}\n",
    "# set(final_scores.labels)\n",
    "### {'Cal Score', 'Oppenent', 'Opponent Score'}\n",
    "### turns out to be a type in column name"
   ]
  },
  {
   "cell_type": "code",
   "execution_count": 11,
   "id": "5f93798b-7d6d-47dc-b927-793f78a439c6",
   "metadata": {},
   "outputs": [],
   "source": [
    "# games"
   ]
  },
  {
   "cell_type": "code",
   "execution_count": 12,
   "id": "4506dae8",
   "metadata": {
    "deletable": false,
    "editable": false
   },
   "outputs": [
    {
     "data": {
      "text/html": [
       "<p><strong><pre style='display: inline;'>q1_2</pre></strong> passed! 🎉</p>"
      ],
      "text/plain": [
       "q1_2 results: All test cases passed!"
      ]
     },
     "execution_count": 12,
     "metadata": {},
     "output_type": "execute_result"
    }
   ],
   "source": [
    "grader.check(\"q1_2\")"
   ]
  },
  {
   "cell_type": "markdown",
   "id": "cb84102b",
   "metadata": {},
   "source": [
    "We can get specific row objects from a table. You can use `tbl.row(n)` to get the `n`th row of a table. `row.item(\"column_name\")` will allow you to select the element that corresponds to `column_name` in a particular row. Here's an example:"
   ]
  },
  {
   "cell_type": "code",
   "execution_count": 13,
   "id": "8e3e386e",
   "metadata": {
    "deletable": false,
    "editable": false
   },
   "outputs": [
    {
     "data": {
      "text/plain": [
       "Row(Opponent='Washington State', Cal 1Q=14, Cal 2Q=14, Cal 3Q=0, Cal 4Q=14, Opp 1Q=7, Opp 2Q=14, Opp 3Q=3, Opp 4Q=15)"
      ]
     },
     "execution_count": 13,
     "metadata": {},
     "output_type": "execute_result"
    }
   ],
   "source": [
    "# Just run this cell\n",
    "# We got the Axe!\n",
    "games.row(9) # <-- this will return a row object"
   ]
  },
  {
   "cell_type": "code",
   "execution_count": 14,
   "id": "093c6712",
   "metadata": {
    "deletable": false,
    "editable": false
   },
   "outputs": [
    {
     "data": {
      "text/plain": [
       "14"
      ]
     },
     "execution_count": 14,
     "metadata": {},
     "output_type": "execute_result"
    }
   ],
   "source": [
    "# Just run this cell\n",
    "games.row(9).item(\"Cal 4Q\") # <-- this will return a item (e.g. an int) from a row object"
   ]
  },
  {
   "cell_type": "markdown",
   "id": "88051d26",
   "metadata": {},
   "source": [
    "**Question 3.** We want to see for a particular game whether or not Cal lost. Write a function called `did_cal_lose`.  It should take one argument: a **row object** from the `final_scores` table. It should return either `True` if Cal's score was less than the Opponent's score, and `False` otherwise. **(5 Points)**\n",
    "\n",
    "*Note 1*: \"Row object\" means a row from the table extracted (behind the scenes) using `tbl.row(index)` that contains all the data for that specific row. It is **not** the index of a row. Do not try and call `final_scores.row(row)` inside of the function.\n",
    "\n",
    "*Note 2*: If you're still confused by row objects, try printing out `final_scores.row(1)` in a new cell to visually see what it looks like! This piece of code is pulling out the row object located at index 1 of the `final_scores` table and returning it. When you display it in a cell, you'll see that it is not located within a table, but is instead a standalone row object!\n",
    "\n",
    "Hint: You can use comparators like <, >, <=, >=, ==, and != to compare items from a row object\n"
   ]
  },
  {
   "cell_type": "code",
   "execution_count": 15,
   "id": "eba99f7c-6e67-45d7-b60a-ea7228ecc9e9",
   "metadata": {},
   "outputs": [],
   "source": [
    "# final_scores.row(1)\n",
    "# final_scores.row(1).item(2)\n",
    "# num = 1\n",
    "# if final_scores.row(num).item(1) < final_scores.row(num+1).item(1):\n",
    "#         print (True)\n",
    "# print(final_scores.row(num).item(1))\n",
    "# print(final_scores.row(num+1).item(1))"
   ]
  },
  {
   "cell_type": "code",
   "execution_count": 16,
   "id": "f092261f",
   "metadata": {
    "tags": []
   },
   "outputs": [
    {
     "data": {
      "text/plain": [
       "True"
      ]
     },
     "execution_count": 16,
     "metadata": {},
     "output_type": "execute_result"
    }
   ],
   "source": [
    "def did_cal_lose(the_row):\n",
    "    # print(the_row.item(2))\n",
    "    if the_row.item(1) < the_row.item(2):\n",
    "        return True\n",
    "    else:\n",
    "        return False\n",
    "        \n",
    "did_cal_lose(final_scores.row(1)) #DO NOT CHANGE THIS LINE"
   ]
  },
  {
   "cell_type": "code",
   "execution_count": 17,
   "id": "d8d4e14a",
   "metadata": {
    "deletable": false,
    "editable": false
   },
   "outputs": [
    {
     "data": {
      "text/html": [
       "<p><strong><pre style='display: inline;'>q1_3</pre></strong> passed! 🌈</p>"
      ],
      "text/plain": [
       "q1_3 results: All test cases passed!"
      ]
     },
     "execution_count": 17,
     "metadata": {},
     "output_type": "execute_result"
    }
   ],
   "source": [
    "grader.check(\"q1_3\")"
   ]
  },
  {
   "attachments": {},
   "cell_type": "markdown",
   "id": "a7d87ab5",
   "metadata": {},
   "source": [
    "**Question 4.** Jonathan and Jadyn wants to see how Cal did against every opponent during the 2023 season. Using the `final_scores` table:\n",
    "\n",
    "1. Assign `results_array` to an array of `True` and `False` values that correspond to whether or not Cal lost.\n",
    "2. Add `results_array` to the `final_scores` table in a column named `Results`, and assign this to `final_scores_with_results`.\n",
    "3. Then, respectively assign the number of wins and losses Cal had to `cal_wins` and `cal_losses`.\n",
    "\n",
    "**(10 Points)**\n",
    "\n",
    "*Hint*: `tbl.apply()` might be helpful. Refer to the [Python Reference](https://www.data8.org/sp24/reference/) if you're unsure how it works!\n"
   ]
  },
  {
   "cell_type": "code",
   "execution_count": 22,
   "id": "9d897961",
   "metadata": {
    "tags": []
   },
   "outputs": [
    {
     "name": "stdout",
     "output_type": "stream",
     "text": [
      "In the 2023 Season, Cal Football won 6 games and lost 7 games. Go Bears! 🐻\n"
     ]
    }
   ],
   "source": [
    "# results_array = games.apply(did_cal_lose)\n",
    "results_array = final_scores.apply(did_cal_lose)\n",
    "final_scores_with_results = final_scores.with_column('Results', results_array)\n",
    "cal_losses = np.count_nonzero(results_array)\n",
    "cal_wins = len(results_array) - cal_losses\n",
    "\n",
    "# Don't delete or edit the following line:\n",
    "print(f\"In the 2023 Season, Cal Football won {cal_wins} games and lost {cal_losses} games. Go Bears! 🐻\")"
   ]
  },
  {
   "cell_type": "code",
   "execution_count": 19,
   "id": "f79ebdd0",
   "metadata": {
    "deletable": false,
    "editable": false
   },
   "outputs": [
    {
     "data": {
      "text/html": [
       "<p><strong><pre style='display: inline;'>q1_4</pre></strong> passed! ✨</p>"
      ],
      "text/plain": [
       "q1_4 results: All test cases passed!"
      ]
     },
     "execution_count": 19,
     "metadata": {},
     "output_type": "execute_result"
    }
   ],
   "source": [
    "grader.check(\"q1_4\")"
   ]
  },
  {
   "cell_type": "markdown",
   "id": "6fe1a403",
   "metadata": {},
   "source": [
    "## 2. Unrolling Loops"
   ]
  },
  {
   "cell_type": "markdown",
   "id": "5a1f65a8",
   "metadata": {},
   "source": [
    "\"Unrolling\" a `for` loop means to manually write out all the code that it executes.  The result is code that does the same thing as the loop, but without the structure of the loop.  For example, for the following loop:\n",
    "\n",
    "    for num in np.arange(3):\n",
    "        print(\"The number is\", num)\n",
    "\n",
    "The unrolled version would look like this:\n",
    "\n",
    "    print(\"The number is\", 0)\n",
    "    print(\"The number is\", 1)\n",
    "    print(\"The number is\", 2)\n",
    "\n",
    "\n",
    "Unrolling a `for` loop is a great way to understand what the loop is doing during each step. In this exercise, you'll practice unrolling a `for` loop.\n",
    "\n",
    "\n",
    "In the question below, write code that does the same thing as the given code, but with any `for` loops unrolled.  It's a good idea to run both your answer and the original code to verify that they do the same thing.  (Of course, if the code does something random, you'll get a different random outcome than the original code!)"
   ]
  },
  {
   "attachments": {},
   "cell_type": "markdown",
   "id": "b8041a18",
   "metadata": {
    "deletable": false
   },
   "source": [
    "**Optional Question 1.** Unroll the code below.\n"
   ]
  },
  {
   "cell_type": "code",
   "execution_count": 20,
   "id": "e069b484",
   "metadata": {},
   "outputs": [
    {
     "name": "stdout",
     "output_type": "stream",
     "text": [
      "Knock. \n",
      "Who's there?\n",
      "Banana.\n",
      "Banana who?\n",
      "Knock. Knock. \n",
      "Who's there?\n",
      "Banana.\n",
      "Banana who?\n",
      "Knock. Knock. Knock. \n",
      "Who's there?\n",
      "Banana.\n",
      "Banana who?\n",
      "Knock, knock.\n",
      "Who's there?\n",
      "Orange.\n",
      "Orange who?\n",
      "Orange you glad I didn't say banana?\n"
     ]
    }
   ],
   "source": [
    "for joke_iteration in np.arange(3):\n",
    "    print(\"Knock. \" * (joke_iteration + 1))\n",
    "    print(\"Who's there?\")\n",
    "    print(\"Banana.\")\n",
    "    print(\"Banana who?\")\n",
    "print(\"Knock, knock.\")\n",
    "print(\"Who's there?\")\n",
    "print(\"Orange.\")\n",
    "print(\"Orange who?\")\n",
    "print(\"Orange you glad I didn't say banana?\")"
   ]
  },
  {
   "cell_type": "code",
   "execution_count": 21,
   "id": "5f3c33c9",
   "metadata": {
    "for_assignment_type": "solution",
    "tags": []
   },
   "outputs": [
    {
     "data": {
      "text/plain": [
       "Ellipsis"
      ]
     },
     "execution_count": 21,
     "metadata": {},
     "output_type": "execute_result"
    }
   ],
   "source": [
    "..."
   ]
  },
  {
   "cell_type": "markdown",
   "id": "18b3da63-0b49-4895-bff8-39f0e7de9da7",
   "metadata": {},
   "source": [
    "<p>&nbsp;</p>\n",
    "\n",
    "`Good Job! You are done with this assignment!`\n",
    "\n",
    "## Submission\n",
    "\n",
    "After you have completed the assignment, do the following to submit it:\n",
    "\n",
    "1. **Save** the notebook file (File ==> Save Notebook) (or just the Save icon)\n",
    "2. Go to the notebook menu, choose Kernel ==> **Restart Kernel and Run All Cells**.\n",
    "3. Scrolling around to make sure everything works fine without unexpected error messages. \n",
    "4. **Save** the notebook file (File ==> Save Notebook, or use the Save icon).\n",
    "5. Use the Jupyter Notebook dashboard/Homepage to create a **duplicate** of this notebook and then **rename** it from *assignment*.ipynb_**copy** (e.g., a01.ipynb_copy) to *assignment_**FIRSTNAME_LASTNAME***.ipynb (e.g., a01_TSANGYAO_CHEN.ipynb) to be graded. That way you will be able to keep your original file.\n",
    "6. **Upload** your <font color=\"blue\">*assignment_**FIRSTNAME_LASTNAME***.ipynb</font> to Canvas."
   ]
  },
  {
   "cell_type": "markdown",
   "id": "b3027290",
   "metadata": {},
   "source": [
    " "
   ]
  }
 ],
 "metadata": {
  "kernelspec": {
   "display_name": "Python 3 (ipykernel)",
   "language": "python",
   "name": "python3"
  },
  "language_info": {
   "codemirror_mode": {
    "name": "ipython",
    "version": 3
   },
   "file_extension": ".py",
   "mimetype": "text/x-python",
   "name": "python",
   "nbconvert_exporter": "python",
   "pygments_lexer": "ipython3",
   "version": "3.12.2"
  },
  "otter": {
   "OK_FORMAT": true,
   "tests": {
    "q0_1": {
     "name": "q0_1",
     "points": [
      0
     ],
     "suites": [
      {
       "cases": [
        {
         "code": ">>> # Make sure that your answer is a string\n>>> type(secret_phrase) == str \nTrue",
         "hidden": false,
         "locked": false
        }
       ],
       "scored": true,
       "setup": "",
       "teardown": "",
       "type": "doctest"
      }
     ]
    },
    "q1_1": {
     "name": "q1_1",
     "points": [
      1,
      1
     ],
     "suites": [
      {
       "cases": [
        {
         "code": ">>> sum_scores(2, 3, 6, 1)\n12",
         "hidden": false,
         "locked": false
        },
        {
         "code": ">>> sum_scores(-2,3,5,-10)\n-4",
         "hidden": false,
         "locked": false
        }
       ],
       "scored": true,
       "setup": "",
       "teardown": "",
       "type": "doctest"
      }
     ]
    },
    "q1_2": {
     "name": "q1_2",
     "points": [
      0,
      0
     ],
     "suites": [
      {
       "cases": [
        {
         "code": ">>> final_scores.num_columns\n3",
         "hidden": false,
         "locked": false
        },
        {
         "code": ">>> set(['Opponent', 'Cal Score', 'Opponent Score']) == set(final_scores.labels)\nTrue",
         "hidden": false,
         "locked": false
        }
       ],
       "scored": true,
       "setup": "",
       "teardown": "",
       "type": "doctest"
      }
     ]
    },
    "q1_3": {
     "name": "q1_3",
     "points": [
      0,
      2
     ],
     "suites": [
      {
       "cases": [
        {
         "code": ">>> 'did_cal_lose' in globals()\nTrue",
         "hidden": false,
         "locked": false
        },
        {
         "code": ">>> did_cal_lose(final_scores.row(1))\nTrue",
         "hidden": false,
         "locked": false
        }
       ],
       "scored": true,
       "setup": "",
       "teardown": "",
       "type": "doctest"
      }
     ]
    },
    "q1_4": {
     "name": "q1_4",
     "points": [
      0,
      0
     ],
     "suites": [
      {
       "cases": [
        {
         "code": ">>> 0 <= cal_wins <= 13\nTrue",
         "hidden": false,
         "locked": false
        },
        {
         "code": ">>> 0 <= cal_losses <= 13\nTrue",
         "hidden": false,
         "locked": false
        }
       ],
       "scored": true,
       "setup": "",
       "teardown": "",
       "type": "doctest"
      }
     ]
    }
   }
  }
 },
 "nbformat": 4,
 "nbformat_minor": 5
}
