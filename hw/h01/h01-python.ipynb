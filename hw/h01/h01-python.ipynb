{
 "cells": [
  {
   "cell_type": "markdown",
   "id": "07ac9365-bfe2-4eda-ac38-1447ebdf13a4",
   "metadata": {},
   "source": [
    "# h01. Python Lists, Looping, and Function"
   ]
  },
  {
   "cell_type": "markdown",
   "id": "56827610-a63f-4b30-a938-8aa1c4e83728",
   "metadata": {},
   "source": [
    "### Q01. Create a list of 5 fruits.\n",
    "- call this list \"fruits\""
   ]
  },
  {
   "cell_type": "code",
   "execution_count": null,
   "id": "7168371e-a361-4343-bfe3-e10e9cac9cea",
   "metadata": {},
   "outputs": [],
   "source": [
    "##### answer here\n",
    "\n"
   ]
  },
  {
   "cell_type": "markdown",
   "id": "503a7224-b5cb-4245-a089-b380d3c08ceb",
   "metadata": {},
   "source": [
    "### Q02. Access and print the first and last elements of your fruit list."
   ]
  },
  {
   "cell_type": "code",
   "execution_count": null,
   "id": "82fb069a-c529-416d-bbd8-7703ae9c9e83",
   "metadata": {},
   "outputs": [],
   "source": [
    "##### answer here \n",
    "\n"
   ]
  },
  {
   "cell_type": "markdown",
   "id": "ea853541-ae5e-4fd1-9d3a-d57e888f5046",
   "metadata": {},
   "source": [
    "### Q03. Add a new fruit to the end of the list \n",
    "- using the append() method.\n"
   ]
  },
  {
   "cell_type": "code",
   "execution_count": null,
   "id": "3d247c9f-6552-4961-a895-4e5a549dae99",
   "metadata": {},
   "outputs": [],
   "source": [
    "### answer here \n",
    "\n"
   ]
  },
  {
   "cell_type": "markdown",
   "id": "e562d8f5-afe8-4695-bc5b-bd8c0468319e",
   "metadata": {},
   "source": [
    "### Q04. Insert a fruit at the second position in the list."
   ]
  },
  {
   "cell_type": "code",
   "execution_count": 3,
   "id": "a5d709e1-5e30-47f6-a043-6cfd673d1c23",
   "metadata": {},
   "outputs": [],
   "source": [
    "### answer here\n",
    "\n"
   ]
  },
  {
   "cell_type": "markdown",
   "id": "0685cfc1-3b7f-4742-8d51-8d1de0c9687c",
   "metadata": {},
   "source": [
    "### Q05. Remove a specific fruit by its name \n",
    "- using the remove() method."
   ]
  },
  {
   "cell_type": "code",
   "execution_count": null,
   "id": "78756b51-35d6-4d6b-9cf7-8178ad26dfe3",
   "metadata": {},
   "outputs": [],
   "source": [
    "### answer here\n",
    "\n"
   ]
  },
  {
   "cell_type": "markdown",
   "id": "e8b2b089-591e-4571-89dc-809823046291",
   "metadata": {},
   "source": [
    "### Q06. Write a loop to iterate over the list and print each fruit in upper case.\n",
    "- using the upper() method "
   ]
  },
  {
   "cell_type": "code",
   "execution_count": null,
   "id": "aad222b3-d945-463d-8eec-985e4023036b",
   "metadata": {},
   "outputs": [],
   "source": [
    "### answer here\n",
    "\n"
   ]
  },
  {
   "cell_type": "markdown",
   "id": "b15b7f3b-820d-4419-a3db-55e845d7201c",
   "metadata": {},
   "source": [
    "### Q07. Write a for loop to count the number of the elements in the list.\n",
    "- use a \"counter\" variable\n",
    "- create a loop variable\n",
    "- use the in keyword before \"fruits\"\n",
    "- increment the counter inside the loop"
   ]
  },
  {
   "cell_type": "code",
   "execution_count": null,
   "id": "61413fa5-7f08-404d-92c8-07affeb1dc19",
   "metadata": {},
   "outputs": [],
   "source": [
    "### answer here\n",
    "\n"
   ]
  },
  {
   "cell_type": "markdown",
   "id": "4be24c42-407c-4bb3-a946-5b846ac0af81",
   "metadata": {},
   "source": [
    "### Q08. Check if 'apple' exists in the list and print a message if it does."
   ]
  },
  {
   "cell_type": "code",
   "execution_count": 5,
   "id": "78333662-23d2-4f8e-b2d8-52dac12fa0c1",
   "metadata": {},
   "outputs": [],
   "source": [
    "### answer here\n",
    "\n"
   ]
  },
  {
   "cell_type": "markdown",
   "id": "85530e4e-5c69-45ce-8aad-0100761c89db",
   "metadata": {},
   "source": [
    "### Q09. Sort the list of fruits alphabetically and then in reverse order."
   ]
  },
  {
   "cell_type": "code",
   "execution_count": 6,
   "id": "4aedb481-c686-49ca-a249-7dd65ac1c01c",
   "metadata": {},
   "outputs": [],
   "source": [
    "### answer here\n",
    "\n"
   ]
  },
  {
   "cell_type": "markdown",
   "id": "162f48ed-dbce-485b-8a86-8252c4abf6f5",
   "metadata": {},
   "source": [
    "### Q10. Design a function:\n",
    "- call it count_elements\n",
    "- with a parameter call lst (which means list)\n",
    "- when called with a list argument (this fruits list), count the number of elements in the list\n",
    "- return the number of elements in the list to the caller"
   ]
  },
  {
   "cell_type": "code",
   "execution_count": 7,
   "id": "ab73b2e7-cff1-46e9-af34-afaf408b75b4",
   "metadata": {},
   "outputs": [],
   "source": [
    "### answer here\n",
    "\n"
   ]
  }
 ],
 "metadata": {
  "kernelspec": {
   "display_name": "Python 3 (ipykernel)",
   "language": "python",
   "name": "python3"
  },
  "language_info": {
   "codemirror_mode": {
    "name": "ipython",
    "version": 3
   },
   "file_extension": ".py",
   "mimetype": "text/x-python",
   "name": "python",
   "nbconvert_exporter": "python",
   "pygments_lexer": "ipython3",
   "version": "3.12.2"
  }
 },
 "nbformat": 4,
 "nbformat_minor": 5
}
