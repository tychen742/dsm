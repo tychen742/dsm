{
 "cells": [
  {
   "cell_type": "markdown",
   "id": "d7c0d786",
   "metadata": {},
   "source": [
    "1. What is a Python list and how is it different from a tuple?\n",
    "2. How do you create a list in Python? Provide two different methods.\n",
    "3. How can you access the first and last elements of a list?\n",
    "4. How do you add an element to the end of a list?\n",
    "5. What is the difference between the append() and extend() methods?\n",
    "6. How can you remove an item from a list by value and by index?\n",
    "7. How do you iterate over a list and print each element?\n",
    "8. How can you check if a specific value exists in a list?\n",
    "9. What is list comprehension? Give an example.\n",
    "10. How can you sort a list in ascending and descending order?"
   ]
  }
 ],
 "metadata": {},
 "nbformat": 4,
 "nbformat_minor": 5
}
