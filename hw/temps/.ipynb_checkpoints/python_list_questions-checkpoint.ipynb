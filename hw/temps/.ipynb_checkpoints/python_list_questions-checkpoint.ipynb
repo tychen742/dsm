{
 "cells": [
  {
   "cell_type": "markdown",
   "id": "8f0ba0a7-2503-4ff0-9dbc-324aab98e65f",
   "metadata": {},
   "source": [
    "#1 "
   ]
  },
  {
   "cell_type": "code",
   "execution_count": null,
   "id": "b6605fc4-7df7-42e3-93b4-50edfb0cd4b6",
   "metadata": {},
   "outputs": [],
   "source": []
  },
  {
   "cell_type": "markdown",
   "id": "b4c681eb",
   "metadata": {},
   "source": [
    "1. Create a Python list containing five different fruits and print it.\n",
    "2. Access and print the first and last elements of your fruit list.\n",
    "3. Add a new fruit to the end of the list using the append() method.\n",
    "4. Insert a fruit at the second position in the list.\n",
    "5. Remove a specific fruit by its name using the remove() method.\n",
    "6. Remove the last fruit from the list using the pop() method.\n",
    "7. Write a loop to iterate over the list and print each fruit in uppercase.\n",
    "8. Check if 'apple' exists in the list and print a message if it does.\n",
    "9. Use list comprehension to create a new list containing the length of each fruit name.\n",
    "10. Sort the list of fruits alphabetically and then in reverse order."
   ]
  }
 ],
 "metadata": {
  "kernelspec": {
   "display_name": "Python 3 (ipykernel)",
   "language": "python",
   "name": "python3"
  },
  "language_info": {
   "codemirror_mode": {
    "name": "ipython",
    "version": 3
   },
   "file_extension": ".py",
   "mimetype": "text/x-python",
   "name": "python",
   "nbconvert_exporter": "python",
   "pygments_lexer": "ipython3",
   "version": "3.12.2"
  }
 },
 "nbformat": 4,
 "nbformat_minor": 5
}
