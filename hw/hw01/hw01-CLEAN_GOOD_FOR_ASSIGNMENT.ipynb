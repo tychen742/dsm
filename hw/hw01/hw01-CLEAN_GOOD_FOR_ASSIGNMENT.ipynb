{
 "cells": [
  {
   "cell_type": "markdown",
   "id": "ec96ef29-2e83-44c4-acd0-7671ec91c2c4",
   "metadata": {},
   "source": [
    "# Homework 1 (CH01/02): Data Science, Causality, and Expressions"
   ]
  },
  {
   "cell_type": "markdown",
   "id": "7c283961-5f40-4e64-af5a-3322725732c7",
   "metadata": {},
   "source": [
    "### Using Jupyter Notebook\n",
    "\n",
    "#### The Workflow\n",
    "1. **Go into your project folder**: Use a **terminal** (PowerShell for Windows and Terminal.app for macOS) & move (**cd**) into your project directory (*USERNAME*/**workspace/introdsm**)\n",
    "   1. The lab computers can be inconsistent in the virtual environment and package installation.\n",
    "   2. Bring your own device (BYOD) is strongly encouraged. \n",
    "2. **Activate the virtual environment**:\n",
    "   1. For macOS, Enter \"**source .venv/bin/activate**\" \n",
    "   2. For Windows, Enter \"**.venv\\Scripts\\activate**\" \n",
    "   3. You should see the \".venv\" prefix at your terminal prompt when the virtual environment is activated.\n",
    "3. **Launch Jupyter Notebook** by entering \"jupyter notebook\".\n",
    "4. Work on your Notebook.\n",
    "5. **Shut down Jupyter Notebook** by selecting the File menu => Shut Down.\n",
    "6. **Deactivate the virtual environment**: At your terminal, enter \"**deactivate**\".\n",
    "\n",
    "#### Installing packages: otter-grader & datascience\n",
    "1. Ideally, you should install packages using a terminal:\n",
    "   1. In a terminal, activate your virtual environment.\n",
    "   2. Enter \"pip install *PACKAGE_NAME*\" to install the package/module/ibrary. \n",
    "2. To install packages from Jupyter Notebook, for example:\n",
    "   1. Enter **```%pip install datascience```** (this will take a while, like 2 minutes)\n",
    "   2. Enter **```%pip install otter-grader```**. \n",
    "3. **Comment out** the installation line after installation is complete. "
   ]
  },
  {
   "cell_type": "code",
   "execution_count": 11,
   "id": "40d636fe-b67a-4ee7-9d0b-a8648ae8dafd",
   "metadata": {},
   "outputs": [],
   "source": [
    "## 0. .ipynb Instructions\n",
    "\n",
    "#### Activating virtual environment\n",
    "1. Go to your **terminal** (PowerShell for Windows and Terminal.app for macOS) & move (cd) into your project directory (**workspace/introdsm**)\n",
    "   1. The lab computers can be inconsistent in the virtual environment and package installation.\n",
    "   2. Bring your own device (BYOD) is strongly encouraged. \n",
    "2. Activate your virtual environment:\n",
    "   1. For macOS, Enter \"source .venv/bin/activate\" \n",
    "   2. For Windows, Enter \"./.venv/Scripts/activate\" \n",
    "   3. You should see the \".venv\" prefix at your terminal prompt when the virtual environment is activated.\n",
    "3. Launch Jupyter Notebook by entering \"jupyter notebook\" at the command line.\n",
    "4. When you are done, deactivate the virtual environment by entering \"deactivate\".\n",
    "\n",
    "#### Installing packages: otter-grader & datascience\n",
    "1. Ideally, you should install packages using a terminal:\n",
    "   1. In a terminal, activate your virtual machine.\n",
    "   2. Enter \"pip install <i>package_name</i>\" to install module/package/ibrary. \n",
    "2. To install packages in Jupyter Notebook, for example:   \n",
    "   1. type **```%pip install datascience```** and hit Enter key (this will take a while, like minutes)\n",
    "   2. type **```%pip install otter-grader```** and Enter key. \n",
    "3. Comment out the installation line after installation is done. "
   ]
  },
  {
   "attachments": {},
   "cell_type": "markdown",
   "id": "195c38c0",
   "metadata": {},
   "source": [
    "**Attention:**\n",
    "- Provide your answer in the **designated space**.\n",
    "- Do not re-assign variables in the notebooks! For example, if you use `max_temperature` in your answer to one question, do not reassign it later on. Otherwise, you will fail tests that you thought you were passing previously!\n",
    "- Most \"tests\" in this homework **test formats and data types** of your answer, not their **correctness**. When you see you are **100% passed**, it **doesn't mean your final grade will be 100%**.\n",
    "- Points may be scaled in Canvas. \n",
    "- DO NOT directly share your answers with others\n",
    "- Discussing problems with the course staff or with other students is encouraged.\n",
    "- Academic honor is important. **DO NOT cheat!**\n",
    "- Start early so that you have time to get help if you're stuck. Email/text the TA and the instructor and come to office hours and lead sessions."
   ]
  },
  {
   "attachments": {},
   "cell_type": "markdown",
   "id": "3b07daa3-1f2b-417b-a9b0-06b1ec3684b9",
   "metadata": {},
   "source": [
    "**Recommended Readings:**\n",
    "- [What is Data Science?](https://introdsm.org/chapters/01/what-is-data-science.html)\n",
    "- [Causality and Experiments](https://introdsm.org/chapters/02/causality-and-experiments.html)\n",
    "- [Programming in Python](https://introdsm.org/chapters/03/programming-in-python.html)"
   ]
  },
  {
   "cell_type": "code",
   "execution_count": 10,
   "id": "90da1c62",
   "metadata": {
    "deletable": false,
    "editable": false
   },
   "outputs": [],
   "source": [
    "# Initialize Otter\n",
    "import otter\n",
    "grader = otter.Notebook(\"hw01.ipynb\")"
   ]
  },
  {
   "cell_type": "markdown",
   "id": "8643d11e",
   "metadata": {},
   "source": [
    "## 1. Scary Arithmetic"
   ]
  },
  {
   "cell_type": "markdown",
   "id": "9da996b9",
   "metadata": {
    "deletable": false,
    "editable": false
   },
   "source": [
    "<!-- BEGIN QUESTION -->\n",
    "\n",
    "**Question 1.1** An ad for ADT Security Systems says,\n",
    "\n",
    "> \"When you go on vacation, burglars go to work [...] According to FBI statistics, over 25% of home burglaries occur between Memorial Day to Labor Day.\"\n",
    "\n",
    "Do the data in the ad support the claim that burglars are more likely to go to work during the time between Memorial Day to Labor Day? Please explain your answer. **(6 Points)**\n",
    "\n",
    "**Note:** You can assume that \"over 25%\" means only slightly over. Had it been much over, say closer to 30%, then the marketers would have said so.\n",
    "\n",
    "**Note:** Memorial Day is observed on the last Monday of May and Labor Day is observed on the first Monday of September.\n"
   ]
  },
  {
   "cell_type": "markdown",
   "id": "3e427794",
   "metadata": {},
   "source": [
    "_Type your answer here, replacing this text._"
   ]
  },
  {
   "cell_type": "markdown",
   "id": "28379c7f",
   "metadata": {
    "deletable": false,
    "editable": false
   },
   "source": [
    "<!-- END QUESTION -->\n",
    "\n",
    "## 2. Characters in Little Women\n"
   ]
  },
  {
   "cell_type": "markdown",
   "id": "970b6a8c",
   "metadata": {},
   "source": [
    "In lecture, we counted the number of times that the literary characters were named in each chapter of the classic book, [*Little Women*](https://inferentialthinking.com/chapters/01/3/1/Literary_Characters.html?highlight=little%20women). In computer science, the word \"character\" also refers to a letter, digit, space, or punctuation mark; any single element of a text. The following code generates a scatter plot in which each dot corresponds to a chapter of *Little Women*. The horizontal position of a dot measures the number of periods in the chapter. The vertical position measures the total number of characters."
   ]
  },
  {
   "cell_type": "code",
   "execution_count": 7,
   "id": "85563758",
   "metadata": {
    "scrolled": true,
    "tags": []
   },
   "outputs": [
    {
     "data": {
      "image/png": "[encoded data removed]",
      "text/plain": [
       "<Figure size 500x500 with 1 Axes>"
      ]
     },
     "metadata": {},
     "output_type": "display_data"
    }
   ],
   "source": [
    "# Just run this cell.\n",
    "\n",
    "# This cell contains code that hasn't yet been covered in the course,\n",
    "# but you should be able to interpret the scatter plot it generates.\n",
    "\n",
    "# %pip install datascience\n",
    "\n",
    "from datascience import *\n",
    "from urllib.request import urlopen\n",
    "import numpy as np\n",
    "import ssl\n",
    "context = ssl._create_unverified_context()\n",
    "%matplotlib inline\n",
    "\n",
    "\n",
    "little_women_url = 'https://www.introdsm.org/data/little_women.txt'\n",
    "chapters = urlopen(little_women_url, context=context).read().decode().split('CHAPTER ')[1:]\n",
    "text = Table().with_column('Chapters', chapters)\n",
    "Table().with_columns(\n",
    "    'Periods',    np.char.count(chapters, '.'),\n",
    "    'Characters', text.apply(len, 0)\n",
    "    ).scatter(0)"
   ]
  },
  {
   "cell_type": "markdown",
   "id": "83fa423d",
   "metadata": {
    "deletable": false,
    "editable": false
   },
   "source": [
    "**Question 1.** Around how many periods are there in the chapter with the most characters? Assign either 1, 2, 3, 4, or 5 to the name `characters_q1` below. **(4 Points)**\n",
    "\n",
    "1. 250\n",
    "2. 390\n",
    "3. 440\n",
    "4. 32,000\n",
    "5. 40,000\n",
    "\n",
    "\n",
    "**Note:** If you run into a `NameError: name 'grader' is not defined` error in the autograder cell below (and in any assignment), please re-run the first cell at the very top of this notebook!\n"
   ]
  },
  {
   "cell_type": "code",
   "execution_count": null,
   "id": "4cafda1c",
   "metadata": {
    "tags": []
   },
   "outputs": [],
   "source": [
    "characters_q1 = ..."
   ]
  },
  {
   "cell_type": "code",
   "execution_count": null,
   "id": "40a7f1aa",
   "metadata": {
    "deletable": false,
    "editable": false
   },
   "outputs": [],
   "source": [
    "grader.check(\"q2_1\")"
   ]
  },
  {
   "cell_type": "markdown",
   "id": "b471f57b",
   "metadata": {},
   "source": [
    "The test above checks that your answers are in the correct format. **This test does not check that you answered correctly**, only that you assigned a number successfully in each multiple-choice answer cell."
   ]
  },
  {
   "cell_type": "markdown",
   "id": "538a8499",
   "metadata": {
    "deletable": false,
    "editable": false
   },
   "source": [
    "**Question 2.** Which of the following chapters has the most characters per period? Assign either 1, 2, or 3 to the name `characters_q2` below. **(4 Points)**\n",
    "\n",
    "1. The chapter with about 60 periods\n",
    "2. The chapter with about 350 periods\n",
    "3. The chapter with about 440 periods\n"
   ]
  },
  {
   "cell_type": "code",
   "execution_count": null,
   "id": "66bf1747",
   "metadata": {
    "tags": []
   },
   "outputs": [],
   "source": [
    "characters_q2 = ..."
   ]
  },
  {
   "cell_type": "code",
   "execution_count": null,
   "id": "875d4f80",
   "metadata": {
    "deletable": false,
    "editable": false
   },
   "outputs": [],
   "source": [
    "grader.check(\"q2_2\")"
   ]
  },
  {
   "cell_type": "markdown",
   "id": "c94954e6",
   "metadata": {},
   "source": [
    "Again, the test above checks that your answers are in the correct format, but not that you have answered correctly."
   ]
  },
  {
   "cell_type": "markdown",
   "id": "f8fc49d3",
   "metadata": {},
   "source": [
    "To discover more interesting facts from this plot, check out [Section 1.3.2](https://inferentialthinking.com/chapters/01/3/2/Another_Kind_Of_Character.html) in the textbook."
   ]
  },
  {
   "cell_type": "markdown",
   "id": "93d4e9b2",
   "metadata": {},
   "source": [
    "## 3. Names and Assignment Statements"
   ]
  },
  {
   "cell_type": "markdown",
   "id": "49a04a4b",
   "metadata": {},
   "source": [
    "**Question 1.** When you run the following cell, Python produces a cryptic error message."
   ]
  },
  {
   "cell_type": "code",
   "execution_count": null,
   "id": "29276114",
   "metadata": {
    "tags": [
     "raises-exception"
    ]
   },
   "outputs": [],
   "source": [
    "4 = 2 + 2"
   ]
  },
  {
   "cell_type": "markdown",
   "id": "5961954d",
   "metadata": {
    "deletable": false,
    "editable": false
   },
   "source": [
    "Choose the best explanation of what's wrong with the code, and then assign 1, 2, 3, or 4 to `names_q1` below to indicate your answer. **(4 Points)**\n",
    "\n",
    "1. Python is smart and already knows `4 = 2 + 2`.\n",
    "\n",
    "2. In Python, it's a rule that the `=` sign must have a variable name to its left, and `4` isn't a variable name.\n",
    "\n",
    "3. It should be `2 + 2 = 4`.\n",
    "\n",
    "4. I don't get an error message. This is a trick question.\n"
   ]
  },
  {
   "cell_type": "code",
   "execution_count": null,
   "id": "cc70b03c",
   "metadata": {
    "tags": []
   },
   "outputs": [],
   "source": [
    "names_q1 = ..."
   ]
  },
  {
   "cell_type": "code",
   "execution_count": null,
   "id": "d61f0d6d",
   "metadata": {
    "deletable": false,
    "editable": false
   },
   "outputs": [],
   "source": [
    "grader.check(\"q3_1\")"
   ]
  },
  {
   "cell_type": "markdown",
   "id": "3815c211",
   "metadata": {},
   "source": [
    "**Question 2.** When you run the following cell, Python will produce another cryptic error message."
   ]
  },
  {
   "cell_type": "code",
   "execution_count": null,
   "id": "e1de551e",
   "metadata": {
    "tags": [
     "raises-exception"
    ]
   },
   "outputs": [],
   "source": [
    "two = 3\n",
    "six = two plus two"
   ]
  },
  {
   "cell_type": "markdown",
   "id": "23f83916",
   "metadata": {
    "deletable": false,
    "editable": false
   },
   "source": [
    "Choose the best explanation of what's wrong with the code and assign 1, 2, 3, or 4 to `names_q2` below to indicate your answer. **(4 Points)**\n",
    "\n",
    "1. The `plus` operation only applies to numbers, not the word \"two\".\n",
    "\n",
    "2. The name \"two\" cannot be assigned to the number 3.\n",
    "\n",
    "3. Two plus two is four, not six.\n",
    "\n",
    "4. The name `plus` isn't a built-in operator; instead, addition uses `+`.\n"
   ]
  },
  {
   "cell_type": "code",
   "execution_count": null,
   "id": "4f0ddd0c",
   "metadata": {
    "tags": []
   },
   "outputs": [],
   "source": [
    "names_q2 = ..."
   ]
  },
  {
   "cell_type": "code",
   "execution_count": null,
   "id": "620831b4",
   "metadata": {
    "deletable": false,
    "editable": false
   },
   "outputs": [],
   "source": [
    "grader.check(\"q3_2\")"
   ]
  },
  {
   "cell_type": "markdown",
   "id": "8c0553c6",
   "metadata": {},
   "source": [
    "**Question 3.** Run the following cell."
   ]
  },
  {
   "cell_type": "code",
   "execution_count": null,
   "id": "8dbe3816",
   "metadata": {
    "tags": [
     "raises-exception"
    ]
   },
   "outputs": [],
   "source": [
    "x = 2\n",
    "y = 3 * x\n",
    "x = 4"
   ]
  },
  {
   "cell_type": "markdown",
   "id": "34e40429",
   "metadata": {
    "deletable": false,
    "editable": false
   },
   "source": [
    "What is `y` after running this cell, and why? Choose the best explanation and assign 1, 2, 3, or 4 to `names_q3` below to indicate your answer. **(4 Points)**\n",
    "\n",
    "1. `y` is equal to 6, because the second `x = 4` has no effect since `x` was already defined.\n",
    "\n",
    "2. `y` is equal to 6, because `x` was 2 when `y` was assigned, and 3 * 2 is 6.\n",
    "\n",
    "3. `y` is equal to 12, because `x` is 4 and 3 * 4 is 12.\n",
    "\n",
    "4. `y` is equal to 12, because assigning `x` to 4 will update `y` to 12 since `y` was defined in terms of `x`.\n"
   ]
  },
  {
   "cell_type": "code",
   "execution_count": null,
   "id": "07ca4a0d",
   "metadata": {
    "tags": []
   },
   "outputs": [],
   "source": [
    "names_q3 = ..."
   ]
  },
  {
   "cell_type": "code",
   "execution_count": null,
   "id": "a8a60623",
   "metadata": {
    "deletable": false,
    "editable": false
   },
   "outputs": [],
   "source": [
    "grader.check(\"q3_3\")"
   ]
  },
  {
   "cell_type": "markdown",
   "id": "a4cd33dd",
   "metadata": {},
   "source": [
    "## 4. Differences Between Majors"
   ]
  },
  {
   "cell_type": "markdown",
   "id": "db45cfb8",
   "metadata": {},
   "source": [
    "Berkeley’s Office of Planning and Analysis (OPA) provides data on numerous aspects of the campus. Adapted from the OPA website, the table below displays the number of degree recipients in three majors in the 2008-2009 and 2017-2018 academic years.\n",
    "\n",
    "| Major                              | 2008-2009    | 2017-2018   |\n",
    "|------------------------------------|--------------|-------------|\n",
    "| Gender and Women's Studies         |      17      |    28       |\n",
    "| Linguistics                        |      49      |    67       |\n",
    "| Rhetoric                           |      113     |    56       |\n",
    "\n"
   ]
  },
  {
   "cell_type": "markdown",
   "id": "f8548598",
   "metadata": {
    "deletable": false,
    "editable": false
   },
   "source": [
    "**Question 1.** Suppose you want to find the **biggest** absolute difference between the number of degree recipients in the two years, among the three majors.\n",
    "\n",
    "In the cell below, compute this value and call it `biggest_change`. Use a single expression (a single line of code) to compute the answer. Let Python perform all the arithmetic (like subtracting 49 from 67) rather than simplifying the expression yourself. The built-in `abs` function takes a numerical input and returns the absolute value. The built-in `max` function can take in 3 arguments and returns the maximum of the three numbers. **(5 Points)**\n"
   ]
  },
  {
   "cell_type": "code",
   "execution_count": null,
   "id": "a5c2df07",
   "metadata": {
    "deletable": false,
    "tags": []
   },
   "outputs": [],
   "source": [
    "biggest_change = ...\n",
    "biggest_change"
   ]
  },
  {
   "cell_type": "code",
   "execution_count": null,
   "id": "3b2a832b",
   "metadata": {
    "deletable": false,
    "editable": false
   },
   "outputs": [],
   "source": [
    "grader.check(\"q4_1\")"
   ]
  },
  {
   "cell_type": "markdown",
   "id": "e22a4cfa",
   "metadata": {
    "deletable": false,
    "editable": false
   },
   "source": [
    "**Question 2.** Which of the three majors had the **smallest** absolute difference? Assign `smallest_change_major` to 1, 2, or 3 where each number corresponds to the following major:\n",
    "\n",
    "1. Gender and Women's Studies  \n",
    "2. Linguistics  \n",
    "3. Rhetoric\n",
    "\n",
    "Choose the number that corresponds to the major with the smallest absolute difference. **(4 Points)** \n",
    "\n",
    "_Hint:_ You should be able to answer by rough mental arithmetic, without having to calculate the exact value for each major.\n"
   ]
  },
  {
   "cell_type": "code",
   "execution_count": null,
   "id": "b0d672c0",
   "metadata": {
    "deletable": false,
    "tags": []
   },
   "outputs": [],
   "source": [
    "smallest_change_major = ...\n",
    "smallest_change_major"
   ]
  },
  {
   "cell_type": "code",
   "execution_count": null,
   "id": "7682f960",
   "metadata": {
    "deletable": false,
    "editable": false
   },
   "outputs": [],
   "source": [
    "grader.check(\"q4_2\")"
   ]
  },
  {
   "cell_type": "markdown",
   "id": "82dff6f2",
   "metadata": {
    "deletable": false,
    "editable": false
   },
   "source": [
    "**Question 3.**  For each major, define the “relative change” to be the following: $\\large{\\frac{\\text{absolute difference}}{\\text{value in 2008-2009}} * 100}$ \n",
    "\n",
    "Fill in the code below such that `gws_relative_change`, `linguistics_relative_change` and `rhetoric_relative_change` are assigned to the relative changes for their respective majors. **(5 Points)**\n"
   ]
  },
  {
   "cell_type": "code",
   "execution_count": null,
   "id": "07955873",
   "metadata": {
    "deletable": false,
    "for_assignment_type": "student",
    "tags": []
   },
   "outputs": [],
   "source": [
    "gws_relative_change = (abs(...) / 17) * 100\n",
    "linguistics_relative_change = ...\n",
    "rhetoric_relative_change = ...\n",
    "gws_relative_change, linguistics_relative_change, rhetoric_relative_change"
   ]
  },
  {
   "cell_type": "code",
   "execution_count": null,
   "id": "a9de8c7e",
   "metadata": {
    "deletable": false,
    "editable": false
   },
   "outputs": [],
   "source": [
    "grader.check(\"q4_3\")"
   ]
  },
  {
   "cell_type": "markdown",
   "id": "15ebd0e6",
   "metadata": {
    "deletable": false,
    "editable": false
   },
   "source": [
    "**Question 4.** Assign `biggest_rel_change_major` to 1, 2, or 3 where each number corresponds to to the following: \n",
    "\n",
    "1. Gender and Women's Studies  \n",
    "2. Linguistics  \n",
    "3. Rhetoric\n",
    "\n",
    "Choose the number that corresponds to the major with the biggest relative change. **(4 Points)**\n"
   ]
  },
  {
   "cell_type": "code",
   "execution_count": null,
   "id": "588f23f4",
   "metadata": {
    "deletable": false,
    "tags": []
   },
   "outputs": [],
   "source": [
    "biggest_rel_change_major = ...\n",
    "biggest_rel_change_major"
   ]
  },
  {
   "cell_type": "code",
   "execution_count": null,
   "id": "2310291b",
   "metadata": {
    "deletable": false,
    "editable": false
   },
   "outputs": [],
   "source": [
    "grader.check(\"q4_4\")"
   ]
  },
  {
   "cell_type": "markdown",
   "id": "eb742f45",
   "metadata": {
    "deletable": false,
    "editable": false,
    "jp-MarkdownHeadingCollapsed": true
   },
   "source": [
    "## Submission\n",
    "\n",
    "After you have completed the assignment, do the following to submit it:\n",
    "\n",
    "1. **Save** the notebook file (File ==> Save Notebook) (or the Save icon)\n",
    "2. Go to the notebook menu, choose Kernel ==> **Restart Kernel and Run All Cells**.\n",
    "3. Make sure everything is fine. \n",
    "4. **Save** the notebook file (File ==> Save Notebook)\n",
    "5. Use the Juypter Notebook dashboard to create a **duplicate** of the file and then **rename** it from hw01.ipynb_copy to **hw01_FIRSTNAME_LASTNAME**.ipynb to be graded. That way you will be able to keep your original file. \n",
    "6. **Upload** the file to Canvas."
   ]
  }
 ],
 "metadata": {
  "kernelspec": {
   "display_name": "Python 3 (ipykernel)",
   "language": "python",
   "name": "python3"
  },
  "language_info": {
   "codemirror_mode": {
    "name": "ipython",
    "version": 3
   },
   "file_extension": ".py",
   "mimetype": "text/x-python",
   "name": "python",
   "nbconvert_exporter": "python",
   "pygments_lexer": "ipython3",
   "version": "3.12.2"
  },
  "otter": {
   "OK_FORMAT": true,
   "tests": {
    "q2_1": {
     "name": "q2_1",
     "points": [
      0
     ],
     "suites": [
      {
       "cases": [
        {
         "code": ">>> 1 <= characters_q1 <= 5\nTrue",
         "hidden": false,
         "locked": false
        }
       ],
       "scored": true,
       "setup": "",
       "teardown": "",
       "type": "doctest"
      }
     ]
    },
    "q2_2": {
     "name": "q2_2",
     "points": [
      0
     ],
     "suites": [
      {
       "cases": [
        {
         "code": ">>> 1 <= characters_q2 <= 3\nTrue",
         "hidden": false,
         "locked": false
        }
       ],
       "scored": true,
       "setup": "",
       "teardown": "",
       "type": "doctest"
      }
     ]
    },
    "q3_1": {
     "name": "q3_1",
     "points": [
      0
     ],
     "suites": [
      {
       "cases": [
        {
         "code": ">>> 1 <= names_q1 <= 4\nTrue",
         "hidden": false,
         "locked": false
        }
       ],
       "scored": true,
       "setup": "",
       "teardown": "",
       "type": "doctest"
      }
     ]
    },
    "q3_2": {
     "name": "q3_2",
     "points": [
      0
     ],
     "suites": [
      {
       "cases": [
        {
         "code": ">>> 1 <= names_q2 <= 4\nTrue",
         "hidden": false,
         "locked": false
        }
       ],
       "scored": true,
       "setup": "",
       "teardown": "",
       "type": "doctest"
      }
     ]
    },
    "q3_3": {
     "name": "q3_3",
     "points": [
      0
     ],
     "suites": [
      {
       "cases": [
        {
         "code": ">>> 1 <= names_q3 <= 4\nTrue",
         "hidden": false,
         "locked": false
        }
       ],
       "scored": true,
       "setup": "",
       "teardown": "",
       "type": "doctest"
      }
     ]
    },
    "q4_1": {
     "name": "q4_1",
     "points": [
      0
     ],
     "suites": [
      {
       "cases": [
        {
         "code": ">>> isinstance(biggest_change, (int, float))\nTrue",
         "hidden": false,
         "locked": false
        }
       ],
       "scored": true,
       "setup": "",
       "teardown": "",
       "type": "doctest"
      }
     ]
    },
    "q4_2": {
     "name": "q4_2",
     "points": [
      0,
      0
     ],
     "suites": [
      {
       "cases": [
        {
         "code": ">>> isinstance(smallest_change_major, (int, float))\nTrue",
         "hidden": false,
         "locked": false
        },
        {
         "code": ">>> 1 <= smallest_change_major <= 3\nTrue",
         "hidden": false,
         "locked": false
        }
       ],
       "scored": true,
       "setup": "",
       "teardown": "",
       "type": "doctest"
      }
     ]
    },
    "q4_3": {
     "name": "q4_3",
     "points": [
      0,
      0,
      0
     ],
     "suites": [
      {
       "cases": [
        {
         "code": ">>> isinstance(gws_relative_change, (int, float))\nTrue",
         "hidden": false,
         "locked": false
        },
        {
         "code": ">>> isinstance(linguistics_relative_change, (int, float))\nTrue",
         "hidden": false,
         "locked": false
        },
        {
         "code": ">>> isinstance(rhetoric_relative_change, (int, float))\nTrue",
         "hidden": false,
         "locked": false
        }
       ],
       "scored": true,
       "setup": "",
       "teardown": "",
       "type": "doctest"
      }
     ]
    },
    "q4_4": {
     "name": "q4_4",
     "points": [
      0,
      0
     ],
     "suites": [
      {
       "cases": [
        {
         "code": ">>> isinstance(biggest_rel_change_major, (int, float))\nTrue",
         "hidden": false,
         "locked": false
        },
        {
         "code": ">>> 1 <= biggest_rel_change_major <= 3\nTrue",
         "hidden": false,
         "locked": false
        }
       ],
       "scored": true,
       "setup": "",
       "teardown": "",
       "type": "doctest"
      }
     ]
    },
    "q6_1": {
     "name": "q6_1",
     "points": [
      0
     ],
     "suites": [
      {
       "cases": [
        {
         "code": ">>> 1 <= survivor_answer <= 3\nTrue",
         "hidden": false,
         "locked": false
        }
       ],
       "scored": true,
       "setup": "",
       "teardown": "",
       "type": "doctest"
      }
     ]
    },
    "q7_1": {
     "name": "q7_1",
     "points": [
      4
     ],
     "suites": [
      {
       "cases": [
        {
         "code": ">>> contact == 3\nTrue",
         "hidden": false,
         "locked": false
        }
       ],
       "scored": true,
       "setup": "",
       "teardown": "",
       "type": "doctest"
      }
     ]
    },
    "q7_2": {
     "name": "q7_2",
     "points": [
      4
     ],
     "suites": [
      {
       "cases": [
        {
         "code": ">>> grades == 2\nTrue",
         "hidden": false,
         "locked": false
        }
       ],
       "scored": true,
       "setup": "",
       "teardown": "",
       "type": "doctest"
      }
     ]
    },
    "q7_3": {
     "name": "q7_3",
     "points": [
      4
     ],
     "suites": [
      {
       "cases": [
        {
         "code": ">>> regrade == 2\nTrue",
         "hidden": false,
         "locked": false
        }
       ],
       "scored": true,
       "setup": "",
       "teardown": "",
       "type": "doctest"
      }
     ]
    },
    "q7_4": {
     "name": "q7_4",
     "points": [
      4
     ],
     "suites": [
      {
       "cases": [
        {
         "code": ">>> gradescope == 576157\nTrue",
         "hidden": false,
         "locked": false
        }
       ],
       "scored": true,
       "setup": "",
       "teardown": "",
       "type": "doctest"
      }
     ]
    },
    "q7_5": {
     "name": "q7_5",
     "points": [
      4
     ],
     "suites": [
      {
       "cases": [
        {
         "code": ">>> acceptable == 2\nTrue",
         "hidden": false,
         "locked": false
        }
       ],
       "scored": true,
       "setup": "",
       "teardown": "",
       "type": "doctest"
      }
     ]
    },
    "q7_6": {
     "name": "q7_6",
     "points": [
      4
     ],
     "suites": [
      {
       "cases": [
        {
         "code": ">>> drops == 2\nTrue",
         "hidden": false,
         "locked": false
        }
       ],
       "scored": true,
       "setup": "",
       "teardown": "",
       "type": "doctest"
      }
     ]
    },
    "q7_7": {
     "name": "q7_7",
     "points": [
      3
     ],
     "suites": [
      {
       "cases": [
        {
         "code": ">>> exams == 2\nTrue",
         "hidden": false,
         "locked": false
        }
       ],
       "scored": true,
       "setup": "",
       "teardown": "",
       "type": "doctest"
      }
     ]
    },
    "q7_8": {
     "name": "q7_8",
     "points": [
      0,
      0
     ],
     "suites": [
      {
       "cases": [
        {
         "code": ">>> type(secret) == str\nTrue",
         "hidden": false,
         "locked": false
        },
        {
         "code": ">>> len(secret)\n8",
         "hidden": false,
         "locked": false
        }
       ],
       "scored": true,
       "setup": "",
       "teardown": "",
       "type": "doctest"
      }
     ]
    },
    "q8_1": {
     "name": "q8_1",
     "points": [
      1
     ],
     "suites": [
      {
       "cases": [
        {
         "code": ">>> survey == 'data8 is data gr8'\nTrue",
         "hidden": false,
         "locked": false
        }
       ],
       "scored": true,
       "setup": "",
       "teardown": "",
       "type": "doctest"
      }
     ]
    }
   }
  }
 },
 "nbformat": 4,
 "nbformat_minor": 5
}
