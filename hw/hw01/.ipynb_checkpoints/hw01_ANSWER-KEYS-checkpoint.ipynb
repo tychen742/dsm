{
 "cells": [
  {
   "cell_type": "markdown",
   "id": "5dfe74aa-04c6-47c7-a4ab-7000dec0410b",
   "metadata": {},
   "source": [
    "# Homework (hw01) Instructions"
   ]
  },
  {
   "cell_type": "markdown",
   "id": "7423a2ef-2a21-45b0-bb7b-0de072f24550",
   "metadata": {},
   "source": [
    "# .ipynb Instructions\n",
    "\n",
    "#### Activating virtual environment\n",
    "1. Go to your **terminal** (PowerShell for Windows and Terminal.app for macOS) & move (cd) into your project directory (**workspace/introdsm**)\n",
    "   1. The lab computers can be inconsistent in the virtual environment and package installation.\n",
    "   2. Bring your own device (BYOD) is strongly encouraged. \n",
    "2. Activate your virtual environment:\n",
    "   1. For macOS, Enter \"source .venv/bin/activate\" \n",
    "   2. For Windows, Enter \"./.venv/Scripts/activate\" \n",
    "   3. You should see the \".venv\" prefix at your terminal prompt when the virtual environment is activated.\n",
    "3. Launch Jupyter Notebook by entering \"jupyter notebook\" at the command line.\n",
    "4. When you are done, deactivate the virtual environment by entering \"deactivate\".\n",
    "\n",
    "#### Installing packages: otter-grader & datascience\n",
    "1. Ideally, you should install packages using a terminal:\n",
    "   1. In a terminal, activate your virtual machine.\n",
    "   2. Enter \"pip install <i>package_name</i>\" to install module/package/ibrary. \n",
    "2. To install packages in Jupyter Notebook, for example:   \n",
    "   1. type **```%pip install datascience```** and hit Enter key (this will take a while, like minutes)\n",
    "   2. type **```%pip install otter-grader```** and Enter key. \n",
    "3. Comment out the installation line after installation is done. "
   ]
  },
  {
   "cell_type": "code",
   "execution_count": 2,
   "id": "429ad1cf-1490-4068-8c47-82c3134359da",
   "metadata": {},
   "outputs": [],
   "source": [
    "########## Install required modules here datascience, otter-grade ##### \n",
    "########## You may uncomment and run the following installatio none-by-one\n",
    "# %pip install datascience\n",
    "# %pip install otter-grader\n",
    "########## Remove or comment out (using #) the installation commands after done #####\n",
    "########## You may see many lines when installing\n",
    "########## When installation is done, you will see a message at the very end of the lines: \"Note: you may need to restart the kernel to use updated packages.\"\n",
    "########## Go to Kernal ==> Restart Kernal and Clear Outputs of All Cells"
   ]
  },
  {
   "cell_type": "code",
   "execution_count": 11,
   "id": "bf866497-b8b0-42cf-828e-3a23795455d1",
   "metadata": {},
   "outputs": [],
   "source": [
    "########## Initialize Grader: Checks Format ######\n",
    "import otter\n",
    "from datascience import *\n",
    "import numpy as np\n",
    "import ssl    ### this is for downloading the online books\n",
    "\n",
    "context = ssl._create_unverified_context()\n",
    "grader = otter.Notebook(\"hw01.ipynb\")\n"
   ]
  },
  {
   "cell_type": "markdown",
   "id": "814fa454-2c3e-4408-9358-1de1959c3915",
   "metadata": {},
   "source": [
    "# Homework 01 (CH01/02): Data Science and Causality\n",
    "\n",
    "Please complete this notebook by filling in the cells provided. Before you begin, run the previous cell to load the provided tests."
   ]
  },
  {
   "cell_type": "markdown",
   "id": "7131f147-e852-42eb-904f-4ed48be8ee03",
   "metadata": {},
   "source": [
    "**Recommended Readings:**\n",
    "\n",
    "- [What is Data Science?](https://introdsm.org/chapters/01/what-is-data-science.html)\n",
    "- [Causality and Experiments](https://introdsm.org/chapters/02/causality-and-experiments.html) \n",
    "\n",
    "**Attention:**\n",
    "- You **must** provide your answer in the designated space.\n",
    "- Do not re-assign variables in the notebooks! For example, if you use `max_temperature` in your answer to one question, do not reassign it later on. Otherwise, you will fail tests that you thought you were passing previously!\n",
    "- Most \"tests\" in this homework **test formats and data types of your answer**, not the **correctness of the answers**. When you see you are **100% passed**, it **doesn't mean your final grade will be 100%**.\n",
    "- DO NOT directly share your answers with others\n",
    "- Discussing problems with the course staff or with other students is encouraged.\n",
    "- Academic honor is important. DO NOT cheat!\n",
    "- Start early so that you have time to get help if you're stuck. Email/text the TA and the instructor and come to office hours and lead sessions. "
   ]
  },
  {
   "cell_type": "markdown",
   "id": "a5e030f5-f497-4d5f-9a5c-9650b898b114",
   "metadata": {},
   "source": [
    "## 1. Scary Arithmetic"
   ]
  },
  {
   "cell_type": "markdown",
   "id": "59fe3921-db7b-424f-8f62-85c6bbc6b643",
   "metadata": {},
   "source": [
    "<!-- BEGIN QUESTION -->\n",
    "\n",
    "**Question 1.1** An ad for ADT Security Systems says,\n",
    "\n",
    "> \"When you go on vacation, burglars go to work [...] According to FBI statistics, over 25% of home burglaries occur between Memorial Day to Labor Day.\"\n",
    "\n",
    "Do the data in the ad support the claim that burglars are more likely to go to work during the time between Memorial Day to Labor Day? Please explain your answer. **(2 Points)**\n",
    "\n",
    "**Note:** You can assume that \"over 25%\" means only slightly over. Had it been much over, say closer to 30%, then the marketers would have said so.\n",
    "\n",
    "**Note:** Memorial Day is observed on the last Monday of May and Labor Day is observed on the first Monday of September."
   ]
  },
  {
   "cell_type": "markdown",
   "id": "ccefec4a-add9-48b5-9963-2abbd5a6a70f",
   "metadata": {},
   "source": [
    "_Type your answer here, replacing this text._"
   ]
  },
  {
   "cell_type": "markdown",
   "id": "68792f0b-4070-423a-803b-729cfa70b239",
   "metadata": {},
   "source": [
    "<!-- END QUESTION -->\n",
    "\n",
    "## 2. Characters in Little Women\n"
   ]
  },
  {
   "cell_type": "markdown",
   "id": "807128d3-264c-48b9-ac2e-ffdcdc2ac342",
   "metadata": {},
   "source": [
    "In lecture, we counted the number of times that the literary characters were named in each chapter of the classic book, [*Little Women*](https://introdsm.org/chapters/01/3/1/Literary_Characters.html?highlight=little%20women). In computer science, the word \"character\" also refers to a letter, digit, space, or punctuation mark; any single element of a text. The following code generates a scatter plot in which each dot corresponds to a chapter of *Little Women*. The horizontal position of a dot measures the number of periods in the chapter. The vertical position measures the total number of characters."
   ]
  },
  {
   "cell_type": "code",
   "execution_count": 4,
   "id": "b1e89ab0-788f-4ba8-94c4-9df9600c9b1f",
   "metadata": {},
   "outputs": [
    {
     "data": {
      "image/png": "[encoded data removed]",
      "text/plain": [
       "<Figure size 500x500 with 1 Axes>"
      ]
     },
     "metadata": {},
     "output_type": "display_data"
    }
   ],
   "source": [
    "# Just run this cell.\n",
    "\n",
    "# This cell contains code that hasn't yet been covered in the course,\n",
    "# but you should be able to interpret the scatter plot it generates.\n",
    "\n",
    "from datascience import *\n",
    "from urllib.request import urlopen\n",
    "import numpy as np\n",
    "import ssl\n",
    "context = ssl._create_unverified_context()\n",
    "%matplotlib inline\n",
    "\n",
    "little_women_url = 'https://www.introdsm.org/data/little_women.txt'\n",
    "chapters = urlopen(little_women_url, context=context).read().decode().split('CHAPTER ')[1:]\n",
    "text = Table().with_column('Chapters', chapters)\n",
    "Table().with_columns(\n",
    "    'Periods',    np.char.count(chapters, '.'),\n",
    "    'Characters', text.apply(len, 0)\n",
    "    ).scatter(0)"
   ]
  },
  {
   "cell_type": "markdown",
   "id": "300e7494-e818-4acb-8b71-bed45d27266e",
   "metadata": {},
   "source": [
    "**Question 1.** Around how many periods are there in the chapter with the most characters? Assign either 1, 2, 3, 4, or 5 to the name `characters_q1` below. **(2 Points)**\n",
    "\n",
    "1. 250\n",
    "2. 390\n",
    "3. 440\n",
    "4. 32,000\n",
    "5. 40,000\n",
    "\n",
    "\n",
    "**Note:** If you run into a `NameError: name 'grader' is not defined` error in the autograder cell below (and in any assignment), please re-run the first cell at the very top of this notebook!"
   ]
  },
  {
   "cell_type": "code",
   "execution_count": 7,
   "id": "ee364b11-d411-4f4d-bad8-76177344addf",
   "metadata": {},
   "outputs": [],
   "source": [
    "characters_q1 = ..."
   ]
  },
  {
   "cell_type": "code",
   "execution_count": 8,
   "id": "9224f7c0-19b3-4b75-9a92-2fe53c3ac809",
   "metadata": {},
   "outputs": [
    {
     "data": {
      "text/html": [
       "<p><strong><pre style='display: inline;'>q2_1</pre></strong> passed! 🚀</p>"
      ],
      "text/plain": [
       "q2_1 results: All test cases passed!"
      ]
     },
     "execution_count": 8,
     "metadata": {},
     "output_type": "execute_result"
    }
   ],
   "source": [
    "grader.check(\"q2_1\")"
   ]
  },
  {
   "cell_type": "markdown",
   "id": "5d5316d7-0aae-40ad-b668-c0f5bdb8dcf2",
   "metadata": {},
   "source": [
    "**Question 2.** Which of the following chapters has the most characters per period? Assign either 1, 2, or 3 to the name `characters_q2` below. **(2 Points)**\n",
    "\n",
    "1. The chapter with about 60 periods\n",
    "2. The chapter with about 350 periods\n",
    "3. The chapter with about 440 periods\n"
   ]
  },
  {
   "cell_type": "code",
   "execution_count": 12,
   "id": "0f356ae6-3f91-4a00-b265-e6eac2322853",
   "metadata": {},
   "outputs": [],
   "source": [
    "characters_q2 = ..."
   ]
  },
  {
   "cell_type": "code",
   "execution_count": 13,
   "id": "3af02f81-ebf0-49bc-b032-1b0c27cdf9fe",
   "metadata": {},
   "outputs": [
    {
     "data": {
      "text/html": [
       "<p><strong><pre style='display: inline;'>q2_2</pre></strong> passed! 🌟</p>"
      ],
      "text/plain": [
       "q2_2 results: All test cases passed!"
      ]
     },
     "execution_count": 13,
     "metadata": {},
     "output_type": "execute_result"
    }
   ],
   "source": [
    "grader.check(\"q2_2\")"
   ]
  },
  {
   "cell_type": "markdown",
   "id": "07bcb760-3650-49a9-97cb-337e8c15ce75",
   "metadata": {},
   "source": [
    "## 3. Read Two Books, Fast!"
   ]
  },
  {
   "cell_type": "markdown",
   "id": "a4a7b7d1-7593-43a2-abe4-5e45d4ee5148",
   "metadata": {},
   "source": [
    "\n",
    "### A tiny program to download text from the web.\n",
    "def read_url(url): \n",
    "    from urllib.request import urlopen \n",
    "    import re\n",
    "    return re.sub('\\\\s+', ' ', urlopen(url, context = context).read().decode())\n",
    "\n",
    "huck_finn_url = 'https://www.introdsm.org/data/huck_finn.txt'\n",
    "huck_finn_text = read_url(huck_finn_url)\n",
    "huck_finn_chapters = huck_finn_text.split('CHAPTER ')[44:]\n",
    "\n",
    "little_women_url = 'https://www.introdsm.org/data/little_women.txt'\n",
    "little_women_text = read_url(little_women_url)\n",
    "little_women_chapters = little_women_text.split('CHAPTER ')[1:]"
   ]
  },
  {
   "cell_type": "code",
   "execution_count": 14,
   "id": "98323672-7497-4e07-96a5-2194e35417e6",
   "metadata": {},
   "outputs": [],
   "source": [
    "# Read two books, fast!\n",
    "import datascience\n",
    "from datascience import Table\n",
    "import numpy\n",
    "import ssl\n",
    "\n",
    "context = ssl._create_unverified_context()\n",
    "\n",
    "# A tiny program to download text from the web.\n",
    "def read_url(url): \n",
    "    from urllib.request import urlopen \n",
    "    import re\n",
    "    return re.sub('\\\\s+', ' ', urlopen(url, context = context).read().decode())\n",
    "\n",
    "huck_finn_url = 'https://www.introdsm.org/data/huck_finn.txt'\n",
    "huck_finn_text = read_url(huck_finn_url)\n",
    "huck_finn_chapters = huck_finn_text.split('CHAPTER ')[44:]\n",
    "\n",
    "little_women_url = 'https://www.introdsm.org/data/little_women.txt'\n",
    "little_women_text = read_url(little_women_url)\n",
    "little_women_chapters = little_women_text.split('CHAPTER ')[1:]"
   ]
  },
  {
   "cell_type": "code",
   "execution_count": 15,
   "id": "187e02ce-ba4f-4856-a255-0a94711367f5",
   "metadata": {},
   "outputs": [
    {
     "data": {
      "text/html": [
       "<table border=\"1\" class=\"dataframe\">\n",
       "    <thead>\n",
       "        <tr>\n",
       "            <th>Chapters</th>\n",
       "        </tr>\n",
       "    </thead>\n",
       "    <tbody>\n",
       "        <tr>\n",
       "            <td>I. YOU don't know about me without you have read a book  ...</td>\n",
       "        </tr>\n",
       "        <tr>\n",
       "            <td>II. WE went tiptoeing along a path amongst the trees bac ...</td>\n",
       "        </tr>\n",
       "        <tr>\n",
       "            <td>III. WELL, I got a good going-over in the morning from o ...</td>\n",
       "        </tr>\n",
       "        <tr>\n",
       "            <td>IV. WELL, three or four months run along, and it was wel ...</td>\n",
       "        </tr>\n",
       "        <tr>\n",
       "            <td>V. I had shut the door to. Then I turned around and ther ...</td>\n",
       "        </tr>\n",
       "        <tr>\n",
       "            <td>VI. WELL, pretty soon the old man was up and around agai ...</td>\n",
       "        </tr>\n",
       "        <tr>\n",
       "            <td>VII. \"GIT up! What you 'bout?\" I opened my eyes and look ...</td>\n",
       "        </tr>\n",
       "        <tr>\n",
       "            <td>VIII. THE sun was up so high when I waked that I judged  ...</td>\n",
       "        </tr>\n",
       "        <tr>\n",
       "            <td>IX. I wanted to go and look at a place right about the m ...</td>\n",
       "        </tr>\n",
       "        <tr>\n",
       "            <td>X. AFTER breakfast I wanted to talk about the dead man a ...</td>\n",
       "        </tr>\n",
       "    </tbody>\n",
       "</table>\n",
       "<p>... (33 rows omitted)</p>"
      ],
      "text/plain": [
       "Chapters\n",
       "I. YOU don't know about me without you have read a book  ...\n",
       "II. WE went tiptoeing along a path amongst the trees bac ...\n",
       "III. WELL, I got a good going-over in the morning from o ...\n",
       "IV. WELL, three or four months run along, and it was wel ...\n",
       "V. I had shut the door to. Then I turned around and ther ...\n",
       "VI. WELL, pretty soon the old man was up and around agai ...\n",
       "VII. \"GIT up! What you 'bout?\" I opened my eyes and look ...\n",
       "VIII. THE sun was up so high when I waked that I judged  ...\n",
       "IX. I wanted to go and look at a place right about the m ...\n",
       "X. AFTER breakfast I wanted to talk about the dead man a ...\n",
       "... (33 rows omitted)"
      ]
     },
     "execution_count": 15,
     "metadata": {},
     "output_type": "execute_result"
    }
   ],
   "source": [
    "# Display the chapters of Huckleberry Finn in a table.\n",
    "\n",
    "\n",
    "Table().with_column('Chapters', huck_finn_chapters)"
   ]
  },
  {
   "cell_type": "code",
   "execution_count": 16,
   "id": "81749444-9cac-448f-82fe-4b0a57328fc7",
   "metadata": {},
   "outputs": [
    {
     "data": {
      "text/plain": [
       "Text(0.5, 1.08, 'Cumulative Number of Times Each Name Appears')"
      ]
     },
     "execution_count": 16,
     "metadata": {},
     "output_type": "execute_result"
    },
    {
     "data": {
      "image/png": "[encoded data removed]",
      "text/plain": [
       "<Figure size 600x600 with 1 Axes>"
      ]
     },
     "metadata": {},
     "output_type": "display_data"
    }
   ],
   "source": [
    "import numpy as np\n",
    "import matplotlib\n",
    "matplotlib.use('Agg')\n",
    "%matplotlib inline\n",
    "import matplotlib.pyplot as plots\n",
    "plots.style.use('fivethirtyeight')\n",
    "import warnings\n",
    "warnings.simplefilter(action=\"ignore\", category=FutureWarning)\n",
    "\n",
    "# Get the cumulative counts the names Jim, Tom, and Huck appear in each chapter.\n",
    "\n",
    "counts = Table().with_columns([\n",
    "        'Jim', np.cumsum(np.char.count(huck_finn_chapters, 'Jim')),\n",
    "        'Tom', np.cumsum(np.char.count(huck_finn_chapters, 'Tom')),\n",
    "        'Huck', np.cumsum(np.char.count(huck_finn_chapters, 'Huck'))\n",
    "    ])\n",
    "\n",
    "# Plot the cumulative counts:\n",
    "# how many times in Chapter 1, how many times in Chapters 1 and 2, and so on.\n",
    "\n",
    "cum_counts = counts.with_column('Chapter', np.arange(1, 44, 1))\n",
    "cum_counts.plot(column_for_xticks=3)\n",
    "plots.title('Cumulative Number of Times Each Name Appears', y=1.08)"
   ]
  },
  {
   "cell_type": "markdown",
   "id": "59ef4814-b720-4652-99c2-c573a637efc3",
   "metadata": {},
   "source": [
    "<!-- BEGIN QUESTION -->\n",
    "\n",
    "**Question 3.1.** Why does the cumulative count of Huck's name so low when his name is in the title of the book? **(2 Points)**"
   ]
  },
  {
   "cell_type": "markdown",
   "id": "92236b01-8e2a-42db-b7bb-45f344c7bf34",
   "metadata": {},
   "source": [
    "_Type your answer here, replacing this text._"
   ]
  },
  {
   "cell_type": "markdown",
   "id": "33adce9a-1cfe-4ab0-89c4-30a4a0e57cc4",
   "metadata": {},
   "source": [
    "## 4. Nearsightedness Study"
   ]
  },
  {
   "cell_type": "markdown",
   "id": "3a753231",
   "metadata": {},
   "source": [
    "[Myopia](https://en.wikipedia.org/wiki/Myopia), or nearsightedness, results from a number of genetic and environmental factors. In 1999, Quinn et al studied the relation between myopia and ambient lighting at night (for example, from nightlights or room lights) during childhood. \n",
    "- Quinn, G. E., Shin, C. H., Maguire, M. G., & Stone, R. A. (1999). Myopia and ambient lighting at night. Nature, 399(6732), 113–114. [https://doi.org/10.1038/20094](https://doi.org/10.1038/20094) \n"
   ]
  },
  {
   "cell_type": "markdown",
   "id": "897543e5",
   "metadata": {},
   "source": [
    "<!-- BEGIN QUESTION -->\n",
    "\n",
    "**Question 4.1.** The data were gathered by the following procedure, reported in the study. \"Between January and June 1998, parents of children aged 2-16 years [...] that were seen as outpatients in a university pediatric ophthalmology clinic completed a questionnaire on the child's light exposure both at present and before the age of 2 years.\" Was this study observational, or was it a controlled experiment? Explain. **(2 Points)**\n"
   ]
  },
  {
   "cell_type": "markdown",
   "id": "8f65dee4",
   "metadata": {},
   "source": [
    "_Type your answer here, replacing this text._"
   ]
  },
  {
   "cell_type": "markdown",
   "id": "60d25bca",
   "metadata": {},
   "source": [
    "<!-- END QUESTION -->\n",
    "\n",
    "<!-- BEGIN QUESTION -->\n",
    "\n",
    "**Question 4.2.** The study found that of the children who slept with a room light on before the age of 2, 55% were myopic. Of the children who slept with a night light on before the age of 2, 34% were myopic. Of the children who slept in the dark before the age of 2, 10% were myopic. The study concluded the following: \"The prevalence of myopia [...] during childhood was strongly associated with ambient light exposure during sleep at night in the first two years after birth.\"\n",
    "\n",
    "Do the data support this statement? Why or why not? You may interpret \"strongly\" in any reasonable qualitative way. **(2 Points)**\n"
   ]
  },
  {
   "cell_type": "markdown",
   "id": "9300558c",
   "metadata": {},
   "source": [
    "_Type your answer here, replacing this text._"
   ]
  },
  {
   "cell_type": "markdown",
   "id": "452fddbd",
   "metadata": {},
   "source": [
    "<!-- END QUESTION -->\n",
    "\n",
    "<!-- BEGIN QUESTION -->\n",
    "\n",
    "**Question 4.3.** On May 13, 1999, CNN reported the results of this study under the headline, \"Night light may lead to nearsightedness.\" Does the original study claim that night light causes nearsightedness? **(2 Points)**"
   ]
  },
  {
   "cell_type": "markdown",
   "id": "18bc4abb",
   "metadata": {},
   "source": [
    "_Type your answer here, replacing this text._"
   ]
  },
  {
   "cell_type": "markdown",
   "id": "62aeceb9",
   "metadata": {},
   "source": [
    "<!-- END QUESTION -->\n",
    "\n",
    "<!-- BEGIN QUESTION -->\n",
    "\n",
    "**Question 4.4.** The final paragraph of the CNN report said that \"several eye specialists\" had pointed out that the study should have accounted for heredity.\n",
    "\n",
    "Myopia is passed down from parents to children. Myopic parents are more likely to have myopic children, and may also be more likely to leave lights on habitually (since the parents have poor vision). In what way does the knowledge of this possible genetic link affect how we interpret the data from the study? Explain. **(2 Points)**\n"
   ]
  },
  {
   "cell_type": "markdown",
   "id": "3684bf3e",
   "metadata": {},
   "source": [
    "_Type your answer here, replacing this text._"
   ]
  },
  {
   "cell_type": "markdown",
   "id": "081acafa",
   "metadata": {},
   "source": [
    "## 5. Submission\n",
    "\n",
    "After you have completed the homework assignment, do the following:\n",
    "\n",
    "1. Go to the notebook menu, choose Kernel ==> **Restart Kernel and Run All Cells**. \n",
    "2. **Save** the notebook file (File ==> Save Notebook)\n",
    "3. **Change the filename** from hw01.ipynb to *hw01_FIRSTNAME_LASTNAME*.ipynb and **upload** to Canvas."
   ]
  },
  {
   "cell_type": "code",
   "execution_count": null,
   "id": "b64b8b23-0761-4c48-ad08-a8dbc141017b",
   "metadata": {},
   "outputs": [],
   "source": []
  }
 ],
 "metadata": {
  "kernelspec": {
   "display_name": "Python 3 (ipykernel)",
   "language": "python",
   "name": "python3"
  },
  "language_info": {
   "codemirror_mode": {
    "name": "ipython",
    "version": 3
   },
   "file_extension": ".py",
   "mimetype": "text/x-python",
   "name": "python",
   "nbconvert_exporter": "python",
   "pygments_lexer": "ipython3",
   "version": "3.12.2"
  }
 },
 "nbformat": 4,
 "nbformat_minor": 5
}
