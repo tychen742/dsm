{
 "cells": [
  {
   "cell_type": "code",
   "execution_count": 5,
   "id": "0b75e0f4-5f64-4aec-a3fe-76bc2b767b45",
   "metadata": {},
   "outputs": [],
   "source": [
    "### Pandas Methods"
   ]
  },
  {
   "cell_type": "code",
   "execution_count": 3,
   "id": "6605e98a-8f1e-4e4d-8e6b-0d3590c71f46",
   "metadata": {},
   "outputs": [],
   "source": [
    "import pandas as pd\n",
    "import os.path as path\n",
    "data_path = \"/Users/tychen/workspace/class/jupyter/data\"\n",
    "data = path.join(data_path, \"data.csv\")\n",
    "with open(data) as f:\n",
    "    df = pd.read_csv(f)"
   ]
  },
  {
   "cell_type": "markdown",
   "id": "c9b0029f-ce35-40f7-bb4a-1a6155fd2e98",
   "metadata": {},
   "source": [
    "#### df.info()\n",
    "1. data type\n",
    "2. number of values in the column\n",
    "3. Null values"
   ]
  },
  {
   "cell_type": "code",
   "execution_count": 7,
   "id": "b4af72f1-65c6-4da3-a8dc-2e2eb9fd8d82",
   "metadata": {},
   "outputs": [
    {
     "name": "stdout",
     "output_type": "stream",
     "text": [
      "<class 'pandas.core.frame.DataFrame'>\n",
      "RangeIndex: 169 entries, 0 to 168\n",
      "Data columns (total 4 columns):\n",
      " #   Column    Non-Null Count  Dtype  \n",
      "---  ------    --------------  -----  \n",
      " 0   Duration  169 non-null    int64  \n",
      " 1   Pulse     169 non-null    int64  \n",
      " 2   Maxpulse  169 non-null    int64  \n",
      " 3   Calories  164 non-null    float64\n",
      "dtypes: float64(1), int64(3)\n",
      "memory usage: 5.4 KB\n"
     ]
    }
   ],
   "source": [
    "df.info()"
   ]
  },
  {
   "cell_type": "code",
   "execution_count": null,
   "id": "e09c09f0-18a1-41b4-8756-0e1d02715c09",
   "metadata": {},
   "outputs": [],
   "source": []
  }
 ],
 "metadata": {
  "kernelspec": {
   "display_name": "Python 3 (ipykernel)",
   "language": "python",
   "name": "python3"
  },
  "language_info": {
   "codemirror_mode": {
    "name": "ipython",
    "version": 3
   },
   "file_extension": ".py",
   "mimetype": "text/x-python",
   "name": "python",
   "nbconvert_exporter": "python",
   "pygments_lexer": "ipython3",
   "version": "3.12.0"
  }
 },
 "nbformat": 4,
 "nbformat_minor": 5
}
