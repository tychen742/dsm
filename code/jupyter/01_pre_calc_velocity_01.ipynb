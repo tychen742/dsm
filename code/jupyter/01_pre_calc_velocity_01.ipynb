{
 "cells": [
  {
   "cell_type": "code",
<<<<<<< HEAD
   "execution_count": 2,
=======
<<<<<<< HEAD
   "execution_count": 2,
=======
   "execution_count": 1,
>>>>>>> 110f3b0c006997e86d41cde21a299c7cd1e2933f
>>>>>>> d919a03d8b009c62b7a2d5ff2e276bfdeb3567f5
   "id": "b2439ef0-fc7f-41f0-ab80-020570c21172",
   "metadata": {},
   "outputs": [
    {
     "ename": "ModuleNotFoundError",
     "evalue": "No module named 'matplotlib'",
     "output_type": "error",
     "traceback": [
      "\u001b[1;31m---------------------------------------------------------------------------\u001b[0m",
      "\u001b[1;31mModuleNotFoundError\u001b[0m                       Traceback (most recent call last)",
<<<<<<< HEAD
      "Cell \u001b[1;32mIn[2], line 2\u001b[0m\n\u001b[0;32m      1\u001b[0m \u001b[38;5;28;01mimport\u001b[39;00m \u001b[38;5;21;01mnumpy\u001b[39;00m \u001b[38;5;28;01mas\u001b[39;00m \u001b[38;5;21;01mnp\u001b[39;00m\n\u001b[1;32m----> 2\u001b[0m \u001b[38;5;28;01mimport\u001b[39;00m \u001b[38;5;21;01mmatplotlib\u001b[39;00m\u001b[38;5;21;01m.\u001b[39;00m\u001b[38;5;21;01mpyplot\u001b[39;00m \u001b[38;5;28;01mas\u001b[39;00m \u001b[38;5;21;01mplt\u001b[39;00m\n",
=======
      "Cell \u001b[1;32mIn[1], line 2\u001b[0m\n\u001b[0;32m      1\u001b[0m \u001b[38;5;28;01mimport\u001b[39;00m \u001b[38;5;21;01mnumpy\u001b[39;00m \u001b[38;5;28;01mas\u001b[39;00m \u001b[38;5;21;01mnp\u001b[39;00m\n\u001b[1;32m----> 2\u001b[0m \u001b[38;5;28;01mimport\u001b[39;00m \u001b[38;5;21;01mmatplotlib\u001b[39;00m\u001b[38;5;21;01m.\u001b[39;00m\u001b[38;5;21;01mpyplot\u001b[39;00m \u001b[38;5;28;01mas\u001b[39;00m \u001b[38;5;21;01mplt\u001b[39;00m\n",
>>>>>>> 110f3b0c006997e86d41cde21a299c7cd1e2933f
      "\u001b[1;31mModuleNotFoundError\u001b[0m: No module named 'matplotlib'"
     ]
    }
   ],
   "source": [
    "import numpy as np\n",
    "import matplotlib.pyplot as plt"
   ]
  },
  {
   "cell_type": "markdown",
   "id": "928fef85-c5fb-4d6a-aa10-4f0233d01377",
   "metadata": {},
   "source": [
    "# heading 1\n",
<<<<<<< HEAD
    "## heading 2\n",
    "### heading 3\n",
    "A ball is tossed straight up in the air. How is the ball moving? Questions like this one are central to our study of differential calculus. \n",
    "\n",
    "Preview Activity 1.1.1.  Suppose that the height of a ball at time (in seconds) is given in feet by the formula. Construct a graph of on the time interval:\n",
    "    1. Label at least six distinct points on the graph, \n",
    "    2. including the three points showing when the \n",
    "        - ball was released, </li>\n",
    "        - when the ball reaches its highest point, and \n",
    "        - when the ball lands.</li>\n",
    "        \n",
=======
    "\n",
    "## heading 2\n",
    "\n",
    "### headering 3\n",
    "\n",
    "A ball is tossed straight up in the air. How is the ball moving? Questions like this one are central to our study of differential calculus. \n",
    "\n",
    "Preview Activity 1.1.1.  Suppose that the height of a ball at time (in seconds) is given in feet by the formula. Construct a graph of on the time interval:\n",
    "\n",
    "    1. Label at least six distinct points on the graph,\n",
    "    2. including the three points showing when the \n",
    "        ball was released,\n",
    "        when the ball reaches its highest point, and \n",
    "        when the ball lands.\n",
>>>>>>> 110f3b0c006997e86d41cde21a299c7cd1e2933f
    "\n",
    "(ref: https://activecalculus.org/single/sec-1-1-vel.html)"
   ]
  },
  {
   "cell_type": "markdown",
   "id": "d71568b6-d5eb-43cb-b4e9-a8e08f19956b",
   "metadata": {},
   "source": [
    "### Velocity 01\n",
    "\n",
    "A ball is tossed straight up in the air. How is the ball moving? Questions like this one are central to our study of differential calculus. \n",
    "\n",
    "Preview Activity 1.1.1.  Suppose that the height of a ball at time (in seconds) is given in feet by the formula. Construct a graph of on the time interval:\n",
    "\n",
    "    1. Label at least six distinct points on the graph, \n",
    "    2. including the three points showing when the \n",
    "        \n",
    "        - ball was released, \n",
    "        - when the ball reaches its highest point, and \n",
    "        - when the ball lands.\n",
    "        \n",
    "(ref: https://activecalculus.org/single/sec-1-1-vel.html)"
   ]
  },
  {
   "cell_type": "code",
<<<<<<< HEAD
   "execution_count": 3,
=======
   "execution_count": null,
>>>>>>> d919a03d8b009c62b7a2d5ff2e276bfdeb3567f5
   "id": "88f3a47b-ca10-442f-b996-1d3c513c8f38",
   "metadata": {},
<<<<<<< HEAD
   "outputs": [
    {
     "data": {
      "image/png": "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",
      "text/plain": [
       "<Figure size 640x480 with 1 Axes>"
      ]
     },
     "metadata": {},
     "output_type": "display_data"
    }
   ],
   "source": [
<<<<<<< HEAD
    "### creating empty lists\n",
    "x = []\n",
    "y = []\n",
    "\n",
    "### adding values to x [] and y []\n",
    "for i in np.arange(0, 3.1, 0.5):\n",
    "    x.append(i)\n",
    "    y.append(64 - (16 * (i-1)**2))\n",
    "\n",
    "### setting up, drawing, and showing the barchart\n",
    "plt.title(\"Time and height\")\n",
    "plt.xlabel(\"Time\")\n",
    "plt.ylabel(\"Height\")\n",
    "plt.bar(x, y, color='orange', width = 0.25)\n",
    "plt.show()"
   ]
=======
    "x = []\n",
    "y = []\n",
    "for i  in np.arange(0, 3.1, 0.5);\n",
    "    x.append(i)\n",
    "    y.append(64-"
   ]
=======
   "outputs": [],
   "source": []
>>>>>>> 8dddb0585be232e37f9f96edda737d711325d110
>>>>>>> d919a03d8b009c62b7a2d5ff2e276bfdeb3567f5
  },
  {
   "cell_type": "code",
   "execution_count": null,
   "id": "0a39811e-7682-4af2-8f05-310286d738bc",
   "metadata": {},
   "outputs": [],
   "source": []
  }
 ],
 "metadata": {
  "kernelspec": {
   "display_name": "Python 3 (ipykernel)",
   "language": "python",
   "name": "python3"
  },
  "language_info": {
   "codemirror_mode": {
    "name": "ipython",
    "version": 3
   },
   "file_extension": ".py",
   "mimetype": "text/x-python",
   "name": "python",
   "nbconvert_exporter": "python",
   "pygments_lexer": "ipython3",
<<<<<<< HEAD
<<<<<<< HEAD
   "version": "3.11.8"
=======
=======
>>>>>>> 80b6830501173cc3408243222bc1eb197510c52a
<<<<<<< HEAD
   "version": "3.12.2"
=======
<<<<<<< HEAD
   "version": "3.12.2"
=======
   "version": "3.12.0"
>>>>>>> 8dddb0585be232e37f9f96edda737d711325d110
>>>>>>> 110f3b0c006997e86d41cde21a299c7cd1e2933f
<<<<<<< HEAD
>>>>>>> d919a03d8b009c62b7a2d5ff2e276bfdeb3567f5
=======
=======
   "version": "3.12.0"
=======
   "version": "3.12.2"
>>>>>>> a4251f5 (pull)
>>>>>>> 3489572 (pull)
>>>>>>> 80b6830501173cc3408243222bc1eb197510c52a
  }
 },
 "nbformat": 4,
 "nbformat_minor": 5
}
