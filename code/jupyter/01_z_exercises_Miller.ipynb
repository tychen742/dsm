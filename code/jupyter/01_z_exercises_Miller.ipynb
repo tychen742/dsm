{
 "cells": [
  {
   "cell_type": "markdown",
   "id": "add37b55-ecea-4e2e-a42b-6d7de7ea527b",
   "metadata": {},
   "source": [
    "# Exercises¶\n",
    "#### After you are done:\n",
    "1. <span style=\"color:green\">**Upload HTML to assignment**</span>: File --> Save and Export... --> HTML and upload the file to Canvas assignment. Ask the instructor if you do not see the assignment available.\n",
    "2. <span style=\"color:green\">**GitHub**</span>: Commit to mstbit/class/jupyter with the filename 01_z_excercises_LASTNAME\n",
    "\n",
    "\n"
   ]
  },
  {
   "cell_type": "markdown",
   "id": "ce05afea-4057-4aab-886a-4de29b5f6ed6",
   "metadata": {},
   "source": [
    "***\n",
    "\n",
    "1/2. Write a function that accepts 5 numbers as arguments and returns the average of those numbers.\n",
    "#### Code solution here."
   ]
  },
  {
   "cell_type": "code",
<<<<<<< HEAD:jupyter/01_z_exercises_Miller.ipynb
<<<<<<< HEAD:jupyter/01_z_exercises_Miller.ipynb
   "execution_count": 7,
=======
   "execution_count": 5,
>>>>>>> d919a03d8b009c62b7a2d5ff2e276bfdeb3567f5:jupyter/01_z_exercises.ipynb
=======
<<<<<<< HEAD
   "execution_count": 5,
=======
   "execution_count": 10,
>>>>>>> 3489572 (pull)
>>>>>>> 80b6830501173cc3408243222bc1eb197510c52a:jupyter/01_z_exercises.ipynb
   "id": "9aadcbb0-611e-47ff-ac72-70f73d930298",
   "metadata": {},
   "outputs": [
    {
<<<<<<< HEAD:jupyter/01_z_exercises_Miller.ipynb
     "data": {
      "text/plain": [
       "26"
      ]
     },
     "execution_count": 7,
     "metadata": {},
     "output_type": "execute_result"
    }
   ],
   "source": [
<<<<<<< HEAD:jupyter/01_z_exercises_Miller.ipynb
    "def num_avg (*args):\n",
    "    total = 0\n",
    "    for i in args:\n",
    "        total = total + i\n",
    "    return total\n",
    "\n",
    "num_avg(2, 4, 5, 7, 8)"
   ]
  },
  {
=======
=======
     "name": "stdin",
     "output_type": "stream",
     "text": [
      "Enter number 1:  1\n",
      "Enter number 2:  2\n",
      "Enter number 3:  3\n",
      "Enter number 4:  4\n",
      "Enter number 5:  5\n"
     ]
    },
    {
     "name": "stdout",
     "output_type": "stream",
     "text": [
      "The average of the five numbers is: 3.0\n"
     ]
    }
   ],
   "source": [
<<<<<<< HEAD
>>>>>>> 80b6830501173cc3408243222bc1eb197510c52a:jupyter/01_z_exercises.ipynb
    "def aver(a,b,c,d,e):\n",
    "    tot=a+b+c+d+e\n",
    "    return tot/5\n",
=======
    "def average(n1, n2, n3, n4, n5):\n",
    "    sum = n1 + n2 + n3 + n4 + n5\n",
    "    average = sum / 5\n",
    "    return average\n",
    "\n",
>>>>>>> 3489572 (pull)
    "\n",
    "n1 = float(input(\"Enter number 1: \"))\n",
    "n2 = float(input(\"Enter number 2: \"))\n",
    "n3 = float(input(\"Enter number 3: \"))\n",
    "n4 = float(input(\"Enter number 4: \"))\n",
    "n5 = float(input(\"Enter number 5: \"))\n",
    "\n",
    "result = average(n1, n2, n3, n4, n5)\n",
    "print(\"The average of the five numbers is:\", result)\n",
    "\n",
    "\n"
   ]
  },
  {
   "cell_type": "code",
   "execution_count": 6,
   "id": "fd473a1f-9d93-4e4c-90d7-503f402b448a",
   "metadata": {},
   "outputs": [
    {
     "data": {
      "text/plain": [
       "5.0"
      ]
     },
     "execution_count": 6,
     "metadata": {},
     "output_type": "execute_result"
    }
   ],
   "source": [
    "aver(1,3,5,7,9)"
   ]
  },
  {
>>>>>>> d919a03d8b009c62b7a2d5ff2e276bfdeb3567f5:jupyter/01_z_exercises.ipynb
   "cell_type": "markdown",
   "id": "1de7657e-8d77-44dc-8bda-72122e83d0ce",
   "metadata": {},
   "source": [
    "***\n",
    "\n",
    "2/2. Write a function that takes accepts a single integer and displays whether the integer is odd or even.\n",
    "#### Code solution here.\n"
   ]
  },
  {
   "cell_type": "code",
<<<<<<< HEAD:jupyter/01_z_exercises_Miller.ipynb
<<<<<<< HEAD:jupyter/01_z_exercises_Miller.ipynb
   "execution_count": 6,
=======
   "execution_count": 3,
>>>>>>> d919a03d8b009c62b7a2d5ff2e276bfdeb3567f5:jupyter/01_z_exercises.ipynb
=======
<<<<<<< HEAD
   "execution_count": 3,
=======
   "execution_count": 8,
>>>>>>> 3489572 (pull)
>>>>>>> 80b6830501173cc3408243222bc1eb197510c52a:jupyter/01_z_exercises.ipynb
   "id": "054a980e-ace2-49b1-bd16-8a464fb9199b",
   "metadata": {},
   "outputs": [
    {
<<<<<<< HEAD:jupyter/01_z_exercises_Miller.ipynb
     "name": "stdout",
     "output_type": "stream",
     "text": [
      "4 is an even number.\n",
      "23 is an odd number.\n"
=======
     "name": "stdin",
     "output_type": "stream",
     "text": [
      "Enter a number:  4\n"
     ]
    },
    {
     "name": "stdout",
     "output_type": "stream",
     "text": [
      "4 is an even number.\n"
>>>>>>> 80b6830501173cc3408243222bc1eb197510c52a:jupyter/01_z_exercises.ipynb
     ]
    }
   ],
   "source": [
<<<<<<< HEAD:jupyter/01_z_exercises_Miller.ipynb
<<<<<<< HEAD:jupyter/01_z_exercises_Miller.ipynb
    "def odd_even(num):\n",
    "    if num % 2 == 0:\n",
    "        print(f\"{num} is an even number.\")\n",
    "    else:\n",
    "        print(f\"{num} is an odd number.\")\n",
    "        \n",
    "odd_even(4)\n",
    "odd_even(23)"
=======
=======
<<<<<<< HEAD
>>>>>>> 80b6830501173cc3408243222bc1eb197510c52a:jupyter/01_z_exercises.ipynb
    "def evenodd(int):\n",
    "    remain=int%2\n",
    "    if remain == 0:\n",
    "        print(\"Number is even\")\n",
    "    else:\n",
    "        print(\"Number is odd\")\n",
=======
    "\n",
    "def check(num):\n",
    "    num = int(num)\n",
    "    if num % 2 == 0:\n",
    "        print(f\"{num} is an even number.\")\n",
    "    else:\n",
    "        print(f\"{num} is an odd number.\")\n",
    "\n",
    "num = input(\"Enter a number: \")\n",
    "\n",
    "check(num)\n",
>>>>>>> 3489572 (pull)
    "\n"
>>>>>>> d919a03d8b009c62b7a2d5ff2e276bfdeb3567f5:jupyter/01_z_exercises.ipynb
   ]
  },
  {
   "cell_type": "code",
   "execution_count": 5,
   "id": "6985613a-7714-4049-8212-7b6985e96da0",
   "metadata": {},
   "outputs": [
    {
     "name": "stdout",
     "output_type": "stream",
     "text": [
      "Number is even\n"
     ]
    }
   ],
   "source": [
    "evenodd(4)"
   ]
  },
  {
   "cell_type": "code",
   "execution_count": null,
   "id": "f440bc7f-e9e7-4b2c-96e6-ff789dfa1c6a",
   "metadata": {},
   "outputs": [],
   "source": []
  }
 ],
 "metadata": {
  "kernelspec": {
   "display_name": "Python 3 (ipykernel)",
   "language": "python",
   "name": "python3"
  },
  "language_info": {
   "codemirror_mode": {
    "name": "ipython",
    "version": 3
   },
   "file_extension": ".py",
   "mimetype": "text/x-python",
   "name": "python",
   "nbconvert_exporter": "python",
   "pygments_lexer": "ipython3",
<<<<<<< HEAD:jupyter/01_z_exercises_Miller.ipynb
   "version": "3.11.8"
=======
   "version": "3.12.2"
>>>>>>> d919a03d8b009c62b7a2d5ff2e276bfdeb3567f5:jupyter/01_z_exercises.ipynb
  }
 },
 "nbformat": 4,
 "nbformat_minor": 5
}
