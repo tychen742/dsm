{
 "cells": [
  {
   "cell_type": "markdown",
   "id": "5ed89a22-a129-49ac-9e9d-add54889edd7",
   "metadata": {},
   "source": [
    "## Managing File Path in Jupyter\n",
    "#### 1/3. Import Libraries"
   ]
  },
  {
   "cell_type": "code",
<<<<<<< HEAD
   "execution_count": 3,
=======
<<<<<<< HEAD
   "execution_count": 12,
=======
   "execution_count": 4,
>>>>>>> 90d697661bfce444480fe85a0fb38d6d4b571534
>>>>>>> 80b6830501173cc3408243222bc1eb197510c52a
   "id": "0f159047-936c-4067-9f05-d451d0f64b0d",
   "metadata": {},
   "outputs": [
    {
     "name": "stdout",
     "output_type": "stream",
     "text": [
      "HOMMMMMMMMMMM /Users/tcn85\n",
      "WWWWWWWWWWWWW /Users/tcn85/workspace/class/jupyter/data\n"
     ]
    }
   ],
   "source": [
    "import pandas as pd\n",
    "import os\n",
    "import os.path as path\n",
    "import os\n",
    "# os.getcwd()\n",
    "# os.chdir(\"data\")\n",
    "# os.chdir('')\n",
    "\n",
    "# data_path = \"$HOME/workspace/class/jupyter/data\"\n",
    "HOME = (os.path.expanduser('~'))    ### give us ~, the home directory\n",
    "print(\"HOMMMMMMMMMMM\", HOME)\n",
    "\n",
    "data_path = HOME + '/workspace/class/jupyter/data'\n",
    "print(\"WWWWWWWWWWWWW\", data_path)"
   ]
  },
  {
   "cell_type": "markdown",
   "id": "45c4659b-47cc-49db-812a-d357de0af65a",
   "metadata": {},
   "source": [
    "#### 2/3. Create DataFrame\n",
    "##### 1. assign data/datacsv to read_csv() \n",
    "##### 2. using with statement (file close automatically) \n",
    "##### 3. use path.join to join path and data\n",
    "##### 4. use os.chdir then assign\n"
   ]
  },
  {
   "cell_type": "code",
<<<<<<< HEAD
   "execution_count": 5,
=======
<<<<<<< HEAD
   "execution_count": 14,
=======
   "execution_count": 5,
>>>>>>> 90d697661bfce444480fe85a0fb38d6d4b571534
>>>>>>> 80b6830501173cc3408243222bc1eb197510c52a
   "id": "ddf666a8-bfb5-4287-8107-d5b7e868460b",
   "metadata": {},
   "outputs": [
    {
<<<<<<< HEAD
     "ename": "FileNotFoundError",
     "evalue": "[WinError 3] The system cannot find the path specified: '/Users/tychen/workspace/class/jupyter/data'",
     "output_type": "error",
     "traceback": [
      "\u001b[1;31m----------------------------------------------------------------------\u001b[0m",
      "\u001b[1;31mFileNotFoundError\u001b[0m                    Traceback (most recent call last)",
      "Cell \u001b[1;32mIn[14], line 17\u001b[0m\n\u001b[0;32m      2\u001b[0m data_path \u001b[38;5;241m=\u001b[39m \u001b[38;5;124m\"\u001b[39m\u001b[38;5;124m/Users/tychen/workspace/class/jupyter/data\u001b[39m\u001b[38;5;124m\"\u001b[39m\n\u001b[0;32m      4\u001b[0m \u001b[38;5;66;03m# ##### option 1: DOES NOT WORK in Jupyter\u001b[39;00m\n\u001b[0;32m      5\u001b[0m \u001b[38;5;66;03m# df = pd.read_csv(\"data_path/data.csv\")\u001b[39;00m\n\u001b[0;32m      6\u001b[0m \n\u001b[1;32m   (...)\u001b[0m\n\u001b[0;32m     15\u001b[0m \n\u001b[0;32m     16\u001b[0m \u001b[38;5;66;03m# ##### option 4: change dir\u001b[39;00m\n\u001b[1;32m---> 17\u001b[0m \u001b[43mos\u001b[49m\u001b[38;5;241;43m.\u001b[39;49m\u001b[43mchdir\u001b[49m\u001b[43m(\u001b[49m\u001b[43mdata_path\u001b[49m\u001b[43m)\u001b[49m\n\u001b[0;32m     18\u001b[0m df \u001b[38;5;241m=\u001b[39m pd\u001b[38;5;241m.\u001b[39mread_csv(\u001b[38;5;124m\"\u001b[39m\u001b[38;5;124mdata.csv\u001b[39m\u001b[38;5;124m\"\u001b[39m)\n",
      "\u001b[1;31mFileNotFoundError\u001b[0m: [WinError 3] The system cannot find the path specified: '/Users/tychen/workspace/class/jupyter/data'"
     ]
=======
     "data": {
      "text/html": [
       "<div>\n",
       "<style scoped>\n",
       "    .dataframe tbody tr th:only-of-type {\n",
       "        vertical-align: middle;\n",
       "    }\n",
       "\n",
       "    .dataframe tbody tr th {\n",
       "        vertical-align: top;\n",
       "    }\n",
       "\n",
       "    .dataframe thead th {\n",
       "        text-align: right;\n",
       "    }\n",
       "</style>\n",
       "<table border=\"1\" class=\"dataframe\">\n",
       "  <thead>\n",
       "    <tr style=\"text-align: right;\">\n",
       "      <th></th>\n",
       "      <th>Duration</th>\n",
       "      <th>Pulse</th>\n",
       "      <th>Maxpulse</th>\n",
       "      <th>Calories</th>\n",
       "    </tr>\n",
       "  </thead>\n",
       "  <tbody>\n",
       "    <tr>\n",
       "      <th>count</th>\n",
       "      <td>169.000000</td>\n",
       "      <td>169.000000</td>\n",
       "      <td>169.000000</td>\n",
       "      <td>164.000000</td>\n",
       "    </tr>\n",
       "    <tr>\n",
       "      <th>mean</th>\n",
       "      <td>63.846154</td>\n",
       "      <td>107.461538</td>\n",
       "      <td>134.047337</td>\n",
       "      <td>375.800000</td>\n",
       "    </tr>\n",
       "    <tr>\n",
       "      <th>std</th>\n",
       "      <td>42.299949</td>\n",
       "      <td>14.510259</td>\n",
       "      <td>16.450434</td>\n",
       "      <td>266.377134</td>\n",
       "    </tr>\n",
       "    <tr>\n",
       "      <th>min</th>\n",
       "      <td>15.000000</td>\n",
       "      <td>80.000000</td>\n",
       "      <td>100.000000</td>\n",
       "      <td>50.300000</td>\n",
       "    </tr>\n",
       "    <tr>\n",
       "      <th>25%</th>\n",
       "      <td>45.000000</td>\n",
       "      <td>100.000000</td>\n",
       "      <td>124.000000</td>\n",
       "      <td>250.925000</td>\n",
       "    </tr>\n",
       "    <tr>\n",
       "      <th>50%</th>\n",
       "      <td>60.000000</td>\n",
       "      <td>105.000000</td>\n",
       "      <td>131.000000</td>\n",
       "      <td>318.600000</td>\n",
       "    </tr>\n",
       "    <tr>\n",
       "      <th>75%</th>\n",
       "      <td>60.000000</td>\n",
       "      <td>111.000000</td>\n",
       "      <td>141.000000</td>\n",
       "      <td>387.600000</td>\n",
       "    </tr>\n",
       "    <tr>\n",
       "      <th>max</th>\n",
       "      <td>300.000000</td>\n",
       "      <td>159.000000</td>\n",
       "      <td>184.000000</td>\n",
       "      <td>1860.400000</td>\n",
       "    </tr>\n",
       "  </tbody>\n",
       "</table>\n",
       "</div>"
      ],
      "text/plain": [
       "         Duration       Pulse    Maxpulse     Calories\n",
       "count  169.000000  169.000000  169.000000   164.000000\n",
       "mean    63.846154  107.461538  134.047337   375.800000\n",
       "std     42.299949   14.510259   16.450434   266.377134\n",
       "min     15.000000   80.000000  100.000000    50.300000\n",
       "25%     45.000000  100.000000  124.000000   250.925000\n",
       "50%     60.000000  105.000000  131.000000   318.600000\n",
       "75%     60.000000  111.000000  141.000000   387.600000\n",
       "max    300.000000  159.000000  184.000000  1860.400000"
      ]
     },
     "execution_count": 5,
     "metadata": {},
     "output_type": "execute_result"
>>>>>>> 90d697661bfce444480fe85a0fb38d6d4b571534
    }
   ],
   "source": [
    "\n",
<<<<<<< HEAD
    "# ##### option 1: DOES NOT WORK in Jupyter\n",
<<<<<<< HEAD
    "df = pd.read_csv(\"data/data.csv\")\n",
=======
    "# df = pd.read_csv(\"data_path/data.csv\")\n",
>>>>>>> 80b6830501173cc3408243222bc1eb197510c52a
    "\n",
    "# ##### option 2: DOES NOT WORK in Jupyter\n",
    "with open(\"data_path/data.csv\") as f:\n",
    "    df = pd.read_csv(f)\n",
    "\n",
    "# ##### option 3: path.join\n",
    "data = path.join(data_path, \"data.csv\")\n",
    "with open(data) as f:\n",
    "    df = pd.read_csv(f)\n",
=======
    "# ##### option 1: ##### works in macOS/Windows/Jupyter\n",
    "df = pd.read_csv(data_path+\"/data.csv\")\n",
    "\n",
    "\n",
    "# ##### option 2: with open ##### works in macOS/Windows/Jupyter\n",
    "# with open(data_path+\"/data.csv\") as f:\n",
    "#     df = pd.read_csv(f)\n",
    "\n",
    "# ##### option 3: path.join ##### works in mac/Windows/Jupyter\n",
    "# data = path.join(data_path, \"data.csv\")\n",
    "# with open(data) as f:\n",
    "#     df = pd.read_csv(f)\n",
>>>>>>> 90d697661bfce444480fe85a0fb38d6d4b571534
    "\n",
    "# ##### option 4: path.join ##### works in Windows/macOS/Jupyter\n",
    "# data = path.join(data_path, \"data.csv\")\n",
    "# with open(data) as f:\n",
    "#     df = pd.read_csv(f)\n",
    "\n",
<<<<<<< HEAD
    "##### to_string(): render a DataFrame to a console-friendly tabular output"
   ]
  },
  {
   "cell_type": "code",
<<<<<<< HEAD
   "execution_count": 6,
=======
   "execution_count": 15,
>>>>>>> 80b6830501173cc3408243222bc1eb197510c52a
   "id": "ff85d555-7ad4-483f-a049-f7ef0c57b893",
   "metadata": {},
   "outputs": [
    {
     "name": "stdout",
     "output_type": "stream",
     "text": [
      "         Duration       Pulse    Maxpulse     Calories\n",
      "count  169.000000  169.000000  169.000000   164.000000\n",
      "mean    63.846154  107.461538  134.047337   375.800000\n",
      "std     42.299949   14.510259   16.450434   266.377134\n",
      "min     15.000000   80.000000  100.000000    50.300000\n",
      "25%     45.000000  100.000000  124.000000   250.925000\n",
      "50%     60.000000  105.000000  131.000000   318.600000\n",
      "75%     60.000000  111.000000  141.000000   387.600000\n",
      "max    300.000000  159.000000  184.000000  1860.400000\n"
     ]
    }
   ],
   "source": [
    "# print(df.to_string())     \n",
    "# print(df)\n",
    "print(df.describe())"
=======
    "##### option 5: change dir ##### works in Windows 11/macOS/Jupyter\n",
    "os.chdir(data_path)\n",
    "df = pd.read_csv(\"data.csv\")\n",
    "\n",
    "# ##### output\n",
    "df.describe()\n",
    "# df.describe\n",
    "\n"
>>>>>>> 90d697661bfce444480fe85a0fb38d6d4b571534
   ]
  },
  {
   "cell_type": "code",
   "execution_count": null,
   "id": "3a945da1-716f-499a-ba1b-78f7b617b719",
   "metadata": {},
   "outputs": [],
   "source": []
  },
  {
   "cell_type": "code",
   "execution_count": null,
   "id": "f8ef1bc1-c628-45f5-92f7-64a09cd9a7a2",
   "metadata": {},
   "outputs": [],
   "source": []
  }
 ],
 "metadata": {
  "kernelspec": {
   "display_name": "Python 3 (ipykernel)",
   "language": "python",
   "name": "python3"
  },
  "language_info": {
   "codemirror_mode": {
    "name": "ipython",
    "version": 3
   },
   "file_extension": ".py",
   "mimetype": "text/x-python",
   "name": "python",
   "nbconvert_exporter": "python",
   "pygments_lexer": "ipython3",
<<<<<<< HEAD
   "version": "3.11.8"
=======
   "version": "3.12.2"
>>>>>>> 80b6830501173cc3408243222bc1eb197510c52a
  }
 },
 "nbformat": 4,
 "nbformat_minor": 5
}
