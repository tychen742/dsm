{
 "cells": [
  {
   "cell_type": "markdown",
   "id": "add37b55-ecea-4e2e-a42b-6d7de7ea527b",
   "metadata": {},
   "source": [
    "# Exercises¶\n",
    "Write a function that accepts 5 numbers as arguments and returns the average of those numbers.\n",
    "\n",
    "## Code solution here."
   ]
  },
  {
   "cell_type": "code",
   "execution_count": 2,
   "id": "9aadcbb0-611e-47ff-ac72-70f73d930298",
   "metadata": {},
   "outputs": [
    {
     "data": {
      "text/plain": [
       "15"
      ]
     },
     "execution_count": 2,
     "metadata": {},
     "output_type": "execute_result"
    }
   ],
   "source": [
    "def func_avg_5 (*args):\n",
    "    total = 0\n",
    "    for i in args:\n",
    "        total = total + i\n",
    "    return total\n",
    "\n",
    "func_avg_5(1, 2, 3, 4, 5)"
   ]
  },
  {
   "cell_type": "markdown",
   "id": "1de7657e-8d77-44dc-8bda-72122e83d0ce",
   "metadata": {},
   "source": [
    "Write a function that takes accepts a single integer and displays whether the integer is odd or even.\n",
    "\n",
    "#### Code solution here.\n"
   ]
  },
  {
   "cell_type": "code",
   "execution_count": 6,
   "id": "6985613a-7714-4049-8212-7b6985e96da0",
   "metadata": {},
   "outputs": [
    {
     "name": "stdout",
     "output_type": "stream",
     "text": [
      "You have entreed 5, which is an odd number.\n"
     ]
    }
   ],
   "source": [
    "def func(int_num):\n",
    "    if int_num % 2 == 0:\n",
    "        print(f\"You have entreed {int_num}, which is an even number.\")\n",
    "    else:\n",
    "        print(f\"You have entreed {int_num}, which is an odd number.\")\n",
    "        \n",
    "func(5)"
   ]
  },
  {
   "cell_type": "code",
   "execution_count": null,
   "id": "c2a13860-672d-43cd-b575-b236d9042f53",
   "metadata": {},
   "outputs": [],
   "source": []
  },
  {
   "cell_type": "code",
   "execution_count": null,
   "id": "ed3a17ea-5977-4af6-8cc7-9491e77d1810",
   "metadata": {},
   "outputs": [],
   "source": []
  }
 ],
 "metadata": {
  "kernelspec": {
   "display_name": "Python 3 (ipykernel)",
   "language": "python",
   "name": "python3"
  },
  "language_info": {
   "codemirror_mode": {
    "name": "ipython",
    "version": 3
   },
   "file_extension": ".py",
   "mimetype": "text/x-python",
   "name": "python",
   "nbconvert_exporter": "python",
   "pygments_lexer": "ipython3",
   "version": "3.11.8"
  }
 },
 "nbformat": 4,
 "nbformat_minor": 5
}
