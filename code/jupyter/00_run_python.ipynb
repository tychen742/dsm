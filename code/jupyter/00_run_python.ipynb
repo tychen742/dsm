{
   "cells": [
    {
     "cell_type": "code",
     "execution_count": 9,
     "id": "64fd79b6-b4a9-474c-8ee1-b1204f39af24",
     "metadata": {
      "jupyter": {
       "source_hidden": true
      }
      "scrolled": true
     },
     "outputs": [
      {
       "data": {
        "text/plain": [
         "2"
        ]
       },
       "execution_count": 9,
       "metadata": {},
       "output_type": "execute_result"
      }
     ],
     "source": [
      "1 + 1"
     ]
    },
    {
     "cell_type": "code",
     "execution_count": 4,
     "id": "419c5957-a841-41b9-9d3a-9f4639ab2a4a",
  
     "id": "29563fa8-4812-4829-9f0d-6622f35dfa3d",
     "metadata": {},
     "outputs": [
      {
       "data": {
        "text/plain": [
         "3"
        ]
       },
       "execution_count": 4,
       "metadata": {},
       "output_type": "execute_result"
      }
     ],
     "source": [
      "5 - 2"
     ]
    },
    {
     "cell_type": "code",
     "execution_count": 5,
     "id": "102b86ab-f3b9-4d08-bd05-986d82f407b5",
     "metadata": {},
  
     "id": "dfe1c658-8c08-47ee-9461-46cd1f2fb045",
     "metadata": {
      "scrolled": true
     },
     "outputs": [
      {
       "data": {
        "text/plain": [
         "4"
        ]
       },
       "execution_count": 5,
       "metadata": {},
       "output_type": "execute_result"
      }
     ],
     "source": [
      "2 * 2"
     ]
    },
    {
     "cell_type": "markdown",
     "id": "cd9ed804-238a-411e-b512-f0d061a45400",
  
     "id": "b68a7fb8-c42c-459e-8dbd-231f13138c05",
     "metadata": {},
     "source": [
      "### do division here"
     ]
    },
    {
     "cell_type": "code",
     "execution_count": 10,
     "id": "a88cb2e5-7e2f-4be8-832a-8f6509a248ed",
     "execution_count": 6,
     "id": "46befad5-7793-4ad7-8da2-77ae226e0093",
     "metadata": {},
     "outputs": [
      {
       "data": {
        "text/plain": [
         "2.5"
        ]
       },
       "execution_count": 10,
  
       "execution_count": 6,
       "metadata": {},
       "output_type": "execute_result"
      }
     ],
     "source": [
      "5 / 2"
     ]
    },
    {
     "cell_type": "code",
     "execution_count": 2,
     "id": "b660694c-0bbe-41e0-9c34-a530f43ab14f",
     "metadata": {
      "jupyter": {
       "source_hidden": true
      }
     },
     "outputs": [
      {
       "data": {
        "text/plain": [
         "1"
        ]
       },
       "execution_count": 2,
       "metadata": {},
       "output_type": "execute_result"
      }
     ],
     "source": [
      "5 % 2"
     ]
    },
    {
     "cell_type": "markdown",
     "id": "e2c8c79c",
     "metadata": {},
     "source": []
    },
    {
     "cell_type": "code",
     "execution_count": 11,

     "execution_count": 3,
     "id": "5b013726-88e2-4c60-a05c-0bf146a6bd92",
     "metadata": {
      "collapsed": true,
      "jupyter": {
       "outputs_hidden": true
      }
     },
     "outputs": [
      {
       "data": {
        "text/plain": [
         "True"
        ]
       },
       "execution_count": 11,
       "metadata": {},
       "output_type": "execute_result"
      }
     ],
     "source": [
      "10 > 9"
     ]
    },
    {
     "cell_type": "code",
     "execution_count": 3,
     "id": "b70de151-dff7-41ff-9562-a7b555c699de",
     "metadata": {
      "collapsed": true,
      "jupyter": {
       "outputs_hidden": true
      }
     },
     "outputs": [
      {
       "data": {
        "text/plain": [
         "True"
        ]
       },
       "execution_count": 3,
       "metadata": {},
       "output_type": "execute_result"
      }
     ],
     "source": [
      "10 > 9"
     ]
    },
    {
     "cell_type": "code",
     "execution_count": 3,
     "id": "f3a54f7a-b33d-4f54-931a-2c82aa2d66e5",
     "metadata": {},
     "outputs": [
      {
       "data": {
        "text/plain": [
         "False"
        ]
       },
       "execution_count": 3,
       "metadata": {},
       "output_type": "execute_result"
      }
     ],
     "source": [
      "10 < 9"
     ]
    },
    {
     "cell_type": "code",
     "execution_count": null,
     "id": "9d4c236f-015a-45d5-8bb2-1f9c9501c107",
     "metadata": {},
     "outputs": [],
     "source": [
      "5 % 2"
     ]
    },
    {
     "cell_type": "code",
     "execution_count": null,
     "id": "e5ac8aa5-9c6c-43a7-911c-0f741d6b3e4e",
     "metadata": {},
     "outputs": [],
     "source": []
    },
    {
     "cell_type": "code",
     "execution_count": null,
     "id": "55e2dcfe-9e00-4d30-a478-3ec7403e3ff5",
     "metadata": {
      "collapsed": true,
      "jupyter": {
       "outputs_hidden": true
      }
     },
     "outputs": [],
     "source": [
      "Notebook is running Python code interactively"
     ]
    },
    {
     "cell_type": "markdown",
     "id": "f5a52d9e-cc9d-4abd-987c-7a15854a0b89",
     "metadata": {},
     "source": [
      "#### 1/3. ### Do a for loop  \\###"
     ]
    },
    {
     "cell_type": "code",
     "execution_count": 12,
  
     "execution_count": 7,
     "id": "0be6b283-ceaa-4b41-b63a-9266b6957b2e",
     "metadata": {
      "collapsed": true,
      "jupyter": {
       "outputs_hidden": true
      }
     },
     "outputs": [
      {
       "name": "stdout",
       "output_type": "stream",
       "text": [
        "0 1 2 3 4 "
       ]
      }
     ],
     "source": [
      "for i in range(5):\n",
      "    print(i, end=\" \")"
     ]
    },
    {
     "cell_type": "markdown",
     "id": "20e5ecdc-515c-482e-9f42-09d39194eb80",
     "metadata": {},
     "source": [
      "#### 2/3. ### Create a function \\###"
     ]
    },
    {
     "cell_type": "code",
     "execution_count": 13,
  
     "execution_count": 8,
  
     "execution_count": 4,
     "id": "9b9c6feb-b043-4cfe-9e77-f9044c678d5c",
     "metadata": {},
     "outputs": [],
     "source": [
      "def print_list(lst):\n",
      "    for i in range(len(lst)):\n",
      "        print(lst[i], end=\" \")\n",
      "        "
     ]
    },
    {
     "cell_type": "markdown",
     "id": "5a000f49-6062-4988-8964-2dbf050719e3",
     "metadata": {},
     "source": [
      "#### 3/3. ### Call the function \\###"
     ]
    },
    {
     "cell_type": "code",
     "execution_count": 14,
     "execution_count": 9,
     "id": "db1d35d8-d57f-499b-8788-304de36751a1",
     "metadata": {},
     "outputs": [
      {
       "name": "stdout",
       "output_type": "stream",
       "text": [
        "1 2 3 4 5 "
       ]
      }
     ],
     "source": [
      "print_list([1, 2, 3, 4, 5])"
     ]
    }
   ],
   "metadata": {
    "kernelspec": {
     "display_name": "Python 3 (ipykernel)",
     "language": "python",
     "name": "python3"
    },
    "language_info": {
     "codemirror_mode": {
      "name": "ipython",
      "version": 3
     },
     "file_extension": ".py",
     "mimetype": "text/x-python",
     "name": "python",
     "nbconvert_exporter": "python",
     "pygments_lexer": "ipython3",
     "version": "3.12.2"
  
     "version": "3.12.2"
  
     "version": "3.12.0"
 
  
     "version": "3.12.0"
  
     "version": "3.12.2"

    }
   },
   "nbformat": 4,
   "nbformat_minor": 5
  }