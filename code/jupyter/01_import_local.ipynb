{
 "cells": [
  {
   "cell_type": "code",
   "execution_count": 1,
   "id": "47e6c89e-46a6-4ceb-a45c-2efb3d3b5e26",
   "metadata": {},
   "outputs": [
    {
     "name": "stdout",
     "output_type": "stream",
     "text": [
      "\n",
      "###################################################\n",
      "warming up\n",
      "###################################################\n",
      "add two:          15\n",
      "add multi values: 15\n",
      "sum lst for:      26\n",
      "sum lst sum():    26\n",
      "\n",
      "###################################################\n",
      "descriptive stats: 1/3 measures of central tendency\n",
      "###################################################\n",
      "mean of list:     3.25\n",
      "median of lst:    4.0\n",
      "mode of lst:      4\n",
      "\n",
      "###################################################\n",
      "descriptive stats: 2/3 measures of variability\n",
      "###################################################\n",
      "variance of lst:  96\n",
      "std deviation:    12.0\n",
      "\n",
      "###################################################\n",
      "descriptive stats: 3/3 measures of frequency distribution\n",
      "###################################################\n",
      "frequency of lst:  {1: 1, 2: 1, 3: 2, 4: 3, 5: 1}\n"
     ]
    }
   ],
   "source": [
    "import sys\n",
    "sys.path.insert(1, '..')\n",
    "\n",
    "import calc"
   ]
  },
  {
   "cell_type": "code",
   "execution_count": 1,
   "id": "2c3b11a5-5df5-442f-9bf7-b313f2370499",
   "metadata": {},
   "outputs": [
    {
     "ename": "NameError",
     "evalue": "name 'calc' is not defined",
     "output_type": "error",
     "traceback": [
      "\u001b[0;31m---------------------------------------------------------------------------\u001b[0m",
      "\u001b[0;31mNameError\u001b[0m                                 Traceback (most recent call last)",
      "Cell \u001b[0;32mIn[1], line 1\u001b[0m\n\u001b[0;32m----> 1\u001b[0m \u001b[43mcalc\u001b[49m\u001b[38;5;241m.\u001b[39madd_multiple(\u001b[38;5;241m1\u001b[39m, \u001b[38;5;241m2\u001b[39m, \u001b[38;5;241m3\u001b[39m)\n",
      "\u001b[0;31mNameError\u001b[0m: name 'calc' is not defined"
     ]
    }
   ],
   "source": [
    "calc.add_multiple(1, 2, 3)"
   ]
  },
  {
   "cell_type": "code",
   "execution_count": null,
   "id": "35045a87-9ca2-4b7c-a7b9-731d1a18d2a8",
   "metadata": {},
   "outputs": [],
   "source": []
  }
 ],
 "metadata": {
  "kernelspec": {
   "display_name": "Python 3 (ipykernel)",
   "language": "python",
   "name": "python3"
  },
  "language_info": {
   "codemirror_mode": {
    "name": "ipython",
    "version": 3
   },
   "file_extension": ".py",
   "mimetype": "text/x-python",
   "name": "python",
   "nbconvert_exporter": "python",
   "pygments_lexer": "ipython3",
   "version": "3.12.2"
  }
 },
 "nbformat": 4,
 "nbformat_minor": 5
}
