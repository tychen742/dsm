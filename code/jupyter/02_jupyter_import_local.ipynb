{
 "cells": [
  {
   "cell_type": "code",
   "execution_count": 1,
   "id": "47e6c89e-46a6-4ceb-a45c-2efb3d3b5e26",
   "metadata": {},
   "outputs": [
    {
     "name": "stdout",
     "output_type": "stream",
     "text": [
      "\n",
      "###################################################\n",
      "warming up\n",
      "###################################################\n",
      "add two:          15\n",
      "add multi values: 15\n",
      "sum lst for:      26\n",
      "sum lst sum():    26\n",
      "\n",
      "###################################################\n",
      "descriptive stats: 1/3 measures of central tendency\n",
      "###################################################\n",
      "mean of list:     3.25\n",
      "median of lst:    4.0\n",
      "mode of lst:      4\n",
      "\n",
      "###################################################\n",
      "descriptive stats: 2/3 measures of variability\n",
      "###################################################\n",
      "variance of lst:  96\n",
      "std deviation:    12.0\n",
      "\n",
      "###################################################\n",
      "descriptive stats: 3/3 measures of frequency distribution\n",
      "###################################################\n",
      "frequency of lst:  {1: 1, 2: 1, 3: 2, 4: 3, 5: 1}\n"
     ]
    }
   ],
   "source": [
    "import sys\n",
    "sys.path.append('..')\n",
    "\n",
    "import calc\n"
   ]
  },
  {
   "cell_type": "code",
   "execution_count": 2,
   "id": "2c3b11a5-5df5-442f-9bf7-b313f2370499",
   "metadata": {},
   "outputs": [],
   "source": [
    "# calc.add_multiple(1, 2, 3, 4)"
   ]
  },
  {
   "cell_type": "markdown",
   "id": "73ea6394-09ad-40ab-8562-be317066dc2f",
   "metadata": {},
   "source": [
    "### Exercise: import turtle_04_barchart_calc as tbc    # tab to select file"
   ]
  },
  {
   "cell_type": "code",
   "execution_count": 3,
   "id": "4a597604-76cb-4046-b914-c6673ae1a964",
   "metadata": {},
   "outputs": [],
   "source": [
    "sys.path.append('..')\n",
    "# import turtle_04_barchart_calc"
   ]
  },
  {
   "cell_type": "code",
   "execution_count": 34,
   "id": "82a00547-23ef-4d5c-b368-87f216f21df8",
   "metadata": {},
   "outputs": [],
   "source": [
    "lst = [1, 1, 2, 2, 2, 3, 3, 3, 3, 4, 4, 5, 1, 2, 2, 2, 3, 3, \n",
    "          3, 3, 4, 4, 5, 1, 2, 2,  3, 3, 4, 4, 5, 1, 2, 2, 2, 3, \n",
    "          3, 3, 3, 4, 4, 5, 1, 2, 2,  3, 3, 4, 4, 5, 1, 2, 2, 2, \n",
    "          3, 3, 3, 3, 4, 4, 5, 1, 2, 2,  3, 3, 4, 4, 5, 1, 2, 2,\n",
    "          2, 3, 3, 3, 3, 4, 4, 5, 1, 2, 2,  3, 3, 4, 4, 5, 1, 2, \n",
    "          2, 2, 3, 3, 3, 3, 4, 4, 5, 1, 2, 2,  3, 3, 4, 4, 5, 1, \n",
    "          2, 2, 2, 3, 3, 3, 3, 4, 4, 5, 1, 2, 2,  3, 3, 4, 4, 5, \n",
    "          1, 2, 2, 2, 3, 3, 3, 3, 4, 4, 5, 1, 2, 2,  3, 3, 4, 4, \n",
    "          5, 1, 2, 2, 2, 3, 3, 3, 3, 4, 4, 5, 1, 2, 2,  3, 3, 4, \n",
    "          4, 5, 1, 2, 2, 2, 3, 3, 3, 3, 4, 4, 5, 1, 2, 2,  3, 3, \n",
    "          4, 4, 5, 1, 2, 2, 2, 3, 3, 3, 3, 4, 4, 5, 1, 2, 2,  3, \n",
    "          3, 4, 4, 5, 1, 2, 2, 2, 3, 3, 3, 3, 4, 4, 5, 1, 2, 2,  \n",
    "          3, 3, 4, 4, 5, 1, 2, 2, 2, 3, 3, 3, 3, 4, 4, 5, 1, 2, 2,  \n",
    "          3, 3, 4, 4, 5, 1, 2, 2, 2, 3, 3, 3, 3, 4, 4, 5, 1, 2, 2,  \n",
    "          3, 3, 4, 4, 5, 1, 2, 2, 2, 3, 3, 3, 3, 4, 4, 5, 1, 2, 2,  \n",
    "          3, 3, 4, 4, 5, 1, 2, 2, 2, 3, 3, 3, 3, 4, 4, 5, 1, 2, 2,  \n",
    "          3, 3, 4, 4, 5, 1, 2, 2, 2, 3, 3, 3, 3, 4, 4, 5, 1, 2, 2, \n",
    "          2, 3, 3, 3, 3, 4, 4, 5, 1, 2, 2, 2, 3, 3, 3, 3, 4, 4, 5, \n",
    "          1, 2, 2, 2, 3, 3, 3, 3, 4, 4, 5, 1, 2, 2, 2, 3, 3, 3, 3, \n",
    "          4, 4, 5, 1, 2, 2, 2, 3, 3, 3, 3, 4, 4, 5, 1, 2, 2, 2, 3, \n",
    "          3, 3, 3, 4, 4, 5, 666]\n"
   ]
  },
  {
   "cell_type": "code",
   "execution_count": 35,
   "id": "5ec7c4ed-72a8-4653-abbf-e6ca1f3832d6",
   "metadata": {},
   "outputs": [
    {
     "name": "stdout",
     "output_type": "stream",
     "text": [
      "{1: 39, 2: 99, 3: 122, 4: 76, 5: 38, 666: 1}\n"
     ]
    }
   ],
   "source": [
    "freq_dict = calc.freq(lst)\n",
    "print(freq_dict)"
   ]
  },
  {
   "cell_type": "code",
   "execution_count": 36,
   "id": "b729fa90-68d1-4a9b-b38f-797cef7e5575",
   "metadata": {},
   "outputs": [],
   "source": [
    "import pandas as pd\n",
    "df = pd.DataFrame(freq_dict, index=[ 'Count'])"
   ]
  },
  {
   "cell_type": "code",
   "execution_count": 37,
   "id": "1e0b3b2c-9e8c-4157-a43e-f9bfc7aba9ac",
   "metadata": {},
   "outputs": [],
   "source": [
    "import matplotlib.pyplot as plt"
   ]
  },
  {
   "cell_type": "code",
   "execution_count": 38,
   "id": "6f7c4df7-b8ec-43e7-82f7-6b413d19c346",
   "metadata": {},
   "outputs": [
    {
     "name": "stdout",
     "output_type": "stream",
     "text": [
      "       1    2    3    4    5    666\n",
      "Count   39   99  122   76   38    1\n"
     ]
    }
   ],
   "source": [
    "print(df)"
   ]
  },
  {
   "cell_type": "code",
   "execution_count": 51,
   "id": "0fe8c4bc-4438-4de9-8c50-5f9c41398aec",
   "metadata": {},
   "outputs": [
    {
     "name": "stdout",
     "output_type": "stream",
     "text": [
      "Index([1, 2, 3, 4, 5, 666], dtype='int64')\n"
     ]
    }
   ],
   "source": [
    "print(df.columns)\n"
   ]
  },
  {
   "cell_type": "code",
   "execution_count": 50,
   "id": "1eebd013-4699-432f-899d-4a3f21844656",
   "metadata": {},
   "outputs": [
    {
     "name": "stdout",
     "output_type": "stream",
     "text": [
      "<bound method DataFrame.value_counts of        1    2    3    4    5    666\n",
      "Count   39   99  122   76   38    1>\n"
     ]
    }
   ],
   "source": [
    "print(df.value_counts)"
   ]
  },
  {
   "cell_type": "code",
   "execution_count": null,
   "id": "4f01fe74-532b-4b43-a1b8-3ed1fe7967d9",
   "metadata": {},
   "outputs": [],
   "source": []
  },
  {
   "cell_type": "code",
   "execution_count": null,
   "id": "768888f7-3f40-42e5-a85b-94175c1b8154",
   "metadata": {},
   "outputs": [],
   "source": []
  }
 ],
 "metadata": {
  "kernelspec": {
   "display_name": "Python 3 (ipykernel)",
   "language": "python",
   "name": "python3"
  },
  "language_info": {
   "codemirror_mode": {
    "name": "ipython",
    "version": 3
   },
   "file_extension": ".py",
   "mimetype": "text/x-python",
   "name": "python",
   "nbconvert_exporter": "python",
   "pygments_lexer": "ipython3",
   "version": "3.12.0"
  }
 },
 "nbformat": 4,
 "nbformat_minor": 5
}
