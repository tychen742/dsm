{
 "cells": [
  {
   "cell_type": "code",
   "execution_count": 9,
   "id": "47e6c89e-46a6-4ceb-a45c-2efb3d3b5e26",
   "metadata": {},
   "outputs": [],
   "source": [
    "import sys\n",
    "sys.path.append('..')\n",
    "\n",
    "import calc\n"
   ]
  },
  {
   "cell_type": "code",
   "execution_count": 12,
   "id": "2c3b11a5-5df5-442f-9bf7-b313f2370499",
   "metadata": {},
   "outputs": [
    {
     "data": {
      "text/plain": [
       "10"
      ]
     },
     "execution_count": 12,
     "metadata": {},
     "output_type": "execute_result"
    }
   ],
   "source": [
    "calc.add_multiple(1, 2, 3, 4)"
   ]
  },
  {
   "cell_type": "code",
   "execution_count": 4,
   "id": "fbcf0705-f87a-40da-a88f-77e0e0e5fd44",
   "metadata": {},
   "outputs": [],
   "source": [
    "# import turtle_04_barchart_calc as tbc    # tab to select file"
   ]
  },
  {
   "cell_type": "code",
   "execution_count": null,
   "id": "4a597604-76cb-4046-b914-c6673ae1a964",
   "metadata": {},
   "outputs": [],
   "source": []
  }
 ],
 "metadata": {
  "kernelspec": {
   "display_name": "Python 3 (ipykernel)",
   "language": "python",
   "name": "python3"
  },
  "language_info": {
   "codemirror_mode": {
    "name": "ipython",
    "version": 3
   },
   "file_extension": ".py",
   "mimetype": "text/x-python",
   "name": "python",
   "nbconvert_exporter": "python",
   "pygments_lexer": "ipython3",
   "version": "3.11.8"
  }
 },
 "nbformat": 4,
 "nbformat_minor": 5
}
