{
 "cells": [
  {
   "cell_type": "markdown",
   "id": "068f1978",
   "metadata": {},
   "source": [
    "# Lab 8: Estimation"
   ]
  },
  {
   "attachments": {},
   "cell_type": "markdown",
   "id": "caa18092",
   "metadata": {},
   "source": [
    "**Attention:**\n",
    "\n",
    "1. **Using the Notebook**\n",
    "    - Use Jupyter Notebook as instructed. We do **not** have the resources to support Anaconda or VS Code. \n",
    "    - Provide your answers in the designated spaces.\n",
    "    - Do not reassign variables! For example, if you use `max_temperature` for one question, do not reassign it later on (e.g., as an intermediate variable). Doing so may cauae you to fail tests you passed previously!\n",
    "2. **Grading**:\n",
    "    - Points may be scaled in Canvas.\n",
    "    - Most tests check the format and data types of your answers, not their correctness. Passing the tests does not guarantee the grade will be 100%.\n",
    "3. Academic honor:\n",
    "    - **DO NOT CHEAT!** Academic honor matters.  \n",
    "    - <font color='darkred'>**Use AI to LEARN, not to cheat**. **DO NOT copy-and-paste**</font>. Your advantage comes from your knowledge and skills on the subject. Do not rely on AI. \n",
    "    - Collaboration and using resources are encouraged, but **DO NOT directly share answers**. Always answer the questions and solve the problems by yourself. \n",
    "4. Getting help:\n",
    "    - Attend the TA's help sessions and the instructor's office hours.\n",
    "5. <font color=\"darkred\">**Time management**</font>: Start early in the assignment cycle and allocate enough time to complete the assignment properly."
   ]
  },
  {
   "cell_type": "code",
   "execution_count": 2,
   "id": "8804845f",
   "metadata": {
    "deletable": false,
    "editable": false
   },
   "outputs": [],
   "source": [
    "# Initialize Otter\n",
    "import otter\n",
    "grader = otter.Notebook(\"lab08.ipynb\")"
   ]
  },
  {
   "cell_type": "code",
   "execution_count": 1,
   "id": "3647599f",
   "metadata": {},
   "outputs": [],
   "source": [
    "# Run this cell, but please don't change it.\n",
    " \n",
    "# These lines import the Numpy and Datascience modules.\n",
    "import numpy as np\n",
    "from datascience import *\n",
    "\n",
    "# These lines do some fancy plotting magic.\n",
    "# import matplotlib\n",
    "%matplotlib inline\n",
    "import matplotlib.pyplot as plots\n",
    "plots.style.use('fivethirtyeight')\n",
    "import warnings\n",
    "warnings.simplefilter('ignore')"
   ]
  },
  {
   "cell_type": "markdown",
   "id": "edf9a3d2",
   "metadata": {},
   "source": [
    "# 1. Percentiles\n",
    "\n",
    "Numerical data (array, list, sequence, collection, etc) can be sorted in increasing or decreasing order. Thus the values of a numerical data set have a **rank order**. The value at a particular rank is called *p*th \"percentile\" of the data."
   ]
  },
  {
   "cell_type": "markdown",
   "id": "ee09b3df-a8b3-482f-9f5e-d80d1ce020a2",
   "metadata": {},
   "source": [
    "#### 1.1. Calculating Percentiles"
   ]
  },
  {
   "cell_type": "markdown",
   "id": "61b5d291",
   "metadata": {},
   "source": [
    "First, let's create an array using the make_array() function to help us learn about percentiles. In the space below, create an numpy array with elements of **12, 17, 6, 9, 7** and call it **nums**."
   ]
  },
  {
   "cell_type": "markdown",
   "id": "2ab4518c-6c39-4997-9dde-7d9dc56f666c",
   "metadata": {},
   "source": [
    "**q1.1.1 (0.5)** \n",
    "\n",
    "create your array here and call it nums\n"
   ]
  },
  {
   "cell_type": "code",
   "execution_count": 10,
   "id": "266cc2bf-78e3-48f4-a82a-7556595a467c",
   "metadata": {},
   "outputs": [
    {
     "data": {
      "text/plain": [
       "Ellipsis"
      ]
     },
     "execution_count": 10,
     "metadata": {},
     "output_type": "execute_result"
    }
   ],
   "source": [
    "..."
   ]
  },
  {
   "cell_type": "markdown",
   "id": "df26be62-821e-4b63-8ff2-2eca670a7da4",
   "metadata": {},
   "source": [
    "**q1.1.2 (0.5)**\n",
    "\n",
    "- jupyter notebook evaluate expressions interactively just like the Python shell\n",
    "- type your array name below and run the cell to see the array"
   ]
  },
  {
   "cell_type": "code",
   "execution_count": 11,
   "id": "c4987083-68c5-418e-9770-cfd2ff2a77e1",
   "metadata": {},
   "outputs": [
    {
     "data": {
      "text/plain": [
       "Ellipsis"
      ]
     },
     "execution_count": 11,
     "metadata": {},
     "output_type": "execute_result"
    }
   ],
   "source": [
    "..."
   ]
  },
  {
   "cell_type": "markdown",
   "id": "a2f7da51-c577-410b-b6ef-962c483643b8",
   "metadata": {},
   "source": [
    "**q1.1.3 (0.5)**\n",
    "- it is important to always know the data type of your data\n",
    "- show the type of nums below by using the type function"
   ]
  },
  {
   "cell_type": "code",
   "execution_count": 12,
   "id": "14191266-ce74-4e7f-8be8-d68508c4468d",
   "metadata": {},
   "outputs": [
    {
     "data": {
      "text/plain": [
       "Ellipsis"
      ]
     },
     "execution_count": 12,
     "metadata": {},
     "output_type": "execute_result"
    }
   ],
   "source": [
    "..."
   ]
  },
  {
   "cell_type": "code",
   "execution_count": 13,
   "id": "f69b9e08-55b7-41a6-93f1-a67a81555fc4",
   "metadata": {},
   "outputs": [
    {
     "data": {
      "text/plain": [
       "Ellipsis"
      ]
     },
     "execution_count": 13,
     "metadata": {},
     "output_type": "execute_result"
    }
   ],
   "source": [
    "### q1.1.4 (0.5)\n",
    "### sort the array in increasing order using the numpy sort function and\n",
    "### reassign the ordered array to the same variable name nums\n",
    "..."
   ]
  },
  {
   "cell_type": "markdown",
   "id": "d7e71d81-cb0a-455b-a138-f0ea83412ee3",
   "metadata": {},
   "source": [
    "**q1.1.5 (2 points)**\n",
    "\n",
    "the 50th percentile of a sequence is its median.\n",
    "your favorite isntructor has created a one-liner to find the median of a sequence.\n",
    "the one-liner actually almost works if he has not made 3 mistakes. correct your instructor by:\n",
    "1. fix the code.\n",
    "2. replace the text below with your descriptive corrections in the format of change the XXX to YYY because of ZZZ. "
   ]
  },
  {
   "cell_type": "code",
   "execution_count": 14,
   "id": "f417a89f-cc30-4577-9829-b7c208f8a48a",
   "metadata": {},
   "outputs": [],
   "source": [
    "# nums[float(np.floor(50/100 * len(nums)))]\n",
    "...            ### fixed code in this line"
   ]
  },
  {
   "cell_type": "markdown",
   "id": "94cf6fb8-9c7c-4010-930f-489ff0be3f0b",
   "metadata": {},
   "source": [
    "<font color='blue'>_correction 1 is about data type. replace this text with your correction._</font>\n",
    "\n",
    "<font color='green'>_correction 2 is about the *p*th percentile being the smallest value in the collection that is at least as learge as p% of the collection._</font>\n",
    "\n",
    "<font color='red'>_correction 3 is about subscripting to reference the right element._</font>\n"
   ]
  },
  {
   "cell_type": "markdown",
   "id": "1cc5d70d-3e27-4093-be0a-ea08463136f2",
   "metadata": {},
   "source": [
    "**q1.1.6 (1 point)**\n",
    "- eventually, we use the percentile function to find our median.\n",
    "- use the percentile function to find the median of the array numbers with elements of 1, 2, 3, 4, 4, 4, 4, 4, 5, 6, 7 "
   ]
  },
  {
   "cell_type": "code",
   "execution_count": 16,
   "id": "27e94345-d0b1-4a24-854f-73ecca6e8644",
   "metadata": {},
   "outputs": [],
   "source": [
    "### create the array using the make_array function and assign to variable name numbers\n",
    "### get the median of the list using the percentile function\n",
    "numbers = ...\n",
    "median_of_numbers = ...          ### get the median "
   ]
  },
  {
   "cell_type": "markdown",
   "id": "d4fc7084-0a86-4449-afed-988dce4ca207",
   "metadata": {},
   "source": [
    "#### 1.2. Visulization"
   ]
  },
  {
   "cell_type": "markdown",
   "id": "f27252ea-903e-4b10-aaf1-d41c45113838",
   "metadata": {},
   "source": [
    "**q1.2.1** \n",
    "\n",
    "set your path_data variable correctly to access the datasets in your data folder. \n"
   ]
  },
  {
   "cell_type": "code",
   "execution_count": 27,
   "id": "fb5e9659-954f-418d-a73e-5fe9e3c955db",
   "metadata": {},
   "outputs": [],
   "source": [
    "path_data = '../../data/'"
   ]
  },
  {
   "cell_type": "markdown",
   "id": "50689375-7dac-4beb-979f-863e2eff029a",
   "metadata": {},
   "source": [
    "**q1.2.2**\n",
    "\n",
    "load the dataset (the \"scores_and_sections\" table in file 'scores_by_section.csv')\n"
   ]
  },
  {
   "cell_type": "code",
   "execution_count": 28,
   "id": "cc2052db-bc57-400e-9b8e-181cb9441fa3",
   "metadata": {},
   "outputs": [],
   "source": [
    "scores_and_sections = Table.read_table(path_data+ \"/scores_by_section.csv\")\n"
   ]
  },
  {
   "cell_type": "markdown",
   "id": "e78e10e0-8a17-45ca-9eaf-fd979aaec77f",
   "metadata": {},
   "source": [
    "**q1.2.3** \n",
    "\n",
    "you may want to take a look at the table before moving on: use the show() function to show 5 rows\n"
   ]
  },
  {
   "cell_type": "code",
   "execution_count": 29,
   "id": "c4026550-7117-4c36-aabb-e536b6977ccf",
   "metadata": {},
   "outputs": [
    {
     "data": {
      "text/plain": [
       "Ellipsis"
      ]
     },
     "execution_count": 29,
     "metadata": {},
     "output_type": "execute_result"
    }
   ],
   "source": [
    "...          ### show 5 rows of the table"
   ]
  },
  {
   "cell_type": "markdown",
   "id": "b27e4d1b-66ed-4099-aa53-e3b89f73afa0",
   "metadata": {},
   "source": [
    "**q1.2.4**\n",
    "\n",
    "find the median of the Midterm scores using the percentile() function\n"
   ]
  },
  {
   "cell_type": "code",
   "execution_count": 30,
   "id": "40ec31dd-9fc3-4ec4-82d2-c211ff5b0039",
   "metadata": {},
   "outputs": [],
   "source": [
    "the_median = percentile(50, scores_and_sections['Midterm'])"
   ]
  },
  {
   "cell_type": "markdown",
   "id": "0da8ff89-ea68-4083-b118-881cc414ab98",
   "metadata": {},
   "source": [
    "**q1.2.5** \n",
    "\n",
    "- create a histogram of the midterm scores\n",
    "- use np.arange(-0.5, 25.6, 1) for bins"
   ]
  },
  {
   "cell_type": "code",
   "execution_count": 32,
   "id": "ea5c7248-be8a-4d59-8a64-2a36c6afc589",
   "metadata": {},
   "outputs": [
    {
     "data": {
      "text/plain": [
       "<matplotlib.collections.PathCollection at 0x12b28ee10>"
      ]
     },
     "execution_count": 32,
     "metadata": {},
     "output_type": "execute_result"
    },
    {
     "data": {
      "image/png": "[encoded data removed]",
      "text/plain": [
       "<Figure size 600x400 with 1 Axes>"
      ]
     },
     "metadata": {},
     "output_type": "display_data"
    }
   ],
   "source": [
    "scores_and_sections.hist(\"Midterm\", bins=np.arange(-0.5, 25.6, 1))\n",
    "\n",
    "### plot the_median using following code\n",
    "parameter_green = '#32CD32'\n",
    "plots.ylim(-0.002, .08)\n",
    "plots.scatter(the_median, 0, color=parameter_green, s=40, zorder=2)"
   ]
  },
  {
   "cell_type": "markdown",
   "id": "7b3118fd-a664-4eb7-8bc7-2f6253489b4c",
   "metadata": {},
   "source": [
    "Note: Your histogram should look like this:\n",
    "\n",
    "<img src=\"midterm.jpg\" width = 350>"
   ]
  },
  {
   "cell_type": "markdown",
   "id": "caf1a49d-d42e-4e5d-b6d0-98f0ebeff18b",
   "metadata": {},
   "source": [
    "What function puts the green dot on the histogram? "
   ]
  },
  {
   "cell_type": "markdown",
   "id": "b94aa5dc-270a-44a2-aee9-31a551f531d6",
   "metadata": {},
   "source": [
    "<font color='blue'> ... _replace this text with your answer._</font>"
   ]
  },
  {
   "cell_type": "markdown",
   "id": "1e0cdf2d-edc2-429b-8530-29be57d54ddf",
   "metadata": {},
   "source": [
    "## 2. The Bootstrap Process\n",
    "\n",
    "We will use bootstrap to estimate the population median. The idea is, we have some delay data in minutes about United Airline. We want to estimate how many minutes delay we will experence if we take United Airline. (This can be interpreted as we are treating the United Airline delay dataset as the population dataset, which is usually not available.)"
   ]
  },
  {
   "cell_type": "markdown",
   "id": "5cb24098-214c-4a75-8ed8-d4d3e7adc3f7",
   "metadata": {},
   "source": [
    "**q2.1.1** \n",
    "\n",
    "load the dataset 'united_summer2015.csv' and call it united"
   ]
  },
  {
   "cell_type": "code",
   "execution_count": 33,
   "id": "7ecad7d8",
   "metadata": {},
   "outputs": [],
   "source": [
    "united = Table.read_table(path_data + 'united_summer2015.csv')"
   ]
  },
  {
   "cell_type": "markdown",
   "id": "1bf51bf3-0142-496e-9700-5824383fe7bb",
   "metadata": {},
   "source": [
    "**q2.1.2** \n",
    "\n",
    "show the first three lines of sf2019 using the show() function"
   ]
  },
  {
   "cell_type": "code",
   "execution_count": 35,
   "id": "5ba8be63-cf57-475b-adfe-6b1b8ced0e33",
   "metadata": {},
   "outputs": [
    {
     "data": {
      "text/html": [
       "<table border=\"1\" class=\"dataframe\">\n",
       "    <thead>\n",
       "        <tr>\n",
       "            <th>Date</th> <th>Flight Number</th> <th>Destination</th> <th>Delay</th>\n",
       "        </tr>\n",
       "    </thead>\n",
       "    <tbody>\n",
       "        <tr>\n",
       "            <td>6/1/15</td> <td>73           </td> <td>HNL        </td> <td>257  </td>\n",
       "        </tr>\n",
       "        <tr>\n",
       "            <td>6/1/15</td> <td>217          </td> <td>EWR        </td> <td>28   </td>\n",
       "        </tr>\n",
       "        <tr>\n",
       "            <td>6/1/15</td> <td>237          </td> <td>STL        </td> <td>-3   </td>\n",
       "        </tr>\n",
       "    </tbody>\n",
       "</table>\n",
       "<p>... (13822 rows omitted)</p>"
      ],
      "text/plain": [
       "<IPython.core.display.HTML object>"
      ]
     },
     "metadata": {},
     "output_type": "display_data"
    }
   ],
   "source": [
    "united.show(3)"
   ]
  },
  {
   "cell_type": "code",
   "execution_count": null,
   "id": "bd1ff8d0-487e-4692-96de-e9f0e6acdfdd",
   "metadata": {},
   "outputs": [],
   "source": []
  },
  {
   "cell_type": "markdown",
   "id": "d454602b",
   "metadata": {},
   "source": [
    "**q2.1.3** stats()\n",
    "\n",
    "The stats() function gives us basic descriptive statistics about the table."
   ]
  },
  {
   "cell_type": "code",
   "execution_count": 37,
   "id": "beec1ccf-f9b7-4e08-95ea-5ac105a57e62",
   "metadata": {},
   "outputs": [
    {
     "data": {
      "text/html": [
       "<table border=\"1\" class=\"dataframe\">\n",
       "    <thead>\n",
       "        <tr>\n",
       "            <th>statistic</th> <th>Date</th> <th>Flight Number</th> <th>Destination</th> <th>Delay</th>\n",
       "        </tr>\n",
       "    </thead>\n",
       "    <tbody>\n",
       "        <tr>\n",
       "            <td>min      </td> <td>6/1/15</td> <td>3            </td> <td>ANC        </td> <td>-16   </td>\n",
       "        </tr>\n",
       "        <tr>\n",
       "            <td>max      </td> <td>8/9/15</td> <td>2117         </td> <td>STL        </td> <td>580   </td>\n",
       "        </tr>\n",
       "        <tr>\n",
       "            <td>median   </td> <td>      </td> <td>1178         </td> <td>           </td> <td>2     </td>\n",
       "        </tr>\n",
       "        <tr>\n",
       "            <td>sum      </td> <td>      </td> <td>1.56695e+07  </td> <td>           </td> <td>230299</td>\n",
       "        </tr>\n",
       "    </tbody>\n",
       "</table>"
      ],
      "text/plain": [
       "statistic | Date   | Flight Number | Destination | Delay\n",
       "min       | 6/1/15 | 3             | ANC         | -16\n",
       "max       | 8/9/15 | 2117          | STL         | 580\n",
       "median    |        | 1178          |             | 2\n",
       "sum       |        | 1.56695e+07   |             | 230299"
      ]
     },
     "execution_count": 37,
     "metadata": {},
     "output_type": "execute_result"
    }
   ],
   "source": [
    "### just run this cell\n",
    "united.stats()"
   ]
  },
  {
   "cell_type": "markdown",
   "id": "600ec8bc-2c9e-400a-800b-826af38b8183",
   "metadata": {},
   "source": [
    "**q2.1.4** \n",
    "\n",
    "Based on the output of the code, above, which of the following would be a good bins for displaying a histogram of the Delay minutes? Place your answer in the cell below. \n",
    "\n",
    "1. np.arange(-20, 600, 10)\n",
    "2. np.arange(-20, 580, 10)\n",
    "3. np.arange(-10, 580, 10)\n",
    "4. np.arange(-10, 600, 10)"
   ]
  },
  {
   "cell_type": "markdown",
   "id": "d2d853d7-5599-4d45-a78e-849616304fd8",
   "metadata": {},
   "source": [
    "<font color='blue'> ... _replace this text with your answer._</font>"
   ]
  },
  {
   "cell_type": "markdown",
   "id": "ddc571d0-b113-4f35-84e8-6102474c985b",
   "metadata": {},
   "source": [
    "**q2.2** Visualization\n",
    "\n",
    "Use the bins you choose above to create a hitogram to show the \"Delay\" information in the united table."
   ]
  },
  {
   "cell_type": "code",
   "execution_count": 39,
   "id": "557ad95a",
   "metadata": {
    "deletable": false,
    "tags": []
   },
   "outputs": [
    {
     "data": {
      "image/png": "[encoded data removed]",
      "text/plain": [
       "<Figure size 600x400 with 1 Axes>"
      ]
     },
     "metadata": {},
     "output_type": "display_data"
    }
   ],
   "source": [
    "delay_bins = np.arange(-20, 600, 10)            ### use this bin\n",
    "united.select('Delay').hist(bins=delay_bins)   ### create histogram"
   ]
  },
  {
   "attachments": {},
   "cell_type": "markdown",
   "id": "fd15c561-ae88-4da8-962b-814e4c25b43c",
   "metadata": {},
   "source": [
    "**q2.3.** Data cleasing\n",
    "\n",
    "Obvriously the right tail of this distribution is very long and we should consider reasonable data cleasing. Supposed you are a domain expert and you think we should use 150 minutes as a cutoff point for this task. \n",
    "\n",
    "Use a line of code to remove the rows with greator than 150 minutes in delay. Reassign the new table to  name it united_cleaned."
   ]
  },
  {
   "cell_type": "code",
   "execution_count": 41,
   "id": "783e1210-fdbd-4c57-b1ed-51d68962e60d",
   "metadata": {},
   "outputs": [],
   "source": [
    "### write your line of code here\n",
    "united_cleaned = united.where('Delay', are.below(150))"
   ]
  },
  {
   "cell_type": "code",
   "execution_count": 43,
   "id": "8f852e64-01af-4ee7-8de9-444c47c48ec7",
   "metadata": {},
   "outputs": [
    {
     "data": {
      "text/html": [
       "<table border=\"1\" class=\"dataframe\">\n",
       "    <thead>\n",
       "        <tr>\n",
       "            <th>statistic</th> <th>Date</th> <th>Flight Number</th> <th>Destination</th> <th>Delay</th>\n",
       "        </tr>\n",
       "    </thead>\n",
       "    <tbody>\n",
       "        <tr>\n",
       "            <td>min      </td> <td>6/1/15</td> <td>3            </td> <td>ANC        </td> <td>-16   </td>\n",
       "        </tr>\n",
       "        <tr>\n",
       "            <td>max      </td> <td>8/9/15</td> <td>2117         </td> <td>STL        </td> <td>149   </td>\n",
       "        </tr>\n",
       "        <tr>\n",
       "            <td>median   </td> <td>      </td> <td>1178         </td> <td>           </td> <td>2     </td>\n",
       "        </tr>\n",
       "        <tr>\n",
       "            <td>sum      </td> <td>      </td> <td>1.54053e+07  </td> <td>           </td> <td>177079</td>\n",
       "        </tr>\n",
       "    </tbody>\n",
       "</table>"
      ],
      "text/plain": [
       "statistic | Date   | Flight Number | Destination | Delay\n",
       "min       | 6/1/15 | 3             | ANC         | -16\n",
       "max       | 8/9/15 | 2117          | STL         | 149\n",
       "median    |        | 1178          |             | 2\n",
       "sum       |        | 1.54053e+07   |             | 177079"
      ]
     },
     "execution_count": 43,
     "metadata": {},
     "output_type": "execute_result"
    }
   ],
   "source": [
    "### just run this cell to see the stats\n",
    "united_cleaned.stats()"
   ]
  },
  {
   "cell_type": "markdown",
   "id": "1cc3d3c0-f6fa-49eb-8c7f-af2043177742",
   "metadata": {},
   "source": [
    "**q2.3.3** \n",
    "\n",
    "Use the num_row attribute to check the number of rows in the united_cleaned table."
   ]
  },
  {
   "cell_type": "code",
   "execution_count": 62,
   "id": "87db34fb-de03-4a04-95f6-bdc398edd69e",
   "metadata": {},
   "outputs": [],
   "source": [
    "### type your code here\n",
    "..."
   ]
  },
  {
   "cell_type": "markdown",
   "id": "725c0e4e-9c9c-4848-b05b-30a270a079e6",
   "metadata": {},
   "source": [
    "We want to visualize the cleaned data"
   ]
  },
  {
   "cell_type": "code",
   "execution_count": 49,
   "id": "28e5512e-ac10-4972-a8b3-1a865426bfc6",
   "metadata": {},
   "outputs": [
    {
     "data": {
      "image/png": "[encoded data removed]",
      "text/plain": [
       "<Figure size 600x400 with 1 Axes>"
      ]
     },
     "metadata": {},
     "output_type": "display_data"
    }
   ],
   "source": [
    "### NOTE THAT we defined a new bins variable here.\n",
    "### just run the code\n",
    "new_bins = np.arange(-20, 150, 5)\n",
    "united_cleaned.select('Delay').hist(bins=new_bins)"
   ]
  },
  {
   "cell_type": "markdown",
   "id": "bcaa4d73",
   "metadata": {},
   "source": [
    "**q2.4.** The paramter: median\n",
    "\n",
    "Calculate the median of the minutes of delay using one line of code and call it pop_median."
   ]
  },
  {
   "cell_type": "code",
   "execution_count": 51,
   "id": "c8603d40-58c6-49da-aea4-50a635018794",
   "metadata": {},
   "outputs": [
    {
     "data": {
      "text/plain": [
       "2"
      ]
     },
     "execution_count": 51,
     "metadata": {},
     "output_type": "execute_result"
    }
   ],
   "source": [
    "pop_median = percentile(50, united_cleaned.column('Delay'))\n",
    "pop_median"
   ]
  },
  {
   "cell_type": "markdown",
   "id": "20046ac5-d167-435b-a633-5085df385659",
   "metadata": {
    "tags": []
   },
   "source": [
    "**q2.4.** Random sampling\n",
    "\n",
    "- draw a sample of 500 delays at random without replacement from the cleaned table\n",
    "- visualize the data to see how different it is from the population"
   ]
  },
  {
   "cell_type": "code",
   "execution_count": 52,
   "id": "3379269b-4dc4-4c88-958b-71c321394d1c",
   "metadata": {},
   "outputs": [
    {
     "data": {
      "image/png": "[encoded data removed]",
      "text/plain": [
       "<Figure size 600x400 with 1 Axes>"
      ]
     },
     "metadata": {},
     "output_type": "display_data"
    }
   ],
   "source": [
    "our_sample = united_cleaned.sample(500, with_replacement=False)    ### 500 random samples\n",
    "our_sample.select('Delay').hist(bins = new_bins)                   ### histogram using the new bin"
   ]
  },
  {
   "cell_type": "markdown",
   "id": "7904f318-9860-44c6-879a-c71207213db2",
   "metadata": {},
   "source": [
    "**q2.5.** Estimate the parameter\n",
    "\n",
    "- find the median delay of the sampled employees serve as our estimate of the parameter\n",
    "- Use a one-line code to calculate the estimated median of our sample.\n",
    "- the result should not be too far away from the pop_median"
   ]
  },
  {
   "cell_type": "code",
   "execution_count": 65,
   "id": "6fc56acc-9996-4fe1-8c51-2ba5346ec75f",
   "metadata": {},
   "outputs": [
    {
     "data": {
      "text/plain": [
       "2"
      ]
     },
     "execution_count": 65,
     "metadata": {},
     "output_type": "execute_result"
    }
   ],
   "source": [
    "percentile(50, our_sample.column('Delay'))"
   ]
  },
  {
   "cell_type": "markdown",
   "id": "519e3a17-d4d7-498a-b5a6-c2553b1de98a",
   "metadata": {},
   "source": [
    "**q2.6.** The bootstrap: A resampled median\n",
    "\n",
    "- use a one-line code to resample the our_sample distribution and create a delay histogram."
   ]
  },
  {
   "cell_type": "code",
   "execution_count": 73,
   "id": "6ac13d58-ec17-4a4c-9f51-601769cbf994",
   "metadata": {},
   "outputs": [],
   "source": [
    "### resample our_sample and call it resample_1\n",
    "resample_1 = our_sample.sample()"
   ]
  },
  {
   "cell_type": "markdown",
   "id": "14dee4b3-f88b-4e2d-9b2c-ecf43e58a2a9",
   "metadata": {},
   "source": [
    "- just to check how different this resampling is from the original sample (our_sample)\n",
    "- create a delay histogram of resample_1 using new_bins"
   ]
  },
  {
   "cell_type": "code",
   "execution_count": 72,
   "id": "17953014-3049-492a-9a33-30b9eea284b1",
   "metadata": {},
   "outputs": [
    {
     "data": {
      "image/png": "[encoded data removed]",
      "text/plain": [
       "<Figure size 600x400 with 1 Axes>"
      ]
     },
     "metadata": {},
     "output_type": "display_data"
    }
   ],
   "source": [
    "### histogram of resample_1 on delay\n",
    "resample_1.select('Delay').hist(bins = new_bins)"
   ]
  },
  {
   "cell_type": "markdown",
   "id": "916f9422-75a9-4839-ba12-045f3a6fa756",
   "metadata": {},
   "source": [
    "**q2.7.** \n",
    "\n",
    "calculate the estiamte of the population median and call it resample_median_1"
   ]
  },
  {
   "cell_type": "code",
   "execution_count": 75,
   "id": "11ee61ae-be38-41f0-8057-b97d4f655488",
   "metadata": {},
   "outputs": [
    {
     "data": {
      "text/plain": [
       "2"
      ]
     },
     "execution_count": 75,
     "metadata": {},
     "output_type": "execute_result"
    }
   ],
   "source": [
    "resample_median_1 = percentile(50, resample_1.column('Delay'))    ### resample_median_1\n",
    "resample_median_1                                                 ### evaluate resample_median_1"
   ]
  },
  {
   "cell_type": "markdown",
   "id": "43ec378a-86be-41c7-b834-901ca1f9c9a5",
   "metadata": {},
   "source": [
    "**q2.8** resample the sample many tims to create an empirical distution of the estimates:\n",
    "\n",
    "- define a function, call it one_bootstrap_median, to retunr one bootstrapped median of delays based on the original random sample \"our_sample\". "
   ]
  },
  {
   "cell_type": "code",
   "execution_count": 77,
   "id": "e973b603-f1a1-4fa8-941f-f23ee44ebd73",
   "metadata": {},
   "outputs": [],
   "source": [
    "def one_bootstrap_median():                                            ### function header\n",
    "    resample_tbl = our_sample.sample()                                 ### sample our_sample to a new table, call it resample_tbl\n",
    "    bootstrapped_median = percentile(50, resample_tbl.column('Delay')) ### calculate the median, call it bootstrapped_median\n",
    "    return bootstrapped_median                                         ### return the obtained median"
   ]
  },
  {
   "cell_type": "code",
   "execution_count": 92,
   "id": "bddbc2ce-5696-4902-814c-22391ee9c72b",
   "metadata": {},
   "outputs": [
    {
     "data": {
      "text/plain": [
       "2"
      ]
     },
     "execution_count": 92,
     "metadata": {},
     "output_type": "execute_result"
    }
   ],
   "source": [
    "### calling this function multiple times (Control+Enter) should help your understanding about resampling\n",
    "one_bootstrap_median()"
   ]
  },
  {
   "cell_type": "markdown",
   "id": "c5596204-deb2-4744-8ebb-a71374e68ba8",
   "metadata": {},
   "source": [
    "**q2.9.** bootstrap empirical distribution of the sample median\n",
    "\n",
    "1. we are asking for 5000 repetitions. Create a variable for this and call it num_repetitions.\n",
    "2. create an empty array called bstrap_medians.\n",
    "3. design a for loop to call the one_bootstrap_median function 5000 times and save the medians to the array."
   ]
  },
  {
   "cell_type": "code",
   "execution_count": 93,
   "id": "c7c22e38-194e-4192-b369-21ce2f37287b",
   "metadata": {},
   "outputs": [],
   "source": [
    "num_repetitions = 5000                 ### define num_repetitions\n",
    "bstrap_medians = make_array()          ### create the empty array called bstrap_medians\n",
    "for i in np.arange(num_repetitions):   ### a for loop to run num_repetitions times\n",
    "    bstrap_medians = np.append (bstrap_medians, one_bootstrap_median())     ### append the medians to the array"
   ]
  },
  {
   "cell_type": "code",
   "execution_count": 100,
   "id": "44b76315-2cc3-4e8b-8c15-637ce4de6127",
   "metadata": {},
   "outputs": [
    {
     "data": {
      "text/html": [
       "<table border=\"1\" class=\"dataframe\">\n",
       "    <thead>\n",
       "        <tr>\n",
       "            <th>statistic</th> <th>Bootstrap Sample Median</th>\n",
       "        </tr>\n",
       "    </thead>\n",
       "    <tbody>\n",
       "        <tr>\n",
       "            <td>min      </td> <td>0                      </td>\n",
       "        </tr>\n",
       "        <tr>\n",
       "            <td>max      </td> <td>4                      </td>\n",
       "        </tr>\n",
       "        <tr>\n",
       "            <td>median   </td> <td>2                      </td>\n",
       "        </tr>\n",
       "        <tr>\n",
       "            <td>sum      </td> <td>9134                   </td>\n",
       "        </tr>\n",
       "    </tbody>\n",
       "</table>"
      ],
      "text/plain": [
       "statistic | Bootstrap Sample Median\n",
       "min       | 0\n",
       "max       | 4\n",
       "median    | 2\n",
       "sum       | 9134"
      ]
     },
     "execution_count": 100,
     "metadata": {},
     "output_type": "execute_result"
    }
   ],
   "source": [
    "### use the stats() function for basic information\n",
    "### run the code and observe the table\n",
    "### we can use the min/max for our bins\n",
    "resampled_medians.stats()"
   ]
  },
  {
   "cell_type": "markdown",
   "id": "caf52367-3067-4aa4-80ba-f8197e4fd588",
   "metadata": {},
   "source": [
    "**q2.10.** turn the median array to a table so that we can visualize the distribution\n",
    "\n",
    "- create and call the table resampled_medians\n",
    "- create a histogram with bins (0.5, 5.1, 1) based on the stats above"
   ]
  },
  {
   "cell_type": "code",
   "execution_count": 102,
   "id": "158af0e4-5784-4ecb-adfc-5bcd44b62a83",
   "metadata": {},
   "outputs": [
    {
     "data": {
      "image/png": "[encoded data removed]",
      "text/plain": [
       "<Figure size 600x400 with 1 Axes>"
      ]
     },
     "metadata": {},
     "output_type": "display_data"
    }
   ],
   "source": [
    "resampled_medians = Table().with_column('Bootstrap Sample Median', bstrap_medians)\n",
    "resampled_medians.hist(bins = np.arange(0.5, 5.1, 1))\n",
    "\n",
    "# plotting the pop_median; you can ignore this code\n",
    "parameter_green = '#32CD32'\n",
    "plots.ylim(-0.05, 1)\n",
    "plots.scatter(pop_median, 0, color=parameter_green, s=40, zorder=2);"
   ]
  },
  {
   "cell_type": "markdown",
   "id": "e26ec10c-52d9-4a7f-b9e5-627ba68fb3f5",
   "metadata": {},
   "source": [
    "**q2.11.** do the estimates capture the parameter?\n",
    "\n",
    "- calculating the “middle 95%” interval of resampled medians: "
   ]
  },
  {
   "cell_type": "code",
   "execution_count": 130,
   "id": "bb08bd8a-fce0-441a-b2cf-a09e633df7f2",
   "metadata": {},
   "outputs": [
    {
     "data": {
      "text/plain": [
       "array([ 1.,  3.])"
      ]
     },
     "execution_count": 130,
     "metadata": {},
     "output_type": "execute_result"
    }
   ],
   "source": [
    "left = percentile(2.5, bstrap_medians)         ### the left 2.5%\n",
    "right = percentile(97.5, bstrap_medians)       ### the right 97.5%\n",
    "make_array(left, right)"
   ]
  },
  {
   "cell_type": "markdown",
   "id": "297c6044-e087-4324-9514-16f929ab59f1",
   "metadata": {},
   "source": [
    "**q2.12** \n",
    "\n",
    "is the population median between the two numbers (left and right)?"
   ]
  },
  {
   "cell_type": "markdown",
   "id": "07bc0e92-0aed-49e1-8572-a2ab9b141eef",
   "metadata": {},
   "source": [
    "_<font color='blue'>answer the question; replacing this text</font>_"
   ]
  },
  {
   "cell_type": "markdown",
   "id": "2983925e-b00a-4fcf-beca-d01286c3e00a",
   "metadata": {},
   "source": [
    "**q2.13.** plotting the histogram"
   ]
  },
  {
   "cell_type": "code",
   "execution_count": 131,
   "id": "8b303527-ed57-46b2-b23f-cb72760f8e09",
   "metadata": {},
   "outputs": [
    {
     "data": {
      "image/png": "[encoded data removed]",
      "text/plain": [
       "<Figure size 600x400 with 1 Axes>"
      ]
     },
     "metadata": {},
     "output_type": "display_data"
    }
   ],
   "source": [
    "### run the code\n",
    "resampled_medians.hist(bins = np.arange(0.5, 5.1, 1))\n",
    "\n",
    "# plotting parameters; you can ignore this code\n",
    "plots.ylim(-0.05, 1)\n",
    "plots.plot([left, right], [0, 0], color='yellow', lw=3, zorder=1)\n",
    "plots.scatter(pop_median, 0, color=parameter_green, s=40, zorder=2);"
   ]
  },
  {
   "cell_type": "markdown",
   "id": "113fbe41-5219-4db5-8715-e082a1467401",
   "metadata": {},
   "source": [
    "Your histogram should look like this:\n",
    "\n",
    "<img src='medians_intervals.jpg' width=250>"
   ]
  },
  {
   "cell_type": "markdown",
   "id": "77ca0dad-e727-45cc-9e23-23d87a7fa238",
   "metadata": {},
   "source": [
    "- The “middle 95%” interval of estimates captured the parameter in our example. "
   ]
  },
  {
   "cell_type": "markdown",
   "id": "a1360dcc-334b-4c7a-a45a-97c8ce8533c3",
   "metadata": {},
   "source": [
    "<p>&nbsp;</p>\n",
    "\n",
    "`Good Job! You are done with this assignment!`\n",
    "\n",
    "## Submission Instructions\n",
    "\n",
    "Follow these steps to submit your work:\n",
    "\n",
    "1. Save your notebook file:\n",
    "   - Click on File -> Save Notebook, or simply click on the Save icon.\n",
    "2. Restart Kernel and Run All Cells:\n",
    "   - In the menu, go to Kernel → Restart Kernel and Run All Cells.\n",
    "3. Verify your work:\n",
    "   - Scroll through the notebook to ensure everything runs smoothly without unexpected error messages. \n",
    "   - In case of interruptions caused by execution errors, use \"Run ==> Selected Cell and All Below\" to continue execution. \n",
    "4. Save the notebook again to confirm all changes.\n",
    "5. Create a duplicate notebook for submission:\n",
    "   - In the Jupyter Notebook dashboard/homepage, create a duplicate of this notebook\n",
    "   - Rename the duplicate from *assignment.ipynb_copy* to *assignment_FIRSTNAME_LASTNAME.ipynb* (e.g., *a01_TSANGYAO_CHEN.ipynb*) for submission.\n",
    "   - Keep your original notebook file as a backup.\n",
    "6. Upload your renamed notebook to Canvas."
   ]
  },
  {
   "cell_type": "code",
   "execution_count": null,
   "id": "a551c3de-949b-4709-8d04-c4113b033351",
   "metadata": {},
   "outputs": [],
   "source": []
  }
 ],
 "metadata": {
  "kernelspec": {
   "display_name": "Python 3 (ipykernel)",
   "language": "python",
   "name": "python3"
  },
  "language_info": {
   "codemirror_mode": {
    "name": "ipython",
    "version": 3
   },
   "file_extension": ".py",
   "mimetype": "text/x-python",
   "name": "python",
   "nbconvert_exporter": "python",
   "pygments_lexer": "ipython3",
   "version": "3.12.2"
  },
  "otter": {
   "OK_FORMAT": true,
   "tests": {
    "q1_3": {
     "name": "q1_3",
     "points": null,
     "suites": [
      {
       "cases": [
        {
         "code": ">>> round(age_mean, 3) == 27.228\nTrue",
         "hidden": false,
         "locked": false
        },
        {
         "code": ">>> round(age_sd, 3) == 5.815\nTrue",
         "hidden": false,
         "locked": false
        }
       ],
       "scored": true,
       "setup": "",
       "teardown": "",
       "type": "doctest"
      }
     ]
    },
    "q1_4": {
     "name": "q1_4",
     "points": null,
     "suites": [
      {
       "cases": [
        {
         "code": ">>> round(height_mean, 3) == 64.049\nTrue",
         "hidden": false,
         "locked": false
        },
        {
         "code": ">>> round(height_sd, 3) == 2.525\nTrue",
         "hidden": false,
         "locked": false
        }
       ],
       "scored": true,
       "setup": "",
       "teardown": "",
       "type": "doctest"
      }
     ]
    },
    "q2_1": {
     "name": "q2_1",
     "points": null,
     "suites": [
      {
       "cases": [
        {
         "code": ">>> np.random.seed(8)\n>>> np.round(one_sample_mean(salaries, 'salary', 100), 3) == 76699.829\nTrue",
         "hidden": false,
         "locked": false
        }
       ],
       "scored": true,
       "setup": "",
       "teardown": "",
       "type": "doctest"
      }
     ]
    },
    "q2_4": {
     "name": "q2_4",
     "points": null,
     "suites": [
      {
       "cases": [
        {
         "code": ">>> \n>>> import hashlib # This imports a hashing library for the autograder.\n>>> def get_hash(num):\n...     \"\"\"Helper function for assessing correctness.\"\"\"\n...     return hashlib.md5(str(num).encode()).hexdigest()\n>>> \n>>> get_hash(set(np.array(q2_4).astype(int))) \n'3649655f87d3a44afa82f25eced24944'",
         "hidden": false,
         "locked": false
        }
       ],
       "scored": true,
       "setup": "",
       "teardown": "",
       "type": "doctest"
      }
     ]
    },
    "q2_5": {
     "name": "q2_5",
     "points": null,
     "suites": [
      {
       "cases": [
        {
         "code": ">>> \n>>> import hashlib # This imports a hashing library for the autograder.\n>>> def get_hash(num):\n...     \"\"\"Helper function for assessing correctness.\"\"\"\n...     return hashlib.md5(str(num).encode()).hexdigest()\n>>> \n>>> get_hash(set(np.array(q2_5).astype(int)))\n'b793dd27381f7b63cada88b749c0e023'",
         "hidden": false,
         "locked": false
        }
       ],
       "scored": true,
       "setup": "",
       "teardown": "",
       "type": "doctest"
      }
     ]
    },
    "q2_6": {
     "name": "q2_6",
     "points": null,
     "suites": [
      {
       "cases": [
        {
         "code": ">>> import hashlib # This imports a hashing library for the autograder.\n>>> def get_hash(num):\n...     \"\"\"Helper function for assessing correctness.\"\"\"\n...     return hashlib.md5(str(num).encode()).hexdigest()\n>>> \n>>> get_hash(int(SD_of_sample_means))\n'eccbc87e4b5ce2fe28308fd9f2a7baf3'",
         "hidden": false,
         "locked": false
        }
       ],
       "scored": true,
       "setup": "",
       "teardown": "",
       "type": "doctest"
      }
     ]
    },
    "q2_7": {
     "name": "q2_7",
     "points": null,
     "suites": [
      {
       "cases": [
        {
         "code": ">>> import hashlib # This imports a hashing library for the autograder.\n>>> def get_hash(num):\n...     \"\"\"Helper function for assessing correctness.\"\"\"\n...     return hashlib.md5(str(num).encode()).hexdigest()\n>>> \n>>> get_hash(set(np.array(pop_vs_sample).astype(int)))\n'1d919a653870c713cf8bd17b9c9c65ee'",
         "hidden": false,
         "locked": false
        }
       ],
       "scored": true,
       "setup": "",
       "teardown": "",
       "type": "doctest"
      }
     ]
    },
    "q2_8": {
     "name": "q2_8",
     "points": null,
     "suites": [
      {
       "cases": [
        {
         "code": ">>> \n>>> import hashlib # This imports a hashing library for the autograder.\n>>> def get_hash(num):\n...     \"\"\"Helper function for assessing correctness.\"\"\"\n...     return hashlib.md5(str(num).encode()).hexdigest()\n>>> \n>>> get_hash(int(q2_8))\n'c4ca4238a0b923820dcc509a6f75849b'",
         "hidden": false,
         "locked": false
        }
       ],
       "scored": true,
       "setup": "",
       "teardown": "",
       "type": "doctest"
      }
     ]
    }
   }
  }
 },
 "nbformat": 4,
 "nbformat_minor": 5
}
