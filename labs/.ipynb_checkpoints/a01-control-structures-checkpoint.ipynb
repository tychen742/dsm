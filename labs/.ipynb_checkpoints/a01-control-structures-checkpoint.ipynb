{
 "cells": [
  {
   "cell_type": "markdown",
   "id": "9785d550-e223-4485-abd0-b3f711c4c985",
   "metadata": {},
   "source": [
    "# a01 Control Structures"
   ]
  },
  {
   "cell_type": "markdown",
   "id": "8e142c87-f6c1-4f8d-a9d5-333296da0b3f",
   "metadata": {},
   "source": [
    "The administrative license suspension period depends on the number of prior DUIs or chemical test refusals: \n",
    "1st DUI: 7-day license suspension\n",
    "2nd DUI: 60-day suspension (or suspended until trial, whichever is sooner) \n",
    "3rd DUI: License suspended until trial\n",
    "\n",
    "Question : Which selection statement should we use in order to develop a control structure for the scenario above? \n",
    "\n",
    "Pick one answer:\n",
    "A. Conditional Execution (if)\n",
    "B. Alternative Execution (if-else)\n",
    "C. Chained Conditional (if-elif-else)\n",
    "D. Nested Conditional "
   ]
  },
  {
   "cell_type": "code",
   "execution_count": null,
   "id": "e87a5642-82b5-4c77-9488-a302432f0def",
   "metadata": {},
   "outputs": [],
   "source": []
  }
 ],
 "metadata": {
  "kernelspec": {
   "display_name": "Python 3 (ipykernel)",
   "language": "python",
   "name": "python3"
  },
  "language_info": {
   "codemirror_mode": {
    "name": "ipython",
    "version": 3
   },
   "file_extension": ".py",
   "mimetype": "text/x-python",
   "name": "python",
   "nbconvert_exporter": "python",
   "pygments_lexer": "ipython3",
   "version": "3.12.2"
  }
 },
 "nbformat": 4,
 "nbformat_minor": 5
}
