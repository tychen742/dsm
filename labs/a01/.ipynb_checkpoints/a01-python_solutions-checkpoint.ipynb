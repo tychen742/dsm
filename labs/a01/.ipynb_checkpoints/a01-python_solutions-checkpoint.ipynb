{
 "cells": [
  {
   "cell_type": "markdown",
   "id": "9785d550-e223-4485-abd0-b3f711c4c985",
   "metadata": {},
   "source": [
    "# a01 List & Control Structures"
   ]
  },
  {
   "cell_type": "markdown",
   "id": "8e142c87-f6c1-4f8d-a9d5-333296da0b3f",
   "metadata": {},
   "source": [
    "## Q1. Conditional Statements\n",
    "- learning objective: Conditional statements\n",
    "### Q1.1. Which Conditional Statement to Use?\n",
    "The administrative license suspension period depends on the number of prior DUIs or chemical test refusals: \n",
    "1. 1st DUI: 7-day license suspension\n",
    "2. 2nd DUI: 60-day suspension (or suspended until trial, whichever is sooner) \n",
    "3. 3rd DUI: License suspended until trial\n",
    "\n",
    "Which selection statement should we use in order to develop a control structure for the scenario above? \n",
    "\n",
    "Pick one answer:\n",
    "1. Conditional Execution (if)\n",
    "2. Alternative Execution (if-else)\n",
    "3. Chained Conditional (if-elif-else)\n",
    "4. Nested Conditional "
   ]
  },
  {
   "cell_type": "code",
   "execution_count": 1,
   "id": "e87a5642-82b5-4c77-9488-a302432f0def",
   "metadata": {},
   "outputs": [
    {
     "data": {
      "text/plain": [
       "3"
      ]
     },
     "execution_count": 1,
     "metadata": {},
     "output_type": "execute_result"
    }
   ],
   "source": [
    "### Answer Q1.1 below\n",
    "3"
   ]
  },
  {
   "cell_type": "markdown",
   "id": "ade4d000-1556-441e-82a6-9b67241a57c9",
   "metadata": {},
   "source": [
    "### Q1.2. Coding\n",
    "Implement the DUI license suspension scenario above. Prepare a conditional statement with the following requirements:\n",
    "1. Ask the user to enter an integer of 1, 2, or 3. (use variable name num)\n",
    "2. Print out the corresponding DUI suspension\n",
    "3. If the user did not enter one of the three numbers, print out \"Please enter 1, 2, or 3\"\n",
    "4. Use 3 to match the answer below"
   ]
  },
  {
   "cell_type": "code",
   "execution_count": 2,
   "id": "2dcccfca-f7f1-4c0b-a307-726e260804b0",
   "metadata": {},
   "outputs": [
    {
     "name": "stdin",
     "output_type": "stream",
     "text": [
      "Enter a number: 1, 2, or 3:  3\n"
     ]
    },
    {
     "name": "stdout",
     "output_type": "stream",
     "text": [
      "3rd DUI: License suspended until trial\n"
     ]
    }
   ],
   "source": [
    "### Answer Q1.2 here\n",
    "\n",
    "num = int(input(\"Enter a number: 1, 2, or 3: \"))\n",
    "if num == 1:\n",
    "    print(\"1st DUI: 7-day license suspension\")\n",
    "elif num == 2:\n",
    "    print(\"2nd DUI: 60-day suspension (or suspended until trial, whichever is sooner)\")\n",
    "elif num == 3:\n",
    "    print(\"3rd DUI: License suspended until trial\")\n",
    "else:\n",
    "    print(\"Please enter 1, 2, or 3\")"
   ]
  },
  {
   "attachments": {},
   "cell_type": "markdown",
   "id": "35858f65-d717-49d4-b250-2d099445014d",
   "metadata": {},
   "source": [
    "## Q2. Learner's Permit\n",
    "- learning objective: conditional\n",
    "  \n",
    "In a certain state, the process of getting a learner's permit is as the flowchart below. Implement this process with Python code."
   ]
  },
  {
   "cell_type": "code",
   "execution_count": 3,
   "id": "f832bbed-aa94-468d-864f-f57c66bbd2ec",
   "metadata": {},
   "outputs": [
    {
     "data": {
      "text/html": [
       "<img src=\"a01-control-structure-learners-permit.png\" width=\"300\" height=\"300\"/>"
      ],
      "text/plain": [
       "<IPython.core.display.Image object>"
      ]
     },
     "execution_count": 3,
     "metadata": {},
     "output_type": "execute_result"
    }
   ],
   "source": [
    "from IPython.display import Image\n",
    "Image(url=\"a01-control-structure-learners-permit.png\", width=300, height=300)"
   ]
  },
  {
   "cell_type": "code",
   "execution_count": 4,
   "id": "de207e84-e7ad-4976-90ad-1fa236efff04",
   "metadata": {},
   "outputs": [],
   "source": [
    "### Code Q.2 here\n",
    "\n",
    "\n",
    "\n",
    "\n",
    "\n",
    "\n"
   ]
  },
  {
   "cell_type": "markdown",
   "id": "d1b23111-8035-44c5-9d9a-4f804ce3cc8e",
   "metadata": {},
   "source": [
    "## Q3. Read a Dictionary\n",
    "- Learning objective: for loop and conditional\n",
    "\n",
    "There is a dictionary file in your a01 folder. Use the following process to learn about the dictionary. "
   ]
  },
  {
   "cell_type": "code",
   "execution_count": 5,
   "id": "58a9efbc-dd25-475d-abde-1ed882ea9c1d",
   "metadata": {},
   "outputs": [],
   "source": [
    "### load the dictionary into a Python object (in memory with type and address and identity)\n",
    "### pay attention to the syntax of loading files.\n",
    "\n",
    "dict = open('dictionary.txt')"
   ]
  },
  {
   "cell_type": "code",
   "execution_count": 6,
   "id": "13ff8ca2-be8b-4eaf-8a07-7d7958d49cf7",
   "metadata": {},
   "outputs": [
    {
     "data": {
      "text/plain": [
       "_io.TextIOWrapper"
      ]
     },
     "execution_count": 6,
     "metadata": {},
     "output_type": "execute_result"
    }
   ],
   "source": [
    "### check the type of the dict object\n",
    "type(dict)"
   ]
  },
  {
   "cell_type": "code",
   "execution_count": 7,
   "id": "2a1b3558-4b8e-4c9e-8d72-4345b6d218e6",
   "metadata": {},
   "outputs": [],
   "source": [
    "### page will halt!!!!!!!!!!!!!!!!!!!!!!!!!!!!!\n",
    "### refresh to quit page\n",
    "### refresh again to get back to the page\n",
    "\n",
    "# for line in dict: \n",
    "#     print(line)"
   ]
  },
  {
   "cell_type": "code",
   "execution_count": 8,
   "id": "108af854-acc1-4e34-9393-ad88dc59e411",
   "metadata": {},
   "outputs": [],
   "source": [
    "### how many words are there in the dict? \n",
    "### create a count variable and assign it as 0\n",
    "### open the dictionary file and assign it to a variable text\n",
    "### use a for loop with line as the loop variable and the in keyword to loop through text\")\n",
    "### use count += to increment\n",
    "\n",
    "count = 0\n",
    "text = open(\"dictionary.txt\")\n",
    "for line in text:\n",
    "    count = count + 1"
   ]
  },
  {
   "cell_type": "code",
   "execution_count": 9,
   "id": "b1a1cb13-08a4-41ca-95e0-81f4fc873da0",
   "metadata": {},
   "outputs": [
    {
     "data": {
      "text/plain": [
       "113783"
      ]
     },
     "execution_count": 9,
     "metadata": {},
     "output_type": "execute_result"
    }
   ],
   "source": [
    "### do the count\n",
    "count"
   ]
  },
  {
   "cell_type": "code",
   "execution_count": 10,
   "id": "f98e45ab-fb92-4425-87ca-7d6eeed125c3",
   "metadata": {},
   "outputs": [],
   "source": [
    "### comment out the code in the cell above\n",
    "### cast file type to Python list, call it dict_list\n",
    "dict_list = list(dict)"
   ]
  },
  {
   "cell_type": "code",
   "execution_count": 11,
   "id": "acaa4d10-35e1-45ca-a4da-9d12552f3965",
   "metadata": {},
   "outputs": [
    {
     "data": {
      "text/plain": [
       "list"
      ]
     },
     "execution_count": 11,
     "metadata": {},
     "output_type": "execute_result"
    }
   ],
   "source": [
    "### check the new type of dict_list\n",
    "type(dict_list)"
   ]
  },
  {
   "cell_type": "code",
   "execution_count": 12,
   "id": "2bde7857-c515-40b7-ade4-f6954d79d0c4",
   "metadata": {},
   "outputs": [
    {
     "data": {
      "text/plain": [
       "'aa\\n'"
      ]
     },
     "execution_count": 12,
     "metadata": {},
     "output_type": "execute_result"
    }
   ],
   "source": [
    "### check the first word in dict_list\n",
    "dict_list[0]"
   ]
  },
  {
   "cell_type": "code",
   "execution_count": 13,
   "id": "35c3220c-ca04-4d29-a525-e3c9a32e1c73",
   "metadata": {},
   "outputs": [
    {
     "data": {
      "text/plain": [
       "['aa\\n',\n",
       " 'aah\\n',\n",
       " 'aahed\\n',\n",
       " 'aahing\\n',\n",
       " 'aahs\\n',\n",
       " 'aal\\n',\n",
       " 'aalii\\n',\n",
       " 'aaliis\\n',\n",
       " 'aals\\n',\n",
       " 'aardvark\\n']"
      ]
     },
     "execution_count": 13,
     "metadata": {},
     "output_type": "execute_result"
    }
   ],
   "source": [
    "### Use list slicing to list the first 10 words\n",
    "dict_list[0:10]"
   ]
  },
  {
   "cell_type": "code",
   "execution_count": 14,
   "id": "6c5ae37d-c116-4128-b8a8-8b83051abdfe",
   "metadata": {},
   "outputs": [
    {
     "data": {
      "text/plain": [
       "113783"
      ]
     },
     "execution_count": 14,
     "metadata": {},
     "output_type": "execute_result"
    }
   ],
   "source": [
    "### how many words are there in the dict? (use len() function)\n",
    "len(dict_list)"
   ]
  },
  {
   "cell_type": "code",
   "execution_count": 15,
   "id": "8df7ea2e-95e0-4caf-bf6f-c626a735d15b",
   "metadata": {},
   "outputs": [],
   "source": [
    "### remove the '\\n' in the first 1000 words (create an empty list, call it dict_list)\n",
    "### use a for loop with range and the append and strip methods\n",
    "dict_1000 = []\n",
    "for i in range(1000):\n",
    "    dict_1000.append(dict_list[i].strip(\"\\n\"))"
   ]
  },
  {
   "cell_type": "code",
   "execution_count": 16,
   "id": "7ff9fb02-ec15-47b0-a572-a85a07915571",
   "metadata": {},
   "outputs": [
    {
     "data": {
      "text/plain": [
       "['abashes', 'abashing', 'abasing', 'abatable', 'abate', 'abated']"
      ]
     },
     "execution_count": 16,
     "metadata": {},
     "output_type": "execute_result"
    }
   ],
   "source": [
    "### check the dict_list's 50th to 55th words with no \\n (use slicing)\n",
    "dict_1000[49:55]"
   ]
  },
  {
   "cell_type": "code",
   "execution_count": 17,
   "id": "733efab2-051f-49fd-b9cc-888e806d2f45",
   "metadata": {},
   "outputs": [],
   "source": [
    "### clean up \\n for the whole dictionary, call it dict_clean\n",
    "dict_clean = []\n",
    "for i in range(len(dict_list)):\n",
    "    dict_clean.append(dict_list[i].strip(\"\\n\"))    "
   ]
  },
  {
   "cell_type": "code",
   "execution_count": 18,
   "id": "5425b12d-23c6-4771-9e28-110504a1465b",
   "metadata": {},
   "outputs": [
    {
     "data": {
      "text/plain": [
       "['zymogene',\n",
       " 'zymogenes',\n",
       " 'zymogens',\n",
       " 'zymologies',\n",
       " 'zymology',\n",
       " 'zymoses',\n",
       " 'zymosis',\n",
       " 'zymotic',\n",
       " 'zymurgies']"
      ]
     },
     "execution_count": 18,
     "metadata": {},
     "output_type": "execute_result"
    }
   ],
   "source": [
    "### check the last 10 words of dict_clean (negative indexing + slicing)\n",
    "dict_clean[-10:-1]"
   ]
  },
  {
   "cell_type": "code",
   "execution_count": 19,
   "id": "4e010146-841e-4f56-a03b-dc4cc4179c01",
   "metadata": {},
   "outputs": [
    {
     "name": "stdout",
     "output_type": "stream",
     "text": [
      "-1 -2 -3 -4 -5 -6 -7 -8 -9 "
     ]
    }
   ],
   "source": [
    "### use range (negative start, stop, step) to print the number below with end=\" \"\n",
    "\n",
    "for i in range(-1, -10, -1):\n",
    "    print(i, end=\" \")"
   ]
  },
  {
   "cell_type": "code",
   "execution_count": 20,
   "id": "b6fc4444-1057-47e1-9651-63afce7e232b",
   "metadata": {},
   "outputs": [
    {
     "name": "stdout",
     "output_type": "stream",
     "text": [
      "zymurgy zymurgies zymotic zymosis zymoses zymology zymologies zymogens zymogenes "
     ]
    }
   ],
   "source": [
    "### print out the last 10 words in one line (use a for loop with range and negative indexing)\n",
    "\n",
    "for i in range(-1, -10, -1):\n",
    "    print(dict_clean[i], end=\" \")"
   ]
  },
  {
   "cell_type": "code",
   "execution_count": 21,
   "id": "6f62715f-f13b-4093-9d5c-e44228f69899",
   "metadata": {},
   "outputs": [],
   "source": [
    "### write a function to check if a word is in the dict_clean; call it check_word()\n",
    "### \n",
    "### If yes, print \"found it!\"; if not, print \"not found\"\n",
    "\n",
    "def check_word( word ):\n",
    "    if word in dict_clean:\n",
    "        print(f\"found {word}\")\n",
    "    else:\n",
    "        print(f\"{word} not found\")"
   ]
  },
  {
   "cell_type": "code",
   "execution_count": 22,
   "id": "22c40088-1785-464f-b539-f370ba1df904",
   "metadata": {},
   "outputs": [
    {
     "name": "stdout",
     "output_type": "stream",
     "text": [
      "found zymogens\n",
      "found good\n",
      "found git\n",
      "yolo not found\n"
     ]
    }
   ],
   "source": [
    "### call the function. \n",
    "### Use \"zymogens\", \"good\", \"bit\", and \"yolo\" as a test cases\n",
    "check_word(\"zymogens\")\n",
    "check_word(\"good\")\n",
    "check_word(\"git\")\n",
    "check_word(\"yolo\")"
   ]
  },
  {
   "cell_type": "code",
   "execution_count": null,
   "id": "5b802901-f12c-46f3-ae33-704b0850d33d",
   "metadata": {},
   "outputs": [],
   "source": []
  }
 ],
 "metadata": {
  "kernelspec": {
   "display_name": "Python 3 (ipykernel)",
   "language": "python",
   "name": "python3"
  },
  "language_info": {
   "codemirror_mode": {
    "name": "ipython",
    "version": 3
   },
   "file_extension": ".py",
   "mimetype": "text/x-python",
   "name": "python",
   "nbconvert_exporter": "python",
   "pygments_lexer": "ipython3",
   "version": "3.12.2"
  }
 },
 "nbformat": 4,
 "nbformat_minor": 5
}
