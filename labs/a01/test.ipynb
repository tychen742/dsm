{
 "cells": [
  {
   "cell_type": "code",
   "execution_count": 10,
   "id": "f4a82d1f-6cea-487c-b414-f2b4a167759e",
   "metadata": {},
   "outputs": [],
   "source": [
    "text = open(\"words.txt\")"
   ]
  },
  {
   "cell_type": "code",
   "execution_count": 11,
   "id": "aaf6fad3-4e1d-4d71-833d-9873b1185f5d",
   "metadata": {},
   "outputs": [
    {
     "data": {
      "text/plain": [
       "_io.TextIOWrapper"
      ]
     },
     "execution_count": 11,
     "metadata": {},
     "output_type": "execute_result"
    }
   ],
   "source": [
    "type(text)"
   ]
  },
  {
   "cell_type": "code",
   "execution_count": 15,
   "id": "ed8e04f2-fb91-4b09-a50c-b4c24be5ca7b",
   "metadata": {},
   "outputs": [],
   "source": [
    "count = 0\n",
    "for line in text:\n",
    "    count = count + 1"
   ]
  },
  {
   "cell_type": "code",
   "execution_count": 16,
   "id": "40c6dcea-93b3-4161-983b-53fabec99aca",
   "metadata": {},
   "outputs": [
    {
     "data": {
      "text/plain": [
       "0"
      ]
     },
     "execution_count": 16,
     "metadata": {},
     "output_type": "execute_result"
    }
   ],
   "source": [
    "count"
   ]
  },
  {
   "cell_type": "code",
   "execution_count": 21,
   "id": "806821be-dde3-43cc-b6a3-b2393c6c06e8",
   "metadata": {},
   "outputs": [],
   "source": [
    "text = list(text)"
   ]
  },
  {
   "cell_type": "code",
   "execution_count": 22,
   "id": "b63c0a7c-cb34-4e9c-b8f3-c183fd5d060b",
   "metadata": {},
   "outputs": [
    {
     "data": {
      "text/plain": [
       "list"
      ]
     },
     "execution_count": 22,
     "metadata": {},
     "output_type": "execute_result"
    }
   ],
   "source": [
    "type(text)"
   ]
  },
  {
   "cell_type": "code",
   "execution_count": 23,
   "id": "d4c4dc56-b324-4ff0-aa39-342be87aa904",
   "metadata": {},
   "outputs": [
    {
     "data": {
      "text/plain": [
       "'TT'"
      ]
     },
     "execution_count": 23,
     "metadata": {},
     "output_type": "execute_result"
    },
    {
     "name": "stdout",
     "output_type": "stream",
     "text": [
      "The history saving thread hit an unexpected error (OperationalError('attempt to write a readonly database')).History will not be written to the database.\n"
     ]
    }
   ],
   "source": [
    "\"tt\".upper()"
   ]
  },
  {
   "cell_type": "code",
   "execution_count": null,
   "id": "3263d009-0160-43d6-91a8-d28ec7b5d968",
   "metadata": {},
   "outputs": [],
   "source": []
  }
 ],
 "metadata": {
  "kernelspec": {
   "display_name": "Python 3 (ipykernel)",
   "language": "python",
   "name": "python3"
  },
  "language_info": {
   "codemirror_mode": {
    "name": "ipython",
    "version": 3
   },
   "file_extension": ".py",
   "mimetype": "text/x-python",
   "name": "python",
   "nbconvert_exporter": "python",
   "pygments_lexer": "ipython3",
   "version": "3.12.2"
  }
 },
 "nbformat": 4,
 "nbformat_minor": 5
}
